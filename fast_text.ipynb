{
 "cells": [
  {
   "cell_type": "code",
   "execution_count": 18,
   "metadata": {
    "ExecuteTime": {
     "end_time": "2017-10-02T19:23:12.100288Z",
     "start_time": "2017-10-02T19:23:12.095486Z"
    },
    "collapsed": true
   },
   "outputs": [],
   "source": [
    "from common import *\n",
    "from gensim.models.wrappers import FastText\n",
    "\n",
    "import io"
   ]
  },
  {
   "cell_type": "code",
   "execution_count": 45,
   "metadata": {
    "ExecuteTime": {
     "end_time": "2017-10-02T20:16:40.424375Z",
     "start_time": "2017-10-02T19:45:20.889365Z"
    },
    "collapsed": true
   },
   "outputs": [],
   "source": [
    "# with io.open('../data/corpus_raw.txt', 'r', encoding='utf-8') as fr:\n",
    "#     with io.open('../data/_corpus_raw.txt', 'w', encoding='utf-8') as fw:\n",
    "#         for line in fr:\n",
    "#             new_line = tokenize(line.lower())\n",
    "#             if len(new_line):\n",
    "#                 fw.write(' '.join(new_line) + u'\\n')"
   ]
  },
  {
   "cell_type": "code",
   "execution_count": null,
   "metadata": {
    "ExecuteTime": {
     "start_time": "2017-10-02T20:20:43.528Z"
    },
    "collapsed": true,
    "scrolled": true
   },
   "outputs": [],
   "source": [
    "model = FastText.train('/root/fastText/fasttext', '../data/_corpus_raw.txt', \n",
    "                       size=100, \n",
    "                       model='skipgram',\n",
    "                       window=5, \n",
    "                       min_count=5, \n",
    "                       iter=5,\n",
    "                       threads=cpu_count)"
   ]
  },
  {
   "cell_type": "code",
   "execution_count": null,
   "metadata": {
    "collapsed": true
   },
   "outputs": [],
   "source": [
    "most = model.most_similar(u'стол')\n",
    "for w, score in most:\n",
    "    print(w + ', %s' % score)"
   ]
  }
 ],
 "metadata": {
  "kernelspec": {
   "display_name": "Python 2",
   "language": "python",
   "name": "python2"
  },
  "language_info": {
   "codemirror_mode": {
    "name": "ipython",
    "version": 2
   },
   "file_extension": ".py",
   "mimetype": "text/x-python",
   "name": "python",
   "nbconvert_exporter": "python",
   "pygments_lexer": "ipython2",
   "version": "2.7.12"
  }
 },
 "nbformat": 4,
 "nbformat_minor": 2
}
