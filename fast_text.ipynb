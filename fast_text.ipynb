{
 "cells": [
  {
   "cell_type": "code",
   "execution_count": 3,
   "metadata": {
    "ExecuteTime": {
     "end_time": "2017-10-03T08:31:22.580394Z",
     "start_time": "2017-10-03T08:31:13.937430Z"
    },
    "collapsed": true
   },
   "outputs": [],
   "source": [
    "from common import *\n",
    "from gensim.models.wrappers import FastText\n",
    "\n",
    "import io"
   ]
  },
  {
   "cell_type": "code",
   "execution_count": 45,
   "metadata": {
    "ExecuteTime": {
     "end_time": "2017-10-02T20:16:40.424375Z",
     "start_time": "2017-10-02T19:45:20.889365Z"
    },
    "collapsed": true
   },
   "outputs": [],
   "source": [
    "# with io.open('../data/corpus_raw.txt', 'r', encoding='utf-8') as fr:\n",
    "#     with io.open('../data/_corpus_raw.txt', 'w', encoding='utf-8') as fw:\n",
    "#         for line in fr:\n",
    "#             new_line = tokenize(line.lower())\n",
    "#             if len(new_line):\n",
    "#                 fw.write(' '.join(new_line) + u'\\n')"
   ]
  },
  {
   "cell_type": "code",
   "execution_count": 1,
   "metadata": {
    "ExecuteTime": {
     "end_time": "2017-10-03T08:30:13.025618Z",
     "start_time": "2017-10-03T08:30:13.020990Z"
    },
    "collapsed": true,
    "scrolled": true
   },
   "outputs": [],
   "source": [
    "# model = FastText.train('/root/fastText/fasttext', '../data/_corpus_raw.txt', \n",
    "#                        size=100, \n",
    "#                        model='skipgram',\n",
    "#                        window=5, \n",
    "#                        min_count=5, \n",
    "#                        iter=5,\n",
    "#                        threads=cpu_count)"
   ]
  },
  {
   "cell_type": "code",
   "execution_count": 5,
   "metadata": {
    "ExecuteTime": {
     "end_time": "2017-10-03T08:42:32.564403Z",
     "start_time": "2017-10-03T08:31:36.969269Z"
    }
   },
   "outputs": [
    {
     "name": "stderr",
     "output_type": "stream",
     "text": [
      "2017-10-03 11:31:36,971 [MainThread  ] [INFO ]  loading projection weights from ../data/ft_output.vec\n",
      "2017-10-03 11:42:32,561 [MainThread  ] [INFO ]  loaded (3648917, 100) matrix from ../data/ft_output.vec\n"
     ]
    }
   ],
   "source": [
    "model = gensim.models.KeyedVectors.load_word2vec_format('../data/ft_output.vec')"
   ]
  },
  {
   "cell_type": "code",
   "execution_count": 6,
   "metadata": {
    "ExecuteTime": {
     "end_time": "2017-10-03T08:42:38.080550Z",
     "start_time": "2017-10-03T08:42:32.567134Z"
    },
    "scrolled": true
   },
   "outputs": [
    {
     "name": "stderr",
     "output_type": "stream",
     "text": [
      "2017-10-03 11:42:32,580 [MainThread  ] [INFO ]  precomputing L2-norms of word weight vectors\n"
     ]
    },
    {
     "name": "stdout",
     "output_type": "stream",
     "text": [
      "стол,, 0.882844150066\n",
      "столик, 0.872067809105\n",
      "стол-рольганг, 0.834802746773\n",
      "столом, 0.83262771368\n",
      "стол-штатив, 0.828676521778\n",
      "стола, 0.813986182213\n",
      "стол-лоток, 0.813705742359\n",
      "стол., 0.810664772987\n",
      "стол-стеллаж, 0.808469176292\n",
      "стол), 0.803629040718\n"
     ]
    }
   ],
   "source": [
    "most = model.most_similar(u'стол')\n",
    "for w, score in most:\n",
    "    print(w + ', %s' % score)"
   ]
  },
  {
   "cell_type": "code",
   "execution_count": 7,
   "metadata": {
    "ExecuteTime": {
     "end_time": "2017-10-03T08:44:52.110770Z",
     "start_time": "2017-10-03T08:44:52.092972Z"
    },
    "collapsed": true
   },
   "outputs": [],
   "source": [
    "with open(join(DATA_FOLDER, 'gold_mongo.json'), 'r') as f:\n",
    "    gold = json.load(f)"
   ]
  },
  {
   "cell_type": "code",
   "execution_count": 10,
   "metadata": {
    "ExecuteTime": {
     "end_time": "2017-10-03T08:45:25.822590Z",
     "start_time": "2017-10-03T08:45:25.806004Z"
    },
    "collapsed": true
   },
   "outputs": [],
   "source": [
    "def predict(keys, lim=200):\n",
    "    names = pd.Series(range(len(fnames)), index = fnames)\n",
    "    test_vecs = []\n",
    "    for k in keys:\n",
    "        ix = names[k]\n",
    "        if isinstance(ix, pd.Series):\n",
    "            ix = ix[0]\n",
    "        tvec = doc_embeds_reshaped[ix]\n",
    "        test_vecs.append(tvec)\n",
    "\n",
    "    dists = euclidean_distances(test_vecs, doc_embeds_reshaped)\n",
    "    sorted_ixs = np.argsort(dists, axis=1)\n",
    "    preds = {}\n",
    "    for k, _ixs in zip(keys, sorted_ixs):\n",
    "        preds[k] = [n for n in fnames[_ixs[1:lim+1]]]\n",
    "        \n",
    "    return preds"
   ]
  },
  {
   "cell_type": "code",
   "execution_count": 11,
   "metadata": {
    "ExecuteTime": {
     "end_time": "2017-10-03T08:45:35.666746Z",
     "start_time": "2017-10-03T08:45:35.632397Z"
    }
   },
   "outputs": [
    {
     "ename": "NameError",
     "evalue": "global name 'fnames' is not defined",
     "output_type": "error",
     "traceback": [
      "\u001b[0;31m\u001b[0m",
      "\u001b[0;31mNameError\u001b[0mTraceback (most recent call last)",
      "\u001b[0;32m<ipython-input-11-3cce459b5640>\u001b[0m in \u001b[0;36m<module>\u001b[0;34m()\u001b[0m\n\u001b[0;32m----> 1\u001b[0;31m \u001b[0mpreds\u001b[0m \u001b[0;34m=\u001b[0m \u001b[0mpredict\u001b[0m\u001b[0;34m(\u001b[0m\u001b[0mgold\u001b[0m\u001b[0;34m.\u001b[0m\u001b[0mkeys\u001b[0m\u001b[0;34m(\u001b[0m\u001b[0;34m)\u001b[0m\u001b[0;34m,\u001b[0m \u001b[0mlim\u001b[0m\u001b[0;34m=\u001b[0m\u001b[0;36m200\u001b[0m\u001b[0;34m)\u001b[0m\u001b[0;34m\u001b[0m\u001b[0m\n\u001b[0m",
      "\u001b[0;32m<ipython-input-10-9d900aba3191>\u001b[0m in \u001b[0;36mpredict\u001b[0;34m(keys, lim)\u001b[0m\n\u001b[1;32m      1\u001b[0m \u001b[0;32mdef\u001b[0m \u001b[0mpredict\u001b[0m\u001b[0;34m(\u001b[0m\u001b[0mkeys\u001b[0m\u001b[0;34m,\u001b[0m \u001b[0mlim\u001b[0m\u001b[0;34m=\u001b[0m\u001b[0;36m200\u001b[0m\u001b[0;34m)\u001b[0m\u001b[0;34m:\u001b[0m\u001b[0;34m\u001b[0m\u001b[0m\n\u001b[0;32m----> 2\u001b[0;31m     \u001b[0mnames\u001b[0m \u001b[0;34m=\u001b[0m \u001b[0mpd\u001b[0m\u001b[0;34m.\u001b[0m\u001b[0mSeries\u001b[0m\u001b[0;34m(\u001b[0m\u001b[0mrange\u001b[0m\u001b[0;34m(\u001b[0m\u001b[0mlen\u001b[0m\u001b[0;34m(\u001b[0m\u001b[0mfnames\u001b[0m\u001b[0;34m)\u001b[0m\u001b[0;34m)\u001b[0m\u001b[0;34m,\u001b[0m \u001b[0mindex\u001b[0m \u001b[0;34m=\u001b[0m \u001b[0mfnames\u001b[0m\u001b[0;34m)\u001b[0m\u001b[0;34m\u001b[0m\u001b[0m\n\u001b[0m\u001b[1;32m      3\u001b[0m     \u001b[0mtest_vecs\u001b[0m \u001b[0;34m=\u001b[0m \u001b[0;34m[\u001b[0m\u001b[0;34m]\u001b[0m\u001b[0;34m\u001b[0m\u001b[0m\n\u001b[1;32m      4\u001b[0m     \u001b[0;32mfor\u001b[0m \u001b[0mk\u001b[0m \u001b[0;32min\u001b[0m \u001b[0mkeys\u001b[0m\u001b[0;34m:\u001b[0m\u001b[0;34m\u001b[0m\u001b[0m\n\u001b[1;32m      5\u001b[0m         \u001b[0mix\u001b[0m \u001b[0;34m=\u001b[0m \u001b[0mnames\u001b[0m\u001b[0;34m[\u001b[0m\u001b[0mk\u001b[0m\u001b[0;34m]\u001b[0m\u001b[0;34m\u001b[0m\u001b[0m\n",
      "\u001b[0;31mNameError\u001b[0m: global name 'fnames' is not defined"
     ]
    }
   ],
   "source": [
    "preds = predict(gold.keys(), lim=200)"
   ]
  },
  {
   "cell_type": "code",
   "execution_count": null,
   "metadata": {
    "collapsed": true
   },
   "outputs": [],
   "source": [
    "result = evaluate(preds, gold)\n",
    "\n",
    "ax = result['acc10'].hist()\n",
    "ax.set_xlabel(\"acc10\")\n",
    "plt.show()\n",
    "\n",
    "ax = result['acc20'].hist()\n",
    "ax.set_xlabel(\"acc20\")\n",
    "plt.show()\n",
    "\n",
    "ax = result['acc200'].hist()\n",
    "ax.set_xlabel(\"acc200\")\n",
    "plt.show()"
   ]
  }
 ],
 "metadata": {
  "kernelspec": {
   "display_name": "Python 2",
   "language": "python",
   "name": "python2"
  },
  "language_info": {
   "codemirror_mode": {
    "name": "ipython",
    "version": 2
   },
   "file_extension": ".py",
   "mimetype": "text/x-python",
   "name": "python",
   "nbconvert_exporter": "python",
   "pygments_lexer": "ipython2",
   "version": "2.7.12"
  }
 },
 "nbformat": 4,
 "nbformat_minor": 2
}
