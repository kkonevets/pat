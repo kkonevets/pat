{
 "cells": [
  {
   "cell_type": "code",
   "execution_count": 96,
   "metadata": {
    "ExecuteTime": {
     "end_time": "2017-10-04T06:41:13.846457Z",
     "start_time": "2017-10-04T06:41:13.840161Z"
    },
    "scrolled": true
   },
   "outputs": [],
   "source": [
    "from common import *\n",
    "from gensim.models.wrappers import FastText\n",
    "from matplotlib import pyplot as plt\n",
    "\n",
    "import io\n",
    "from sklearn.metrics.pairwise import euclidean_distances"
   ]
  },
  {
   "cell_type": "code",
   "execution_count": 6,
   "metadata": {
    "ExecuteTime": {
     "end_time": "2017-10-03T21:17:55.835306Z",
     "start_time": "2017-10-03T21:02:09.494775Z"
    },
    "collapsed": true
   },
   "outputs": [],
   "source": [
    "import ujson\n",
    "\n",
    "with GzipFile('../data/corpus_json.txt.gz', 'r') as fr:\n",
    "    with io.open('../data/corpus_ft.txt', 'w', encoding='utf8') as fw:\n",
    "        for line in fr:\n",
    "            _id, sents = ujson.loads(line)\n",
    "            text = u' '.join([u' '.join(s) for s in sents])\n",
    "            fw.write(text)"
   ]
  },
  {
   "cell_type": "code",
   "execution_count": 1,
   "metadata": {
    "ExecuteTime": {
     "end_time": "2017-10-03T08:30:13.025618Z",
     "start_time": "2017-10-03T08:30:13.020990Z"
    },
    "collapsed": true,
    "scrolled": true
   },
   "outputs": [],
   "source": [
    "# model = FastText.train('/root/fastText/fasttext', '../data/_corpus_raw.txt', \n",
    "#                        size=100, \n",
    "#                        model='skipgram',\n",
    "#                        window=5, \n",
    "#                        min_count=5, \n",
    "#                        iter=5,\n",
    "#                        threads=cpu_count)"
   ]
  },
  {
   "cell_type": "code",
   "execution_count": 8,
   "metadata": {
    "ExecuteTime": {
     "end_time": "2017-10-04T04:04:16.670941Z",
     "start_time": "2017-10-04T03:58:44.887515Z"
    },
    "scrolled": true
   },
   "outputs": [
    {
     "name": "stderr",
     "output_type": "stream",
     "text": [
      "2017-10-04 06:58:44,891 [MainThread  ] [INFO ]  loading projection weights from ../data/ft_output.vec\n",
      "2017-10-04 07:04:16,667 [MainThread  ] [INFO ]  loaded (1750013, 100) matrix from ../data/ft_output.vec\n"
     ]
    }
   ],
   "source": [
    "model = gensim.models.KeyedVectors.load_word2vec_format('../data/ft_output.vec')"
   ]
  },
  {
   "cell_type": "code",
   "execution_count": 12,
   "metadata": {
    "ExecuteTime": {
     "end_time": "2017-10-04T04:06:11.576724Z",
     "start_time": "2017-10-04T04:06:11.464979Z"
    }
   },
   "outputs": [
    {
     "name": "stdout",
     "output_type": "stream",
     "text": [
      "столешница, 0.850950598717\n",
      "столик, 0.845724821091\n",
      "столешня, 0.836186289787\n",
      "столешник, 0.828145384789\n",
      "столешнище, 0.825657963753\n",
      "стол-держатель, 0.816149771214\n",
      "стол-тележка, 0.811580240726\n",
      "стол-станина, 0.80703753233\n",
      "стол-каталка, 0.80609112978\n",
      "столиковый, 0.805907487869\n"
     ]
    }
   ],
   "source": [
    "most = model.most_similar(u'стол', topn=10)\n",
    "for w, score in most:\n",
    "    print(w + ', %s' % score)"
   ]
  },
  {
   "cell_type": "code",
   "execution_count": 13,
   "metadata": {
    "ExecuteTime": {
     "end_time": "2017-10-04T04:06:15.074586Z",
     "start_time": "2017-10-04T04:06:15.045033Z"
    },
    "collapsed": true
   },
   "outputs": [],
   "source": [
    "with open(join(DATA_FOLDER, 'gold_mongo.json'), 'r') as f:\n",
    "    gold = json.load(f)"
   ]
  },
  {
   "cell_type": "code",
   "execution_count": 15,
   "metadata": {
    "ExecuteTime": {
     "end_time": "2017-10-04T04:07:06.387375Z",
     "start_time": "2017-10-04T04:07:06.383508Z"
    },
    "collapsed": true
   },
   "outputs": [],
   "source": [
    "wv = model.wv"
   ]
  },
  {
   "cell_type": "code",
   "execution_count": null,
   "metadata": {
    "ExecuteTime": {
     "start_time": "2017-10-04T04:57:14.925Z"
    }
   },
   "outputs": [
    {
     "data": {
      "application/vnd.jupyter.widget-view+json": {
       "model_id": "c6667237bc9d4551b05302b12562c625"
      }
     },
     "metadata": {},
     "output_type": "display_data"
    }
   ],
   "source": [
    "vecs = []\n",
    "ids = []\n",
    "with GzipFile('../data/corpus_json.txt.gz', 'r') as fr:\n",
    "    for line in tqdm_notebook(fr):\n",
    "        _id, sents = ujson.loads(line)\n",
    "        word_vecs = np.array([wv[w] for s in sents for w in s if w in wv], dtype=np.float32)\n",
    "        if len(word_vecs):\n",
    "            doc_vec = word_vecs.mean(axis=0)\n",
    "            vecs.append(doc_vec)\n",
    "            ids.append(_id)"
   ]
  },
  {
   "cell_type": "code",
   "execution_count": null,
   "metadata": {
    "ExecuteTime": {
     "start_time": "2017-10-04T05:03:06.658Z"
    },
    "collapsed": true
   },
   "outputs": [],
   "source": [
    "# np.save('../data/saved/vecs_ft.npy', vecs)\n",
    "# np.save('../data/saved/ids_ft.npy', ids)"
   ]
  },
  {
   "cell_type": "code",
   "execution_count": 89,
   "metadata": {
    "ExecuteTime": {
     "end_time": "2017-10-04T06:39:24.951421Z",
     "start_time": "2017-10-04T06:39:23.905957Z"
    },
    "collapsed": true
   },
   "outputs": [],
   "source": [
    "vecs = np.load('../data/saved/vecs_ft.npy')\n",
    "ids = np.load('../data/saved/ids_ft.npy')"
   ]
  },
  {
   "cell_type": "code",
   "execution_count": 90,
   "metadata": {
    "ExecuteTime": {
     "end_time": "2017-10-04T06:39:27.703839Z",
     "start_time": "2017-10-04T06:39:27.689810Z"
    },
    "collapsed": true
   },
   "outputs": [],
   "source": [
    "def predict(keys, lim=200):\n",
    "    names = pd.Series(range(len(ids)), index = ids)\n",
    "    test_vecs = []\n",
    "    for k in keys:\n",
    "        ix = names[k]\n",
    "        if isinstance(ix, pd.Series):\n",
    "            ix = ix[0]\n",
    "        tvec = vecs[ix]\n",
    "        test_vecs.append(tvec)\n",
    "\n",
    "    dists = euclidean_distances(test_vecs, vecs)\n",
    "    sorted_ixs = np.argsort(dists, axis=1)\n",
    "    preds = {}\n",
    "    for k, _ixs in zip(keys, sorted_ixs):\n",
    "        preds[k] = [n for n in ids[_ixs[1:lim+1]]]\n",
    "        \n",
    "    return preds"
   ]
  },
  {
   "cell_type": "code",
   "execution_count": 91,
   "metadata": {
    "ExecuteTime": {
     "end_time": "2017-10-04T06:40:21.000428Z",
     "start_time": "2017-10-04T06:39:36.198195Z"
    }
   },
   "outputs": [],
   "source": [
    "preds = predict(gold.keys(), lim=200)"
   ]
  },
  {
   "cell_type": "code",
   "execution_count": 98,
   "metadata": {
    "ExecuteTime": {
     "end_time": "2017-10-04T06:41:19.268015Z",
     "start_time": "2017-10-04T06:41:18.578401Z"
    }
   },
   "outputs": [
    {
     "name": "stderr",
     "output_type": "stream",
     "text": [
      "100%|██████████| 184/184 [00:00<00:00, 25473.72it/s]\n"
     ]
    },
    {
     "name": "stdout",
     "output_type": "stream",
     "text": [
      "median\n",
      "acc10     0.0\n",
      "acc20     0.0\n",
      "acc200    0.5\n",
      "dtype: float64\n",
      "mean\n",
      "acc10     0.267391\n",
      "acc20     0.327174\n",
      "acc200    0.543841\n",
      "dtype: float64\n"
     ]
    },
    {
     "data": {
      "image/png": "[encoded data removed]",
      "text/plain": [
       "<matplotlib.figure.Figure at 0x7f31a21a6590>"
      ]
     },
     "metadata": {},
     "output_type": "display_data"
    },
    {
     "data": {
      "image/png": "[encoded data removed]",
      "text/plain": [
       "<matplotlib.figure.Figure at 0x7f3192b79e50>"
      ]
     },
     "metadata": {},
     "output_type": "display_data"
    },
    {
     "data": {
      "image/png": "[encoded data removed]",
      "text/plain": [
       "<matplotlib.figure.Figure at 0x7f319817a7d0>"
      ]
     },
     "metadata": {},
     "output_type": "display_data"
    }
   ],
   "source": [
    "result = evaluate(preds, gold)\n",
    "\n",
    "ax = result['acc10'].hist()\n",
    "ax.set_xlabel(\"acc10\")\n",
    "plt.show()\n",
    "\n",
    "ax = result['acc20'].hist()\n",
    "ax.set_xlabel(\"acc20\")\n",
    "plt.show()\n",
    "\n",
    "ax = result['acc200'].hist()\n",
    "ax.set_xlabel(\"acc200\")\n",
    "plt.show()"
   ]
  }
 ],
 "metadata": {
  "kernelspec": {
   "display_name": "Python 2",
   "language": "python",
   "name": "python2"
  },
  "language_info": {
   "codemirror_mode": {
    "name": "ipython",
    "version": 2
   },
   "file_extension": ".py",
   "mimetype": "text/x-python",
   "name": "python",
   "nbconvert_exporter": "python",
   "pygments_lexer": "ipython2",
   "version": "2.7.12"
  }
 },
 "nbformat": 4,
 "nbformat_minor": 2
}
