{
 "cells": [
  {
   "cell_type": "code",
   "execution_count": 1,
   "metadata": {
    "ExecuteTime": {
     "end_time": "2017-07-28T16:16:33.091784Z",
     "start_time": "2017-07-28T16:16:27.714297Z"
    },
    "scrolled": true
   },
   "outputs": [],
   "source": [
    "from common import *"
   ]
  },
  {
   "cell_type": "markdown",
   "metadata": {},
   "source": [
    "# Load data"
   ]
  },
  {
   "cell_type": "code",
   "execution_count": 2,
   "metadata": {
    "ExecuteTime": {
     "end_time": "2017-07-28T16:16:41.456314Z",
     "start_time": "2017-07-28T16:16:33.095886Z"
    }
   },
   "outputs": [
    {
     "name": "stderr",
     "output_type": "stream",
     "text": [
      "2017-07-28 19:16:33,099 : INFO : loading Word2Vec object from ../data/vectors/w2v_model_300_w10\n",
      "2017-07-28 19:16:36,995 : INFO : loading wv recursively from ../data/vectors/w2v_model_300_w10.wv.* with mmap=None\n",
      "2017-07-28 19:16:36,998 : INFO : loading syn0 from ../data/vectors/w2v_model_300_w10.wv.syn0.npy with mmap=None\n",
      "2017-07-28 19:16:37,558 : INFO : setting ignored attribute syn0norm to None\n",
      "2017-07-28 19:16:37,563 : INFO : loading syn1neg from ../data/vectors/w2v_model_300_w10.syn1neg.npy with mmap=None\n",
      "2017-07-28 19:16:38,046 : INFO : setting ignored attribute cum_table to None\n",
      "2017-07-28 19:16:38,049 : INFO : loaded ../data/vectors/w2v_model_300_w10\n"
     ]
    }
   ],
   "source": [
    "model = gensim.models.Word2Vec.load(join(DATA_FOLDER, 'vectors/w2v_model_300_w10'))\n",
    "wv = model.wv"
   ]
  },
  {
   "cell_type": "code",
   "execution_count": 3,
   "metadata": {
    "ExecuteTime": {
     "end_time": "2017-07-28T16:16:44.950179Z",
     "start_time": "2017-07-28T16:16:41.462049Z"
    }
   },
   "outputs": [
    {
     "name": "stderr",
     "output_type": "stream",
     "text": [
      "2017-07-28 19:16:41,467 : INFO : loading Dictionary object from ../data/pure.dict\n",
      "2017-07-28 19:16:44,073 : INFO : loaded ../data/pure.dict\n",
      "2017-07-28 19:16:44,077 : INFO : loading TfidfModel object from ../data/tfidf_pure.model\n",
      "2017-07-28 19:16:44,946 : INFO : loaded ../data/tfidf_pure.model\n"
     ]
    }
   ],
   "source": [
    "dictionary = corpora.Dictionary.load(join(DATA_FOLDER, 'pure.dict'))\n",
    "tfidf = models.TfidfModel.load(join(DATA_FOLDER, 'tfidf_pure.model'))"
   ]
  },
  {
   "cell_type": "code",
   "execution_count": 4,
   "metadata": {
    "ExecuteTime": {
     "end_time": "2017-07-28T16:16:45.541990Z",
     "start_time": "2017-07-28T16:16:44.953093Z"
    },
    "collapsed": true
   },
   "outputs": [],
   "source": [
    "all_docs = get_all_docs(DATA_FOLDER)\n",
    "val_docs = glob(join(DATA_FOLDER, 'validate/*.txt'))"
   ]
  },
  {
   "cell_type": "raw",
   "metadata": {},
   "source": [
    "'автомобиль станция загород' vs 'данный патент представлять схема строениие и сооружение транспортная стоянка в сельская местность'"
   ]
  },
  {
   "cell_type": "markdown",
   "metadata": {},
   "source": [
    "# Main funcs"
   ]
  },
  {
   "cell_type": "code",
   "execution_count": 5,
   "metadata": {
    "ExecuteTime": {
     "end_time": "2017-07-28T16:16:45.557816Z",
     "start_time": "2017-07-28T16:16:45.545828Z"
    },
    "collapsed": true,
    "scrolled": true
   },
   "outputs": [],
   "source": [
    "def sim_matrix(word_set1, word_set2, wv):\n",
    "    l1 = list(word_set1)\n",
    "    l2 = list(word_set2)\n",
    "    wv1 = wv[l1]\n",
    "    wv2 = wv[l2]\n",
    "    \n",
    "    arr = cosine_similarity(wv1, wv2)\n",
    "    \n",
    "    smat = pd.DataFrame(arr, index=l1, columns=l2)\n",
    "    return smat\n",
    "    "
   ]
  },
  {
   "cell_type": "code",
   "execution_count": 6,
   "metadata": {
    "ExecuteTime": {
     "end_time": "2017-07-28T16:16:45.567127Z",
     "start_time": "2017-07-28T16:16:45.561417Z"
    },
    "collapsed": true
   },
   "outputs": [],
   "source": [
    "def wmd(smat, tfidf_weights):\n",
    "    mins = np.amin(smat, axis=0)\n",
    "    return np.dot(mins, tfidf_weights)"
   ]
  },
  {
   "cell_type": "code",
   "execution_count": 7,
   "metadata": {
    "ExecuteTime": {
     "end_time": "2017-07-28T16:16:45.592463Z",
     "start_time": "2017-07-28T16:16:45.570520Z"
    },
    "collapsed": true
   },
   "outputs": [],
   "source": [
    "def get_test_tfidf_weights(val_docs, wv):\n",
    "    tweights = {}\n",
    "    for fname in tqdm(val_docs):\n",
    "        with open(fname, 'r') as f:\n",
    "            doc_text = f.read()\n",
    "        tokenized_filtered = [w for w in tokenize(doc_text) if w in wv]\n",
    "        doc_bow = dictionary.doc2bow(tokenized_filtered)\n",
    "        sorted_tfidf = sorted(tfidf[doc_bow], key=itemgetter(1), reverse=True)\n",
    "        sorted_tfidf = pd.DataFrame([(dictionary[k],v) for k,v in sorted_tfidf],\n",
    "                                   columns=['word', 'score'])\n",
    "        \n",
    "        name = path.splitext(basename(fname))[0]\n",
    "        tweights[name] = sorted_tfidf\n",
    "            \n",
    "    return tweights"
   ]
  },
  {
   "cell_type": "code",
   "execution_count": 8,
   "metadata": {
    "ExecuteTime": {
     "end_time": "2017-07-28T16:16:45.600314Z",
     "start_time": "2017-07-28T16:16:45.596335Z"
    },
    "collapsed": true,
    "scrolled": true
   },
   "outputs": [],
   "source": [
    "# tweights['_01_98_2010120931A10010101RU']"
   ]
  },
  {
   "cell_type": "code",
   "execution_count": 9,
   "metadata": {
    "ExecuteTime": {
     "end_time": "2017-07-28T16:16:45.752481Z",
     "start_time": "2017-07-28T16:16:45.603834Z"
    },
    "collapsed": true
   },
   "outputs": [],
   "source": [
    "def doc_queries_distances(doc_words, val_words, tweights):\n",
    "    dists = []\n",
    "    smat = sim_matrix(val_words, doc_words, wv)\n",
    "    for k, query in tweights.items():\n",
    "        if len(query) == 0:\n",
    "            dists.append(-1)\n",
    "            continue\n",
    "        \n",
    "        qsmat = smat.loc[query.word, :]\n",
    "        dist = wmd(qsmat.T, query.score)\n",
    "        dists.append(dist)\n",
    "    return dists"
   ]
  },
  {
   "cell_type": "code",
   "execution_count": 10,
   "metadata": {
    "ExecuteTime": {
     "end_time": "2017-07-28T16:16:47.348184Z",
     "start_time": "2017-07-28T16:16:45.756392Z"
    }
   },
   "outputs": [
    {
     "name": "stderr",
     "output_type": "stream",
     "text": [
      "100%|██████████| 130/130 [00:01<00:00, 84.75it/s]\n"
     ]
    }
   ],
   "source": [
    "tweights = get_test_tfidf_weights(val_docs, wv)\n",
    "val_words = set(pd.concat([v.word for v in tweights.values()]))"
   ]
  },
  {
   "cell_type": "code",
   "execution_count": 21,
   "metadata": {
    "ExecuteTime": {
     "end_time": "2017-07-28T16:24:15.976512Z",
     "start_time": "2017-07-28T16:24:15.790009Z"
    },
    "collapsed": true,
    "scrolled": true
   },
   "outputs": [],
   "source": [
    "ziped_files = sorted(glob(DATA_FOLDER + '/documents/*.gz'), key=natural_keys)\n",
    "\n",
    "def _calc(docs):        \n",
    "    doc_dists = []\n",
    "    for doc in tqdm(docs):\n",
    "        doc_words = set([w for sent in doc for w in sent if w in wv])\n",
    "        dists = doc_queries_distances(doc_words, val_words, tweights)\n",
    "\n",
    "        arg = np.argmax(dists)\n",
    "        doc_dists.append((arg, dists[arg]))\n",
    "    return doc_dists\n",
    "\n",
    "\n",
    "def calc_dists(fnames, wv):\n",
    "    doc_dists = []\n",
    "    for fn in fnames:\n",
    "        print(fn)\n",
    "        with GzipFile(fn, 'r') as myzip:\n",
    "            text = myzip.read()\n",
    "        docs = json.loads(text)\n",
    "        \n",
    "        parallelizer = Parallel(n_jobs=cpu_count)\n",
    "\n",
    "        # this iterator returns the functions to execute for each task\n",
    "        tasks_iterator = ( delayed(_calc)(docs_block) for \n",
    "                          docs_block in grouper(len(docs)//cpu_count, docs) )  \n",
    "        result = parallelizer( tasks_iterator )        \n",
    "        doc_dists += result\n",
    "            \n",
    "    return np.array(doc_dists)"
   ]
  },
  {
   "cell_type": "code",
   "execution_count": null,
   "metadata": {
    "ExecuteTime": {
     "start_time": "2017-07-28T16:24:21.727Z"
    },
    "scrolled": true
   },
   "outputs": [
    {
     "name": "stdout",
     "output_type": "stream",
     "text": [
      "../data//documents/0.json.gz\n"
     ]
    },
    {
     "name": "stderr",
     "output_type": "stream",
     "text": [
      "100%|██████████| 39/39 [01:23<00:00,  2.55s/it]\n",
      " 87%|████████▋ | 34/39 [01:25<00:11,  2.38s/it]\n",
      "100%|██████████| 39/39 [01:28<00:00,  2.26s/it]\n",
      "  8%|▊         | 2/24 [00:04<00:51,  2.33s/it]]\n",
      "100%|██████████| 39/39 [01:30<00:00,  2.14s/it]\n",
      "100%|██████████| 39/39 [01:32<00:00,  3.14s/it]\n",
      "100%|██████████| 39/39 [01:32<00:00,  2.30s/it]\n",
      "100%|██████████| 39/39 [01:28<00:00,  2.01s/it]\n",
      "100%|██████████| 39/39 [01:31<00:00,  2.63s/it]\n",
      "100%|██████████| 39/39 [01:30<00:00,  2.16s/it]\n",
      "100%|██████████| 39/39 [01:31<00:00,  2.06s/it]\n",
      "100%|██████████| 39/39 [01:34<00:00,  1.77s/it]\n",
      "100%|██████████| 39/39 [01:31<00:00,  1.76s/it]\n",
      "100%|██████████| 39/39 [01:32<00:00,  1.98s/it]\n",
      "100%|██████████| 39/39 [01:32<00:00,  3.59s/it]\n",
      "100%|██████████| 39/39 [01:37<00:00,  2.44s/it]\n",
      "100%|██████████| 39/39 [01:32<00:00,  1.64s/it]\n",
      "100%|██████████| 39/39 [01:36<00:00,  1.86s/it]\n",
      "100%|██████████| 39/39 [01:37<00:00,  2.04s/it]\n",
      "100%|██████████| 39/39 [01:33<00:00,  2.49s/it]\n",
      "100%|██████████| 39/39 [01:34<00:00,  3.26s/it]\n",
      "100%|██████████| 39/39 [01:36<00:00,  2.31s/it]\n",
      "100%|██████████| 39/39 [01:34<00:00,  1.86s/it]\n",
      "100%|██████████| 39/39 [01:39<00:00,  3.64s/it]\n",
      "100%|██████████| 39/39 [01:37<00:00,  1.94s/it]\n",
      "100%|██████████| 39/39 [01:37<00:00,  2.03s/it]\n",
      "100%|██████████| 39/39 [01:35<00:00,  3.28s/it]\n",
      "100%|██████████| 39/39 [01:41<00:00,  3.28s/it]\n",
      "100%|██████████| 39/39 [01:40<00:00,  2.97s/it]\n",
      "100%|██████████| 39/39 [01:41<00:00,  1.65s/it]\n",
      "100%|██████████| 24/24 [00:23<00:00,  2.18it/s]\n"
     ]
    },
    {
     "name": "stdout",
     "output_type": "stream",
     "text": [
      "../data//documents/1.json.gz\n"
     ]
    },
    {
     "name": "stderr",
     "output_type": "stream",
     "text": [
      " 33%|███▎      | 13/39 [00:31<00:55,  2.14s/it]"
     ]
    }
   ],
   "source": [
    "val_dists = calc_dists(ziped_files, wv)"
   ]
  },
  {
   "cell_type": "code",
   "execution_count": null,
   "metadata": {
    "ExecuteTime": {
     "start_time": "2017-07-28T16:26:22.382Z"
    }
   },
   "outputs": [],
   "source": [
    "np.save(join(DATA_FOLDER, 'val_dists.npy'), val_dists)"
   ]
  },
  {
   "cell_type": "markdown",
   "metadata": {},
   "source": [
    "# Draft"
   ]
  },
  {
   "cell_type": "code",
   "execution_count": 19,
   "metadata": {
    "ExecuteTime": {
     "end_time": "2017-07-28T14:16:59.908715Z",
     "start_time": "2017-07-28T14:16:58.473047Z"
    },
    "collapsed": true
   },
   "outputs": [],
   "source": [
    "with GzipFile(ziped_files[0], 'r') as myzip:\n",
    "    text = myzip.read()\n",
    "docs = json.loads(text)"
   ]
  },
  {
   "cell_type": "code",
   "execution_count": 20,
   "metadata": {
    "ExecuteTime": {
     "end_time": "2017-07-28T14:17:00.311401Z",
     "start_time": "2017-07-28T14:16:59.909824Z"
    }
   },
   "outputs": [
    {
     "data": {
      "text/plain": [
       "7"
      ]
     },
     "execution_count": 20,
     "metadata": {},
     "output_type": "execute_result"
    }
   ],
   "source": [
    "doc = docs[0]\n",
    "doc_words = set([w for sent in doc for w in sent if w in wv])\n",
    "dists = doc_queries_distances(doc_words, val_words, tweights)\n",
    "\n",
    "np.argmax(dists)"
   ]
  },
  {
   "cell_type": "code",
   "execution_count": 21,
   "metadata": {
    "ExecuteTime": {
     "end_time": "2017-07-28T14:17:00.408612Z",
     "start_time": "2017-07-28T14:17:00.312581Z"
    },
    "collapsed": true
   },
   "outputs": [],
   "source": [
    "smat = sim_matrix(val_words, doc_words, wv)"
   ]
  },
  {
   "cell_type": "code",
   "execution_count": null,
   "metadata": {
    "ExecuteTime": {
     "end_time": "2017-07-28T13:53:27.564325Z",
     "start_time": "2017-07-28T13:53:19.951Z"
    },
    "collapsed": true,
    "scrolled": true
   },
   "outputs": [],
   "source": [
    "sum(doc, [])"
   ]
  },
  {
   "cell_type": "code",
   "execution_count": null,
   "metadata": {
    "ExecuteTime": {
     "end_time": "2017-07-28T13:53:27.564910Z",
     "start_time": "2017-07-28T13:53:19.952Z"
    },
    "collapsed": true
   },
   "outputs": [],
   "source": [
    "all_docs[0]"
   ]
  },
  {
   "cell_type": "code",
   "execution_count": null,
   "metadata": {
    "ExecuteTime": {
     "end_time": "2017-07-28T13:53:27.565429Z",
     "start_time": "2017-07-28T13:53:19.954Z"
    },
    "collapsed": true
   },
   "outputs": [],
   "source": [
    "list(tweights.keys())[114]"
   ]
  }
 ],
 "metadata": {
  "kernelspec": {
   "display_name": "Python 3",
   "language": "python",
   "name": "python3"
  },
  "language_info": {
   "codemirror_mode": {
    "name": "ipython",
    "version": 3
   },
   "file_extension": ".py",
   "mimetype": "text/x-python",
   "name": "python",
   "nbconvert_exporter": "python",
   "pygments_lexer": "ipython3",
   "version": "3.6.1"
  }
 },
 "nbformat": 4,
 "nbformat_minor": 2
}
