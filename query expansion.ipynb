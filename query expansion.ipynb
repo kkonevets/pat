{
 "cells": [
  {
   "cell_type": "code",
   "execution_count": 1,
   "metadata": {
    "ExecuteTime": {
     "end_time": "2017-08-01T15:53:54.038591Z",
     "start_time": "2017-08-01T15:53:33.402913Z"
    },
    "scrolled": false
   },
   "outputs": [
    {
     "name": "stderr",
     "output_type": "stream",
     "text": [
      "Using TensorFlow backend.\n"
     ]
    }
   ],
   "source": [
    "from common import *"
   ]
  },
  {
   "cell_type": "markdown",
   "metadata": {},
   "source": [
    "# Load data"
   ]
  },
  {
   "cell_type": "code",
   "execution_count": 2,
   "metadata": {
    "ExecuteTime": {
     "end_time": "2017-08-01T15:54:01.216053Z",
     "start_time": "2017-08-01T15:53:54.040153Z"
    },
    "scrolled": true
   },
   "outputs": [
    {
     "name": "stderr",
     "output_type": "stream",
     "text": [
      "2017-08-01 18:53:54,047 : INFO : loading Word2Vec object from ../data/vectors/w2v_model_300_w10\n",
      "2017-08-01 18:53:56,112 : INFO : loading wv recursively from ../data/vectors/w2v_model_300_w10.wv.* with mmap=None\n",
      "2017-08-01 18:53:56,113 : INFO : loading syn0 from ../data/vectors/w2v_model_300_w10.wv.syn0.npy with mmap=None\n",
      "2017-08-01 18:53:57,789 : INFO : setting ignored attribute syn0norm to None\n",
      "2017-08-01 18:53:57,790 : INFO : loading syn1neg from ../data/vectors/w2v_model_300_w10.syn1neg.npy with mmap=None\n",
      "2017-08-01 18:53:59,394 : INFO : setting ignored attribute cum_table to None\n",
      "2017-08-01 18:53:59,396 : INFO : loaded ../data/vectors/w2v_model_300_w10\n"
     ]
    }
   ],
   "source": [
    "model = gensim.models.Word2Vec.load(join(DATA_FOLDER, 'vectors/w2v_model_300_w10'))\n",
    "wv = model.wv"
   ]
  },
  {
   "cell_type": "code",
   "execution_count": 3,
   "metadata": {
    "ExecuteTime": {
     "end_time": "2017-08-01T15:54:03.074839Z",
     "start_time": "2017-08-01T15:54:01.217298Z"
    }
   },
   "outputs": [
    {
     "name": "stderr",
     "output_type": "stream",
     "text": [
      "2017-08-01 18:54:01,219 : INFO : loading Dictionary object from ../data/pure.dict\n",
      "2017-08-01 18:54:02,609 : INFO : loaded ../data/pure.dict\n",
      "2017-08-01 18:54:02,610 : INFO : loading TfidfModel object from ../data/tfidf_pure.model\n",
      "2017-08-01 18:54:03,071 : INFO : loaded ../data/tfidf_pure.model\n"
     ]
    }
   ],
   "source": [
    "dictionary = corpora.Dictionary.load(join(DATA_FOLDER, 'pure.dict'))\n",
    "tfidf = models.TfidfModel.load(join(DATA_FOLDER, 'tfidf_pure.model'))\n",
    "# !!!!!\n",
    "tfidf.normalize= True"
   ]
  },
  {
   "cell_type": "code",
   "execution_count": 4,
   "metadata": {
    "ExecuteTime": {
     "end_time": "2017-08-01T15:54:03.476134Z",
     "start_time": "2017-08-01T15:54:03.076167Z"
    },
    "collapsed": true
   },
   "outputs": [],
   "source": [
    "all_docs = get_all_docs(DATA_FOLDER)\n",
    "val_docs = sorted(glob(join(DATA_FOLDER, 'validate/*.txt')))"
   ]
  },
  {
   "cell_type": "raw",
   "metadata": {},
   "source": [
    "'автомобиль станция загород' vs 'данный патент представлять схема строениие и сооружение транспортная стоянка в сельская местность'"
   ]
  },
  {
   "cell_type": "markdown",
   "metadata": {},
   "source": [
    "# Main funcs"
   ]
  },
  {
   "cell_type": "code",
   "execution_count": 5,
   "metadata": {
    "ExecuteTime": {
     "end_time": "2017-08-01T15:54:03.485616Z",
     "start_time": "2017-08-01T15:54:03.477432Z"
    },
    "collapsed": true,
    "scrolled": true
   },
   "outputs": [],
   "source": [
    "def sim_matrix(word_set1, word_set2, wv):\n",
    "    l1 = list(word_set1)\n",
    "    l2 = list(word_set2)\n",
    "    wv1 = wv[l1]\n",
    "    wv2 = wv[l2]\n",
    "    \n",
    "    arr = cosine_similarity(wv1, wv2)\n",
    "    \n",
    "    smat = pd.DataFrame(arr, index=l1, columns=l2)\n",
    "    return smat\n",
    "    "
   ]
  },
  {
   "cell_type": "code",
   "execution_count": 6,
   "metadata": {
    "ExecuteTime": {
     "end_time": "2017-08-01T15:54:03.491707Z",
     "start_time": "2017-08-01T15:54:03.487106Z"
    },
    "collapsed": true
   },
   "outputs": [],
   "source": [
    "def wmd(smat, tfidf_weights):\n",
    "    maxs = np.amax(smat, axis=0)\n",
    "    return np.dot(maxs, tfidf_weights)"
   ]
  },
  {
   "cell_type": "code",
   "execution_count": 7,
   "metadata": {
    "ExecuteTime": {
     "end_time": "2017-08-01T15:54:03.534615Z",
     "start_time": "2017-08-01T15:54:03.497919Z"
    },
    "collapsed": true
   },
   "outputs": [],
   "source": [
    "def get_test_tfidf_weights(val_docs, wv):\n",
    "    tweights = {}\n",
    "    for fname in tqdm(val_docs):\n",
    "        with open(fname, 'r') as f:\n",
    "            doc_text = f.read()\n",
    "        tokenized_filtered = [w for w in tokenize(doc_text) if w in wv]\n",
    "        doc_bow = dictionary.doc2bow(tokenized_filtered)\n",
    "        sorted_tfidf = sorted(tfidf[doc_bow], key=itemgetter(1), reverse=True)\n",
    "        sorted_tfidf = pd.DataFrame([(dictionary[k],v) for k,v in sorted_tfidf],\n",
    "                                   columns=['word', 'score'])\n",
    "        \n",
    "        name = path.splitext(basename(fname))[0]\n",
    "        tweights[name] = sorted_tfidf\n",
    "            \n",
    "    return tweights"
   ]
  },
  {
   "cell_type": "code",
   "execution_count": 8,
   "metadata": {
    "ExecuteTime": {
     "end_time": "2017-08-01T15:54:04.316186Z",
     "start_time": "2017-08-01T15:54:03.535846Z"
    },
    "scrolled": true
   },
   "outputs": [
    {
     "name": "stderr",
     "output_type": "stream",
     "text": [
      "100%|██████████| 130/130 [00:00<00:00, 173.99it/s]\n"
     ]
    }
   ],
   "source": [
    "tweights = get_test_tfidf_weights(val_docs, wv)\n",
    "val_words = set(pd.concat([v.word for v in tweights.values()]))\n",
    "ziped_files = sorted(glob(DATA_FOLDER + '/documents/*.gz'), key=natural_keys)"
   ]
  },
  {
   "cell_type": "code",
   "execution_count": 9,
   "metadata": {
    "ExecuteTime": {
     "end_time": "2017-08-01T15:54:04.320318Z",
     "start_time": "2017-08-01T15:54:04.317336Z"
    },
    "collapsed": true,
    "scrolled": true
   },
   "outputs": [],
   "source": [
    "# tweights['_01_98_2010120931A10010101RU']"
   ]
  },
  {
   "cell_type": "code",
   "execution_count": 10,
   "metadata": {
    "ExecuteTime": {
     "end_time": "2017-08-01T15:54:04.425450Z",
     "start_time": "2017-08-01T15:54:04.321659Z"
    },
    "collapsed": true,
    "scrolled": true
   },
   "outputs": [],
   "source": [
    "def doc_queries_distances(d_smat, tweights):\n",
    "    dists = []\n",
    "    for k, query in tweights.items():\n",
    "        if len(query) == 0:\n",
    "            dists.append(None)\n",
    "            continue\n",
    "        \n",
    "        qsmat = d_smat.loc[:, query.word]\n",
    "        dist = wmd(qsmat, query.score)\n",
    "        dists.append(dist)\n",
    "    return dists\n",
    "\n",
    "\n",
    "def _calc(docs):        \n",
    "    doc_dists = []\n",
    "    if len(docs) and len(docs[0]) and type(docs[0][0]) == list:\n",
    "        words = set([w for doc in docs for sent in doc for w in sent if w in wv])\n",
    "    else:\n",
    "        words = set([w for doc in docs for w in doc if w in wv])\n",
    "    smat = sim_matrix(words, val_words, wv)\n",
    "    for doc in docs:\n",
    "        if len(doc) and type(doc[0]) == list:\n",
    "            doc_words = set([w for sent in doc for w in sent])\n",
    "        else:\n",
    "            doc_words = set(doc)\n",
    "        d_smat = smat.loc[doc_words, :]\n",
    "        dists = doc_queries_distances(d_smat, tweights)\n",
    "\n",
    "        doc_dists.append(dists)\n",
    "        \n",
    "    del smat, d_smat, words\n",
    "    \n",
    "    return doc_dists\n",
    "\n",
    "\n",
    "def calc_dists(fnames, wv):\n",
    "    doc_dists = []\n",
    "    for fn in fnames:\n",
    "        print(fn)\n",
    "        ! echo {fn} >> ../data/out\n",
    "        with GzipFile(fn, 'r') as myzip:\n",
    "            text = myzip.read()\n",
    "        docs = json.loads(text)\n",
    "        \n",
    "        parallelizer = Parallel(n_jobs=cpu_count)\n",
    "\n",
    "        # this iterator returns the functions to execute for each task\n",
    "        tasks_iterator = ( delayed(_calc)(docs_block) for \n",
    "                          docs_block in grouper(len(docs)//cpu_count, docs) )  \n",
    "        result = parallelizer( tasks_iterator )        \n",
    "        doc_dists += result\n",
    "            \n",
    "    return np.array(sum(doc_dists, []))"
   ]
  },
  {
   "cell_type": "code",
   "execution_count": 128,
   "metadata": {
    "ExecuteTime": {
     "end_time": "2017-07-31T19:35:42.577023Z",
     "start_time": "2017-07-31T19:33:46.028639Z"
    },
    "scrolled": true
   },
   "outputs": [
    {
     "name": "stdout",
     "output_type": "stream",
     "text": [
      "../data//documents/0.json.gz\n"
     ]
    },
    {
     "name": "stderr",
     "output_type": "stream",
     "text": [
      "100%|██████████| 298/298 [01:42<00:00,  2.88it/s]\n",
      " 96%|█████████▌| 286/298 [01:44<00:03,  3.58it/s]\n",
      "100%|██████████| 298/298 [01:47<00:00,  3.82it/s]\n",
      "100%|██████████| 298/298 [01:47<00:00,  3.69it/s]\n",
      "100%|██████████| 298/298 [01:49<00:00,  4.37it/s]\n"
     ]
    }
   ],
   "source": [
    "val_dists = calc_dists(ziped_files[:1], wv)"
   ]
  },
  {
   "cell_type": "code",
   "execution_count": 132,
   "metadata": {
    "ExecuteTime": {
     "end_time": "2017-07-31T19:37:22.491248Z",
     "start_time": "2017-07-31T19:37:22.483274Z"
    },
    "collapsed": true
   },
   "outputs": [],
   "source": [
    "np.save(join(DATA_FOLDER, 'val_dists.npy'), val_dists)"
   ]
  },
  {
   "cell_type": "code",
   "execution_count": 67,
   "metadata": {
    "ExecuteTime": {
     "end_time": "2017-07-31T21:13:08.159187Z",
     "start_time": "2017-07-31T21:13:08.151139Z"
    },
    "collapsed": true
   },
   "outputs": [],
   "source": [
    "val_dists = np.load(join(DATA_FOLDER, 'val_dists.npy'))"
   ]
  },
  {
   "cell_type": "code",
   "execution_count": 68,
   "metadata": {
    "ExecuteTime": {
     "end_time": "2017-07-31T21:13:08.891055Z",
     "start_time": "2017-07-31T21:13:08.878181Z"
    },
    "collapsed": true
   },
   "outputs": [],
   "source": [
    "sorted_args = val_dists.argsort(axis=0)[-20000000:][::-1]"
   ]
  },
  {
   "cell_type": "code",
   "execution_count": 63,
   "metadata": {
    "ExecuteTime": {
     "end_time": "2017-08-01T08:01:22.457859Z",
     "start_time": "2017-08-01T08:01:22.454525Z"
    },
    "collapsed": true
   },
   "outputs": [],
   "source": [
    "sorted_args = np.load(join(DATA_FOLDER, 'sorted_args_200.npy'))"
   ]
  },
  {
   "cell_type": "code",
   "execution_count": 64,
   "metadata": {
    "ExecuteTime": {
     "end_time": "2017-08-01T08:01:24.672815Z",
     "start_time": "2017-08-01T08:01:24.662577Z"
    },
    "scrolled": true
   },
   "outputs": [
    {
     "data": {
      "text/plain": [
       "array([[1022450, 1022450, 1022450, ..., 1022450, 1022450, 1022450],\n",
       "       [ 291479,  756153, 1036047, ...,  141303,   97013,  446979],\n",
       "       [ 449466,  183979,  449466, ...,  226883,  449466,  287118],\n",
       "       ..., \n",
       "       [ 510153, 1041255,  526974, ...,  343878,  393105,  136507],\n",
       "       [ 324196,  228566,  304550, ...,  499947,   16965,  522205],\n",
       "       [ 164849,  793717,  351308, ...,  260310,  300050,  268891]])"
      ]
     },
     "execution_count": 64,
     "metadata": {},
     "output_type": "execute_result"
    }
   ],
   "source": [
    "sorted_args"
   ]
  },
  {
   "cell_type": "code",
   "execution_count": 86,
   "metadata": {
    "ExecuteTime": {
     "end_time": "2017-08-01T08:25:17.941103Z",
     "start_time": "2017-08-01T08:25:17.833053Z"
    },
    "collapsed": true
   },
   "outputs": [],
   "source": [
    "best = {}\n",
    "for i in range(sorted_args.shape[1]):\n",
    "    col = sorted_args[:,i]\n",
    "    name = path.splitext(basename(val_docs[i]))[0]\n",
    "    top = []\n",
    "    for j,c in enumerate(col):\n",
    "        top.append(path.splitext(basename(all_docs[c]))[0])\n",
    "    best[name] = top"
   ]
  },
  {
   "cell_type": "code",
   "execution_count": 84,
   "metadata": {
    "ExecuteTime": {
     "end_time": "2017-08-01T08:25:04.124003Z",
     "start_time": "2017-08-01T08:25:04.118800Z"
    },
    "collapsed": true
   },
   "outputs": [],
   "source": [
    "with open(join(DATA_FOLDER, 'gold.json'), 'r') as f:\n",
    "    gold = json.load(f)"
   ]
  },
  {
   "cell_type": "code",
   "execution_count": 87,
   "metadata": {
    "ExecuteTime": {
     "end_time": "2017-08-01T08:25:37.038649Z",
     "start_time": "2017-08-01T08:25:36.576682Z"
    },
    "scrolled": true
   },
   "outputs": [
    {
     "name": "stdout",
     "output_type": "stream",
     "text": [
      "median\n",
      "acc10     0.0\n",
      "acc20     0.0\n",
      "acc200    0.1\n",
      "dtype: float64\n",
      "mean\n",
      "acc10     0.190000\n",
      "acc20     0.220769\n",
      "acc200    0.403718\n",
      "dtype: float64\n"
     ]
    },
    {
     "data": {
      "image/png": "[encoded data removed]",
      "text/plain": [
       "<matplotlib.figure.Figure at 0x7fd92290d5f8>"
      ]
     },
     "metadata": {},
     "output_type": "display_data"
    },
    {
     "data": {
      "image/png": "[encoded data removed]",
      "text/plain": [
       "<matplotlib.figure.Figure at 0x7fd91dd322b0>"
      ]
     },
     "metadata": {},
     "output_type": "display_data"
    },
    {
     "data": {
      "image/png": "[encoded data removed]",
      "text/plain": [
       "<matplotlib.figure.Figure at 0x7fd9228548d0>"
      ]
     },
     "metadata": {},
     "output_type": "display_data"
    }
   ],
   "source": [
    "res = evaluate(best, gold)"
   ]
  },
  {
   "cell_type": "code",
   "execution_count": 142,
   "metadata": {
    "ExecuteTime": {
     "end_time": "2017-07-31T19:39:25.266186Z",
     "start_time": "2017-07-31T19:39:23.316843Z"
    }
   },
   "outputs": [
    {
     "name": "stdout",
     "output_type": "stream",
     "text": [
      "Successfully sent email\n"
     ]
    }
   ],
   "source": [
    "send_email(notebook_url, body='Finished')"
   ]
  },
  {
   "cell_type": "markdown",
   "metadata": {
    "ExecuteTime": {
     "end_time": "2017-07-29T10:29:20.289796Z",
     "start_time": "2017-07-29T10:29:19.973999Z"
    }
   },
   "source": [
    "TODO:\n",
    "* normalize = False in tfidf\n",
    "* first 2-3 sents of query"
   ]
  },
  {
   "cell_type": "markdown",
   "metadata": {},
   "source": [
    "# Check"
   ]
  },
  {
   "cell_type": "code",
   "execution_count": 56,
   "metadata": {
    "ExecuteTime": {
     "end_time": "2017-08-01T16:40:00.384536Z",
     "start_time": "2017-08-01T16:40:00.103452Z"
    },
    "scrolled": true
   },
   "outputs": [
    {
     "name": "stdout",
     "output_type": "stream",
     "text": [
      "способ регулирование мощность обратный канал  . \r\n",
      " изобретение относиться к система беспроводный связь .\r\n",
      " технический результат являться регулирование мощность передача по обратный канал для все пользователь в предел соты .\r\n",
      " для этот в первое вариант сначала измерять помеха первое тип ( шаг s600 ) , затем измерять помеха второе тип ( шаг s605 ) , определять отношение между результат первое и второе измерение ( шаг s610 ) и передавать измеренный отношение множество мобильный устройство ( шаг s615 ) .\r\n",
      " во второе вариант принимать передавать отношение , в который указывать отношение между помеха два различный тип ( шаг s650 ) , рассчитывать уровень мощность передача по обратный канал , исходить из передавать отношение , который быть принимать ( шаг s655 ) .\r\n",
      " в третье вариант сначала регулировать мощность передача в режим многостанционный доступ с ортогональный частотный разделение канал ( ofdma ) , исходить из первое сигнал обратный связь во время передача в режим ofdma ( шаг s725 ) , и затем регулировать мощность передача в режим ofdma , исходить из второе сигнал обратный связь в период между передача в режим ofdma ( шаг s745 ) .\r\n",
      " в четвертый вариант принимать множество сигналов-индикаторов помеха от различный базовый станция ( шаг s805 ) и , исходить из множество сигналов-индикаторов помеха , определять , следовать ли регулировать предел максимальный мощность передача , отображать максимально допустимый уровень мощность передача , который она ограничивать ( шаг s810 ) .\r\n",
      " 5 н . и 5 з . п . ф-лы , 9 ил .  . \r\n",
      " 1 .\r\n",
      " способ обеспечение данные для регулирование мощность передача по обратный канал сеть (300 ) беспроводный связь , при выполнение который осуществлять : первое измерение помеха первое тип ( шаг s600 ) , второе измерение помеха второе тип ( шаг s605 ) и широковещательный передача данные , отражать отношение между измерение помеха первое тип и измерение помеха второе тип .\r\n",
      " 2 .\r\n",
      " способ по п.1 , в который помеха первое тип являться помеха в режим многостанционный доступ с ортогональный частотный разделение канал ( ofdma ) , а помеха второе тип являться помеха в режим многостанционный доступ с кодовый разделение канал ( cdma ) .\r\n",
      " 3 .\r\n",
      " способ регулирование мощность передача по обратный канал сеть (100 ) беспроводный связь , при осуществление который : принимать передаваемый в широковещательный режим отношение , отображать отношение между помеха первое тип и помеха второе тип , рассчитывать уровень мощность передача по обратный канал , исходить из передаваемый отношение , который быть принимать ( шаг s655 ) .\r\n",
      " 4 .\r\n",
      " способ регулирование мощность передача по обратный канал сеть (100 ) беспроводный связь , при выполнение который : осуществлять первое регулирование мощность передача в режим ofdma , исходить из первое сигнал обратный связь во время осуществление передача в режим ofdma ( шаг s725 ) , и осуществлять второе регулирование мощность передача в режим ofdma , исходить из второе сигнал обратный связь в период между передача в режим ofdma ( шаг s745 ) .\r\n",
      " 5 .\r\n",
      " способ по п.4 , в который первое сигнал обратный связь основывать на измеренный значение отношение сигнал к сумма помеха с шум ( оспш ) в режим ofdma , а второе сигнал обратный связь основывать на расчетный значение оспш в режим ofdma .\r\n",
      " 6 .\r\n",
      " способ регулирование мощность передача по обратный канал сеть (100 ) беспроводный связь , при осуществление который : передавать первое индикатор регулирование мощность , основывать на измерять значение оспш в режим ofdma во время прием данные , передаваемый мобильный станция в режим ofdma ( шаг s725 ) , и передавать второе индикатор регулирование мощность , основывать на расчетный значение оспш в режим ofdma во время отсутствие прием данные , передаваемый мобильный станция в режим ofdma ( шаг s745 ) .\r\n",
      " 7 .\r\n",
      " способ по п.6 , в который расчетный значение оспш в режим ofdma основывать на предыдущий передача данные в режим ofdma и передача данные в режим cdma , принятый после указанный предыдущий передача .\r\n",
      " 8 .\r\n",
      " способ определение максимально допустимый уровень мощность передача , при осуществление который : принимать от различный базовый станция множество сигналов-индикаторов помеха ( шаг s805 ) , основывать на отношение между измерение помеха первое тип и измерение помеха второе тип , и исходить из этот множество сигналов-индикаторов помеха , определять , следовать ли регулировать предел максимальный мощность передача , который отображать максимально допустимый уровень мощность передача , который ограничивать передача ( шаг s810 ) .\r\n",
      " 9 .\r\n",
      " способ по п.8 , при осуществление который дополнительно : увеличивать предел максимальный мощность передача , если согласно по меньший мера один из множество сигналов-индикаторов помеха внесетевой помеха превышать предельный величина внесетевой помеха ( шаг s815 ) , и уменьшать предел максимальный мощность передача , если множество сигналов-индикаторов помеха не содержать по меньший мера один сигнал-индикатор помеха , согласно который внесетевой помеха превышать предельный величина внесетевой помеха ( шаг s815 ) .\r\n",
      " 10 .\r\n",
      " способ по п.8 , в который предел максимальный мощность передача связанный с один из параметр , включать мощность на один тональный посылка и мощность на один импульс .  . \r\n",
      " предпосылка создание изобретение область техника , к который относиться изобретение настоящий изобретение относиться в целый к система связь , более точно к система беспроводный связь .\r\n",
      " описание уровень техника обычный система беспроводный связь иметь один или несколько базовый станция или маршрутизатор базовый станция , который также можно называть точка доступ , узел в или сеть доступ для обеспечение возможность беспроводный соединение с один или несколько мобильный устройство , в отношение который также применимый такой термин , как абонентский аппаратура , абонентский оборудование и терминал доступ .\r\n",
      " пример мобильный устройство включать сотовый телефон , персональный цифровой помощник , смартфон , устройство для обмен текстовой сообщение , портативный компьютер , в частность тип \" ноутбук \" , настольный компьютер и т . п . каждый базовый станция мочь обеспечивать возможность беспроводный соединение с один или несколько мобильный устройство , такой как мобильный устройство , находить на территория определенный географический район или соты , обслуживать базовый станция .\r\n",
      " в качество альтернатива для обеспечение возможность беспроводный соединение с мобильный устройство мочь использовать маршрутизатор базовый станция .\r\n",
      " обмен сообщение , который базовый станция или маршрутизатор базовый станция передавать один или нескольких мобильный устройство , обычно называть обмен по \" прямой канал \" или \" нисходить канал \" .\r\n",
      " обмен сообщение , который мобильный устройство передавать базовый станция или маршрутизатор базовый станция , обычно называть обмен по \" обратный канал \" или \" восходить канал \" .\r\n",
      " эффективный схема модуляция при передача сигнал по частотно-избирательным канал являться мультиплексирование с ортогональный частотный разделение канал ( ofdm , от англ . - orthogonal frequency division multiplex ) .\r\n",
      " в случай ofdm широкий полоса пропускание делить на множество ортогональный друг друг узкополосный поднесущий .\r\n",
      " сигнал , который модулировать поднести , передавать параллельно .\r\n",
      " ofdm мочь использовать для обеспечение многостанционный доступ для множество абонент посредством многостанционный доступ с временной разделение канал ( tdma , от англ . - time division multiple access ) , когда каждый абонент использовать поднести в предел выделять он временной сегмент .\r\n",
      " другой способ осуществление многостанционный доступ являться многостанционный доступ с ортогональный частотный разделение канал ( ofdma , от англ . requency division multiple access ) с использование основной формат ofdm .\r\n",
      " в режим ofdma множество абонент одновременно использовать различный поднести подобно тот , как это делаться в случай многостанционный доступ с частотный разделение ( fdma , от англ . - frequency division multiple access ) ( например , чтобы обеспечивать многостанционный доступ , использовать частотный разделение для каждый \" коллективный использовать \" поднесущий ) .\r\n",
      " в режим ofdm сигнал делить на подканал ( т . е . , группа несущий ) , каждый из который закреплять за отдельный абонент .\r\n",
      " затем различный подканал различный несущий мочь быть объединять .\r\n",
      " каждый абонент мочь обслуживаться по отдельность независимо от о местонахождение , расстояние до базовый станция , помеха и потребность в электроэнергия .\r\n",
      " с цель расширение зона действие и повышение пропускной способность для каждый из несущий в система мочь использовать различный модуляция .\r\n",
      " усовершенствованный вариант структура ofdmc с подканал позволять применять более эффективный метод дуплексный передача , такой как дуплексный передача с частотный разделение ( fdd , от англ . - frequency division duplex ) и дуплексный передача с временной разделение ( tdd , от англ . - time division duplex ) и создавать сигнал с ослабленный помеха , способный обеспечивать более высокий пропускной способность .\r\n",
      " в система fdd передача как по прямой , так и обратный канал , происходить одновременно на различный несущий .\r\n",
      " на фиг.1 проиллюстрировать обычный система ( сеть ) 100 ofdma .\r\n",
      " как показывать на фиг.1 , система 100 ofdma иметь множество комплект абонентский аппаратура ( ааа или ue , от английский - user equipment ) 105 , который посредством радиоинтерфейс поддерживать связь с один или несколько обслуживать узел в 120/125 .\r\n",
      " множество узел в соединять проводной интерфейс с контроллер 130 радиосеть ( крс или rnc , от англ . - radio network controller ) .\r\n",
      " в качество альтернатива , хотя это и не показывать на фиг.1 , функциональный возможность как крс 130 , так и узел в 120/125 ( в качество альтернатива называть \" базовый станция \" ) , мочь быть объединять в единый объект , называть \" маршрутизатор базовый станция \" .\r\n",
      " крс 130 осуществлять доступ в интернет 160 посредством вспомогательный узел межсетевой интерфейс ( вуметь или gsn , от английский - gateway support node ) 150 и ( или ) осуществлять доступ к коммутировать телефонный сеть общий пользование ( pstn , от англ . - public switch telephone network ) 170 посредством центр 140 коммутация подвижной связь ( цкпс или msc , от англ . - mobile switch center ) .\r\n",
      " на фиг.2 проиллюстрировать передатчик 200 обычный система ofdma .\r\n",
      " в один из пример , проиллюстрированный на фиг.2 , в обычный система 100 ofdma , показывать на фиг.1 , передатчик 200 использовать в состав передавать объект ( например , узел в 120/125 , ааа 105/110 и т . д . ) .\r\n",
      " как показывать на фиг.2 , передатчик 200 иметь модулятор 210 , последовательно-параллельный ( пп или s2p , от английский - serial-to-parallel ) преобразователь 220 , модуль 230 быстрый обратный преобразование фурье ( бопф или ifft , от английский - inverse fast foury transform ) , устройство 240 ввод циклический префикс и временной фильтр 250 .\r\n",
      " модуль 230 бопф иметь n-число порт для прием символ модуляция .\r\n",
      " каждый из n-числа порт связанный с ортогональный поднесущий .\r\n",
      " модуль 230 бопф способный использовать матрица бопф размер n × n для осуществление операция преобразование на свой вход , при этот элемент матрица fj . k задавать как fj.k=e-2 , j , k=0 , 1 , 2…,n-1 , а .\r\n",
      " для ввод в модулятор 210 использовать символ кодировать данные .\r\n",
      " в модулятор 210 использовать хорошо известный метод модуляция , такой как двухпозиционный фазовый манипуляция ( дпфмн ) , квадратурный фазовый манипуляция ( кфмн ) , восьмеричный фазовый манипуляция ( вфмн ) , 16-позиционная квадратурный амплитудный модуляция (16кам ) и 64-позиционная квадратурный амплитудный модуляция (64кам ) для преобразование символ кодировать данные в к-число символ sk модуляция , который затем вводить в пп-преобразователь 120 , при этот k ≤ n. пп-преобразователь 220 выводить параллельный поток символ модуляция , который вводить в один или несколько из n-числа порт модуль 230 бопф , связанный с ортогональный поднесущий , на который должный передавать символ кодировать данные .\r\n",
      " в модуль 230 бопф осуществлять быстрый обратный преобразование фурье символ sk модуляция с цель получение блок из сn-числа импульс , при этот n=0 , … , n-1 .\r\n",
      " устройство 240 ввод циклический префикс копировать ncp-число последний импульс блок n-числа импульс и добавлять они к начало блок n-числа импульс , в результат получать блок с добавлять к начало импульс .\r\n",
      " затем о фильтровать через временной фильтр 250 и впоследствии модулировать он несущий до осуществление передача .\r\n",
      " система ofdma обеспечивать ослабление помеха и более высокий скорость передача данные по обратный канал по сравнение с обычный многостанционный доступ с кодовый разделение канал ( cdma , от английский - code division multiple access ) за счет свойство внутрисотовый ортогональность система ofdma .\r\n",
      " вместе с тем , это свойство ofdma достигаться за счет увеличение передача сигнал и невозможность коллективный использование полоса частота пользователь , который осуществлять передача с меньший скорость и ( или ) который необходимый быстрый доступ к несущий .\r\n",
      " в отличие от этот , система cdma рассчитывать на доступ множество абонент без явный механизм запроса-разрешения как в обычный система ofdma , и за счет этот можно расширять доступ пользователь к несущий для осуществление передача .\r\n",
      " регулирование мощность обратный канал являться важный задача в система cdma , поскольку в система cdma мочь возникать значительный внутрисотовый и внесетевой помеха .\r\n",
      " в система ofdma обычно возникать меньший внутрисотовый помеха , чем в система cdma , за счет свойство ортогональность ofdma , что позволять применять к система ofdma \" менее жесткий \" требование регулирование мощность , поскольку помеха , возникать в система ofdma , мочь быть преимущественно ограничивать внесотовый помеха .\r\n",
      " тем не менее , несмотря на меньший внутрисотовый помеха , оставаться нерешенный задача регулирование мощность обратный канал в обычный система ofdma , например , в система ofdma мочь возникать затруднение с эффективный регулирование скорость передача по обратный канал без установление соответствие между мощность передача по обратный канал и скорость передача данные по обратный канал .\r\n",
      " поскольку передача данные в режим ofdma планировать базовый станция путем предоставление различный пользователь разный часть доступный полоса частота , график для каждый пользователь являться пакетный по свой природа .\r\n",
      " соответственно для регулирование мощность с обратный связь в система ofdma недостаточно , чтобы все пользователь передавать постоянный пилот-сигнал .\r\n",
      " с другой сторона , эффективность метод регулирование мощность исключительно без обратный связь являться ограниченный , поскольку метод регулирование мощность без обратный связь обычно не обеспечивать жесткий контроль внесетевой помеха , а прогнозирование отношение сигнал к сумма помеха с шум ( оспш или sinr , от англ . - signal-to-interference+noise ratio ) при заданный мощность передача являться менее точный .\r\n",
      " соответственно , поскольку в система ofdma не осуществлять непрерывный передача пилот-сигналов , в они сложный регулировать мощность передача по обратный канал для все пользователь в предел соты , поскольку регулирование мощность обратный канал должно осуществлять по отдельность для каждый пользователь .\r\n",
      " краткий изложение сущность изобретение в один из вариант осуществление настоящий изобретение описывать способ регулирование мощность передача по обратный канал сеть беспроводный связь , в который осуществлять первое измерение помеха первое тип и второе измерение помеха второе тип , затем измерять отношение между результат первое и второе измерение и передавать измеренный отношение множество мобильный устройство .\r\n",
      " в друг вариант осуществление настоящий изобретение описывать способ регулирование мощность передача по обратный канал сеть беспроводный связь , при осуществление который принимать передавать отношение , в который указывать отношение между помеха два различный тип , и рассчитывать уровень мощность передача по обратный канал , исходить из передавать отношение , который быть принимать .\r\n",
      " в друг вариант осуществление настоящий изобретение описывать способ регулирование мощность передача по обратный канал сеть беспроводный связь , при осуществление который сначала регулировать мощность передача в режим ofdma , исходить из первое сигнал обратный связь во время передача в режим ofdma , и затем регулировать мощность передача в режим ofdma , исходить из второе сигнал обратный связь во время интервал между передача в режим ofdma .\r\n",
      " в друг вариант осуществление настоящий изобретение описывать способ определение максимально допустимый уровень мощность передача , при осуществление который принимать множество сигналов-индикаторов помеха от различный базовый станция и , исходить из множество сигналов-индикаторов помеха , определять , следовать ли регулировать предел максимальный мощность передача , отображать максимально допустимый уровень мощность , который она ограничивать .\r\n",
      " краткий описание чертеж для более полный понимание настоящий изобретение далее приводить о подробный описание и прикладывать служащий лишь цель иллюстрация чертеж , на который соответствующий элемент на различный фигура обозначать одинаковый позиция и на который : на фиг.1 проиллюстрировать обычный система ofdma , на фиг.2 - передатчик обычный система ofdma , показывать на фиг.1 , на фиг.3 - гибридный система ofdma/cdma согласно один из пример осуществление настоящий изобретение , на фиг.4 - распределять полоса частота в показывать на фиг.3 гибридный система ofdma/cdma согласно один из пример осуществление настоящий изобретение , на фиг.5 - блок-схема передатчик показывать на фиг.3 гибридный система ofdma/cdma согласно один из пример осуществление настоящий изобретение , на фиг.6а и 6б - способ регулирование мощность по обратный канал в режим ofdma согласно другой пример осуществление настоящий изобретение , на фиг.7 - способ регулирование мощность по обратный канал в режим ofdma согласно другой пример осуществление настоящий изобретение , на фиг.8 - способ установление максимальный мощность передача на один тональный посылка для мобильный станция согласно один из пример осуществление настоящий изобретение .\r\n",
      " подробный описание пример осуществление с цель обеспечение хороший понимание настоящий изобретение сначала описывать гибридный система многостанционный доступ с кодовый разделение (cdma)/ многостанционный доступ с ортогональный частотный разделение канал ( ofdma ) согласно один из пример осуществление настоящий изобретение .\r\n",
      " далее приводить пример регулирование мощность обратный канал в режим ofdma на пример гибридный система cdma/ofdma , а затем описывать способ установление максимальный мощность , с который мочь весть передача мобильный станция в гибридный система ofdma/cdma .\r\n",
      " гибридный система cdma/ofdma на фиг.3 проиллюстрировать система 300 беспроводный связь ( далее - \" гибридный система ofdma/cdma \" ) согласно один из пример осуществление настоящий изобретение .\r\n",
      " как показывать на фиг.3 , система 300 ofdma иметь множество комплект абонентский аппаратура ( ааа ) 305 , который посредством радиоинтерфейс поддерживать связь с один или несколько обслуживать узел в 320/325 .\r\n",
      " множество узел в соединять проводной интерфейс с контроллер 330 радиосеть ( крс ) .\r\n",
      " в качество альтернатива , хотя это и не показывать на фиг.3 , функциональный возможность как крс 330 , так и узел в 320/325 ( в качество альтернатива называть \" базовый станция \" ) , мочь быть объединять в единый объект , называть \" маршрутизатор базовый станция \" .\r\n",
      " крс 330 осуществлять доступ в интернет 360 посредством вспомогательный узел межсетевой интерфейс ( вуметь ) 350 и ( или ) осуществлять доступ к коммутировать телефонный сеть общий пользование ( pstn ) 370 посредством центр 340 коммутация подвижной связь ( цкпс ) .\r\n",
      " хотя показывать на фиг.3 гибридный система 300 cdma/ofdma на первый взгляд напоминать показывать на фиг.1 система 100 ofdma , показывать на фиг.3 гибридный система 300 cdma/ofdma дополнительно рассчитывать на обмен сигнал тип ofdma на множество динамически присваивать ортогональный поднесущий и сигнал тип cdma на множество предварительно присваивать ортогональный поднесущий , при этот сигнал тип ofdma являться сигнал , генерировать хорошо известный метод ofdma , а сигнал тип cdma являться сигнал , генерировать хорошо известный метод cdma .\r\n",
      " в один из пример сигнал тип cdma передавать на предварительно присваивать ортогональный поднесущий , и поэтому динамический присвоение ортогональный ресурс ( например , поднесущий ) не требоваться .\r\n",
      " сигнал тип cdma мочь являться сигнал , связанный с пользователь , использовывать форма пакетный и периодический графика .\r\n",
      " как описывать далее , гибридный система ofdma/cdma 300 мочь являться система со многие несущий , в который доступный полоса частота делить на множество ортогональный поднесущий .\r\n",
      " на фиг.4 проиллюстрировать распределять полоса 400 частота в показывать на фиг.3 гибридный система ( сеть ) 300 ofdma/cdma согласно один из пример осуществление настоящий изобретение .\r\n",
      " в показанный на фиг.4 пример осуществление доступный полоса частота делить на множество ортогональный поднесущий .\r\n",
      " множество ортогональный поднесущий подразделять на дво группа .\r\n",
      " в первый группа , называть в описание группа ofdma , входить ортогональный поднести для передача сигнал тип ofdma .\r\n",
      " во второй группа , называть в описание группа cdma , входить ортогональный поднести для передача сигнал тип cdma .\r\n",
      " группа ofdma и cdma иметь один или несколько подгруппа , называть в описание зон ofdma и cdma , соответственно .\r\n",
      " в каждый зона входить по меньший мера один ортогональный поднесущий .\r\n",
      " в один из пример зона cdma располагать не вплотную друг к друг , а через равномерный интервал разносить по распределять полоса 400 и перемежаться зон ofdma .\r\n",
      " в друг пример дво или более из зона cdma примыкать друг к друг .\r\n",
      " в еще один пример зона cdma занимать весь полоса частота ( например , весь распределять полоса 400 частота ) , а для зона ofdma не оставаться зарезервированный полоса частота .\r\n",
      " в проиллюстрированный на фиг.4 пример осуществление информационный канал с ортогональный поднесущий , входить в группа ofdma , далее называть информационный канал ofdma , а информационный канал с ортогональный поднесущий , входить в группа cdma , далее называть информационный канал cdma .\r\n",
      " как упоминать высокий , сигнал тип ofdma являться сигнал , генерировать хорошо известный метод ofdma , а сигнал тип cdma являться сигнал , генерировать хорошо известный метод cdma .\r\n",
      " в друг пример сигнал тип ofdma мочь являться сигнал , генерировать хорошо известный метод перемежать многостанционный доступ с частотный разделение ( ifdma , от англ . - interleave frequency division multiple access ) и ( или ) метод любой тип для генерация сигнал в система многостанционный доступ с частотный разделение ( fdma ) .\r\n",
      " аналогичный образ сигнал тип cdma мочь быть генерировать только метод cdma и ( или ) метод cdma и ifdma .\r\n",
      " на фиг.5 проиллюстрировать блок-схема передатчик 500 согласно один из пример осуществление настоящий изобретение .\r\n",
      " в один из пример показывать на фиг.5 передатчик 500 мочь использовать в состав передавать объект ( например , узел в 320/325 , ааа 305/310 и т . д . ) показывать на фиг.300 гибридный система 300 cdma/ofdma .\r\n",
      " в проиллюстрированный на фиг.5 пример осуществление передатчик 500 иметь первый участок 580 для обработка сигнал тип cdma и второй участок 590 для обработка сигнал тип ofdma .\r\n",
      " первый участок 580 иметь умножитель 505 , 510 , 515 , 520 , сумматор 525 , последовательно-параллельный ( пп ) преобразователь 530 , к-число предварительный кодер 535 , модуль 550 быстрый обратный преобразование фурье ( бопф ) , устройство 560 ввод циклический префикс и временной фильтр 570 .\r\n",
      " второй участок 590 иметь модулятор 540 , пп-преобразователь 545 , модуль 550 бопф , устройство 560 ввод циклический префикс и временной фильтр 570 .\r\n",
      " предварительный кодер 535 рассчитывать на использование матрица дискретный преобразование фурье ( дпф или dft , от английский - discrete foury transform ) и ( или ) матрица , основывать на частотный канал , для осуществление операция преобразование на свой вход .\r\n",
      " каждый предварительный кодер 535 иметь nz-число порт вывод .\r\n",
      " модуль 550 бопф рассчитывать на использование матрица бопф для осуществление операция преобразование на свой вход .\r\n",
      " модуль 550 бопф иметь nfft-число порт вывод , включая kxnz-число порт , связанный с ортогональный поднесущий , который относиться к зона cdma , и nfft-kxnz-число порт вывод , связанный с ортогональный поднесущий , который относиться к зона ofdma .\r\n",
      " в проиллюстрированный на фиг.5 пример осуществление на первое участок 580 в умножитель 505 , 510 вводить символ пилот-сигнала и символ кодировать данные .\r\n",
      " символ пилот-сигнала и кодировать данные распределять с использование распределительный код , такой как код уолша и коэффициент распределение ncp и n , соответственно .\r\n",
      " в один из пример коэффициент распределение ncp равный коэффициент nz , представлять себя число зона cdma в распределять полоса 400 частота гибридный система 300 ofdma/cdma .\r\n",
      " затем распределенный символ пилот-сигнала и кодировать данные скремблировать в умножитель 515 , 520 с использование код скремблирование пилот-сигнала и данные , такой как код псевдослучайный шум ( пш или pn , от английский - pseudo-random noise ) с цель получение импульс пилот-сигнала и сигнал данные , соответственно , при этот код скремблирование иметь период n , а n > > ncp , nc .\r\n",
      " в один из пример код скремблирование мочь зависеть от зона cdma .\r\n",
      " в друг пример код скремблирование мочь иметь различный смещение для ветвь первое участок 580 , соответствующий пилот-сигналу и сигнал данные .\r\n",
      " в проиллюстрированный на фиг.5 пример осуществление поток импульс пилот-сигнала и сигнал данные подвергать кодовой уплотнение в сумматор 525 с цель получение подвергать кодовой уплотнение сигнал , содержать kxnz-число подвергать кодовой уплотнение импульс .\r\n",
      " в друг пример поток импульс пилот-сигнала и сигнал данные подвергать временной уплотнение .\r\n",
      " сигнал тип cdma можно интерпретировать как сигнал , содержать подвергать кодовой или временной уплотнение импульс , или любой сигнал , получать из сигнал , содержать подвергать кодовой или временной уплотнение импульс .\r\n",
      " в проиллюстрированный на фиг.5 пример осуществление подвергать кодовой уплотнение сигнал вводить в пп-преобразователь 530 .\r\n",
      " пп-преобразователь 530 равномерно распределять подвергать кодовой уплотнение импульс среди каждый из к-числа предварительный кодер 535 .\r\n",
      " в один из пример подвергать кодовой уплотнение импульс мочь использовать в вид блок nz-числа подвергать кодовой уплотнение импульс .\r\n",
      " например , nz-число первое подвергать кодовой уплотнение импульс вводить в первый предварительный кодер 535 , следующий nz-число подвергать кодовой уплотнение импульс вводить во второй предварительный кодер 535 и так далее .\r\n",
      " в друг пример пп-преобразователь 530 мочь неравномерно или неодинаково распределять подвергать кодовой уплотнение импульс среди к или меньший число предварительный кодер 535 , а блок подвергать кодовой уплотнение импульс мочь иметь размер , отличать от nz .\r\n",
      " в проиллюстрированный на фиг.5 пример осуществление предварительный кодер 535 мочь использовать матрица для осуществление операция преобразование входный вектор во временной область в выходной вектор в частотный область .\r\n",
      " в один из пример как входной , так и выходной вектор к-числа предварительный кодер 535 содержать одинаковый число ( например , nz ) элемент или импульс .\r\n",
      " в друг пример предварительный кодер 535 являться дискретный преобразователь фурье ( дпф ) , который использовать дпф-матрицу f размер nz × nz для преобразование входный вектор , содержать nz-число подвергать кодовой уплотнение импульс , из временной область в частотный область .\r\n",
      " элемент матрица f мочь быть записывать в вид следующий уравнение : в который j , k=0 , 1 , 2 , … , n-1 , a .\r\n",
      " если подвергать кодовой уплотнение импульс на выход предварительный дпф-кодера задавать как вектор s , где s=[s1 , s2 , s3 , … , snz] , а т означать операция перенос , выход предварительный дпф-кодера мочь быть задавать как вектор х , что можно записывать в вид следующий уравнение : в который nz означать число предварительно кодировать элемент или импульс .\r\n",
      " в друг вариант осуществление настоящий изобретение , проиллюстрированный на фиг.5 , предварительный кодер 535 мочь использовать единичный матрица для преобразование подвергать кодовой уплотнение импульс из временной область в частотный область .\r\n",
      " кроме тот , предварительный кодер 535 мочь использовать восприимчивый к канал матрица , позволять применять к преобразование метод предварительный коррекция .\r\n",
      " в проиллюстрированный на фиг.5 пример осуществление по отдельность устанавливать соответствие каждый из nz-числа порт вывод к-числа предварительный кодер 535 с порт 550 бопф , связанный с ортогональный поднесущий , который относиться к зона cdma .\r\n",
      " в один из пример соответствие nz-числа порт вывод с порт вывод модуль 550 бопф мочь быть перенастраивать , на основание что планировать передача сигнал тип cdma на ортогональный поднесущий .\r\n",
      " в проиллюстрированный на фиг.5 пример осуществление на второе участок 590 модулятор 540 модулировать символ кодировать данные хорошо известный метод модуляция , такой как дпфмн , кфмн , вфмн , 16кам , 64кам для преобразование символ кодировать данные в к-число символ sk модуляция , который затем вводить в пп-преобразователь 545 , при этот k ≤ n. пп-преобразователь 545 выводить параллельный поток символ модуляция , который вводить в один или несколько из порт модуль 550 бопф , связанный с ортогональный поднесущий , на который должный передавать символ кодировать данные .\r\n",
      " в проиллюстрированный на фиг.5 пример осуществление в модуль 550 бопф осуществлять быстрый обратный преобразование фурье символ sk модуляция и предварительно кодировать импульс ( например , на выход предварительный кодер 535 ) с цель получение блок cn-числа импульс , где n=0 , … , nfft-1 .\r\n",
      " устройство 560 ввод циклический префикс копировать ncp-число последний импульс блок nfft-числа импульс и добавлять они к начало блок nfft-числа импульс , в результат получать блок с добавлять к начало импульс .\r\n",
      " затем о фильтровать через временной фильтр 570 и впоследствии модулировать он несущий до осуществление передача .\r\n",
      " регулирование мощность обратный канал в режим cdma пример способ регулирование мощность обратный канал в режим cdma описывать в параллельно подавать патентный заявка us тот же автор под название \" method of reverse link power control \" ( способ регулирование мощность обратный канал ) , содержание который в порядок ссылка целиком включать в настоящий описание .\r\n",
      " соответственно дополнительный описание способ регулирование мощность обратный канал в режим cdma опускать за исключение случай , относить к способ регулирование мощность обратный канал ofdma , что более подробно описывать далее .\r\n",
      " первый пример регулирование мощность обратный канал в режим ofdma на фиг.6а и 6б проиллюстрировать способ регулирование мощность обратный канал в режим ofdma согласно другой пример осуществление настоящий изобретение .\r\n",
      " проиллюстрированный на фиг.6а и 6б способ регулирование мощность обратный канал в режим ofdma описывать далее применительно к гибридный система 300 cdma/ofdma , показывать на фиг.3 .\r\n",
      " более точно стадия способ , показывать на фиг.6а , осуществлять в узел в 320 , а стадия способ , показывать на фиг.6б , осуществлять в ааа 305 .\r\n",
      " как показывать на фиг.6а , на шаг s600 узел в 320 анализировать спектр принимать сигнал с цель определение показатель \" суммарный \" помеха в режим ofdma .\r\n",
      " обычно шаг s600 можно интерпретировать как измерение внесетевой помеха , поскольку ofdma отличаться относительно низкий показатель внутрисотовый помеха .\r\n",
      " в один из пример бóльшой часть измерять помеха в режим ofdma приходиться на зона ofdma показывать на фиг.4 распределять полоса 400 частота .\r\n",
      " на шаг s605 узел в 320 снова анализировать спектр принимать сигнал с цель определение показатель помеха в режим cdma .\r\n",
      " подразумеваться , что результат измерение помеха в режим cdma получать до или после подавление помеха ( пп или ic , от англ . - interference cancellation ) .\r\n",
      " в один из пример , если измерение помеха в режим cdma осуществлять с последующий подавление помеха , узел в 320 измерять спектр сигнал cdma до подавление помеха , а затем измерять остаточный отношение помеха - суммарный помеха после подавление помеха .\r\n",
      " отношение два этот величина являться показатель помеха в режим cdma после подавление помеха .\r\n",
      " узел в 320 использовать измеренный помеха в режим ofdma ( шаг s600 ) и помеха в режим cdma ( шаг s605 ) с цель расчет на шаг s610 фильтрованный отношение помеха ( фоп или fir , от англ . - filter interference ratio ) , который являться отношение измерять помеха в режим ofdma к измеренный помеха в режим cdma .\r\n",
      " расчет фоп хорошо известный из уровень техника и для краткость не описывать более подробно .\r\n",
      " после расчет фоп узел в 320 на шаг s615 передавать расчетный фоп все ааа в предел свой соты , использовать общий прямой канал или нисходящий канал .\r\n",
      " передача на шаг s615 мочь осуществлять различный способ .\r\n",
      " например , узел в 320 мочь применять схема дифференциальный передача , когда исходный расчетный фоп передавать прослушивать сообщение мобильный станция .\r\n",
      " после этот передавать меньший значение , отображать разность между предыдущий значение фоп .\r\n",
      " вместе с тем , периодически повторно передавать полный фоп в расчет на новый пользователь , установить связь с узел в 320 , и ( или ) с цель ослабление влияние ошибка при передача сигнал .\r\n",
      " в один из альтернативный пример осуществление узел в 320 на шаг s615 мочь передавать фоп отдельно в режим cdma и ofdma .\r\n",
      " в еще один альтернативный пример осуществление мобильный станция передавать битый активность помеха ( бап или iab , от англ . - interference activity bit ) .\r\n",
      " измеренный помеха в режим cdma и измеренный помеха в режим ofdma сравнивать с соответствующий предельный величина помеха .\r\n",
      " соответствующий бап устанавливать на первое логический уровень ( например , более высокий логический уровень или уровень \"1 \" ) , если сравнение показывать , что измеренный помеха большой или равный предельный величина , и устанавливать на второе логический уровень ( например , более низкий логический уровень или уровень \"0 \" ) , если сравнение показывать , что измеренный помеха маленький предельный значение .\r\n",
      " в данный пример узел в 320 дважды отдельно передавать бап с цель указывать , превышать ли измеренный помеха в режим cdma ( шаг s605 ) и измеренный помеха в режим ofdma ( шаг s600 ) предельный значение помеха в режим cdma и предельный значение помеха в режим ofdma , соответственно , как показывать на фиг.6б , на шаг s650 ааа 305 принимать передаваемый фоп .\r\n",
      " на шаг s655 ааа 305 , исходить из передаваемый фоп , рассчитывать уровень мощность для осуществление передача по обратный канал в режим ofdma .\r\n",
      " далее более подробно описывать расчет , осуществлять на шаг s655 .\r\n",
      " в пример расчет , осуществлять на шаг s655 , использовать следующий термин :\r\n",
      " \" го \" означать задать оспш для пилот-сигналов ofdma , \" гс \" означать задать оспш для пилот-сигналов cdma , \" pc ( t ) \" означать спектральный плотность мощность передача пилот-сигнала cdma , передаваемый ааа 305 во временной интервал t , \" po ( t ) \" означать неограниченный номинальный мощность пилот-сигнала ofdma на один тональный посылка во временной интервал t , \" δi ( t ) \" означать величина фоп , периодически передаваемый узел в 320 на шаг s615 и принимать ааа 305 на шаг s650 во временной интервал t , \"i_ofdma(t ) \" означать измеренный помеха в режим ofdma на шаг s600 во временной интервал t и \"i_cdma(t ) \" означать измеренный помеха в режим cdma на шаг s605 во временной интервал t .\r\n",
      " исходить из указанный условие , величина фоп , передаваемый узел в 320 на шаг s615 и принимать ааа 305 , мочь быть записывать в вид следующий уравнение :\r\n",
      " задать оспш δг описываться следующий уравнение :\r\n",
      " тем самый ааа 305 мочь регулировать мощность пилот-сигнала ofdma на один тональный посылка po ( t ) согласно следующий уравнение : в который α ( t ) означать расчетный отношение мощность , выражать в вид следующий уравнение :\r\n",
      " как показывать на фиг.6б , на шаг s660 ааа 305 передавать сигнал ofdma в предел зона ofdma в соответствие с расчетный уровень мощность или po ( t ) .\r\n",
      " как легко замечать , преимущество описывать высокий способ регулирование мощность обратный канал в режим ofdma , проиллюстрировать на фиг.6а/6б , являться то , что обычный \" быстрый \" регулирование мощность в режим ofdma , когда конкретный комплект ааа передавать закреплять управляющий битый , устранять за счет \" широковещательный \" природа проиллюстрировать в пример подход .\r\n",
      " тем самый узел в освобождать от связанный с обработка нагрузка , который брать на себя комплект ааа с цель расчет корректировка мощность обратный канал в режим ofdma , за счет что сохраняться ресурс система .\r\n",
      " второй пример регулирование мощность обратный канал в режим ofdma передача в режим cdma в предел зона cdma распределять полоса 400 частота показывать на фиг.3 гибридный система 300 cdma/ofdma обычно называть \" непрерывный \" , тогда как передача в режим ofdma в предел соответствующий зона ofdma называть \" пакетный \" ( например , нерегулярный , прерывистый , периодический и т . д . ) .\r\n",
      " обычный регулятор мощность в режим ofdma не корректировать установка мощность в режим ofdma в \" пауза \" между пакетный передача в режим ofdma .\r\n",
      " далее приводить пример , в который передача сигнал cdma , который являться более или менее непрерывный , использовать для настройка регулятор мощность в режим ofdma во время перерыв между пакетный передача в режим ofdma .\r\n",
      " определение , данные высокий применительно к проиллюстрированный на фиг.6б расчет на шаг s655 , в порядок ссылка включать в приводить далее пример .\r\n",
      " на фиг.7 проиллюстрировать способ регулирование мощность обратный канал в режим ofdma согласно другой пример осуществление настоящий изобретение .\r\n",
      " на шаг s700 ааа 305 устанавливать соединение с узел в 120 и передавать данные посредством протокол cdma в предел зона cdma распределять полоса 400 частота проиллюстрировать на фиг.3 гибридный система 300 cdma/ofdma .\r\n",
      " предполагаться , что на шаг s700 еще не происходить передача пакет в режим ofdma .\r\n",
      " на шаг s705 в ааа 305 устанавливать \" начальный \" уровень мощность передача пилот-сигнала ofdma , то быть уровень мощность передача пилот-сигнала , устанавливать до первое ofdma с цель передача первое пакет в режим ofdma , выраженный в вид следующий уравнение : в который начальный отношение мощность α ( t ) устанавливать на стандартный уровень , определять инженером-разработчиком система .\r\n",
      " \" начальный \" уровень мощность передача графика в режим ofdma устанавливать путем умножение po ( t ) на зависеть от скорость передача отношение трафик-пилот-сигнал ( отпс , от английский - traffic-to-pilot ratio ) или путем определение величина усиление пилот-сигнала , который зависеть от скорость передача .\r\n",
      " в данный случай термин \" зависеть от скорость передача \" означать , что отпс или величина усиление пилот-сигнала основывать на различный требование к оспш , соответствующий различный скорость передача .\r\n",
      " на шаг s710 ааа 305 передавать данные в режим ofdma с использование один или несколько зона ofdma .\r\n",
      " на шаг s715 узел в измерять оспш принимать пакет данные в режим ofdma и на шаг s720 сравнивать измеренный оспш пакет данные в режим ofdma с заданный оспш в режим ofdma .\r\n",
      " задать оспш в режим ofdma мочь являться фиксированный величина , адаптировать величина и т . д . если в гибридный система 300 cdma/ofdma предусматривать независимый бит ofdma для регулирование мощность , на шаг s725 узел в 320 передавать независимый бит ofdma .\r\n",
      " в качество альтернатива , если такой независимый бит ofdma не предусматривать в гибридный система 300 cdma/ofdma , на шаг s725 одновременно рассчитывать значение оспш .\r\n",
      " иной слово , для регулирование мощность передача как в режим cdma , так и режим ofdma , ааа 305 использовать одиночный управляющий бит или общий бит .\r\n",
      " общий бит определять , исходить из значение оспш как в режим ofdma , так и режим cdma .\r\n",
      " пакет данные в режим ofdma , начинать на шаг s710 , заканчиваться на шаг s730 .\r\n",
      " в пауза между передача пакет в режим ofdma на шаг s735 узел в 320 рассчитывать оспш в режим ofdma с помощь следующий уравнение : в который го , est ( t ) означать расчетный значение оспш в режим ofdma во временной интервал t , αest ( t ) означать расчетный отношение мощность во временной интервал t , a β ( t ) означать коэффициент корреляция во временной интервал t .\r\n",
      " на шаг s740 сравнивать расчетный значение го , est ( t ) оспш в режим ofdma с заданный величина го оспш в режим ofdma , и на шаг s745 узел в 320 , исходить из результат сравнение , передавать ааа 305 бит регулирование мощность передача ( рмп или трс , от англ . - transmit power control ) в режим ofdma .\r\n",
      " бит рмп являться одноразрядный двоичный показатель , который устанавливать на первое логический уровень ( например , более высокий логический уровень или уровень \" i \" ) , чтобы давать команда ааа ( например , ааа 305 ) увеличивать мощность передача на фиксированный величина , и на второе логический уровень ( например , более низкий логический уровень или уровень \"0 \" ) , чтобы давать команда ааа ( например , ааа 105 ) уменьшать мощность передача на фиксированный величина .\r\n",
      " в один из пример , если сравнение на шаг s745 показывать , что расчетный величина оспш в режим ofdma маленький заданный величина оспш в режим ofdma , узел в 320 передавать ааа 305 бит рмп , иметь первый логический уровень ( например , более высокий логический уровень или уровень \" 1 \" ) .\r\n",
      " в противный случай узел в 320 передавать ааа 305 бит рмп , иметь второй логический уровень ( например , более низкий логический уровень или уровень \"0 \" ) .\r\n",
      " хотя расчетный значение го , est ( t ) оспш в режим ofdma не использовать при передача пакет в режим ofdma , поскольку доступный фактически измерять величина оспш в режим ofdma , коэффициент корреляция β ( t ) , использовать при передача пакет в режим ofdma , обновлять при передача пакет в режим ofdma , чтобы получать более точный расчетный значение го , est ( t ) оспш в режим ofdma в пауза между передача пакет в режим ofdma .\r\n",
      " соответственно при передача пакет в режим ofdma коэффициент корреляция β ( t ) обновлять на шаг s750 согласно следующий уравнение : в который λ означать коэффициент забывание в предел от 0 до 1 .\r\n",
      " коэффициент забывание являться постоянный величина , определять инженером-разработчиком система .\r\n",
      " максимальный мощность передача мобильный станция далее описывать пример установление предел максимальный мощность передача на один тональный посылка для комплект ааа 305 .\r\n",
      " в один из пример комплект ааа , располагать вблизи граница сотня ( например , между узел в 120 и узел в 125 ) , оказывать более сильный влияние на помеха в соседний сота , чем комплект ааа , располагать вблизи обслуживать узел в ( например , вблизи центр соты ) .\r\n",
      " при отсутствие регулирование максимальный мощность , с который разрешать осуществлять передача заданный комплект ааа , мочь усиливать суммарный помеха в система .\r\n",
      " далее приводить пример установление максимальный мощность на один тональный посылка или максимальный уровень мощность передача для ааа в проиллюстрировать на фиг.3 гибридный система 300 cdma/ofdma в зависимость от местоположение ааа относительно множество сотня .\r\n",
      " кроме тот , хотя приводить далее пример осуществление описывать применительно к ааа 305 , иметь узел в 320 в качество обслуживать узел в и узел в 325 в качество соседний узел в , этот частный конфигурация служить лишь пример , и нетрудно понимать , что описывать далее способ регулирование максимальный мощность передача в качество альтернатива применимый к любой ааа в гибридный система 300 cdma/ofdma .\r\n",
      " каждый из узел в ( например , узел в 120 , 125 и т . д . ) гибридный система 300 cdma/ofdma периодически измерять величина принимать внесотовый помеха ( например , помеха со сторона сотня помимо собственный соты узел в ) .\r\n",
      " каждый из узел в сравнивать измеренный внесотовый помеха с предел внесотовый помеха iothresh .\r\n",
      " в один из пример предел внесотовый помеха iothresh для узел в 320/325 мочь устанавливать крс 330 .\r\n",
      " каждый из k-числа узел в , исходить из результат сравнение , передавать ( например , все ааа в предел досягаемость , такой как ааа 305 ) бит активность помеха ( бап или iab ) .\r\n",
      " рассмотреть в качество пример узел в \" p \" , если сравнение показывать , что измеренный внесотовый помеха превышать предел внесотовый помеха iothresh , то iab (р)=1 , при этот узел в р отображать один из узел в гибридный система 300 cdma/ofdma .\r\n",
      " в противный случай , если сравнение показывать , что измеренный внесотовый помеха не превышать предел внесотовый помеха iothresh , то iab(р)=0 .\r\n",
      " подразумеваться , что iab мочь передавать один или несколько узел в одновременно , и ааа гибридный система 300 cdma/ofdma способный принимать множество iab частично в зависимость от местоположение ааа относительно соседний или обслуживать узел в гибридный система 300 cdma/ofdma .\r\n",
      " далее на пример показывать на фиг.8 типичный ааа 305 описывать способ регулирование максимальный предельный мощность передача на один тональный посылка , осуществлять в комплект ааа система 100 cdma , с учет iab , передаваемый узел в. на фиг.8 проиллюстрировать способ установление предел максимальный мощность передача на один тональный посылка для комплект ааа согласно один из пример осуществление настоящий изобретение , проиллюстрированный на фиг.8 пример осуществление описывать далее применительно к типичный ааа ( например , ааа 305 ) и k-числу узел в ( например , узел в 120 , 125 и т . д . ) гибридный система 300 cdma/ofdma , при этот k являться целый число , большой или равный 1 .\r\n",
      " проиллюстрированный на фиг.8 и описывать далее шаг осуществлять , например , ааа 305 , показывать на фиг.3 .\r\n",
      " типичный ааа 305 необязательно поддерживать активный связь с несколько из k-числа узел в ( например , хотя это и возможно , такой как в режим \" плавной передача управление \" ) , при этот типичный ааа 305 способный \" прослушивать \" или принимать сигнал , поступать от все из k-числа узел в. соответственно подразумеваться , что число k мочь менять в зависимость от местоположение ааа 305 в предел гибридный система 300 cdma/ofdma .\r\n",
      " например , если ааа 305 находиться в непосредственный близость к обслуживающий узел в , такой как узел в 120 , k обычно равно 1 .\r\n",
      " по мера приближение ааа 305 к граница соты k обычно становиться большой 1 .\r\n",
      " в проиллюстрированный на фиг.8 пример осуществление на шаг s800 ааа 305 устанавливать максимальный предельный мощность передача на один тональный посылка для ааа 305 , обслуживать узел в 320 согласно следующий уравнение : в который pmax ( l ) означать максимальный мощность за начальный период время , iothresh означать предел внесотовый помеха ( например , допустимый величина внесотовый помеха ) , a g ( d ) означать средний коэффициент усиление в канал от ааа 305 до кратный d узел в из k-числа узел в , при этот d являться целый число от l до k .\r\n",
      " в один из пример измерение g ( d ) основывать на измерение оспш общий пилот-сигнала и преамбула , а предел внесотовый помеха iothresh определять инженер-разработчик .\r\n",
      " на шаг s805 ааа 305 принимать iab ( рассматривать высокий до рассмотрение фиг.8 ) от каждый из k-числа узел в и на шаг s810 определять , необходимый ли корректировка максимальный предельный мощность передача на один тональный посылка .\r\n",
      " если на шаг s810 устанавливать , что корректировка необходимый , на шаг s815 рассчитывать корректировка мощность для ааа 305 .\r\n",
      " в противный случай способ возвращаться к шаг s805 .\r\n",
      " на шаг s815 ааа 305 устанавливать область память под название pcbucket ( t ) для маркер ресурс мощность передача , в который на основа принимать iab задавать текущий обновлять значение ресурс мощность передача в вид следующий уравнение : если любой из iab , принимать ааа 305 , устанавливать на \" i \" , δpdown = w * max ( g ( y ) ) , при этот у означать узел в из k-числа узел в , передавать iab , равный \"1 \" в момент время t , a w означать фиксированный весовой коэффициент , заданный инженером-разработчиком .\r\n",
      " в качество альтернатива pcbucket ( t ) выражать как если все iab , принимать ааа 305 , устанавливать на \"0 \" , при этот \" t \" означать текущий период время , \"t-1 \" означать предыдущий период время , а δpup выражать как при этот х равный вероятность тот , что внесотовый помеха , измеренный заданный узел в , превышать предел внесотовый помеха iothresh .\r\n",
      " в один из пример вероятность \" х \" основывать на требовать зона действие задавать узел в ( например , узел в 320 ) .\r\n",
      " в один из дополнительный пример вероятность \" х \" определять во время развертывание или установка гибридный система 300 ofdma/cdma .\r\n",
      " pbucket ( t ) являться усредненный вариант pcbucket ( t ) ; который выражать как pmax ( t ) рассчитывать как если запланировать передача комплект ааа 305 новый кодировать пакет узел в 320 , и если передача новый кодировать пакет не запланировать , при этот pmargin означать величина смещение , большой или равный 0 , чтобы гарантировать , что область память не становиться пустой во время передача кодировать пакет .\r\n",
      " в один из пример скорость передача новый кодировать пакет выбирать такой образ , чтобы величина pmax ( t ) быть устанавливать на достаточный уровень мощность для достижение предельный уровень спектральный эффективность .\r\n",
      " после установление на шаг s815 максимальный предельный мощность передача на один тональный посылка pmax ( t ) в соответствие с один из уравнение (14 ) и (15 ) способ возвращаться к шаг s805 .\r\n",
      " соответственно , исходить из описывать высокий со ссылка на фиг.8 примерный методика , специалист в данный область техника понять , что комплект ааа , располагать близкий к больший число узел в ( например , на больший удаление от обслуживать узел в и близкий к граница соты ) , регулировать максимальный предельный мощность передача на один тональный посылка более скачкообразный , тогда как комплект ааа , располагать близкий к обслуживающий узел в , медленный реагировать на битый iab .\r\n",
      " при вычисление спектральный эффективность , необходимый для ааа , мочь использовать сочетание контрольный мощность ( po ( t ) ) пилот-сигнала и максимально допустимый мощность сигнал данных/пилот-сигнала .\r\n",
      " кроме тот , в параллельно подавать патентный заявка us тот же автор под название \" method of reverse link power control \" ( способ регулирование мощность обратный канал ) , содержание который в порядок ссылка целиком включать в настоящий описание , описывать альтернативный пример установление и регулирование максимальный предельный мощность передача на один импульс в режим cdma .\r\n",
      " из описывать пример осуществление настоящий изобретение следовать , что они мочь быть изменять различный образ .\r\n",
      " например , подразумеваться , что узел в и ааа мочь в качество альтернатива именовать базовый станция ( бс ) или сеть доступ ( сд ) и мобильный станция ( бс ) , терминал доступ ( тд ) или мобильный устройство ( й ) , соответственно .\r\n",
      " кроме тот , хотя в описание речь идти о система cdma/ofdma , нетрудно понимать , что о можно адаптировать к универсальный система мобильный связь ( umt , от англ . - universal mobile telecommunications system ) .\r\n",
      " такой вариант не должный считать отступление от представлять пример осуществление изобретение , и предполагаться , что все такой усовершенствование входить в объем изобретение .  ."
     ]
    }
   ],
   "source": [
    "!cat {all_docs[3]}"
   ]
  },
  {
   "cell_type": "code",
   "execution_count": 39,
   "metadata": {
    "ExecuteTime": {
     "end_time": "2017-08-01T07:44:20.982316Z",
     "start_time": "2017-08-01T07:44:20.840936Z"
    },
    "scrolled": true
   },
   "outputs": [
    {
     "name": "stdout",
     "output_type": "stream",
     "text": [
      "﻿способ экономия электроэнергия .\r\n",
      " изобретение относиться к проблема экономия электроэнергия , как один из весомый в программа борьба с глобальный потепление климат , и эффективный мочь быть применять , как это ни показаться неожиданный , в область кулинарный хозяйство .\r\n",
      " проблема с электроэнергия возникнуть сразу же после изобретение в 1879 г . гениальный томас альва эдисон электрический лампа накаливание .\r\n",
      " при ее запиток от использовать тогда источник постоянный ток , недопустимый большой быть потеря в линия передача на большой расстояние .\r\n",
      " проблема быть устранять в 1887 г . один из великий физик современность никола теслый , свой изобретение генератор переменный ток и высоковольтный трансформатор .\r\n",
      " дальнейший нововведение , как и этот , подстраиваться , в основной , к электрический характеристика объект запиток , как правило не учитывать они физический особенность .\r\n",
      " в кулинария экономия затрачивать энергия не являться главенствующий фактор , но неизменный оставаться только стремление максимально точно соблюдать век складываться « секрет » старинный кухня .\r\n",
      " здесь я хотеться бы останавливаться на два момент старинный процесс , который позволять говорить о возможный внедрение экономия электроэнергия в промышленный и бытовой сфера без заметный влияние на конечный результат .\r\n",
      " во - первое , вспоминать , что температура кипеть вода при нормальный атмосферный давление практически всегда постоянный , независимо от интенсивность кипение , и во - второе , что один из окончательный стадия приготовление блюдо фактически уже являться столь необходимый мы экономия .\r\n",
      " ( снимать с плита сосуд , напр . , с какой либо крупа , накрывать толстый чехол и оставлять на достаточно большой время только под воздействие ранее получать тепловой энергия без дополнительный подогрев . ) такой прием иметь разный название в разный географический район , но я казаться более соответствующий смысл , название - « томить » , чем « настаивать » ( так в кулинарный книга ) .\r\n",
      " способ проверенный я на бытовой плита « электр 1001 .\r\n",
      " результат превзойти самый смелый ожидание .\r\n",
      " с момент начать кипение через каждый 5 мина . питание отключаться на 10 мина . практически без прерывание кипение .\r\n",
      " все действие по управление режим нагревание проводить иметься в плита средство , без какой - либо изменение .\r\n",
      " естественный , большой экономия получиться на длительный процесс .\r\n",
      " а время приготовление блюдо мочь быть до 50 мина . ( « кухня народ россия » , москва , сп « квадрат » 1993 г . , стр 138 . ) .\r\n",
      " способ экономия электроэнергия от источник постоянный или переменный ток произвольный частота , форма и амплитуда , отличать тем , что в цель максимальный экономия электронагреватель периодически включать на заданный интервал время t1 с последующий соответствующий выключение через интервал t2 . .\r\n",
      " предлагать способ можно использовать как в бытовой , так и в промышленный сектор кулинария .\r\n",
      " давно известный способ ( аналог ) предлагать способ экономия .\r\n",
      " о широко использовать водитель электропоез , автотранспорт как с электро , так и с обычный двигатель , и др . набирать нужный скорость , водитель , пользоваться знание закон инерция , выключать двигатель до следующий участок разгон .\r\n",
      " недостаток этот способ являться разный физический природа рассматривать процесс .\r\n",
      " наиболее близкий технический решение являться операция , подобный ныне использовать в кулинария - « томить ( или « настаивать » ) .\r\n",
      " недостаток являться одноразовость этот операция и только в конец процесс приготовление блюдо .\r\n",
      " цель изобретение - получать максимально возможный экономия .\r\n",
      " поставлять цель достигаться изменение технология приготовление блюдо путем введение выбирать пользователь дискретный циклический процесс прерывание подача электроэнергия на электронагреватель на заданный по длительность интервал время .\r\n",
      " примечание .\r\n",
      " ввиду возможность применение серийный промышленный устройство и простота схема , дополнительный схема и описание не требоваться . ."
     ]
    }
   ],
   "source": [
    "! cat {val_docs[0]}"
   ]
  },
  {
   "cell_type": "code",
   "execution_count": 23,
   "metadata": {
    "ExecuteTime": {
     "end_time": "2017-08-01T15:56:52.015669Z",
     "start_time": "2017-08-01T15:56:52.002654Z"
    }
   },
   "outputs": [
    {
     "data": {
      "text/plain": [
       "'../data/validate/_01_98_2010120931A10010101RU.txt'"
      ]
     },
     "execution_count": 23,
     "metadata": {},
     "output_type": "execute_result"
    }
   ],
   "source": [
    "val_docs[0]"
   ]
  },
  {
   "cell_type": "code",
   "execution_count": 24,
   "metadata": {
    "ExecuteTime": {
     "end_time": "2017-08-01T15:56:52.037984Z",
     "start_time": "2017-08-01T15:56:52.024375Z"
    },
    "scrolled": true
   },
   "outputs": [
    {
     "data": {
      "text/html": [
       "<div>\n",
       "<style>\n",
       "    .dataframe thead tr:only-child th {\n",
       "        text-align: right;\n",
       "    }\n",
       "\n",
       "    .dataframe thead th {\n",
       "        text-align: left;\n",
       "    }\n",
       "\n",
       "    .dataframe tbody tr th {\n",
       "        vertical-align: top;\n",
       "    }\n",
       "</style>\n",
       "<table border=\"1\" class=\"dataframe\">\n",
       "  <thead>\n",
       "    <tr style=\"text-align: right;\">\n",
       "      <th></th>\n",
       "      <th>word</th>\n",
       "      <th>score</th>\n",
       "    </tr>\n",
       "  </thead>\n",
       "  <tbody>\n",
       "    <tr>\n",
       "      <th>0</th>\n",
       "      <td>показаться</td>\n",
       "      <td>0.440496</td>\n",
       "    </tr>\n",
       "    <tr>\n",
       "      <th>1</th>\n",
       "      <td>весомый</td>\n",
       "      <td>0.398666</td>\n",
       "    </tr>\n",
       "    <tr>\n",
       "      <th>2</th>\n",
       "      <td>потепление</td>\n",
       "      <td>0.371143</td>\n",
       "    </tr>\n",
       "    <tr>\n",
       "      <th>3</th>\n",
       "      <td>климат</td>\n",
       "      <td>0.290792</td>\n",
       "    </tr>\n",
       "    <tr>\n",
       "      <th>4</th>\n",
       "      <td>неожиданный</td>\n",
       "      <td>0.246081</td>\n",
       "    </tr>\n",
       "    <tr>\n",
       "      <th>5</th>\n",
       "      <td>кулинарный</td>\n",
       "      <td>0.239139</td>\n",
       "    </tr>\n",
       "    <tr>\n",
       "      <th>6</th>\n",
       "      <td>возникнуть</td>\n",
       "      <td>0.237528</td>\n",
       "    </tr>\n",
       "    <tr>\n",
       "      <th>7</th>\n",
       "      <td>глобальный</td>\n",
       "      <td>0.233594</td>\n",
       "    </tr>\n",
       "    <tr>\n",
       "      <th>8</th>\n",
       "      <td>борьба</td>\n",
       "      <td>0.219673</td>\n",
       "    </tr>\n",
       "    <tr>\n",
       "      <th>9</th>\n",
       "      <td>экономия</td>\n",
       "      <td>0.197734</td>\n",
       "    </tr>\n",
       "    <tr>\n",
       "      <th>10</th>\n",
       "      <td>электроэнергия</td>\n",
       "      <td>0.184646</td>\n",
       "    </tr>\n",
       "    <tr>\n",
       "      <th>11</th>\n",
       "      <td>хозяйство</td>\n",
       "      <td>0.175455</td>\n",
       "    </tr>\n",
       "    <tr>\n",
       "      <th>12</th>\n",
       "      <td>программа</td>\n",
       "      <td>0.155932</td>\n",
       "    </tr>\n",
       "    <tr>\n",
       "      <th>13</th>\n",
       "      <td>проблема</td>\n",
       "      <td>0.125558</td>\n",
       "    </tr>\n",
       "    <tr>\n",
       "      <th>14</th>\n",
       "      <td>область</td>\n",
       "      <td>0.060659</td>\n",
       "    </tr>\n",
       "  </tbody>\n",
       "</table>\n",
       "</div>"
      ],
      "text/plain": [
       "              word     score\n",
       "0       показаться  0.440496\n",
       "1          весомый  0.398666\n",
       "2       потепление  0.371143\n",
       "3           климат  0.290792\n",
       "4      неожиданный  0.246081\n",
       "5       кулинарный  0.239139\n",
       "6       возникнуть  0.237528\n",
       "7       глобальный  0.233594\n",
       "8           борьба  0.219673\n",
       "9         экономия  0.197734\n",
       "10  электроэнергия  0.184646\n",
       "11       хозяйство  0.175455\n",
       "12       программа  0.155932\n",
       "13        проблема  0.125558\n",
       "14         область  0.060659"
      ]
     },
     "execution_count": 24,
     "metadata": {},
     "output_type": "execute_result"
    }
   ],
   "source": [
    "tweights['_01_98_2010120931A10010101RU']"
   ]
  },
  {
   "cell_type": "code",
   "execution_count": 41,
   "metadata": {
    "ExecuteTime": {
     "end_time": "2017-08-01T16:00:19.576531Z",
     "start_time": "2017-08-01T16:00:19.563270Z"
    },
    "collapsed": true
   },
   "outputs": [],
   "source": [
    "# with open(all_docs[0]) as f:\n",
    "#     text = f.read()\n",
    "# doc = []\n",
    "# for sent in nltk.sent_tokenize(text):\n",
    "#     doc.append(list(tokenize(sent)))"
   ]
  },
  {
   "cell_type": "code",
   "execution_count": 57,
   "metadata": {
    "ExecuteTime": {
     "end_time": "2017-08-01T16:40:39.119948Z",
     "start_time": "2017-08-01T16:40:39.085091Z"
    },
    "scrolled": false
   },
   "outputs": [
    {
     "data": {
      "text/plain": [
       "1.1862011812374436"
      ]
     },
     "execution_count": 57,
     "metadata": {},
     "output_type": "execute_result"
    }
   ],
   "source": [
    "doc = docs[3]\n",
    "# words = set([w for s in doc for w in s if w in wv])\n",
    "words = set([w for w in doc if w in wv])\n",
    "\n",
    "smat = sim_matrix(words, val_words, wv)\n",
    "\n",
    "query = tweights['_01_98_2010120931A10010101RU']\n",
    "qsmat = smat.loc[:, query.word]\n",
    "dist = wmd(qsmat, query.score)\n",
    "dist\n"
   ]
  },
  {
   "cell_type": "code",
   "execution_count": 58,
   "metadata": {
    "ExecuteTime": {
     "end_time": "2017-08-01T16:40:40.584257Z",
     "start_time": "2017-08-01T16:40:40.563917Z"
    },
    "scrolled": true
   },
   "outputs": [
    {
     "data": {
      "text/html": [
       "<div>\n",
       "<style>\n",
       "    .dataframe thead tr:only-child th {\n",
       "        text-align: right;\n",
       "    }\n",
       "\n",
       "    .dataframe thead th {\n",
       "        text-align: left;\n",
       "    }\n",
       "\n",
       "    .dataframe tbody tr th {\n",
       "        vertical-align: top;\n",
       "    }\n",
       "</style>\n",
       "<table border=\"1\" class=\"dataframe\">\n",
       "  <thead>\n",
       "    <tr style=\"text-align: right;\">\n",
       "      <th></th>\n",
       "      <th>показаться</th>\n",
       "      <th>весомый</th>\n",
       "      <th>потепление</th>\n",
       "      <th>климат</th>\n",
       "      <th>неожиданный</th>\n",
       "      <th>кулинарный</th>\n",
       "      <th>возникнуть</th>\n",
       "      <th>глобальный</th>\n",
       "      <th>борьба</th>\n",
       "      <th>экономия</th>\n",
       "      <th>электроэнергия</th>\n",
       "      <th>хозяйство</th>\n",
       "      <th>программа</th>\n",
       "      <th>проблема</th>\n",
       "      <th>область</th>\n",
       "    </tr>\n",
       "  </thead>\n",
       "  <tbody>\n",
       "    <tr>\n",
       "      <th>предел</th>\n",
       "      <td>0.222915</td>\n",
       "      <td>0.226620</td>\n",
       "      <td>0.129059</td>\n",
       "      <td>0.249751</td>\n",
       "      <td>0.217041</td>\n",
       "      <td>0.089712</td>\n",
       "      <td>0.252470</td>\n",
       "      <td>0.119421</td>\n",
       "      <td>0.061989</td>\n",
       "      <td>0.213100</td>\n",
       "      <td>0.203619</td>\n",
       "      <td>0.133903</td>\n",
       "      <td>0.105193</td>\n",
       "      <td>0.113047</td>\n",
       "      <td>0.266639</td>\n",
       "    </tr>\n",
       "    <tr>\n",
       "      <th>пользователь</th>\n",
       "      <td>0.316479</td>\n",
       "      <td>0.186099</td>\n",
       "      <td>0.177385</td>\n",
       "      <td>0.215726</td>\n",
       "      <td>0.191394</td>\n",
       "      <td>0.209686</td>\n",
       "      <td>0.294490</td>\n",
       "      <td>0.328601</td>\n",
       "      <td>0.117957</td>\n",
       "      <td>0.200976</td>\n",
       "      <td>0.238368</td>\n",
       "      <td>0.099609</td>\n",
       "      <td>0.385787</td>\n",
       "      <td>0.340293</td>\n",
       "      <td>0.246072</td>\n",
       "    </tr>\n",
       "    <tr>\n",
       "      <th>регулирование</th>\n",
       "      <td>0.145263</td>\n",
       "      <td>0.238717</td>\n",
       "      <td>0.146695</td>\n",
       "      <td>0.266941</td>\n",
       "      <td>0.238457</td>\n",
       "      <td>0.126915</td>\n",
       "      <td>0.202871</td>\n",
       "      <td>0.160395</td>\n",
       "      <td>0.191642</td>\n",
       "      <td>0.315056</td>\n",
       "      <td>0.400921</td>\n",
       "      <td>0.208903</td>\n",
       "      <td>0.171184</td>\n",
       "      <td>0.338859</td>\n",
       "      <td>0.170977</td>\n",
       "    </tr>\n",
       "    <tr>\n",
       "      <th>мощность</th>\n",
       "      <td>0.048589</td>\n",
       "      <td>0.223808</td>\n",
       "      <td>0.096208</td>\n",
       "      <td>0.151937</td>\n",
       "      <td>0.052074</td>\n",
       "      <td>0.113107</td>\n",
       "      <td>0.216917</td>\n",
       "      <td>0.147175</td>\n",
       "      <td>0.101564</td>\n",
       "      <td>0.312040</td>\n",
       "      <td>0.460422</td>\n",
       "      <td>0.139996</td>\n",
       "      <td>0.206276</td>\n",
       "      <td>0.187195</td>\n",
       "      <td>0.110190</td>\n",
       "    </tr>\n",
       "    <tr>\n",
       "      <th>технический</th>\n",
       "      <td>0.157256</td>\n",
       "      <td>0.365887</td>\n",
       "      <td>0.140045</td>\n",
       "      <td>0.231464</td>\n",
       "      <td>0.358872</td>\n",
       "      <td>0.244606</td>\n",
       "      <td>0.221113</td>\n",
       "      <td>0.116418</td>\n",
       "      <td>0.257968</td>\n",
       "      <td>0.407176</td>\n",
       "      <td>0.301018</td>\n",
       "      <td>0.336685</td>\n",
       "      <td>0.139576</td>\n",
       "      <td>0.422906</td>\n",
       "      <td>0.118049</td>\n",
       "    </tr>\n",
       "    <tr>\n",
       "      <th>связь</th>\n",
       "      <td>0.119589</td>\n",
       "      <td>0.172368</td>\n",
       "      <td>0.127367</td>\n",
       "      <td>0.169457</td>\n",
       "      <td>0.156390</td>\n",
       "      <td>0.156906</td>\n",
       "      <td>0.310426</td>\n",
       "      <td>0.335313</td>\n",
       "      <td>0.182458</td>\n",
       "      <td>0.156400</td>\n",
       "      <td>0.272299</td>\n",
       "      <td>0.154010</td>\n",
       "      <td>0.187882</td>\n",
       "      <td>0.271217</td>\n",
       "      <td>0.173028</td>\n",
       "    </tr>\n",
       "    <tr>\n",
       "      <th>канал</th>\n",
       "      <td>0.135300</td>\n",
       "      <td>0.134975</td>\n",
       "      <td>0.127520</td>\n",
       "      <td>0.129224</td>\n",
       "      <td>0.029010</td>\n",
       "      <td>0.115552</td>\n",
       "      <td>0.273952</td>\n",
       "      <td>0.180487</td>\n",
       "      <td>0.098440</td>\n",
       "      <td>0.198425</td>\n",
       "      <td>0.231041</td>\n",
       "      <td>0.100958</td>\n",
       "      <td>0.184882</td>\n",
       "      <td>0.194813</td>\n",
       "      <td>0.190089</td>\n",
       "    </tr>\n",
       "    <tr>\n",
       "      <th>соты</th>\n",
       "      <td>0.097455</td>\n",
       "      <td>0.157869</td>\n",
       "      <td>0.178990</td>\n",
       "      <td>0.259451</td>\n",
       "      <td>0.125702</td>\n",
       "      <td>0.112175</td>\n",
       "      <td>0.159508</td>\n",
       "      <td>0.317211</td>\n",
       "      <td>0.128234</td>\n",
       "      <td>0.206745</td>\n",
       "      <td>0.166468</td>\n",
       "      <td>0.162317</td>\n",
       "      <td>0.179217</td>\n",
       "      <td>0.204434</td>\n",
       "      <td>0.111233</td>\n",
       "    </tr>\n",
       "    <tr>\n",
       "      <th>беспроводный</th>\n",
       "      <td>0.102244</td>\n",
       "      <td>0.087262</td>\n",
       "      <td>0.192080</td>\n",
       "      <td>0.174451</td>\n",
       "      <td>0.102853</td>\n",
       "      <td>0.187479</td>\n",
       "      <td>0.199307</td>\n",
       "      <td>0.517019</td>\n",
       "      <td>0.166504</td>\n",
       "      <td>0.179111</td>\n",
       "      <td>0.304019</td>\n",
       "      <td>0.149040</td>\n",
       "      <td>0.360184</td>\n",
       "      <td>0.233925</td>\n",
       "      <td>0.150488</td>\n",
       "    </tr>\n",
       "    <tr>\n",
       "      <th>передача</th>\n",
       "      <td>0.113141</td>\n",
       "      <td>0.156698</td>\n",
       "      <td>0.104309</td>\n",
       "      <td>0.104834</td>\n",
       "      <td>0.049126</td>\n",
       "      <td>0.127363</td>\n",
       "      <td>0.274694</td>\n",
       "      <td>0.302169</td>\n",
       "      <td>0.108817</td>\n",
       "      <td>0.250237</td>\n",
       "      <td>0.300007</td>\n",
       "      <td>0.078564</td>\n",
       "      <td>0.269865</td>\n",
       "      <td>0.218271</td>\n",
       "      <td>0.149493</td>\n",
       "    </tr>\n",
       "    <tr>\n",
       "      <th>обратный</th>\n",
       "      <td>0.143655</td>\n",
       "      <td>0.141478</td>\n",
       "      <td>0.047636</td>\n",
       "      <td>0.043627</td>\n",
       "      <td>0.112349</td>\n",
       "      <td>0.053565</td>\n",
       "      <td>0.193196</td>\n",
       "      <td>0.093947</td>\n",
       "      <td>0.078310</td>\n",
       "      <td>0.127558</td>\n",
       "      <td>0.139215</td>\n",
       "      <td>0.071718</td>\n",
       "      <td>0.122725</td>\n",
       "      <td>0.104113</td>\n",
       "      <td>0.058385</td>\n",
       "    </tr>\n",
       "  </tbody>\n",
       "</table>\n",
       "</div>"
      ],
      "text/plain": [
       "               показаться   весомый  потепление    климат  неожиданный  \\\n",
       "предел           0.222915  0.226620    0.129059  0.249751     0.217041   \n",
       "пользователь     0.316479  0.186099    0.177385  0.215726     0.191394   \n",
       "регулирование    0.145263  0.238717    0.146695  0.266941     0.238457   \n",
       "мощность         0.048589  0.223808    0.096208  0.151937     0.052074   \n",
       "технический      0.157256  0.365887    0.140045  0.231464     0.358872   \n",
       "связь            0.119589  0.172368    0.127367  0.169457     0.156390   \n",
       "канал            0.135300  0.134975    0.127520  0.129224     0.029010   \n",
       "соты             0.097455  0.157869    0.178990  0.259451     0.125702   \n",
       "беспроводный     0.102244  0.087262    0.192080  0.174451     0.102853   \n",
       "передача         0.113141  0.156698    0.104309  0.104834     0.049126   \n",
       "обратный         0.143655  0.141478    0.047636  0.043627     0.112349   \n",
       "\n",
       "               кулинарный  возникнуть  глобальный    борьба  экономия  \\\n",
       "предел           0.089712    0.252470    0.119421  0.061989  0.213100   \n",
       "пользователь     0.209686    0.294490    0.328601  0.117957  0.200976   \n",
       "регулирование    0.126915    0.202871    0.160395  0.191642  0.315056   \n",
       "мощность         0.113107    0.216917    0.147175  0.101564  0.312040   \n",
       "технический      0.244606    0.221113    0.116418  0.257968  0.407176   \n",
       "связь            0.156906    0.310426    0.335313  0.182458  0.156400   \n",
       "канал            0.115552    0.273952    0.180487  0.098440  0.198425   \n",
       "соты             0.112175    0.159508    0.317211  0.128234  0.206745   \n",
       "беспроводный     0.187479    0.199307    0.517019  0.166504  0.179111   \n",
       "передача         0.127363    0.274694    0.302169  0.108817  0.250237   \n",
       "обратный         0.053565    0.193196    0.093947  0.078310  0.127558   \n",
       "\n",
       "               электроэнергия  хозяйство  программа  проблема   область  \n",
       "предел               0.203619   0.133903   0.105193  0.113047  0.266639  \n",
       "пользователь         0.238368   0.099609   0.385787  0.340293  0.246072  \n",
       "регулирование        0.400921   0.208903   0.171184  0.338859  0.170977  \n",
       "мощность             0.460422   0.139996   0.206276  0.187195  0.110190  \n",
       "технический          0.301018   0.336685   0.139576  0.422906  0.118049  \n",
       "связь                0.272299   0.154010   0.187882  0.271217  0.173028  \n",
       "канал                0.231041   0.100958   0.184882  0.194813  0.190089  \n",
       "соты                 0.166468   0.162317   0.179217  0.204434  0.111233  \n",
       "беспроводный         0.304019   0.149040   0.360184  0.233925  0.150488  \n",
       "передача             0.300007   0.078564   0.269865  0.218271  0.149493  \n",
       "обратный             0.139215   0.071718   0.122725  0.104113  0.058385  "
      ]
     },
     "execution_count": 58,
     "metadata": {},
     "output_type": "execute_result"
    }
   ],
   "source": [
    "qsmat"
   ]
  },
  {
   "cell_type": "code",
   "execution_count": 64,
   "metadata": {
    "ExecuteTime": {
     "end_time": "2017-08-01T18:25:38.961702Z",
     "start_time": "2017-08-01T18:25:38.955583Z"
    }
   },
   "outputs": [
    {
     "data": {
      "text/plain": [
       "'пользователь'"
      ]
     },
     "execution_count": 64,
     "metadata": {},
     "output_type": "execute_result"
    }
   ],
   "source": [
    "qsmat['показаться'].argmax()"
   ]
  },
  {
   "cell_type": "code",
   "execution_count": 59,
   "metadata": {
    "ExecuteTime": {
     "end_time": "2017-08-01T16:40:44.110905Z",
     "start_time": "2017-08-01T16:40:44.104049Z"
    },
    "scrolled": true
   },
   "outputs": [
    {
     "data": {
      "text/plain": [
       "глобальный        0.517019\n",
       "электроэнергия    0.460422\n",
       "проблема          0.422906\n",
       "экономия          0.407176\n",
       "программа         0.385787\n",
       "весомый           0.365887\n",
       "неожиданный       0.358872\n",
       "хозяйство         0.336685\n",
       "показаться        0.316479\n",
       "возникнуть        0.310426\n",
       "климат            0.266941\n",
       "область           0.266639\n",
       "борьба            0.257968\n",
       "кулинарный        0.244606\n",
       "потепление        0.192080\n",
       "dtype: float32"
      ]
     },
     "execution_count": 59,
     "metadata": {},
     "output_type": "execute_result"
    }
   ],
   "source": [
    "maxs = np.amax(qsmat, axis=0)\n",
    "maxs.sort_values(ascending=False)\n",
    "# np.dot(maxs, tfidf_weights)"
   ]
  },
  {
   "cell_type": "code",
   "execution_count": 62,
   "metadata": {
    "ExecuteTime": {
     "end_time": "2017-08-01T16:41:25.956522Z",
     "start_time": "2017-08-01T16:41:25.787396Z"
    },
    "scrolled": false
   },
   "outputs": [
    {
     "data": {
      "image/png": "[encoded data removed]",
      "text/plain": [
       "<matplotlib.figure.Figure at 0x7fa3dd76ae10>"
      ]
     },
     "metadata": {},
     "output_type": "display_data"
    },
    {
     "name": "stdout",
     "output_type": "stream",
     "text": [
      "count    15.000000\n",
      "mean      0.340660\n",
      "std       0.088724\n",
      "min       0.192080\n",
      "25%       0.266790\n",
      "50%       0.336685\n",
      "75%       0.396482\n",
      "max       0.517019\n",
      "dtype: float64\n"
     ]
    }
   ],
   "source": [
    "maxs.hist()\n",
    "plt.show()\n",
    "print(maxs.describe())"
   ]
  },
  {
   "cell_type": "markdown",
   "metadata": {},
   "source": [
    "**Чем больше документ, тем больше вероятность что в нем найдутся близкие слова к запросу**\n",
    "\n",
    "Как с этим бороться:\n",
    "\n",
    "* взять первых несколько (top 3) предложений в запросе и документе, взять, так сказать, суть\n",
    "* привести все документы к одинаковому количеству слов. Можно взять топ 15 слов по tfidf из запроса и документа.\n",
    "* взять первые 4 предложение и самое первое (название, обычно дублируется), выкинуть\n",
    "* редкие слова (неучтенные стоп слова), которые не имеют особого значения, могут иметь большой вес tfidf, что обманывает алгоритм. Надо либо убрать как можно больше стоп слов, либо при подсчете расстояния м/у документами не учитывать tfidf вообще\n",
    "* чтобы исключить стоп слова или другой мусор, можно взять параметр tfidf модели - процент встречи > 50% то считаем шумом\n",
    "* поиграть с параметрами - для запроса первые 3 предложения, для документа - 3,4,5"
   ]
  },
  {
   "cell_type": "markdown",
   "metadata": {},
   "source": [
    "\n",
    "# First_n"
   ]
  },
  {
   "cell_type": "code",
   "execution_count": 11,
   "metadata": {
    "ExecuteTime": {
     "end_time": "2017-08-01T15:54:04.451974Z",
     "start_time": "2017-08-01T15:54:04.426739Z"
    },
    "collapsed": true
   },
   "outputs": [],
   "source": [
    "fn = join(DATA_FOLDER, 'first3_val.json.gz')\n",
    "\n",
    "with GzipFile(fn, 'r') as myzip:\n",
    "    text = myzip.read()\n",
    "val_documents = json.loads(text)\n",
    "del text"
   ]
  },
  {
   "cell_type": "code",
   "execution_count": 12,
   "metadata": {
    "ExecuteTime": {
     "end_time": "2017-08-01T15:54:04.566725Z",
     "start_time": "2017-08-01T15:54:04.453537Z"
    },
    "scrolled": true
   },
   "outputs": [
    {
     "name": "stderr",
     "output_type": "stream",
     "text": [
      "130it [00:00, 1588.17it/s]\n"
     ]
    }
   ],
   "source": [
    "tweights = {}\n",
    "for fname, doc in tqdm(zip(val_docs, val_documents)):\n",
    "    tokenized_filtered = [w for w in doc if w in wv]\n",
    "    doc_bow = dictionary.doc2bow(tokenized_filtered)\n",
    "    sorted_tfidf = sorted(tfidf[doc_bow], key=itemgetter(1), reverse=True)\n",
    "    sorted_tfidf = pd.DataFrame([(dictionary[k],v) for k,v in sorted_tfidf],\n",
    "                               columns=['word', 'score'])\n",
    "\n",
    "    name = path.splitext(basename(fname))[0]\n",
    "    tweights[name] = sorted_tfidf\n",
    "\n",
    "val_words = set(pd.concat([v.word for v in tweights.values()]))"
   ]
  },
  {
   "cell_type": "code",
   "execution_count": 13,
   "metadata": {
    "ExecuteTime": {
     "end_time": "2017-08-01T15:55:04.893022Z",
     "start_time": "2017-08-01T15:54:04.568711Z"
    },
    "collapsed": true
   },
   "outputs": [],
   "source": [
    "fn = join(DATA_FOLDER, 'first3.json.gz')\n",
    "\n",
    "with GzipFile(fn, 'r') as myzip:\n",
    "    text = myzip.read()\n",
    "docs = json.loads(text)\n",
    "del text"
   ]
  },
  {
   "cell_type": "code",
   "execution_count": 14,
   "metadata": {
    "ExecuteTime": {
     "end_time": "2017-08-01T15:55:19.706691Z",
     "start_time": "2017-08-01T15:55:04.967514Z"
    },
    "scrolled": true
   },
   "outputs": [
    {
     "name": "stderr",
     "output_type": "stream",
     "text": [
      "100%|██████████| 2/2 [00:14<00:00,  9.13s/it]\n"
     ]
    }
   ],
   "source": [
    "doc_dists = []\n",
    "\n",
    "split_on = len(docs)//(cpu_count*100)\n",
    "for i,sub_docs in enumerate(tqdm(np.array_split(docs, split_on))):\n",
    "    ! echo {i} >> ../data/out\n",
    "    parallelizer = Parallel(n_jobs=cpu_count)\n",
    "\n",
    "    # this iterator returns the functions to execute for each task\n",
    "    tasks_iterator = ( delayed(_calc)(docs_block) for \n",
    "                      docs_block in grouper(100, sub_docs) )  \n",
    "    result = parallelizer( tasks_iterator )        \n",
    "    doc_dists += result\n",
    "\n",
    "# doc_dists = _calc(docs)\n",
    "\n",
    "val_dists = np.array(sum(doc_dists, []))"
   ]
  },
  {
   "cell_type": "code",
   "execution_count": 47,
   "metadata": {
    "ExecuteTime": {
     "end_time": "2017-08-01T16:01:09.804519Z",
     "start_time": "2017-08-01T16:01:09.798790Z"
    }
   },
   "outputs": [
    {
     "data": {
      "text/plain": [
       "array([ 1.54428693,  1.01526538,  1.16861337,  1.18620118,  0.9272794 ,\n",
       "        1.15697594,  1.17571529,  1.03664417,  1.18212488,  1.05627956])"
      ]
     },
     "execution_count": 47,
     "metadata": {},
     "output_type": "execute_result"
    }
   ],
   "source": [
    "val_dists[:,0]"
   ]
  },
  {
   "cell_type": "code",
   "execution_count": 17,
   "metadata": {
    "ExecuteTime": {
     "end_time": "2017-08-01T15:55:45.010132Z",
     "start_time": "2017-08-01T15:55:45.006841Z"
    },
    "collapsed": true
   },
   "outputs": [],
   "source": [
    "sorted_args = val_dists.argsort(axis=0)[-20000000:][::-1]"
   ]
  },
  {
   "cell_type": "code",
   "execution_count": 21,
   "metadata": {
    "ExecuteTime": {
     "end_time": "2017-08-01T15:56:12.548544Z",
     "start_time": "2017-08-01T15:56:12.538440Z"
    }
   },
   "outputs": [
    {
     "data": {
      "text/plain": [
       "array([0, 3, 8, 6, 2, 5, 9, 7, 1, 4])"
      ]
     },
     "execution_count": 21,
     "metadata": {},
     "output_type": "execute_result"
    }
   ],
   "source": [
    "sorted_args[:,0]"
   ]
  },
  {
   "cell_type": "code",
   "execution_count": null,
   "metadata": {
    "ExecuteTime": {
     "end_time": "2017-08-01T15:53:24.302646Z",
     "start_time": "2017-08-01T15:51:25.132Z"
    },
    "collapsed": true
   },
   "outputs": [],
   "source": [
    "np.save(join(DATA_FOLDER, 'val_dists_first3.npy'), val_dists)"
   ]
  },
  {
   "cell_type": "code",
   "execution_count": 120,
   "metadata": {
    "ExecuteTime": {
     "end_time": "2017-08-01T19:29:53.240222Z",
     "start_time": "2017-08-01T19:29:52.827242Z"
    }
   },
   "outputs": [],
   "source": [
    "send_email('notebook_url', body='Finished')"
   ]
  }
 ],
 "metadata": {
  "kernelspec": {
   "display_name": "Python 3",
   "language": "python",
   "name": "python3"
  },
  "language_info": {
   "codemirror_mode": {
    "name": "ipython",
    "version": 3
   },
   "file_extension": ".py",
   "mimetype": "text/x-python",
   "name": "python",
   "nbconvert_exporter": "python",
   "pygments_lexer": "ipython3",
   "version": "3.6.1"
  }
 },
 "nbformat": 4,
 "nbformat_minor": 2
}
