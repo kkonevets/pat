{
 "cells": [
  {
   "cell_type": "code",
   "execution_count": 6,
   "metadata": {
    "ExecuteTime": {
     "end_time": "2017-07-31T15:14:26.726620Z",
     "start_time": "2017-07-31T15:14:26.721679Z"
    },
    "scrolled": true
   },
   "outputs": [],
   "source": [
    "from common import *"
   ]
  },
  {
   "cell_type": "markdown",
   "metadata": {},
   "source": [
    "# Load data"
   ]
  },
  {
   "cell_type": "code",
   "execution_count": 7,
   "metadata": {
    "ExecuteTime": {
     "end_time": "2017-07-31T15:14:33.832691Z",
     "start_time": "2017-07-31T15:14:26.736672Z"
    }
   },
   "outputs": [
    {
     "name": "stderr",
     "output_type": "stream",
     "text": [
      "2017-07-31 18:14:26,738 : INFO : loading Word2Vec object from ../data/vectors/w2v_model_300_w10\n",
      "2017-07-31 18:14:28,814 : INFO : loading wv recursively from ../data/vectors/w2v_model_300_w10.wv.* with mmap=None\n",
      "2017-07-31 18:14:28,815 : INFO : loading syn0 from ../data/vectors/w2v_model_300_w10.wv.syn0.npy with mmap=None\n",
      "2017-07-31 18:14:30,386 : INFO : setting ignored attribute syn0norm to None\n",
      "2017-07-31 18:14:30,389 : INFO : loading syn1neg from ../data/vectors/w2v_model_300_w10.syn1neg.npy with mmap=None\n",
      "2017-07-31 18:14:32,005 : INFO : setting ignored attribute cum_table to None\n",
      "2017-07-31 18:14:32,008 : INFO : loaded ../data/vectors/w2v_model_300_w10\n"
     ]
    }
   ],
   "source": [
    "model = gensim.models.Word2Vec.load(join(DATA_FOLDER, 'vectors/w2v_model_300_w10'))\n",
    "wv = model.wv"
   ]
  },
  {
   "cell_type": "code",
   "execution_count": 8,
   "metadata": {
    "ExecuteTime": {
     "end_time": "2017-07-31T15:14:35.632233Z",
     "start_time": "2017-07-31T15:14:33.834002Z"
    }
   },
   "outputs": [
    {
     "name": "stderr",
     "output_type": "stream",
     "text": [
      "2017-07-31 18:14:33,836 : INFO : loading Dictionary object from ../data/pure.dict\n",
      "2017-07-31 18:14:35,187 : INFO : loaded ../data/pure.dict\n",
      "2017-07-31 18:14:35,188 : INFO : loading TfidfModel object from ../data/tfidf_pure.model\n",
      "2017-07-31 18:14:35,630 : INFO : loaded ../data/tfidf_pure.model\n"
     ]
    }
   ],
   "source": [
    "dictionary = corpora.Dictionary.load(join(DATA_FOLDER, 'pure.dict'))\n",
    "tfidf = models.TfidfModel.load(join(DATA_FOLDER, 'tfidf_pure.model'))\n",
    "# !!!!!\n",
    "tfidf.normalize= False"
   ]
  },
  {
   "cell_type": "code",
   "execution_count": 9,
   "metadata": {
    "ExecuteTime": {
     "end_time": "2017-07-31T15:14:36.739281Z",
     "start_time": "2017-07-31T15:14:35.636872Z"
    },
    "collapsed": true
   },
   "outputs": [],
   "source": [
    "all_docs = get_all_docs(DATA_FOLDER)\n",
    "val_docs = sorted(glob(join(DATA_FOLDER, 'validate/*.txt')))"
   ]
  },
  {
   "cell_type": "raw",
   "metadata": {},
   "source": [
    "'автомобиль станция загород' vs 'данный патент представлять схема строениие и сооружение транспортная стоянка в сельская местность'"
   ]
  },
  {
   "cell_type": "markdown",
   "metadata": {},
   "source": [
    "# Main funcs"
   ]
  },
  {
   "cell_type": "code",
   "execution_count": 11,
   "metadata": {
    "ExecuteTime": {
     "end_time": "2017-07-31T15:14:36.776274Z",
     "start_time": "2017-07-31T15:14:36.748514Z"
    },
    "collapsed": true,
    "scrolled": true
   },
   "outputs": [],
   "source": [
    "def sim_matrix(word_set1, word_set2, wv):\n",
    "    l1 = list(word_set1)\n",
    "    l2 = list(word_set2)\n",
    "    wv1 = wv[l1]\n",
    "    wv2 = wv[l2]\n",
    "    \n",
    "    arr = cosine_similarity(wv1, wv2)\n",
    "    \n",
    "    smat = pd.DataFrame(arr, index=l1, columns=l2)\n",
    "    return smat\n",
    "    "
   ]
  },
  {
   "cell_type": "code",
   "execution_count": 12,
   "metadata": {
    "ExecuteTime": {
     "end_time": "2017-07-31T15:14:36.814080Z",
     "start_time": "2017-07-31T15:14:36.777502Z"
    },
    "collapsed": true
   },
   "outputs": [],
   "source": [
    "def wmd(smat, tfidf_weights):\n",
    "    mins = np.amin(smat, axis=0)\n",
    "    return np.dot(mins, tfidf_weights)"
   ]
  },
  {
   "cell_type": "code",
   "execution_count": 13,
   "metadata": {
    "ExecuteTime": {
     "end_time": "2017-07-31T15:14:36.878744Z",
     "start_time": "2017-07-31T15:14:36.815251Z"
    },
    "collapsed": true
   },
   "outputs": [],
   "source": [
    "def get_test_tfidf_weights(val_docs, wv):\n",
    "    tweights = {}\n",
    "    for fname in tqdm(val_docs):\n",
    "        with open(fname, 'r') as f:\n",
    "            doc_text = f.read()\n",
    "        tokenized_filtered = [w for w in tokenize(doc_text) if w in wv]\n",
    "        doc_bow = dictionary.doc2bow(tokenized_filtered)\n",
    "        sorted_tfidf = sorted(tfidf[doc_bow], key=itemgetter(1), reverse=True)\n",
    "        sorted_tfidf = pd.DataFrame([(dictionary[k],v) for k,v in sorted_tfidf],\n",
    "                                   columns=['word', 'score'])\n",
    "        \n",
    "        name = path.splitext(basename(fname))[0]\n",
    "        tweights[name] = sorted_tfidf\n",
    "            \n",
    "    return tweights"
   ]
  },
  {
   "cell_type": "code",
   "execution_count": 14,
   "metadata": {
    "ExecuteTime": {
     "end_time": "2017-07-31T15:14:37.960556Z",
     "start_time": "2017-07-31T15:14:36.880134Z"
    },
    "scrolled": true
   },
   "outputs": [
    {
     "name": "stderr",
     "output_type": "stream",
     "text": [
      "100%|██████████| 130/130 [00:00<00:00, 131.01it/s]\n"
     ]
    }
   ],
   "source": [
    "tweights = get_test_tfidf_weights(val_docs, wv)\n",
    "val_words = set(pd.concat([v.word for v in tweights.values()]))\n",
    "ziped_files = sorted(glob(DATA_FOLDER + '/documents/*.gz'), key=natural_keys)"
   ]
  },
  {
   "cell_type": "code",
   "execution_count": 15,
   "metadata": {
    "ExecuteTime": {
     "end_time": "2017-07-31T15:14:37.968354Z",
     "start_time": "2017-07-31T15:14:37.964936Z"
    },
    "collapsed": true,
    "scrolled": true
   },
   "outputs": [],
   "source": [
    "# tweights['_01_98_2010120931A10010101RU']"
   ]
  },
  {
   "cell_type": "code",
   "execution_count": 16,
   "metadata": {
    "ExecuteTime": {
     "end_time": "2017-07-31T15:14:38.040349Z",
     "start_time": "2017-07-31T15:14:37.969903Z"
    },
    "collapsed": true,
    "scrolled": true
   },
   "outputs": [],
   "source": [
    "def doc_queries_distances(d_smat, tweights):\n",
    "    dists = []\n",
    "    for k, query in tweights.items():\n",
    "        if len(query) == 0:\n",
    "            dists.append(None)\n",
    "            continue\n",
    "        \n",
    "        qsmat = d_smat.loc[:, query.word]\n",
    "        dist = wmd(qsmat, query.score)\n",
    "        dists.append(dist)\n",
    "    return dists\n",
    "\n",
    "\n",
    "def _calc(docs):        \n",
    "    doc_dists = []\n",
    "    words = set([w for doc in docs for sent in doc for w in sent if w in wv])\n",
    "    smat = sim_matrix(words, val_words, wv)\n",
    "    for doc in tqdm(docs):\n",
    "        doc_words = set([w for sent in doc for w in sent])\n",
    "        d_smat = smat.loc[doc_words, :]\n",
    "        dists = doc_queries_distances(d_smat, tweights)\n",
    "\n",
    "        doc_dists.append(dists)\n",
    "    return doc_dists\n",
    "\n",
    "\n",
    "def calc_dists(fnames, wv):\n",
    "    doc_dists = []\n",
    "    for fn in fnames:\n",
    "        print(fn)\n",
    "        ! echo {fn} >> ../data/out\n",
    "        with GzipFile(fn, 'r') as myzip:\n",
    "            text = myzip.read()\n",
    "        docs = json.loads(text)\n",
    "        \n",
    "        parallelizer = Parallel(n_jobs=cpu_count)\n",
    "\n",
    "        # this iterator returns the functions to execute for each task\n",
    "        tasks_iterator = ( delayed(_calc)(docs_block) for \n",
    "                          docs_block in grouper(len(docs)//cpu_count, docs) )  \n",
    "        result = parallelizer( tasks_iterator )        \n",
    "        doc_dists += result\n",
    "            \n",
    "    return np.array(sum(doc_dists, []))"
   ]
  },
  {
   "cell_type": "code",
   "execution_count": 17,
   "metadata": {
    "ExecuteTime": {
     "end_time": "2017-07-31T15:16:33.462667Z",
     "start_time": "2017-07-31T15:14:38.041577Z"
    },
    "scrolled": false
   },
   "outputs": [
    {
     "name": "stdout",
     "output_type": "stream",
     "text": [
      "../data//documents/0.json.gz\n"
     ]
    },
    {
     "name": "stderr",
     "output_type": "stream",
     "text": [
      "100%|██████████| 298/298 [01:42<00:00,  3.07it/s]\n",
      "100%|██████████| 2/2 [00:00<00:00,  4.32it/s]t/s]\n",
      "100%|██████████| 298/298 [01:45<00:00,  3.42it/s]\n",
      "100%|██████████| 298/298 [01:46<00:00,  4.02it/s]\n",
      "100%|██████████| 298/298 [01:48<00:00,  4.24it/s]\n"
     ]
    }
   ],
   "source": [
    "val_dists = calc_dists(ziped_files[:1], wv)"
   ]
  },
  {
   "cell_type": "code",
   "execution_count": 18,
   "metadata": {
    "ExecuteTime": {
     "end_time": "2017-07-31T15:16:33.467900Z",
     "start_time": "2017-07-31T15:16:33.464099Z"
    },
    "collapsed": true
   },
   "outputs": [],
   "source": [
    "np.save(join(DATA_FOLDER, 'val_dists.npy'), val_dists)"
   ]
  },
  {
   "cell_type": "code",
   "execution_count": 19,
   "metadata": {
    "ExecuteTime": {
     "end_time": "2017-07-31T15:16:33.491581Z",
     "start_time": "2017-07-31T15:16:33.469271Z"
    },
    "collapsed": true
   },
   "outputs": [],
   "source": [
    "val_dists = np.load(join(DATA_FOLDER, 'val_dists.npy'))"
   ]
  },
  {
   "cell_type": "code",
   "execution_count": 20,
   "metadata": {
    "ExecuteTime": {
     "end_time": "2017-07-31T15:16:33.508493Z",
     "start_time": "2017-07-31T15:16:33.492997Z"
    },
    "collapsed": true
   },
   "outputs": [],
   "source": [
    "sorted_args = val_dists.argsort(axis=0)[-200:][::-1]"
   ]
  },
  {
   "cell_type": "code",
   "execution_count": 21,
   "metadata": {
    "ExecuteTime": {
     "end_time": "2017-07-31T15:16:34.950904Z",
     "start_time": "2017-07-31T15:16:33.509925Z"
    }
   },
   "outputs": [
    {
     "name": "stdout",
     "output_type": "stream",
     "text": [
      "Successfully sent email\n"
     ]
    }
   ],
   "source": [
    "send_email(notebook_url, body='Finished')"
   ]
  },
  {
   "cell_type": "markdown",
   "metadata": {
    "ExecuteTime": {
     "end_time": "2017-07-29T10:29:20.289796Z",
     "start_time": "2017-07-29T10:29:19.973999Z"
    }
   },
   "source": [
    "TODO:\n",
    "* normalize = False in tfidf\n",
    "* first 2-3 sents of query"
   ]
  },
  {
   "cell_type": "markdown",
   "metadata": {
    "heading_collapsed": true
   },
   "source": [
    "# First n"
   ]
  },
  {
   "cell_type": "code",
   "execution_count": 19,
   "metadata": {
    "ExecuteTime": {
     "end_time": "2017-07-29T10:21:42.320817Z",
     "start_time": "2017-07-29T10:21:42.316090Z"
    },
    "collapsed": true,
    "hidden": true
   },
   "outputs": [],
   "source": [
    "# fn = join(DATA_FOLDER, 'first2.json.gz')\n",
    "\n",
    "# with GzipFile(fn, 'r') as myzip:\n",
    "#     text = myzip.read()\n",
    "# docs = json.loads(text)\n",
    "# del text"
   ]
  },
  {
   "cell_type": "code",
   "execution_count": 26,
   "metadata": {
    "ExecuteTime": {
     "end_time": "2017-07-29T10:26:23.252423Z",
     "start_time": "2017-07-29T10:26:23.241386Z"
    },
    "collapsed": true,
    "hidden": true
   },
   "outputs": [],
   "source": [
    "fn = join(DATA_FOLDER, 'first3_val.json.gz')\n",
    "\n",
    "with GzipFile(fn, 'r') as myzip:\n",
    "    text = myzip.read()\n",
    "val_documents = json.loads(text)\n",
    "del text"
   ]
  },
  {
   "cell_type": "code",
   "execution_count": 27,
   "metadata": {
    "ExecuteTime": {
     "end_time": "2017-07-29T10:26:27.684864Z",
     "start_time": "2017-07-29T10:26:27.679522Z"
    },
    "hidden": true
   },
   "outputs": [
    {
     "data": {
      "text/plain": [
       "130"
      ]
     },
     "execution_count": 27,
     "metadata": {},
     "output_type": "execute_result"
    }
   ],
   "source": [
    "len(val_documents)"
   ]
  },
  {
   "cell_type": "code",
   "execution_count": 47,
   "metadata": {
    "ExecuteTime": {
     "end_time": "2017-07-29T10:32:03.301370Z",
     "start_time": "2017-07-29T10:32:03.177780Z"
    },
    "hidden": true
   },
   "outputs": [
    {
     "name": "stderr",
     "output_type": "stream",
     "text": [
      "130it [00:00, 1610.34it/s]\n"
     ]
    }
   ],
   "source": [
    "tweights = {}\n",
    "for fname, doc in tqdm(zip(val_docs, val_documents)):\n",
    "    tokenized_filtered = [w for w in doc if w in wv]\n",
    "    doc_bow = dictionary.doc2bow(tokenized_filtered)\n",
    "    sorted_tfidf = sorted(tfidf[doc_bow], key=itemgetter(1), reverse=True)\n",
    "    sorted_tfidf = pd.DataFrame([(dictionary[k],v) for k,v in sorted_tfidf],\n",
    "                               columns=['word', 'score'])\n",
    "\n",
    "    name = path.splitext(basename(fname))[0]\n",
    "    tweights[name] = sorted_tfidf\n",
    "\n",
    "val_words = set(pd.concat([v.word for v in tweights.values()]))"
   ]
  },
  {
   "cell_type": "code",
   "execution_count": 48,
   "metadata": {
    "ExecuteTime": {
     "end_time": "2017-07-29T10:34:31.679495Z",
     "start_time": "2017-07-29T10:32:31.441801Z"
    },
    "hidden": true
   },
   "outputs": [
    {
     "name": "stdout",
     "output_type": "stream",
     "text": [
      "../data//documents/0.json.gz\n"
     ]
    },
    {
     "name": "stderr",
     "output_type": "stream",
     "text": [
      "100%|██████████| 298/298 [01:54<00:00,  2.55it/s]\n",
      "100%|██████████| 2/2 [00:00<00:00,  2.82it/s]t/s]\n",
      "100%|██████████| 298/298 [01:55<00:00,  2.77it/s]\n",
      "100%|██████████| 298/298 [01:56<00:00,  3.09it/s]\n",
      "100%|██████████| 298/298 [01:56<00:00,  4.08it/s]\n"
     ]
    }
   ],
   "source": [
    "val_dists = calc_dists(ziped_files[:1], wv)"
   ]
  },
  {
   "cell_type": "markdown",
   "metadata": {
    "heading_collapsed": true
   },
   "source": [
    "# Draft"
   ]
  },
  {
   "cell_type": "code",
   "execution_count": 19,
   "metadata": {
    "ExecuteTime": {
     "end_time": "2017-07-28T14:16:59.908715Z",
     "start_time": "2017-07-28T14:16:58.473047Z"
    },
    "collapsed": true,
    "hidden": true
   },
   "outputs": [],
   "source": [
    "with GzipFile(ziped_files[0], 'r') as myzip:\n",
    "    text = myzip.read()\n",
    "docs = json.loads(text)"
   ]
  },
  {
   "cell_type": "code",
   "execution_count": 20,
   "metadata": {
    "ExecuteTime": {
     "end_time": "2017-07-28T14:17:00.311401Z",
     "start_time": "2017-07-28T14:16:59.909824Z"
    },
    "hidden": true
   },
   "outputs": [
    {
     "data": {
      "text/plain": [
       "7"
      ]
     },
     "execution_count": 20,
     "metadata": {},
     "output_type": "execute_result"
    }
   ],
   "source": [
    "doc = docs[0]\n",
    "doc_words = set([w for sent in doc for w in sent if w in wv])\n",
    "dists = doc_queries_distances(doc_words, val_words, tweights)\n",
    "\n",
    "np.argmax(dists)"
   ]
  },
  {
   "cell_type": "code",
   "execution_count": 21,
   "metadata": {
    "ExecuteTime": {
     "end_time": "2017-07-28T14:17:00.408612Z",
     "start_time": "2017-07-28T14:17:00.312581Z"
    },
    "collapsed": true,
    "hidden": true
   },
   "outputs": [],
   "source": [
    "smat = sim_matrix(val_words, doc_words, wv)"
   ]
  },
  {
   "cell_type": "markdown",
   "metadata": {},
   "source": [
    "# Email"
   ]
  }
 ],
 "metadata": {
  "kernelspec": {
   "display_name": "Python 3",
   "language": "python",
   "name": "python3"
  },
  "language_info": {
   "codemirror_mode": {
    "name": "ipython",
    "version": 3
   },
   "file_extension": ".py",
   "mimetype": "text/x-python",
   "name": "python",
   "nbconvert_exporter": "python",
   "pygments_lexer": "ipython3",
   "version": "3.6.1"
  }
 },
 "nbformat": 4,
 "nbformat_minor": 2
}
