{
 "cells": [
  {
   "cell_type": "code",
   "execution_count": 1,
   "metadata": {
    "ExecuteTime": {
     "end_time": "2017-08-01T15:53:54.038591Z",
     "start_time": "2017-08-01T15:53:33.402913Z"
    },
    "scrolled": false
   },
   "outputs": [
    {
     "name": "stderr",
     "output_type": "stream",
     "text": [
      "Using TensorFlow backend.\n"
     ]
    }
   ],
   "source": [
    "from common import *"
   ]
  },
  {
   "cell_type": "markdown",
   "metadata": {},
   "source": [
    "# Load data"
   ]
  },
  {
   "cell_type": "code",
   "execution_count": 2,
   "metadata": {
    "ExecuteTime": {
     "end_time": "2017-08-01T15:54:01.216053Z",
     "start_time": "2017-08-01T15:53:54.040153Z"
    },
    "scrolled": true
   },
   "outputs": [
    {
     "name": "stderr",
     "output_type": "stream",
     "text": [
      "2017-08-01 18:53:54,047 : INFO : loading Word2Vec object from ../data/vectors/w2v_model_300_w10\n",
      "2017-08-01 18:53:56,112 : INFO : loading wv recursively from ../data/vectors/w2v_model_300_w10.wv.* with mmap=None\n",
      "2017-08-01 18:53:56,113 : INFO : loading syn0 from ../data/vectors/w2v_model_300_w10.wv.syn0.npy with mmap=None\n",
      "2017-08-01 18:53:57,789 : INFO : setting ignored attribute syn0norm to None\n",
      "2017-08-01 18:53:57,790 : INFO : loading syn1neg from ../data/vectors/w2v_model_300_w10.syn1neg.npy with mmap=None\n",
      "2017-08-01 18:53:59,394 : INFO : setting ignored attribute cum_table to None\n",
      "2017-08-01 18:53:59,396 : INFO : loaded ../data/vectors/w2v_model_300_w10\n"
     ]
    }
   ],
   "source": [
    "model = gensim.models.Word2Vec.load(join(DATA_FOLDER, 'vectors/w2v_model_300_w10'))\n",
    "wv = model.wv"
   ]
  },
  {
   "cell_type": "code",
   "execution_count": 3,
   "metadata": {
    "ExecuteTime": {
     "end_time": "2017-08-01T15:54:03.074839Z",
     "start_time": "2017-08-01T15:54:01.217298Z"
    }
   },
   "outputs": [
    {
     "name": "stderr",
     "output_type": "stream",
     "text": [
      "2017-08-01 18:54:01,219 : INFO : loading Dictionary object from ../data/pure.dict\n",
      "2017-08-01 18:54:02,609 : INFO : loaded ../data/pure.dict\n",
      "2017-08-01 18:54:02,610 : INFO : loading TfidfModel object from ../data/tfidf_pure.model\n",
      "2017-08-01 18:54:03,071 : INFO : loaded ../data/tfidf_pure.model\n"
     ]
    }
   ],
   "source": [
    "dictionary = corpora.Dictionary.load(join(DATA_FOLDER, 'pure.dict'))\n",
    "tfidf = models.TfidfModel.load(join(DATA_FOLDER, 'tfidf_pure.model'))\n",
    "# !!!!!\n",
    "tfidf.normalize= True"
   ]
  },
  {
   "cell_type": "code",
   "execution_count": 4,
   "metadata": {
    "ExecuteTime": {
     "end_time": "2017-08-01T15:54:03.476134Z",
     "start_time": "2017-08-01T15:54:03.076167Z"
    },
    "collapsed": true
   },
   "outputs": [],
   "source": [
    "all_docs = get_all_docs(DATA_FOLDER)\n",
    "val_docs = sorted(glob(join(DATA_FOLDER, 'validate/*.txt')))"
   ]
  },
  {
   "cell_type": "raw",
   "metadata": {},
   "source": [
    "'автомобиль станция загород' vs 'данный патент представлять схема строениие и сооружение транспортная стоянка в сельская местность'"
   ]
  },
  {
   "cell_type": "markdown",
   "metadata": {},
   "source": [
    "# Main funcs"
   ]
  },
  {
   "cell_type": "code",
   "execution_count": 5,
   "metadata": {
    "ExecuteTime": {
     "end_time": "2017-08-01T15:54:03.485616Z",
     "start_time": "2017-08-01T15:54:03.477432Z"
    },
    "collapsed": true,
    "scrolled": true
   },
   "outputs": [],
   "source": [
    "def sim_matrix(word_set1, word_set2, wv):\n",
    "    l1 = list(word_set1)\n",
    "    l2 = list(word_set2)\n",
    "    wv1 = wv[l1]\n",
    "    wv2 = wv[l2]\n",
    "    \n",
    "    arr = cosine_similarity(wv1, wv2)\n",
    "    \n",
    "    smat = pd.DataFrame(arr, index=l1, columns=l2)\n",
    "    return smat\n",
    "    "
   ]
  },
  {
   "cell_type": "code",
   "execution_count": 6,
   "metadata": {
    "ExecuteTime": {
     "end_time": "2017-08-01T15:54:03.491707Z",
     "start_time": "2017-08-01T15:54:03.487106Z"
    },
    "collapsed": true
   },
   "outputs": [],
   "source": [
    "def wmd(smat, tfidf_weights):\n",
    "    maxs = np.amax(smat, axis=0)\n",
    "    return np.dot(maxs, tfidf_weights)"
   ]
  },
  {
   "cell_type": "code",
   "execution_count": 7,
   "metadata": {
    "ExecuteTime": {
     "end_time": "2017-08-01T15:54:03.534615Z",
     "start_time": "2017-08-01T15:54:03.497919Z"
    },
    "collapsed": true
   },
   "outputs": [],
   "source": [
    "def get_test_tfidf_weights(val_docs, wv):\n",
    "    tweights = {}\n",
    "    for fname in tqdm(val_docs):\n",
    "        with open(fname, 'r') as f:\n",
    "            doc_text = f.read()\n",
    "        tokenized_filtered = [w for w in tokenize(doc_text) if w in wv]\n",
    "        doc_bow = dictionary.doc2bow(tokenized_filtered)\n",
    "        sorted_tfidf = sorted(tfidf[doc_bow], key=itemgetter(1), reverse=True)\n",
    "        sorted_tfidf = pd.DataFrame([(dictionary[k],v) for k,v in sorted_tfidf],\n",
    "                                   columns=['word', 'score'])\n",
    "        \n",
    "        name = path.splitext(basename(fname))[0]\n",
    "        tweights[name] = sorted_tfidf\n",
    "            \n",
    "    return tweights"
   ]
  },
  {
   "cell_type": "code",
   "execution_count": 8,
   "metadata": {
    "ExecuteTime": {
     "end_time": "2017-08-01T15:54:04.316186Z",
     "start_time": "2017-08-01T15:54:03.535846Z"
    },
    "scrolled": true
   },
   "outputs": [
    {
     "name": "stderr",
     "output_type": "stream",
     "text": [
      "100%|██████████| 130/130 [00:00<00:00, 173.99it/s]\n"
     ]
    }
   ],
   "source": [
    "tweights = get_test_tfidf_weights(val_docs, wv)\n",
    "val_words = set(pd.concat([v.word for v in tweights.values()]))\n",
    "ziped_files = sorted(glob(DATA_FOLDER + '/documents/*.gz'), key=natural_keys)"
   ]
  },
  {
   "cell_type": "code",
   "execution_count": 9,
   "metadata": {
    "ExecuteTime": {
     "end_time": "2017-08-01T15:54:04.320318Z",
     "start_time": "2017-08-01T15:54:04.317336Z"
    },
    "collapsed": true,
    "scrolled": true
   },
   "outputs": [],
   "source": [
    "# tweights['_01_98_2010120931A10010101RU']"
   ]
  },
  {
   "cell_type": "code",
   "execution_count": 10,
   "metadata": {
    "ExecuteTime": {
     "end_time": "2017-08-01T15:54:04.425450Z",
     "start_time": "2017-08-01T15:54:04.321659Z"
    },
    "collapsed": true,
    "scrolled": true
   },
   "outputs": [],
   "source": [
    "def doc_queries_distances(d_smat, tweights):\n",
    "    dists = []\n",
    "    for k, query in tweights.items():\n",
    "        if len(query) == 0:\n",
    "            dists.append(None)\n",
    "            continue\n",
    "        \n",
    "        qsmat = d_smat.loc[:, query.word]\n",
    "        dist = wmd(qsmat, query.score)\n",
    "        dists.append(dist)\n",
    "    return dists\n",
    "\n",
    "\n",
    "def _calc(docs):        \n",
    "    doc_dists = []\n",
    "    if len(docs) and len(docs[0]) and type(docs[0][0]) == list:\n",
    "        words = set([w for doc in docs for sent in doc for w in sent if w in wv])\n",
    "    else:\n",
    "        words = set([w for doc in docs for w in doc if w in wv])\n",
    "    smat = sim_matrix(words, val_words, wv)\n",
    "    for doc in docs:\n",
    "        if len(doc) and type(doc[0]) == list:\n",
    "            doc_words = set([w for sent in doc for w in sent])\n",
    "        else:\n",
    "            doc_words = set(doc)\n",
    "        d_smat = smat.loc[doc_words, :]\n",
    "        dists = doc_queries_distances(d_smat, tweights)\n",
    "\n",
    "        doc_dists.append(dists)\n",
    "        \n",
    "    del smat, d_smat, words\n",
    "    \n",
    "    return doc_dists\n",
    "\n",
    "\n",
    "def calc_dists(fnames, wv):\n",
    "    doc_dists = []\n",
    "    for fn in fnames:\n",
    "        print(fn)\n",
    "        ! echo {fn} >> ../data/out\n",
    "        with GzipFile(fn, 'r') as myzip:\n",
    "            text = myzip.read()\n",
    "        docs = json.loads(text)\n",
    "        \n",
    "        parallelizer = Parallel(n_jobs=cpu_count)\n",
    "\n",
    "        # this iterator returns the functions to execute for each task\n",
    "        tasks_iterator = ( delayed(_calc)(docs_block) for \n",
    "                          docs_block in grouper(len(docs)//cpu_count, docs) )  \n",
    "        result = parallelizer( tasks_iterator )        \n",
    "        doc_dists += result\n",
    "            \n",
    "    return np.array(sum(doc_dists, []))"
   ]
  },
  {
   "cell_type": "code",
   "execution_count": 128,
   "metadata": {
    "ExecuteTime": {
     "end_time": "2017-07-31T19:35:42.577023Z",
     "start_time": "2017-07-31T19:33:46.028639Z"
    },
    "scrolled": true
   },
   "outputs": [
    {
     "name": "stdout",
     "output_type": "stream",
     "text": [
      "../data//documents/0.json.gz\n"
     ]
    },
    {
     "name": "stderr",
     "output_type": "stream",
     "text": [
      "100%|██████████| 298/298 [01:42<00:00,  2.88it/s]\n",
      " 96%|█████████▌| 286/298 [01:44<00:03,  3.58it/s]\n",
      "100%|██████████| 298/298 [01:47<00:00,  3.82it/s]\n",
      "100%|██████████| 298/298 [01:47<00:00,  3.69it/s]\n",
      "100%|██████████| 298/298 [01:49<00:00,  4.37it/s]\n"
     ]
    }
   ],
   "source": [
    "val_dists = calc_dists(ziped_files[:1], wv)"
   ]
  },
  {
   "cell_type": "code",
   "execution_count": 132,
   "metadata": {
    "ExecuteTime": {
     "end_time": "2017-07-31T19:37:22.491248Z",
     "start_time": "2017-07-31T19:37:22.483274Z"
    },
    "collapsed": true
   },
   "outputs": [],
   "source": [
    "np.save(join(DATA_FOLDER, 'val_dists.npy'), val_dists)"
   ]
  },
  {
   "cell_type": "code",
   "execution_count": 67,
   "metadata": {
    "ExecuteTime": {
     "end_time": "2017-07-31T21:13:08.159187Z",
     "start_time": "2017-07-31T21:13:08.151139Z"
    },
    "collapsed": true
   },
   "outputs": [],
   "source": [
    "val_dists = np.load(join(DATA_FOLDER, 'val_dists.npy'))"
   ]
  },
  {
   "cell_type": "code",
   "execution_count": 68,
   "metadata": {
    "ExecuteTime": {
     "end_time": "2017-07-31T21:13:08.891055Z",
     "start_time": "2017-07-31T21:13:08.878181Z"
    },
    "collapsed": true
   },
   "outputs": [],
   "source": [
    "sorted_args = val_dists.argsort(axis=0)[-20000000:][::-1]"
   ]
  },
  {
   "cell_type": "code",
   "execution_count": 63,
   "metadata": {
    "ExecuteTime": {
     "end_time": "2017-08-01T08:01:22.457859Z",
     "start_time": "2017-08-01T08:01:22.454525Z"
    },
    "collapsed": true
   },
   "outputs": [],
   "source": [
    "sorted_args = np.load(join(DATA_FOLDER, 'sorted_args_200.npy'))"
   ]
  },
  {
   "cell_type": "code",
   "execution_count": 64,
   "metadata": {
    "ExecuteTime": {
     "end_time": "2017-08-01T08:01:24.672815Z",
     "start_time": "2017-08-01T08:01:24.662577Z"
    },
    "scrolled": true
   },
   "outputs": [
    {
     "data": {
      "text/plain": [
       "array([[1022450, 1022450, 1022450, ..., 1022450, 1022450, 1022450],\n",
       "       [ 291479,  756153, 1036047, ...,  141303,   97013,  446979],\n",
       "       [ 449466,  183979,  449466, ...,  226883,  449466,  287118],\n",
       "       ..., \n",
       "       [ 510153, 1041255,  526974, ...,  343878,  393105,  136507],\n",
       "       [ 324196,  228566,  304550, ...,  499947,   16965,  522205],\n",
       "       [ 164849,  793717,  351308, ...,  260310,  300050,  268891]])"
      ]
     },
     "execution_count": 64,
     "metadata": {},
     "output_type": "execute_result"
    }
   ],
   "source": [
    "sorted_args"
   ]
  },
  {
   "cell_type": "code",
   "execution_count": 86,
   "metadata": {
    "ExecuteTime": {
     "end_time": "2017-08-01T08:25:17.941103Z",
     "start_time": "2017-08-01T08:25:17.833053Z"
    },
    "collapsed": true
   },
   "outputs": [],
   "source": [
    "best = {}\n",
    "for i in range(sorted_args.shape[1]):\n",
    "    col = sorted_args[:,i]\n",
    "    name = path.splitext(basename(val_docs[i]))[0]\n",
    "    top = []\n",
    "    for j,c in enumerate(col):\n",
    "        top.append(path.splitext(basename(all_docs[c]))[0])\n",
    "    best[name] = top"
   ]
  },
  {
   "cell_type": "code",
   "execution_count": 84,
   "metadata": {
    "ExecuteTime": {
     "end_time": "2017-08-01T08:25:04.124003Z",
     "start_time": "2017-08-01T08:25:04.118800Z"
    },
    "collapsed": true
   },
   "outputs": [],
   "source": [
    "with open(join(DATA_FOLDER, 'gold.json'), 'r') as f:\n",
    "    gold = json.load(f)"
   ]
  },
  {
   "cell_type": "code",
   "execution_count": 87,
   "metadata": {
    "ExecuteTime": {
     "end_time": "2017-08-01T08:25:37.038649Z",
     "start_time": "2017-08-01T08:25:36.576682Z"
    },
    "scrolled": true
   },
   "outputs": [
    {
     "name": "stdout",
     "output_type": "stream",
     "text": [
      "median\n",
      "acc10     0.0\n",
      "acc20     0.0\n",
      "acc200    0.1\n",
      "dtype: float64\n",
      "mean\n",
      "acc10     0.190000\n",
      "acc20     0.220769\n",
      "acc200    0.403718\n",
      "dtype: float64\n"
     ]
    },
    {
     "data": {
      "image/png": "[encoded data removed]",
      "text/plain": [
       "<matplotlib.figure.Figure at 0x7fd92290d5f8>"
      ]
     },
     "metadata": {},
     "output_type": "display_data"
    },
    {
     "data": {
      "image/png": "[encoded data removed]",
      "text/plain": [
       "<matplotlib.figure.Figure at 0x7fd91dd322b0>"
      ]
     },
     "metadata": {},
     "output_type": "display_data"
    },
    {
     "data": {
      "image/png": "[encoded data removed]",
      "text/plain": [
       "<matplotlib.figure.Figure at 0x7fd9228548d0>"
      ]
     },
     "metadata": {},
     "output_type": "display_data"
    }
   ],
   "source": [
    "res = evaluate(best, gold)"
   ]
  },
  {
   "cell_type": "code",
   "execution_count": 142,
   "metadata": {
    "ExecuteTime": {
     "end_time": "2017-07-31T19:39:25.266186Z",
     "start_time": "2017-07-31T19:39:23.316843Z"
    }
   },
   "outputs": [
    {
     "name": "stdout",
     "output_type": "stream",
     "text": [
      "Successfully sent email\n"
     ]
    }
   ],
   "source": [
    "send_email(notebook_url, body='Finished')"
   ]
  },
  {
   "cell_type": "markdown",
   "metadata": {
    "ExecuteTime": {
     "end_time": "2017-07-29T10:29:20.289796Z",
     "start_time": "2017-07-29T10:29:19.973999Z"
    }
   },
   "source": [
    "TODO:\n",
    "* normalize = False in tfidf\n",
    "* first 2-3 sents of query"
   ]
  },
  {
   "cell_type": "markdown",
   "metadata": {},
   "source": [
    "# Check"
   ]
  },
  {
   "cell_type": "code",
   "execution_count": 141,
   "metadata": {
    "ExecuteTime": {
     "end_time": "2017-08-02T03:20:31.688052Z",
     "start_time": "2017-08-02T03:20:31.676639Z"
    }
   },
   "outputs": [
    {
     "data": {
      "text/plain": [
       "['способ антитеррористический сверхскоростной межмегаполисный перевозка пассажир и груз  .',\n",
       " 'способ антитеррористический сверхскоростной межмегаполисный перевозка пассажир и груз , включать железнодорожный сообщение в подземный туннель прямоугольный форма неглубокий заложение , выполнять в открытый траншея , рельс , сваривать в торец , укладывать на днище туннель с амортизировать лента , обеспечивать вибро и звукоизоляционный защита , перемещать по рельс туннель на бесшумный колесо поезд-челнок с электропривод , вагон с высокий уровень комфорт и безопасность выполнять из несгорать материал , отличать тем , что : - поезд-челнок делать только для обслуживание пассажиро- и грузопоток между мегаполиса , - поезд-челнок без остановка передвигаться между конечный вокзал мегаполис со скорость 300-350 км/ч , - обеспечивать практически прямолинейный путь движение поезда-челнока , - предусматривать одновременный движение в один туннель несколько поездов-челноков на безопасный расстояние , - на конечный вокзал выполнять два перрона , - выполнять прозрачный перегородка с дверь отделять перрон от поезда-челнока , - возникать воздушный подушка повышенный давление перед поезд и область пониженный давление за поезд взаимно и постоянно самонейтрализоваться за счет вторичный использование объем другой туннель , т .',\n",
       " 'к .']"
      ]
     },
     "execution_count": 141,
     "metadata": {},
     "output_type": "execute_result"
    }
   ],
   "source": [
    "txt = open(all_docs[826996], 'r').read()\n",
    "sents = nltk.sent_tokenize(txt)\n",
    "sents[:3]"
   ]
  },
  {
   "cell_type": "code",
   "execution_count": 142,
   "metadata": {
    "ExecuteTime": {
     "end_time": "2017-08-02T03:23:02.559958Z",
     "start_time": "2017-08-02T03:23:02.290597Z"
    },
    "scrolled": true
   },
   "outputs": [
    {
     "name": "stdout",
     "output_type": "stream",
     "text": [
      "способ антитеррористический сверхскоростной межмегаполисный перевозка пассажир и груз  . \r\n",
      " способ антитеррористический сверхскоростной межмегаполисный перевозка пассажир и груз , включать железнодорожный сообщение в подземный туннель прямоугольный форма неглубокий заложение , выполнять в открытый траншея , рельс , сваривать в торец , укладывать на днище туннель с амортизировать лента , обеспечивать вибро и звукоизоляционный защита , перемещать по рельс туннель на бесшумный колесо поезд-челнок с электропривод , вагон с высокий уровень комфорт и безопасность выполнять из несгорать материал , отличать тем , что : - поезд-челнок делать только для обслуживание пассажиро- и грузопоток между мегаполиса , - поезд-челнок без остановка передвигаться между конечный вокзал мегаполис со скорость 300-350 км/ч , - обеспечивать практически прямолинейный путь движение поезда-челнока , - предусматривать одновременный движение в один туннель несколько поездов-челноков на безопасный расстояние , - на конечный вокзал выполнять два перрона , - выполнять прозрачный перегородка с дверь отделять перрон от поезда-челнока , - возникать воздушный подушка повышенный давление перед поезд и область пониженный давление за поезд взаимно и постоянно самонейтрализоваться за счет вторичный использование объем другой туннель , т . к . между спаривать туннель не делать сплошной стена и поэтому сколько воздух вытеснять в другой туннель воздушный подушка перед поездом-челноком , столько же воздух через секунда отсасываться из другой туннель в конец поезда-челнока , - каркас вагон поезда-челнока усиливать , - пассажир во время движение поезда-челнока обязательно пристегивать к кресло с помощь ремень безопасность , - поезд-челнок изолировать от атака террорист , - все пассажир и они багаж обязательно и тщательно досматривать перед посадка , - вагон оборудовать входной дверь ( путь эвакуация ) с оба сторона , - в туннель монтировать автоматика , блокировать движение поездов-челноков при террористический атака и иной вид неисправность , - вагон оборудовать остекленный входной дверь ( путь эвакуация ) с оба сторона вагон , - выполнять повышенный звукоизоляция наружный поверхность вагон , а также стена и потолок туннель , - строительство завершать передача поверхность земля прежний пользователь в прежний состояние , - при авария поездный бригада и аварийный команда оказывать срочный помощь пассажир , неповреждать часть поезда-челнока отцеплять и увозить в противоположный сторона , - повреждать вагон доставлять до близкий « окно » в покрытие туннель , - автокран открывать « окно » в вид плоский чемодавать крышка с линейный шарнир , при этот грунт , находить над « окно » , ссыпаться в боковой пазуха , - автокран извлекать повреждать вагон и восстанавливать движение в туннель , - при эксплуатация туннель в окружающий среда не поступать никакой экологически\r\n",
      " вредный выделение , а также отсутствовать какие-либо влияние на уровень глобальный потепление , - исключать возможность нелегальный выход пассажир из поезда-челнока на территория соседний государство , - на территория соседний государство параллельно туннель для поездов-челноков выполнять два дополнительный туннель для автотранспорт .  .   .   ."
     ]
    }
   ],
   "source": [
    "!cat {all_docs[826996]}"
   ]
  },
  {
   "cell_type": "code",
   "execution_count": 39,
   "metadata": {
    "ExecuteTime": {
     "end_time": "2017-08-01T07:44:20.982316Z",
     "start_time": "2017-08-01T07:44:20.840936Z"
    },
    "scrolled": true
   },
   "outputs": [
    {
     "name": "stdout",
     "output_type": "stream",
     "text": [
      "﻿способ экономия электроэнергия .\r\n",
      " изобретение относиться к проблема экономия электроэнергия , как один из весомый в программа борьба с глобальный потепление климат , и эффективный мочь быть применять , как это ни показаться неожиданный , в область кулинарный хозяйство .\r\n",
      " проблема с электроэнергия возникнуть сразу же после изобретение в 1879 г . гениальный томас альва эдисон электрический лампа накаливание .\r\n",
      " при ее запиток от использовать тогда источник постоянный ток , недопустимый большой быть потеря в линия передача на большой расстояние .\r\n",
      " проблема быть устранять в 1887 г . один из великий физик современность никола теслый , свой изобретение генератор переменный ток и высоковольтный трансформатор .\r\n",
      " дальнейший нововведение , как и этот , подстраиваться , в основной , к электрический характеристика объект запиток , как правило не учитывать они физический особенность .\r\n",
      " в кулинария экономия затрачивать энергия не являться главенствующий фактор , но неизменный оставаться только стремление максимально точно соблюдать век складываться « секрет » старинный кухня .\r\n",
      " здесь я хотеться бы останавливаться на два момент старинный процесс , который позволять говорить о возможный внедрение экономия электроэнергия в промышленный и бытовой сфера без заметный влияние на конечный результат .\r\n",
      " во - первое , вспоминать , что температура кипеть вода при нормальный атмосферный давление практически всегда постоянный , независимо от интенсивность кипение , и во - второе , что один из окончательный стадия приготовление блюдо фактически уже являться столь необходимый мы экономия .\r\n",
      " ( снимать с плита сосуд , напр . , с какой либо крупа , накрывать толстый чехол и оставлять на достаточно большой время только под воздействие ранее получать тепловой энергия без дополнительный подогрев . ) такой прием иметь разный название в разный географический район , но я казаться более соответствующий смысл , название - « томить » , чем « настаивать » ( так в кулинарный книга ) .\r\n",
      " способ проверенный я на бытовой плита « электр 1001 .\r\n",
      " результат превзойти самый смелый ожидание .\r\n",
      " с момент начать кипение через каждый 5 мина . питание отключаться на 10 мина . практически без прерывание кипение .\r\n",
      " все действие по управление режим нагревание проводить иметься в плита средство , без какой - либо изменение .\r\n",
      " естественный , большой экономия получиться на длительный процесс .\r\n",
      " а время приготовление блюдо мочь быть до 50 мина . ( « кухня народ россия » , москва , сп « квадрат » 1993 г . , стр 138 . ) .\r\n",
      " способ экономия электроэнергия от источник постоянный или переменный ток произвольный частота , форма и амплитуда , отличать тем , что в цель максимальный экономия электронагреватель периодически включать на заданный интервал время t1 с последующий соответствующий выключение через интервал t2 . .\r\n",
      " предлагать способ можно использовать как в бытовой , так и в промышленный сектор кулинария .\r\n",
      " давно известный способ ( аналог ) предлагать способ экономия .\r\n",
      " о широко использовать водитель электропоез , автотранспорт как с электро , так и с обычный двигатель , и др . набирать нужный скорость , водитель , пользоваться знание закон инерция , выключать двигатель до следующий участок разгон .\r\n",
      " недостаток этот способ являться разный физический природа рассматривать процесс .\r\n",
      " наиболее близкий технический решение являться операция , подобный ныне использовать в кулинария - « томить ( или « настаивать » ) .\r\n",
      " недостаток являться одноразовость этот операция и только в конец процесс приготовление блюдо .\r\n",
      " цель изобретение - получать максимально возможный экономия .\r\n",
      " поставлять цель достигаться изменение технология приготовление блюдо путем введение выбирать пользователь дискретный циклический процесс прерывание подача электроэнергия на электронагреватель на заданный по длительность интервал время .\r\n",
      " примечание .\r\n",
      " ввиду возможность применение серийный промышленный устройство и простота схема , дополнительный схема и описание не требоваться . ."
     ]
    }
   ],
   "source": [
    "! cat {val_docs[0]}"
   ]
  },
  {
   "cell_type": "code",
   "execution_count": 23,
   "metadata": {
    "ExecuteTime": {
     "end_time": "2017-08-01T15:56:52.015669Z",
     "start_time": "2017-08-01T15:56:52.002654Z"
    }
   },
   "outputs": [
    {
     "data": {
      "text/plain": [
       "'../data/validate/_01_98_2010120931A10010101RU.txt'"
      ]
     },
     "execution_count": 23,
     "metadata": {},
     "output_type": "execute_result"
    }
   ],
   "source": [
    "val_docs[0]"
   ]
  },
  {
   "cell_type": "code",
   "execution_count": 24,
   "metadata": {
    "ExecuteTime": {
     "end_time": "2017-08-01T15:56:52.037984Z",
     "start_time": "2017-08-01T15:56:52.024375Z"
    },
    "scrolled": true
   },
   "outputs": [
    {
     "data": {
      "text/html": [
       "<div>\n",
       "<style>\n",
       "    .dataframe thead tr:only-child th {\n",
       "        text-align: right;\n",
       "    }\n",
       "\n",
       "    .dataframe thead th {\n",
       "        text-align: left;\n",
       "    }\n",
       "\n",
       "    .dataframe tbody tr th {\n",
       "        vertical-align: top;\n",
       "    }\n",
       "</style>\n",
       "<table border=\"1\" class=\"dataframe\">\n",
       "  <thead>\n",
       "    <tr style=\"text-align: right;\">\n",
       "      <th></th>\n",
       "      <th>word</th>\n",
       "      <th>score</th>\n",
       "    </tr>\n",
       "  </thead>\n",
       "  <tbody>\n",
       "    <tr>\n",
       "      <th>0</th>\n",
       "      <td>показаться</td>\n",
       "      <td>0.440496</td>\n",
       "    </tr>\n",
       "    <tr>\n",
       "      <th>1</th>\n",
       "      <td>весомый</td>\n",
       "      <td>0.398666</td>\n",
       "    </tr>\n",
       "    <tr>\n",
       "      <th>2</th>\n",
       "      <td>потепление</td>\n",
       "      <td>0.371143</td>\n",
       "    </tr>\n",
       "    <tr>\n",
       "      <th>3</th>\n",
       "      <td>климат</td>\n",
       "      <td>0.290792</td>\n",
       "    </tr>\n",
       "    <tr>\n",
       "      <th>4</th>\n",
       "      <td>неожиданный</td>\n",
       "      <td>0.246081</td>\n",
       "    </tr>\n",
       "    <tr>\n",
       "      <th>5</th>\n",
       "      <td>кулинарный</td>\n",
       "      <td>0.239139</td>\n",
       "    </tr>\n",
       "    <tr>\n",
       "      <th>6</th>\n",
       "      <td>возникнуть</td>\n",
       "      <td>0.237528</td>\n",
       "    </tr>\n",
       "    <tr>\n",
       "      <th>7</th>\n",
       "      <td>глобальный</td>\n",
       "      <td>0.233594</td>\n",
       "    </tr>\n",
       "    <tr>\n",
       "      <th>8</th>\n",
       "      <td>борьба</td>\n",
       "      <td>0.219673</td>\n",
       "    </tr>\n",
       "    <tr>\n",
       "      <th>9</th>\n",
       "      <td>экономия</td>\n",
       "      <td>0.197734</td>\n",
       "    </tr>\n",
       "    <tr>\n",
       "      <th>10</th>\n",
       "      <td>электроэнергия</td>\n",
       "      <td>0.184646</td>\n",
       "    </tr>\n",
       "    <tr>\n",
       "      <th>11</th>\n",
       "      <td>хозяйство</td>\n",
       "      <td>0.175455</td>\n",
       "    </tr>\n",
       "    <tr>\n",
       "      <th>12</th>\n",
       "      <td>программа</td>\n",
       "      <td>0.155932</td>\n",
       "    </tr>\n",
       "    <tr>\n",
       "      <th>13</th>\n",
       "      <td>проблема</td>\n",
       "      <td>0.125558</td>\n",
       "    </tr>\n",
       "    <tr>\n",
       "      <th>14</th>\n",
       "      <td>область</td>\n",
       "      <td>0.060659</td>\n",
       "    </tr>\n",
       "  </tbody>\n",
       "</table>\n",
       "</div>"
      ],
      "text/plain": [
       "              word     score\n",
       "0       показаться  0.440496\n",
       "1          весомый  0.398666\n",
       "2       потепление  0.371143\n",
       "3           климат  0.290792\n",
       "4      неожиданный  0.246081\n",
       "5       кулинарный  0.239139\n",
       "6       возникнуть  0.237528\n",
       "7       глобальный  0.233594\n",
       "8           борьба  0.219673\n",
       "9         экономия  0.197734\n",
       "10  электроэнергия  0.184646\n",
       "11       хозяйство  0.175455\n",
       "12       программа  0.155932\n",
       "13        проблема  0.125558\n",
       "14         область  0.060659"
      ]
     },
     "execution_count": 24,
     "metadata": {},
     "output_type": "execute_result"
    }
   ],
   "source": [
    "tweights['_01_98_2010120931A10010101RU']"
   ]
  },
  {
   "cell_type": "code",
   "execution_count": 145,
   "metadata": {
    "ExecuteTime": {
     "end_time": "2017-08-02T03:23:58.937228Z",
     "start_time": "2017-08-02T03:23:58.928728Z"
    },
    "collapsed": true
   },
   "outputs": [],
   "source": [
    "with open(all_docs[826996]) as f:\n",
    "    text = f.read()\n",
    "doc = []\n",
    "for sent in nltk.sent_tokenize(text):\n",
    "    doc.append(list(tokenize(sent)))"
   ]
  },
  {
   "cell_type": "code",
   "execution_count": 147,
   "metadata": {
    "ExecuteTime": {
     "end_time": "2017-08-02T03:24:20.176548Z",
     "start_time": "2017-08-02T03:24:20.149556Z"
    },
    "scrolled": false
   },
   "outputs": [
    {
     "data": {
      "text/plain": [
       "1.4902942601572982"
      ]
     },
     "execution_count": 147,
     "metadata": {},
     "output_type": "execute_result"
    }
   ],
   "source": [
    "# doc = docs[4]\n",
    "doc = doc[:3]\n",
    "words = set([w for s in doc for w in s if w in wv])\n",
    "# words = set([w for w in doc if w in wv])\n",
    "\n",
    "smat = sim_matrix(words, val_words, wv)\n",
    "\n",
    "query = tweights['_01_98_2010120931A10010101RU']\n",
    "qsmat = smat.loc[:, query.word]\n",
    "dist = wmd(qsmat, query.score)\n",
    "dist\n"
   ]
  },
  {
   "cell_type": "code",
   "execution_count": 148,
   "metadata": {
    "ExecuteTime": {
     "end_time": "2017-08-02T03:24:22.134435Z",
     "start_time": "2017-08-02T03:24:22.083398Z"
    },
    "scrolled": true
   },
   "outputs": [
    {
     "data": {
      "text/html": [
       "<div>\n",
       "<style>\n",
       "    .dataframe thead tr:only-child th {\n",
       "        text-align: right;\n",
       "    }\n",
       "\n",
       "    .dataframe thead th {\n",
       "        text-align: left;\n",
       "    }\n",
       "\n",
       "    .dataframe tbody tr th {\n",
       "        vertical-align: top;\n",
       "    }\n",
       "</style>\n",
       "<table border=\"1\" class=\"dataframe\">\n",
       "  <thead>\n",
       "    <tr style=\"text-align: right;\">\n",
       "      <th></th>\n",
       "      <th>показаться</th>\n",
       "      <th>весомый</th>\n",
       "      <th>потепление</th>\n",
       "      <th>климат</th>\n",
       "      <th>неожиданный</th>\n",
       "      <th>кулинарный</th>\n",
       "      <th>возникнуть</th>\n",
       "      <th>глобальный</th>\n",
       "      <th>борьба</th>\n",
       "      <th>экономия</th>\n",
       "      <th>электроэнергия</th>\n",
       "      <th>хозяйство</th>\n",
       "      <th>программа</th>\n",
       "      <th>проблема</th>\n",
       "      <th>область</th>\n",
       "    </tr>\n",
       "  </thead>\n",
       "  <tbody>\n",
       "    <tr>\n",
       "      <th>груз</th>\n",
       "      <td>0.169204</td>\n",
       "      <td>0.246345</td>\n",
       "      <td>0.134826</td>\n",
       "      <td>0.151661</td>\n",
       "      <td>0.145275</td>\n",
       "      <td>0.126866</td>\n",
       "      <td>0.264887</td>\n",
       "      <td>0.173469</td>\n",
       "      <td>0.155164</td>\n",
       "      <td>0.245130</td>\n",
       "      <td>0.286394</td>\n",
       "      <td>0.198369</td>\n",
       "      <td>0.217770</td>\n",
       "      <td>0.196851</td>\n",
       "      <td>0.156944</td>\n",
       "    </tr>\n",
       "    <tr>\n",
       "      <th>неглубокий</th>\n",
       "      <td>0.294169</td>\n",
       "      <td>0.188261</td>\n",
       "      <td>0.186303</td>\n",
       "      <td>0.291177</td>\n",
       "      <td>0.182622</td>\n",
       "      <td>0.100001</td>\n",
       "      <td>0.334387</td>\n",
       "      <td>0.141134</td>\n",
       "      <td>0.219956</td>\n",
       "      <td>0.252299</td>\n",
       "      <td>0.201028</td>\n",
       "      <td>0.119175</td>\n",
       "      <td>0.118009</td>\n",
       "      <td>0.284169</td>\n",
       "      <td>0.304222</td>\n",
       "    </tr>\n",
       "    <tr>\n",
       "      <th>перрон</th>\n",
       "      <td>0.230164</td>\n",
       "      <td>0.178828</td>\n",
       "      <td>0.119399</td>\n",
       "      <td>0.184676</td>\n",
       "      <td>0.207974</td>\n",
       "      <td>0.074953</td>\n",
       "      <td>0.199838</td>\n",
       "      <td>0.184000</td>\n",
       "      <td>0.153047</td>\n",
       "      <td>0.169200</td>\n",
       "      <td>0.093440</td>\n",
       "      <td>0.168930</td>\n",
       "      <td>0.145796</td>\n",
       "      <td>0.163177</td>\n",
       "      <td>0.166470</td>\n",
       "    </tr>\n",
       "    <tr>\n",
       "      <th>торец</th>\n",
       "      <td>0.285827</td>\n",
       "      <td>0.181317</td>\n",
       "      <td>0.090059</td>\n",
       "      <td>0.128457</td>\n",
       "      <td>0.166120</td>\n",
       "      <td>0.100676</td>\n",
       "      <td>0.281818</td>\n",
       "      <td>0.118377</td>\n",
       "      <td>0.113302</td>\n",
       "      <td>0.206050</td>\n",
       "      <td>0.222287</td>\n",
       "      <td>0.162785</td>\n",
       "      <td>0.148492</td>\n",
       "      <td>0.251847</td>\n",
       "      <td>0.208813</td>\n",
       "    </tr>\n",
       "    <tr>\n",
       "      <th>межмегаполисный</th>\n",
       "      <td>0.223787</td>\n",
       "      <td>0.360315</td>\n",
       "      <td>0.269516</td>\n",
       "      <td>0.262507</td>\n",
       "      <td>0.274714</td>\n",
       "      <td>0.175211</td>\n",
       "      <td>0.460716</td>\n",
       "      <td>0.332023</td>\n",
       "      <td>0.293126</td>\n",
       "      <td>0.351048</td>\n",
       "      <td>0.318761</td>\n",
       "      <td>0.246493</td>\n",
       "      <td>0.282403</td>\n",
       "      <td>0.426892</td>\n",
       "      <td>0.237959</td>\n",
       "    </tr>\n",
       "    <tr>\n",
       "      <th>воздушный</th>\n",
       "      <td>0.204148</td>\n",
       "      <td>0.317586</td>\n",
       "      <td>0.250676</td>\n",
       "      <td>0.341972</td>\n",
       "      <td>0.188146</td>\n",
       "      <td>0.129827</td>\n",
       "      <td>0.287205</td>\n",
       "      <td>0.157454</td>\n",
       "      <td>0.191236</td>\n",
       "      <td>0.260126</td>\n",
       "      <td>0.319431</td>\n",
       "      <td>0.175214</td>\n",
       "      <td>0.152491</td>\n",
       "      <td>0.227233</td>\n",
       "      <td>0.172581</td>\n",
       "    </tr>\n",
       "    <tr>\n",
       "      <th>заложение</th>\n",
       "      <td>0.168508</td>\n",
       "      <td>0.202350</td>\n",
       "      <td>0.152061</td>\n",
       "      <td>0.326524</td>\n",
       "      <td>0.079525</td>\n",
       "      <td>0.127819</td>\n",
       "      <td>0.201326</td>\n",
       "      <td>0.188037</td>\n",
       "      <td>0.171726</td>\n",
       "      <td>0.244733</td>\n",
       "      <td>0.215021</td>\n",
       "      <td>0.208763</td>\n",
       "      <td>0.147233</td>\n",
       "      <td>0.180237</td>\n",
       "      <td>0.105036</td>\n",
       "    </tr>\n",
       "    <tr>\n",
       "      <th>защита</th>\n",
       "      <td>0.107125</td>\n",
       "      <td>0.161873</td>\n",
       "      <td>0.146659</td>\n",
       "      <td>0.240674</td>\n",
       "      <td>0.266580</td>\n",
       "      <td>0.128532</td>\n",
       "      <td>0.265806</td>\n",
       "      <td>0.162902</td>\n",
       "      <td>0.498945</td>\n",
       "      <td>0.201038</td>\n",
       "      <td>0.246533</td>\n",
       "      <td>0.304198</td>\n",
       "      <td>0.202161</td>\n",
       "      <td>0.320850</td>\n",
       "      <td>0.206886</td>\n",
       "    </tr>\n",
       "    <tr>\n",
       "      <th>мегаполиса</th>\n",
       "      <td>0.159522</td>\n",
       "      <td>0.345562</td>\n",
       "      <td>0.278665</td>\n",
       "      <td>0.308780</td>\n",
       "      <td>0.202876</td>\n",
       "      <td>0.144220</td>\n",
       "      <td>0.341637</td>\n",
       "      <td>0.322533</td>\n",
       "      <td>0.248693</td>\n",
       "      <td>0.295432</td>\n",
       "      <td>0.320618</td>\n",
       "      <td>0.305575</td>\n",
       "      <td>0.163811</td>\n",
       "      <td>0.300533</td>\n",
       "      <td>0.233478</td>\n",
       "    </tr>\n",
       "    <tr>\n",
       "      <th>прозрачный</th>\n",
       "      <td>0.200873</td>\n",
       "      <td>0.087647</td>\n",
       "      <td>0.076744</td>\n",
       "      <td>0.151058</td>\n",
       "      <td>0.145242</td>\n",
       "      <td>0.124079</td>\n",
       "      <td>0.132830</td>\n",
       "      <td>0.059046</td>\n",
       "      <td>0.047313</td>\n",
       "      <td>0.156787</td>\n",
       "      <td>0.123294</td>\n",
       "      <td>0.067669</td>\n",
       "      <td>0.043017</td>\n",
       "      <td>0.131139</td>\n",
       "      <td>0.153262</td>\n",
       "    </tr>\n",
       "    <tr>\n",
       "      <th>давление</th>\n",
       "      <td>0.148249</td>\n",
       "      <td>0.132149</td>\n",
       "      <td>0.173019</td>\n",
       "      <td>0.212011</td>\n",
       "      <td>0.217655</td>\n",
       "      <td>0.162550</td>\n",
       "      <td>0.217456</td>\n",
       "      <td>0.107177</td>\n",
       "      <td>0.099791</td>\n",
       "      <td>0.148530</td>\n",
       "      <td>0.248521</td>\n",
       "      <td>0.093266</td>\n",
       "      <td>0.126880</td>\n",
       "      <td>0.144422</td>\n",
       "      <td>0.060952</td>\n",
       "    </tr>\n",
       "    <tr>\n",
       "      <th>сообщение</th>\n",
       "      <td>0.195260</td>\n",
       "      <td>0.091464</td>\n",
       "      <td>0.123903</td>\n",
       "      <td>0.141801</td>\n",
       "      <td>0.130937</td>\n",
       "      <td>0.165877</td>\n",
       "      <td>0.277981</td>\n",
       "      <td>0.314427</td>\n",
       "      <td>0.118528</td>\n",
       "      <td>0.156353</td>\n",
       "      <td>0.248386</td>\n",
       "      <td>0.077108</td>\n",
       "      <td>0.319816</td>\n",
       "      <td>0.219812</td>\n",
       "      <td>0.123371</td>\n",
       "    </tr>\n",
       "    <tr>\n",
       "      <th>укладывать</th>\n",
       "      <td>0.253780</td>\n",
       "      <td>0.237357</td>\n",
       "      <td>0.104146</td>\n",
       "      <td>0.144786</td>\n",
       "      <td>0.076755</td>\n",
       "      <td>0.132962</td>\n",
       "      <td>0.299361</td>\n",
       "      <td>0.083426</td>\n",
       "      <td>0.063594</td>\n",
       "      <td>0.252479</td>\n",
       "      <td>0.185227</td>\n",
       "      <td>0.102084</td>\n",
       "      <td>0.154453</td>\n",
       "      <td>0.187118</td>\n",
       "      <td>0.164915</td>\n",
       "    </tr>\n",
       "    <tr>\n",
       "      <th>грузопоток</th>\n",
       "      <td>0.136718</td>\n",
       "      <td>0.355021</td>\n",
       "      <td>0.168353</td>\n",
       "      <td>0.231204</td>\n",
       "      <td>0.098078</td>\n",
       "      <td>0.146828</td>\n",
       "      <td>0.266478</td>\n",
       "      <td>0.233487</td>\n",
       "      <td>0.166019</td>\n",
       "      <td>0.362753</td>\n",
       "      <td>0.353511</td>\n",
       "      <td>0.307256</td>\n",
       "      <td>0.175768</td>\n",
       "      <td>0.206862</td>\n",
       "      <td>0.113936</td>\n",
       "    </tr>\n",
       "    <tr>\n",
       "      <th>вокзал</th>\n",
       "      <td>0.143973</td>\n",
       "      <td>0.153442</td>\n",
       "      <td>0.081809</td>\n",
       "      <td>0.267631</td>\n",
       "      <td>0.182355</td>\n",
       "      <td>0.117078</td>\n",
       "      <td>0.198398</td>\n",
       "      <td>0.194805</td>\n",
       "      <td>0.138593</td>\n",
       "      <td>0.183481</td>\n",
       "      <td>0.231254</td>\n",
       "      <td>0.236266</td>\n",
       "      <td>0.164089</td>\n",
       "      <td>0.166944</td>\n",
       "      <td>0.141084</td>\n",
       "    </tr>\n",
       "    <tr>\n",
       "      <th>амортизировать</th>\n",
       "      <td>0.175780</td>\n",
       "      <td>0.188035</td>\n",
       "      <td>0.243622</td>\n",
       "      <td>0.218663</td>\n",
       "      <td>0.229937</td>\n",
       "      <td>0.132494</td>\n",
       "      <td>0.277703</td>\n",
       "      <td>0.157261</td>\n",
       "      <td>0.197243</td>\n",
       "      <td>0.195820</td>\n",
       "      <td>0.184234</td>\n",
       "      <td>0.111202</td>\n",
       "      <td>0.083990</td>\n",
       "      <td>0.231893</td>\n",
       "      <td>0.200559</td>\n",
       "    </tr>\n",
       "    <tr>\n",
       "      <th>прямоугольный</th>\n",
       "      <td>0.271319</td>\n",
       "      <td>0.163118</td>\n",
       "      <td>0.066700</td>\n",
       "      <td>0.139568</td>\n",
       "      <td>0.055882</td>\n",
       "      <td>0.108322</td>\n",
       "      <td>0.226210</td>\n",
       "      <td>0.126788</td>\n",
       "      <td>0.071036</td>\n",
       "      <td>0.216288</td>\n",
       "      <td>0.207913</td>\n",
       "      <td>0.087781</td>\n",
       "      <td>0.147128</td>\n",
       "      <td>0.088803</td>\n",
       "      <td>0.213705</td>\n",
       "    </tr>\n",
       "    <tr>\n",
       "      <th>перемещать</th>\n",
       "      <td>0.353936</td>\n",
       "      <td>0.216178</td>\n",
       "      <td>0.158438</td>\n",
       "      <td>0.187784</td>\n",
       "      <td>0.120927</td>\n",
       "      <td>0.145355</td>\n",
       "      <td>0.364523</td>\n",
       "      <td>0.171619</td>\n",
       "      <td>0.142477</td>\n",
       "      <td>0.250015</td>\n",
       "      <td>0.266490</td>\n",
       "      <td>0.169193</td>\n",
       "      <td>0.262583</td>\n",
       "      <td>0.246804</td>\n",
       "      <td>0.240283</td>\n",
       "    </tr>\n",
       "    <tr>\n",
       "      <th>колесо</th>\n",
       "      <td>0.149865</td>\n",
       "      <td>0.126331</td>\n",
       "      <td>0.121685</td>\n",
       "      <td>0.162822</td>\n",
       "      <td>0.162974</td>\n",
       "      <td>0.084948</td>\n",
       "      <td>0.224564</td>\n",
       "      <td>0.186616</td>\n",
       "      <td>0.103473</td>\n",
       "      <td>0.223769</td>\n",
       "      <td>0.292018</td>\n",
       "      <td>0.128936</td>\n",
       "      <td>0.151041</td>\n",
       "      <td>0.165383</td>\n",
       "      <td>0.166776</td>\n",
       "    </tr>\n",
       "    <tr>\n",
       "      <th>остановка</th>\n",
       "      <td>0.199189</td>\n",
       "      <td>0.233476</td>\n",
       "      <td>0.153721</td>\n",
       "      <td>0.191473</td>\n",
       "      <td>0.203396</td>\n",
       "      <td>0.058874</td>\n",
       "      <td>0.427312</td>\n",
       "      <td>0.184969</td>\n",
       "      <td>0.204958</td>\n",
       "      <td>0.324585</td>\n",
       "      <td>0.347307</td>\n",
       "      <td>0.184415</td>\n",
       "      <td>0.279767</td>\n",
       "      <td>0.283424</td>\n",
       "      <td>0.137653</td>\n",
       "    </tr>\n",
       "    <tr>\n",
       "      <th>челнока</th>\n",
       "      <td>0.249111</td>\n",
       "      <td>0.192274</td>\n",
       "      <td>0.175624</td>\n",
       "      <td>0.210701</td>\n",
       "      <td>0.237792</td>\n",
       "      <td>0.176496</td>\n",
       "      <td>0.300193</td>\n",
       "      <td>0.230568</td>\n",
       "      <td>0.115081</td>\n",
       "      <td>0.193624</td>\n",
       "      <td>0.184811</td>\n",
       "      <td>0.124866</td>\n",
       "      <td>0.172728</td>\n",
       "      <td>0.212828</td>\n",
       "      <td>0.172234</td>\n",
       "    </tr>\n",
       "    <tr>\n",
       "      <th>отделять</th>\n",
       "      <td>0.136764</td>\n",
       "      <td>0.111213</td>\n",
       "      <td>0.095926</td>\n",
       "      <td>0.079913</td>\n",
       "      <td>0.205713</td>\n",
       "      <td>0.144490</td>\n",
       "      <td>0.291146</td>\n",
       "      <td>0.053159</td>\n",
       "      <td>0.109652</td>\n",
       "      <td>0.141277</td>\n",
       "      <td>0.110357</td>\n",
       "      <td>0.108597</td>\n",
       "      <td>0.038420</td>\n",
       "      <td>0.194117</td>\n",
       "      <td>0.196730</td>\n",
       "    </tr>\n",
       "    <tr>\n",
       "      <th>прямолинейный</th>\n",
       "      <td>0.268088</td>\n",
       "      <td>0.145411</td>\n",
       "      <td>0.080130</td>\n",
       "      <td>0.122719</td>\n",
       "      <td>0.168263</td>\n",
       "      <td>0.129263</td>\n",
       "      <td>0.229049</td>\n",
       "      <td>0.100474</td>\n",
       "      <td>0.124785</td>\n",
       "      <td>0.136315</td>\n",
       "      <td>0.189060</td>\n",
       "      <td>0.144197</td>\n",
       "      <td>0.161185</td>\n",
       "      <td>0.143452</td>\n",
       "      <td>0.199758</td>\n",
       "    </tr>\n",
       "    <tr>\n",
       "      <th>электропривод</th>\n",
       "      <td>0.127072</td>\n",
       "      <td>0.217545</td>\n",
       "      <td>0.075421</td>\n",
       "      <td>0.219051</td>\n",
       "      <td>0.180594</td>\n",
       "      <td>0.121752</td>\n",
       "      <td>0.217672</td>\n",
       "      <td>0.156312</td>\n",
       "      <td>0.134065</td>\n",
       "      <td>0.260881</td>\n",
       "      <td>0.420193</td>\n",
       "      <td>0.208791</td>\n",
       "      <td>0.294089</td>\n",
       "      <td>0.286868</td>\n",
       "      <td>0.144957</td>\n",
       "    </tr>\n",
       "    <tr>\n",
       "      <th>расстояние</th>\n",
       "      <td>0.276936</td>\n",
       "      <td>0.216335</td>\n",
       "      <td>0.133663</td>\n",
       "      <td>0.202508</td>\n",
       "      <td>0.040593</td>\n",
       "      <td>0.165587</td>\n",
       "      <td>0.305306</td>\n",
       "      <td>0.192154</td>\n",
       "      <td>0.094525</td>\n",
       "      <td>0.223122</td>\n",
       "      <td>0.240047</td>\n",
       "      <td>0.106728</td>\n",
       "      <td>0.167292</td>\n",
       "      <td>0.165244</td>\n",
       "      <td>0.259532</td>\n",
       "    </tr>\n",
       "    <tr>\n",
       "      <th>мегаполис</th>\n",
       "      <td>0.098123</td>\n",
       "      <td>0.236195</td>\n",
       "      <td>0.246725</td>\n",
       "      <td>0.325207</td>\n",
       "      <td>0.090533</td>\n",
       "      <td>0.127272</td>\n",
       "      <td>0.198455</td>\n",
       "      <td>0.301464</td>\n",
       "      <td>0.149531</td>\n",
       "      <td>0.258803</td>\n",
       "      <td>0.249879</td>\n",
       "      <td>0.303107</td>\n",
       "      <td>0.145345</td>\n",
       "      <td>0.242094</td>\n",
       "      <td>0.152858</td>\n",
       "    </tr>\n",
       "    <tr>\n",
       "      <th>сваривать</th>\n",
       "      <td>0.155835</td>\n",
       "      <td>0.147397</td>\n",
       "      <td>0.025097</td>\n",
       "      <td>0.133235</td>\n",
       "      <td>0.155875</td>\n",
       "      <td>0.100438</td>\n",
       "      <td>0.207941</td>\n",
       "      <td>0.083520</td>\n",
       "      <td>0.060534</td>\n",
       "      <td>0.217156</td>\n",
       "      <td>0.150658</td>\n",
       "      <td>0.152845</td>\n",
       "      <td>0.111672</td>\n",
       "      <td>0.145541</td>\n",
       "      <td>0.087466</td>\n",
       "    </tr>\n",
       "    <tr>\n",
       "      <th>сверхскоростной</th>\n",
       "      <td>0.069998</td>\n",
       "      <td>0.206367</td>\n",
       "      <td>0.094694</td>\n",
       "      <td>0.110113</td>\n",
       "      <td>0.127271</td>\n",
       "      <td>0.086060</td>\n",
       "      <td>0.224368</td>\n",
       "      <td>0.205276</td>\n",
       "      <td>0.152756</td>\n",
       "      <td>0.220461</td>\n",
       "      <td>0.177174</td>\n",
       "      <td>0.208921</td>\n",
       "      <td>0.165570</td>\n",
       "      <td>0.261536</td>\n",
       "      <td>0.145561</td>\n",
       "    </tr>\n",
       "    <tr>\n",
       "      <th>поездов</th>\n",
       "      <td>0.132036</td>\n",
       "      <td>0.252770</td>\n",
       "      <td>0.161716</td>\n",
       "      <td>0.225394</td>\n",
       "      <td>0.185859</td>\n",
       "      <td>0.167918</td>\n",
       "      <td>0.305163</td>\n",
       "      <td>0.227679</td>\n",
       "      <td>0.216176</td>\n",
       "      <td>0.284233</td>\n",
       "      <td>0.344866</td>\n",
       "      <td>0.249496</td>\n",
       "      <td>0.171815</td>\n",
       "      <td>0.256362</td>\n",
       "      <td>0.152258</td>\n",
       "    </tr>\n",
       "    <tr>\n",
       "      <th>лента</th>\n",
       "      <td>0.217268</td>\n",
       "      <td>0.197167</td>\n",
       "      <td>0.051377</td>\n",
       "      <td>0.130973</td>\n",
       "      <td>0.150847</td>\n",
       "      <td>0.115805</td>\n",
       "      <td>0.267172</td>\n",
       "      <td>0.070920</td>\n",
       "      <td>0.116552</td>\n",
       "      <td>0.228940</td>\n",
       "      <td>0.172059</td>\n",
       "      <td>0.153635</td>\n",
       "      <td>0.158229</td>\n",
       "      <td>0.217477</td>\n",
       "      <td>0.217763</td>\n",
       "    </tr>\n",
       "    <tr>\n",
       "      <th>...</th>\n",
       "      <td>...</td>\n",
       "      <td>...</td>\n",
       "      <td>...</td>\n",
       "      <td>...</td>\n",
       "      <td>...</td>\n",
       "      <td>...</td>\n",
       "      <td>...</td>\n",
       "      <td>...</td>\n",
       "      <td>...</td>\n",
       "      <td>...</td>\n",
       "      <td>...</td>\n",
       "      <td>...</td>\n",
       "      <td>...</td>\n",
       "      <td>...</td>\n",
       "      <td>...</td>\n",
       "    </tr>\n",
       "    <tr>\n",
       "      <th>несгорать</th>\n",
       "      <td>0.191931</td>\n",
       "      <td>0.289257</td>\n",
       "      <td>0.367603</td>\n",
       "      <td>0.256158</td>\n",
       "      <td>0.175643</td>\n",
       "      <td>0.078466</td>\n",
       "      <td>0.221912</td>\n",
       "      <td>0.216521</td>\n",
       "      <td>0.160470</td>\n",
       "      <td>0.284302</td>\n",
       "      <td>0.243042</td>\n",
       "      <td>0.167122</td>\n",
       "      <td>0.079306</td>\n",
       "      <td>0.267021</td>\n",
       "      <td>0.168602</td>\n",
       "    </tr>\n",
       "    <tr>\n",
       "      <th>передвигаться</th>\n",
       "      <td>0.328692</td>\n",
       "      <td>0.144644</td>\n",
       "      <td>0.157013</td>\n",
       "      <td>0.245676</td>\n",
       "      <td>0.140114</td>\n",
       "      <td>0.195935</td>\n",
       "      <td>0.396381</td>\n",
       "      <td>0.161064</td>\n",
       "      <td>0.165958</td>\n",
       "      <td>0.243325</td>\n",
       "      <td>0.298534</td>\n",
       "      <td>0.197186</td>\n",
       "      <td>0.236865</td>\n",
       "      <td>0.250444</td>\n",
       "      <td>0.196607</td>\n",
       "    </tr>\n",
       "    <tr>\n",
       "      <th>пассажиро</th>\n",
       "      <td>0.146456</td>\n",
       "      <td>0.397991</td>\n",
       "      <td>0.237389</td>\n",
       "      <td>0.308124</td>\n",
       "      <td>0.154620</td>\n",
       "      <td>0.149672</td>\n",
       "      <td>0.275458</td>\n",
       "      <td>0.290367</td>\n",
       "      <td>0.164163</td>\n",
       "      <td>0.442393</td>\n",
       "      <td>0.417203</td>\n",
       "      <td>0.253037</td>\n",
       "      <td>0.207170</td>\n",
       "      <td>0.213348</td>\n",
       "      <td>0.100275</td>\n",
       "    </tr>\n",
       "    <tr>\n",
       "      <th>челноков</th>\n",
       "      <td>0.083054</td>\n",
       "      <td>0.272310</td>\n",
       "      <td>0.197023</td>\n",
       "      <td>0.194690</td>\n",
       "      <td>0.134075</td>\n",
       "      <td>0.141980</td>\n",
       "      <td>0.314785</td>\n",
       "      <td>0.286071</td>\n",
       "      <td>0.235112</td>\n",
       "      <td>0.159398</td>\n",
       "      <td>0.180328</td>\n",
       "      <td>0.145969</td>\n",
       "      <td>0.159356</td>\n",
       "      <td>0.293465</td>\n",
       "      <td>0.118821</td>\n",
       "    </tr>\n",
       "    <tr>\n",
       "      <th>перрона</th>\n",
       "      <td>0.173938</td>\n",
       "      <td>0.168215</td>\n",
       "      <td>0.145850</td>\n",
       "      <td>0.252317</td>\n",
       "      <td>0.157918</td>\n",
       "      <td>0.107371</td>\n",
       "      <td>0.183530</td>\n",
       "      <td>0.241031</td>\n",
       "      <td>0.129539</td>\n",
       "      <td>0.195249</td>\n",
       "      <td>0.165796</td>\n",
       "      <td>0.143267</td>\n",
       "      <td>0.169856</td>\n",
       "      <td>0.183855</td>\n",
       "      <td>0.161926</td>\n",
       "    </tr>\n",
       "    <tr>\n",
       "      <th>подушка</th>\n",
       "      <td>0.201870</td>\n",
       "      <td>0.219221</td>\n",
       "      <td>0.200727</td>\n",
       "      <td>0.189621</td>\n",
       "      <td>0.222909</td>\n",
       "      <td>0.101844</td>\n",
       "      <td>0.262085</td>\n",
       "      <td>0.149880</td>\n",
       "      <td>0.160440</td>\n",
       "      <td>0.205369</td>\n",
       "      <td>0.162657</td>\n",
       "      <td>0.122951</td>\n",
       "      <td>0.130925</td>\n",
       "      <td>0.200274</td>\n",
       "      <td>0.166262</td>\n",
       "    </tr>\n",
       "    <tr>\n",
       "      <th>поезда</th>\n",
       "      <td>0.109533</td>\n",
       "      <td>0.212734</td>\n",
       "      <td>0.139177</td>\n",
       "      <td>0.227738</td>\n",
       "      <td>0.158997</td>\n",
       "      <td>0.145540</td>\n",
       "      <td>0.235276</td>\n",
       "      <td>0.259385</td>\n",
       "      <td>0.097344</td>\n",
       "      <td>0.297951</td>\n",
       "      <td>0.296633</td>\n",
       "      <td>0.164942</td>\n",
       "      <td>0.173063</td>\n",
       "      <td>0.223882</td>\n",
       "      <td>0.108197</td>\n",
       "    </tr>\n",
       "    <tr>\n",
       "      <th>перевозка</th>\n",
       "      <td>0.125443</td>\n",
       "      <td>0.280500</td>\n",
       "      <td>0.234384</td>\n",
       "      <td>0.323037</td>\n",
       "      <td>0.165615</td>\n",
       "      <td>0.165916</td>\n",
       "      <td>0.219777</td>\n",
       "      <td>0.222333</td>\n",
       "      <td>0.241190</td>\n",
       "      <td>0.389718</td>\n",
       "      <td>0.353305</td>\n",
       "      <td>0.372165</td>\n",
       "      <td>0.143525</td>\n",
       "      <td>0.329223</td>\n",
       "      <td>0.095449</td>\n",
       "    </tr>\n",
       "    <tr>\n",
       "      <th>скорость</th>\n",
       "      <td>0.076399</td>\n",
       "      <td>0.168003</td>\n",
       "      <td>0.134239</td>\n",
       "      <td>0.172095</td>\n",
       "      <td>0.155011</td>\n",
       "      <td>0.119419</td>\n",
       "      <td>0.209752</td>\n",
       "      <td>0.178119</td>\n",
       "      <td>0.124217</td>\n",
       "      <td>0.250004</td>\n",
       "      <td>0.286865</td>\n",
       "      <td>0.113517</td>\n",
       "      <td>0.170802</td>\n",
       "      <td>0.192511</td>\n",
       "      <td>0.085976</td>\n",
       "    </tr>\n",
       "    <tr>\n",
       "      <th>безопасный</th>\n",
       "      <td>0.213915</td>\n",
       "      <td>0.285166</td>\n",
       "      <td>0.283021</td>\n",
       "      <td>0.267860</td>\n",
       "      <td>0.300841</td>\n",
       "      <td>0.154492</td>\n",
       "      <td>0.303691</td>\n",
       "      <td>0.238394</td>\n",
       "      <td>0.351813</td>\n",
       "      <td>0.333185</td>\n",
       "      <td>0.277850</td>\n",
       "      <td>0.312449</td>\n",
       "      <td>0.189705</td>\n",
       "      <td>0.385024</td>\n",
       "      <td>0.135388</td>\n",
       "    </tr>\n",
       "    <tr>\n",
       "      <th>повышенный</th>\n",
       "      <td>0.159810</td>\n",
       "      <td>0.358550</td>\n",
       "      <td>0.135174</td>\n",
       "      <td>0.270656</td>\n",
       "      <td>0.456684</td>\n",
       "      <td>0.296931</td>\n",
       "      <td>0.303285</td>\n",
       "      <td>0.081130</td>\n",
       "      <td>0.232686</td>\n",
       "      <td>0.301151</td>\n",
       "      <td>0.274041</td>\n",
       "      <td>0.264361</td>\n",
       "      <td>0.060403</td>\n",
       "      <td>0.376835</td>\n",
       "      <td>0.184882</td>\n",
       "    </tr>\n",
       "    <tr>\n",
       "      <th>днище</th>\n",
       "      <td>0.235511</td>\n",
       "      <td>0.218647</td>\n",
       "      <td>0.127859</td>\n",
       "      <td>0.140961</td>\n",
       "      <td>0.189023</td>\n",
       "      <td>0.136444</td>\n",
       "      <td>0.266327</td>\n",
       "      <td>0.148693</td>\n",
       "      <td>0.117009</td>\n",
       "      <td>0.274950</td>\n",
       "      <td>0.230142</td>\n",
       "      <td>0.164099</td>\n",
       "      <td>0.120137</td>\n",
       "      <td>0.220244</td>\n",
       "      <td>0.156003</td>\n",
       "    </tr>\n",
       "    <tr>\n",
       "      <th>перегородка</th>\n",
       "      <td>0.238612</td>\n",
       "      <td>0.169269</td>\n",
       "      <td>0.105446</td>\n",
       "      <td>0.130057</td>\n",
       "      <td>0.159599</td>\n",
       "      <td>0.135753</td>\n",
       "      <td>0.308120</td>\n",
       "      <td>0.123574</td>\n",
       "      <td>0.088166</td>\n",
       "      <td>0.243479</td>\n",
       "      <td>0.180278</td>\n",
       "      <td>0.121191</td>\n",
       "      <td>0.148560</td>\n",
       "      <td>0.241015</td>\n",
       "      <td>0.206295</td>\n",
       "    </tr>\n",
       "    <tr>\n",
       "      <th>железнодорожный</th>\n",
       "      <td>0.113134</td>\n",
       "      <td>0.169956</td>\n",
       "      <td>0.104246</td>\n",
       "      <td>0.242449</td>\n",
       "      <td>0.216567</td>\n",
       "      <td>0.116537</td>\n",
       "      <td>0.234797</td>\n",
       "      <td>0.211847</td>\n",
       "      <td>0.132252</td>\n",
       "      <td>0.237521</td>\n",
       "      <td>0.268410</td>\n",
       "      <td>0.303292</td>\n",
       "      <td>0.183688</td>\n",
       "      <td>0.226099</td>\n",
       "      <td>0.165934</td>\n",
       "    </tr>\n",
       "    <tr>\n",
       "      <th>антитеррористический</th>\n",
       "      <td>0.166258</td>\n",
       "      <td>0.273559</td>\n",
       "      <td>0.164309</td>\n",
       "      <td>0.200675</td>\n",
       "      <td>0.259445</td>\n",
       "      <td>0.098839</td>\n",
       "      <td>0.312684</td>\n",
       "      <td>0.220032</td>\n",
       "      <td>0.308691</td>\n",
       "      <td>0.202379</td>\n",
       "      <td>0.251818</td>\n",
       "      <td>0.281027</td>\n",
       "      <td>0.196920</td>\n",
       "      <td>0.284686</td>\n",
       "      <td>0.177395</td>\n",
       "    </tr>\n",
       "    <tr>\n",
       "      <th>пассажир</th>\n",
       "      <td>0.222913</td>\n",
       "      <td>0.233006</td>\n",
       "      <td>0.178049</td>\n",
       "      <td>0.219430</td>\n",
       "      <td>0.281265</td>\n",
       "      <td>0.170037</td>\n",
       "      <td>0.242416</td>\n",
       "      <td>0.211716</td>\n",
       "      <td>0.204263</td>\n",
       "      <td>0.231652</td>\n",
       "      <td>0.240054</td>\n",
       "      <td>0.173089</td>\n",
       "      <td>0.207575</td>\n",
       "      <td>0.257821</td>\n",
       "      <td>0.204677</td>\n",
       "    </tr>\n",
       "    <tr>\n",
       "      <th>звукоизоляционный</th>\n",
       "      <td>0.206281</td>\n",
       "      <td>0.202452</td>\n",
       "      <td>0.235329</td>\n",
       "      <td>0.258530</td>\n",
       "      <td>0.191200</td>\n",
       "      <td>0.097652</td>\n",
       "      <td>0.191459</td>\n",
       "      <td>0.105009</td>\n",
       "      <td>0.118323</td>\n",
       "      <td>0.182962</td>\n",
       "      <td>0.141998</td>\n",
       "      <td>0.168629</td>\n",
       "      <td>0.117051</td>\n",
       "      <td>0.196677</td>\n",
       "      <td>0.190168</td>\n",
       "    </tr>\n",
       "    <tr>\n",
       "      <th>вагон</th>\n",
       "      <td>0.142860</td>\n",
       "      <td>0.182775</td>\n",
       "      <td>0.078840</td>\n",
       "      <td>0.201652</td>\n",
       "      <td>0.182461</td>\n",
       "      <td>0.091950</td>\n",
       "      <td>0.246918</td>\n",
       "      <td>0.173802</td>\n",
       "      <td>0.069981</td>\n",
       "      <td>0.226043</td>\n",
       "      <td>0.301779</td>\n",
       "      <td>0.165151</td>\n",
       "      <td>0.151770</td>\n",
       "      <td>0.177152</td>\n",
       "      <td>0.111419</td>\n",
       "    </tr>\n",
       "    <tr>\n",
       "      <th>бесшумный</th>\n",
       "      <td>0.180532</td>\n",
       "      <td>0.236624</td>\n",
       "      <td>0.175765</td>\n",
       "      <td>0.285457</td>\n",
       "      <td>0.227424</td>\n",
       "      <td>0.128806</td>\n",
       "      <td>0.225778</td>\n",
       "      <td>0.205553</td>\n",
       "      <td>0.216570</td>\n",
       "      <td>0.348307</td>\n",
       "      <td>0.292261</td>\n",
       "      <td>0.219930</td>\n",
       "      <td>0.179992</td>\n",
       "      <td>0.319325</td>\n",
       "      <td>0.178423</td>\n",
       "    </tr>\n",
       "    <tr>\n",
       "      <th>туннель</th>\n",
       "      <td>0.165405</td>\n",
       "      <td>0.082419</td>\n",
       "      <td>0.151910</td>\n",
       "      <td>0.160055</td>\n",
       "      <td>0.115800</td>\n",
       "      <td>0.151525</td>\n",
       "      <td>0.256374</td>\n",
       "      <td>0.246678</td>\n",
       "      <td>0.083178</td>\n",
       "      <td>0.211342</td>\n",
       "      <td>0.182556</td>\n",
       "      <td>0.063051</td>\n",
       "      <td>0.174164</td>\n",
       "      <td>0.210964</td>\n",
       "      <td>0.231269</td>\n",
       "    </tr>\n",
       "    <tr>\n",
       "      <th>открытый</th>\n",
       "      <td>0.318959</td>\n",
       "      <td>0.153618</td>\n",
       "      <td>0.218896</td>\n",
       "      <td>0.278089</td>\n",
       "      <td>0.115709</td>\n",
       "      <td>0.155413</td>\n",
       "      <td>0.317318</td>\n",
       "      <td>0.167249</td>\n",
       "      <td>0.207841</td>\n",
       "      <td>0.221747</td>\n",
       "      <td>0.224340</td>\n",
       "      <td>0.180715</td>\n",
       "      <td>0.187776</td>\n",
       "      <td>0.259230</td>\n",
       "      <td>0.266064</td>\n",
       "    </tr>\n",
       "    <tr>\n",
       "      <th>делать</th>\n",
       "      <td>0.429655</td>\n",
       "      <td>0.409968</td>\n",
       "      <td>0.201020</td>\n",
       "      <td>0.284853</td>\n",
       "      <td>0.363557</td>\n",
       "      <td>0.151202</td>\n",
       "      <td>0.457860</td>\n",
       "      <td>0.204157</td>\n",
       "      <td>0.195077</td>\n",
       "      <td>0.337800</td>\n",
       "      <td>0.248013</td>\n",
       "      <td>0.248307</td>\n",
       "      <td>0.166088</td>\n",
       "      <td>0.429388</td>\n",
       "      <td>0.295434</td>\n",
       "    </tr>\n",
       "    <tr>\n",
       "      <th>дверь</th>\n",
       "      <td>0.271103</td>\n",
       "      <td>0.127533</td>\n",
       "      <td>0.104637</td>\n",
       "      <td>0.298599</td>\n",
       "      <td>0.296074</td>\n",
       "      <td>0.171440</td>\n",
       "      <td>0.242871</td>\n",
       "      <td>0.133858</td>\n",
       "      <td>0.171408</td>\n",
       "      <td>0.232659</td>\n",
       "      <td>0.215413</td>\n",
       "      <td>0.202519</td>\n",
       "      <td>0.178154</td>\n",
       "      <td>0.221906</td>\n",
       "      <td>0.174608</td>\n",
       "    </tr>\n",
       "    <tr>\n",
       "      <th>обслуживание</th>\n",
       "      <td>0.106975</td>\n",
       "      <td>0.205803</td>\n",
       "      <td>0.163803</td>\n",
       "      <td>0.291064</td>\n",
       "      <td>0.096490</td>\n",
       "      <td>0.182765</td>\n",
       "      <td>0.247641</td>\n",
       "      <td>0.267411</td>\n",
       "      <td>0.173222</td>\n",
       "      <td>0.389729</td>\n",
       "      <td>0.371491</td>\n",
       "      <td>0.234108</td>\n",
       "      <td>0.292713</td>\n",
       "      <td>0.302788</td>\n",
       "      <td>0.137130</td>\n",
       "    </tr>\n",
       "    <tr>\n",
       "      <th>вибро</th>\n",
       "      <td>0.181842</td>\n",
       "      <td>0.252850</td>\n",
       "      <td>0.169743</td>\n",
       "      <td>0.259850</td>\n",
       "      <td>0.229939</td>\n",
       "      <td>0.103912</td>\n",
       "      <td>0.232566</td>\n",
       "      <td>0.123790</td>\n",
       "      <td>0.133716</td>\n",
       "      <td>0.263182</td>\n",
       "      <td>0.214273</td>\n",
       "      <td>0.152687</td>\n",
       "      <td>0.217428</td>\n",
       "      <td>0.263437</td>\n",
       "      <td>0.217211</td>\n",
       "    </tr>\n",
       "    <tr>\n",
       "      <th>уровень</th>\n",
       "      <td>0.217593</td>\n",
       "      <td>0.223779</td>\n",
       "      <td>0.205853</td>\n",
       "      <td>0.218944</td>\n",
       "      <td>0.221822</td>\n",
       "      <td>0.169158</td>\n",
       "      <td>0.336392</td>\n",
       "      <td>0.217546</td>\n",
       "      <td>0.115737</td>\n",
       "      <td>0.224038</td>\n",
       "      <td>0.221472</td>\n",
       "      <td>0.139392</td>\n",
       "      <td>0.204635</td>\n",
       "      <td>0.256873</td>\n",
       "      <td>0.278553</td>\n",
       "    </tr>\n",
       "    <tr>\n",
       "      <th>безопасность</th>\n",
       "      <td>0.160853</td>\n",
       "      <td>0.237596</td>\n",
       "      <td>0.215498</td>\n",
       "      <td>0.224403</td>\n",
       "      <td>0.253630</td>\n",
       "      <td>0.281598</td>\n",
       "      <td>0.286560</td>\n",
       "      <td>0.257910</td>\n",
       "      <td>0.250180</td>\n",
       "      <td>0.305001</td>\n",
       "      <td>0.255817</td>\n",
       "      <td>0.203936</td>\n",
       "      <td>0.244078</td>\n",
       "      <td>0.372194</td>\n",
       "      <td>0.178673</td>\n",
       "    </tr>\n",
       "    <tr>\n",
       "      <th>отличать</th>\n",
       "      <td>0.112985</td>\n",
       "      <td>0.135740</td>\n",
       "      <td>0.035610</td>\n",
       "      <td>0.126383</td>\n",
       "      <td>0.218442</td>\n",
       "      <td>0.132434</td>\n",
       "      <td>0.145498</td>\n",
       "      <td>0.064801</td>\n",
       "      <td>0.168897</td>\n",
       "      <td>0.176088</td>\n",
       "      <td>0.163977</td>\n",
       "      <td>0.238709</td>\n",
       "      <td>0.061824</td>\n",
       "      <td>0.169044</td>\n",
       "      <td>0.160680</td>\n",
       "    </tr>\n",
       "    <tr>\n",
       "      <th>поезд</th>\n",
       "      <td>0.115578</td>\n",
       "      <td>0.162234</td>\n",
       "      <td>0.128268</td>\n",
       "      <td>0.183417</td>\n",
       "      <td>0.208480</td>\n",
       "      <td>0.129782</td>\n",
       "      <td>0.243072</td>\n",
       "      <td>0.253622</td>\n",
       "      <td>0.140587</td>\n",
       "      <td>0.229518</td>\n",
       "      <td>0.285521</td>\n",
       "      <td>0.172899</td>\n",
       "      <td>0.245802</td>\n",
       "      <td>0.201095</td>\n",
       "      <td>0.105612</td>\n",
       "    </tr>\n",
       "    <tr>\n",
       "      <th>рельс</th>\n",
       "      <td>0.113748</td>\n",
       "      <td>0.139127</td>\n",
       "      <td>0.099461</td>\n",
       "      <td>0.219590</td>\n",
       "      <td>0.213527</td>\n",
       "      <td>0.075469</td>\n",
       "      <td>0.233523</td>\n",
       "      <td>0.167445</td>\n",
       "      <td>0.113204</td>\n",
       "      <td>0.195720</td>\n",
       "      <td>0.238406</td>\n",
       "      <td>0.140099</td>\n",
       "      <td>0.161399</td>\n",
       "      <td>0.203983</td>\n",
       "      <td>0.123886</td>\n",
       "    </tr>\n",
       "  </tbody>\n",
       "</table>\n",
       "<p>69 rows × 15 columns</p>\n",
       "</div>"
      ],
      "text/plain": [
       "                      показаться   весомый  потепление    климат  неожиданный  \\\n",
       "груз                    0.169204  0.246345    0.134826  0.151661     0.145275   \n",
       "неглубокий              0.294169  0.188261    0.186303  0.291177     0.182622   \n",
       "перрон                  0.230164  0.178828    0.119399  0.184676     0.207974   \n",
       "торец                   0.285827  0.181317    0.090059  0.128457     0.166120   \n",
       "межмегаполисный         0.223787  0.360315    0.269516  0.262507     0.274714   \n",
       "воздушный               0.204148  0.317586    0.250676  0.341972     0.188146   \n",
       "заложение               0.168508  0.202350    0.152061  0.326524     0.079525   \n",
       "защита                  0.107125  0.161873    0.146659  0.240674     0.266580   \n",
       "мегаполиса              0.159522  0.345562    0.278665  0.308780     0.202876   \n",
       "прозрачный              0.200873  0.087647    0.076744  0.151058     0.145242   \n",
       "давление                0.148249  0.132149    0.173019  0.212011     0.217655   \n",
       "сообщение               0.195260  0.091464    0.123903  0.141801     0.130937   \n",
       "укладывать              0.253780  0.237357    0.104146  0.144786     0.076755   \n",
       "грузопоток              0.136718  0.355021    0.168353  0.231204     0.098078   \n",
       "вокзал                  0.143973  0.153442    0.081809  0.267631     0.182355   \n",
       "амортизировать          0.175780  0.188035    0.243622  0.218663     0.229937   \n",
       "прямоугольный           0.271319  0.163118    0.066700  0.139568     0.055882   \n",
       "перемещать              0.353936  0.216178    0.158438  0.187784     0.120927   \n",
       "колесо                  0.149865  0.126331    0.121685  0.162822     0.162974   \n",
       "остановка               0.199189  0.233476    0.153721  0.191473     0.203396   \n",
       "челнока                 0.249111  0.192274    0.175624  0.210701     0.237792   \n",
       "отделять                0.136764  0.111213    0.095926  0.079913     0.205713   \n",
       "прямолинейный           0.268088  0.145411    0.080130  0.122719     0.168263   \n",
       "электропривод           0.127072  0.217545    0.075421  0.219051     0.180594   \n",
       "расстояние              0.276936  0.216335    0.133663  0.202508     0.040593   \n",
       "мегаполис               0.098123  0.236195    0.246725  0.325207     0.090533   \n",
       "сваривать               0.155835  0.147397    0.025097  0.133235     0.155875   \n",
       "сверхскоростной         0.069998  0.206367    0.094694  0.110113     0.127271   \n",
       "поездов                 0.132036  0.252770    0.161716  0.225394     0.185859   \n",
       "лента                   0.217268  0.197167    0.051377  0.130973     0.150847   \n",
       "...                          ...       ...         ...       ...          ...   \n",
       "несгорать               0.191931  0.289257    0.367603  0.256158     0.175643   \n",
       "передвигаться           0.328692  0.144644    0.157013  0.245676     0.140114   \n",
       "пассажиро               0.146456  0.397991    0.237389  0.308124     0.154620   \n",
       "челноков                0.083054  0.272310    0.197023  0.194690     0.134075   \n",
       "перрона                 0.173938  0.168215    0.145850  0.252317     0.157918   \n",
       "подушка                 0.201870  0.219221    0.200727  0.189621     0.222909   \n",
       "поезда                  0.109533  0.212734    0.139177  0.227738     0.158997   \n",
       "перевозка               0.125443  0.280500    0.234384  0.323037     0.165615   \n",
       "скорость                0.076399  0.168003    0.134239  0.172095     0.155011   \n",
       "безопасный              0.213915  0.285166    0.283021  0.267860     0.300841   \n",
       "повышенный              0.159810  0.358550    0.135174  0.270656     0.456684   \n",
       "днище                   0.235511  0.218647    0.127859  0.140961     0.189023   \n",
       "перегородка             0.238612  0.169269    0.105446  0.130057     0.159599   \n",
       "железнодорожный         0.113134  0.169956    0.104246  0.242449     0.216567   \n",
       "антитеррористический    0.166258  0.273559    0.164309  0.200675     0.259445   \n",
       "пассажир                0.222913  0.233006    0.178049  0.219430     0.281265   \n",
       "звукоизоляционный       0.206281  0.202452    0.235329  0.258530     0.191200   \n",
       "вагон                   0.142860  0.182775    0.078840  0.201652     0.182461   \n",
       "бесшумный               0.180532  0.236624    0.175765  0.285457     0.227424   \n",
       "туннель                 0.165405  0.082419    0.151910  0.160055     0.115800   \n",
       "открытый                0.318959  0.153618    0.218896  0.278089     0.115709   \n",
       "делать                  0.429655  0.409968    0.201020  0.284853     0.363557   \n",
       "дверь                   0.271103  0.127533    0.104637  0.298599     0.296074   \n",
       "обслуживание            0.106975  0.205803    0.163803  0.291064     0.096490   \n",
       "вибро                   0.181842  0.252850    0.169743  0.259850     0.229939   \n",
       "уровень                 0.217593  0.223779    0.205853  0.218944     0.221822   \n",
       "безопасность            0.160853  0.237596    0.215498  0.224403     0.253630   \n",
       "отличать                0.112985  0.135740    0.035610  0.126383     0.218442   \n",
       "поезд                   0.115578  0.162234    0.128268  0.183417     0.208480   \n",
       "рельс                   0.113748  0.139127    0.099461  0.219590     0.213527   \n",
       "\n",
       "                      кулинарный  возникнуть  глобальный    борьба  экономия  \\\n",
       "груз                    0.126866    0.264887    0.173469  0.155164  0.245130   \n",
       "неглубокий              0.100001    0.334387    0.141134  0.219956  0.252299   \n",
       "перрон                  0.074953    0.199838    0.184000  0.153047  0.169200   \n",
       "торец                   0.100676    0.281818    0.118377  0.113302  0.206050   \n",
       "межмегаполисный         0.175211    0.460716    0.332023  0.293126  0.351048   \n",
       "воздушный               0.129827    0.287205    0.157454  0.191236  0.260126   \n",
       "заложение               0.127819    0.201326    0.188037  0.171726  0.244733   \n",
       "защита                  0.128532    0.265806    0.162902  0.498945  0.201038   \n",
       "мегаполиса              0.144220    0.341637    0.322533  0.248693  0.295432   \n",
       "прозрачный              0.124079    0.132830    0.059046  0.047313  0.156787   \n",
       "давление                0.162550    0.217456    0.107177  0.099791  0.148530   \n",
       "сообщение               0.165877    0.277981    0.314427  0.118528  0.156353   \n",
       "укладывать              0.132962    0.299361    0.083426  0.063594  0.252479   \n",
       "грузопоток              0.146828    0.266478    0.233487  0.166019  0.362753   \n",
       "вокзал                  0.117078    0.198398    0.194805  0.138593  0.183481   \n",
       "амортизировать          0.132494    0.277703    0.157261  0.197243  0.195820   \n",
       "прямоугольный           0.108322    0.226210    0.126788  0.071036  0.216288   \n",
       "перемещать              0.145355    0.364523    0.171619  0.142477  0.250015   \n",
       "колесо                  0.084948    0.224564    0.186616  0.103473  0.223769   \n",
       "остановка               0.058874    0.427312    0.184969  0.204958  0.324585   \n",
       "челнока                 0.176496    0.300193    0.230568  0.115081  0.193624   \n",
       "отделять                0.144490    0.291146    0.053159  0.109652  0.141277   \n",
       "прямолинейный           0.129263    0.229049    0.100474  0.124785  0.136315   \n",
       "электропривод           0.121752    0.217672    0.156312  0.134065  0.260881   \n",
       "расстояние              0.165587    0.305306    0.192154  0.094525  0.223122   \n",
       "мегаполис               0.127272    0.198455    0.301464  0.149531  0.258803   \n",
       "сваривать               0.100438    0.207941    0.083520  0.060534  0.217156   \n",
       "сверхскоростной         0.086060    0.224368    0.205276  0.152756  0.220461   \n",
       "поездов                 0.167918    0.305163    0.227679  0.216176  0.284233   \n",
       "лента                   0.115805    0.267172    0.070920  0.116552  0.228940   \n",
       "...                          ...         ...         ...       ...       ...   \n",
       "несгорать               0.078466    0.221912    0.216521  0.160470  0.284302   \n",
       "передвигаться           0.195935    0.396381    0.161064  0.165958  0.243325   \n",
       "пассажиро               0.149672    0.275458    0.290367  0.164163  0.442393   \n",
       "челноков                0.141980    0.314785    0.286071  0.235112  0.159398   \n",
       "перрона                 0.107371    0.183530    0.241031  0.129539  0.195249   \n",
       "подушка                 0.101844    0.262085    0.149880  0.160440  0.205369   \n",
       "поезда                  0.145540    0.235276    0.259385  0.097344  0.297951   \n",
       "перевозка               0.165916    0.219777    0.222333  0.241190  0.389718   \n",
       "скорость                0.119419    0.209752    0.178119  0.124217  0.250004   \n",
       "безопасный              0.154492    0.303691    0.238394  0.351813  0.333185   \n",
       "повышенный              0.296931    0.303285    0.081130  0.232686  0.301151   \n",
       "днище                   0.136444    0.266327    0.148693  0.117009  0.274950   \n",
       "перегородка             0.135753    0.308120    0.123574  0.088166  0.243479   \n",
       "железнодорожный         0.116537    0.234797    0.211847  0.132252  0.237521   \n",
       "антитеррористический    0.098839    0.312684    0.220032  0.308691  0.202379   \n",
       "пассажир                0.170037    0.242416    0.211716  0.204263  0.231652   \n",
       "звукоизоляционный       0.097652    0.191459    0.105009  0.118323  0.182962   \n",
       "вагон                   0.091950    0.246918    0.173802  0.069981  0.226043   \n",
       "бесшумный               0.128806    0.225778    0.205553  0.216570  0.348307   \n",
       "туннель                 0.151525    0.256374    0.246678  0.083178  0.211342   \n",
       "открытый                0.155413    0.317318    0.167249  0.207841  0.221747   \n",
       "делать                  0.151202    0.457860    0.204157  0.195077  0.337800   \n",
       "дверь                   0.171440    0.242871    0.133858  0.171408  0.232659   \n",
       "обслуживание            0.182765    0.247641    0.267411  0.173222  0.389729   \n",
       "вибро                   0.103912    0.232566    0.123790  0.133716  0.263182   \n",
       "уровень                 0.169158    0.336392    0.217546  0.115737  0.224038   \n",
       "безопасность            0.281598    0.286560    0.257910  0.250180  0.305001   \n",
       "отличать                0.132434    0.145498    0.064801  0.168897  0.176088   \n",
       "поезд                   0.129782    0.243072    0.253622  0.140587  0.229518   \n",
       "рельс                   0.075469    0.233523    0.167445  0.113204  0.195720   \n",
       "\n",
       "                      электроэнергия  хозяйство  программа  проблема   область  \n",
       "груз                        0.286394   0.198369   0.217770  0.196851  0.156944  \n",
       "неглубокий                  0.201028   0.119175   0.118009  0.284169  0.304222  \n",
       "перрон                      0.093440   0.168930   0.145796  0.163177  0.166470  \n",
       "торец                       0.222287   0.162785   0.148492  0.251847  0.208813  \n",
       "межмегаполисный             0.318761   0.246493   0.282403  0.426892  0.237959  \n",
       "воздушный                   0.319431   0.175214   0.152491  0.227233  0.172581  \n",
       "заложение                   0.215021   0.208763   0.147233  0.180237  0.105036  \n",
       "защита                      0.246533   0.304198   0.202161  0.320850  0.206886  \n",
       "мегаполиса                  0.320618   0.305575   0.163811  0.300533  0.233478  \n",
       "прозрачный                  0.123294   0.067669   0.043017  0.131139  0.153262  \n",
       "давление                    0.248521   0.093266   0.126880  0.144422  0.060952  \n",
       "сообщение                   0.248386   0.077108   0.319816  0.219812  0.123371  \n",
       "укладывать                  0.185227   0.102084   0.154453  0.187118  0.164915  \n",
       "грузопоток                  0.353511   0.307256   0.175768  0.206862  0.113936  \n",
       "вокзал                      0.231254   0.236266   0.164089  0.166944  0.141084  \n",
       "амортизировать              0.184234   0.111202   0.083990  0.231893  0.200559  \n",
       "прямоугольный               0.207913   0.087781   0.147128  0.088803  0.213705  \n",
       "перемещать                  0.266490   0.169193   0.262583  0.246804  0.240283  \n",
       "колесо                      0.292018   0.128936   0.151041  0.165383  0.166776  \n",
       "остановка                   0.347307   0.184415   0.279767  0.283424  0.137653  \n",
       "челнока                     0.184811   0.124866   0.172728  0.212828  0.172234  \n",
       "отделять                    0.110357   0.108597   0.038420  0.194117  0.196730  \n",
       "прямолинейный               0.189060   0.144197   0.161185  0.143452  0.199758  \n",
       "электропривод               0.420193   0.208791   0.294089  0.286868  0.144957  \n",
       "расстояние                  0.240047   0.106728   0.167292  0.165244  0.259532  \n",
       "мегаполис                   0.249879   0.303107   0.145345  0.242094  0.152858  \n",
       "сваривать                   0.150658   0.152845   0.111672  0.145541  0.087466  \n",
       "сверхскоростной             0.177174   0.208921   0.165570  0.261536  0.145561  \n",
       "поездов                     0.344866   0.249496   0.171815  0.256362  0.152258  \n",
       "лента                       0.172059   0.153635   0.158229  0.217477  0.217763  \n",
       "...                              ...        ...        ...       ...       ...  \n",
       "несгорать                   0.243042   0.167122   0.079306  0.267021  0.168602  \n",
       "передвигаться               0.298534   0.197186   0.236865  0.250444  0.196607  \n",
       "пассажиро                   0.417203   0.253037   0.207170  0.213348  0.100275  \n",
       "челноков                    0.180328   0.145969   0.159356  0.293465  0.118821  \n",
       "перрона                     0.165796   0.143267   0.169856  0.183855  0.161926  \n",
       "подушка                     0.162657   0.122951   0.130925  0.200274  0.166262  \n",
       "поезда                      0.296633   0.164942   0.173063  0.223882  0.108197  \n",
       "перевозка                   0.353305   0.372165   0.143525  0.329223  0.095449  \n",
       "скорость                    0.286865   0.113517   0.170802  0.192511  0.085976  \n",
       "безопасный                  0.277850   0.312449   0.189705  0.385024  0.135388  \n",
       "повышенный                  0.274041   0.264361   0.060403  0.376835  0.184882  \n",
       "днище                       0.230142   0.164099   0.120137  0.220244  0.156003  \n",
       "перегородка                 0.180278   0.121191   0.148560  0.241015  0.206295  \n",
       "железнодорожный             0.268410   0.303292   0.183688  0.226099  0.165934  \n",
       "антитеррористический        0.251818   0.281027   0.196920  0.284686  0.177395  \n",
       "пассажир                    0.240054   0.173089   0.207575  0.257821  0.204677  \n",
       "звукоизоляционный           0.141998   0.168629   0.117051  0.196677  0.190168  \n",
       "вагон                       0.301779   0.165151   0.151770  0.177152  0.111419  \n",
       "бесшумный                   0.292261   0.219930   0.179992  0.319325  0.178423  \n",
       "туннель                     0.182556   0.063051   0.174164  0.210964  0.231269  \n",
       "открытый                    0.224340   0.180715   0.187776  0.259230  0.266064  \n",
       "делать                      0.248013   0.248307   0.166088  0.429388  0.295434  \n",
       "дверь                       0.215413   0.202519   0.178154  0.221906  0.174608  \n",
       "обслуживание                0.371491   0.234108   0.292713  0.302788  0.137130  \n",
       "вибро                       0.214273   0.152687   0.217428  0.263437  0.217211  \n",
       "уровень                     0.221472   0.139392   0.204635  0.256873  0.278553  \n",
       "безопасность                0.255817   0.203936   0.244078  0.372194  0.178673  \n",
       "отличать                    0.163977   0.238709   0.061824  0.169044  0.160680  \n",
       "поезд                       0.285521   0.172899   0.245802  0.201095  0.105612  \n",
       "рельс                       0.238406   0.140099   0.161399  0.203983  0.123886  \n",
       "\n",
       "[69 rows x 15 columns]"
      ]
     },
     "execution_count": 148,
     "metadata": {},
     "output_type": "execute_result"
    }
   ],
   "source": [
    "qsmat"
   ]
  },
  {
   "cell_type": "code",
   "execution_count": 126,
   "metadata": {
    "ExecuteTime": {
     "end_time": "2017-08-01T19:39:02.412260Z",
     "start_time": "2017-08-01T19:39:02.402505Z"
    }
   },
   "outputs": [
    {
     "data": {
      "text/plain": [
       "'корень'"
      ]
     },
     "execution_count": 126,
     "metadata": {},
     "output_type": "execute_result"
    }
   ],
   "source": [
    "qsmat['кулинарный'].argmax()"
   ]
  },
  {
   "cell_type": "code",
   "execution_count": 149,
   "metadata": {
    "ExecuteTime": {
     "end_time": "2017-08-02T03:24:24.932297Z",
     "start_time": "2017-08-02T03:24:24.925759Z"
    },
    "scrolled": true
   },
   "outputs": [
    {
     "data": {
      "text/plain": [
       "область           1.000000\n",
       "борьба            0.498945\n",
       "возникнуть        0.478772\n",
       "неожиданный       0.456684\n",
       "экономия          0.442393\n",
       "показаться        0.429655\n",
       "проблема          0.429388\n",
       "электроэнергия    0.420193\n",
       "климат            0.419827\n",
       "весомый           0.409968\n",
       "хозяйство         0.372165\n",
       "потепление        0.367603\n",
       "глобальный        0.332023\n",
       "программа         0.319816\n",
       "кулинарный        0.296931\n",
       "dtype: float32"
      ]
     },
     "execution_count": 149,
     "metadata": {},
     "output_type": "execute_result"
    }
   ],
   "source": [
    "maxs = np.amax(qsmat, axis=0)\n",
    "maxs.sort_values(ascending=False)\n",
    "# np.dot(maxs, tfidf_weights)"
   ]
  },
  {
   "cell_type": "code",
   "execution_count": 62,
   "metadata": {
    "ExecuteTime": {
     "end_time": "2017-08-01T16:41:25.956522Z",
     "start_time": "2017-08-01T16:41:25.787396Z"
    },
    "scrolled": false
   },
   "outputs": [
    {
     "data": {
      "image/png": "[encoded data removed]",
      "text/plain": [
       "<matplotlib.figure.Figure at 0x7fa3dd76ae10>"
      ]
     },
     "metadata": {},
     "output_type": "display_data"
    },
    {
     "name": "stdout",
     "output_type": "stream",
     "text": [
      "count    15.000000\n",
      "mean      0.340660\n",
      "std       0.088724\n",
      "min       0.192080\n",
      "25%       0.266790\n",
      "50%       0.336685\n",
      "75%       0.396482\n",
      "max       0.517019\n",
      "dtype: float64\n"
     ]
    }
   ],
   "source": [
    "maxs.hist()\n",
    "plt.show()\n",
    "print(maxs.describe())"
   ]
  },
  {
   "cell_type": "markdown",
   "metadata": {},
   "source": [
    "**Чем больше документ, тем больше вероятность что в нем найдутся близкие слова к запросу**\n",
    "\n",
    "Как с этим бороться:\n",
    "\n",
    "* взять первых несколько (top 3) предложений в запросе и документе, взять, так сказать, суть\n",
    "* привести все документы к одинаковому количеству слов. Можно взять топ 15 слов по tfidf из запроса и документа.\n",
    "* взять первые 4 предложение и самое первое (название, обычно дублируется), выкинуть\n",
    "* редкие слова (неучтенные стоп слова), которые не имеют особого значения, могут иметь большой вес tfidf, что обманывает алгоритм. Надо либо убрать как можно больше стоп слов, либо при подсчете расстояния м/у документами не учитывать tfidf вообще\n",
    "* чтобы исключить стоп слова или другой мусор, можно взять параметр tfidf модели - процент встречи > 50% то считаем шумом\n",
    "* поиграть с параметрами - для запроса первые 3 предложения, для документа - 3,4,5"
   ]
  },
  {
   "cell_type": "markdown",
   "metadata": {},
   "source": [
    "\n",
    "# First_n"
   ]
  },
  {
   "cell_type": "code",
   "execution_count": 11,
   "metadata": {
    "ExecuteTime": {
     "end_time": "2017-08-01T15:54:04.451974Z",
     "start_time": "2017-08-01T15:54:04.426739Z"
    },
    "collapsed": true
   },
   "outputs": [],
   "source": [
    "fn = join(DATA_FOLDER, 'first3_val.json.gz')\n",
    "\n",
    "with GzipFile(fn, 'r') as myzip:\n",
    "    text = myzip.read()\n",
    "val_documents = json.loads(text)\n",
    "del text"
   ]
  },
  {
   "cell_type": "code",
   "execution_count": 12,
   "metadata": {
    "ExecuteTime": {
     "end_time": "2017-08-01T15:54:04.566725Z",
     "start_time": "2017-08-01T15:54:04.453537Z"
    },
    "scrolled": true
   },
   "outputs": [
    {
     "name": "stderr",
     "output_type": "stream",
     "text": [
      "130it [00:00, 1588.17it/s]\n"
     ]
    }
   ],
   "source": [
    "tweights = {}\n",
    "for fname, doc in tqdm(zip(val_docs, val_documents)):\n",
    "    tokenized_filtered = [w for w in doc if w in wv]\n",
    "    doc_bow = dictionary.doc2bow(tokenized_filtered)\n",
    "    sorted_tfidf = sorted(tfidf[doc_bow], key=itemgetter(1), reverse=True)\n",
    "    sorted_tfidf = pd.DataFrame([(dictionary[k],v) for k,v in sorted_tfidf],\n",
    "                               columns=['word', 'score'])\n",
    "\n",
    "    name = path.splitext(basename(fname))[0]\n",
    "    tweights[name] = sorted_tfidf\n",
    "\n",
    "val_words = set(pd.concat([v.word for v in tweights.values()]))"
   ]
  },
  {
   "cell_type": "code",
   "execution_count": 13,
   "metadata": {
    "ExecuteTime": {
     "end_time": "2017-08-01T15:55:04.893022Z",
     "start_time": "2017-08-01T15:54:04.568711Z"
    },
    "collapsed": true
   },
   "outputs": [],
   "source": [
    "fn = join(DATA_FOLDER, 'first3.json.gz')\n",
    "\n",
    "with GzipFile(fn, 'r') as myzip:\n",
    "    text = myzip.read()\n",
    "docs = json.loads(text)\n",
    "del text"
   ]
  },
  {
   "cell_type": "code",
   "execution_count": 14,
   "metadata": {
    "ExecuteTime": {
     "end_time": "2017-08-01T15:55:19.706691Z",
     "start_time": "2017-08-01T15:55:04.967514Z"
    },
    "scrolled": true
   },
   "outputs": [
    {
     "name": "stderr",
     "output_type": "stream",
     "text": [
      "100%|██████████| 2/2 [00:14<00:00,  9.13s/it]\n"
     ]
    }
   ],
   "source": [
    "doc_dists = []\n",
    "\n",
    "split_on = len(docs)//(cpu_count*100)\n",
    "for i,sub_docs in enumerate(tqdm(np.array_split(docs, split_on))):\n",
    "    ! echo {i} >> ../data/out\n",
    "    parallelizer = Parallel(n_jobs=cpu_count)\n",
    "\n",
    "    # this iterator returns the functions to execute for each task\n",
    "    tasks_iterator = ( delayed(_calc)(docs_block) for \n",
    "                      docs_block in grouper(100, sub_docs) )  \n",
    "    result = parallelizer( tasks_iterator )        \n",
    "    doc_dists += result\n",
    "\n",
    "# doc_dists = _calc(docs)\n",
    "\n",
    "val_dists = np.array(sum(doc_dists, []))"
   ]
  },
  {
   "cell_type": "code",
   "execution_count": 47,
   "metadata": {
    "ExecuteTime": {
     "end_time": "2017-08-01T16:01:09.804519Z",
     "start_time": "2017-08-01T16:01:09.798790Z"
    }
   },
   "outputs": [
    {
     "data": {
      "text/plain": [
       "array([ 1.54428693,  1.01526538,  1.16861337,  1.18620118,  0.9272794 ,\n",
       "        1.15697594,  1.17571529,  1.03664417,  1.18212488,  1.05627956])"
      ]
     },
     "execution_count": 47,
     "metadata": {},
     "output_type": "execute_result"
    }
   ],
   "source": [
    "val_dists[:,0]"
   ]
  },
  {
   "cell_type": "code",
   "execution_count": 17,
   "metadata": {
    "ExecuteTime": {
     "end_time": "2017-08-01T15:55:45.010132Z",
     "start_time": "2017-08-01T15:55:45.006841Z"
    },
    "collapsed": true
   },
   "outputs": [],
   "source": [
    "sorted_args = val_dists.argsort(axis=0)[-20000000:][::-1]"
   ]
  },
  {
   "cell_type": "code",
   "execution_count": 21,
   "metadata": {
    "ExecuteTime": {
     "end_time": "2017-08-01T15:56:12.548544Z",
     "start_time": "2017-08-01T15:56:12.538440Z"
    }
   },
   "outputs": [
    {
     "data": {
      "text/plain": [
       "array([0, 3, 8, 6, 2, 5, 9, 7, 1, 4])"
      ]
     },
     "execution_count": 21,
     "metadata": {},
     "output_type": "execute_result"
    }
   ],
   "source": [
    "sorted_args[:,0]"
   ]
  },
  {
   "cell_type": "code",
   "execution_count": null,
   "metadata": {
    "ExecuteTime": {
     "end_time": "2017-08-01T15:53:24.302646Z",
     "start_time": "2017-08-01T15:51:25.132Z"
    },
    "collapsed": true
   },
   "outputs": [],
   "source": [
    "np.save(join(DATA_FOLDER, 'val_dists_first3.npy'), val_dists)"
   ]
  },
  {
   "cell_type": "code",
   "execution_count": 150,
   "metadata": {
    "ExecuteTime": {
     "end_time": "2017-08-02T07:06:38.912907Z",
     "start_time": "2017-08-02T07:06:38.909645Z"
    },
    "collapsed": true
   },
   "outputs": [],
   "source": [
    "sorted_args = np.load(join(DATA_FOLDER, 'sorted_args_first3_200.npy'))"
   ]
  },
  {
   "cell_type": "code",
   "execution_count": 151,
   "metadata": {
    "ExecuteTime": {
     "end_time": "2017-08-02T07:06:47.424902Z",
     "start_time": "2017-08-02T07:06:47.418964Z"
    }
   },
   "outputs": [
    {
     "data": {
      "text/plain": [
       "array([[1022450, 1022450, 1022450, ..., 1022450, 1022450, 1022450],\n",
       "       [ 842926,  756153, 1036047, ...,  696622, 1140775,  726681],\n",
       "       [ 861782,  650141,  850739, ...,  896596,  492756,  399365],\n",
       "       ..., \n",
       "       [ 886947, 1177928, 1042075, ...,  674707,  949645,  719583],\n",
       "       [ 776729, 1063726,  840002, ..., 1060504,  280419,  896097],\n",
       "       [1043274, 1159591,  854615, ...,  867012,  576818,  970921]])"
      ]
     },
     "execution_count": 151,
     "metadata": {},
     "output_type": "execute_result"
    }
   ],
   "source": [
    "sorted_args"
   ]
  },
  {
   "cell_type": "code",
   "execution_count": 152,
   "metadata": {
    "ExecuteTime": {
     "end_time": "2017-08-02T07:07:28.981633Z",
     "start_time": "2017-08-02T07:07:28.874899Z"
    },
    "collapsed": true
   },
   "outputs": [],
   "source": [
    "best = {}\n",
    "for i in range(sorted_args.shape[1]):\n",
    "    col = sorted_args[:,i]\n",
    "    name = path.splitext(basename(val_docs[i]))[0]\n",
    "    top = []\n",
    "    for j,c in enumerate(col):\n",
    "        top.append(path.splitext(basename(all_docs[c]))[0])\n",
    "    best[name] = top"
   ]
  },
  {
   "cell_type": "code",
   "execution_count": 153,
   "metadata": {
    "ExecuteTime": {
     "end_time": "2017-08-02T07:07:28.993065Z",
     "start_time": "2017-08-02T07:07:28.983051Z"
    },
    "collapsed": true
   },
   "outputs": [],
   "source": [
    "with open(join(DATA_FOLDER, 'gold.json'), 'r') as f:\n",
    "    gold = json.load(f)"
   ]
  },
  {
   "cell_type": "code",
   "execution_count": 154,
   "metadata": {
    "ExecuteTime": {
     "end_time": "2017-08-02T07:07:29.481607Z",
     "start_time": "2017-08-02T07:07:28.994221Z"
    },
    "scrolled": true
   },
   "outputs": [
    {
     "name": "stdout",
     "output_type": "stream",
     "text": [
      "median\n",
      "acc10     0.0\n",
      "acc20     0.0\n",
      "acc200    0.0\n",
      "dtype: float64\n",
      "mean\n",
      "acc10     0.124359\n",
      "acc20     0.192308\n",
      "acc200    0.379487\n",
      "dtype: float64\n"
     ]
    },
    {
     "data": {
      "image/png": "[encoded data removed]",
      "text/plain": [
       "<matplotlib.figure.Figure at 0x7fa3dcd38e10>"
      ]
     },
     "metadata": {},
     "output_type": "display_data"
    },
    {
     "data": {
      "image/png": "[encoded data removed]",
      "text/plain": [
       "<matplotlib.figure.Figure at 0x7fa3de408e80>"
      ]
     },
     "metadata": {},
     "output_type": "display_data"
    },
    {
     "data": {
      "image/png": "[encoded data removed]",
      "text/plain": [
       "<matplotlib.figure.Figure at 0x7fa3dd61da20>"
      ]
     },
     "metadata": {},
     "output_type": "display_data"
    }
   ],
   "source": [
    "res = evaluate(best, gold)"
   ]
  }
 ],
 "metadata": {
  "kernelspec": {
   "display_name": "Python 3",
   "language": "python",
   "name": "python3"
  },
  "language_info": {
   "codemirror_mode": {
    "name": "ipython",
    "version": 3
   },
   "file_extension": ".py",
   "mimetype": "text/x-python",
   "name": "python",
   "nbconvert_exporter": "python",
   "pygments_lexer": "ipython3",
   "version": "3.6.2"
  }
 },
 "nbformat": 4,
 "nbformat_minor": 2
}
