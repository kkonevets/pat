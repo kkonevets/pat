{
 "cells": [
  {
   "cell_type": "code",
   "execution_count": 9,
   "metadata": {
    "ExecuteTime": {
     "end_time": "2017-07-20T11:51:45.646427Z",
     "start_time": "2017-07-20T11:51:45.633605Z"
    }
   },
   "outputs": [],
   "source": [
    "import pandas as pd\n",
    "import numpy as np\n",
    "from common import *\n",
    "from glob import glob\n",
    "from os import rename, path\n",
    "from gensim import corpora\n",
    "from os.path import basename, splitext\n",
    "\n",
    "from matplotlib import pyplot as plt\n",
    "import logging, json\n",
    "\n",
    "from tqdm import tqdm\n",
    "\n",
    "import gensim\n",
    "from gensim import corpora, models, similarities\n",
    "\n",
    "DATA_FOLDER = '../data/'\n",
    "logging.basicConfig(format='%(asctime)s : %(levelname)s : %(message)s', level=logging.INFO)"
   ]
  },
  {
   "cell_type": "code",
   "execution_count": 4,
   "metadata": {
    "ExecuteTime": {
     "end_time": "2017-07-20T11:56:12.444357Z",
     "start_time": "2017-07-20T11:56:11.122551Z"
    },
    "collapsed": true,
    "scrolled": true
   },
   "outputs": [],
   "source": [
    "all_docs = get_all_docs(DATA_FOLDER)"
   ]
  },
  {
   "cell_type": "markdown",
   "metadata": {},
   "source": [
    "# Load corpora"
   ]
  },
  {
   "cell_type": "code",
   "execution_count": 2,
   "metadata": {
    "ExecuteTime": {
     "end_time": "2017-07-20T11:18:49.268091Z",
     "start_time": "2017-07-20T11:18:47.802383Z"
    },
    "scrolled": true
   },
   "outputs": [
    {
     "name": "stderr",
     "output_type": "stream",
     "text": [
      "2017-07-20 14:18:47,809 : INFO : loading Dictionary object from ../data/pure.dict\n",
      "2017-07-20 14:18:49,129 : INFO : loaded ../data/pure.dict\n",
      "2017-07-20 14:18:49,263 : INFO : loaded corpus index from ../data/pure_corpus.mm.index\n",
      "2017-07-20 14:18:49,264 : INFO : initializing corpus reader from ../data/pure_corpus.mm\n",
      "2017-07-20 14:18:49,264 : INFO : accepted corpus with 1194429 documents, 2316883 features, 195209119 non-zero entries\n"
     ]
    },
    {
     "name": "stdout",
     "output_type": "stream",
     "text": [
      "CPU times: user 1.36 s, sys: 104 ms, total: 1.46 s\n",
      "Wall time: 1.46 s\n"
     ]
    }
   ],
   "source": [
    "%%time\n",
    "dictionary = corpora.Dictionary.load(join(DATA_FOLDER, 'pure.dict'))\n",
    "corpus = corpora.MmCorpus(join(DATA_FOLDER, 'pure_corpus.mm'))"
   ]
  },
  {
   "cell_type": "code",
   "execution_count": 3,
   "metadata": {
    "ExecuteTime": {
     "end_time": "2017-07-20T11:18:49.272203Z",
     "start_time": "2017-07-20T11:18:49.269448Z"
    }
   },
   "outputs": [
    {
     "name": "stdout",
     "output_type": "stream",
     "text": [
      "MmCorpus(1194429 documents, 2316883 features, 195209119 non-zero entries)\n"
     ]
    }
   ],
   "source": [
    "print(corpus)"
   ]
  },
  {
   "cell_type": "code",
   "execution_count": 6,
   "metadata": {
    "ExecuteTime": {
     "end_time": "2017-07-20T11:28:40.176103Z",
     "start_time": "2017-07-20T11:19:26.913771Z"
    },
    "scrolled": true
   },
   "outputs": [
    {
     "name": "stderr",
     "output_type": "stream",
     "text": [
      "2017-07-20 14:19:26,917 : INFO : collecting document frequencies\n",
      "2017-07-20 14:19:26,920 : INFO : PROGRESS: processing document #0\n",
      "2017-07-20 14:19:34,827 : INFO : PROGRESS: processing document #10000\n",
      "2017-07-20 14:19:42,595 : INFO : PROGRESS: processing document #20000\n",
      "2017-07-20 14:19:50,343 : INFO : PROGRESS: processing document #30000\n",
      "2017-07-20 14:19:58,013 : INFO : PROGRESS: processing document #40000\n",
      "2017-07-20 14:20:05,813 : INFO : PROGRESS: processing document #50000\n",
      "2017-07-20 14:20:13,701 : INFO : PROGRESS: processing document #60000\n",
      "2017-07-20 14:20:21,618 : INFO : PROGRESS: processing document #70000\n",
      "2017-07-20 14:20:29,412 : INFO : PROGRESS: processing document #80000\n",
      "2017-07-20 14:20:37,245 : INFO : PROGRESS: processing document #90000\n",
      "2017-07-20 14:20:45,302 : INFO : PROGRESS: processing document #100000\n",
      "2017-07-20 14:20:53,256 : INFO : PROGRESS: processing document #110000\n",
      "2017-07-20 14:21:01,290 : INFO : PROGRESS: processing document #120000\n",
      "2017-07-20 14:21:10,038 : INFO : PROGRESS: processing document #130000\n",
      "2017-07-20 14:21:18,105 : INFO : PROGRESS: processing document #140000\n",
      "2017-07-20 14:21:26,422 : INFO : PROGRESS: processing document #150000\n",
      "2017-07-20 14:21:34,643 : INFO : PROGRESS: processing document #160000\n",
      "2017-07-20 14:21:42,686 : INFO : PROGRESS: processing document #170000\n",
      "2017-07-20 14:21:50,517 : INFO : PROGRESS: processing document #180000\n",
      "2017-07-20 14:21:58,473 : INFO : PROGRESS: processing document #190000\n",
      "2017-07-20 14:22:06,740 : INFO : PROGRESS: processing document #200000\n",
      "2017-07-20 14:22:14,558 : INFO : PROGRESS: processing document #210000\n",
      "2017-07-20 14:22:22,659 : INFO : PROGRESS: processing document #220000\n",
      "2017-07-20 14:22:30,907 : INFO : PROGRESS: processing document #230000\n",
      "2017-07-20 14:22:38,995 : INFO : PROGRESS: processing document #240000\n",
      "2017-07-20 14:22:47,079 : INFO : PROGRESS: processing document #250000\n",
      "2017-07-20 14:22:55,319 : INFO : PROGRESS: processing document #260000\n",
      "2017-07-20 14:23:03,449 : INFO : PROGRESS: processing document #270000\n",
      "2017-07-20 14:23:11,371 : INFO : PROGRESS: processing document #280000\n",
      "2017-07-20 14:23:19,522 : INFO : PROGRESS: processing document #290000\n",
      "2017-07-20 14:23:27,372 : INFO : PROGRESS: processing document #300000\n",
      "2017-07-20 14:23:35,410 : INFO : PROGRESS: processing document #310000\n",
      "2017-07-20 14:23:43,648 : INFO : PROGRESS: processing document #320000\n",
      "2017-07-20 14:23:51,739 : INFO : PROGRESS: processing document #330000\n",
      "2017-07-20 14:23:59,919 : INFO : PROGRESS: processing document #340000\n",
      "2017-07-20 14:24:08,090 : INFO : PROGRESS: processing document #350000\n",
      "2017-07-20 14:24:16,065 : INFO : PROGRESS: processing document #360000\n",
      "2017-07-20 14:24:24,156 : INFO : PROGRESS: processing document #370000\n",
      "2017-07-20 14:24:32,386 : INFO : PROGRESS: processing document #380000\n",
      "2017-07-20 14:24:40,446 : INFO : PROGRESS: processing document #390000\n",
      "2017-07-20 14:24:48,470 : INFO : PROGRESS: processing document #400000\n",
      "2017-07-20 14:24:56,539 : INFO : PROGRESS: processing document #410000\n",
      "2017-07-20 14:25:04,571 : INFO : PROGRESS: processing document #420000\n",
      "2017-07-20 14:25:12,633 : INFO : PROGRESS: processing document #430000\n",
      "2017-07-20 14:25:20,708 : INFO : PROGRESS: processing document #440000\n",
      "2017-07-20 14:25:28,768 : INFO : PROGRESS: processing document #450000\n",
      "2017-07-20 14:25:36,894 : INFO : PROGRESS: processing document #460000\n",
      "2017-07-20 14:25:45,200 : INFO : PROGRESS: processing document #470000\n",
      "2017-07-20 14:25:53,488 : INFO : PROGRESS: processing document #480000\n",
      "2017-07-20 14:26:01,442 : INFO : PROGRESS: processing document #490000\n",
      "2017-07-20 14:26:09,349 : INFO : PROGRESS: processing document #500000\n",
      "2017-07-20 14:26:17,308 : INFO : PROGRESS: processing document #510000\n",
      "2017-07-20 14:26:25,243 : INFO : PROGRESS: processing document #520000\n",
      "2017-07-20 14:26:33,426 : INFO : PROGRESS: processing document #530000\n",
      "2017-07-20 14:26:41,452 : INFO : PROGRESS: processing document #540000\n",
      "2017-07-20 14:26:49,464 : INFO : PROGRESS: processing document #550000\n",
      "2017-07-20 14:26:57,102 : INFO : PROGRESS: processing document #560000\n",
      "2017-07-20 14:26:58,625 : INFO : PROGRESS: processing document #570000\n",
      "2017-07-20 14:27:00,138 : INFO : PROGRESS: processing document #580000\n",
      "2017-07-20 14:27:01,689 : INFO : PROGRESS: processing document #590000\n",
      "2017-07-20 14:27:03,250 : INFO : PROGRESS: processing document #600000\n",
      "2017-07-20 14:27:04,822 : INFO : PROGRESS: processing document #610000\n",
      "2017-07-20 14:27:06,335 : INFO : PROGRESS: processing document #620000\n",
      "2017-07-20 14:27:07,852 : INFO : PROGRESS: processing document #630000\n",
      "2017-07-20 14:27:09,446 : INFO : PROGRESS: processing document #640000\n",
      "2017-07-20 14:27:10,938 : INFO : PROGRESS: processing document #650000\n",
      "2017-07-20 14:27:12,465 : INFO : PROGRESS: processing document #660000\n",
      "2017-07-20 14:27:14,008 : INFO : PROGRESS: processing document #670000\n",
      "2017-07-20 14:27:15,554 : INFO : PROGRESS: processing document #680000\n",
      "2017-07-20 14:27:17,092 : INFO : PROGRESS: processing document #690000\n",
      "2017-07-20 14:27:18,618 : INFO : PROGRESS: processing document #700000\n",
      "2017-07-20 14:27:20,172 : INFO : PROGRESS: processing document #710000\n",
      "2017-07-20 14:27:21,704 : INFO : PROGRESS: processing document #720000\n",
      "2017-07-20 14:27:23,227 : INFO : PROGRESS: processing document #730000\n",
      "2017-07-20 14:27:24,754 : INFO : PROGRESS: processing document #740000\n",
      "2017-07-20 14:27:26,265 : INFO : PROGRESS: processing document #750000\n",
      "2017-07-20 14:27:27,829 : INFO : PROGRESS: processing document #760000\n",
      "2017-07-20 14:27:29,338 : INFO : PROGRESS: processing document #770000\n",
      "2017-07-20 14:27:30,854 : INFO : PROGRESS: processing document #780000\n",
      "2017-07-20 14:27:32,423 : INFO : PROGRESS: processing document #790000\n",
      "2017-07-20 14:27:34,006 : INFO : PROGRESS: processing document #800000\n",
      "2017-07-20 14:27:35,558 : INFO : PROGRESS: processing document #810000\n",
      "2017-07-20 14:27:37,154 : INFO : PROGRESS: processing document #820000\n",
      "2017-07-20 14:27:38,794 : INFO : PROGRESS: processing document #830000\n",
      "2017-07-20 14:27:40,394 : INFO : PROGRESS: processing document #840000\n",
      "2017-07-20 14:27:42,002 : INFO : PROGRESS: processing document #850000\n",
      "2017-07-20 14:27:43,543 : INFO : PROGRESS: processing document #860000\n",
      "2017-07-20 14:27:45,080 : INFO : PROGRESS: processing document #870000\n",
      "2017-07-20 14:27:46,670 : INFO : PROGRESS: processing document #880000\n",
      "2017-07-20 14:27:48,241 : INFO : PROGRESS: processing document #890000\n",
      "2017-07-20 14:27:49,784 : INFO : PROGRESS: processing document #900000\n",
      "2017-07-20 14:27:51,300 : INFO : PROGRESS: processing document #910000\n",
      "2017-07-20 14:27:52,832 : INFO : PROGRESS: processing document #920000\n",
      "2017-07-20 14:27:54,373 : INFO : PROGRESS: processing document #930000\n",
      "2017-07-20 14:27:55,904 : INFO : PROGRESS: processing document #940000\n",
      "2017-07-20 14:27:57,471 : INFO : PROGRESS: processing document #950000\n",
      "2017-07-20 14:27:59,077 : INFO : PROGRESS: processing document #960000\n",
      "2017-07-20 14:28:00,669 : INFO : PROGRESS: processing document #970000\n",
      "2017-07-20 14:28:02,241 : INFO : PROGRESS: processing document #980000\n",
      "2017-07-20 14:28:03,778 : INFO : PROGRESS: processing document #990000\n",
      "2017-07-20 14:28:05,380 : INFO : PROGRESS: processing document #1000000\n",
      "2017-07-20 14:28:06,911 : INFO : PROGRESS: processing document #1010000\n",
      "2017-07-20 14:28:08,478 : INFO : PROGRESS: processing document #1020000\n",
      "2017-07-20 14:28:10,069 : INFO : PROGRESS: processing document #1030000\n",
      "2017-07-20 14:28:13,559 : INFO : PROGRESS: processing document #1040000\n",
      "2017-07-20 14:28:19,324 : INFO : PROGRESS: processing document #1050000\n",
      "2017-07-20 14:28:22,320 : INFO : PROGRESS: processing document #1060000\n",
      "2017-07-20 14:28:23,423 : INFO : PROGRESS: processing document #1070000\n",
      "2017-07-20 14:28:24,471 : INFO : PROGRESS: processing document #1080000\n",
      "2017-07-20 14:28:25,513 : INFO : PROGRESS: processing document #1090000\n",
      "2017-07-20 14:28:26,552 : INFO : PROGRESS: processing document #1100000\n",
      "2017-07-20 14:28:27,584 : INFO : PROGRESS: processing document #1110000\n",
      "2017-07-20 14:28:28,620 : INFO : PROGRESS: processing document #1120000\n",
      "2017-07-20 14:28:29,676 : INFO : PROGRESS: processing document #1130000\n",
      "2017-07-20 14:28:30,707 : INFO : PROGRESS: processing document #1140000\n"
     ]
    },
    {
     "name": "stderr",
     "output_type": "stream",
     "text": [
      "2017-07-20 14:28:31,789 : INFO : PROGRESS: processing document #1150000\n",
      "2017-07-20 14:28:32,913 : INFO : PROGRESS: processing document #1160000\n",
      "2017-07-20 14:28:34,000 : INFO : PROGRESS: processing document #1170000\n",
      "2017-07-20 14:28:35,075 : INFO : PROGRESS: processing document #1180000\n",
      "2017-07-20 14:28:36,166 : INFO : PROGRESS: processing document #1190000\n",
      "2017-07-20 14:28:38,523 : INFO : calculating IDF weights for 1194429 documents and 2316882 features (195209119 matrix non-zeros)\n",
      "2017-07-20 14:28:39,834 : INFO : saving TfidfModel object under ../data/tfidf_pure.model, separately None\n",
      "2017-07-20 14:28:40,169 : INFO : saved ../data/tfidf_pure.model\n"
     ]
    },
    {
     "name": "stdout",
     "output_type": "stream",
     "text": [
      "CPU times: user 9min 25s, sys: 3.7 s, total: 9min 29s\n",
      "Wall time: 9min 13s\n"
     ]
    }
   ],
   "source": [
    "%%time\n",
    "fmodel = join(DATA_FOLDER, 'tfidf_pure.model')\n",
    "if not path.exists(fmodel):    \n",
    "    tfidf = models.TfidfModel(corpus)\n",
    "    tfidf.save(fmodel)\n",
    "else:\n",
    "    tfidf = models.TfidfModel.load(fmodel)"
   ]
  },
  {
   "cell_type": "code",
   "execution_count": 58,
   "metadata": {
    "collapsed": true
   },
   "outputs": [],
   "source": [
    "# %%time\n",
    "# index = similarities.SparseMatrixSimilarity(tfidf[corpus], num_features=len(dictionary), num_best=200)"
   ]
  },
  {
   "cell_type": "code",
   "execution_count": 7,
   "metadata": {
    "ExecuteTime": {
     "end_time": "2017-07-20T11:51:32.245766Z",
     "start_time": "2017-07-20T11:28:42.695252Z"
    },
    "scrolled": true
   },
   "outputs": [
    {
     "name": "stderr",
     "output_type": "stream",
     "text": [
      "2017-07-20 14:28:42,703 : INFO : starting similarity index under ../data/sim_index/sim\n",
      "2017-07-20 14:28:55,930 : INFO : PROGRESS: fresh_shard size=10000\n",
      "2017-07-20 14:29:08,947 : INFO : PROGRESS: fresh_shard size=20000\n",
      "2017-07-20 14:29:21,976 : INFO : PROGRESS: fresh_shard size=30000\n",
      "2017-07-20 14:29:34,791 : INFO : PROGRESS: fresh_shard size=40000\n",
      "2017-07-20 14:29:47,705 : INFO : PROGRESS: fresh_shard size=50000\n",
      "2017-07-20 14:30:00,812 : INFO : PROGRESS: fresh_shard size=60000\n",
      "2017-07-20 14:30:13,828 : INFO : PROGRESS: fresh_shard size=70000\n",
      "2017-07-20 14:30:26,862 : INFO : PROGRESS: fresh_shard size=80000\n",
      "2017-07-20 14:30:39,823 : INFO : PROGRESS: fresh_shard size=90000\n",
      "2017-07-20 14:30:53,080 : INFO : PROGRESS: fresh_shard size=100000\n",
      "2017-07-20 14:31:06,133 : INFO : PROGRESS: fresh_shard size=110000\n",
      "2017-07-20 14:31:19,179 : INFO : PROGRESS: fresh_shard size=120000\n",
      "2017-07-20 14:31:32,128 : INFO : PROGRESS: fresh_shard size=130000\n",
      "2017-07-20 14:31:45,258 : INFO : PROGRESS: fresh_shard size=140000\n",
      "2017-07-20 14:31:58,119 : INFO : PROGRESS: fresh_shard size=150000\n",
      "2017-07-20 14:32:11,062 : INFO : PROGRESS: fresh_shard size=160000\n",
      "2017-07-20 14:32:24,219 : INFO : PROGRESS: fresh_shard size=170000\n",
      "2017-07-20 14:32:37,254 : INFO : PROGRESS: fresh_shard size=180000\n",
      "2017-07-20 14:32:50,369 : INFO : PROGRESS: fresh_shard size=190000\n",
      "2017-07-20 14:33:03,473 : INFO : PROGRESS: fresh_shard size=200000\n",
      "2017-07-20 14:33:17,381 : INFO : PROGRESS: fresh_shard size=210000\n",
      "2017-07-20 14:33:31,723 : INFO : PROGRESS: fresh_shard size=220000\n",
      "2017-07-20 14:33:45,728 : INFO : PROGRESS: fresh_shard size=230000\n",
      "2017-07-20 14:33:58,934 : INFO : PROGRESS: fresh_shard size=240000\n",
      "2017-07-20 14:34:12,334 : INFO : PROGRESS: fresh_shard size=250000\n",
      "2017-07-20 14:34:25,759 : INFO : PROGRESS: fresh_shard size=260000\n",
      "2017-07-20 14:34:39,159 : INFO : PROGRESS: fresh_shard size=270000\n",
      "2017-07-20 14:34:52,441 : INFO : PROGRESS: fresh_shard size=280000\n",
      "2017-07-20 14:35:05,896 : INFO : PROGRESS: fresh_shard size=290000\n",
      "2017-07-20 14:35:19,069 : INFO : PROGRESS: fresh_shard size=300000\n",
      "2017-07-20 14:35:32,242 : INFO : PROGRESS: fresh_shard size=310000\n",
      "2017-07-20 14:35:45,471 : INFO : PROGRESS: fresh_shard size=320000\n",
      "2017-07-20 14:35:55,786 : INFO : creating sparse index\n",
      "2017-07-20 14:35:55,787 : INFO : creating sparse matrix from corpus\n",
      "2017-07-20 14:35:55,789 : INFO : PROGRESS: at document #0/327680\n",
      "2017-07-20 14:36:00,321 : INFO : PROGRESS: at document #10000/327680\n",
      "2017-07-20 14:36:04,751 : INFO : PROGRESS: at document #20000/327680\n",
      "2017-07-20 14:36:09,319 : INFO : PROGRESS: at document #30000/327680\n",
      "2017-07-20 14:36:14,102 : INFO : PROGRESS: at document #40000/327680\n",
      "2017-07-20 14:36:18,714 : INFO : PROGRESS: at document #50000/327680\n",
      "2017-07-20 14:36:23,271 : INFO : PROGRESS: at document #60000/327680\n",
      "2017-07-20 14:36:27,974 : INFO : PROGRESS: at document #70000/327680\n",
      "2017-07-20 14:36:32,526 : INFO : PROGRESS: at document #80000/327680\n",
      "2017-07-20 14:36:37,016 : INFO : PROGRESS: at document #90000/327680\n",
      "2017-07-20 14:36:41,559 : INFO : PROGRESS: at document #100000/327680\n",
      "2017-07-20 14:36:45,884 : INFO : PROGRESS: at document #110000/327680\n",
      "2017-07-20 14:36:50,310 : INFO : PROGRESS: at document #120000/327680\n",
      "2017-07-20 14:36:54,555 : INFO : PROGRESS: at document #130000/327680\n",
      "2017-07-20 14:36:58,877 : INFO : PROGRESS: at document #140000/327680\n",
      "2017-07-20 14:37:03,176 : INFO : PROGRESS: at document #150000/327680\n",
      "2017-07-20 14:37:07,492 : INFO : PROGRESS: at document #160000/327680\n",
      "2017-07-20 14:37:12,056 : INFO : PROGRESS: at document #170000/327680\n",
      "2017-07-20 14:37:16,536 : INFO : PROGRESS: at document #180000/327680\n",
      "2017-07-20 14:37:21,057 : INFO : PROGRESS: at document #190000/327680\n",
      "2017-07-20 14:37:25,468 : INFO : PROGRESS: at document #200000/327680\n",
      "2017-07-20 14:37:29,830 : INFO : PROGRESS: at document #210000/327680\n",
      "2017-07-20 14:37:34,344 : INFO : PROGRESS: at document #220000/327680\n",
      "2017-07-20 14:37:38,748 : INFO : PROGRESS: at document #230000/327680\n",
      "2017-07-20 14:37:43,149 : INFO : PROGRESS: at document #240000/327680\n",
      "2017-07-20 14:37:47,522 : INFO : PROGRESS: at document #250000/327680\n",
      "2017-07-20 14:37:52,005 : INFO : PROGRESS: at document #260000/327680\n",
      "2017-07-20 14:37:56,384 : INFO : PROGRESS: at document #270000/327680\n",
      "2017-07-20 14:38:00,771 : INFO : PROGRESS: at document #280000/327680\n",
      "2017-07-20 14:38:05,290 : INFO : PROGRESS: at document #290000/327680\n",
      "2017-07-20 14:38:09,853 : INFO : PROGRESS: at document #300000/327680\n",
      "2017-07-20 14:38:14,397 : INFO : PROGRESS: at document #310000/327680\n",
      "2017-07-20 14:38:18,862 : INFO : PROGRESS: at document #320000/327680\n",
      "2017-07-20 14:38:22,420 : INFO : created <327680x2316883 sparse matrix of type '<class 'numpy.float32'>'\n",
      "\twith 93741935 stored elements in Compressed Sparse Row format>\n",
      "2017-07-20 14:38:22,421 : INFO : creating sparse shard #0\n",
      "2017-07-20 14:38:22,422 : INFO : saving index shard to ../data/sim_index/sim.0\n",
      "2017-07-20 14:38:22,423 : INFO : saving SparseMatrixSimilarity object under ../data/sim_index/sim.0, separately None\n",
      "2017-07-20 14:38:22,423 : INFO : storing scipy.sparse array 'index' under ../data/sim_index/sim.0.index.npy\n",
      "2017-07-20 14:38:22,786 : INFO : saved ../data/sim_index/sim.0\n",
      "2017-07-20 14:38:22,787 : INFO : loading SparseMatrixSimilarity object from ../data/sim_index/sim.0\n",
      "2017-07-20 14:38:22,787 : INFO : loading index from ../data/sim_index/sim.0.index.npy with mmap=r\n",
      "2017-07-20 14:38:22,793 : INFO : loaded ../data/sim_index/sim.0\n",
      "2017-07-20 14:38:23,230 : INFO : PROGRESS: fresh_shard size=0\n",
      "2017-07-20 14:38:36,813 : INFO : PROGRESS: fresh_shard size=10000\n",
      "2017-07-20 14:38:50,490 : INFO : PROGRESS: fresh_shard size=20000\n",
      "2017-07-20 14:39:04,021 : INFO : PROGRESS: fresh_shard size=30000\n",
      "2017-07-20 14:39:17,444 : INFO : PROGRESS: fresh_shard size=40000\n",
      "2017-07-20 14:39:31,017 : INFO : PROGRESS: fresh_shard size=50000\n",
      "2017-07-20 14:39:44,566 : INFO : PROGRESS: fresh_shard size=60000\n",
      "2017-07-20 14:39:57,904 : INFO : PROGRESS: fresh_shard size=70000\n",
      "2017-07-20 14:40:11,478 : INFO : PROGRESS: fresh_shard size=80000\n",
      "2017-07-20 14:40:25,235 : INFO : PROGRESS: fresh_shard size=90000\n",
      "2017-07-20 14:40:38,770 : INFO : PROGRESS: fresh_shard size=100000\n",
      "2017-07-20 14:40:52,217 : INFO : PROGRESS: fresh_shard size=110000\n",
      "2017-07-20 14:41:05,543 : INFO : PROGRESS: fresh_shard size=120000\n",
      "2017-07-20 14:41:18,767 : INFO : PROGRESS: fresh_shard size=130000\n",
      "2017-07-20 14:41:31,983 : INFO : PROGRESS: fresh_shard size=140000\n",
      "2017-07-20 14:41:45,518 : INFO : PROGRESS: fresh_shard size=150000\n",
      "2017-07-20 14:41:58,858 : INFO : PROGRESS: fresh_shard size=160000\n",
      "2017-07-20 14:42:12,211 : INFO : PROGRESS: fresh_shard size=170000\n",
      "2017-07-20 14:42:25,363 : INFO : PROGRESS: fresh_shard size=180000\n",
      "2017-07-20 14:42:38,759 : INFO : PROGRESS: fresh_shard size=190000\n",
      "2017-07-20 14:42:52,611 : INFO : PROGRESS: fresh_shard size=200000\n",
      "2017-07-20 14:43:07,110 : INFO : PROGRESS: fresh_shard size=210000\n",
      "2017-07-20 14:43:21,457 : INFO : PROGRESS: fresh_shard size=220000\n",
      "2017-07-20 14:43:35,457 : INFO : PROGRESS: fresh_shard size=230000\n",
      "2017-07-20 14:43:42,416 : INFO : PROGRESS: fresh_shard size=240000\n",
      "2017-07-20 14:43:47,787 : INFO : PROGRESS: fresh_shard size=250000\n",
      "2017-07-20 14:43:52,969 : INFO : PROGRESS: fresh_shard size=260000\n",
      "2017-07-20 14:43:57,860 : INFO : PROGRESS: fresh_shard size=270000\n",
      "2017-07-20 14:44:02,893 : INFO : PROGRESS: fresh_shard size=280000\n",
      "2017-07-20 14:44:07,902 : INFO : PROGRESS: fresh_shard size=290000\n",
      "2017-07-20 14:44:12,974 : INFO : PROGRESS: fresh_shard size=300000\n",
      "2017-07-20 14:44:18,015 : INFO : PROGRESS: fresh_shard size=310000\n",
      "2017-07-20 14:44:22,996 : INFO : PROGRESS: fresh_shard size=320000\n",
      "2017-07-20 14:44:26,689 : INFO : creating sparse index\n",
      "2017-07-20 14:44:26,689 : INFO : creating sparse matrix from corpus\n",
      "2017-07-20 14:44:26,690 : INFO : PROGRESS: at document #0/327680\n",
      "2017-07-20 14:44:30,990 : INFO : PROGRESS: at document #10000/327680\n",
      "2017-07-20 14:44:35,274 : INFO : PROGRESS: at document #20000/327680\n",
      "2017-07-20 14:44:39,577 : INFO : PROGRESS: at document #30000/327680\n",
      "2017-07-20 14:44:43,901 : INFO : PROGRESS: at document #40000/327680\n",
      "2017-07-20 14:44:48,217 : INFO : PROGRESS: at document #50000/327680\n"
     ]
    },
    {
     "name": "stderr",
     "output_type": "stream",
     "text": [
      "2017-07-20 14:44:52,623 : INFO : PROGRESS: at document #60000/327680\n",
      "2017-07-20 14:44:57,082 : INFO : PROGRESS: at document #70000/327680\n",
      "2017-07-20 14:45:01,603 : INFO : PROGRESS: at document #80000/327680\n",
      "2017-07-20 14:45:05,884 : INFO : PROGRESS: at document #90000/327680\n",
      "2017-07-20 14:45:10,266 : INFO : PROGRESS: at document #100000/327680\n",
      "2017-07-20 14:45:14,653 : INFO : PROGRESS: at document #110000/327680\n",
      "2017-07-20 14:45:19,192 : INFO : PROGRESS: at document #120000/327680\n",
      "2017-07-20 14:45:23,571 : INFO : PROGRESS: at document #130000/327680\n",
      "2017-07-20 14:45:27,985 : INFO : PROGRESS: at document #140000/327680\n",
      "2017-07-20 14:45:32,441 : INFO : PROGRESS: at document #150000/327680\n",
      "2017-07-20 14:45:36,691 : INFO : PROGRESS: at document #160000/327680\n",
      "2017-07-20 14:45:41,008 : INFO : PROGRESS: at document #170000/327680\n",
      "2017-07-20 14:45:45,181 : INFO : PROGRESS: at document #180000/327680\n",
      "2017-07-20 14:45:49,372 : INFO : PROGRESS: at document #190000/327680\n",
      "2017-07-20 14:45:53,750 : INFO : PROGRESS: at document #200000/327680\n",
      "2017-07-20 14:45:57,998 : INFO : PROGRESS: at document #210000/327680\n",
      "2017-07-20 14:46:02,302 : INFO : PROGRESS: at document #220000/327680\n",
      "2017-07-20 14:46:06,535 : INFO : PROGRESS: at document #230000/327680\n",
      "2017-07-20 14:46:08,009 : INFO : PROGRESS: at document #240000/327680\n",
      "2017-07-20 14:46:08,875 : INFO : PROGRESS: at document #250000/327680\n",
      "2017-07-20 14:46:09,749 : INFO : PROGRESS: at document #260000/327680\n",
      "2017-07-20 14:46:10,608 : INFO : PROGRESS: at document #270000/327680\n",
      "2017-07-20 14:46:11,472 : INFO : PROGRESS: at document #280000/327680\n",
      "2017-07-20 14:46:12,329 : INFO : PROGRESS: at document #290000/327680\n",
      "2017-07-20 14:46:13,228 : INFO : PROGRESS: at document #300000/327680\n",
      "2017-07-20 14:46:14,139 : INFO : PROGRESS: at document #310000/327680\n",
      "2017-07-20 14:46:15,042 : INFO : PROGRESS: at document #320000/327680\n",
      "2017-07-20 14:46:15,786 : INFO : created <327680x2316883 sparse matrix of type '<class 'numpy.float32'>'\n",
      "\twith 71653969 stored elements in Compressed Sparse Row format>\n",
      "2017-07-20 14:46:15,787 : INFO : creating sparse shard #1\n",
      "2017-07-20 14:46:15,788 : INFO : saving index shard to ../data/sim_index/sim.1\n",
      "2017-07-20 14:46:15,788 : INFO : saving SparseMatrixSimilarity object under ../data/sim_index/sim.1, separately None\n",
      "2017-07-20 14:46:15,789 : INFO : storing scipy.sparse array 'index' under ../data/sim_index/sim.1.index.npy\n",
      "2017-07-20 14:46:16,065 : INFO : saved ../data/sim_index/sim.1\n",
      "2017-07-20 14:46:16,066 : INFO : loading SparseMatrixSimilarity object from ../data/sim_index/sim.1\n",
      "2017-07-20 14:46:16,067 : INFO : loading index from ../data/sim_index/sim.1.index.npy with mmap=r\n",
      "2017-07-20 14:46:16,069 : INFO : loaded ../data/sim_index/sim.1\n",
      "2017-07-20 14:46:16,526 : INFO : PROGRESS: fresh_shard size=0\n",
      "2017-07-20 14:46:21,321 : INFO : PROGRESS: fresh_shard size=10000\n",
      "2017-07-20 14:46:26,084 : INFO : PROGRESS: fresh_shard size=20000\n",
      "2017-07-20 14:46:30,963 : INFO : PROGRESS: fresh_shard size=30000\n",
      "2017-07-20 14:46:35,857 : INFO : PROGRESS: fresh_shard size=40000\n",
      "2017-07-20 14:46:40,987 : INFO : PROGRESS: fresh_shard size=50000\n",
      "2017-07-20 14:46:45,826 : INFO : PROGRESS: fresh_shard size=60000\n",
      "2017-07-20 14:46:50,642 : INFO : PROGRESS: fresh_shard size=70000\n",
      "2017-07-20 14:46:55,430 : INFO : PROGRESS: fresh_shard size=80000\n",
      "2017-07-20 14:47:00,299 : INFO : PROGRESS: fresh_shard size=90000\n",
      "2017-07-20 14:47:05,067 : INFO : PROGRESS: fresh_shard size=100000\n",
      "2017-07-20 14:47:09,909 : INFO : PROGRESS: fresh_shard size=110000\n",
      "2017-07-20 14:47:14,713 : INFO : PROGRESS: fresh_shard size=120000\n",
      "2017-07-20 14:47:19,641 : INFO : PROGRESS: fresh_shard size=130000\n",
      "2017-07-20 14:47:24,408 : INFO : PROGRESS: fresh_shard size=140000\n",
      "2017-07-20 14:47:29,219 : INFO : PROGRESS: fresh_shard size=150000\n",
      "2017-07-20 14:47:34,034 : INFO : PROGRESS: fresh_shard size=160000\n",
      "2017-07-20 14:47:38,933 : INFO : PROGRESS: fresh_shard size=170000\n",
      "2017-07-20 14:47:43,840 : INFO : PROGRESS: fresh_shard size=180000\n",
      "2017-07-20 14:47:48,621 : INFO : PROGRESS: fresh_shard size=190000\n",
      "2017-07-20 14:47:53,472 : INFO : PROGRESS: fresh_shard size=200000\n",
      "2017-07-20 14:47:58,220 : INFO : PROGRESS: fresh_shard size=210000\n",
      "2017-07-20 14:48:03,009 : INFO : PROGRESS: fresh_shard size=220000\n",
      "2017-07-20 14:48:07,843 : INFO : PROGRESS: fresh_shard size=230000\n",
      "2017-07-20 14:48:12,608 : INFO : PROGRESS: fresh_shard size=240000\n",
      "2017-07-20 14:48:17,506 : INFO : PROGRESS: fresh_shard size=250000\n",
      "2017-07-20 14:48:22,495 : INFO : PROGRESS: fresh_shard size=260000\n",
      "2017-07-20 14:48:27,416 : INFO : PROGRESS: fresh_shard size=270000\n",
      "2017-07-20 14:48:32,238 : INFO : PROGRESS: fresh_shard size=280000\n",
      "2017-07-20 14:48:37,225 : INFO : PROGRESS: fresh_shard size=290000\n",
      "2017-07-20 14:48:42,031 : INFO : PROGRESS: fresh_shard size=300000\n",
      "2017-07-20 14:48:46,908 : INFO : PROGRESS: fresh_shard size=310000\n",
      "2017-07-20 14:48:51,806 : INFO : PROGRESS: fresh_shard size=320000\n",
      "2017-07-20 14:48:55,520 : INFO : creating sparse index\n",
      "2017-07-20 14:48:55,521 : INFO : creating sparse matrix from corpus\n",
      "2017-07-20 14:48:55,522 : INFO : PROGRESS: at document #0/327680\n",
      "2017-07-20 14:48:56,414 : INFO : PROGRESS: at document #10000/327680\n",
      "2017-07-20 14:48:57,296 : INFO : PROGRESS: at document #20000/327680\n",
      "2017-07-20 14:48:58,190 : INFO : PROGRESS: at document #30000/327680\n",
      "2017-07-20 14:48:59,070 : INFO : PROGRESS: at document #40000/327680\n",
      "2017-07-20 14:48:59,994 : INFO : PROGRESS: at document #50000/327680\n",
      "2017-07-20 14:49:00,903 : INFO : PROGRESS: at document #60000/327680\n",
      "2017-07-20 14:49:01,815 : INFO : PROGRESS: at document #70000/327680\n",
      "2017-07-20 14:49:02,728 : INFO : PROGRESS: at document #80000/327680\n",
      "2017-07-20 14:49:03,629 : INFO : PROGRESS: at document #90000/327680\n",
      "2017-07-20 14:49:04,539 : INFO : PROGRESS: at document #100000/327680\n",
      "2017-07-20 14:49:05,453 : INFO : PROGRESS: at document #110000/327680\n",
      "2017-07-20 14:49:06,348 : INFO : PROGRESS: at document #120000/327680\n",
      "2017-07-20 14:49:07,271 : INFO : PROGRESS: at document #130000/327680\n",
      "2017-07-20 14:49:08,162 : INFO : PROGRESS: at document #140000/327680\n",
      "2017-07-20 14:49:09,079 : INFO : PROGRESS: at document #150000/327680\n",
      "2017-07-20 14:49:10,005 : INFO : PROGRESS: at document #160000/327680\n",
      "2017-07-20 14:49:10,921 : INFO : PROGRESS: at document #170000/327680\n",
      "2017-07-20 14:49:11,809 : INFO : PROGRESS: at document #180000/327680\n",
      "2017-07-20 14:49:12,726 : INFO : PROGRESS: at document #190000/327680\n",
      "2017-07-20 14:49:13,621 : INFO : PROGRESS: at document #200000/327680\n",
      "2017-07-20 14:49:14,532 : INFO : PROGRESS: at document #210000/327680\n",
      "2017-07-20 14:49:15,414 : INFO : PROGRESS: at document #220000/327680\n",
      "2017-07-20 14:49:16,303 : INFO : PROGRESS: at document #230000/327680\n",
      "2017-07-20 14:49:17,209 : INFO : PROGRESS: at document #240000/327680\n",
      "2017-07-20 14:49:18,114 : INFO : PROGRESS: at document #250000/327680\n",
      "2017-07-20 14:49:19,018 : INFO : PROGRESS: at document #260000/327680\n",
      "2017-07-20 14:49:19,887 : INFO : PROGRESS: at document #270000/327680\n",
      "2017-07-20 14:49:20,775 : INFO : PROGRESS: at document #280000/327680\n",
      "2017-07-20 14:49:21,677 : INFO : PROGRESS: at document #290000/327680\n",
      "2017-07-20 14:49:22,592 : INFO : PROGRESS: at document #300000/327680\n",
      "2017-07-20 14:49:23,494 : INFO : PROGRESS: at document #310000/327680\n",
      "2017-07-20 14:49:24,402 : INFO : PROGRESS: at document #320000/327680\n",
      "2017-07-20 14:49:25,142 : INFO : created <327680x2316883 sparse matrix of type '<class 'numpy.float32'>'\n",
      "\twith 17610891 stored elements in Compressed Sparse Row format>\n",
      "2017-07-20 14:49:25,143 : INFO : creating sparse shard #2\n",
      "2017-07-20 14:49:25,143 : INFO : saving index shard to ../data/sim_index/sim.2\n",
      "2017-07-20 14:49:25,144 : INFO : saving SparseMatrixSimilarity object under ../data/sim_index/sim.2, separately None\n",
      "2017-07-20 14:49:25,145 : INFO : storing scipy.sparse array 'index' under ../data/sim_index/sim.2.index.npy\n",
      "2017-07-20 14:49:25,214 : INFO : saved ../data/sim_index/sim.2\n",
      "2017-07-20 14:49:25,215 : INFO : loading SparseMatrixSimilarity object from ../data/sim_index/sim.2\n",
      "2017-07-20 14:49:25,216 : INFO : loading index from ../data/sim_index/sim.2.index.npy with mmap=r\n",
      "2017-07-20 14:49:25,218 : INFO : loaded ../data/sim_index/sim.2\n"
     ]
    },
    {
     "name": "stderr",
     "output_type": "stream",
     "text": [
      "2017-07-20 14:49:25,616 : INFO : PROGRESS: fresh_shard size=0\n",
      "2017-07-20 14:49:30,659 : INFO : PROGRESS: fresh_shard size=10000\n",
      "2017-07-20 14:49:35,498 : INFO : PROGRESS: fresh_shard size=20000\n",
      "2017-07-20 14:49:40,379 : INFO : PROGRESS: fresh_shard size=30000\n",
      "2017-07-20 14:49:45,159 : INFO : PROGRESS: fresh_shard size=40000\n",
      "2017-07-20 14:49:50,047 : INFO : PROGRESS: fresh_shard size=50000\n",
      "2017-07-20 14:49:58,947 : INFO : PROGRESS: fresh_shard size=60000\n",
      "2017-07-20 14:50:09,174 : INFO : PROGRESS: fresh_shard size=70000\n",
      "2017-07-20 14:50:13,996 : INFO : PROGRESS: fresh_shard size=80000\n",
      "2017-07-20 14:50:18,332 : INFO : PROGRESS: fresh_shard size=90000\n",
      "2017-07-20 14:50:22,464 : INFO : PROGRESS: fresh_shard size=100000\n",
      "2017-07-20 14:50:26,597 : INFO : PROGRESS: fresh_shard size=110000\n",
      "2017-07-20 14:50:30,787 : INFO : PROGRESS: fresh_shard size=120000\n",
      "2017-07-20 14:50:34,903 : INFO : PROGRESS: fresh_shard size=130000\n",
      "2017-07-20 14:50:39,124 : INFO : PROGRESS: fresh_shard size=140000\n",
      "2017-07-20 14:50:43,326 : INFO : PROGRESS: fresh_shard size=150000\n",
      "2017-07-20 14:50:47,512 : INFO : PROGRESS: fresh_shard size=160000\n",
      "2017-07-20 14:50:51,715 : INFO : PROGRESS: fresh_shard size=170000\n",
      "2017-07-20 14:50:55,957 : INFO : PROGRESS: fresh_shard size=180000\n",
      "2017-07-20 14:51:00,233 : INFO : PROGRESS: fresh_shard size=190000\n",
      "2017-07-20 14:51:04,401 : INFO : PROGRESS: fresh_shard size=200000\n",
      "2017-07-20 14:51:09,991 : INFO : PROGRESS: fresh_shard size=210000\n",
      "2017-07-20 14:51:11,463 : INFO : creating sparse index\n",
      "2017-07-20 14:51:11,464 : INFO : creating sparse matrix from corpus\n",
      "2017-07-20 14:51:11,465 : INFO : PROGRESS: at document #0/211389\n",
      "2017-07-20 14:51:12,367 : INFO : PROGRESS: at document #10000/211389\n",
      "2017-07-20 14:51:13,268 : INFO : PROGRESS: at document #20000/211389\n",
      "2017-07-20 14:51:14,137 : INFO : PROGRESS: at document #30000/211389\n",
      "2017-07-20 14:51:15,037 : INFO : PROGRESS: at document #40000/211389\n",
      "2017-07-20 14:51:15,916 : INFO : PROGRESS: at document #50000/211389\n",
      "2017-07-20 14:51:18,469 : INFO : PROGRESS: at document #60000/211389\n",
      "2017-07-20 14:51:21,553 : INFO : PROGRESS: at document #70000/211389\n",
      "2017-07-20 14:51:22,438 : INFO : PROGRESS: at document #80000/211389\n",
      "2017-07-20 14:51:23,099 : INFO : PROGRESS: at document #90000/211389\n",
      "2017-07-20 14:51:23,743 : INFO : PROGRESS: at document #100000/211389\n",
      "2017-07-20 14:51:24,388 : INFO : PROGRESS: at document #110000/211389\n",
      "2017-07-20 14:51:25,033 : INFO : PROGRESS: at document #120000/211389\n",
      "2017-07-20 14:51:25,685 : INFO : PROGRESS: at document #130000/211389\n",
      "2017-07-20 14:51:26,323 : INFO : PROGRESS: at document #140000/211389\n",
      "2017-07-20 14:51:26,970 : INFO : PROGRESS: at document #150000/211389\n",
      "2017-07-20 14:51:27,617 : INFO : PROGRESS: at document #160000/211389\n",
      "2017-07-20 14:51:28,240 : INFO : PROGRESS: at document #170000/211389\n",
      "2017-07-20 14:51:28,892 : INFO : PROGRESS: at document #180000/211389\n",
      "2017-07-20 14:51:29,525 : INFO : PROGRESS: at document #190000/211389\n",
      "2017-07-20 14:51:30,176 : INFO : PROGRESS: at document #200000/211389\n",
      "2017-07-20 14:51:31,443 : INFO : PROGRESS: at document #210000/211389\n",
      "2017-07-20 14:51:31,942 : INFO : created <211389x2316883 sparse matrix of type '<class 'numpy.float32'>'\n",
      "\twith 12202324 stored elements in Compressed Sparse Row format>\n",
      "2017-07-20 14:51:31,942 : INFO : creating sparse shard #3\n",
      "2017-07-20 14:51:31,943 : INFO : saving index shard to ../data/sim_index/sim.3\n",
      "2017-07-20 14:51:31,944 : INFO : saving SparseMatrixSimilarity object under ../data/sim_index/sim.3, separately None\n",
      "2017-07-20 14:51:31,944 : INFO : storing scipy.sparse array 'index' under ../data/sim_index/sim.3.index.npy\n",
      "2017-07-20 14:51:31,996 : INFO : saved ../data/sim_index/sim.3\n",
      "2017-07-20 14:51:31,997 : INFO : loading SparseMatrixSimilarity object from ../data/sim_index/sim.3\n",
      "2017-07-20 14:51:31,998 : INFO : loading index from ../data/sim_index/sim.3.index.npy with mmap=r\n",
      "2017-07-20 14:51:32,000 : INFO : loaded ../data/sim_index/sim.3\n",
      "2017-07-20 14:51:32,242 : INFO : saving Similarity object under ../data/sim_index/sim, separately None\n",
      "2017-07-20 14:51:32,243 : INFO : saved ../data/sim_index/sim\n"
     ]
    },
    {
     "name": "stdout",
     "output_type": "stream",
     "text": [
      "CPU times: user 22min 46s, sys: 4.06 s, total: 22min 50s\n",
      "Wall time: 22min 49s\n"
     ]
    }
   ],
   "source": [
    "fname = join(DATA_FOLDER, 'sim_index/sim')\n",
    "if not exists(fname):\n",
    "    index = similarities.Similarity(fname, tfidf[corpus], \n",
    "                                    num_features=len(dictionary), num_best=200, \n",
    "                                    chunksize=10*256, shardsize=10*32768)\n",
    "    index.save(fname)\n",
    "else:\n",
    "    index = similarities.Similarity.load(fname)"
   ]
  },
  {
   "cell_type": "markdown",
   "metadata": {},
   "source": [
    "# Validate"
   ]
  },
  {
   "cell_type": "code",
   "execution_count": 10,
   "metadata": {
    "ExecuteTime": {
     "end_time": "2017-07-20T11:51:49.494363Z",
     "start_time": "2017-07-20T11:51:49.488744Z"
    }
   },
   "outputs": [],
   "source": [
    "with open(join(DATA_FOLDER, 'gold.json'), 'r') as f:\n",
    "    gold = json.load(f)"
   ]
  },
  {
   "cell_type": "code",
   "execution_count": 13,
   "metadata": {
    "ExecuteTime": {
     "end_time": "2017-07-20T11:52:01.858355Z",
     "start_time": "2017-07-20T11:52:01.848515Z"
    },
    "collapsed": true
   },
   "outputs": [],
   "source": [
    "val_docs = glob(join(DATA_FOLDER, 'validate/*.txt'))"
   ]
  },
  {
   "cell_type": "code",
   "execution_count": 14,
   "metadata": {
    "ExecuteTime": {
     "end_time": "2017-07-20T11:54:12.721669Z",
     "start_time": "2017-07-20T11:52:02.859850Z"
    }
   },
   "outputs": [
    {
     "name": "stderr",
     "output_type": "stream",
     "text": [
      "100%|██████████| 130/130 [02:09<00:00,  1.03s/it]\n"
     ]
    }
   ],
   "source": [
    "preds = {}\n",
    "for fname in tqdm(val_docs):\n",
    "    with open(fname, 'r') as f:\n",
    "        doc_text = f.read()\n",
    "    vec_bow = dictionary.doc2bow(tokenize(doc_text))\n",
    "    vec_model = tfidf[vec_bow] # convert the query to model space\n",
    "    preds[splitext(basename(fname))[0]] = index[vec_model]"
   ]
  },
  {
   "cell_type": "code",
   "execution_count": 15,
   "metadata": {
    "ExecuteTime": {
     "end_time": "2017-07-20T11:54:12.797837Z",
     "start_time": "2017-07-20T11:54:12.725402Z"
    },
    "collapsed": true
   },
   "outputs": [],
   "source": [
    "new_pred = {}\n",
    "for k, v in preds.items():\n",
    "    new_pred[k] = [splitext(basename(all_docs[key]))[0] for key, sim in v]"
   ]
  },
  {
   "cell_type": "code",
   "execution_count": 11,
   "metadata": {
    "ExecuteTime": {
     "end_time": "2017-07-17T11:38:09.930655Z",
     "start_time": "2017-07-17T11:38:09.923105Z"
    },
    "collapsed": true
   },
   "outputs": [],
   "source": [
    "# new_pred['e75dcef9-73b5-40c1-45be-33a191b6440c']"
   ]
  },
  {
   "cell_type": "code",
   "execution_count": 21,
   "metadata": {
    "ExecuteTime": {
     "end_time": "2017-07-20T11:56:19.174669Z",
     "start_time": "2017-07-20T11:56:18.681861Z"
    },
    "scrolled": false
   },
   "outputs": [
    {
     "name": "stdout",
     "output_type": "stream",
     "text": [
      "median\n",
      "acc10     0.000000\n",
      "acc20     0.000000\n",
      "acc200    0.666667\n",
      "dtype: float64\n",
      "mean\n",
      "acc10     0.328462\n",
      "acc20     0.388974\n",
      "acc200    0.592692\n",
      "dtype: float64\n"
     ]
    },
    {
     "data": {
      "image/png": "[encoded data removed]",
      "text/plain": [
       "<matplotlib.figure.Figure at 0x7fdc131bdbe0>"
      ]
     },
     "metadata": {},
     "output_type": "display_data"
    },
    {
     "data": {
      "image/png": "[encoded data removed]",
      "text/plain": [
       "<matplotlib.figure.Figure at 0x7fdbfa351d68>"
      ]
     },
     "metadata": {},
     "output_type": "display_data"
    },
    {
     "data": {
      "image/png": "[encoded data removed]",
      "text/plain": [
       "<matplotlib.figure.Figure at 0x7fdbf79c5240>"
      ]
     },
     "metadata": {},
     "output_type": "display_data"
    }
   ],
   "source": [
    "res = evaluate(new_pred, gold)"
   ]
  }
 ],
 "metadata": {
  "kernelspec": {
   "display_name": "Python 3",
   "language": "python",
   "name": "python3"
  },
  "language_info": {
   "codemirror_mode": {
    "name": "ipython",
    "version": 3
   },
   "file_extension": ".py",
   "mimetype": "text/x-python",
   "name": "python",
   "nbconvert_exporter": "python",
   "pygments_lexer": "ipython3",
   "version": "3.6.1"
  }
 },
 "nbformat": 4,
 "nbformat_minor": 2
}
