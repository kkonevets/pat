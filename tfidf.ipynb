{
 "cells": [
  {
   "cell_type": "code",
   "execution_count": 1,
   "metadata": {
    "ExecuteTime": {
     "end_time": "2017-07-17T11:35:48.685508Z",
     "start_time": "2017-07-17T11:35:30.262987Z"
    }
   },
   "outputs": [
    {
     "name": "stderr",
     "output_type": "stream",
     "text": [
      "Using TensorFlow backend.\n"
     ]
    }
   ],
   "source": [
    "import pandas as pd\n",
    "import numpy as np\n",
    "from common import *\n",
    "from glob import glob\n",
    "from os import rename, path\n",
    "from gensim import corpora\n",
    "from os.path import basename\n",
    "\n",
    "from matplotlib import pyplot as plt\n",
    "import logging\n",
    "\n",
    "from tqdm import tqdm\n",
    "\n",
    "import gensim\n",
    "from gensim import corpora, models, similarities\n",
    "\n",
    "DATA_FOLDER = '../data/'\n",
    "logging.basicConfig(format='%(asctime)s : %(levelname)s : %(message)s', level=logging.INFO)"
   ]
  },
  {
   "cell_type": "code",
   "execution_count": 2,
   "metadata": {
    "ExecuteTime": {
     "end_time": "2017-07-17T11:35:51.069113Z",
     "start_time": "2017-07-17T11:35:48.687162Z"
    },
    "scrolled": true
   },
   "outputs": [
    {
     "name": "stderr",
     "output_type": "stream",
     "text": [
      "2017-07-17 14:35:48,695 : INFO : loading Dictionary object from ../data/old.dict\n",
      "2017-07-17 14:35:50,931 : INFO : loaded ../data/old.dict\n",
      "2017-07-17 14:35:51,064 : INFO : loaded corpus index from ../data/corpus.mm.index\n",
      "2017-07-17 14:35:51,065 : INFO : initializing corpus reader from ../data/corpus.mm\n",
      "2017-07-17 14:35:51,066 : INFO : accepted corpus with 1194670 documents, 3496903 features, 192261307 non-zero entries\n"
     ]
    },
    {
     "name": "stdout",
     "output_type": "stream",
     "text": [
      "CPU times: user 2.11 s, sys: 260 ms, total: 2.37 s\n",
      "Wall time: 2.37 s\n"
     ]
    }
   ],
   "source": [
    "%%time\n",
    "dictionary = corpora.Dictionary.load(join(DATA_FOLDER, 'old.dict'))\n",
    "corpus = corpora.MmCorpus(join(DATA_FOLDER, 'corpus.mm'))"
   ]
  },
  {
   "cell_type": "code",
   "execution_count": 3,
   "metadata": {
    "ExecuteTime": {
     "end_time": "2017-07-17T11:35:51.076146Z",
     "start_time": "2017-07-17T11:35:51.070566Z"
    }
   },
   "outputs": [
    {
     "name": "stdout",
     "output_type": "stream",
     "text": [
      "MmCorpus(1194670 documents, 3496903 features, 192261307 non-zero entries)\n"
     ]
    }
   ],
   "source": [
    "print(corpus)"
   ]
  },
  {
   "cell_type": "code",
   "execution_count": 4,
   "metadata": {
    "ExecuteTime": {
     "end_time": "2017-07-17T11:35:51.766919Z",
     "start_time": "2017-07-17T11:35:51.077523Z"
    }
   },
   "outputs": [
    {
     "name": "stderr",
     "output_type": "stream",
     "text": [
      "2017-07-17 14:35:51,099 : INFO : loading TfidfModel object from ../data/tfidf.model\n",
      "2017-07-17 14:35:51,764 : INFO : loaded ../data/tfidf.model\n"
     ]
    },
    {
     "name": "stdout",
     "output_type": "stream",
     "text": [
      "CPU times: user 576 ms, sys: 92 ms, total: 668 ms\n",
      "Wall time: 667 ms\n"
     ]
    }
   ],
   "source": [
    "%%time\n",
    "fmodel = join(DATA_FOLDER, 'tfidf.model')\n",
    "if not path.exists(fmodel):    \n",
    "    tfidf = models.TfidfModel(corpus)\n",
    "    tfidf.save(fmodel)\n",
    "else:\n",
    "    tfidf = models.TfidfModel.load(fmodel)"
   ]
  },
  {
   "cell_type": "code",
   "execution_count": 58,
   "metadata": {
    "collapsed": true
   },
   "outputs": [],
   "source": [
    "# %%time\n",
    "# index = similarities.SparseMatrixSimilarity(tfidf[corpus], num_features=len(dictionary), num_best=200)"
   ]
  },
  {
   "cell_type": "code",
   "execution_count": 5,
   "metadata": {
    "ExecuteTime": {
     "end_time": "2017-07-17T11:35:51.777546Z",
     "start_time": "2017-07-17T11:35:51.768517Z"
    },
    "scrolled": true
   },
   "outputs": [
    {
     "name": "stderr",
     "output_type": "stream",
     "text": [
      "2017-07-17 14:35:51,774 : INFO : loading Similarity object from ../data/sim_index/sim\n",
      "2017-07-17 14:35:51,775 : INFO : loaded ../data/sim_index/sim\n"
     ]
    },
    {
     "name": "stdout",
     "output_type": "stream",
     "text": [
      "CPU times: user 0 ns, sys: 0 ns, total: 0 ns\n",
      "Wall time: 2.28 ms\n"
     ]
    }
   ],
   "source": [
    "%%time\n",
    "fname = join(DATA_FOLDER, 'sim_index/sim')\n",
    "if not exists(fname):\n",
    "    index = similarities.Similarity(fname, tfidf[corpus], \n",
    "                                    num_features=len(dictionary), num_best=200, \n",
    "                                    chunksize=4*256, shardsize=5*32768)\n",
    "    index.save(fname)\n",
    "else:\n",
    "    index = similarities.Similarity.load(fname)"
   ]
  },
  {
   "cell_type": "markdown",
   "metadata": {},
   "source": [
    "### Test all"
   ]
  },
  {
   "cell_type": "code",
   "execution_count": 6,
   "metadata": {
    "ExecuteTime": {
     "end_time": "2017-07-17T11:35:51.803030Z",
     "start_time": "2017-07-17T11:35:51.778793Z"
    },
    "collapsed": true
   },
   "outputs": [],
   "source": [
    "with open(join(DATA_FOLDER, 'gold.txt'), 'r') as f:\n",
    "    gold_txt = f.read()\n",
    "lines = gold_txt.splitlines()\n",
    "gold = {line.split()[0]:line.split()[1:] for line in lines}"
   ]
  },
  {
   "cell_type": "code",
   "execution_count": 8,
   "metadata": {
    "collapsed": true
   },
   "outputs": [],
   "source": [
    "# DATA_FOLDER = '../data/'\n",
    "# test_docs = []\n",
    "# for root, directories, filenames in os.walk(join(DATA_FOLDER, 'FIPS/test/')):\n",
    "#     test_docs += [join(root,f) for f in filenames]"
   ]
  },
  {
   "cell_type": "code",
   "execution_count": 9,
   "metadata": {
    "collapsed": true
   },
   "outputs": [],
   "source": [
    "# for f in test_docs:\n",
    "#     if not '.txt' in f:\n",
    "#         rename(f, f + '.txt')"
   ]
  },
  {
   "cell_type": "code",
   "execution_count": 7,
   "metadata": {
    "ExecuteTime": {
     "end_time": "2017-07-17T11:35:51.807930Z",
     "start_time": "2017-07-17T11:35:51.804725Z"
    },
    "collapsed": true
   },
   "outputs": [],
   "source": [
    "test_docs = glob(join(DATA_FOLDER, 'docs/*.txt'))"
   ]
  },
  {
   "cell_type": "code",
   "execution_count": 8,
   "metadata": {
    "ExecuteTime": {
     "end_time": "2017-07-17T11:38:09.583404Z",
     "start_time": "2017-07-17T11:35:51.809223Z"
    }
   },
   "outputs": [
    {
     "name": "stderr",
     "output_type": "stream",
     "text": [
      "2017-07-17 14:35:51,841 : INFO : loading SparseMatrixSimilarity object from ../data/sim_index/sim.0\n",
      "2017-07-17 14:35:52,301 : INFO : loaded ../data/sim_index/sim.0\n",
      "2017-07-17 14:35:52,341 : INFO : loading SparseMatrixSimilarity object from ../data/sim_index/sim.1\n",
      "2017-07-17 14:35:52,799 : INFO : loaded ../data/sim_index/sim.1\n",
      "2017-07-17 14:35:52,848 : INFO : loading SparseMatrixSimilarity object from ../data/sim_index/sim.2\n",
      "2017-07-17 14:35:52,850 : INFO : loading index from ../data/sim_index/sim.2.index.npy with mmap=r\n",
      "2017-07-17 14:35:52,853 : INFO : loaded ../data/sim_index/sim.2\n",
      "2017-07-17 14:35:52,915 : INFO : loading SparseMatrixSimilarity object from ../data/sim_index/sim.3\n",
      "2017-07-17 14:35:52,917 : INFO : loading index from ../data/sim_index/sim.3.index.npy with mmap=r\n",
      "2017-07-17 14:35:52,920 : INFO : loaded ../data/sim_index/sim.3\n",
      "2017-07-17 14:35:53,129 : INFO : loading SparseMatrixSimilarity object from ../data/sim_index/sim.4\n",
      "2017-07-17 14:35:53,131 : INFO : loading index from ../data/sim_index/sim.4.index.npy with mmap=r\n",
      "2017-07-17 14:35:53,133 : INFO : loaded ../data/sim_index/sim.4\n",
      "2017-07-17 14:35:53,349 : INFO : loading SparseMatrixSimilarity object from ../data/sim_index/sim.5\n",
      "2017-07-17 14:35:53,351 : INFO : loading index from ../data/sim_index/sim.5.index.npy with mmap=r\n",
      "2017-07-17 14:35:53,353 : INFO : loaded ../data/sim_index/sim.5\n",
      "2017-07-17 14:35:53,571 : INFO : loading SparseMatrixSimilarity object from ../data/sim_index/sim.6\n",
      "2017-07-17 14:35:53,573 : INFO : loading index from ../data/sim_index/sim.6.index.npy with mmap=r\n",
      "2017-07-17 14:35:53,576 : INFO : loaded ../data/sim_index/sim.6\n",
      "2017-07-17 14:35:53,674 : INFO : loading SparseMatrixSimilarity object from ../data/sim_index/sim.7\n",
      "2017-07-17 14:35:53,836 : INFO : loaded ../data/sim_index/sim.7\n"
     ]
    }
   ],
   "source": [
    "preds = {}\n",
    "for fname in tqdm(test_docs):\n",
    "    with open(fname, 'r') as f:\n",
    "        doc_text = f.read()\n",
    "    vec_bow = dictionary.doc2bow(tokenize(doc_text))\n",
    "    vec_model = tfidf[vec_bow] # convert the query to model space\n",
    "    preds[path.splitext(basename(fname))[0]] = index[vec_model]"
   ]
  },
  {
   "cell_type": "code",
   "execution_count": 9,
   "metadata": {
    "ExecuteTime": {
     "end_time": "2017-07-17T11:38:09.818458Z",
     "start_time": "2017-07-17T11:38:09.584824Z"
    },
    "scrolled": true
   },
   "outputs": [
    {
     "name": "stdout",
     "output_type": "stream",
     "text": [
      "CPU times: user 164 ms, sys: 68 ms, total: 232 ms\n",
      "Wall time: 230 ms\n"
     ]
    }
   ],
   "source": [
    "%%time\n",
    "all_docs = get_all_docs(DATA_FOLDER)"
   ]
  },
  {
   "cell_type": "code",
   "execution_count": 10,
   "metadata": {
    "ExecuteTime": {
     "end_time": "2017-07-17T11:38:09.921426Z",
     "start_time": "2017-07-17T11:38:09.819788Z"
    },
    "collapsed": true
   },
   "outputs": [],
   "source": [
    "new_pred = {}\n",
    "for k, v in preds.items():\n",
    "    new_pred[k] = [path.splitext(basename(all_docs[key]))[0] for key, sim in v]"
   ]
  },
  {
   "cell_type": "code",
   "execution_count": 11,
   "metadata": {
    "ExecuteTime": {
     "end_time": "2017-07-17T11:38:09.930655Z",
     "start_time": "2017-07-17T11:38:09.923105Z"
    },
    "collapsed": true
   },
   "outputs": [],
   "source": [
    "# new_pred['e75dcef9-73b5-40c1-45be-33a191b6440c']"
   ]
  },
  {
   "cell_type": "code",
   "execution_count": 13,
   "metadata": {
    "ExecuteTime": {
     "end_time": "2017-07-17T11:38:55.407995Z",
     "start_time": "2017-07-17T11:38:54.945162Z"
    },
    "scrolled": false
   },
   "outputs": [
    {
     "name": "stdout",
     "output_type": "stream",
     "text": [
      "median\n",
      "acc10     0.333333\n",
      "acc20     0.500000\n",
      "acc200    1.000000\n",
      "dtype: float64\n",
      "mean\n",
      "acc10     0.437730\n",
      "acc20     0.516871\n",
      "acc200    0.751943\n",
      "dtype: float64\n"
     ]
    },
    {
     "data": {
      "image/png": "[encoded data removed]",
      "text/plain": [
       "<matplotlib.figure.Figure at 0x7f1e251aaac8>"
      ]
     },
     "metadata": {},
     "output_type": "display_data"
    },
    {
     "data": {
      "image/png": "[encoded data removed]",
      "text/plain": [
       "<matplotlib.figure.Figure at 0x7f1e24fe8668>"
      ]
     },
     "metadata": {},
     "output_type": "display_data"
    },
    {
     "data": {
      "image/png": "[encoded data removed]",
      "text/plain": [
       "<matplotlib.figure.Figure at 0x7f1e250a82b0>"
      ]
     },
     "metadata": {},
     "output_type": "display_data"
    }
   ],
   "source": [
    "res = evaluate(new_pred, gold)"
   ]
  },
  {
   "cell_type": "code",
   "execution_count": 154,
   "metadata": {
    "scrolled": true
   },
   "outputs": [
    {
     "data": {
      "text/plain": [
       "241"
      ]
     },
     "execution_count": 154,
     "metadata": {},
     "output_type": "execute_result"
    }
   ],
   "source": [
    "len([v for v in all_docs if '-' in v])"
   ]
  },
  {
   "cell_type": "markdown",
   "metadata": {},
   "source": [
    "### Test 3\n"
   ]
  },
  {
   "cell_type": "code",
   "execution_count": 29,
   "metadata": {
    "scrolled": true
   },
   "outputs": [
    {
     "name": "stdout",
     "output_type": "stream",
     "text": [
      "CPU times: user 580 ms, sys: 68 ms, total: 648 ms\n",
      "Wall time: 647 ms\n"
     ]
    }
   ],
   "source": [
    "%%time\n",
    "dictionary = corpora.Dictionary.load(join(DATA_FOLDER, 'filtered.dict'))\n",
    "corpus = corpora.MmCorpus(join(DATA_FOLDER, 'filtered_corpus.mm'))"
   ]
  },
  {
   "cell_type": "code",
   "execution_count": 30,
   "metadata": {},
   "outputs": [
    {
     "name": "stdout",
     "output_type": "stream",
     "text": [
      "MmCorpus(1194664 documents, 843052 features, 187315959 non-zero entries)\n"
     ]
    }
   ],
   "source": [
    "print(corpus)"
   ]
  },
  {
   "cell_type": "code",
   "execution_count": 31,
   "metadata": {},
   "outputs": [
    {
     "name": "stdout",
     "output_type": "stream",
     "text": [
      "CPU times: user 8min 32s, sys: 1.53 s, total: 8min 34s\n",
      "Wall time: 8min 34s\n"
     ]
    }
   ],
   "source": [
    "%%time\n",
    "fmodel = join(DATA_FOLDER, 'tfidf_filtered.model')\n",
    "if not path.exists(fmodel):    \n",
    "    tfidf = models.TfidfModel(corpus)\n",
    "    tfidf.save(fmodel)\n",
    "else:\n",
    "    tfidf = models.TfidfModel.load(fmodel)"
   ]
  },
  {
   "cell_type": "code",
   "execution_count": 32,
   "metadata": {
    "scrolled": false
   },
   "outputs": [
    {
     "name": "stdout",
     "output_type": "stream",
     "text": [
      "CPU times: user 23min 31s, sys: 3.74 s, total: 23min 34s\n",
      "Wall time: 23min 34s\n"
     ]
    }
   ],
   "source": [
    "%%time\n",
    "fname = join(DATA_FOLDER, 'sim_index3/sim')\n",
    "if not exists(fname):\n",
    "    index = similarities.Similarity(fname, tfidf[corpus], \n",
    "                                    num_features=len(dictionary), num_best=200, \n",
    "                                    chunksize=4*256, shardsize=5*32768)\n",
    "    index.save(fname)\n",
    "else:\n",
    "    index = similarities.Similarity.load(fname)"
   ]
  },
  {
   "cell_type": "code",
   "execution_count": 33,
   "metadata": {
    "collapsed": true
   },
   "outputs": [],
   "source": [
    "preds = {}\n",
    "for fname in test_docs:\n",
    "    with open(fname, 'r') as f:\n",
    "        doc_text = f.read()\n",
    "    vec_bow = dictionary.doc2bow(tokenize(doc_text))\n",
    "    vec_model = tfidf[vec_bow] # convert the query to model space\n",
    "    preds[path.splitext(basename(fname))[0]] = index[vec_model]"
   ]
  },
  {
   "cell_type": "code",
   "execution_count": 34,
   "metadata": {
    "collapsed": true
   },
   "outputs": [],
   "source": [
    "new_pred = {}\n",
    "for k, v in preds.items():\n",
    "    new_pred[k] = [path.splitext(basename(all_docs[key]))[0] for key, sim in v]"
   ]
  },
  {
   "cell_type": "code",
   "execution_count": 52,
   "metadata": {},
   "outputs": [
    {
     "name": "stdout",
     "output_type": "stream",
     "text": [
      "acc10     0.333333\n",
      "acc20     0.500000\n",
      "acc200    1.000000\n",
      "dtype: float64\n",
      "acc10     0.435685\n",
      "acc20     0.516871\n",
      "acc200    0.745808\n",
      "dtype: float64\n"
     ]
    }
   ],
   "source": [
    "result = []\n",
    "for key, val in new_pred.items():\n",
    "    true_val = gold[key]\n",
    "    gold_len = len(true_val)\n",
    "    \n",
    "    inter10 = set(val[0:10]).intersection(true_val)\n",
    "    inter20 = set(val[0:20]).intersection(true_val)\n",
    "    inter200 = set(val[0:200]).intersection(true_val)\n",
    "    \n",
    "    acc10 = len(inter10)/gold_len\n",
    "    acc20 = len(inter20)/gold_len\n",
    "    acc200 = len(inter200)/gold_len\n",
    "    \n",
    "    result.append([acc10, acc20, acc200])\n",
    "\n",
    "result = pd.DataFrame(result, columns=['acc10', 'acc20', 'acc200'])\n",
    "print(result.median(axis=0))\n",
    "print(result.mean(axis=0))"
   ]
  },
  {
   "cell_type": "code",
   "execution_count": 48,
   "metadata": {
    "scrolled": true
   },
   "outputs": [
    {
     "data": {
      "image/png": "[encoded data removed]",
      "text/plain": [
       "<matplotlib.figure.Figure at 0x7f7c048c8978>"
      ]
     },
     "metadata": {},
     "output_type": "display_data"
    }
   ],
   "source": [
    "result['acc10'].hist()\n",
    "plt.show()"
   ]
  },
  {
   "cell_type": "code",
   "execution_count": 50,
   "metadata": {
    "scrolled": true
   },
   "outputs": [
    {
     "data": {
      "image/png": "[encoded data removed]",
      "text/plain": [
       "<matplotlib.figure.Figure at 0x7f7bfd97b0b8>"
      ]
     },
     "metadata": {},
     "output_type": "display_data"
    }
   ],
   "source": [
    "result['acc20'].hist()\n",
    "plt.show()"
   ]
  },
  {
   "cell_type": "code",
   "execution_count": 51,
   "metadata": {},
   "outputs": [
    {
     "data": {
      "image/png": "[encoded data removed]",
      "text/plain": [
       "<matplotlib.figure.Figure at 0x7f7c0436a470>"
      ]
     },
     "metadata": {},
     "output_type": "display_data"
    }
   ],
   "source": [
    "result['acc200'].hist()\n",
    "plt.show()"
   ]
  }
 ],
 "metadata": {
  "kernelspec": {
   "display_name": "Python 3",
   "language": "python",
   "name": "python3"
  },
  "language_info": {
   "codemirror_mode": {
    "name": "ipython",
    "version": 3
   },
   "file_extension": ".py",
   "mimetype": "text/x-python",
   "name": "python",
   "nbconvert_exporter": "python",
   "pygments_lexer": "ipython3",
   "version": "3.6.1"
  }
 },
 "nbformat": 4,
 "nbformat_minor": 2
}
