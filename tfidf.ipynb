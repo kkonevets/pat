{
 "cells": [
  {
   "cell_type": "code",
   "execution_count": 46,
   "metadata": {
    "collapsed": true
   },
   "outputs": [],
   "source": [
    "import pandas as pd\n",
    "import numpy as np\n",
    "from common import *\n",
    "from glob import glob\n",
    "from os import rename, path\n",
    "from gensim import corpora\n",
    "from os.path import basename\n",
    "\n",
    "from matplotlib import pyplot as plt\n",
    "\n",
    "import gensim\n",
    "from gensim import corpora, models, similarities\n",
    "\n",
    "DATA_FOLDER = '../data/'"
   ]
  },
  {
   "cell_type": "code",
   "execution_count": 55,
   "metadata": {
    "scrolled": true
   },
   "outputs": [
    {
     "name": "stdout",
     "output_type": "stream",
     "text": [
      "CPU times: user 2.3 s, sys: 352 ms, total: 2.65 s\n",
      "Wall time: 2.69 s\n"
     ]
    }
   ],
   "source": [
    "%%time\n",
    "dictionary = corpora.Dictionary.load(join(DATA_FOLDER, 'old.dict'))\n",
    "corpus = corpora.MmCorpus(join(DATA_FOLDER, 'corpus.mm'))"
   ]
  },
  {
   "cell_type": "code",
   "execution_count": 56,
   "metadata": {},
   "outputs": [
    {
     "name": "stdout",
     "output_type": "stream",
     "text": [
      "MmCorpus(1194664 documents, 3496816 features, 192260021 non-zero entries)\n"
     ]
    }
   ],
   "source": [
    "print(corpus)"
   ]
  },
  {
   "cell_type": "code",
   "execution_count": 57,
   "metadata": {},
   "outputs": [
    {
     "name": "stdout",
     "output_type": "stream",
     "text": [
      "CPU times: user 532 ms, sys: 220 ms, total: 752 ms\n",
      "Wall time: 752 ms\n"
     ]
    }
   ],
   "source": [
    "%%time\n",
    "fmodel = join(DATA_FOLDER, 'tfidf.model')\n",
    "if not path.exists(fmodel):    \n",
    "    tfidf = models.TfidfModel(corpus)\n",
    "    tfidf.save(fmodel)\n",
    "else:\n",
    "    tfidf = models.TfidfModel.load(fmodel)"
   ]
  },
  {
   "cell_type": "code",
   "execution_count": 58,
   "metadata": {
    "collapsed": true
   },
   "outputs": [],
   "source": [
    "# %%time\n",
    "# index = similarities.SparseMatrixSimilarity(tfidf[corpus], num_features=len(dictionary), num_best=200)"
   ]
  },
  {
   "cell_type": "code",
   "execution_count": 59,
   "metadata": {
    "scrolled": false
   },
   "outputs": [
    {
     "name": "stdout",
     "output_type": "stream",
     "text": [
      "CPU times: user 0 ns, sys: 0 ns, total: 0 ns\n",
      "Wall time: 638 µs\n"
     ]
    }
   ],
   "source": [
    "%%time\n",
    "fname = join(DATA_FOLDER, 'sim_index/sim')\n",
    "if not exists(fname):\n",
    "    index = similarities.Similarity(fname, tfidf[corpus], \n",
    "                                    num_features=len(dictionary), num_best=200, \n",
    "                                    chunksize=4*256, shardsize=5*32768)\n",
    "    index.save(fname)\n",
    "else:\n",
    "    index = similarities.Similarity.load(fname)"
   ]
  },
  {
   "cell_type": "markdown",
   "metadata": {},
   "source": [
    "### Test all"
   ]
  },
  {
   "cell_type": "code",
   "execution_count": 60,
   "metadata": {
    "collapsed": true
   },
   "outputs": [],
   "source": [
    "with open(join(DATA_FOLDER, 'gold.txt'), 'r') as f:\n",
    "    gold_txt = f.read()\n",
    "lines = gold_txt.splitlines()\n",
    "gold = {line.split()[0]:line.split()[1:] for line in lines}"
   ]
  },
  {
   "cell_type": "code",
   "execution_count": 8,
   "metadata": {
    "collapsed": true
   },
   "outputs": [],
   "source": [
    "# DATA_FOLDER = '../data/'\n",
    "# test_docs = []\n",
    "# for root, directories, filenames in os.walk(join(DATA_FOLDER, 'FIPS/test/')):\n",
    "#     test_docs += [join(root,f) for f in filenames]"
   ]
  },
  {
   "cell_type": "code",
   "execution_count": 9,
   "metadata": {
    "collapsed": true
   },
   "outputs": [],
   "source": [
    "# for f in test_docs:\n",
    "#     if not '.txt' in f:\n",
    "#         rename(f, f + '.txt')"
   ]
  },
  {
   "cell_type": "code",
   "execution_count": 61,
   "metadata": {
    "collapsed": true
   },
   "outputs": [],
   "source": [
    "test_docs = glob(join(DATA_FOLDER, 'docs/*.txt'))"
   ]
  },
  {
   "cell_type": "code",
   "execution_count": 62,
   "metadata": {
    "collapsed": true
   },
   "outputs": [],
   "source": [
    "preds = {}\n",
    "for fname in test_docs:\n",
    "    with open(fname, 'r') as f:\n",
    "        doc_text = f.read()\n",
    "    vec_bow = dictionary.doc2bow(tokenize(doc_text))\n",
    "    vec_model = tfidf[vec_bow] # convert the query to model space\n",
    "    preds[path.splitext(basename(fname))[0]] = index[vec_model]"
   ]
  },
  {
   "cell_type": "code",
   "execution_count": 63,
   "metadata": {
    "scrolled": true
   },
   "outputs": [
    {
     "name": "stdout",
     "output_type": "stream",
     "text": [
      "CPU times: user 168 ms, sys: 120 ms, total: 288 ms\n",
      "Wall time: 285 ms\n"
     ]
    }
   ],
   "source": [
    "%%time\n",
    "all_docs = get_all_docs(DATA_FOLDER)"
   ]
  },
  {
   "cell_type": "code",
   "execution_count": 64,
   "metadata": {},
   "outputs": [],
   "source": [
    "# preds['0a3e021a-fc69-c9f3-5697-0474cf3d03de']"
   ]
  },
  {
   "cell_type": "code",
   "execution_count": 65,
   "metadata": {},
   "outputs": [
    {
     "data": {
      "text/plain": [
       "'../data/FIPS/Inventions patents_txt_output/cd/5f/0002338697C220081120RU.txt'"
      ]
     },
     "execution_count": 65,
     "metadata": {},
     "output_type": "execute_result"
    }
   ],
   "source": [
    "all_docs[31217]"
   ]
  },
  {
   "cell_type": "code",
   "execution_count": 70,
   "metadata": {},
   "outputs": [],
   "source": [
    "new_pred = {}\n",
    "for k, v in preds.items():\n",
    "    new_pred[k] = [path.splitext(basename(all_docs[key]))[0] for key, sim in v]"
   ]
  },
  {
   "cell_type": "code",
   "execution_count": 71,
   "metadata": {},
   "outputs": [],
   "source": [
    "# new_pred['e75dcef9-73b5-40c1-45be-33a191b6440c']"
   ]
  },
  {
   "cell_type": "code",
   "execution_count": 72,
   "metadata": {
    "scrolled": false
   },
   "outputs": [
    {
     "name": "stdout",
     "output_type": "stream",
     "text": [
      "acc10     0.333333\n",
      "acc20     0.500000\n",
      "acc200    1.000000\n",
      "dtype: float64\n",
      "acc10     0.437730\n",
      "acc20     0.516871\n",
      "acc200    0.758078\n",
      "dtype: float64\n"
     ]
    }
   ],
   "source": [
    "result = []\n",
    "for key, val in new_pred.items():\n",
    "    true_val = gold[key]\n",
    "    gold_len = len(true_val)\n",
    "    \n",
    "    inter10 = set(val[0:10]).intersection(true_val)\n",
    "    inter20 = set(val[0:20]).intersection(true_val)\n",
    "    inter200 = set(val[0:200]).intersection(true_val)\n",
    "    \n",
    "    acc10 = len(inter10)/gold_len\n",
    "    acc20 = len(inter20)/gold_len\n",
    "    acc200 = len(inter200)/gold_len\n",
    "    \n",
    "    result.append([acc10, acc20, acc200])\n",
    "\n",
    "result = pd.DataFrame(result, columns=['acc10', 'acc20', 'acc200'])\n",
    "print(result.median(axis=0))\n",
    "print(result.mean(axis=0))"
   ]
  },
  {
   "cell_type": "code",
   "execution_count": 73,
   "metadata": {},
   "outputs": [
    {
     "data": {
      "image/png": "[encoded data removed]",
      "text/plain": [
       "<matplotlib.figure.Figure at 0x7f7acfbdc2e8>"
      ]
     },
     "metadata": {},
     "output_type": "display_data"
    }
   ],
   "source": [
    "result['acc10'].hist()\n",
    "plt.show()"
   ]
  },
  {
   "cell_type": "code",
   "execution_count": 74,
   "metadata": {},
   "outputs": [
    {
     "data": {
      "image/png": "[encoded data removed]",
      "text/plain": [
       "<matplotlib.figure.Figure at 0x7f7acfbf6048>"
      ]
     },
     "metadata": {},
     "output_type": "display_data"
    }
   ],
   "source": [
    "result['acc20'].hist()\n",
    "plt.show()"
   ]
  },
  {
   "cell_type": "code",
   "execution_count": 75,
   "metadata": {},
   "outputs": [
    {
     "data": {
      "image/png": "[encoded data removed]",
      "text/plain": [
       "<matplotlib.figure.Figure at 0x7f7acfbdc748>"
      ]
     },
     "metadata": {},
     "output_type": "display_data"
    }
   ],
   "source": [
    "result['acc200'].hist()\n",
    "plt.show()"
   ]
  },
  {
   "cell_type": "code",
   "execution_count": 154,
   "metadata": {
    "scrolled": true
   },
   "outputs": [
    {
     "data": {
      "text/plain": [
       "241"
      ]
     },
     "execution_count": 154,
     "metadata": {},
     "output_type": "execute_result"
    }
   ],
   "source": [
    "len([v for v in all_docs if '-' in v])"
   ]
  },
  {
   "cell_type": "markdown",
   "metadata": {},
   "source": [
    "### Test 3\n"
   ]
  },
  {
   "cell_type": "code",
   "execution_count": 29,
   "metadata": {
    "scrolled": true
   },
   "outputs": [
    {
     "name": "stdout",
     "output_type": "stream",
     "text": [
      "CPU times: user 580 ms, sys: 68 ms, total: 648 ms\n",
      "Wall time: 647 ms\n"
     ]
    }
   ],
   "source": [
    "%%time\n",
    "dictionary = corpora.Dictionary.load(join(DATA_FOLDER, 'filtered.dict'))\n",
    "corpus = corpora.MmCorpus(join(DATA_FOLDER, 'filtered_corpus.mm'))"
   ]
  },
  {
   "cell_type": "code",
   "execution_count": 30,
   "metadata": {},
   "outputs": [
    {
     "name": "stdout",
     "output_type": "stream",
     "text": [
      "MmCorpus(1194664 documents, 843052 features, 187315959 non-zero entries)\n"
     ]
    }
   ],
   "source": [
    "print(corpus)"
   ]
  },
  {
   "cell_type": "code",
   "execution_count": 31,
   "metadata": {},
   "outputs": [
    {
     "name": "stdout",
     "output_type": "stream",
     "text": [
      "CPU times: user 8min 32s, sys: 1.53 s, total: 8min 34s\n",
      "Wall time: 8min 34s\n"
     ]
    }
   ],
   "source": [
    "%%time\n",
    "fmodel = join(DATA_FOLDER, 'tfidf_filtered.model')\n",
    "if not path.exists(fmodel):    \n",
    "    tfidf = models.TfidfModel(corpus)\n",
    "    tfidf.save(fmodel)\n",
    "else:\n",
    "    tfidf = models.TfidfModel.load(fmodel)"
   ]
  },
  {
   "cell_type": "code",
   "execution_count": 32,
   "metadata": {
    "scrolled": false
   },
   "outputs": [
    {
     "name": "stdout",
     "output_type": "stream",
     "text": [
      "CPU times: user 23min 31s, sys: 3.74 s, total: 23min 34s\n",
      "Wall time: 23min 34s\n"
     ]
    }
   ],
   "source": [
    "%%time\n",
    "fname = join(DATA_FOLDER, 'sim_index3/sim')\n",
    "if not exists(fname):\n",
    "    index = similarities.Similarity(fname, tfidf[corpus], \n",
    "                                    num_features=len(dictionary), num_best=200, \n",
    "                                    chunksize=4*256, shardsize=5*32768)\n",
    "    index.save(fname)\n",
    "else:\n",
    "    index = similarities.Similarity.load(fname)"
   ]
  },
  {
   "cell_type": "code",
   "execution_count": 33,
   "metadata": {
    "collapsed": true
   },
   "outputs": [],
   "source": [
    "preds = {}\n",
    "for fname in test_docs:\n",
    "    with open(fname, 'r') as f:\n",
    "        doc_text = f.read()\n",
    "    vec_bow = dictionary.doc2bow(tokenize(doc_text))\n",
    "    vec_model = tfidf[vec_bow] # convert the query to model space\n",
    "    preds[path.splitext(basename(fname))[0]] = index[vec_model]"
   ]
  },
  {
   "cell_type": "code",
   "execution_count": 34,
   "metadata": {
    "collapsed": true
   },
   "outputs": [],
   "source": [
    "new_pred = {}\n",
    "for k, v in preds.items():\n",
    "    new_pred[k] = [path.splitext(basename(all_docs[key]))[0] for key, sim in v]"
   ]
  },
  {
   "cell_type": "code",
   "execution_count": 52,
   "metadata": {},
   "outputs": [
    {
     "name": "stdout",
     "output_type": "stream",
     "text": [
      "acc10     0.333333\n",
      "acc20     0.500000\n",
      "acc200    1.000000\n",
      "dtype: float64\n",
      "acc10     0.435685\n",
      "acc20     0.516871\n",
      "acc200    0.745808\n",
      "dtype: float64\n"
     ]
    }
   ],
   "source": [
    "result = []\n",
    "for key, val in new_pred.items():\n",
    "    true_val = gold[key]\n",
    "    gold_len = len(true_val)\n",
    "    \n",
    "    inter10 = set(val[0:10]).intersection(true_val)\n",
    "    inter20 = set(val[0:20]).intersection(true_val)\n",
    "    inter200 = set(val[0:200]).intersection(true_val)\n",
    "    \n",
    "    acc10 = len(inter10)/gold_len\n",
    "    acc20 = len(inter20)/gold_len\n",
    "    acc200 = len(inter200)/gold_len\n",
    "    \n",
    "    result.append([acc10, acc20, acc200])\n",
    "\n",
    "result = pd.DataFrame(result, columns=['acc10', 'acc20', 'acc200'])\n",
    "print(result.median(axis=0))\n",
    "print(result.mean(axis=0))"
   ]
  },
  {
   "cell_type": "code",
   "execution_count": 48,
   "metadata": {
    "scrolled": true
   },
   "outputs": [
    {
     "data": {
      "image/png": "[encoded data removed]",
      "text/plain": [
       "<matplotlib.figure.Figure at 0x7f7c048c8978>"
      ]
     },
     "metadata": {},
     "output_type": "display_data"
    }
   ],
   "source": [
    "result['acc10'].hist()\n",
    "plt.show()"
   ]
  },
  {
   "cell_type": "code",
   "execution_count": 50,
   "metadata": {
    "scrolled": true
   },
   "outputs": [
    {
     "data": {
      "image/png": "[encoded data removed]",
      "text/plain": [
       "<matplotlib.figure.Figure at 0x7f7bfd97b0b8>"
      ]
     },
     "metadata": {},
     "output_type": "display_data"
    }
   ],
   "source": [
    "result['acc20'].hist()\n",
    "plt.show()"
   ]
  },
  {
   "cell_type": "code",
   "execution_count": 51,
   "metadata": {},
   "outputs": [
    {
     "data": {
      "image/png": "[encoded data removed]",
      "text/plain": [
       "<matplotlib.figure.Figure at 0x7f7c0436a470>"
      ]
     },
     "metadata": {},
     "output_type": "display_data"
    }
   ],
   "source": [
    "result['acc200'].hist()\n",
    "plt.show()"
   ]
  }
 ],
 "metadata": {
  "kernelspec": {
   "display_name": "Python 3",
   "language": "python",
   "name": "python3"
  },
  "language_info": {
   "codemirror_mode": {
    "name": "ipython",
    "version": 3
   },
   "file_extension": ".py",
   "mimetype": "text/x-python",
   "name": "python",
   "nbconvert_exporter": "python",
   "pygments_lexer": "ipython3",
   "version": "3.6.1"
  }
 },
 "nbformat": 4,
 "nbformat_minor": 2
}
