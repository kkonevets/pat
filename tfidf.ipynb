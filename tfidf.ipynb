{
 "cells": [
  {
   "cell_type": "code",
   "execution_count": 1,
   "metadata": {
    "ExecuteTime": {
     "end_time": "2017-07-20T15:44:37.479939Z",
     "start_time": "2017-07-20T15:44:18.126276Z"
    }
   },
   "outputs": [
    {
     "name": "stderr",
     "output_type": "stream",
     "text": [
      "Using TensorFlow backend.\n"
     ]
    }
   ],
   "source": [
    "import pandas as pd\n",
    "import numpy as np\n",
    "from common import *\n",
    "from glob import glob\n",
    "from os import rename, path\n",
    "from gensim import corpora\n",
    "from os.path import basename, splitext\n",
    "\n",
    "from matplotlib import pyplot as plt\n",
    "import logging, json\n",
    "\n",
    "from tqdm import tqdm\n",
    "\n",
    "import gensim\n",
    "from gensim import corpora, models, similarities\n",
    "\n",
    "DATA_FOLDER = '../data/'\n",
    "logging.basicConfig(format='%(asctime)s : %(levelname)s : %(message)s', level=logging.INFO)"
   ]
  },
  {
   "cell_type": "code",
   "execution_count": 2,
   "metadata": {
    "ExecuteTime": {
     "end_time": "2017-07-20T15:44:37.706281Z",
     "start_time": "2017-07-20T15:44:37.481182Z"
    },
    "collapsed": true,
    "scrolled": true
   },
   "outputs": [],
   "source": [
    "all_docs = get_all_docs(DATA_FOLDER)"
   ]
  },
  {
   "cell_type": "markdown",
   "metadata": {},
   "source": [
    "# Load corpora"
   ]
  },
  {
   "cell_type": "code",
   "execution_count": 3,
   "metadata": {
    "ExecuteTime": {
     "end_time": "2017-07-20T15:44:37.915750Z",
     "start_time": "2017-07-20T15:44:37.707768Z"
    },
    "scrolled": true
   },
   "outputs": [
    {
     "name": "stderr",
     "output_type": "stream",
     "text": [
      "2017-07-20 18:44:37,709 : INFO : loading Dictionary object from ../data/fltrd_nbelow10_nabove0.3_keepn100000.dict\n",
      "2017-07-20 18:44:37,769 : INFO : loaded ../data/fltrd_nbelow10_nabove0.3_keepn100000.dict\n",
      "2017-07-20 18:44:37,908 : INFO : loaded corpus index from ../data/fltrd_nbelow10_nabove0.3_keepn100000_corpus.mm.index\n",
      "2017-07-20 18:44:37,909 : INFO : initializing corpus reader from ../data/fltrd_nbelow10_nabove0.3_keepn100000_corpus.mm\n",
      "2017-07-20 18:44:37,911 : INFO : accepted corpus with 1194429 documents, 100000 features, 182984581 non-zero entries\n"
     ]
    },
    {
     "name": "stdout",
     "output_type": "stream",
     "text": [
      "CPU times: user 164 ms, sys: 40 ms, total: 204 ms\n",
      "Wall time: 203 ms\n"
     ]
    }
   ],
   "source": [
    "%%time\n",
    "dictionary = corpora.Dictionary.load(join(DATA_FOLDER, 'fltrd_nbelow10_nabove0.3_keepn100000.dict'))\n",
    "corpus = corpora.MmCorpus(join(DATA_FOLDER, 'fltrd_nbelow10_nabove0.3_keepn100000_corpus.mm'))"
   ]
  },
  {
   "cell_type": "code",
   "execution_count": 4,
   "metadata": {
    "ExecuteTime": {
     "end_time": "2017-07-20T15:44:37.920776Z",
     "start_time": "2017-07-20T15:44:37.917406Z"
    }
   },
   "outputs": [
    {
     "name": "stdout",
     "output_type": "stream",
     "text": [
      "MmCorpus(1194429 documents, 100000 features, 182984581 non-zero entries)\n"
     ]
    }
   ],
   "source": [
    "print(corpus)"
   ]
  },
  {
   "cell_type": "code",
   "execution_count": 5,
   "metadata": {
    "ExecuteTime": {
     "end_time": "2017-07-20T15:52:53.484688Z",
     "start_time": "2017-07-20T15:44:37.922292Z"
    },
    "scrolled": true
   },
   "outputs": [
    {
     "name": "stderr",
     "output_type": "stream",
     "text": [
      "2017-07-20 18:44:37,926 : INFO : collecting document frequencies\n",
      "2017-07-20 18:44:37,929 : INFO : PROGRESS: processing document #0\n",
      "2017-07-20 18:44:45,282 : INFO : PROGRESS: processing document #10000\n",
      "2017-07-20 18:44:52,596 : INFO : PROGRESS: processing document #20000\n",
      "2017-07-20 18:44:59,948 : INFO : PROGRESS: processing document #30000\n",
      "2017-07-20 18:45:07,141 : INFO : PROGRESS: processing document #40000\n",
      "2017-07-20 18:45:14,241 : INFO : PROGRESS: processing document #50000\n",
      "2017-07-20 18:45:21,276 : INFO : PROGRESS: processing document #60000\n",
      "2017-07-20 18:45:28,383 : INFO : PROGRESS: processing document #70000\n",
      "2017-07-20 18:45:35,627 : INFO : PROGRESS: processing document #80000\n",
      "2017-07-20 18:45:42,794 : INFO : PROGRESS: processing document #90000\n",
      "2017-07-20 18:45:50,206 : INFO : PROGRESS: processing document #100000\n",
      "2017-07-20 18:45:57,476 : INFO : PROGRESS: processing document #110000\n",
      "2017-07-20 18:46:04,855 : INFO : PROGRESS: processing document #120000\n",
      "2017-07-20 18:46:12,342 : INFO : PROGRESS: processing document #130000\n",
      "2017-07-20 18:46:19,559 : INFO : PROGRESS: processing document #140000\n",
      "2017-07-20 18:46:26,802 : INFO : PROGRESS: processing document #150000\n",
      "2017-07-20 18:46:34,015 : INFO : PROGRESS: processing document #160000\n",
      "2017-07-20 18:46:41,227 : INFO : PROGRESS: processing document #170000\n",
      "2017-07-20 18:46:48,610 : INFO : PROGRESS: processing document #180000\n",
      "2017-07-20 18:46:55,819 : INFO : PROGRESS: processing document #190000\n",
      "2017-07-20 18:47:03,001 : INFO : PROGRESS: processing document #200000\n",
      "2017-07-20 18:47:10,078 : INFO : PROGRESS: processing document #210000\n",
      "2017-07-20 18:47:17,434 : INFO : PROGRESS: processing document #220000\n",
      "2017-07-20 18:47:24,717 : INFO : PROGRESS: processing document #230000\n",
      "2017-07-20 18:47:31,877 : INFO : PROGRESS: processing document #240000\n",
      "2017-07-20 18:47:39,049 : INFO : PROGRESS: processing document #250000\n",
      "2017-07-20 18:47:46,388 : INFO : PROGRESS: processing document #260000\n",
      "2017-07-20 18:47:53,909 : INFO : PROGRESS: processing document #270000\n",
      "2017-07-20 18:48:01,336 : INFO : PROGRESS: processing document #280000\n",
      "2017-07-20 18:48:08,651 : INFO : PROGRESS: processing document #290000\n",
      "2017-07-20 18:48:18,327 : INFO : PROGRESS: processing document #300000\n",
      "2017-07-20 18:48:25,537 : INFO : PROGRESS: processing document #310000\n",
      "2017-07-20 18:48:32,788 : INFO : PROGRESS: processing document #320000\n",
      "2017-07-20 18:48:40,091 : INFO : PROGRESS: processing document #330000\n",
      "2017-07-20 18:48:47,234 : INFO : PROGRESS: processing document #340000\n",
      "2017-07-20 18:48:54,432 : INFO : PROGRESS: processing document #350000\n",
      "2017-07-20 18:49:01,588 : INFO : PROGRESS: processing document #360000\n",
      "2017-07-20 18:49:08,831 : INFO : PROGRESS: processing document #370000\n",
      "2017-07-20 18:49:15,999 : INFO : PROGRESS: processing document #380000\n",
      "2017-07-20 18:49:23,137 : INFO : PROGRESS: processing document #390000\n",
      "2017-07-20 18:49:30,242 : INFO : PROGRESS: processing document #400000\n",
      "2017-07-20 18:49:37,436 : INFO : PROGRESS: processing document #410000\n",
      "2017-07-20 18:49:44,561 : INFO : PROGRESS: processing document #420000\n",
      "2017-07-20 18:49:51,717 : INFO : PROGRESS: processing document #430000\n",
      "2017-07-20 18:49:58,875 : INFO : PROGRESS: processing document #440000\n",
      "2017-07-20 18:50:06,017 : INFO : PROGRESS: processing document #450000\n",
      "2017-07-20 18:50:13,105 : INFO : PROGRESS: processing document #460000\n",
      "2017-07-20 18:50:20,260 : INFO : PROGRESS: processing document #470000\n",
      "2017-07-20 18:50:27,433 : INFO : PROGRESS: processing document #480000\n",
      "2017-07-20 18:50:34,573 : INFO : PROGRESS: processing document #490000\n",
      "2017-07-20 18:50:41,678 : INFO : PROGRESS: processing document #500000\n",
      "2017-07-20 18:50:48,762 : INFO : PROGRESS: processing document #510000\n",
      "2017-07-20 18:50:55,886 : INFO : PROGRESS: processing document #520000\n",
      "2017-07-20 18:51:03,078 : INFO : PROGRESS: processing document #530000\n",
      "2017-07-20 18:51:10,223 : INFO : PROGRESS: processing document #540000\n",
      "2017-07-20 18:51:17,364 : INFO : PROGRESS: processing document #550000\n",
      "2017-07-20 18:51:24,185 : INFO : PROGRESS: processing document #560000\n",
      "2017-07-20 18:51:25,568 : INFO : PROGRESS: processing document #570000\n",
      "2017-07-20 18:51:26,917 : INFO : PROGRESS: processing document #580000\n",
      "2017-07-20 18:51:28,284 : INFO : PROGRESS: processing document #590000\n",
      "2017-07-20 18:51:29,630 : INFO : PROGRESS: processing document #600000\n",
      "2017-07-20 18:51:30,975 : INFO : PROGRESS: processing document #610000\n",
      "2017-07-20 18:51:32,326 : INFO : PROGRESS: processing document #620000\n",
      "2017-07-20 18:51:33,683 : INFO : PROGRESS: processing document #630000\n",
      "2017-07-20 18:51:35,073 : INFO : PROGRESS: processing document #640000\n",
      "2017-07-20 18:51:36,435 : INFO : PROGRESS: processing document #650000\n",
      "2017-07-20 18:51:37,834 : INFO : PROGRESS: processing document #660000\n",
      "2017-07-20 18:51:39,198 : INFO : PROGRESS: processing document #670000\n",
      "2017-07-20 18:51:40,573 : INFO : PROGRESS: processing document #680000\n",
      "2017-07-20 18:51:41,934 : INFO : PROGRESS: processing document #690000\n",
      "2017-07-20 18:51:43,302 : INFO : PROGRESS: processing document #700000\n",
      "2017-07-20 18:51:44,692 : INFO : PROGRESS: processing document #710000\n",
      "2017-07-20 18:51:46,074 : INFO : PROGRESS: processing document #720000\n",
      "2017-07-20 18:51:47,449 : INFO : PROGRESS: processing document #730000\n",
      "2017-07-20 18:51:48,824 : INFO : PROGRESS: processing document #740000\n",
      "2017-07-20 18:51:50,191 : INFO : PROGRESS: processing document #750000\n",
      "2017-07-20 18:51:51,580 : INFO : PROGRESS: processing document #760000\n",
      "2017-07-20 18:51:52,948 : INFO : PROGRESS: processing document #770000\n",
      "2017-07-20 18:51:54,306 : INFO : PROGRESS: processing document #780000\n",
      "2017-07-20 18:51:55,688 : INFO : PROGRESS: processing document #790000\n",
      "2017-07-20 18:51:57,054 : INFO : PROGRESS: processing document #800000\n",
      "2017-07-20 18:51:58,439 : INFO : PROGRESS: processing document #810000\n",
      "2017-07-20 18:51:59,820 : INFO : PROGRESS: processing document #820000\n",
      "2017-07-20 18:52:01,213 : INFO : PROGRESS: processing document #830000\n",
      "2017-07-20 18:52:02,589 : INFO : PROGRESS: processing document #840000\n",
      "2017-07-20 18:52:03,964 : INFO : PROGRESS: processing document #850000\n",
      "2017-07-20 18:52:05,325 : INFO : PROGRESS: processing document #860000\n",
      "2017-07-20 18:52:06,692 : INFO : PROGRESS: processing document #870000\n",
      "2017-07-20 18:52:08,069 : INFO : PROGRESS: processing document #880000\n",
      "2017-07-20 18:52:09,424 : INFO : PROGRESS: processing document #890000\n",
      "2017-07-20 18:52:10,786 : INFO : PROGRESS: processing document #900000\n",
      "2017-07-20 18:52:12,133 : INFO : PROGRESS: processing document #910000\n",
      "2017-07-20 18:52:13,501 : INFO : PROGRESS: processing document #920000\n",
      "2017-07-20 18:52:14,890 : INFO : PROGRESS: processing document #930000\n",
      "2017-07-20 18:52:16,260 : INFO : PROGRESS: processing document #940000\n",
      "2017-07-20 18:52:17,632 : INFO : PROGRESS: processing document #950000\n",
      "2017-07-20 18:52:18,998 : INFO : PROGRESS: processing document #960000\n",
      "2017-07-20 18:52:20,369 : INFO : PROGRESS: processing document #970000\n",
      "2017-07-20 18:52:21,732 : INFO : PROGRESS: processing document #980000\n",
      "2017-07-20 18:52:23,092 : INFO : PROGRESS: processing document #990000\n",
      "2017-07-20 18:52:24,454 : INFO : PROGRESS: processing document #1000000\n",
      "2017-07-20 18:52:25,831 : INFO : PROGRESS: processing document #1010000\n",
      "2017-07-20 18:52:27,175 : INFO : PROGRESS: processing document #1020000\n",
      "2017-07-20 18:52:28,562 : INFO : PROGRESS: processing document #1030000\n",
      "2017-07-20 18:52:31,618 : INFO : PROGRESS: processing document #1040000\n",
      "2017-07-20 18:52:36,698 : INFO : PROGRESS: processing document #1050000\n",
      "2017-07-20 18:52:39,275 : INFO : PROGRESS: processing document #1060000\n",
      "2017-07-20 18:52:40,199 : INFO : PROGRESS: processing document #1070000\n",
      "2017-07-20 18:52:41,118 : INFO : PROGRESS: processing document #1080000\n",
      "2017-07-20 18:52:42,039 : INFO : PROGRESS: processing document #1090000\n",
      "2017-07-20 18:52:42,973 : INFO : PROGRESS: processing document #1100000\n",
      "2017-07-20 18:52:43,893 : INFO : PROGRESS: processing document #1110000\n",
      "2017-07-20 18:52:44,823 : INFO : PROGRESS: processing document #1120000\n",
      "2017-07-20 18:52:45,753 : INFO : PROGRESS: processing document #1130000\n",
      "2017-07-20 18:52:46,666 : INFO : PROGRESS: processing document #1140000\n"
     ]
    },
    {
     "name": "stderr",
     "output_type": "stream",
     "text": [
      "2017-07-20 18:52:47,596 : INFO : PROGRESS: processing document #1150000\n",
      "2017-07-20 18:52:48,522 : INFO : PROGRESS: processing document #1160000\n",
      "2017-07-20 18:52:49,452 : INFO : PROGRESS: processing document #1170000\n",
      "2017-07-20 18:52:50,371 : INFO : PROGRESS: processing document #1180000\n",
      "2017-07-20 18:52:51,305 : INFO : PROGRESS: processing document #1190000\n",
      "2017-07-20 18:52:53,395 : INFO : calculating IDF weights for 1194429 documents and 99999 features (182984581 matrix non-zeros)\n",
      "2017-07-20 18:52:53,453 : INFO : saving TfidfModel object under ../data/tfidf_fltrd_nbelow10_nabove0.3_keepn100000.model, separately None\n",
      "2017-07-20 18:52:53,481 : INFO : saved ../data/tfidf_fltrd_nbelow10_nabove0.3_keepn100000.model\n"
     ]
    },
    {
     "name": "stdout",
     "output_type": "stream",
     "text": [
      "CPU times: user 8min 15s, sys: 1.57 s, total: 8min 16s\n",
      "Wall time: 8min 15s\n"
     ]
    }
   ],
   "source": [
    "%%time\n",
    "fmodel = join(DATA_FOLDER, 'tfidf_fltrd_nbelow10_nabove0.3_keepn100000.model')\n",
    "if not path.exists(fmodel):    \n",
    "    tfidf = models.TfidfModel(corpus)\n",
    "    tfidf.save(fmodel)\n",
    "else:\n",
    "    tfidf = models.TfidfModel.load(fmodel)"
   ]
  },
  {
   "cell_type": "code",
   "execution_count": 6,
   "metadata": {
    "ExecuteTime": {
     "end_time": "2017-07-20T15:52:53.489877Z",
     "start_time": "2017-07-20T15:52:53.486561Z"
    },
    "collapsed": true
   },
   "outputs": [],
   "source": [
    "# %%time\n",
    "# index = similarities.SparseMatrixSimilarity(tfidf[corpus], num_features=len(dictionary), num_best=200)"
   ]
  },
  {
   "cell_type": "code",
   "execution_count": 7,
   "metadata": {
    "ExecuteTime": {
     "end_time": "2017-07-20T16:14:00.848141Z",
     "start_time": "2017-07-20T15:52:53.491461Z"
    },
    "scrolled": true
   },
   "outputs": [
    {
     "name": "stderr",
     "output_type": "stream",
     "text": [
      "2017-07-20 18:52:53,500 : INFO : starting similarity index under ../data/sim_index2/sim\n",
      "2017-07-20 18:53:06,057 : INFO : PROGRESS: fresh_shard size=10000\n",
      "2017-07-20 18:53:18,627 : INFO : PROGRESS: fresh_shard size=20000\n",
      "2017-07-20 18:53:30,939 : INFO : PROGRESS: fresh_shard size=30000\n",
      "2017-07-20 18:53:43,176 : INFO : PROGRESS: fresh_shard size=40000\n",
      "2017-07-20 18:53:55,444 : INFO : PROGRESS: fresh_shard size=50000\n",
      "2017-07-20 18:54:07,675 : INFO : PROGRESS: fresh_shard size=60000\n",
      "2017-07-20 18:54:20,216 : INFO : PROGRESS: fresh_shard size=70000\n",
      "2017-07-20 18:54:32,510 : INFO : PROGRESS: fresh_shard size=80000\n",
      "2017-07-20 18:54:45,152 : INFO : PROGRESS: fresh_shard size=90000\n",
      "2017-07-20 18:54:57,764 : INFO : PROGRESS: fresh_shard size=100000\n",
      "2017-07-20 18:55:10,165 : INFO : PROGRESS: fresh_shard size=110000\n",
      "2017-07-20 18:55:22,591 : INFO : PROGRESS: fresh_shard size=120000\n",
      "2017-07-20 18:55:34,817 : INFO : PROGRESS: fresh_shard size=130000\n",
      "2017-07-20 18:55:47,205 : INFO : PROGRESS: fresh_shard size=140000\n",
      "2017-07-20 18:55:59,358 : INFO : PROGRESS: fresh_shard size=150000\n",
      "2017-07-20 18:56:11,646 : INFO : PROGRESS: fresh_shard size=160000\n",
      "2017-07-20 18:56:23,949 : INFO : PROGRESS: fresh_shard size=170000\n",
      "2017-07-20 18:56:36,181 : INFO : PROGRESS: fresh_shard size=180000\n",
      "2017-07-20 18:56:48,530 : INFO : PROGRESS: fresh_shard size=190000\n",
      "2017-07-20 18:57:00,763 : INFO : PROGRESS: fresh_shard size=200000\n",
      "2017-07-20 18:57:13,148 : INFO : PROGRESS: fresh_shard size=210000\n",
      "2017-07-20 18:57:25,666 : INFO : PROGRESS: fresh_shard size=220000\n",
      "2017-07-20 18:57:38,118 : INFO : PROGRESS: fresh_shard size=230000\n",
      "2017-07-20 18:57:50,730 : INFO : PROGRESS: fresh_shard size=240000\n",
      "2017-07-20 18:58:03,120 : INFO : PROGRESS: fresh_shard size=250000\n",
      "2017-07-20 18:58:15,593 : INFO : PROGRESS: fresh_shard size=260000\n",
      "2017-07-20 18:58:28,109 : INFO : PROGRESS: fresh_shard size=270000\n",
      "2017-07-20 18:58:40,439 : INFO : PROGRESS: fresh_shard size=280000\n",
      "2017-07-20 18:58:53,096 : INFO : PROGRESS: fresh_shard size=290000\n",
      "2017-07-20 18:59:05,406 : INFO : PROGRESS: fresh_shard size=300000\n",
      "2017-07-20 18:59:17,792 : INFO : PROGRESS: fresh_shard size=310000\n",
      "2017-07-20 18:59:30,230 : INFO : PROGRESS: fresh_shard size=320000\n",
      "2017-07-20 18:59:39,692 : INFO : creating sparse index\n",
      "2017-07-20 18:59:39,692 : INFO : creating sparse matrix from corpus\n",
      "2017-07-20 18:59:39,694 : INFO : PROGRESS: at document #0/327680\n",
      "2017-07-20 18:59:43,635 : INFO : PROGRESS: at document #10000/327680\n",
      "2017-07-20 18:59:47,531 : INFO : PROGRESS: at document #20000/327680\n",
      "2017-07-20 18:59:51,395 : INFO : PROGRESS: at document #30000/327680\n",
      "2017-07-20 18:59:55,205 : INFO : PROGRESS: at document #40000/327680\n",
      "2017-07-20 18:59:59,107 : INFO : PROGRESS: at document #50000/327680\n",
      "2017-07-20 19:00:02,951 : INFO : PROGRESS: at document #60000/327680\n",
      "2017-07-20 19:00:06,832 : INFO : PROGRESS: at document #70000/327680\n",
      "2017-07-20 19:00:10,698 : INFO : PROGRESS: at document #80000/327680\n",
      "2017-07-20 19:00:14,578 : INFO : PROGRESS: at document #90000/327680\n",
      "2017-07-20 19:00:18,514 : INFO : PROGRESS: at document #100000/327680\n",
      "2017-07-20 19:00:22,399 : INFO : PROGRESS: at document #110000/327680\n",
      "2017-07-20 19:00:26,275 : INFO : PROGRESS: at document #120000/327680\n",
      "2017-07-20 19:00:30,099 : INFO : PROGRESS: at document #130000/327680\n",
      "2017-07-20 19:00:33,973 : INFO : PROGRESS: at document #140000/327680\n",
      "2017-07-20 19:00:37,803 : INFO : PROGRESS: at document #150000/327680\n",
      "2017-07-20 19:00:41,661 : INFO : PROGRESS: at document #160000/327680\n",
      "2017-07-20 19:00:45,529 : INFO : PROGRESS: at document #170000/327680\n",
      "2017-07-20 19:00:49,373 : INFO : PROGRESS: at document #180000/327680\n",
      "2017-07-20 19:00:53,234 : INFO : PROGRESS: at document #190000/327680\n",
      "2017-07-20 19:00:57,082 : INFO : PROGRESS: at document #200000/327680\n",
      "2017-07-20 19:01:00,887 : INFO : PROGRESS: at document #210000/327680\n",
      "2017-07-20 19:01:04,859 : INFO : PROGRESS: at document #220000/327680\n",
      "2017-07-20 19:01:08,771 : INFO : PROGRESS: at document #230000/327680\n",
      "2017-07-20 19:01:12,681 : INFO : PROGRESS: at document #240000/327680\n",
      "2017-07-20 19:01:16,581 : INFO : PROGRESS: at document #250000/327680\n",
      "2017-07-20 19:01:20,510 : INFO : PROGRESS: at document #260000/327680\n",
      "2017-07-20 19:01:24,400 : INFO : PROGRESS: at document #270000/327680\n",
      "2017-07-20 19:01:28,252 : INFO : PROGRESS: at document #280000/327680\n",
      "2017-07-20 19:01:32,150 : INFO : PROGRESS: at document #290000/327680\n",
      "2017-07-20 19:01:35,980 : INFO : PROGRESS: at document #300000/327680\n",
      "2017-07-20 19:01:39,843 : INFO : PROGRESS: at document #310000/327680\n",
      "2017-07-20 19:01:43,752 : INFO : PROGRESS: at document #320000/327680\n",
      "2017-07-20 19:01:46,768 : INFO : created <327680x100000 sparse matrix of type '<class 'numpy.float32'>'\n",
      "\twith 87951893 stored elements in Compressed Sparse Row format>\n",
      "2017-07-20 19:01:46,769 : INFO : creating sparse shard #0\n",
      "2017-07-20 19:01:46,770 : INFO : saving index shard to ../data/sim_index2/sim.0\n",
      "2017-07-20 19:01:46,770 : INFO : saving SparseMatrixSimilarity object under ../data/sim_index2/sim.0, separately None\n",
      "2017-07-20 19:01:46,771 : INFO : storing scipy.sparse array 'index' under ../data/sim_index2/sim.0.index.npy\n",
      "2017-07-20 19:01:49,209 : INFO : saved ../data/sim_index2/sim.0\n",
      "2017-07-20 19:01:49,210 : INFO : loading SparseMatrixSimilarity object from ../data/sim_index2/sim.0\n",
      "2017-07-20 19:01:49,210 : INFO : loading index from ../data/sim_index2/sim.0.index.npy with mmap=r\n",
      "2017-07-20 19:01:49,212 : INFO : loaded ../data/sim_index2/sim.0\n",
      "2017-07-20 19:01:49,662 : INFO : PROGRESS: fresh_shard size=0\n",
      "2017-07-20 19:02:01,940 : INFO : PROGRESS: fresh_shard size=10000\n",
      "2017-07-20 19:02:14,238 : INFO : PROGRESS: fresh_shard size=20000\n",
      "2017-07-20 19:02:26,657 : INFO : PROGRESS: fresh_shard size=30000\n",
      "2017-07-20 19:02:39,040 : INFO : PROGRESS: fresh_shard size=40000\n",
      "2017-07-20 19:02:51,493 : INFO : PROGRESS: fresh_shard size=50000\n",
      "2017-07-20 19:03:04,260 : INFO : PROGRESS: fresh_shard size=60000\n",
      "2017-07-20 19:03:16,670 : INFO : PROGRESS: fresh_shard size=70000\n",
      "2017-07-20 19:03:29,145 : INFO : PROGRESS: fresh_shard size=80000\n",
      "2017-07-20 19:03:41,544 : INFO : PROGRESS: fresh_shard size=90000\n",
      "2017-07-20 19:03:53,965 : INFO : PROGRESS: fresh_shard size=100000\n",
      "2017-07-20 19:04:06,335 : INFO : PROGRESS: fresh_shard size=110000\n",
      "2017-07-20 19:04:18,889 : INFO : PROGRESS: fresh_shard size=120000\n",
      "2017-07-20 19:04:31,251 : INFO : PROGRESS: fresh_shard size=130000\n",
      "2017-07-20 19:04:43,549 : INFO : PROGRESS: fresh_shard size=140000\n",
      "2017-07-20 19:04:56,052 : INFO : PROGRESS: fresh_shard size=150000\n",
      "2017-07-20 19:05:08,321 : INFO : PROGRESS: fresh_shard size=160000\n",
      "2017-07-20 19:05:20,917 : INFO : PROGRESS: fresh_shard size=170000\n",
      "2017-07-20 19:05:33,174 : INFO : PROGRESS: fresh_shard size=180000\n",
      "2017-07-20 19:05:45,380 : INFO : PROGRESS: fresh_shard size=190000\n",
      "2017-07-20 19:05:57,875 : INFO : PROGRESS: fresh_shard size=200000\n",
      "2017-07-20 19:06:10,275 : INFO : PROGRESS: fresh_shard size=210000\n",
      "2017-07-20 19:06:22,752 : INFO : PROGRESS: fresh_shard size=220000\n",
      "2017-07-20 19:06:35,107 : INFO : PROGRESS: fresh_shard size=230000\n",
      "2017-07-20 19:06:41,158 : INFO : PROGRESS: fresh_shard size=240000\n",
      "2017-07-20 19:06:45,775 : INFO : PROGRESS: fresh_shard size=250000\n",
      "2017-07-20 19:06:50,407 : INFO : PROGRESS: fresh_shard size=260000\n",
      "2017-07-20 19:06:55,153 : INFO : PROGRESS: fresh_shard size=270000\n",
      "2017-07-20 19:06:59,777 : INFO : PROGRESS: fresh_shard size=280000\n",
      "2017-07-20 19:07:04,391 : INFO : PROGRESS: fresh_shard size=290000\n",
      "2017-07-20 19:07:09,012 : INFO : PROGRESS: fresh_shard size=300000\n",
      "2017-07-20 19:07:13,653 : INFO : PROGRESS: fresh_shard size=310000\n",
      "2017-07-20 19:07:18,289 : INFO : PROGRESS: fresh_shard size=320000\n",
      "2017-07-20 19:07:21,839 : INFO : creating sparse index\n",
      "2017-07-20 19:07:21,840 : INFO : creating sparse matrix from corpus\n",
      "2017-07-20 19:07:21,841 : INFO : PROGRESS: at document #0/327680\n",
      "2017-07-20 19:07:25,789 : INFO : PROGRESS: at document #10000/327680\n",
      "2017-07-20 19:07:29,708 : INFO : PROGRESS: at document #20000/327680\n",
      "2017-07-20 19:07:33,578 : INFO : PROGRESS: at document #30000/327680\n",
      "2017-07-20 19:07:37,458 : INFO : PROGRESS: at document #40000/327680\n",
      "2017-07-20 19:07:41,472 : INFO : PROGRESS: at document #50000/327680\n"
     ]
    },
    {
     "name": "stderr",
     "output_type": "stream",
     "text": [
      "2017-07-20 19:07:45,373 : INFO : PROGRESS: at document #60000/327680\n",
      "2017-07-20 19:07:49,274 : INFO : PROGRESS: at document #70000/327680\n",
      "2017-07-20 19:07:53,256 : INFO : PROGRESS: at document #80000/327680\n",
      "2017-07-20 19:07:57,185 : INFO : PROGRESS: at document #90000/327680\n",
      "2017-07-20 19:08:01,143 : INFO : PROGRESS: at document #100000/327680\n",
      "2017-07-20 19:08:05,075 : INFO : PROGRESS: at document #110000/327680\n",
      "2017-07-20 19:08:09,032 : INFO : PROGRESS: at document #120000/327680\n",
      "2017-07-20 19:08:12,940 : INFO : PROGRESS: at document #130000/327680\n",
      "2017-07-20 19:08:16,856 : INFO : PROGRESS: at document #140000/327680\n",
      "2017-07-20 19:08:20,783 : INFO : PROGRESS: at document #150000/327680\n",
      "2017-07-20 19:08:24,693 : INFO : PROGRESS: at document #160000/327680\n",
      "2017-07-20 19:08:28,661 : INFO : PROGRESS: at document #170000/327680\n",
      "2017-07-20 19:08:32,518 : INFO : PROGRESS: at document #180000/327680\n",
      "2017-07-20 19:08:36,382 : INFO : PROGRESS: at document #190000/327680\n",
      "2017-07-20 19:08:40,401 : INFO : PROGRESS: at document #200000/327680\n",
      "2017-07-20 19:08:44,322 : INFO : PROGRESS: at document #210000/327680\n",
      "2017-07-20 19:08:48,317 : INFO : PROGRESS: at document #220000/327680\n",
      "2017-07-20 19:08:52,277 : INFO : PROGRESS: at document #230000/327680\n",
      "2017-07-20 19:08:53,640 : INFO : PROGRESS: at document #240000/327680\n",
      "2017-07-20 19:08:54,443 : INFO : PROGRESS: at document #250000/327680\n",
      "2017-07-20 19:08:55,255 : INFO : PROGRESS: at document #260000/327680\n",
      "2017-07-20 19:08:56,057 : INFO : PROGRESS: at document #270000/327680\n",
      "2017-07-20 19:08:56,852 : INFO : PROGRESS: at document #280000/327680\n",
      "2017-07-20 19:08:57,651 : INFO : PROGRESS: at document #290000/327680\n",
      "2017-07-20 19:08:58,446 : INFO : PROGRESS: at document #300000/327680\n",
      "2017-07-20 19:08:59,252 : INFO : PROGRESS: at document #310000/327680\n",
      "2017-07-20 19:09:00,044 : INFO : PROGRESS: at document #320000/327680\n",
      "2017-07-20 19:09:00,702 : INFO : created <327680x100000 sparse matrix of type '<class 'numpy.float32'>'\n",
      "\twith 67197518 stored elements in Compressed Sparse Row format>\n",
      "2017-07-20 19:09:00,703 : INFO : creating sparse shard #1\n",
      "2017-07-20 19:09:00,704 : INFO : saving index shard to ../data/sim_index2/sim.1\n",
      "2017-07-20 19:09:00,705 : INFO : saving SparseMatrixSimilarity object under ../data/sim_index2/sim.1, separately None\n",
      "2017-07-20 19:09:00,706 : INFO : storing scipy.sparse array 'index' under ../data/sim_index2/sim.1.index.npy\n",
      "2017-07-20 19:09:02,499 : INFO : saved ../data/sim_index2/sim.1\n",
      "2017-07-20 19:09:02,502 : INFO : loading SparseMatrixSimilarity object from ../data/sim_index2/sim.1\n",
      "2017-07-20 19:09:02,504 : INFO : loading index from ../data/sim_index2/sim.1.index.npy with mmap=r\n",
      "2017-07-20 19:09:02,508 : INFO : loaded ../data/sim_index2/sim.1\n",
      "2017-07-20 19:09:02,915 : INFO : PROGRESS: fresh_shard size=0\n",
      "2017-07-20 19:09:07,617 : INFO : PROGRESS: fresh_shard size=10000\n",
      "2017-07-20 19:09:12,230 : INFO : PROGRESS: fresh_shard size=20000\n",
      "2017-07-20 19:09:16,874 : INFO : PROGRESS: fresh_shard size=30000\n",
      "2017-07-20 19:09:21,581 : INFO : PROGRESS: fresh_shard size=40000\n",
      "2017-07-20 19:09:26,216 : INFO : PROGRESS: fresh_shard size=50000\n",
      "2017-07-20 19:09:30,836 : INFO : PROGRESS: fresh_shard size=60000\n",
      "2017-07-20 19:09:35,552 : INFO : PROGRESS: fresh_shard size=70000\n",
      "2017-07-20 19:09:40,155 : INFO : PROGRESS: fresh_shard size=80000\n",
      "2017-07-20 19:09:44,782 : INFO : PROGRESS: fresh_shard size=90000\n",
      "2017-07-20 19:09:49,417 : INFO : PROGRESS: fresh_shard size=100000\n",
      "2017-07-20 19:09:54,135 : INFO : PROGRESS: fresh_shard size=110000\n",
      "2017-07-20 19:09:58,899 : INFO : PROGRESS: fresh_shard size=120000\n",
      "2017-07-20 19:10:03,614 : INFO : PROGRESS: fresh_shard size=130000\n",
      "2017-07-20 19:10:08,284 : INFO : PROGRESS: fresh_shard size=140000\n",
      "2017-07-20 19:10:13,031 : INFO : PROGRESS: fresh_shard size=150000\n",
      "2017-07-20 19:10:17,677 : INFO : PROGRESS: fresh_shard size=160000\n",
      "2017-07-20 19:10:22,351 : INFO : PROGRESS: fresh_shard size=170000\n",
      "2017-07-20 19:10:26,973 : INFO : PROGRESS: fresh_shard size=180000\n",
      "2017-07-20 19:10:31,618 : INFO : PROGRESS: fresh_shard size=190000\n",
      "2017-07-20 19:10:36,325 : INFO : PROGRESS: fresh_shard size=200000\n",
      "2017-07-20 19:10:40,948 : INFO : PROGRESS: fresh_shard size=210000\n",
      "2017-07-20 19:10:45,591 : INFO : PROGRESS: fresh_shard size=220000\n",
      "2017-07-20 19:10:50,220 : INFO : PROGRESS: fresh_shard size=230000\n",
      "2017-07-20 19:10:54,864 : INFO : PROGRESS: fresh_shard size=240000\n",
      "2017-07-20 19:10:59,471 : INFO : PROGRESS: fresh_shard size=250000\n",
      "2017-07-20 19:11:04,172 : INFO : PROGRESS: fresh_shard size=260000\n",
      "2017-07-20 19:11:08,852 : INFO : PROGRESS: fresh_shard size=270000\n",
      "2017-07-20 19:11:13,466 : INFO : PROGRESS: fresh_shard size=280000\n",
      "2017-07-20 19:11:18,097 : INFO : PROGRESS: fresh_shard size=290000\n",
      "2017-07-20 19:11:22,705 : INFO : PROGRESS: fresh_shard size=300000\n",
      "2017-07-20 19:11:27,279 : INFO : PROGRESS: fresh_shard size=310000\n",
      "2017-07-20 19:11:31,997 : INFO : PROGRESS: fresh_shard size=320000\n",
      "2017-07-20 19:11:35,529 : INFO : creating sparse index\n",
      "2017-07-20 19:11:35,530 : INFO : creating sparse matrix from corpus\n",
      "2017-07-20 19:11:35,531 : INFO : PROGRESS: at document #0/327680\n",
      "2017-07-20 19:11:36,330 : INFO : PROGRESS: at document #10000/327680\n",
      "2017-07-20 19:11:37,123 : INFO : PROGRESS: at document #20000/327680\n",
      "2017-07-20 19:11:37,915 : INFO : PROGRESS: at document #30000/327680\n",
      "2017-07-20 19:11:38,709 : INFO : PROGRESS: at document #40000/327680\n",
      "2017-07-20 19:11:39,513 : INFO : PROGRESS: at document #50000/327680\n",
      "2017-07-20 19:11:40,315 : INFO : PROGRESS: at document #60000/327680\n",
      "2017-07-20 19:11:41,106 : INFO : PROGRESS: at document #70000/327680\n",
      "2017-07-20 19:11:41,903 : INFO : PROGRESS: at document #80000/327680\n",
      "2017-07-20 19:11:42,689 : INFO : PROGRESS: at document #90000/327680\n",
      "2017-07-20 19:11:43,493 : INFO : PROGRESS: at document #100000/327680\n",
      "2017-07-20 19:11:44,283 : INFO : PROGRESS: at document #110000/327680\n",
      "2017-07-20 19:11:45,068 : INFO : PROGRESS: at document #120000/327680\n",
      "2017-07-20 19:11:45,864 : INFO : PROGRESS: at document #130000/327680\n",
      "2017-07-20 19:11:46,665 : INFO : PROGRESS: at document #140000/327680\n",
      "2017-07-20 19:11:47,453 : INFO : PROGRESS: at document #150000/327680\n",
      "2017-07-20 19:11:48,252 : INFO : PROGRESS: at document #160000/327680\n",
      "2017-07-20 19:11:49,058 : INFO : PROGRESS: at document #170000/327680\n",
      "2017-07-20 19:11:49,845 : INFO : PROGRESS: at document #180000/327680\n",
      "2017-07-20 19:11:50,650 : INFO : PROGRESS: at document #190000/327680\n",
      "2017-07-20 19:11:51,437 : INFO : PROGRESS: at document #200000/327680\n",
      "2017-07-20 19:11:52,232 : INFO : PROGRESS: at document #210000/327680\n",
      "2017-07-20 19:11:53,023 : INFO : PROGRESS: at document #220000/327680\n",
      "2017-07-20 19:11:53,804 : INFO : PROGRESS: at document #230000/327680\n",
      "2017-07-20 19:11:54,588 : INFO : PROGRESS: at document #240000/327680\n",
      "2017-07-20 19:11:55,376 : INFO : PROGRESS: at document #250000/327680\n",
      "2017-07-20 19:11:56,154 : INFO : PROGRESS: at document #260000/327680\n",
      "2017-07-20 19:11:56,949 : INFO : PROGRESS: at document #270000/327680\n",
      "2017-07-20 19:11:57,731 : INFO : PROGRESS: at document #280000/327680\n",
      "2017-07-20 19:11:58,522 : INFO : PROGRESS: at document #290000/327680\n",
      "2017-07-20 19:11:59,315 : INFO : PROGRESS: at document #300000/327680\n",
      "2017-07-20 19:12:00,105 : INFO : PROGRESS: at document #310000/327680\n",
      "2017-07-20 19:12:00,898 : INFO : PROGRESS: at document #320000/327680\n",
      "2017-07-20 19:12:01,556 : INFO : created <327680x100000 sparse matrix of type '<class 'numpy.float32'>'\n",
      "\twith 16419788 stored elements in Compressed Sparse Row format>\n",
      "2017-07-20 19:12:01,556 : INFO : creating sparse shard #2\n",
      "2017-07-20 19:12:01,557 : INFO : saving index shard to ../data/sim_index2/sim.2\n",
      "2017-07-20 19:12:01,558 : INFO : saving SparseMatrixSimilarity object under ../data/sim_index2/sim.2, separately None\n",
      "2017-07-20 19:12:01,559 : INFO : storing scipy.sparse array 'index' under ../data/sim_index2/sim.2.index.npy\n",
      "2017-07-20 19:12:01,644 : INFO : saved ../data/sim_index2/sim.2\n",
      "2017-07-20 19:12:01,645 : INFO : loading SparseMatrixSimilarity object from ../data/sim_index2/sim.2\n",
      "2017-07-20 19:12:01,646 : INFO : loading index from ../data/sim_index2/sim.2.index.npy with mmap=r\n",
      "2017-07-20 19:12:01,648 : INFO : loaded ../data/sim_index2/sim.2\n"
     ]
    },
    {
     "name": "stderr",
     "output_type": "stream",
     "text": [
      "2017-07-20 19:12:02,005 : INFO : PROGRESS: fresh_shard size=0\n",
      "2017-07-20 19:12:06,617 : INFO : PROGRESS: fresh_shard size=10000\n",
      "2017-07-20 19:12:11,213 : INFO : PROGRESS: fresh_shard size=20000\n",
      "2017-07-20 19:12:15,879 : INFO : PROGRESS: fresh_shard size=30000\n",
      "2017-07-20 19:12:20,481 : INFO : PROGRESS: fresh_shard size=40000\n",
      "2017-07-20 19:12:25,102 : INFO : PROGRESS: fresh_shard size=50000\n",
      "2017-07-20 19:12:33,698 : INFO : PROGRESS: fresh_shard size=60000\n",
      "2017-07-20 19:12:43,223 : INFO : PROGRESS: fresh_shard size=70000\n",
      "2017-07-20 19:12:47,790 : INFO : PROGRESS: fresh_shard size=80000\n",
      "2017-07-20 19:12:51,877 : INFO : PROGRESS: fresh_shard size=90000\n",
      "2017-07-20 19:12:55,972 : INFO : PROGRESS: fresh_shard size=100000\n",
      "2017-07-20 19:12:59,964 : INFO : PROGRESS: fresh_shard size=110000\n",
      "2017-07-20 19:13:03,968 : INFO : PROGRESS: fresh_shard size=120000\n",
      "2017-07-20 19:13:07,986 : INFO : PROGRESS: fresh_shard size=130000\n",
      "2017-07-20 19:13:12,051 : INFO : PROGRESS: fresh_shard size=140000\n",
      "2017-07-20 19:13:16,047 : INFO : PROGRESS: fresh_shard size=150000\n",
      "2017-07-20 19:13:19,992 : INFO : PROGRESS: fresh_shard size=160000\n",
      "2017-07-20 19:13:23,971 : INFO : PROGRESS: fresh_shard size=170000\n",
      "2017-07-20 19:13:27,928 : INFO : PROGRESS: fresh_shard size=180000\n",
      "2017-07-20 19:13:31,999 : INFO : PROGRESS: fresh_shard size=190000\n",
      "2017-07-20 19:13:35,969 : INFO : PROGRESS: fresh_shard size=200000\n",
      "2017-07-20 19:13:41,299 : INFO : PROGRESS: fresh_shard size=210000\n",
      "2017-07-20 19:13:42,682 : INFO : creating sparse index\n",
      "2017-07-20 19:13:42,683 : INFO : creating sparse matrix from corpus\n",
      "2017-07-20 19:13:42,684 : INFO : PROGRESS: at document #0/211389\n",
      "2017-07-20 19:13:43,467 : INFO : PROGRESS: at document #10000/211389\n",
      "2017-07-20 19:13:44,248 : INFO : PROGRESS: at document #20000/211389\n",
      "2017-07-20 19:13:45,033 : INFO : PROGRESS: at document #30000/211389\n",
      "2017-07-20 19:13:45,820 : INFO : PROGRESS: at document #40000/211389\n",
      "2017-07-20 19:13:46,612 : INFO : PROGRESS: at document #50000/211389\n",
      "2017-07-20 19:13:48,893 : INFO : PROGRESS: at document #60000/211389\n",
      "2017-07-20 19:13:51,644 : INFO : PROGRESS: at document #70000/211389\n",
      "2017-07-20 19:13:52,412 : INFO : PROGRESS: at document #80000/211389\n",
      "2017-07-20 19:13:52,971 : INFO : PROGRESS: at document #90000/211389\n",
      "2017-07-20 19:13:53,513 : INFO : PROGRESS: at document #100000/211389\n",
      "2017-07-20 19:13:54,062 : INFO : PROGRESS: at document #110000/211389\n",
      "2017-07-20 19:13:54,614 : INFO : PROGRESS: at document #120000/211389\n",
      "2017-07-20 19:13:55,162 : INFO : PROGRESS: at document #130000/211389\n",
      "2017-07-20 19:13:55,712 : INFO : PROGRESS: at document #140000/211389\n",
      "2017-07-20 19:13:56,267 : INFO : PROGRESS: at document #150000/211389\n",
      "2017-07-20 19:13:56,808 : INFO : PROGRESS: at document #160000/211389\n",
      "2017-07-20 19:13:57,366 : INFO : PROGRESS: at document #170000/211389\n",
      "2017-07-20 19:13:57,910 : INFO : PROGRESS: at document #180000/211389\n",
      "2017-07-20 19:13:58,455 : INFO : PROGRESS: at document #190000/211389\n",
      "2017-07-20 19:13:59,006 : INFO : PROGRESS: at document #200000/211389\n",
      "2017-07-20 19:14:00,097 : INFO : PROGRESS: at document #210000/211389\n",
      "2017-07-20 19:14:00,541 : INFO : created <211389x100000 sparse matrix of type '<class 'numpy.float32'>'\n",
      "\twith 11415382 stored elements in Compressed Sparse Row format>\n",
      "2017-07-20 19:14:00,542 : INFO : creating sparse shard #3\n",
      "2017-07-20 19:14:00,543 : INFO : saving index shard to ../data/sim_index2/sim.3\n",
      "2017-07-20 19:14:00,543 : INFO : saving SparseMatrixSimilarity object under ../data/sim_index2/sim.3, separately None\n",
      "2017-07-20 19:14:00,544 : INFO : storing scipy.sparse array 'index' under ../data/sim_index2/sim.3.index.npy\n",
      "2017-07-20 19:14:00,609 : INFO : saved ../data/sim_index2/sim.3\n",
      "2017-07-20 19:14:00,610 : INFO : loading SparseMatrixSimilarity object from ../data/sim_index2/sim.3\n",
      "2017-07-20 19:14:00,611 : INFO : loading index from ../data/sim_index2/sim.3.index.npy with mmap=r\n",
      "2017-07-20 19:14:00,613 : INFO : loaded ../data/sim_index2/sim.3\n",
      "2017-07-20 19:14:00,844 : INFO : saving Similarity object under ../data/sim_index2/sim, separately None\n",
      "2017-07-20 19:14:00,846 : INFO : saved ../data/sim_index2/sim\n"
     ]
    }
   ],
   "source": [
    "fname = join(DATA_FOLDER, 'sim_index2/sim')\n",
    "index = similarities.Similarity(fname, tfidf[corpus], \n",
    "                                num_features=len(dictionary), num_best=200, \n",
    "                                chunksize=10*256, shardsize=10*32768)\n",
    "index.save(fname)\n",
    "\n",
    "\n",
    "# index = similarities.Similarity.load(fname)"
   ]
  },
  {
   "cell_type": "markdown",
   "metadata": {},
   "source": [
    "# Validate"
   ]
  },
  {
   "cell_type": "code",
   "execution_count": 8,
   "metadata": {
    "ExecuteTime": {
     "end_time": "2017-07-20T16:14:00.852685Z",
     "start_time": "2017-07-20T16:14:00.849617Z"
    }
   },
   "outputs": [],
   "source": [
    "with open(join(DATA_FOLDER, 'gold.json'), 'r') as f:\n",
    "    gold = json.load(f)"
   ]
  },
  {
   "cell_type": "code",
   "execution_count": 9,
   "metadata": {
    "ExecuteTime": {
     "end_time": "2017-07-20T16:14:00.932575Z",
     "start_time": "2017-07-20T16:14:00.853950Z"
    },
    "collapsed": true
   },
   "outputs": [],
   "source": [
    "val_docs = glob(join(DATA_FOLDER, 'validate/*.txt'))"
   ]
  },
  {
   "cell_type": "code",
   "execution_count": 10,
   "metadata": {
    "ExecuteTime": {
     "end_time": "2017-07-20T16:15:41.098962Z",
     "start_time": "2017-07-20T16:14:00.933996Z"
    }
   },
   "outputs": [
    {
     "name": "stderr",
     "output_type": "stream",
     "text": [
      "100%|██████████| 130/130 [01:40<00:00,  1.23it/s]\n"
     ]
    }
   ],
   "source": [
    "preds = {}\n",
    "for fname in tqdm(val_docs):\n",
    "    with open(fname, 'r') as f:\n",
    "        doc_text = f.read()\n",
    "    vec_bow = dictionary.doc2bow(tokenize(doc_text))\n",
    "    vec_model = tfidf[vec_bow] # convert the query to model space\n",
    "    preds[splitext(basename(fname))[0]] = index[vec_model]"
   ]
  },
  {
   "cell_type": "code",
   "execution_count": 11,
   "metadata": {
    "ExecuteTime": {
     "end_time": "2017-07-20T16:15:41.179958Z",
     "start_time": "2017-07-20T16:15:41.100757Z"
    },
    "collapsed": true
   },
   "outputs": [],
   "source": [
    "new_pred = {}\n",
    "for k, v in preds.items():\n",
    "    new_pred[k] = [splitext(basename(all_docs[key]))[0] for key, sim in v]"
   ]
  },
  {
   "cell_type": "code",
   "execution_count": 12,
   "metadata": {
    "ExecuteTime": {
     "end_time": "2017-07-20T16:15:41.184107Z",
     "start_time": "2017-07-20T16:15:41.181600Z"
    },
    "collapsed": true
   },
   "outputs": [],
   "source": [
    "# new_pred['e75dcef9-73b5-40c1-45be-33a191b6440c']"
   ]
  },
  {
   "cell_type": "code",
   "execution_count": 13,
   "metadata": {
    "ExecuteTime": {
     "end_time": "2017-07-20T16:15:41.674724Z",
     "start_time": "2017-07-20T16:15:41.185357Z"
    },
    "scrolled": false
   },
   "outputs": [
    {
     "name": "stdout",
     "output_type": "stream",
     "text": [
      "median\n",
      "acc10     0.000000\n",
      "acc20     0.000000\n",
      "acc200    0.666667\n",
      "dtype: float64\n",
      "mean\n",
      "acc10     0.332308\n",
      "acc20     0.395128\n",
      "acc200    0.588846\n",
      "dtype: float64\n"
     ]
    },
    {
     "data": {
      "image/png": "[encoded data removed]",
      "text/plain": [
       "<matplotlib.figure.Figure at 0x7fb151cf6470>"
      ]
     },
     "metadata": {},
     "output_type": "display_data"
    },
    {
     "data": {
      "image/png": "[encoded data removed]",
      "text/plain": [
       "<matplotlib.figure.Figure at 0x7fb13daf10f0>"
      ]
     },
     "metadata": {},
     "output_type": "display_data"
    },
    {
     "data": {
      "image/png": "[encoded data removed]",
      "text/plain": [
       "<matplotlib.figure.Figure at 0x7fb13c8c7438>"
      ]
     },
     "metadata": {},
     "output_type": "display_data"
    }
   ],
   "source": [
    "res = evaluate(new_pred, gold)"
   ]
  },
  {
   "cell_type": "raw",
   "metadata": {},
   "source": [
    "1. pure \n",
    "median\n",
    "acc10     0.000000\n",
    "acc20     0.000000\n",
    "acc200    0.666667\n",
    "dtype: float64\n",
    "mean\n",
    "acc10     0.328462\n",
    "acc20     0.388974\n",
    "acc200    0.592692\n",
    "\n",
    "2. ???\n",
    "acc10     0.000000\n",
    "acc20     0.000000\n",
    "acc200    0.666667\n",
    "dtype: float64\n",
    "mean\n",
    "acc10     0.332308\n",
    "acc20     0.395128\n",
    "acc200    0.588846\n",
    "\n",
    "3. 0.1, 5, None\n",
    "median\n",
    "acc10     0.000000\n",
    "acc20     0.000000\n",
    "acc200    0.666667\n",
    "dtype: float64\n",
    "mean\n",
    "acc10     0.323333\n",
    "acc20     0.390000\n",
    "acc200    0.592692\n",
    "\n",
    "4. 0.3, 10, 100000\n",
    "median\n",
    "acc10     0.000000\n",
    "acc20     0.000000\n",
    "acc200    0.666667\n",
    "dtype: float64\n",
    "mean\n",
    "acc10     0.332308\n",
    "acc20     0.395128\n",
    "acc200    0.588846\n",
    "\n",
    "5. 0.2, 5, 100000\n"
   ]
  }
 ],
 "metadata": {
  "kernelspec": {
   "display_name": "Python 3",
   "language": "python",
   "name": "python3"
  },
  "language_info": {
   "codemirror_mode": {
    "name": "ipython",
    "version": 3
   },
   "file_extension": ".py",
   "mimetype": "text/x-python",
   "name": "python",
   "nbconvert_exporter": "python",
   "pygments_lexer": "ipython3",
   "version": "3.6.1"
  }
 },
 "nbformat": 4,
 "nbformat_minor": 2
}
