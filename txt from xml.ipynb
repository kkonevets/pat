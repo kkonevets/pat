{
 "cells": [
  {
   "cell_type": "code",
   "execution_count": 2,
   "metadata": {
    "ExecuteTime": {
     "end_time": "2017-08-03T12:45:41.520240Z",
     "start_time": "2017-08-03T12:45:23.204804Z"
    }
   },
   "outputs": [
    {
     "name": "stderr",
     "output_type": "stream",
     "text": [
      "Using TensorFlow backend.\n"
     ]
    }
   ],
   "source": [
    "from common import *\n",
    "import xml.etree.ElementTree as ET"
   ]
  },
  {
   "cell_type": "code",
   "execution_count": 9,
   "metadata": {
    "ExecuteTime": {
     "end_time": "2017-08-03T12:53:25.664637Z",
     "start_time": "2017-08-03T12:53:25.659200Z"
    }
   },
   "outputs": [],
   "source": [
    "fname = join(join(DATA_FOLDER, 'rawdata'), 'all_docs_raw.txt')"
   ]
  },
  {
   "cell_type": "code",
   "execution_count": 10,
   "metadata": {
    "ExecuteTime": {
     "end_time": "2017-08-03T12:53:31.746921Z",
     "start_time": "2017-08-03T12:53:31.742116Z"
    },
    "collapsed": true
   },
   "outputs": [],
   "source": [
    "# all_docs = glob(join(DATA_FOLDER, 'rawdata') + '/**/*.xml', recursive=True)\n",
    "# all_docs = sorted(all_docs)\n",
    "# with open(fname, mode='wt', encoding='utf-8') as f:\n",
    "#     f.write('\\n'.join(all_docs))"
   ]
  },
  {
   "cell_type": "code",
   "execution_count": 11,
   "metadata": {
    "ExecuteTime": {
     "end_time": "2017-08-03T12:53:37.613337Z",
     "start_time": "2017-08-03T12:53:37.262754Z"
    },
    "collapsed": true
   },
   "outputs": [],
   "source": [
    "with open(fname, mode='r', encoding='utf-8') as f:\n",
    "    all_docs = f.read().splitlines()"
   ]
  },
  {
   "cell_type": "code",
   "execution_count": 12,
   "metadata": {
    "ExecuteTime": {
     "end_time": "2017-08-03T12:53:41.578348Z",
     "start_time": "2017-08-03T12:53:41.572659Z"
    }
   },
   "outputs": [
    {
     "data": {
      "text/plain": [
       "1266990"
      ]
     },
     "execution_count": 12,
     "metadata": {},
     "output_type": "execute_result"
    }
   ],
   "source": [
    "len(all_docs)"
   ]
  },
  {
   "cell_type": "code",
   "execution_count": 101,
   "metadata": {
    "ExecuteTime": {
     "end_time": "2017-08-03T13:47:57.663117Z",
     "start_time": "2017-08-03T13:47:57.658343Z"
    },
    "collapsed": true
   },
   "outputs": [],
   "source": [
    "afile = '../data/rawdata/2013/RU/A/20130110/2011124142/2011124142.xml'\n",
    "c1file = '../data/rawdata/2005/RU/C1/20050127/0002245006/0002245006.xml'\n",
    "c2file = '../data/rawdata/2003/C2/20030120/0002196401/0002196401.xml'\n",
    "ufile = '../data/rawdata/2005/RU/U1/20050327/0000044448/0000044448.xml'"
   ]
  },
  {
   "cell_type": "code",
   "execution_count": 147,
   "metadata": {
    "ExecuteTime": {
     "end_time": "2017-08-03T14:10:27.713414Z",
     "start_time": "2017-08-03T14:10:27.692878Z"
    },
    "scrolled": true
   },
   "outputs": [],
   "source": [
    "doc = {}\n",
    "\n",
    "tree = ET.parse(afile)\n",
    "root = tree.getroot()\n",
    "\n",
    "doc.update(root.attrib)\n",
    "\n",
    "if 'A' in doc['kind']:\n",
    "    for node in root.iter('SDOBI'):\n",
    "        if node.attrib['lang'].lower() == 'ru':        \n",
    "            name = SDOBI.find('./B500/ru-b540/ru-b542').text.lower()\n",
    "            doc['name_raw'] = name\n",
    "\n",
    "    for node in root.iter('abstract'):\n",
    "        if node.attrib['lang'].lower() == 'ru':\n",
    "            abstract = '\\n'.join([el.text for el in node])\n",
    "            doc['abstract_raw'] = abstract.lower()"
   ]
  },
  {
   "cell_type": "code",
   "execution_count": 148,
   "metadata": {
    "ExecuteTime": {
     "end_time": "2017-08-03T14:10:28.289437Z",
     "start_time": "2017-08-03T14:10:28.281104Z"
    }
   },
   "outputs": [
    {
     "data": {
      "text/plain": [
       "{'abstract_raw': '1. способ получения гуминовых препаратов, включающий ультразвуковое диспергирование гуматосодержащих веществ, отличающийся тем, что создают, по меньшей мере, один струйный или вихревой поток гуматосодержащих веществ, который обрабатывают воздушным или паровым потоком с использованием газоструйного генератора с интенсивностью ультразвукового излучения более 10 вт/см\\n2. гуминовый препарат - ультрагумат, полученный способом, описанным в п.1. ',\n",
       " 'bullid': 'd01',\n",
       " 'country': 'RU',\n",
       " 'date-publ': '20130110',\n",
       " 'doc-number': '2011124142',\n",
       " 'dtd-version': 'ru-patent-document-v1-3',\n",
       " 'kind': 'A ',\n",
       " 'lang': 'ru',\n",
       " 'name_raw': 'способ получения гуминовых препаратов и вещество - ультрагумат, полученное этим способом',\n",
       " 'status': 'N'}"
      ]
     },
     "execution_count": 148,
     "metadata": {},
     "output_type": "execute_result"
    }
   ],
   "source": [
    "doc"
   ]
  },
  {
   "cell_type": "code",
   "execution_count": 107,
   "metadata": {
    "ExecuteTime": {
     "end_time": "2017-08-03T13:49:24.169539Z",
     "start_time": "2017-08-03T13:49:24.164399Z"
    }
   },
   "outputs": [
    {
     "name": "stdout",
     "output_type": "stream",
     "text": [
      "1. способ получения гуминовых препаратов, включающий ультразвуковое диспергирование гуматосодержащих веществ, отличающийся тем, что создают, по меньшей мере, один струйный или вихревой поток гуматосодержащих веществ, который обрабатывают воздушным или паровым потоком с использованием газоструйного генератора с интенсивностью ультразвукового излучения более 10 вт/см\n",
      "2. гуминовый препарат - ультрагумат, полученный способом, описанным в п.1. \n"
     ]
    }
   ],
   "source": [
    "print(doc['abstract_raw'])"
   ]
  }
 ],
 "metadata": {
  "kernelspec": {
   "display_name": "Python 3",
   "language": "python",
   "name": "python3"
  },
  "language_info": {
   "codemirror_mode": {
    "name": "ipython",
    "version": 3
   },
   "file_extension": ".py",
   "mimetype": "text/x-python",
   "name": "python",
   "nbconvert_exporter": "python",
   "pygments_lexer": "ipython3",
   "version": "3.6.1"
  }
 },
 "nbformat": 4,
 "nbformat_minor": 2
}
