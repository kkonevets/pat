{
 "cells": [
  {
   "cell_type": "code",
   "execution_count": 1,
   "metadata": {
    "collapsed": true
   },
   "outputs": [],
   "source": [
    "import pandas as pd\n",
    "import numpy as np\n",
    "from numpy import random\n",
    "import gensim\n",
    "from gensim import corpora\n",
    "from gensim.models import Word2Vec\n",
    "import nltk\n",
    "from nltk.corpus import stopwords\n",
    "import string\n",
    "from nltk.tokenize.toktok import ToktokTokenizer\n",
    "\n",
    "import glob\n",
    "from joblib import Parallel, delayed\n",
    "import os\n",
    "from tqdm import tqdm\n",
    "\n",
    "import itertools\n",
    "import multiprocessing\n",
    "from itertools import islice\n",
    "\n",
    "cpu_count = multiprocessing.cpu_count() -1\n",
    "\n",
    "DATA_FOLDER = '../data/'"
   ]
  },
  {
   "cell_type": "code",
   "execution_count": 2,
   "metadata": {
    "collapsed": true
   },
   "outputs": [],
   "source": [
    "# all_docs = glob.iglob(os.path.join(DATA_FOLDER, 'FIPS') + '/**/*.txt', recursive=True)\n",
    "# corpus_file = open(DATA_FOLDER + 'corpus.txt', 'w')\n",
    "# for item in all_docs:\n",
    "#     corpus_file.write(\"%s\\n\" % os.path.relpath(item, DATA_FOLDER))"
   ]
  },
  {
   "cell_type": "code",
   "execution_count": 3,
   "metadata": {
    "collapsed": true,
    "scrolled": true
   },
   "outputs": [],
   "source": [
    "# from nltk.tokenize.toktok import ToktokTokenizer \n",
    "# toktok = ToktokTokenizer()\n",
    "# toktok.tokenize('устройство по п . 3 , отличать тем , что оно снабжать устанавливать в головка винт , в который размещать шарик и ролик .  . ')"
   ]
  },
  {
   "cell_type": "code",
   "execution_count": 4,
   "metadata": {},
   "outputs": [],
   "source": [
    "# nltk.download()\n"
   ]
  },
  {
   "cell_type": "code",
   "execution_count": 5,
   "metadata": {},
   "outputs": [],
   "source": [
    "stop_list = stopwords.words('russian')\n",
    "stop_list.extend(['что', 'это', 'так', 'вот', 'быть', 'как', 'в', '—', 'к', 'на', 'ко'])\n",
    "stop_list.extend(list(string.punctuation))\n",
    "\n",
    "punkts = [s for s in string.punctuation if s not in '.!?']\n",
    "\n",
    "\n",
    "class Corpus(gensim.corpora.TextCorpus):\n",
    "    def get_texts(self):\n",
    "        for filename in tqdm(self.input): # for each relevant file\n",
    "            yield tokenize(open(filename).read())\n",
    "\n",
    "            \n",
    "def save_corpus(list_block, dir_name, prefix):\n",
    "    corpus = Corpus(list_block)\n",
    "    \n",
    "    dic_name = os.path.join(dir_name, '%s.dict' % prefix)\n",
    "    corp_name = os.path.join(dir_name, '%s_corpus.mm' % prefix)\n",
    "    \n",
    "    corpus.dictionary.save(dic_name)\n",
    "    corpora.MmCorpus.serialize(corp_name, corpus)\n",
    "    \n",
    "    return dic_name, corp_name\n",
    "    \n",
    "            \n",
    "def tokenize(file_text):\n",
    "    tokens = nltk.word_tokenize(file_text)\n",
    "\n",
    "    tokens = [validate_word(word) for word in tokens if check_word(word)]\n",
    "    tokens = filter(lambda s: s != '', tokens)\n",
    "    \n",
    "    return tokens\n",
    "\n",
    "            \n",
    "def validate_word(word):\n",
    "    word = word.replace(\"«\", \"\").replace(\"»\", \"\").replace(\"`\", '').replace(\".\", '')\n",
    "    if len(word) == 1:\n",
    "        return ''\n",
    "\n",
    "    return word\n",
    "\n",
    "\n",
    "def check_word(word):\n",
    "    if word in stop_list:\n",
    "        return False\n",
    "    if any(char.isdigit() for char in word):\n",
    "        return False\n",
    "    \n",
    "    return True"
   ]
  },
  {
   "cell_type": "code",
   "execution_count": 6,
   "metadata": {
    "collapsed": true
   },
   "outputs": [],
   "source": [
    "def grouper(n, iterable):\n",
    "    it = iter(iterable)\n",
    "    while True:\n",
    "       chunk = tuple(islice(it, n))\n",
    "       if not chunk:\n",
    "           return\n",
    "       yield chunk"
   ]
  },
  {
   "cell_type": "code",
   "execution_count": null,
   "metadata": {},
   "outputs": [
    {
     "name": "stdout",
     "output_type": "stream",
     "text": [
      "CPU times: user 34.5 s, sys: 13.2 s, total: 47.7 s\n",
      "Wall time: 4min 45s\n"
     ]
    }
   ],
   "source": [
    "%%time\n",
    "# dfolder = os.path.join(DATA_FOLDER, 'FIPS/Inventions patents_txt_output/0c/0c')\n",
    "# all_docs = glob.glob(dfolder + '/**/*.txt', recursive=True)\n",
    "\n",
    "all_docs = glob.glob(os.path.join(DATA_FOLDER, 'FIPS') + '/**/*.txt', recursive=True)\n",
    "with open(os.path.join(DATA_FOLDER, 'all_docs.txt'), mode='wt', encoding='utf-8') as f:\n",
    "    f.write('\\n'.join(all_docs))"
   ]
  },
  {
   "cell_type": "code",
   "execution_count": null,
   "metadata": {
    "scrolled": false
   },
   "outputs": [
    {
     "name": "stderr",
     "output_type": "stream",
     "text": [
      "100%|██████████| 11944/11944 [18:21<00:00, 13.05it/s] \n",
      "100%|██████████| 11944/11944 [18:58<00:00,  9.69it/s]\n",
      "100%|██████████| 11944/11944 [18:58<00:00, 10.49it/s]\n",
      " 97%|█████████▋| 11546/11944 [19:16<00:47,  8.36it/s]\n",
      "100%|██████████| 11944/11944 [19:19<00:00, 10.30it/s]\n",
      " 98%|█████████▊| 11650/11944 [19:22<00:24, 12.13it/s]\n",
      "100%|█████████▉| 11904/11944 [19:24<00:03, 10.19it/s]\n",
      " 99%|█████████▉| 11848/11944 [19:28<00:09,  9.78it/s]\n",
      "100%|██████████| 11944/11944 [19:29<00:00, 10.21it/s]\n",
      " 96%|█████████▌| 11432/11944 [19:38<00:36, 14.08it/s]\n",
      "100%|██████████| 11944/11944 [19:39<00:00, 10.05it/s]\n",
      " 99%|█████████▉| 11810/11944 [19:41<00:13,  9.67it/s]\n",
      "100%|██████████| 11944/11944 [19:41<00:00,  4.68it/s]\n",
      "100%|██████████| 11944/11944 [19:48<00:00, 10.05it/s]\n",
      " 98%|█████████▊| 11664/11944 [19:48<00:22, 12.68it/s]\n",
      "100%|██████████| 11944/11944 [19:53<00:00, 10.01it/s]\n",
      "  8%|▊         | 968/11944 [01:31<15:09, 12.07it/s]s]\n",
      "100%|██████████| 11944/11944 [19:54<00:00, 10.00it/s]\n",
      "100%|██████████| 11944/11944 [19:55<00:00,  9.99it/s]\n",
      "100%|██████████| 11944/11944 [20:05<00:00,  9.91it/s]\n",
      "  1%|          | 113/11944 [00:12<33:14,  5.93it/s]s]\n",
      "100%|██████████| 11944/11944 [20:13<00:00,  8.74it/s]\n",
      " 99%|█████████▉| 11797/11944 [20:15<00:19,  7.69it/s]\n",
      "  1%|          | 107/11944 [00:10<38:30,  5.12it/s]s]\n",
      "100%|██████████| 11944/11944 [20:17<00:00,  7.08it/s] \n",
      "100%|██████████| 11944/11944 [20:25<00:00,  9.14it/s]\n",
      "100%|██████████| 11944/11944 [20:27<00:00, 11.35it/s]\n",
      "100%|██████████| 11944/11944 [20:32<00:00,  9.69it/s]\n",
      "100%|██████████| 11944/11944 [20:41<00:00,  9.62it/s]\n",
      " 41%|████      | 4853/11944 [06:53<07:50, 15.06it/s]  "
     ]
    }
   ],
   "source": [
    "%%time\n",
    "parallelizer = Parallel(n_jobs=cpu_count)\n",
    "\n",
    "# this iterator returns the functions to execute for each task\n",
    "tasks_iterator = ( delayed(save_corpus)(list_block, os.path.join(DATA_FOLDER, 'BoW'), i) for \n",
    "                  i, list_block in enumerate(grouper(len(all_docs)//100, all_docs)) ) \n",
    "result = parallelizer( tasks_iterator )"
   ]
  },
  {
   "cell_type": "code",
   "execution_count": null,
   "metadata": {},
   "outputs": [],
   "source": [
    "merged_corpus = None\n",
    "for dic_name, corp_name in result:\n",
    "    cur_dict = corpora.Dictionary.load(dic_name)\n",
    "    cur_corp = corpora.MmCorpus(corp_name)\n",
    "    \n",
    "    if not merged_corpus:\n",
    "        dict1 = cur_dict\n",
    "        merged_corpus = cur_corp\n",
    "        continue\n",
    "\n",
    "    cur_to_dict1 = dict1.merge_with(cur_dict)\n",
    "    merged_corpus = itertools.chain(merged_corpus, cur_to_dict1[cur_corp])\n",
    "\n",
    "dict1.save(os.path.join(DATA_FOLDER, 'dict.dict'))\n",
    "corpora.MmCorpus.serialize(os.path.join(DATA_FOLDER, 'corpus.mm'), merged_corpus)"
   ]
  }
 ],
 "metadata": {
  "kernelspec": {
   "display_name": "Python 3",
   "language": "python",
   "name": "python3"
  },
  "language_info": {
   "codemirror_mode": {
    "name": "ipython",
    "version": 3
   },
   "file_extension": ".py",
   "mimetype": "text/x-python",
   "name": "python",
   "nbconvert_exporter": "python",
   "pygments_lexer": "ipython3",
   "version": "3.6.1"
  }
 },
 "nbformat": 4,
 "nbformat_minor": 2
}
