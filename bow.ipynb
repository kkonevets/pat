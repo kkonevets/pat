{
 "cells": [
  {
   "cell_type": "code",
   "execution_count": 1,
   "metadata": {
    "collapsed": true
   },
   "outputs": [],
   "source": [
    "import pandas as pd\n",
    "import numpy as np\n",
    "from gensim import corpora, VocabTransform\n",
    "\n",
    "from common import *\n",
    "import os\n",
    "import glob\n",
    "from joblib import Parallel, delayed\n",
    "import itertools\n",
    "import multiprocessing\n",
    "import copy \n",
    "\n",
    "cpu_count = multiprocessing.cpu_count() -1\n",
    "DATA_FOLDER = '../data/'"
   ]
  },
  {
   "cell_type": "code",
   "execution_count": 2,
   "metadata": {
    "collapsed": true
   },
   "outputs": [],
   "source": [
    "# all_docs = glob.iglob(os.path.join(DATA_FOLDER, 'FIPS') + '/**/*.txt', recursive=True)\n",
    "# corpus_file = open(DATA_FOLDER + 'corpus.txt', 'w')\n",
    "# for item in all_docs:\n",
    "#     corpus_file.write(\"%s\\n\" % os.path.relpath(item, DATA_FOLDER))"
   ]
  },
  {
   "cell_type": "code",
   "execution_count": 3,
   "metadata": {
    "collapsed": true,
    "scrolled": true
   },
   "outputs": [],
   "source": [
    "# from nltk.tokenize.toktok import ToktokTokenizer \n",
    "# toktok = ToktokTokenizer()\n",
    "# toktok.tokenize('устройство по п . 3 , отличать тем , что оно снабжать устанавливать в головка винт , в который размещать шарик и ролик .  . ')"
   ]
  },
  {
   "cell_type": "code",
   "execution_count": 4,
   "metadata": {
    "collapsed": true
   },
   "outputs": [],
   "source": [
    "# nltk.download()"
   ]
  },
  {
   "cell_type": "code",
   "execution_count": 2,
   "metadata": {},
   "outputs": [
    {
     "name": "stdout",
     "output_type": "stream",
     "text": [
      "CPU times: user 304 ms, sys: 160 ms, total: 464 ms\n",
      "Wall time: 467 ms\n"
     ]
    }
   ],
   "source": [
    "%%time\n",
    "fname = join(DATA_FOLDER, 'all_docs.txt')\n",
    "\n",
    "if not exists(fname):\n",
    "    all_docs = glob.glob(join(DATA_FOLDER, 'FIPS') + '/**/*.txt', recursive=True)\n",
    "    with open(fname, mode='wt', encoding='utf-8') as f:\n",
    "        f.write('\\n'.join(all_docs))\n",
    "else:\n",
    "    with open(fname, mode='r', encoding='utf-8') as f:\n",
    "        all_docs = f.read().splitlines()\n",
    "\n",
    "# dfolder = os.path.join(DATA_FOLDER, 'FIPS/Inventions patents_txt_output/0c/0c')\n",
    "# all_docs = glob.glob(dfolder + '/**/*.txt', recursive=True)"
   ]
  },
  {
   "cell_type": "code",
   "execution_count": null,
   "metadata": {
    "scrolled": true
   },
   "outputs": [
    {
     "name": "stderr",
     "output_type": "stream",
     "text": [
      " 88%|████████▊ | 10511/11944 [18:15<02:32,  9.37it/s] \n",
      "100%|██████████| 11944/11944 [18:43<00:00, 10.63it/s]\n",
      "100%|██████████| 11944/11944 [18:49<00:00, 10.57it/s]\n",
      "100%|█████████▉| 11914/11944 [18:52<00:03,  7.51it/s]\n",
      " 90%|████████▉ | 10720/11944 [18:54<02:48,  7.26it/s]\n",
      " 92%|█████████▏| 11016/11944 [18:55<05:25,  2.85it/s]\n",
      " 91%|█████████ | 10867/11944 [18:55<01:55,  9.34it/s]\n",
      " 96%|█████████▌| 11467/11944 [19:00<00:35, 13.53it/s]\n",
      " 93%|█████████▎| 11161/11944 [19:00<01:13, 10.71it/s]\n",
      "100%|██████████| 11944/11944 [19:11<00:00, 10.37it/s]\n",
      "100%|██████████| 11944/11944 [19:12<00:00, 10.37it/s]\n",
      "100%|██████████| 11944/11944 [19:16<00:00, 10.33it/s]\n",
      " 96%|█████████▌| 11460/11944 [19:19<00:37, 12.87it/s]\n",
      " 98%|█████████▊| 11689/11944 [19:39<00:22, 11.43it/s]\n",
      "100%|██████████| 11944/11944 [19:47<00:00,  8.43it/s]\n",
      "100%|██████████| 11944/11944 [19:54<00:00, 11.49it/s]\n",
      "100%|██████████| 11944/11944 [19:59<00:00,  9.96it/s]\n",
      " 97%|█████████▋| 11616/11944 [20:10<00:36,  9.01it/s]\n",
      "100%|██████████| 11944/11944 [20:20<00:00, 14.77it/s] \n",
      "100%|██████████| 11944/11944 [20:28<00:00,  9.72it/s]\n",
      "100%|██████████| 11944/11944 [20:38<00:00,  9.64it/s]\n",
      "100%|██████████| 11944/11944 [20:39<00:00,  9.64it/s]\n",
      "100%|██████████| 11944/11944 [20:40<00:00,  8.16it/s]\n",
      "100%|██████████| 11944/11944 [20:45<00:00,  7.29it/s] \n",
      "100%|██████████| 11944/11944 [20:48<00:00,  9.57it/s]\n",
      "100%|██████████| 11944/11944 [20:51<00:00,  9.54it/s]\n",
      "100%|██████████| 11944/11944 [20:52<00:00, 10.98it/s]\n",
      "100%|██████████| 11944/11944 [21:11<00:00,  9.39it/s] \n",
      "100%|██████████| 11944/11944 [21:17<00:00,  9.35it/s] \n",
      " 94%|█████████▎| 11190/11944 [15:26<01:46,  7.08it/s] \n",
      " 97%|█████████▋| 11609/11944 [16:08<00:22, 14.62it/s]\n",
      "100%|██████████| 11944/11944 [16:21<00:00, 12.17it/s]\n",
      "100%|██████████| 11944/11944 [16:29<00:00, 12.07it/s]\n",
      "100%|██████████| 11944/11944 [16:18<00:00, 10.88it/s]\n",
      "100%|██████████| 11944/11944 [16:22<00:00, 12.15it/s]\n",
      "100%|██████████| 11944/11944 [16:26<00:00, 12.10it/s]\n",
      " 89%|████████▊ | 10572/11944 [15:26<02:02, 11.16it/s]\n",
      " 88%|████████▊ | 10483/11944 [15:01<03:34,  6.80it/s]\n",
      "  4%|▎         | 429/11944 [00:35<18:08, 10.57it/s]s]\n",
      "100%|██████████| 11944/11944 [16:38<00:00, 11.96it/s]\n",
      "100%|██████████| 11944/11944 [16:38<00:00, 11.96it/s]\n",
      " 92%|█████████▏| 10939/11944 [16:02<01:54,  8.81it/s]\n",
      "100%|██████████| 11944/11944 [17:26<00:00, 11.41it/s]\n",
      "  9%|▉         | 1123/11944 [01:41<18:37,  9.68it/s]]\n",
      " 92%|█████████▏| 11017/11944 [16:46<01:16, 12.10it/s] \n",
      "100%|██████████| 11944/11944 [17:40<00:00, 11.26it/s] \n",
      "100%|██████████| 11944/11944 [17:26<00:00, 11.41it/s]\n",
      " 16%|█▌        | 1871/11944 [02:31<14:24, 11.65it/s]] \n",
      " 99%|█████████▉| 11802/11944 [17:45<00:13, 10.70it/s] \n",
      "100%|██████████| 11944/11944 [17:58<00:00, 11.08it/s] \n",
      "  6%|▌         | 716/11944 [00:59<14:14, 13.14it/s]]] \n",
      "100%|██████████| 11944/11944 [17:50<00:00, 11.16it/s]\n",
      "100%|██████████| 11944/11944 [17:50<00:00, 11.33it/s]\n",
      "  8%|▊         | 910/11944 [01:16<22:31,  8.16it/s]s] \n",
      "100%|██████████| 11944/11944 [18:05<00:00,  8.52it/s]\n",
      " 22%|██▏       | 2672/11944 [03:42<11:52, 13.02it/s]]\n",
      "100%|██████████| 11944/11944 [17:48<00:00, 10.84it/s] \n",
      " 20%|█▉        | 2369/11944 [00:44<02:43, 58.60it/s]] \n",
      "100%|██████████| 11944/11944 [03:27<00:00, 57.70it/s] \n",
      "100%|██████████| 11944/11944 [03:31<00:00, 56.35it/s]\n",
      "100%|██████████| 11944/11944 [03:29<00:00, 57.03it/s]\n",
      " 41%|████▏     | 4938/11944 [06:57<07:33, 15.45it/s]]\n",
      "100%|██████████| 11944/11944 [03:42<00:00, 50.53it/s]\n",
      "100%|██████████| 11944/11944 [03:42<00:00, 53.65it/s]\n",
      "100%|██████████| 11944/11944 [03:41<00:00, 53.94it/s]\n",
      " 43%|████▎     | 5139/11944 [07:14<11:28,  9.89it/s]]\n",
      "100%|██████████| 11944/11944 [03:35<00:00, 55.48it/s]]\n",
      " 43%|████▎     | 5181/11944 [07:21<06:51, 16.45it/s]] \n",
      "100%|██████████| 11944/11944 [03:42<00:00, 53.74it/s] \n",
      "100%|██████████| 11944/11944 [03:05<00:00, 71.03it/s] \n",
      " 52%|█████▏    | 6252/11944 [08:54<07:32, 12.58it/s]]\n",
      "100%|██████████| 11944/11944 [03:17<00:00, 60.49it/s]\n",
      "100%|██████████| 11944/11944 [03:13<00:00, 61.78it/s] \n",
      " 24%|██▎       | 2830/11944 [00:47<03:24, 44.56it/s]]\n",
      "100%|██████████| 11944/11944 [03:19<00:00, 59.82it/s]\n",
      "100%|██████████| 11944/11944 [03:12<00:00, 66.94it/s]\n",
      "100%|██████████| 11944/11944 [03:08<00:00, 50.85it/s]\n",
      "100%|██████████| 11944/11944 [03:13<00:00, 61.57it/s]\n",
      "100%|██████████| 11944/11944 [03:07<00:00, 63.61it/s]\n",
      " 65%|██████▍   | 7714/11944 [10:31<03:27, 20.37it/s]]\n",
      " 76%|███████▌  | 9099/11944 [12:26<03:33, 13.31it/s]] \n",
      " 76%|███████▌  | 9028/11944 [12:39<03:16, 14.83it/s]]\n",
      " 12%|█▏        | 1460/11944 [00:21<02:17, 76.49it/s]]\n",
      "100%|██████████| 11944/11944 [03:40<00:00, 54.24it/s]\n",
      "100%|██████████| 11944/11944 [03:42<00:00, 53.58it/s]\n",
      " 82%|████████▏ | 9825/11944 [13:23<03:16, 10.79it/s]]\n",
      " 87%|████████▋ | 10406/11944 [14:11<01:56, 13.17it/s]\n",
      " 85%|████████▍ | 10147/11944 [14:08<02:44, 10.92it/s]\n",
      " 81%|████████▏ | 9733/11944 [03:04<00:32, 68.18it/s]]\n",
      "100%|██████████| 11944/11944 [03:51<00:00, 56.52it/s]\n",
      "100%|██████████| 11944/11944 [03:47<00:00, 52.59it/s]\n",
      "100%|██████████| 11944/11944 [16:13<00:00, 15.21it/s]   \n",
      "100%|██████████| 11944/11944 [16:09<00:00, 13.51it/s] \n",
      " 94%|█████████▍| 11236/11944 [15:32<02:00,  5.87it/s]\n",
      "100%|██████████| 11944/11944 [16:15<00:00, 12.25it/s]\n",
      "100%|██████████| 11944/11944 [03:01<00:00, 65.94it/s]\n",
      "100%|██████████| 11944/11944 [16:20<00:00, 12.19it/s]\n",
      " 81%|████████▏ | 9707/11944 [14:12<02:51, 13.03it/s]]\n",
      " 39%|███▉      | 4670/11944 [16:09<11:55, 10.17it/s]]\n",
      " 13%|█▎        | 1587/11944 [00:27<02:50, 60.59it/s]] \n",
      "100%|██████████| 11944/11944 [16:22<00:00, 12.16it/s] \n",
      " 20%|█▉        | 2339/11944 [00:40<03:03, 52.26it/s]] \n",
      "100%|██████████| 11944/11944 [16:13<00:00, 12.11it/s] \n",
      "  3%|▎         | 339/11944 [00:29<10:52, 17.80it/s]s]\n",
      " 92%|█████████▏| 10998/11944 [02:48<00:14, 64.46it/s] \n",
      " 13%|█▎        | 1495/11944 [00:25<03:04, 56.54it/s]]\n",
      "100%|██████████| 11944/11944 [03:02<00:00, 65.42it/s] \n",
      "100%|██████████| 11944/11944 [16:33<00:00, 12.02it/s]\n",
      "100%|██████████| 11944/11944 [03:01<00:00, 65.91it/s]\n",
      "100%|██████████| 11944/11944 [03:05<00:00, 64.29it/s]\n",
      "100%|██████████| 11944/11944 [03:02<00:00, 65.32it/s]\n",
      " 98%|█████████▊| 11708/11944 [15:41<00:15, 15.32it/s] \n",
      "  6%|▌         | 731/11944 [00:14<05:00, 37.35it/s]s]\n",
      "100%|██████████| 11944/11944 [16:02<00:00, 12.40it/s]\n",
      "100%|██████████| 11944/11944 [02:59<00:00, 66.72it/s]\n",
      " 66%|██████▌   | 7846/11944 [02:24<01:00, 67.20it/s]] "
     ]
    }
   ],
   "source": [
    "%%time\n",
    "parallelizer = Parallel(n_jobs=cpu_count)\n",
    "\n",
    "# this iterator returns the functions to execute for each task\n",
    "tasks_iterator = ( delayed(save_corpus)(list_block, os.path.join(DATA_FOLDER, 'BoW'), i) for \n",
    "                  i, list_block in enumerate(grouper(len(all_docs)//100, all_docs)) ) \n",
    "result = parallelizer( tasks_iterator )"
   ]
  },
  {
   "cell_type": "code",
   "execution_count": null,
   "metadata": {
    "collapsed": true
   },
   "outputs": [],
   "source": [
    "corps = glob.glob(os.path.join(DATA_FOLDER, 'BoW/*corpus.mm'))\n",
    "dicts = glob.glob(os.path.join(DATA_FOLDER, 'BoW/*.dict'))\n",
    "corps.sort(key=natural_keys)\n",
    "dicts.sort(key=natural_keys)\n",
    "pairs = list(zip(dicts, corps))\n",
    "# result = pairs"
   ]
  },
  {
   "cell_type": "code",
   "execution_count": null,
   "metadata": {
    "collapsed": true
   },
   "outputs": [],
   "source": [
    "%%time\n",
    "merged_corpus = None\n",
    "for dic_name, corp_name in result:\n",
    "    cur_dict = corpora.Dictionary.load(dic_name)\n",
    "    cur_corp = corpora.MmCorpus(corp_name)\n",
    "    \n",
    "    print(dic_name)\n",
    "    if not merged_corpus:\n",
    "        dict1 = cur_dict\n",
    "        merged_corpus = cur_corp\n",
    "        continue\n",
    "\n",
    "    cur_to_dict1 = dict1.merge_with(cur_dict)\n",
    "    merged_corpus = itertools.chain(merged_corpus, cur_to_dict1[cur_corp])\n",
    "    \n",
    "dict1.save(join(DATA_FOLDER, 'old.dict'))\n",
    "corpora.MmCorpus.serialize(join(DATA_FOLDER, 'corpus.mm'), merged_corpus)"
   ]
  },
  {
   "cell_type": "markdown",
   "metadata": {},
   "source": [
    "### Filter out tokens that appear in less than 5 documents (absolute number) or more than 50% documents"
   ]
  },
  {
   "cell_type": "code",
   "execution_count": null,
   "metadata": {
    "collapsed": true
   },
   "outputs": [],
   "source": [
    "# filter the dictionary\n",
    "old_dict = corpora.Dictionary.load(join(DATA_FOLDER, 'old.dict'))\n",
    "new_dict = copy.deepcopy(old_dict)\n",
    "new_dict.filter_extremes(keep_n=None)\n",
    "new_dict.save(join(DATA_FOLDER, 'filtered.dict'))\n",
    "\n",
    "# now transform the corpus\n",
    "corpus = corpora.MmCorpus(join(DATA_FOLDER, 'corpus.mm'))\n",
    "old2new = {old_dict.token2id[token]:new_id for new_id, token in new_dict.iteritems()}\n",
    "vt = VocabTransform(old2new)\n",
    "corpora.MmCorpus.serialize('corpus.mm', vt[corpus], id2word=new_dict)"
   ]
  }
 ],
 "metadata": {
  "kernelspec": {
   "display_name": "Python 3",
   "language": "python",
   "name": "python3"
  },
  "language_info": {
   "codemirror_mode": {
    "name": "ipython",
    "version": 3
   },
   "file_extension": ".py",
   "mimetype": "text/x-python",
   "name": "python",
   "nbconvert_exporter": "python",
   "pygments_lexer": "ipython3",
   "version": "3.6.1"
  }
 },
 "nbformat": 4,
 "nbformat_minor": 2
}
