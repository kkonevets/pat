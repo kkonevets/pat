{
 "cells": [
  {
   "cell_type": "markdown",
   "metadata": {},
   "source": [
    "# Поиск похожих патентов. Описание метода"
   ]
  },
  {
   "cell_type": "markdown",
   "metadata": {},
   "source": [
    "## Задача"
   ]
  },
  {
   "cell_type": "markdown",
   "metadata": {},
   "source": [
    "По патенту-запросу найти наиболее похожие патенты отсортированные по релевантности в порядке убывания."
   ]
  },
  {
   "cell_type": "markdown",
   "metadata": {},
   "source": [
    "## Данные"
   ]
  },
  {
   "cell_type": "markdown",
   "metadata": {},
   "source": [
    "* Корпус состоит из примерно 1.2 млн. документов. Из них 368 тыс. имееют ссылки на другие документы в этом корпусе. Каждая такая ссылка являетя похожим документом на данный. Всего таких ссыллок 765 тыс., то есть в среднем 2 похожих документа на запрос. На этих размеченных данных обучается модель \"с учителем\".\n",
    "* Сырые тексты были лемматизированы и к ним применился алгоритм word2vec для получения векторных представлений слов на всем корпусе."
   ]
  },
  {
   "cell_type": "markdown",
   "metadata": {},
   "source": [
    "## Метод"
   ]
  },
  {
   "cell_type": "markdown",
   "metadata": {
    "ExecuteTime": {
     "end_time": "2017-08-22T11:24:43.153576Z",
     "start_time": "2017-08-22T11:24:43.147963Z"
    }
   },
   "source": [
    "В качестве алгоритма были выбраны сверточные нейронные сети, на вход которым подавались вектора слов.\n",
    "\n",
    "**Архитектура сети**\n",
    "* \n"
   ]
  }
 ],
 "metadata": {
  "kernelspec": {
   "display_name": "Python 3",
   "language": "python",
   "name": "python3"
  },
  "language_info": {
   "codemirror_mode": {
    "name": "ipython",
    "version": 3
   },
   "file_extension": ".py",
   "mimetype": "text/x-python",
   "name": "python",
   "nbconvert_exporter": "python",
   "pygments_lexer": "ipython3",
   "version": "3.6.2"
  }
 },
 "nbformat": 4,
 "nbformat_minor": 2
}
