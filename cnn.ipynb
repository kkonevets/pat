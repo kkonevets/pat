{
 "cells": [
  {
   "cell_type": "code",
   "execution_count": 1,
   "metadata": {
    "ExecuteTime": {
     "end_time": "2017-09-08T17:01:43.147719Z",
     "start_time": "2017-09-08T17:01:40.890901Z"
    }
   },
   "outputs": [],
   "source": [
    "import tensorflow as tf\n",
    "import numpy as np\n",
    "from common import *\n",
    "\n",
    "import os, time\n",
    "import tflearn\n",
    "from io import StringIO\n",
    "import copy\n",
    "import pickle\n",
    "from functools import partial\n",
    "import cnn\n",
    "import data_flow\n",
    "\n",
    "from sklearn.model_selection import train_test_split"
   ]
  },
  {
   "cell_type": "markdown",
   "metadata": {
    "heading_collapsed": true
   },
   "source": [
    "# Prepare word vectors"
   ]
  },
  {
   "cell_type": "code",
   "execution_count": 2,
   "metadata": {
    "ExecuteTime": {
     "end_time": "2017-09-08T16:14:46.853741Z",
     "start_time": "2017-09-08T16:14:42.297088Z"
    },
    "hidden": true,
    "scrolled": false
   },
   "outputs": [
    {
     "name": "stderr",
     "output_type": "stream",
     "text": [
      "2017-09-08 19:14:42,298 [MainThread  ] [INFO ]  loading Word2Vec object from ../data/vectors/w2v_model_300_w10\n",
      "2017-09-08 19:14:44,446 [MainThread  ] [INFO ]  loading wv recursively from ../data/vectors/w2v_model_300_w10.wv.* with mmap=None\n",
      "2017-09-08 19:14:44,447 [MainThread  ] [INFO ]  loading syn0 from ../data/vectors/w2v_model_300_w10.wv.syn0.npy with mmap=None\n",
      "2017-09-08 19:14:44,594 [MainThread  ] [INFO ]  setting ignored attribute syn0norm to None\n",
      "2017-09-08 19:14:44,595 [MainThread  ] [INFO ]  loading syn1neg from ../data/vectors/w2v_model_300_w10.syn1neg.npy with mmap=None\n",
      "2017-09-08 19:14:44,736 [MainThread  ] [INFO ]  setting ignored attribute cum_table to None\n",
      "2017-09-08 19:14:44,737 [MainThread  ] [INFO ]  loaded ../data/vectors/w2v_model_300_w10\n"
     ]
    }
   ],
   "source": [
    "w2v_model = Word2Vec.load(join(DATA_FOLDER, 'vectors/w2v_model_300_w10'))"
   ]
  },
  {
   "cell_type": "code",
   "execution_count": 21,
   "metadata": {
    "ExecuteTime": {
     "end_time": "2017-09-08T10:58:55.126588Z",
     "start_time": "2017-09-08T10:58:53.880286Z"
    },
    "collapsed": true,
    "hidden": true
   },
   "outputs": [],
   "source": [
    "word_embeddings = w2v_model.wv.syn0.copy()\n",
    "index2word = copy.deepcopy(w2v_model.wv.index2word)\n",
    "del w2v_model"
   ]
  },
  {
   "cell_type": "code",
   "execution_count": 22,
   "metadata": {
    "ExecuteTime": {
     "end_time": "2017-09-08T10:58:57.877549Z",
     "start_time": "2017-09-08T10:58:55.128389Z"
    },
    "collapsed": true,
    "hidden": true
   },
   "outputs": [],
   "source": [
    "index2word.insert(0, 'PAD')\n",
    "with open(join(DATA_FOLDER, \"dictionary.pickle\"), \"wb\") as output_file:\n",
    "    pickle.dump(index2word, output_file)"
   ]
  },
  {
   "cell_type": "code",
   "execution_count": 17,
   "metadata": {
    "ExecuteTime": {
     "end_time": "2017-09-06T12:29:29.157151Z",
     "start_time": "2017-09-06T12:28:38.836197Z"
    },
    "hidden": true
   },
   "outputs": [
    {
     "data": {
      "text/plain": [
       "count    680760.000000\n",
       "mean          0.193705\n",
       "std           0.070574\n",
       "min           0.000910\n",
       "25%           0.137368\n",
       "50%           0.178099\n",
       "75%           0.244486\n",
       "max           0.744395\n",
       "dtype: float64"
      ]
     },
     "execution_count": 17,
     "metadata": {},
     "output_type": "execute_result"
    }
   ],
   "source": [
    "stds = np.apply_along_axis(np.std, 1, word_embeddings)\n",
    "pd.Series(stds).describe()"
   ]
  },
  {
   "cell_type": "code",
   "execution_count": 18,
   "metadata": {
    "ExecuteTime": {
     "end_time": "2017-09-06T12:29:29.175545Z",
     "start_time": "2017-09-06T12:29:29.159459Z"
    },
    "hidden": true
   },
   "outputs": [
    {
     "data": {
      "text/plain": [
       "0.20150940312078128"
      ]
     },
     "execution_count": 18,
     "metadata": {},
     "output_type": "execute_result"
    }
   ],
   "source": [
    "# 0.34 is chosen so the unknown vectors have (approximately) same variance as pre-trained ones\n",
    "pad_vec = np.random.uniform(-0.34,0.34, word_embeddings.shape[1])\n",
    "np.std(pad_vec)"
   ]
  },
  {
   "cell_type": "code",
   "execution_count": 19,
   "metadata": {
    "ExecuteTime": {
     "end_time": "2017-09-06T12:29:29.621377Z",
     "start_time": "2017-09-06T12:29:29.177828Z"
    },
    "collapsed": true,
    "hidden": true
   },
   "outputs": [],
   "source": [
    "word_embeddings = np.insert(word_embeddings, 0, pad_vec, axis=0)"
   ]
  },
  {
   "cell_type": "code",
   "execution_count": 20,
   "metadata": {
    "ExecuteTime": {
     "end_time": "2017-09-06T12:29:36.303189Z",
     "start_time": "2017-09-06T12:29:29.623782Z"
    },
    "collapsed": true,
    "hidden": true
   },
   "outputs": [],
   "source": [
    "np.save(join(DATA_FOLDER, 'word_embeddings_%s.npy' % word_embeddings.shape[1]), word_embeddings)"
   ]
  },
  {
   "cell_type": "markdown",
   "metadata": {},
   "source": [
    "# Load input data"
   ]
  },
  {
   "cell_type": "code",
   "execution_count": 2,
   "metadata": {
    "ExecuteTime": {
     "end_time": "2017-09-08T17:01:46.439907Z",
     "start_time": "2017-09-08T17:01:43.191072Z"
    }
   },
   "outputs": [],
   "source": [
    "word_embeddings = np.load(join(DATA_FOLDER, 'word_embeddings_300.npy'))\n",
    "with open(join(DATA_FOLDER, \"dictionary.pickle\"), \"rb\") as input_file:\n",
    "    index2word = pickle.load(input_file)"
   ]
  },
  {
   "cell_type": "code",
   "execution_count": 3,
   "metadata": {
    "ExecuteTime": {
     "end_time": "2017-09-08T17:01:49.727441Z",
     "start_time": "2017-09-08T17:01:46.441397Z"
    },
    "collapsed": true,
    "scrolled": true
   },
   "outputs": [],
   "source": [
    "ids = glob('../data/corpus/**.txt')\n",
    "with open(join(DATA_FOLDER, 'sims.json'), 'r') as f:\n",
    "    sims = json.load(f)"
   ]
  },
  {
   "cell_type": "code",
   "execution_count": 4,
   "metadata": {
    "ExecuteTime": {
     "end_time": "2017-09-08T17:01:49.731632Z",
     "start_time": "2017-09-08T17:01:49.729142Z"
    },
    "collapsed": true
   },
   "outputs": [],
   "source": [
    "# triples_all = list(data.flow.random_triples(sims, ids, num_epochs=1, seed=1))\n",
    "# _triples, triples_test = train_test_split(triples_all, test_size=0.1, random_state=0)\n",
    "# triples_train, triples_val = train_test_split(_triples, test_size=0.1, random_state=0)\n",
    "\n",
    "# print(len(triples_train), len(triples_val), len(triples_test))"
   ]
  },
  {
   "cell_type": "code",
   "execution_count": 5,
   "metadata": {
    "ExecuteTime": {
     "end_time": "2017-09-08T17:01:53.856607Z",
     "start_time": "2017-09-08T17:01:49.733192Z"
    },
    "collapsed": true
   },
   "outputs": [],
   "source": [
    "triples_all = pd.read_csv(join(DATA_FOLDER, 'mpk_flow.csv.gz'), sep=' ', header=None)\n",
    "triples_all = triples_all[triples_all[2] != '59a969f1782b1b893a912539']"
   ]
  },
  {
   "cell_type": "code",
   "execution_count": 7,
   "metadata": {
    "ExecuteTime": {
     "end_time": "2017-09-08T17:02:38.803576Z",
     "start_time": "2017-09-08T17:02:33.578737Z"
    }
   },
   "outputs": [
    {
     "name": "stderr",
     "output_type": "stream",
     "text": [
      "2017-09-08 20:02:38,801 [MainThread  ] [INFO ]  train 619666 val 68852 test 76503\n"
     ]
    }
   ],
   "source": [
    "def add_fname(_id):\n",
    "    return join(DATA_FOLDER, 'corpus', _id + '.txt')\n",
    "\n",
    "triples_train, triples_val, triples_test = [], [], []\n",
    "for epoch_data in np.array_split(triples_all, 3)[:1]:\n",
    "    _triples, _test = train_test_split(epoch_data, test_size=0.1, random_state=0, shuffle=False)\n",
    "    _train, _val = train_test_split(_triples, test_size=0.1, random_state=0, shuffle=False)\n",
    "\n",
    "    triples_train += [[add_fname(a), add_fname(b), add_fname(c)] for a,b,c in _train.values]\n",
    "    triples_val += [[add_fname(a), add_fname(b), add_fname(c)] for a,b,c in _val.values]\n",
    "    triples_test += [[add_fname(a), add_fname(b), add_fname(c)] for a,b,c in _test.values]\n",
    "    \n",
    "logging.info('train %s val %s test %s' % (len(triples_train), len(triples_val), len(triples_test)))"
   ]
  },
  {
   "cell_type": "code",
   "execution_count": 8,
   "metadata": {
    "ExecuteTime": {
     "end_time": "2017-09-08T17:02:53.334494Z",
     "start_time": "2017-09-08T17:02:53.325239Z"
    },
    "collapsed": true
   },
   "outputs": [],
   "source": [
    "vocab_size, embedding_size = word_embeddings.shape\n",
    "n_sents, n_words = 123, 40\n",
    "batch_size = 64\n",
    "num_epochs = 1\n",
    "learning_rate=0.001\n",
    "\n",
    "sent_filter_sizes=[1, 2, 3, 4, 5]\n",
    "sent_nb_filter=10\n",
    "sent_embed_size=128\n",
    "sent_kmax=4\n",
    "\n",
    "doc_filter_sizes=[1, 2, 3, 4, 5]\n",
    "doc_nb_filter=10\n",
    "doc_embed_size=200\n",
    "doc_kmax=4"
   ]
  },
  {
   "cell_type": "markdown",
   "metadata": {},
   "source": [
    "# Train"
   ]
  },
  {
   "cell_type": "code",
   "execution_count": 18,
   "metadata": {
    "ExecuteTime": {
     "end_time": "2017-09-08T20:30:24.971363Z",
     "start_time": "2017-09-08T20:29:21.915574Z"
    },
    "scrolled": true
   },
   "outputs": [
    {
     "name": "stderr",
     "output_type": "stream",
     "text": [
      "2017-09-08 23:29:21,947 [MainThread  ] [INFO ]  start training ...\n",
      "2017-09-08 23:29:22,317 [MainThread  ] [INFO ]  sent_out_size 200, doc_out_size 200\n",
      "2017-09-08 23:29:22,318 [MainThread  ] [INFO ]  sent_embed_size 128, doc_embed_size 200\n",
      "2017-09-08 23:29:46,304 [MainThread  ] [INFO ]  step 1, loss 0.193697\n",
      "2017-09-08 23:30:04,041 [MainThread  ] [INFO ]  step 2, loss 0.161889\n",
      "2017-09-08 23:30:22,834 [MainThread  ] [INFO ]  step 3, loss 0.158484\n",
      "2017-09-08 23:30:22,838 [MainThread  ] [INFO ]  Done training -- epoch limit reached\n",
      "2017-09-08 23:30:24,969 [MainThread  ] [INFO ]  --- 63.0212850571 seconds ---\n"
     ]
    }
   ],
   "source": [
    "reload(cnn)\n",
    "\n",
    "logging.info('start training ...')\n",
    "start_time = time.time()\n",
    "\n",
    "try:\n",
    "    tf.reset_default_graph()\n",
    "    tf.set_random_seed(0)\n",
    "    session_conf = tf.ConfigProto(\n",
    "        allow_soft_placement=True, log_device_placement=False)\n",
    "    sess = tf.Session(config=session_conf)\n",
    "    with sess.as_default():\n",
    "        X, fnames_batch = data_flow.input_pipeline(\n",
    "            triples_train[:batch_size*3], [n_sents, n_words], \n",
    "            batch_size=batch_size, num_epochs=num_epochs)\n",
    "\n",
    "        model = cnn.TextCNN(\n",
    "            n_sents,\n",
    "            n_words,\n",
    "            vocab_size,\n",
    "            embedding_size,\n",
    "            batch_size,\n",
    "            sent_filter_sizes=sent_filter_sizes,\n",
    "            sent_nb_filter=sent_nb_filter,\n",
    "            sent_embed_size=sent_embed_size,\n",
    "            doc_filter_sizes=doc_filter_sizes,\n",
    "            doc_nb_filter=doc_nb_filter,\n",
    "            doc_embed_size=doc_embed_size,\n",
    "            sent_kmax=sent_kmax,\n",
    "            doc_kmax=doc_kmax,\n",
    "            learning_rate=learning_rate)\n",
    "        train_op = model.optimize(X)\n",
    "\n",
    "        init_local = tf.local_variables_initializer()\n",
    "        init_global = tf.global_variables_initializer()\n",
    "        sess.run([init_global, init_local])\n",
    "\n",
    "        model.init_summary()\n",
    "        #!!!! index is shifted by 1\n",
    "        model.init_lookup_table(word_embeddings)\n",
    "\n",
    "#         pprint([n.name for n in tf.get_default_graph().as_graph_def().node])\n",
    "\n",
    "        coord = tf.train.Coordinator()\n",
    "        threads = tf.train.start_queue_runners(sess=sess, coord=coord)\n",
    "\n",
    "        try:\n",
    "            while not coord.should_stop():\n",
    "                _, step, loss, summary = sess.run([\n",
    "                    train_op, model.global_step, model.loss_op,\n",
    "                    model.merged_summary_op\n",
    "                ], feed_dict = {model.phase: 1})\n",
    "                model.add_summary(summary, step)\n",
    "                logging.info('step %s, loss %s' % (step, loss))\n",
    "        except tf.errors.OutOfRangeError:\n",
    "            logging.info('Done training -- epoch limit reached')\n",
    "        finally:\n",
    "            # When done, ask the threads to stop.\n",
    "            coord.request_stop()\n",
    "\n",
    "        # Wait for threads to finish.\n",
    "        coord.join(threads)\n",
    "        model.save(step)\n",
    "\n",
    "except Exception as e:\n",
    "    logging.exception(\"train error\")\n",
    "    send_email('notebook_url', subject='train error', body=e)\n",
    "finally:\n",
    "#     send_email('notebook_url', subject='finished training')\n",
    "    pass\n",
    "        \n",
    "logging.info(\"--- %s seconds ---\" % (time.time() - start_time))"
   ]
  },
  {
   "cell_type": "markdown",
   "metadata": {},
   "source": [
    "# Test"
   ]
  },
  {
   "cell_type": "code",
   "execution_count": 19,
   "metadata": {
    "ExecuteTime": {
     "end_time": "2017-09-08T20:30:25.246265Z",
     "start_time": "2017-09-08T20:30:24.973102Z"
    },
    "scrolled": true
   },
   "outputs": [
    {
     "name": "stdout",
     "output_type": "stream",
     "text": [
      "2017-09-08 18:12:19.499338-10.data-00000-of-00001\r\n",
      "2017-09-08 18:12:19.499338-10.index\r\n",
      "2017-09-08 18:12:19.499338-10.meta\r\n",
      "2017-09-08 18:39:29.996515-30.data-00000-of-00001\r\n",
      "2017-09-08 18:39:29.996515-30.index\r\n",
      "2017-09-08 18:39:29.996515-30.meta\r\n",
      "2017-09-08 19:32:23.886775-30.data-00000-of-00001\r\n",
      "2017-09-08 19:32:23.886775-30.index\r\n",
      "2017-09-08 19:32:23.886775-30.meta\r\n",
      "2017-09-08 23:28:26.245849-3.data-00000-of-00001\r\n",
      "2017-09-08 23:28:26.245849-3.index\r\n",
      "2017-09-08 23:28:26.245849-3.meta\r\n",
      "2017-09-08 23:30:22.848948-3.data-00000-of-00001\r\n",
      "2017-09-08 23:30:22.848948-3.index\r\n",
      "2017-09-08 23:30:22.848948-3.meta\r\n",
      "checkpoint\r\n"
     ]
    }
   ],
   "source": [
    "model_dir = join(DATA_FOLDER, 'models')\n",
    "!ls {model_dir}"
   ]
  },
  {
   "cell_type": "code",
   "execution_count": 20,
   "metadata": {
    "ExecuteTime": {
     "end_time": "2017-09-08T20:30:48.625242Z",
     "start_time": "2017-09-08T20:30:48.621567Z"
    },
    "collapsed": true
   },
   "outputs": [],
   "source": [
    "def chunks(l, n):\n",
    "    \"\"\"Yield successive n-sized chunks from l.\"\"\"\n",
    "    for i in range(0, len(l), n):\n",
    "        yield l[i:i + n]"
   ]
  },
  {
   "cell_type": "code",
   "execution_count": 21,
   "metadata": {
    "ExecuteTime": {
     "end_time": "2017-09-08T20:30:49.392557Z",
     "start_time": "2017-09-08T20:30:48.627280Z"
    }
   },
   "outputs": [
    {
     "name": "stderr",
     "output_type": "stream",
     "text": [
      "2017-09-08 23:30:49,390 [MainThread  ] [INFO ]  len(chunked) = 422394\n"
     ]
    },
    {
     "name": "stdout",
     "output_type": "stream",
     "text": [
      "['../data/corpus/5984b84fb6b1132eeb638535.txt']\n"
     ]
    }
   ],
   "source": [
    "chunked = list(chunks(ids, 3))\n",
    "print(chunked.pop())\n",
    "logging.info('len(chunked) = %s' % len(chunked))"
   ]
  },
  {
   "cell_type": "code",
   "execution_count": 22,
   "metadata": {
    "ExecuteTime": {
     "end_time": "2017-09-08T20:30:49.396495Z",
     "start_time": "2017-09-08T20:30:49.393996Z"
    },
    "collapsed": true
   },
   "outputs": [],
   "source": [
    "def last_model(model_dir):\n",
    "    fnames = glob(join(model_dir, '*.meta'))\n",
    "    return max(fnames)"
   ]
  },
  {
   "cell_type": "markdown",
   "metadata": {},
   "source": [
    "https://github.com/aymericdamien/TensorFlow-Examples/blob/master/examples/4_Utils/save_restore_model.py"
   ]
  },
  {
   "cell_type": "code",
   "execution_count": 28,
   "metadata": {
    "ExecuteTime": {
     "end_time": "2017-09-08T20:33:55.273238Z",
     "start_time": "2017-09-08T20:33:43.402161Z"
    },
    "scrolled": true
   },
   "outputs": [
    {
     "name": "stderr",
     "output_type": "stream",
     "text": [
      "2017-09-08 23:33:43,435 [MainThread  ] [INFO ]  start testing ...\n"
     ]
    },
    {
     "name": "stdout",
     "output_type": "stream",
     "text": [
      "INFO:tensorflow:Restoring parameters from ../data/models/2017-09-08 23:30:22.848948-3\n"
     ]
    },
    {
     "name": "stderr",
     "output_type": "stream",
     "text": [
      "2017-09-08 23:33:46,746 [MainThread  ] [INFO ]  Restoring parameters from ../data/models/2017-09-08 23:30:22.848948-3\n",
      "2017-09-08 23:33:53,624 [MainThread  ] [INFO ]  step 0, loss 0.230151\n",
      "2017-09-08 23:33:53,625 [MainThread  ] [INFO ]  Done testing -- epoch limit reached\n"
     ]
    }
   ],
   "source": [
    "logging.info('start testing ...')\n",
    "\n",
    "try:\n",
    "    tf.reset_default_graph()\n",
    "    tf.set_random_seed(0)\n",
    "    session_conf = tf.ConfigProto(\n",
    "        allow_soft_placement=True, log_device_placement=False)\n",
    "    sess = tf.Session(config=session_conf)    \n",
    "    with sess.as_default():\n",
    "        X, fnames_batch = data_flow.input_pipeline(\n",
    "            chunked, [n_sents, n_words], batch_size=batch_size, \n",
    "            num_epochs=1, shuffle=False)\n",
    "\n",
    "        init_local = tf.local_variables_initializer()\n",
    "        init_global = tf.global_variables_initializer()\n",
    "        sess.run([init_global, init_local])\n",
    "\n",
    "        # do not restore before global initialization, otherwise all weights are set to default !!!\n",
    "        saver = tf.train.import_meta_graph(last_model(model_dir), input_map={'X':X})\n",
    "        saver.restore(sess, tf.train.latest_checkpoint(model_dir))\n",
    "        graph = tf.get_default_graph()\n",
    "\n",
    "        op_name = 'optimize/loss/doc_embed_normalized'\n",
    "        doc_embed_normalized = graph.get_operation_by_name(op_name).outputs[0]\n",
    "\n",
    "        anchor, positive, negative = tf.unstack(\n",
    "            tf.reshape(doc_embed_normalized, [-1, 3, doc_kmax * doc_nb_filter * len(doc_filter_sizes)]),\n",
    "            3, 1)\n",
    "        _loss = cnn.triplet_loss(anchor, positive, negative)\n",
    "\n",
    "#         pprint([n.name for n in tf.get_default_graph().as_graph_def().node])\n",
    "\n",
    "        doc_embeds, fnames = [], []\n",
    "\n",
    "        coord = tf.train.Coordinator()\n",
    "        threads = tf.train.start_queue_runners(sess=sess, coord=coord)\n",
    "\n",
    "        step = 0\n",
    "        try:\n",
    "            while not coord.should_stop():\n",
    "                [batch_embeds, loss, _names] = sess.run([doc_embed_normalized, \n",
    "                                                         _loss, fnames_batch])\n",
    "                doc_embeds.append(batch_embeds)\n",
    "                fnames += list(_names)\n",
    "                logging.info('step %s, loss %s' % (step, loss))\n",
    "                step+=1\n",
    "        except tf.errors.OutOfRangeError:\n",
    "            logging.info('Done testing -- epoch limit reached')\n",
    "        finally:\n",
    "            # When done, ask the threads to stop.\n",
    "            coord.request_stop()\n",
    "\n",
    "        # Wait for threads to finish.\n",
    "        coord.join(threads)\n",
    "\n",
    "except Exception as e:\n",
    "    logging.exception(\"test error\")\n",
    "    send_email('notebook_url', subject='test error', body=e)\n",
    "finally:\n",
    "#     send_email('notebook_url', subject='finished testing')\n",
    "    pass"
   ]
  },
  {
   "cell_type": "code",
   "execution_count": 22,
   "metadata": {
    "ExecuteTime": {
     "end_time": "2017-08-28T13:30:43.335809Z",
     "start_time": "2017-08-28T13:30:43.318513Z"
    },
    "collapsed": true
   },
   "outputs": [],
   "source": [
    "fnames = np.concatenate(fnames)\n",
    "doc_embeds_reshaped = np.reshape(np.concatenate(doc_embeds), [-1, doc_embed_size])"
   ]
  },
  {
   "cell_type": "code",
   "execution_count": 23,
   "metadata": {
    "ExecuteTime": {
     "end_time": "2017-08-28T13:30:43.342196Z",
     "start_time": "2017-08-28T13:30:43.338022Z"
    }
   },
   "outputs": [
    {
     "data": {
      "text/plain": [
       "19200"
      ]
     },
     "execution_count": 23,
     "metadata": {},
     "output_type": "execute_result"
    }
   ],
   "source": [
    "len(fnames)"
   ]
  },
  {
   "cell_type": "code",
   "execution_count": 130,
   "metadata": {
    "ExecuteTime": {
     "end_time": "2017-08-28T08:23:39.752117Z",
     "start_time": "2017-08-28T08:23:39.747882Z"
    },
    "collapsed": true
   },
   "outputs": [],
   "source": [
    "test_fn = fnames[234]\n",
    "test_vec = doc_embeds_reshaped[234]"
   ]
  },
  {
   "cell_type": "code",
   "execution_count": 131,
   "metadata": {
    "ExecuteTime": {
     "end_time": "2017-08-28T08:23:44.077203Z",
     "start_time": "2017-08-28T08:23:44.058649Z"
    },
    "collapsed": true
   },
   "outputs": [],
   "source": [
    "dists = np.sum(np.square(doc_embeds_reshaped - test_vec), 1)"
   ]
  },
  {
   "cell_type": "code",
   "execution_count": 137,
   "metadata": {
    "ExecuteTime": {
     "end_time": "2017-08-28T08:29:02.530644Z",
     "start_time": "2017-08-28T08:29:02.509249Z"
    },
    "scrolled": true
   },
   "outputs": [
    {
     "data": {
      "text/plain": [
       "array(['../data/corpus/5984cc8cb6b1131bd4638512.txt',\n",
       "       '../data/corpus/5984c1ffb6b1132b7563853c.txt',\n",
       "       '../data/corpus/5984d30db6b1135bda63851f.txt',\n",
       "       '../data/corpus/5984d5fbb6b1137801638547.txt',\n",
       "       '../data/corpus/5984bbddb6b1135d74638520.txt',\n",
       "       '../data/corpus/5984cc50b6b1131a4b63852a.txt',\n",
       "       '../data/corpus/5984b6a5b6b11316926384f9.txt',\n",
       "       '../data/corpus/5984bebab6b1130130638539.txt',\n",
       "       '../data/corpus/5984b6aab6b113168b63851e.txt',\n",
       "       '../data/corpus/5984c21eb6b1132c8c63854a.txt',\n",
       "       '../data/corpus/5984dd51b6b11333bd638515.txt',\n",
       "       '../data/corpus/5984d037b6b1133d19638501.txt',\n",
       "       '../data/corpus/5984d721b6b1137f2a638543.txt',\n",
       "       '../data/corpus/5984c0e3b6b1131d2f638505.txt',\n",
       "       '../data/corpus/5984b8eeb6b1133a506384ef.txt',\n",
       "       '../data/corpus/5984b7f4b6b1132a7e63854f.txt',\n",
       "       '../data/corpus/5984c6c7b6b1135e7263852a.txt',\n",
       "       '../data/corpus/5984bedbb6b11302a9638538.txt',\n",
       "       '../data/corpus/5984b7dfb6b113295b63853e.txt',\n",
       "       '../data/corpus/5984b786b6b11325646384fc.txt',\n",
       "       '../data/corpus/5984b840b6b1132dc3638535.txt',\n",
       "       '../data/corpus/5984d7deb6b11307c26384ef.txt',\n",
       "       '../data/corpus/5984db6fb6b11321a96384ef.txt',\n",
       "       '../data/corpus/5984c413b6b113425b63851d.txt',\n",
       "       '../data/corpus/5984d64cb6b113799863854d.txt',\n",
       "       '../data/corpus/5984bfbdb6b1130b78638507.txt',\n",
       "       '../data/corpus/5984c000b6b1130eb86384f1.txt',\n",
       "       '../data/corpus/5984b99fb6b113413a63850e.txt',\n",
       "       '../data/corpus/5984c439b6b11343bd638511.txt',\n",
       "       '../data/corpus/5984ce67b6b1132a5263850f.txt',\n",
       "       '../data/corpus/5984cf6eb6b11333ce638519.txt',\n",
       "       '../data/corpus/5984b792b6b113255d638548.txt',\n",
       "       '../data/corpus/5984bfe1b6b1130ca5638544.txt',\n",
       "       '../data/corpus/5984b68ab6b1131493638548.txt',\n",
       "       '../data/corpus/5984cbfeb6b11318ce638508.txt',\n",
       "       '../data/corpus/5984ce72b6b1132a36638526.txt',\n",
       "       '../data/corpus/5984b84fb6b1132ed463850d.txt',\n",
       "       '../data/corpus/5984d6f9b6b1137f30638516.txt',\n",
       "       '../data/corpus/5984cb22b6b1130d80638537.txt',\n",
       "       '../data/corpus/5984dde6b6b11337346384f6.txt',\n",
       "       '../data/corpus/5984c248b6b1132edf638505.txt',\n",
       "       '../data/corpus/5984df45b6b1133fa063854a.txt',\n",
       "       '../data/corpus/5984d163b6b113441b638542.txt',\n",
       "       '../data/corpus/5984b685b6b113149e638528.txt',\n",
       "       '../data/corpus/5984b6abb6b11316af638517.txt',\n",
       "       '../data/corpus/5984b6abb6b11316af63851c.txt',\n",
       "       '../data/corpus/5984bc31b6b11361bb638504.txt',\n",
       "       '../data/corpus/5984b6edb6b11319cb638527.txt',\n",
       "       '../data/corpus/5984c9f6b6b11301ad638525.txt',\n",
       "       '../data/corpus/5984c686b6b11359ac63854c.txt',\n",
       "       '../data/corpus/5984cafeb6b1130a92638544.txt',\n",
       "       '../data/corpus/5984bf60b6b113078d63853c.txt',\n",
       "       '../data/corpus/5984b627b6b1130b9263854d.txt',\n",
       "       '../data/corpus/5984ca1eb6b113033163850e.txt',\n",
       "       '../data/corpus/5984bf9eb6b1130a46638516.txt',\n",
       "       '../data/corpus/5984c50ab6b1134d60638542.txt',\n",
       "       '../data/corpus/5984da5eb6b1131a3a638522.txt',\n",
       "       '../data/corpus/5984c54fb6b113508763850a.txt',\n",
       "       '../data/corpus/5984d7b4b6b11305756384ff.txt',\n",
       "       '../data/corpus/5984bcf1b6b1136a31638515.txt',\n",
       "       '../data/corpus/5984bd11b6b1136b6d638500.txt',\n",
       "       '../data/corpus/5984ca9db6b1130651638502.txt',\n",
       "       '../data/corpus/5984bad6b6b11350df638522.txt',\n",
       "       '../data/corpus/5984ba85b6b1134d82638534.txt',\n",
       "       '../data/corpus/5984d1c3b6b113472d63852d.txt',\n",
       "       '../data/corpus/5984d676b6b1137b4a638507.txt',\n",
       "       '../data/corpus/5984d314b6b1135bd663853b.txt',\n",
       "       '../data/corpus/5984c492b6b113466b638522.txt',\n",
       "       '../data/corpus/5984bc81b6b1136597638545.txt',\n",
       "       '../data/corpus/5984c861b6b1136d75638518.txt',\n",
       "       '../data/corpus/5984c238b6b1132db4638549.txt',\n",
       "       '../data/corpus/5984b6fdb6b1131ad06384f2.txt',\n",
       "       '../data/corpus/5984b6d6b6b11318a963851d.txt',\n",
       "       '../data/corpus/5984bfb9b6b1130b6e6384fb.txt',\n",
       "       '../data/corpus/5984bb73b6b11359b1638529.txt',\n",
       "       '../data/corpus/5984b627b6b1130b7963853a.txt',\n",
       "       '../data/corpus/5984ba28b6b11349e263854d.txt',\n",
       "       '../data/corpus/5984b6bfb6b11317ab638509.txt',\n",
       "       '../data/corpus/5984c3b3b6b1133ef8638542.txt',\n",
       "       '../data/corpus/5984be8cb6b1137eda63851c.txt',\n",
       "       '../data/corpus/5984db5fb6b113209263852c.txt',\n",
       "       '../data/corpus/5984beb3b6b113014063852f.txt',\n",
       "       '../data/corpus/5984c067b6b11317cc638520.txt',\n",
       "       '../data/corpus/5984ca9ab6b113065a638529.txt',\n",
       "       '../data/corpus/5984be62b6b1137ca763854a.txt',\n",
       "       '../data/corpus/5984bdacb6b113743a638523.txt',\n",
       "       '../data/corpus/5984c653b6b113584d63851a.txt',\n",
       "       '../data/corpus/5984dcfab6b113315663851c.txt',\n",
       "       '../data/corpus/5984cb07b6b1130b8763850b.txt',\n",
       "       '../data/corpus/5984ba86b6b1134d6b638540.txt',\n",
       "       '../data/corpus/5984c85cb6b1136d8563850d.txt',\n",
       "       '../data/corpus/5984b715b6b1131bd8638502.txt',\n",
       "       '../data/corpus/5984dc7ab6b1132caf638529.txt',\n",
       "       '../data/corpus/5984b593b6b11304a8638545.txt',\n",
       "       '../data/corpus/5984cecab6b1132ce3638508.txt',\n",
       "       '../data/corpus/5984cd3ab6b113213a638527.txt',\n",
       "       '../data/corpus/5984dc83b6b1132cb663851d.txt',\n",
       "       '../data/corpus/5984cccdb6b1131d6e638529.txt',\n",
       "       '../data/corpus/5984bf30b6b1130664638538.txt',\n",
       "       '../data/corpus/5984bc97b6b11366b4638521.txt',\n",
       "       '../data/corpus/5984b8c6b6b1133842638515.txt',\n",
       "       '../data/corpus/5984bf60b6b113078e63852d.txt',\n",
       "       '../data/corpus/5984b60ab6b1130a6b638525.txt',\n",
       "       '../data/corpus/5984c4e1b6b11349a6638533.txt',\n",
       "       '../data/corpus/5984dabcb6b1131be9638536.txt',\n",
       "       '../data/corpus/5984bde5b6b113758b63854b.txt',\n",
       "       '../data/corpus/5984be0ab6b11376d263852e.txt',\n",
       "       '../data/corpus/5984c409b6b113426a6384fe.txt',\n",
       "       '../data/corpus/5984bfc6b6b1130b78638532.txt',\n",
       "       '../data/corpus/5984bc22b6b1135fde63854c.txt',\n",
       "       '../data/corpus/5984b825b6b1132ca663853f.txt',\n",
       "       '../data/corpus/5984dd8ab6b11335666384f2.txt',\n",
       "       '../data/corpus/5984babdb6b1134fb163852a.txt',\n",
       "       '../data/corpus/5984cb98b6b113145263853c.txt',\n",
       "       '../data/corpus/5984cbf7b6b11318d66384f6.txt',\n",
       "       '../data/corpus/5984c9b6b6b1137ef7638500.txt',\n",
       "       '../data/corpus/5984c7b2b6b1136915638503.txt',\n",
       "       '../data/corpus/5984d101b6b11341c8638523.txt',\n",
       "       '../data/corpus/5984d36bb6b1135f4163851b.txt',\n",
       "       '../data/corpus/5984b671b6b113139a63852a.txt',\n",
       "       '../data/corpus/5984c3e0b6b1134121638510.txt',\n",
       "       '../data/corpus/5984b959b6b1133f016384ef.txt',\n",
       "       '../data/corpus/5984bf61b6b113078e63853a.txt',\n",
       "       '../data/corpus/5984bc8bb6b11366bd6384f9.txt',\n",
       "       '../data/corpus/5984d5deb6b11377f9638504.txt',\n",
       "       '../data/corpus/5984c161b6b11321276384f9.txt',\n",
       "       '../data/corpus/5984d32eb6b1135ce4638542.txt',\n",
       "       '../data/corpus/5984bebcb6b113013f638539.txt',\n",
       "       '../data/corpus/5984c0acb6b1131af863851c.txt',\n",
       "       '../data/corpus/5984c90fb6b113778063852c.txt',\n",
       "       '../data/corpus/5984beb5b6b1137ffa638522.txt',\n",
       "       '../data/corpus/5984cc45b6b1131a5a63850e.txt',\n",
       "       '../data/corpus/5984be83b6b1137ed36384f7.txt',\n",
       "       '../data/corpus/5984d421b6b11363a5638517.txt',\n",
       "       '../data/corpus/5984bd12b6b1136b7663850d.txt',\n",
       "       '../data/corpus/5984c32bb6b1133643638517.txt',\n",
       "       '../data/corpus/5984db10b6b1131ed4638508.txt',\n",
       "       '../data/corpus/5984c750b6b113658a63854c.txt',\n",
       "       '../data/corpus/5984ca38b6b113033663853f.txt',\n",
       "       '../data/corpus/5984defdb6b1133d3163852b.txt',\n",
       "       '../data/corpus/5984c4b6b6b1134798638514.txt',\n",
       "       '../data/corpus/5984bff0b6b1130da463850b.txt',\n",
       "       '../data/corpus/5984c63bb6b11356f6638540.txt',\n",
       "       '../data/corpus/5984c727b6b11364536384f7.txt',\n",
       "       '../data/corpus/5984bfb8b6b1130b856384f9.txt',\n",
       "       '../data/corpus/5984b790b6b113255e638539.txt',\n",
       "       '../data/corpus/5984c9f5b6b113019563853c.txt',\n",
       "       '../data/corpus/5984c2b1b6b113316663854f.txt',\n",
       "       '../data/corpus/5984b93fb6b1133db5638506.txt',\n",
       "       '../data/corpus/5984b5fbb6b113094d638546.txt',\n",
       "       '../data/corpus/5984b6d6b6b11318aa638525.txt',\n",
       "       '../data/corpus/5984da6ab6b1131a42638536.txt',\n",
       "       '../data/corpus/5984bf95b6b1130a3c6384f0.txt',\n",
       "       '../data/corpus/5984d32eb6b1135cdd638540.txt',\n",
       "       '../data/corpus/5984c132b6b1131fbf6384f1.txt',\n",
       "       '../data/corpus/5984c93fb6b1137998638521.txt',\n",
       "       '../data/corpus/5984dbceb6b1132378638531.txt',\n",
       "       '../data/corpus/5984d43ab6b113639263853e.txt',\n",
       "       '../data/corpus/5984d3e2b6b11361ef638525.txt',\n",
       "       '../data/corpus/5984c49bb6b113465a63851c.txt',\n",
       "       '../data/corpus/5984d868b6b113109b6384fc.txt',\n",
       "       '../data/corpus/5984b599b6b113058a6384f2.txt',\n",
       "       '../data/corpus/5984b607b6b1130a6263850a.txt',\n",
       "       '../data/corpus/5984bd4eb6b11370e163850a.txt',\n",
       "       '../data/corpus/5984ba60b6b1134c2b63853e.txt',\n",
       "       '../data/corpus/5984d52eb6b1136e116384fd.txt',\n",
       "       '../data/corpus/5984c08eb6b11319be638511.txt',\n",
       "       '../data/corpus/5984d532b6b1136e20638551.txt',\n",
       "       '../data/corpus/5984cac7b6b113084a6384fd.txt',\n",
       "       '../data/corpus/5984bdd1b6b11375a56384fb.txt',\n",
       "       '../data/corpus/5984c200b6b1132b6b63854a.txt',\n",
       "       '../data/corpus/5984b6a3b6b113169e6384ee.txt',\n",
       "       '../data/corpus/5984ca64b6b11304bb638531.txt',\n",
       "       '../data/corpus/5984bc6fb6b11365936384f8.txt',\n",
       "       '../data/corpus/5984b58eb6b11304ab638533.txt',\n",
       "       '../data/corpus/5984b8e2b6b1133943638527.txt',\n",
       "       '../data/corpus/5984b639b6b1130d77638539.txt',\n",
       "       '../data/corpus/5984b5b8b6b113067363854a.txt',\n",
       "       '../data/corpus/5984bf47b6b11307936384f2.txt',\n",
       "       '../data/corpus/5984bd90b6b11372fb63854f.txt',\n",
       "       '../data/corpus/5984cae0b6b1130983638522.txt',\n",
       "       '../data/corpus/5984bb1ab6b113572e63851d.txt',\n",
       "       '../data/corpus/5984cb7bb6b113131c63853d.txt',\n",
       "       '../data/corpus/5984ba60b6b1134c3c638549.txt',\n",
       "       '../data/corpus/5984b6bbb6b11317ae6384f5.txt',\n",
       "       '../data/corpus/5984c327b6b11336406384f0.txt',\n",
       "       '../data/corpus/5984be67b6b1137db66384f1.txt',\n",
       "       '../data/corpus/5984be17b6b11377f3638534.txt',\n",
       "       '../data/corpus/5984d678b6b1137b5863852a.txt',\n",
       "       '../data/corpus/5984c29eb6b113315263850d.txt',\n",
       "       '../data/corpus/5984becab6b11302a26384f3.txt',\n",
       "       '../data/corpus/5984dd2eb6b1133280638543.txt',\n",
       "       '../data/corpus/5984ccfbb6b1131ee063851b.txt',\n",
       "       '../data/corpus/5984c169b6b113211963853f.txt',\n",
       "       '../data/corpus/5984bc98b6b11366bf638542.txt',\n",
       "       '../data/corpus/5984d0f3b6b11341ba638505.txt',\n",
       "       '../data/corpus/5984be6eb6b1137da6638515.txt',\n",
       "       '../data/corpus/5984b5e1b6b113084963852d.txt',\n",
       "       '../data/corpus/5984d4cfb6b113682a638509.txt',\n",
       "       '../data/corpus/5984d362b6b1135f2f6384fb.txt',\n",
       "       '../data/corpus/5984db2cb6b1131eb4638540.txt',\n",
       "       '../data/corpus/5984cd33b6b11321336384f8.txt',\n",
       "       '../data/corpus/5984d969b6b11315fe63850a.txt',\n",
       "       '../data/corpus/5984bec9b6b11302ae6384ee.txt',\n",
       "       '../data/corpus/5984cb8eb6b1131458638517.txt',\n",
       "       '../data/corpus/5984d31fb6b1135cde6384f8.txt',\n",
       "       '../data/corpus/5984b6b2b6b113168c638546.txt',\n",
       "       '../data/corpus/5984cf9cb6b113368d63852d.txt',\n",
       "       '../data/corpus/5984d315b6b1135bd363854a.txt',\n",
       "       '../data/corpus/5984b9e2b6b11347bf63850a.txt',\n",
       "       '../data/corpus/5984bd8fb6b113731463852a.txt',\n",
       "       '../data/corpus/5984cd73b6b113235363853f.txt',\n",
       "       '../data/corpus/5984d086b6b1133ec2638508.txt',\n",
       "       '../data/corpus/5984de6bb6b1133904638543.txt',\n",
       "       '../data/corpus/5984ba64b6b1134c3b63854f.txt',\n",
       "       '../data/corpus/5984b5f6b6b113094463852e.txt',\n",
       "       '../data/corpus/5984bb69b6b11359d3638515.txt',\n",
       "       '../data/corpus/5984dbf2b6b1132367638534.txt',\n",
       "       '../data/corpus/5984cbe3b6b11317a2638523.txt',\n",
       "       '../data/corpus/5984bf28b6b11306626384fe.txt',\n",
       "       '../data/corpus/5984d3eeb6b11361fd638551.txt',\n",
       "       '../data/corpus/5984c65ab6b1135855638549.txt',\n",
       "       '../data/corpus/5984c245b6b1132ec06384fe.txt',\n",
       "       '../data/corpus/5984cbdcb6b11317a263850c.txt',\n",
       "       '../data/corpus/5984bff9b6b1130dbd638551.txt',\n",
       "       '../data/corpus/5984d3e4b6b11361f963853d.txt',\n",
       "       '../data/corpus/5984dd9fb6b1133560638514.txt',\n",
       "       '../data/corpus/5984c53ab6b1134f6163852f.txt',\n",
       "       '../data/corpus/5984b800b6b1132b996384f3.txt',\n",
       "       '../data/corpus/5984b9a0b6b1134143638534.txt',\n",
       "       '../data/corpus/5984c9c5b6b1137f0f63852f.txt',\n",
       "       '../data/corpus/5984c9e4b6b11301996384f5.txt',\n",
       "       '../data/corpus/5984bbdbb6b1135d7e638511.txt',\n",
       "       '../data/corpus/5984b923b6b1133c96638500.txt',\n",
       "       '../data/corpus/5984d2adb6b1135601638537.txt',\n",
       "       '../data/corpus/5984dd68b6b11333be638545.txt',\n",
       "       '../data/corpus/5984cff6b6b1133ad463850c.txt',\n",
       "       '../data/corpus/5984dcbcb6b1132f0e6384f9.txt',\n",
       "       '../data/corpus/5984ba34b6b1134b216384f9.txt',\n",
       "       '../data/corpus/5984b5deb6b113083a638517.txt',\n",
       "       '../data/corpus/5984cf9fb6b113369763853e.txt',\n",
       "       '../data/corpus/5984d01eb6b1133c0663852f.txt',\n",
       "       '../data/corpus/5984cb1fb6b1130d75638500.txt',\n",
       "       '../data/corpus/5984c72cb6b113645263850a.txt',\n",
       "       '../data/corpus/5984c8a3b6b1136fe463851a.txt',\n",
       "       '../data/corpus/5984c4f5b6b1134ba2638516.txt',\n",
       "       '../data/corpus/5984b5f6b6b1130947638515.txt',\n",
       "       '../data/corpus/5984d1eeb6b11348bd638505.txt',\n",
       "       '../data/corpus/5984d52eb6b1136e27638505.txt',\n",
       "       '../data/corpus/5984c47db6b1134512638549.txt',\n",
       "       '../data/corpus/5984b6b1b6b11316af638544.txt',\n",
       "       '../data/corpus/5984bfa8b6b1130a4b63852b.txt',\n",
       "       '../data/corpus/5984c5d6b6b113543a63854f.txt',\n",
       "       '../data/corpus/5984bcacb6b11367e66384f2.txt',\n",
       "       '../data/corpus/5984d2fdb6b1135abd63854f.txt',\n",
       "       '../data/corpus/5984cac7b6b11308456384fa.txt',\n",
       "       '../data/corpus/5984c2e4b6b11332bb63854c.txt',\n",
       "       '../data/corpus/5984cbdab6b113179a638507.txt',\n",
       "       '../data/corpus/5984b7c3b6b113286163853a.txt',\n",
       "       '../data/corpus/5984c36bb6b1133b10638540.txt',\n",
       "       '../data/corpus/5984c2a4b6b1133165638510.txt',\n",
       "       '../data/corpus/5984be89b6b1137ed0638511.txt',\n",
       "       '../data/corpus/5984bd76b6b11371f4638546.txt',\n",
       "       '../data/corpus/5984d512b6b1136b49638534.txt',\n",
       "       '../data/corpus/5984d5b1b6b11376c96384f7.txt',\n",
       "       '../data/corpus/5984bcbfb6b11367f263854b.txt',\n",
       "       '../data/corpus/5984cfe8b6b11339be638535.txt',\n",
       "       '../data/corpus/5984b82fb6b1132dbc6384f2.txt',\n",
       "       '../data/corpus/5984b583b6b11303bd638541.txt',\n",
       "       '../data/corpus/5984d37db6b11360636384f0.txt',\n",
       "       '../data/corpus/5984cf9db6b113369263852f.txt',\n",
       "       '../data/corpus/5984b5cbb6b113074a638522.txt',\n",
       "       '../data/corpus/5984c232b6b1132dba638525.txt',\n",
       "       '../data/corpus/5984b5c9b6b113074a63851d.txt',\n",
       "       '../data/corpus/5984bb7ab6b11359bf638550.txt',\n",
       "       '../data/corpus/5984c1ffb6b1132b78638549.txt',\n",
       "       '../data/corpus/5984b680b6b1131494638511.txt',\n",
       "       '../data/corpus/5984d784b6b11303ef638546.txt',\n",
       "       '../data/corpus/5984bfc4b6b1130b6363851e.txt',\n",
       "       '../data/corpus/5984bb15b6b113572363853d.txt',\n",
       "       '../data/corpus/5984d7b4b6b113058b6384fb.txt',\n",
       "       '../data/corpus/5984bc42b6b113636d638506.txt',\n",
       "       '../data/corpus/5984c006b6b1130ebc638529.txt',\n",
       "       '../data/corpus/5984bdecb6b113758c638549.txt',\n",
       "       '../data/corpus/5984d528b6b1136d2a638540.txt',\n",
       "       '../data/corpus/5984bdf1b6b1137594638548.txt',\n",
       "       '../data/corpus/5984bf54b6b113079d63851c.txt',\n",
       "       '../data/corpus/5984c06cb6b11317d1638543.txt',\n",
       "       '../data/corpus/5984d50bb6b1136b516384f4.txt',\n",
       "       '../data/corpus/5984c8a0b6b1136fd963850a.txt',\n",
       "       '../data/corpus/5984c1c0b6b11327ab63852d.txt',\n",
       "       '../data/corpus/5984c641b6b113570263854d.txt',\n",
       "       '../data/corpus/5984bdacb6b113744463851a.txt',\n",
       "       '../data/corpus/5984ce9eb6b1132b9463852e.txt',\n",
       "       '../data/corpus/5984bf82b6b11308e8638526.txt',\n",
       "       '../data/corpus/5984ba25b6b11349e2638540.txt',\n",
       "       '../data/corpus/5984c234b6b1132db563852b.txt',\n",
       "       '../data/corpus/5984c592b6b11352d063852f.txt',\n",
       "       '../data/corpus/5984b8adb6b113372463851e.txt',\n",
       "       '../data/corpus/5984bab4b6b1134fcf638504.txt',\n",
       "       '../data/corpus/5984c552b6b113509a63850b.txt',\n",
       "       '../data/corpus/5984d5f7b6b113781263852c.txt',\n",
       "       '../data/corpus/5984d7ceb6b11306b2638518.txt',\n",
       "       '../data/corpus/5984c3c1b6b11340196384fa.txt',\n",
       "       '../data/corpus/5984bfdfb6b1130ca563852b.txt',\n",
       "       '../data/corpus/5984d867b6b11310a46384fd.txt',\n",
       "       '../data/corpus/5984c752b6b1136575638526.txt',\n",
       "       '../data/corpus/5984c752b6b1136575638526.txt',\n",
       "       '../data/corpus/5984deadb6b1133b56638513.txt',\n",
       "       '../data/corpus/5984dcdcb6b113302d63850d.txt',\n",
       "       '../data/corpus/5984b6c5b6b11317a6638536.txt',\n",
       "       '../data/corpus/5984c3dbb6b113412f6384f5.txt',\n",
       "       '../data/corpus/5984dce4b6b113302163851c.txt',\n",
       "       '../data/corpus/5984cfc8b6b11338a863853e.txt',\n",
       "       '../data/corpus/5984d7cab6b11306aa6384ff.txt',\n",
       "       '../data/corpus/5984cbe7b6b113179a638549.txt',\n",
       "       '../data/corpus/5984b7efb6b1132a7d638518.txt',\n",
       "       '../data/corpus/5984bac0b6b1134fbc63853d.txt',\n",
       "       '../data/corpus/5984c165b6b1132117638512.txt',\n",
       "       '../data/corpus/5984b80fb6b1132ba9638544.txt',\n",
       "       '../data/corpus/5984bed0b6b113028b638513.txt',\n",
       "       '../data/corpus/5984c8b6b6b11370f26384f9.txt',\n",
       "       '../data/corpus/5984db62b6b1132091638527.txt',\n",
       "       '../data/corpus/5984bdd3b6b11375946384fd.txt',\n",
       "       '../data/corpus/5984d572b6b11373a1638536.txt',\n",
       "       '../data/corpus/5984bad7b6b11350eb638529.txt',\n",
       "       '../data/corpus/5984d877b6b11310a163854f.txt',\n",
       "       '../data/corpus/5984b5d0b6b113073d638548.txt',\n",
       "       '../data/corpus/5984be6eb6b1137db363850b.txt',\n",
       "       '../data/corpus/5984c23ab6b1132da7638554.txt',\n",
       "       '../data/corpus/5984c24db6b1132ede63850c.txt',\n",
       "       '../data/corpus/5984d49db6b11366c3638546.txt',\n",
       "       '../data/corpus/5984c718b6b113633063852d.txt',\n",
       "       '../data/corpus/5984d4a8b6b11366b263851f.txt',\n",
       "       '../data/corpus/5984c602b6b113558d638521.txt',\n",
       "       '../data/corpus/5984c2c2b6b11332b66384ee.txt',\n",
       "       '../data/corpus/5984c981b6b1137cce6384fa.txt',\n",
       "       '../data/corpus/5984be50b6b1137c926384fb.txt',\n",
       "       '../data/corpus/5984ca05b6b11301a8638546.txt',\n",
       "       '../data/corpus/5984d175b6b113459b638509.txt',\n",
       "       '../data/corpus/5984cfbdb6b11338ac6384f1.txt',\n",
       "       '../data/corpus/5984bcf8b6b1136a26638532.txt',\n",
       "       '../data/corpus/5984c08fb6b11319c2638517.txt',\n",
       "       '../data/corpus/5984cb98b6b1131450638546.txt',\n",
       "       '../data/corpus/5984c89fb6b1136fe76384fb.txt',\n",
       "       '../data/corpus/5984cbc3b6b1131673638517.txt',\n",
       "       '../data/corpus/5984dc1eb6b113260063850f.txt',\n",
       "       '../data/corpus/5984d67cb6b1137b4d63850f.txt',\n",
       "       '../data/corpus/5984cad0b6b1130847638538.txt',\n",
       "       '../data/corpus/5984d923b6b113143063850b.txt',\n",
       "       '../data/corpus/5984dabcb6b1131be9638535.txt',\n",
       "       '../data/corpus/5984bc03b6b1135ebf63853a.txt',\n",
       "       '../data/corpus/5984b5e3b6b113083a63852c.txt',\n",
       "       '../data/corpus/5984ddf8b6b1133738638508.txt',\n",
       "       '../data/corpus/5984cf83b6b113359b638500.txt',\n",
       "       '../data/corpus/5984c795b6b11367cb63854e.txt',\n",
       "       '../data/corpus/5984c532b6b1134f7563850a.txt',\n",
       "       '../data/corpus/5984c318b6b1133539638508.txt',\n",
       "       '../data/corpus/5984d0f0b6b11341ca6384ef.txt',\n",
       "       '../data/corpus/5984c004b6b1130ea4638510.txt',\n",
       "       '../data/corpus/5984c187b6b113230863852b.txt',\n",
       "       '../data/corpus/5984c653b6b113585c63851d.txt',\n",
       "       '../data/corpus/5984bb47b6b113589063852d.txt',\n",
       "       '../data/corpus/5984cd73b6b1132343638544.txt',\n",
       "       '../data/corpus/5984b9d6b6b11346d06384f6.txt',\n",
       "       '../data/corpus/5984cd96b6b1132488638546.txt',\n",
       "       '../data/corpus/5984b5a7b6b113058963854f.txt',\n",
       "       '../data/corpus/5984bd49b6b11370e76384f6.txt',\n",
       "       '../data/corpus/5984bce0b6b113690863853f.txt',\n",
       "       '../data/corpus/5984c406b6b11342666384f8.txt',\n",
       "       '../data/corpus/5984bfc8b6b1130b69638539.txt',\n",
       "       '../data/corpus/5984ca96b6b113066c63854f.txt',\n",
       "       '../data/corpus/5984c233b6b1132dab63852e.txt',\n",
       "       '../data/corpus/5984b7bfb6b1132866638510.txt',\n",
       "       '../data/corpus/5984ca00b6b113019363854b.txt',\n",
       "       '../data/corpus/5984bbfcb6b1135eb7638505.txt',\n",
       "       '../data/corpus/5984b708b6b1131acf638533.txt',\n",
       "       '../data/corpus/5984be4db6b1137c8f6384fb.txt',\n",
       "       '../data/corpus/5984dd47b6b11333c2638504.txt',\n",
       "       '../data/corpus/5984ba98b6b1134e97638503.txt',\n",
       "       '../data/corpus/5984ba98b6b1134e97638503.txt',\n",
       "       '../data/corpus/5984dccab6b1132f0b63852f.txt',\n",
       "       '../data/corpus/5984b6c0b6b11317bb63851f.txt',\n",
       "       '../data/corpus/5984ba3ab6b1134b22638510.txt',\n",
       "       '../data/corpus/5984b7a0b6b1132683638522.txt',\n",
       "       '../data/corpus/5984dec9b6b1133b4e638530.txt',\n",
       "       '../data/corpus/5984bf60b6b113078d63853f.txt',\n",
       "       '../data/corpus/5984d248b6b1134f1e63853d.txt',\n",
       "       '../data/corpus/5984d390b6b113605b638508.txt',\n",
       "       '../data/corpus/5984dd1ab6b113327a6384ff.txt',\n",
       "       '../data/corpus/5984df2ab6b1133e8f638512.txt',\n",
       "       '../data/corpus/5984c906b6b11376a5638548.txt',\n",
       "       '../data/corpus/5984db7bb6b11321a2638514.txt',\n",
       "       '../data/corpus/5984cae0b6b113096b638528.txt',\n",
       "       '../data/corpus/5984d51cb6b1136c5563851c.txt',\n",
       "       '../data/corpus/5984c6d3b6b1135f69638544.txt',\n",
       "       '../data/corpus/5984c7afb6b11369266384fb.txt',\n",
       "       '../data/corpus/5984cd6db6b113234c63851f.txt',\n",
       "       '../data/corpus/5984cc39b6b1131a4a6384f4.txt',\n",
       "       '../data/corpus/5984c0e8b6b1131d3e638511.txt',\n",
       "       '../data/corpus/5984cc0cb6b11318cf63851d.txt',\n",
       "       '../data/corpus/5984c0edb6b1131d29638543.txt',\n",
       "       '../data/corpus/5984c234b6b1132dc0638525.txt',\n",
       "       '../data/corpus/5984dd29b6b1133285638543.txt',\n",
       "       '../data/corpus/5984b5dab6b113083a6384fd.txt',\n",
       "       '../data/corpus/5984c38eb6b1133dd7638506.txt',\n",
       "       '../data/corpus/5984c00ab6b1130eb963854d.txt',\n",
       "       '../data/corpus/5984d980b6b11315f6638551.txt',\n",
       "       '../data/corpus/5984d27eb6b113523c638506.txt',\n",
       "       '../data/corpus/5984be5db6b1137ca663854a.txt',\n",
       "       '../data/corpus/5984de51b6b113391863850b.txt',\n",
       "       '../data/corpus/5984cb28b6b1130e6b6384f0.txt',\n",
       "       '../data/corpus/5984b61db6b1130b7b6384f6.txt',\n",
       "       '../data/corpus/5984d89fb6b11311d563853d.txt',\n",
       "       '../data/corpus/5984bcd0b6b11368fd638516.txt',\n",
       "       '../data/corpus/5984d21cb6b1134c7363853b.txt',\n",
       "       '../data/corpus/5984bc81b6b1136597638544.txt',\n",
       "       '../data/corpus/5984b7dbb6b113297063854b.txt',\n",
       "       '../data/corpus/5984c411b6b113425d638523.txt',\n",
       "       '../data/corpus/5984c08bb6b11319db6384f2.txt',\n",
       "       '../data/corpus/5984dcddb6b113302a63850b.txt',\n",
       "       '../data/corpus/5984bf55b6b113079763851c.txt',\n",
       "       '../data/corpus/5984bb41b6b1135876638504.txt',\n",
       "       '../data/corpus/5984c3edb6b1134120638540.txt',\n",
       "       '../data/corpus/5984bd0fb6b1136b646384f6.txt',\n",
       "       '../data/corpus/5984beb9b6b113013063852d.txt',\n",
       "       '../data/corpus/5984caa1b6b113064c638528.txt',\n",
       "       '../data/corpus/5984c2f8b6b1133409638511.txt',\n",
       "       '../data/corpus/5984d25db6b1135049638533.txt',\n",
       "       '../data/corpus/5984b7ecb6b1132a86638518.txt',\n",
       "       '../data/corpus/5984bfbcb6b1130b6e638505.txt',\n",
       "       '../data/corpus/5984cc10b6b11318bf63851f.txt',\n",
       "       '../data/corpus/5984bb1db6b113572c638528.txt',\n",
       "       '../data/corpus/5984ca2eb6b113032e638531.txt',\n",
       "       '../data/corpus/5984c56fb6b11351ae638507.txt',\n",
       "       '../data/corpus/5984b818b6b1132cac6384f6.txt',\n",
       "       '../data/corpus/5984b916b6b1133b7e63854a.txt',\n",
       "       '../data/corpus/5984b5a4b6b113059663853d.txt',\n",
       "       '../data/corpus/5984defab6b1133d22638523.txt',\n",
       "       '../data/corpus/5984daa0b6b1131be4638528.txt',\n",
       "       '../data/corpus/5984cf42b6b113300e638523.txt',\n",
       "       '../data/corpus/5984ba85b6b1134d79638539.txt',\n",
       "       '../data/corpus/5984c8cbb6b11371f2638525.txt',\n",
       "       '../data/corpus/5984bfa6b6b1130a5363852c.txt',\n",
       "       '../data/corpus/5984dba8b6b11321b963854b.txt',\n",
       "       '../data/corpus/5984c857b6b1136d6c6384f2.txt',\n",
       "       '../data/corpus/5984bcbfb6b11367db63854c.txt',\n",
       "       '../data/corpus/5984d58ab6b11374ac638517.txt',\n",
       "       '../data/corpus/5984bfdeb6b1130ca2638520.txt',\n",
       "       '../data/corpus/5984b728b6b1131ce5638537.txt',\n",
       "       '../data/corpus/5984dc6cb6b1132bbb638514.txt',\n",
       "       '../data/corpus/5984b866b6b1132fe9638541.txt',\n",
       "       '../data/corpus/5984b90bb6b1133b71638510.txt',\n",
       "       '../data/corpus/5984dcc6b6b1132f09638530.txt',\n",
       "       '../data/corpus/5984c687b6b113599263854e.txt',\n",
       "       '../data/corpus/5984b912b6b1133b69638537.txt',\n",
       "       '../data/corpus/5984cbcbb6b113168963854f.txt',\n",
       "       '../data/corpus/5984cbaab6b1131558638526.txt',\n",
       "       '../data/corpus/5984c045b6b1131428638548.txt',\n",
       "       '../data/corpus/5984cd63b6b113234f6384f4.txt',\n",
       "       '../data/corpus/5984d3d0b6b11361f9638513.txt',\n",
       "       '../data/corpus/5984c0f1b6b1131d37638538.txt',\n",
       "       '../data/corpus/5984c0a7b6b1131ae86384fc.txt',\n",
       "       '../data/corpus/5984b659b6b113128e638502.txt',\n",
       "       '../data/corpus/5984caf3b6b1130a83638518.txt',\n",
       "       '../data/corpus/5984be60b6b1137c9c638545.txt',\n",
       "       '../data/corpus/5984cc8ab6b1131be0638515.txt',\n",
       "       '../data/corpus/5984c2d4b6b11332b763851c.txt',\n",
       "       '../data/corpus/5984bb88b6b1135ae66384fe.txt',\n",
       "       '../data/corpus/5984dc04b6b1132505638504.txt',\n",
       "       '../data/corpus/5984d6c2b6b1137df26384f1.txt',\n",
       "       '../data/corpus/5984c0b4b6b1131af2638537.txt',\n",
       "       '../data/corpus/5984b6bdb6b11317ac6384fc.txt',\n",
       "       '../data/corpus/5984c622b6b11356f76384fa.txt',\n",
       "       '../data/corpus/5984c416b6b113427763852d.txt',\n",
       "       '../data/corpus/5984d1b6b6b1134740638545.txt',\n",
       "       '../data/corpus/5984df2fb6b1133e9f63852e.txt',\n",
       "       '../data/corpus/5984bc96b6b11366b3638525.txt',\n",
       "       '../data/corpus/5984cf4db6b1133104638513.txt',\n",
       "       '../data/corpus/5984b6f5b6b11319c263853b.txt',\n",
       "       '../data/corpus/5984b9a4b6b1134137638522.txt',\n",
       "       '../data/corpus/5984bb12b6b11357356384ef.txt',\n",
       "       '../data/corpus/5984b707b6b1131ae163851a.txt',\n",
       "       '../data/corpus/5984d5bbb6b11376c963851d.txt',\n",
       "       '../data/corpus/5984c4eab6b1134aaf6384ff.txt',\n",
       "       '../data/corpus/5984b8a6b6b113370e6384f7.txt',\n",
       "       '../data/corpus/5984bd42b6b1136ff6638540.txt',\n",
       "       '../data/corpus/5984db8db6b11321a163854e.txt',\n",
       "       '../data/corpus/5984cf4db6b11330fd63853f.txt',\n",
       "       '../data/corpus/5984b860b6b1132fd9638519.txt',\n",
       "       '../data/corpus/5984b62fb6b1130c766384f6.txt',\n",
       "       '../data/corpus/5984bdfeb6b11376f1638521.txt',\n",
       "       '../data/corpus/5984b6eeb6b11319d663851d.txt',\n",
       "       '../data/corpus/5984d2f4b6b1135aab638529.txt',\n",
       "       '../data/corpus/5984cd81b6b113247a6384f1.txt',\n",
       "       '../data/corpus/5984c1f3b6b1132b7863850f.txt',\n",
       "       '../data/corpus/5984c315b6b11335496384f7.txt',\n",
       "       '../data/corpus/5984df3db6b1133fa3638510.txt',\n",
       "       '../data/corpus/5984bdd5b6b1137595638505.txt',\n",
       "       '../data/corpus/5984c3a7b6b1133ee6638506.txt',\n",
       "       '../data/corpus/5984ba60b6b1134c2b63853b.txt',\n",
       "       '../data/corpus/5984bf9eb6b1130a3763851b.txt',\n",
       "       '../data/corpus/5984dbd6b6b113236163851b.txt',\n",
       "       '../data/corpus/5984d34bb6b1135e0a638537.txt',\n",
       "       '../data/corpus/5984c9abb6b1137de3638536.txt',\n",
       "       '../data/corpus/5984b921b6b1133c8c6384f3.txt',\n",
       "       '../data/corpus/5984c986b6b1137ccf63851b.txt',\n",
       "       '../data/corpus/5984d7e6b6b11307ba638527.txt',\n",
       "       '../data/corpus/5984c115b6b1131e6163851b.txt',\n",
       "       '../data/corpus/5984b908b6b1133b806384f5.txt',\n",
       "       '../data/corpus/5984b670b6b113139763852c.txt',\n",
       "       '../data/corpus/5984cd47b6b113222b638500.txt',\n",
       "       '../data/corpus/5984b7e9b6b1132a6f638508.txt',\n",
       "       '../data/corpus/5984dac8b6b1131d47638507.txt',\n",
       "       '../data/corpus/5984b8fab6b1133a4963851b.txt',\n",
       "       '../data/corpus/5984d86db6b113109b63851a.txt',\n",
       "       '../data/corpus/5984daa5b6b1131c0163853c.txt',\n",
       "       '../data/corpus/5984bff1b6b1130db963851b.txt',\n",
       "       '../data/corpus/5984db50b6b113207f6384f7.txt',\n",
       "       '../data/corpus/5984cff6b6b1133ac863850f.txt',\n",
       "       '../data/corpus/5984c620b6b11356f26384f4.txt',\n",
       "       '../data/corpus/5984db98b6b11321ba638539.txt',\n",
       "       '../data/corpus/5984b8b4b6b113371d63854d.txt',\n",
       "       '../data/corpus/5984b900b6b1133a51638543.txt',\n",
       "       '../data/corpus/5984bd16b6b1136b75638532.txt',\n",
       "       '../data/corpus/5984bff0b6b1130db763850d.txt',\n",
       "       '../data/corpus/5984c4b8b6b113479263851f.txt',\n",
       "       '../data/corpus/5984b5f3b6b113095a63851d.txt',\n",
       "       '../data/corpus/5984b702b6b1131add638514.txt',\n",
       "       '../data/corpus/5984bc63b6b1136458638550.txt',\n",
       "       '../data/corpus/5984bac3b6b1134fc2638542.txt',\n",
       "       '../data/corpus/5984bc55b6b113645c63850b.txt',\n",
       "       '../data/corpus/5984cd48b6b113222e638501.txt',\n",
       "       '../data/corpus/5984caf0b6b1130a8e6384fb.txt',\n",
       "       '../data/corpus/5984d199b6b113459c63853a.txt',\n",
       "       '../data/corpus/5984cd66b6b1132357638500.txt',\n",
       "       '../data/corpus/5984bd03b6b1136a2e63854a.txt',\n",
       "       '../data/corpus/5984bd03b6b1136a2e63854a.txt',\n",
       "       '../data/corpus/5984d5c3b6b11376ce638543.txt',\n",
       "       '../data/corpus/5984bed3b6b11302a963851e.txt',\n",
       "       '../data/corpus/5984c3ceb6b1134013638539.txt',\n",
       "       '../data/corpus/5984bd90b6b113730463853d.txt',\n",
       "       '../data/corpus/5984bd74b6b11371f4638542.txt',\n",
       "       '../data/corpus/5984c211b6b1132c95638509.txt',\n",
       "       '../data/corpus/5984d353b6b1135e1563853a.txt',\n",
       "       '../data/corpus/5984d77bb6b11303cf638501.txt',\n",
       "       '../data/corpus/5984cbceb6b113168d638543.txt',\n",
       "       '../data/corpus/5984b93eb6b1133da1638504.txt',\n",
       "       '../data/corpus/5984cd37b6b113212763850e.txt',\n",
       "       '../data/corpus/5984d2c1b6b11357e4638530.txt',\n",
       "       '../data/corpus/5984cac8b6b113084c638506.txt',\n",
       "       '../data/corpus/5984b692b6b11315a3638500.txt',\n",
       "       '../data/corpus/5984c67eb6b11359a263851b.txt',\n",
       "       '../data/corpus/5984d833b6b1130c05638529.txt',\n",
       "       '../data/corpus/5984c563b6b113508563852d.txt',\n",
       "       '../data/corpus/5984bc9cb6b11366a5638531.txt',\n",
       "       '../data/corpus/5984ccf8b6b1131ef1638503.txt',\n",
       "       '../data/corpus/5984ca93b6b113065d63850c.txt',\n",
       "       '../data/corpus/5984b8feb6b1133a5363854e.txt',\n",
       "       '../data/corpus/5984c493b6b113466b638523.txt',\n",
       "       '../data/corpus/5984c7c2b6b113691d63852b.txt',\n",
       "       '../data/corpus/5984c81fb6b1136c0b6384f1.txt',\n",
       "       '../data/corpus/5984d835b6b1130c0a63854a.txt',\n",
       "       '../data/corpus/5984b93cb6b1133dc26384f6.txt',\n",
       "       '../data/corpus/5984d34db6b1135e04638532.txt',\n",
       "       '../data/corpus/5984dc32b6b113270563850a.txt',\n",
       "       '../data/corpus/5984c6f4b6b113622e638527.txt',\n",
       "       '../data/corpus/5984c0b1b6b1131af7638531.txt',\n",
       "       '../data/corpus/5984d402b6b11361e663853f.txt',\n",
       "       '../data/corpus/5984bfe2b6b1130ca9638544.txt',\n",
       "       '../data/corpus/5984be72b6b1137dab638534.txt',\n",
       "       '../data/corpus/5984b986b6b113401f638528.txt',\n",
       "       '../data/corpus/5984c2dcb6b11332a9638549.txt',\n",
       "       '../data/corpus/5984c3b1b6b1133eee638530.txt',\n",
       "       '../data/corpus/5984c2c6b6b11332ab638503.txt',\n",
       "       '../data/corpus/5984d68ab6b1137b4c638548.txt',\n",
       "       '../data/corpus/5984d244b6b1134f1e638527.txt',\n",
       "       '../data/corpus/5984c766b6b1136698638522.txt',\n",
       "       '../data/corpus/5984bd4bb6b11370e06384fd.txt',\n",
       "       '../data/corpus/5984bbfeb6b1135ec1638516.txt',\n",
       "       '../data/corpus/5984beb8b6b113014263852b.txt',\n",
       "       '../data/corpus/5984c32fb6b113363963854e.txt',\n",
       "       '../data/corpus/5984b593b6b1130493638550.txt',\n",
       "       '../data/corpus/5984d345b6b1135e01638510.txt',\n",
       "       '../data/corpus/5984dc4bb6b11328f3638514.txt',\n",
       "       '../data/corpus/5984ba38b6b1134b0e638514.txt',\n",
       "       '../data/corpus/5984c38db6b1133dd46384ff.txt',\n",
       "       '../data/corpus/5984c987b6b1137ce463850d.txt',\n",
       "       '../data/corpus/5984c073b6b11318ae6384fd.txt',\n",
       "       '../data/corpus/5984bf63b6b1130791638550.txt',\n",
       "       '../data/corpus/5984c748b6b113658b638508.txt',\n",
       "       '../data/corpus/5984cadcb6b113097e638503.txt',\n",
       "       '../data/corpus/5984d7e2b6b11307ab638506.txt',\n",
       "       '../data/corpus/5984b915b6b1133b80638547.txt',\n",
       "       '../data/corpus/5984db8cb6b11321ad638523.txt',\n",
       "       '../data/corpus/5984c178b6b113220c63852e.txt',\n",
       "       '../data/corpus/5984bd40b6b1136ff4638529.txt',\n",
       "       '../data/corpus/5984cec5b6b1132cf963850b.txt',\n",
       "       '../data/corpus/5984dce2b6b113303a63853e.txt',\n",
       "       '../data/corpus/5984b682b6b113149163851a.txt',\n",
       "       '../data/corpus/5984ca36b6b113031b63853b.txt',\n",
       "       '../data/corpus/5984c638b6b1135704638536.txt',\n",
       "       '../data/corpus/5984c3f7b6b113412f638543.txt',\n",
       "       '../data/corpus/5984b5c5b6b113073e638500.txt',\n",
       "       '../data/corpus/5984b69ab6b113158c63852a.txt',\n",
       "       '../data/corpus/5984ba43b6b1134b0b63854e.txt',\n",
       "       '../data/corpus/5984cc5eb6b1131a50638533.txt',\n",
       "       '../data/corpus/5984b5dcb6b113083063850c.txt',\n",
       "       '../data/corpus/5984b6f5b6b11319c263853c.txt',\n",
       "       '../data/corpus/5984bcd2b6b11368ef638545.txt',\n",
       "       '../data/corpus/5984b81bb6b1132cb6638505.txt',\n",
       "       '../data/corpus/5984c834b6b1136c0e638534.txt',\n",
       "       '../data/corpus/5984b827b6b1132cb0638547.txt',\n",
       "       '../data/corpus/5984c35cb6b1133a1a638532.txt',\n",
       "       '../data/corpus/5984c593b6b11352e7638511.txt',\n",
       "       '../data/corpus/5984cf95b6b1133685638503.txt',\n",
       "       '../data/corpus/5984bc62b6b1136459638547.txt',\n",
       "       '../data/corpus/5984d4f8b6b1136a4563850d.txt',\n",
       "       '../data/corpus/5984d486b6b113652263854b.txt',\n",
       "       '../data/corpus/5984ba16b6b11349e9638507.txt',\n",
       "       '../data/corpus/5984d060b6b1133d31638542.txt',\n",
       "       '../data/corpus/5984d647b6b1137998638540.txt',\n",
       "       '../data/corpus/5984c211b6b1132c9863850a.txt',\n",
       "       '../data/corpus/5984cc9bb6b1131bde638528.txt',\n",
       "       '../data/corpus/5984daddb6b1131d41638550.txt',\n",
       "       '../data/corpus/5984c940b6b113799163851e.txt',\n",
       "       '../data/corpus/5984c861b6b1136d8063852e.txt',\n",
       "       '../data/corpus/5984debab6b1133b4863851d.txt',\n",
       "       '../data/corpus/5984c354b6b1133924638539.txt',\n",
       "       '../data/corpus/5984c978b6b1137bc4638551.txt',\n",
       "       '../data/corpus/5984bf27b6b113065e6384fa.txt',\n",
       "       '../data/corpus/5984cdb1b6b113259e638522.txt',\n",
       "       '../data/corpus/5984b6bab6b11317a46384f1.txt',\n",
       "       '../data/corpus/5984bf18b6b1130558638507.txt',\n",
       "       '../data/corpus/5984bb17b6b1135740638504.txt',\n",
       "       '../data/corpus/5984dbc7b6b113237e638508.txt',\n",
       "       '../data/corpus/5984b84db6b1132ee863851e.txt',\n",
       "       '../data/corpus/5984ba24b6b11349e963853d.txt',\n",
       "       '../data/corpus/5984c251b6b1132ed763850d.txt',\n",
       "       '../data/corpus/5984c8a0b6b1136fea63850d.txt',\n",
       "       '../data/corpus/5984cec3b6b1132cfe638501.txt',\n",
       "       '../data/corpus/5984dd24b6b1133286638519.txt',\n",
       "       '../data/corpus/5984bf20b6b113054a63854f.txt',\n",
       "       '../data/corpus/5984b582b6b11303bb63852e.txt',\n",
       "       '../data/corpus/5984d21cb6b1134c66638510.txt',\n",
       "       '../data/corpus/5984dc29b6b113260c63854d.txt',\n",
       "       '../data/corpus/5984cf9ab6b113367f638525.txt',\n",
       "       '../data/corpus/5984bfddb6b1130cac638526.txt',\n",
       "       '../data/corpus/5984c92ab6b113787e63854a.txt',\n",
       "       '../data/corpus/5984c415b6b113427a638530.txt',\n",
       "       '../data/corpus/5984c487b6b113450d63854f.txt',\n",
       "       '../data/corpus/5984c8cab6b11371fe638550.txt',\n",
       "       '../data/corpus/5984c0ecb6b1131d3d638523.txt',\n",
       "       '../data/corpus/5984cbc7b6b1131689638536.txt',\n",
       "       '../data/corpus/5984d156b6b113442663853e.txt',\n",
       "       '../data/corpus/5984d0f3b6b11341cb6384fd.txt',\n",
       "       '../data/corpus/5984d0f3b6b11341cb6384fd.txt',\n",
       "       '../data/corpus/5984d305b6b1135bc36384f9.txt',\n",
       "       '../data/corpus/5984d246b6b1134f2d638522.txt',\n",
       "       '../data/corpus/5984b926b6b1133c9063850c.txt',\n",
       "       '../data/corpus/5984da94b6b1131bea6384f5.txt',\n",
       "       '../data/corpus/5984d4e4b6b113693c638511.txt',\n",
       "       '../data/corpus/5984d079b6b1133ec46384fc.txt',\n",
       "       '../data/corpus/5984d210b6b1134b706384f9.txt',\n",
       "       '../data/corpus/5984c251b6b1132edb63850a.txt',\n",
       "       '../data/corpus/5984c682b6b11359a0638540.txt',\n",
       "       '../data/corpus/5984b947b6b1133da8638522.txt',\n",
       "       '../data/corpus/5984bdbbb6b113744b638546.txt',\n",
       "       '../data/corpus/5984d017b6b1133bfe638517.txt',\n",
       "       '../data/corpus/5984d488b6b113651f638540.txt',\n",
       "       '../data/corpus/5984dd03b6b1133148638547.txt',\n",
       "       '../data/corpus/5984b626b6b1130b78638529.txt',\n",
       "       '../data/corpus/5984c1ffb6b1132b7363853c.txt',\n",
       "       '../data/corpus/5984c1ffb6b1132b7363853c.txt',\n",
       "       '../data/corpus/5984d01ab6b1133c0763851d.txt',\n",
       "       '../data/corpus/5984ce3db6b11328fd638523.txt',\n",
       "       '../data/corpus/5984d6cbb6b1137df0638526.txt',\n",
       "       '../data/corpus/5984cfbeb6b11338a76384f7.txt',\n",
       "       '../data/corpus/5984b8b6b6b1133721638540.txt',\n",
       "       '../data/corpus/5984b84fb6b1132ed563850f.txt',\n",
       "       '../data/corpus/5984b85fb6b1132fdd63850b.txt',\n",
       "       '../data/corpus/5984b626b6b1130b82638540.txt',\n",
       "       '../data/corpus/5984bfeeb6b1130da56384fa.txt',\n",
       "       '../data/corpus/5984d5dbb6b11377fe6384fc.txt',\n",
       "       '../data/corpus/5984c7f4b6b1136a8763851a.txt',\n",
       "       '../data/corpus/5984c23bb6b1132db3638540.txt',\n",
       "       '../data/corpus/5984b879b6b11332a96384f2.txt',\n",
       "       '../data/corpus/5984d2c2b6b11357e3638536.txt',\n",
       "       '../data/corpus/5984bfaab6b1130a49638538.txt',\n",
       "       '../data/corpus/5984c092b6b11319bf638524.txt',\n",
       "       '../data/corpus/5984cb24b6b1130d7363854d.txt',\n",
       "       '../data/corpus/5984dd03b6b1133148638548.txt',\n",
       "       '../data/corpus/5984c793b6b11367bb63853e.txt',\n",
       "       '../data/corpus/5984c32fb6b113363b638542.txt',\n",
       "       '../data/corpus/5984d7edb6b11307c2638544.txt',\n",
       "       '../data/corpus/5984c303b6b1133404638526.txt',\n",
       "       '../data/corpus/5984dcbeb6b1132eff638505.txt',\n",
       "       '../data/corpus/5984d312b6b1135bd6638535.txt',\n",
       "       '../data/corpus/5984b69db6b113159e638543.txt',\n",
       "       '../data/corpus/5984cc03b6b11318b4638529.txt',\n",
       "       '../data/corpus/5984b924b6b1133ca16384ff.txt',\n",
       "       '../data/corpus/5984bd85b6b1137304638516.txt',\n",
       "       '../data/corpus/5984be45b6b1137bbc638506.txt',\n",
       "       '../data/corpus/5984c16fb6b11322056384f0.txt',\n",
       "       '../data/corpus/5984b9e7b6b11347c763852a.txt',\n",
       "       '../data/corpus/5984b66bb6b1131395638508.txt',\n",
       "       '../data/corpus/5984cacfb6b113085b63853e.txt',\n",
       "       '../data/corpus/5984d972b6b11315f9638529.txt',\n",
       "       '../data/corpus/5984bda2b6b113744b638501.txt',\n",
       "       '../data/corpus/5984dac3b6b1131d4c6384ef.txt',\n",
       "       '../data/corpus/5984daa7b6b1131bf8638548.txt',\n",
       "       '../data/corpus/5984caf8b6b1130a94638536.txt',\n",
       "       '../data/corpus/5984dc4cb6b11328ff63851d.txt',\n",
       "       '../data/corpus/5984c1f2b6b1132b73638505.txt',\n",
       "       '../data/corpus/5984bcc6b6b11368f26384f8.txt',\n",
       "       '../data/corpus/5984c163b6b113210963850f.txt',\n",
       "       '../data/corpus/5984b959b6b1133efa6384f0.txt',\n",
       "       '../data/corpus/5984b8f2b6b1133a5563850c.txt',\n",
       "       '../data/corpus/5984b755b6b113230463850f.txt',\n",
       "       '../data/corpus/5984c692b6b1135ab263851a.txt',\n",
       "       '../data/corpus/5984b6eeb6b11319d5638532.txt',\n",
       "       '../data/corpus/5984d2adb6b11355f8638527.txt',\n",
       "       '../data/corpus/5984c0ecb6b1131d1f63852d.txt',\n",
       "       '../data/corpus/5984d5ecb6b113780a63851b.txt',\n",
       "       '../data/corpus/5984cb41b6b1131052638501.txt',\n",
       "       '../data/corpus/5984d9ffb6b113185663853d.txt',\n",
       "       '../data/corpus/5984dcf2b6b11331496384ef.txt',\n",
       "       '../data/corpus/5984d81db6b1130a3163852d.txt',\n",
       "       '../data/corpus/5984bda4b6b1137434638503.txt',\n",
       "       '../data/corpus/5984d683b6b1137b48638523.txt',\n",
       "       '../data/corpus/5984d783b6b11303ed63854b.txt',\n",
       "       '../data/corpus/5984b926b6b1133c9063850a.txt',\n",
       "       '../data/corpus/5984c635b6b113570b638536.txt',\n",
       "       '../data/corpus/5984bf83b6b11308f0638535.txt',\n",
       "       '../data/corpus/5984b8e5b6b1133947638536.txt',\n",
       "       '../data/corpus/5984ce9cb6b1132b76638525.txt',\n",
       "       '../data/corpus/5984cbccb6b113167763854b.txt',\n",
       "       '../data/corpus/5984c32eb6b113363963853b.txt',\n",
       "       '../data/corpus/5984ccf8b6b1131eee638504.txt',\n",
       "       '../data/corpus/5984dd00b6b113315663853a.txt',\n",
       "       '../data/corpus/5984b6c8b6b11317bb638550.txt',\n",
       "       '../data/corpus/5984d5e8b6b1137801638513.txt',\n",
       "       '../data/corpus/5984bf1cb6b1130551638536.txt',\n",
       "       '../data/corpus/5984b922b6b1133c976384f8.txt',\n",
       "       '../data/corpus/5984bddbb6b11375a5638528.txt',\n",
       "       '../data/corpus/5984cd67b6b1132357638501.txt',\n",
       "       '../data/corpus/5984c08bb6b11319dc6384fa.txt',\n",
       "       '../data/corpus/5984b986b6b113401e63852d.txt',\n",
       "       '../data/corpus/5984db23b6b1131ecd63851d.txt',\n",
       "       '../data/corpus/5984ba1bb6b11349f263851f.txt',\n",
       "       '../data/corpus/5984d70eb6b1137f27638538.txt',\n",
       "       '../data/corpus/5984c7f1b6b1136a87638512.txt',\n",
       "       '../data/corpus/5984bfeeb6b1130da3638502.txt',\n",
       "       '../data/corpus/5984d286b6b113523c638544.txt',\n",
       "       '../data/corpus/5984c257b6b1132eca638546.txt',\n",
       "       '../data/corpus/5984bc78b6b1136594638538.txt',\n",
       "       '../data/corpus/5984dd9cb6b11335646384fd.txt',\n",
       "       '../data/corpus/5984bc79b6b1136591638521.txt',\n",
       "       '../data/corpus/5984b8aeb6b1133729638520.txt',\n",
       "       '../data/corpus/5984c9e5b6b113018c6384f6.txt',\n",
       "       '../data/corpus/5984c3b9b6b1133ef363854a.txt',\n",
       "       '../data/corpus/5984cdf8b6b113275463850f.txt',\n",
       "       '../data/corpus/5984cd0db6b1131ed9638547.txt',\n",
       "       '../data/corpus/5984b83db6b1132dc4638550.txt',\n",
       "       '../data/corpus/5984d5c4b6b11376bd63854e.txt',\n",
       "       '../data/corpus/5984c3adb6b1133edf638514.txt',\n",
       "       '../data/corpus/5984d56ab6b1137394638517.txt',\n",
       "       '../data/corpus/5984d1bcb6b113472d63850c.txt',\n",
       "       '../data/corpus/5984cf4ab6b11331006384f0.txt',\n",
       "       '../data/corpus/5984b71ab6b1131bda638531.txt',\n",
       "       '../data/corpus/5984d143b6b113440d638524.txt',\n",
       "       '../data/corpus/5984cffdb6b1133ac463852c.txt',\n",
       "       '../data/corpus/5984dd1bb6b113327d638518.txt',\n",
       "       '../data/corpus/5984b627b6b1130b79638531.txt',\n",
       "       '../data/corpus/5984be6eb6b1137dbb638516.txt',\n",
       "       '../data/corpus/5984c184b6b1132304638501.txt',\n",
       "       '../data/corpus/5984cba7b6b113155d638519.txt',\n",
       "       '../data/corpus/5984b74fb6b113230a6384f3.txt',\n",
       "       '../data/corpus/5984c438b6b11343af638511.txt',\n",
       "       '../data/corpus/5984dd46b6b11333a6638517.txt',\n",
       "       '../data/corpus/5984c557b6b1135097638518.txt',\n",
       "       '../data/corpus/5984b89eb6b113363d638530.txt',\n",
       "       '../data/corpus/5984c28bb6b113301c638528.txt',\n",
       "       '../data/corpus/5984cf9db6b113368e63853a.txt',\n",
       "       '../data/corpus/5984bc00b6b1135ebc638523.txt',\n",
       "       '../data/corpus/5984b865b6b1132fd8638547.txt',\n",
       "       '../data/corpus/5984c604b6b113559b63851f.txt',\n",
       "       '../data/corpus/5984c67fb6b1135993638524.txt',\n",
       "       '../data/corpus/5984b5e2b6b113084c638528.txt',\n",
       "       '../data/corpus/5984dc4ab6b11328ff6384ff.txt',\n",
       "       '../data/corpus/5984b6f7b6b11319d263853e.txt',\n",
       "       '../data/corpus/5984ce9ab6b1132b97638527.txt',\n",
       "       '../data/corpus/5984c6a6b6b1135ba263851a.txt',\n",
       "       '../data/corpus/5984cec6b6b1132ce06384fd.txt',\n",
       "       '../data/corpus/5984bb97b6b1135af4638527.txt',\n",
       "       '../data/corpus/5984b609b6b1130a6b638521.txt',\n",
       "       '../data/corpus/5984c6e0b6b113606363854a.txt',\n",
       "       '../data/corpus/5984be00b6b11376db638532.txt',\n",
       "       '../data/corpus/5984b628b6b1130b77638542.txt',\n",
       "       '../data/corpus/5984cca2b6b1131bea63854f.txt',\n",
       "       '../data/corpus/5984d6ffb6b1137f2a638515.txt',\n",
       "       '../data/corpus/5984bb3eb6b113587c638500.txt',\n",
       "       '../data/corpus/5984cfb4b6b1133796638548.txt',\n",
       "       '../data/corpus/5984d6b0b6b1137cc4638523.txt',\n",
       "       '../data/corpus/5984c8abb6b1136fea63854d.txt',\n",
       "       '../data/corpus/5984be67b6b1137db46384f2.txt',\n",
       "       '../data/corpus/5984b6aeb6b11316ae638535.txt',\n",
       "       '../data/corpus/5984b959b6b1133ef96384f0.txt',\n",
       "       '../data/corpus/5984bd27b6b1136d5463852d.txt',\n",
       "       '../data/corpus/5984c0b2b6b1131af6638532.txt',\n",
       "       '../data/corpus/5984d651b6b1137991638544.txt',\n",
       "       '../data/corpus/5984c574b6b11351b3638515.txt',\n",
       "       '../data/corpus/5984b5b1b6b1130678638507.txt',\n",
       "       '../data/corpus/5984bb43b6b113587b638500.txt',\n",
       "       '../data/corpus/5984c714b6b113634a63851f.txt',\n",
       "       '../data/corpus/5984b99eb6b113414c63852f.txt',\n",
       "       '../data/corpus/5984ba99b6b1134e9163850c.txt',\n",
       "       '../data/corpus/5984b625b6b1130b73638528.txt',\n",
       "       '../data/corpus/5984c3c6b6b1134012638512.txt',\n",
       "       '../data/corpus/5984b808b6b1132ba6638523.txt',\n",
       "       '../data/corpus/5984bf73b6b11308f5638500.txt',\n",
       "       '../data/corpus/5984d6d5b6b1137dd5638548.txt',\n",
       "       '../data/corpus/5984c6a5b6b1135bbb63853f.txt',\n",
       "       '../data/corpus/5984ba9cb6b1134e8b63851f.txt',\n",
       "       '../data/corpus/5984b700b6b1131ae4638511.txt',\n",
       "       '../data/corpus/5984d545b6b1136ffe638522.txt',\n",
       "       '../data/corpus/5984c699b6b1135aa9638545.txt',\n",
       "       '../data/corpus/5984d5efb6b1137804638522.txt',\n",
       "       '../data/corpus/5984d729b6b113020d6384f0.txt',\n",
       "       '../data/corpus/5984c860b6b1136d8a638536.txt',\n",
       "       '../data/corpus/5984d2fcb6b1135aa8638542.txt',\n",
       "       '../data/corpus/5984c491b6b113466563852b.txt',\n",
       "       '../data/corpus/5984b6eab6b11319cb638514.txt',\n",
       "       '../data/corpus/5984c89fb6b1136ff26384f9.txt',\n",
       "       '../data/corpus/5984ccfdb6b1131eea638525.txt',\n",
       "       '../data/corpus/5984dc30b6b113272063852b.txt',\n",
       "       '../data/corpus/5984d1c9b6b1134726638530.txt',\n",
       "       '../data/corpus/5984be6eb6b1137dba638512.txt',\n",
       "       '../data/corpus/5984d7d7b6b11306a563853f.txt',\n",
       "       '../data/corpus/5984ba1bb6b11349e9638518.txt',\n",
       "       '../data/corpus/5984c0b8b6b1131aeb638547.txt',\n",
       "       '../data/corpus/5984cd3eb6b113212463853f.txt',\n",
       "       '../data/corpus/5984b862b6b1132ff0638526.txt',\n",
       "       '../data/corpus/5984c3e2b6b113412763850b.txt',\n",
       "       '../data/corpus/5984c1f5b6b1132b7f638511.txt',\n",
       "       '../data/corpus/5984bd83b6b1137300638518.txt',\n",
       "       '../data/corpus/5984b71db6b1131bd7638549.txt',\n",
       "       '../data/corpus/5984c919b6b113787e6384f7.txt',\n",
       "       '../data/corpus/5984c1a3b6b11325cd638508.txt',\n",
       "       '../data/corpus/5984b626b6b1130b7e63852f.txt',\n",
       "       '../data/corpus/5984cb61b6b1131228638541.txt',\n",
       "       '../data/corpus/5984c655b6b113585b63852f.txt',\n",
       "       '../data/corpus/5984c591b6b11352e6638508.txt',\n",
       "       '../data/corpus/5984c4d0b6b11348b7638532.txt',\n",
       "       '../data/corpus/5984b987b6b113402863852d.txt',\n",
       "       '../data/corpus/5984cf93b6b11336906384f7.txt',\n",
       "       '../data/corpus/5984c58ab6b11352d36384fa.txt',\n",
       "       '../data/corpus/5984bfddb6b1130cab638517.txt',\n",
       "       '../data/corpus/5984d58ab6b1137494638520.txt',\n",
       "       '../data/corpus/5984bef6b6b113040263854a.txt',\n",
       "       '../data/corpus/5984d364b6b1135f4a6384f2.txt',\n",
       "       '../data/corpus/5984b728b6b1131cda63852f.txt',\n",
       "       '../data/corpus/5984bc92b6b11366bd638512.txt',\n",
       "       '../data/corpus/5984bc92b6b11366bd638512.txt',\n",
       "       '../data/corpus/5984d883b6b11310a2638548.txt',\n",
       "       '../data/corpus/5984be47b6b1137ba9638531.txt',\n",
       "       '../data/corpus/5984dc04b6b11324f263850a.txt',\n",
       "       '../data/corpus/5984c178b6b1132211638521.txt',\n",
       "       '../data/corpus/5984dcbbb6b1132f046384f5.txt',\n",
       "       '../data/corpus/5984c066b6b11317cc638510.txt',\n",
       "       '../data/corpus/5984dd1eb6b1133286638504.txt',\n",
       "       '../data/corpus/5984cb62b6b113122c638533.txt',\n",
       "       '../data/corpus/5984cfc0b6b11338b0638507.txt',\n",
       "       '../data/corpus/5984dd3fb6b11333af638508.txt',\n",
       "       '../data/corpus/5984d70ab6b1137f17638536.txt',\n",
       "       '../data/corpus/5984d41db6b113638c638510.txt',\n",
       "       '../data/corpus/5984c285b6b113302b63853d.txt',\n",
       "       '../data/corpus/5984c985b6b1137cce63850e.txt',\n",
       "       '../data/corpus/5984ba81b6b1134d8063851f.txt',\n",
       "       '../data/corpus/5984d575b6b11373a163854c.txt',\n",
       "       '../data/corpus/5984bf1bb6b113054c638523.txt',\n",
       "       '../data/corpus/5984d6a4b6b1137cbd638505.txt',\n",
       "       '../data/corpus/5984c2f4b6b113340f6384f2.txt',\n",
       "       '../data/corpus/5984d607b6b11377f763854d.txt',\n",
       "       '../data/corpus/5984c597b6b11352cd638555.txt',\n",
       "       '../data/corpus/5984c0e8b6b1131d3263851a.txt',\n",
       "       '../data/corpus/5984dd74b6b11333bf638542.txt',\n",
       "       '../data/corpus/5984dd02b6b113313a63853a.txt',\n",
       "       '../data/corpus/5984b860b6b1132fd9638521.txt',\n",
       "       '../data/corpus/5984c20eb6b1132c8f638505.txt',\n",
       "       '../data/corpus/5984c0ecb6b1131d2e63852d.txt',\n",
       "       '../data/corpus/5984cc94b6b1131bf0638520.txt',\n",
       "       '../data/corpus/5984bb0ab6b1135656638520.txt',\n",
       "       '../data/corpus/5984c92cb6b113786d638545.txt',\n",
       "       '../data/corpus/5984c9cdb6b1137f11638534.txt',\n",
       "       '../data/corpus/5984bec2b6b1130135638532.txt',\n",
       "       '../data/corpus/5984d4d5b6b113683b63854a.txt',\n",
       "       '../data/corpus/5984dc4ab6b11328fe638504.txt',\n",
       "       '../data/corpus/5984c6cbb6b1135e6c638546.txt',\n",
       "       '../data/corpus/5984bc70b6b1136589638501.txt',\n",
       "       '../data/corpus/5984bbe5b6b1135d71638554.txt',\n",
       "       '../data/corpus/5984c9fdb6b113019a638549.txt',\n",
       "       '../data/corpus/5984c1efb6b1132b726384fa.txt',\n",
       "       '../data/corpus/5984c655b6b113584a63852b.txt',\n",
       "       '../data/corpus/5984c172b6b113221a6384fe.txt',\n",
       "       '../data/corpus/5984cee6b6b1132cea63852c.txt',\n",
       "       '../data/corpus/5984c5ebb6b11355a06384f5.txt',\n",
       "       '../data/corpus/5984b5b2b6b113066f63851a.txt',\n",
       "       '../data/corpus/5984d898b6b11311cf638525.txt',\n",
       "       '../data/corpus/5984d6d8b6b1137dd5638550.txt',\n",
       "       '../data/corpus/5984c530b6b1134f65638507.txt',\n",
       "       '../data/corpus/5984bed3b6b113029d63851d.txt',\n",
       "       '../data/corpus/5984b809b6b1132ba163852b.txt',\n",
       "       '../data/corpus/5984c593b6b11352cb638515.txt',\n",
       "       '../data/corpus/5984b612b6b1130a6e638551.txt',\n",
       "       '../data/corpus/5984c36cb6b1133b0f638518.txt',\n",
       "       '../data/corpus/5984c76bb6b11366a463850d.txt',\n",
       "       '../data/corpus/5984da7eb6b1131a3e638549.txt',\n",
       "       '../data/corpus/5984d2a1b6b113550e63851a.txt',\n",
       "       '../data/corpus/5984d4ebb6b1136937638539.txt',\n",
       "       '../data/corpus/5984b705b6b1131ad463851b.txt',\n",
       "       '../data/corpus/5984cdf1b6b1132749638503.txt',\n",
       "       '../data/corpus/5984ccd9b6b1131d5e638534.txt',\n",
       "       '../data/corpus/5984c81fb6b1136c136384f1.txt',\n",
       "       '../data/corpus/5984d77bb6b11303cb638502.txt',\n",
       "       '../data/corpus/5984bf50b6b113079a638503.txt',\n",
       "       '../data/corpus/5984cbddb6b113179b63850d.txt',\n",
       "       '../data/corpus/5984b919b6b1133b7a638551.txt',\n",
       "       '../data/corpus/5984b7dcb6b1132964638547.txt',\n",
       "       '../data/corpus/5984b667b6b11313806384ef.txt',\n",
       "       '../data/corpus/5984c901b6b11376a16384f6.txt',\n",
       "       '../data/corpus/5984c868b6b1136d7d63852c.txt',\n",
       "       '../data/corpus/5984c1c9b6b11328a9638538.txt',\n",
       "       '../data/corpus/5984dc40b6b113280b638519.txt',\n",
       "       '../data/corpus/5984be83b6b1137edb6384fd.txt',\n",
       "       '../data/corpus/5984bd4ab6b11370c9638504.txt',\n",
       "       '../data/corpus/5984b85db6b1132fd6638501.txt',\n",
       "       '../data/corpus/5984d51ab6b1136c4d6384f1.txt',\n",
       "       '../data/corpus/5984c5ecb6b11355a46384f2.txt',\n",
       "       '../data/corpus/5984cfe8b6b11339a1638544.txt',\n",
       "       '../data/corpus/5984bd10b6b1136b726384f4.txt',\n",
       "       '../data/corpus/5984d591b6b113749a638546.txt',\n",
       "       '../data/corpus/5984d50ab6b1136b4c6384f3.txt',\n",
       "       '../data/corpus/5984be86b6b1137ebd63850a.txt',\n",
       "       '../data/corpus/5984c1efb6b1132b756384f8.txt',\n",
       "       '../data/corpus/5984d37fb6b11360636384f9.txt',\n",
       "       '../data/corpus/5984dcabb6b1132dcd638523.txt',\n",
       "       '../data/corpus/5984b802b6b1132b9c6384ff.txt',\n",
       "       '../data/corpus/5984d669b6b1137b546384f3.txt',\n",
       "       '../data/corpus/5984b680b6b1131494638512.txt',\n",
       "       '../data/corpus/5984b84fb6b1132ee3638537.txt',\n",
       "       '../data/corpus/5984dc23b6b113261963852f.txt',\n",
       "       '../data/corpus/5984dce5b6b1133028638547.txt',\n",
       "       '../data/corpus/5984c185b6b11322ff638504.txt',\n",
       "       '../data/corpus/5984ba50b6b1134c336384fa.txt',\n",
       "       '../data/corpus/5984be01b6b11376d763854f.txt',\n",
       "       '../data/corpus/5984bf9ab6b1130a3763850b.txt',\n",
       "       '../data/corpus/5984c033b6b113126163853f.txt',\n",
       "       '../data/corpus/5984b6d7b6b11318b763851f.txt',\n",
       "       '../data/corpus/5984c4bfb6b11347a3638550.txt',\n",
       "       '../data/corpus/5984c3c7b6b113401b638514.txt',\n",
       "       '../data/corpus/5984d6e7b6b1137f206384f2.txt',\n",
       "       '../data/corpus/5984c271b6b113300e638506.txt',\n",
       "       '../data/corpus/5984c39eb6b1133dc9638540.txt',\n",
       "       '../data/corpus/5984c1e3b6b1132a86638557.txt',\n",
       "       '../data/corpus/5984cfc0b6b11338b0638503.txt',\n",
       "       '../data/corpus/5984bc6fb6b113658e6384fe.txt',\n",
       "       '../data/corpus/5984c1beb6b11327a963851a.txt',\n",
       "       '../data/corpus/5984b926b6b1133c97638511.txt',\n",
       "       '../data/corpus/5984babdb6b1134fcd638551.txt',\n",
       "       '../data/corpus/5984c3deb6b113411c63850f.txt',\n",
       "       '../data/corpus/5984daa5b6b1131bfb638532.txt',\n",
       "       '../data/corpus/5984c397b6b1133ddf638530.txt',\n",
       "       '../data/corpus/5984d366b6b1135f4463850b.txt',\n",
       "       '../data/corpus/5984c57fb6b11351c4638548.txt',\n",
       "       '../data/corpus/5984d065b6b1133d1c63854d.txt',\n",
       "       '../data/corpus/5984c030b6b113125a63853d.txt',\n",
       "       '../data/corpus/5984b87bb6b11332a0638551.txt',\n",
       "       '../data/corpus/5984c300b6b113341363854b.txt',\n",
       "       '../data/corpus/5984b964b6b1133f02638536.txt',\n",
       "       '../data/corpus/5984b810b6b1132baf63853e.txt',\n",
       "       '../data/corpus/5984d2b5b6b11356e26384fc.txt',\n",
       "       '../data/corpus/5984cdbdb6b113259863851e.txt',\n",
       "       '../data/corpus/5984c3edb6b113411a63854a.txt',\n",
       "       '../data/corpus/5984c1f0b6b1132b786384fc.txt',\n",
       "       '../data/corpus/5984cfb8b6b113379763854e.txt',\n",
       "       '../data/corpus/5984b979b6b11340236384f1.txt',\n",
       "       '../data/corpus/5984ce6bb6b1132a38638526.txt',\n",
       "       '../data/corpus/5984d678b6b1137b50638537.txt',\n",
       "       '../data/corpus/5984b676b6b1131398638544.txt',\n",
       "       '../data/corpus/5984bd8bb6b113730763853f.txt',\n",
       "       '../data/corpus/5984bbfbb6b1135ebd6384f3.txt',\n",
       "       '../data/corpus/5984d80cb6b11308fb638510.txt',\n",
       "       '../data/corpus/5984d326b6b1135cf0638514.txt',\n",
       "       '../data/corpus/5984c09ab6b11319c7638548.txt',\n",
       "       '../data/corpus/5984be87b6b1137ed1638511.txt',\n",
       "       '../data/corpus/5984b838b6b1132dce638530.txt',\n",
       "       '../data/corpus/5984dc3fb6b113280a6384ff.txt',\n",
       "       '../data/corpus/5984bd86b6b113730f638515.txt',\n",
       "       '../data/corpus/5984c200b6b1132b6b63854b.txt'], dtype=object)"
      ]
     },
     "execution_count": 137,
     "metadata": {},
     "output_type": "execute_result"
    }
   ],
   "source": [
    "ixs = dists.argsort()[:20]\n",
    "fnames[ixs]"
   ]
  },
  {
   "cell_type": "code",
   "execution_count": 133,
   "metadata": {
    "ExecuteTime": {
     "end_time": "2017-08-28T08:23:44.893130Z",
     "start_time": "2017-08-28T08:23:44.851647Z"
    }
   },
   "outputs": [
    {
     "data": {
      "text/plain": [
       "array([ 0.        ,  0.03019442,  0.03427643,  0.03450001,  0.03506924,\n",
       "        0.03742333,  0.03948176,  0.0401914 ,  0.04021936,  0.0405426 ,\n",
       "        0.04064511,  0.04071352,  0.04108918,  0.04140341,  0.04205039,\n",
       "        0.04206143,  0.04208171,  0.04253892,  0.0425439 ,  0.04308489], dtype=float32)"
      ]
     },
     "execution_count": 133,
     "metadata": {},
     "output_type": "execute_result"
    }
   ],
   "source": [
    "dists[ixs]"
   ]
  },
  {
   "cell_type": "code",
   "execution_count": 134,
   "metadata": {
    "ExecuteTime": {
     "end_time": "2017-08-28T08:23:44.923877Z",
     "start_time": "2017-08-28T08:23:44.895311Z"
    }
   },
   "outputs": [
    {
     "data": {
      "text/plain": [
       "'../data/corpus/5984cc8cb6b1131bd4638512.txt'"
      ]
     },
     "execution_count": 134,
     "metadata": {},
     "output_type": "execute_result"
    }
   ],
   "source": [
    "test_fn"
   ]
  },
  {
   "cell_type": "code",
   "execution_count": 25,
   "metadata": {
    "ExecuteTime": {
     "end_time": "2017-08-25T20:05:34.956990Z",
     "start_time": "2017-08-25T20:05:34.950102Z"
    }
   },
   "outputs": [
    {
     "data": {
      "text/plain": [
       "array(['../data/corpus/5984c941b6b113799063851a.txt',\n",
       "       '../data/corpus/5984c939b6b113799f6384fc.txt',\n",
       "       '../data/corpus/5984c4efb6b1134ab1638537.txt',\n",
       "       '../data/corpus/5984c538b6b1134f666384fb.txt',\n",
       "       '../data/corpus/5984c92ab6b1137888638540.txt'], dtype=object)"
      ]
     },
     "execution_count": 25,
     "metadata": {},
     "output_type": "execute_result"
    }
   ],
   "source": [
    "ixs = dists.argsort()[-5:][::-1]\n",
    "fnames[ixs]"
   ]
  },
  {
   "cell_type": "code",
   "execution_count": 136,
   "metadata": {
    "ExecuteTime": {
     "end_time": "2017-08-28T08:24:18.882859Z",
     "start_time": "2017-08-28T08:24:18.875790Z"
    }
   },
   "outputs": [
    {
     "data": {
      "text/plain": [
       "['../data/corpus/5984ba98b6b1134e97638503.txt',\n",
       " '../data/corpus/5984ba98b6b1134e97638503.txt']"
      ]
     },
     "execution_count": 136,
     "metadata": {},
     "output_type": "execute_result"
    }
   ],
   "source": [
    "[fn for fn in fnames if '5984ba98b6b1134e97638503' in fn]"
   ]
  },
  {
   "cell_type": "code",
   "execution_count": 135,
   "metadata": {
    "ExecuteTime": {
     "end_time": "2017-08-28T08:24:03.957993Z",
     "start_time": "2017-08-28T08:24:03.951559Z"
    }
   },
   "outputs": [
    {
     "data": {
      "text/plain": [
       "(array([ 235, 9301]),)"
      ]
     },
     "execution_count": 135,
     "metadata": {},
     "output_type": "execute_result"
    }
   ],
   "source": [
    "np.where(fnames == '../data/corpus/5984ba98b6b1134e97638503.txt')"
   ]
  },
  {
   "cell_type": "markdown",
   "metadata": {
    "heading_collapsed": true
   },
   "source": [
    "# Develop"
   ]
  },
  {
   "cell_type": "code",
   "execution_count": 21,
   "metadata": {
    "ExecuteTime": {
     "end_time": "2017-08-31T15:04:18.888776Z",
     "start_time": "2017-08-31T15:04:18.836113Z"
    },
    "hidden": true,
    "scrolled": true
   },
   "outputs": [
    {
     "name": "stdout",
     "output_type": "stream",
     "text": [
      "[[1 2 0 0 0]\n",
      " [3 4 0 0 0]\n",
      " [0 0 0 0 0]\n",
      " [0 0 0 0 0]\n",
      " [0 0 0 0 0]\n",
      " [0 0 0 0 0]\n",
      " [0 0 0 0 0]\n",
      " [0 0 0 0 0]\n",
      " [0 0 0 0 0]\n",
      " [0 0 0 0 0]]\n"
     ]
    }
   ],
   "source": [
    "g = tf.Graph()\n",
    "with g.as_default():\n",
    "    tf.set_random_seed(0)\n",
    "    sess = tf.Session()\n",
    "    with sess.as_default():\n",
    "\n",
    "        dense = tf.convert_to_tensor([[1,2],[3,4]])\n",
    "        \n",
    "        shape = tf.shape(dense)\n",
    "        dense = tf.pad(dense, [[0,10-shape[0]], [0,5-shape[1]]], 'CONSTANT')\n",
    "        dense.set_shape([n_sents, n_words])\n",
    "\n",
    "                \n",
    "        sess.run(tf.global_variables_initializer())\n",
    "        \n",
    "        [res] = sess.run([dense])\n",
    "        print(res)\n",
    "\n",
    "#         train_writer = tf.summary.FileWriter('../data/summary', sess.graph)"
   ]
  },
  {
   "cell_type": "code",
   "execution_count": 59,
   "metadata": {
    "ExecuteTime": {
     "end_time": "2017-09-08T14:25:11.326800Z",
     "start_time": "2017-09-08T14:25:11.199178Z"
    },
    "hidden": true,
    "scrolled": true
   },
   "outputs": [
    {
     "name": "stdout",
     "output_type": "stream",
     "text": [
      "[ 0  1  2  3  4  5  6  7  8  9 10 11 12 13 14 15 16 17 18 19 20 21 22 23 24\n",
      " 25 26 27 28 29 30 31 32 33 34 35 36 37 38 39 40 41 42 43 44 45 46 47 48 49\n",
      " 50 51 52 53 54 55 56 57 58 59 60 61 62 63 64 65 66 67 68 69 70 71 72 73 74\n",
      " 75 76 77 78 79 80 81 82 83 84 85 86 87 88 89 90 91 92 93 94 95 96 97 98]\n"
     ]
    }
   ],
   "source": [
    "g = tf.Graph()\n",
    "with g.as_default():\n",
    "    tf.set_random_seed(0)\n",
    "    sess = tf.Session()\n",
    "    with sess.as_default():\n",
    "        \n",
    "        r = list(range(100))\n",
    "        ziped = zip(r[:-1], r[1:])\n",
    "        t = tf.convert_to_tensor(ziped)\n",
    "        \n",
    "        def f(el):\n",
    "            return el[0]\n",
    "        \n",
    "#         elems = np.array([1, 2, 3, 4, 5, 6])\n",
    "#         squares = tf.map_fn(lambda x: x * x, elems)\n",
    "\n",
    "        \n",
    "        m = tf.map_fn(f, t)\n",
    "            \n",
    "        sess.run(tf.global_variables_initializer())\n",
    "        \n",
    "        [res] = sess.run([m])\n",
    "        print(res)\n"
   ]
  },
  {
   "cell_type": "code",
   "execution_count": 38,
   "metadata": {
    "ExecuteTime": {
     "end_time": "2017-09-08T14:17:41.840210Z",
     "start_time": "2017-09-08T14:17:41.835072Z"
    },
    "hidden": true
   },
   "outputs": [
    {
     "data": {
      "text/plain": [
       "array([[  0,   1],\n",
       "       [  1,   2],\n",
       "       [  2,   3],\n",
       "       ..., \n",
       "       [996, 997],\n",
       "       [997, 998],\n",
       "       [998, 999]], dtype=int32)"
      ]
     },
     "execution_count": 38,
     "metadata": {},
     "output_type": "execute_result"
    }
   ],
   "source": [
    "tt"
   ]
  }
 ],
 "metadata": {
  "kernelspec": {
   "display_name": "Python 2",
   "language": "python",
   "name": "python2"
  },
  "language_info": {
   "codemirror_mode": {
    "name": "ipython",
    "version": 2
   },
   "file_extension": ".py",
   "mimetype": "text/x-python",
   "name": "python",
   "nbconvert_exporter": "python",
   "pygments_lexer": "ipython2",
   "version": "2.7.12"
  }
 },
 "nbformat": 4,
 "nbformat_minor": 2
}
