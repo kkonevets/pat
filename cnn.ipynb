{
 "cells": [
  {
   "cell_type": "code",
   "execution_count": 1,
   "metadata": {
    "ExecuteTime": {
     "end_time": "2017-09-15T11:27:32.310398Z",
     "start_time": "2017-09-15T11:27:29.756791Z"
    },
    "collapsed": true
   },
   "outputs": [],
   "source": [
    "import numpy as np\n",
    "from common import *\n",
    "\n",
    "import os, time\n",
    "import tflearn\n",
    "from io import StringIO\n",
    "import copy\n",
    "import pickle\n",
    "from functools import partial\n",
    "import cnn\n",
    "import data_flow\n",
    "\n",
    "from __future__ import division\n",
    "from matplotlib import pyplot as plt\n",
    "\n",
    "from sklearn.model_selection import train_test_split\n",
    "from sklearn.metrics.pairwise import euclidean_distances"
   ]
  },
  {
   "cell_type": "markdown",
   "metadata": {
    "heading_collapsed": true
   },
   "source": [
    "# Prepare word vectors"
   ]
  },
  {
   "cell_type": "code",
   "execution_count": 2,
   "metadata": {
    "ExecuteTime": {
     "end_time": "2017-09-08T16:14:46.853741Z",
     "start_time": "2017-09-08T16:14:42.297088Z"
    },
    "hidden": true,
    "scrolled": false
   },
   "outputs": [
    {
     "name": "stderr",
     "output_type": "stream",
     "text": [
      "2017-09-08 19:14:42,298 [MainThread  ] [INFO ]  loading Word2Vec object from ../data/vectors/w2v_model_300_w10\n",
      "2017-09-08 19:14:44,446 [MainThread  ] [INFO ]  loading wv recursively from ../data/vectors/w2v_model_300_w10.wv.* with mmap=None\n",
      "2017-09-08 19:14:44,447 [MainThread  ] [INFO ]  loading syn0 from ../data/vectors/w2v_model_300_w10.wv.syn0.npy with mmap=None\n",
      "2017-09-08 19:14:44,594 [MainThread  ] [INFO ]  setting ignored attribute syn0norm to None\n",
      "2017-09-08 19:14:44,595 [MainThread  ] [INFO ]  loading syn1neg from ../data/vectors/w2v_model_300_w10.syn1neg.npy with mmap=None\n",
      "2017-09-08 19:14:44,736 [MainThread  ] [INFO ]  setting ignored attribute cum_table to None\n",
      "2017-09-08 19:14:44,737 [MainThread  ] [INFO ]  loaded ../data/vectors/w2v_model_300_w10\n"
     ]
    }
   ],
   "source": [
    "w2v_model = Word2Vec.load(join(DATA_FOLDER, 'vectors/w2v_model_300_w10'))"
   ]
  },
  {
   "cell_type": "code",
   "execution_count": 21,
   "metadata": {
    "ExecuteTime": {
     "end_time": "2017-09-08T10:58:55.126588Z",
     "start_time": "2017-09-08T10:58:53.880286Z"
    },
    "collapsed": true,
    "hidden": true
   },
   "outputs": [],
   "source": [
    "word_embeddings = w2v_model.wv.syn0.copy()\n",
    "index2word = copy.deepcopy(w2v_model.wv.index2word)\n",
    "del w2v_model"
   ]
  },
  {
   "cell_type": "code",
   "execution_count": 22,
   "metadata": {
    "ExecuteTime": {
     "end_time": "2017-09-08T10:58:57.877549Z",
     "start_time": "2017-09-08T10:58:55.128389Z"
    },
    "collapsed": true,
    "hidden": true
   },
   "outputs": [],
   "source": [
    "index2word.insert(0, 'PAD')\n",
    "with open(join(DATA_FOLDER, \"dictionary.pickle\"), \"wb\") as output_file:\n",
    "    pickle.dump(index2word, output_file)"
   ]
  },
  {
   "cell_type": "code",
   "execution_count": 17,
   "metadata": {
    "ExecuteTime": {
     "end_time": "2017-09-06T12:29:29.157151Z",
     "start_time": "2017-09-06T12:28:38.836197Z"
    },
    "hidden": true
   },
   "outputs": [
    {
     "data": {
      "text/plain": [
       "count    680760.000000\n",
       "mean          0.193705\n",
       "std           0.070574\n",
       "min           0.000910\n",
       "25%           0.137368\n",
       "50%           0.178099\n",
       "75%           0.244486\n",
       "max           0.744395\n",
       "dtype: float64"
      ]
     },
     "execution_count": 17,
     "metadata": {},
     "output_type": "execute_result"
    }
   ],
   "source": [
    "stds = np.apply_along_axis(np.std, 1, word_embeddings)\n",
    "pd.Series(stds).describe()"
   ]
  },
  {
   "cell_type": "code",
   "execution_count": 18,
   "metadata": {
    "ExecuteTime": {
     "end_time": "2017-09-06T12:29:29.175545Z",
     "start_time": "2017-09-06T12:29:29.159459Z"
    },
    "hidden": true
   },
   "outputs": [
    {
     "data": {
      "text/plain": [
       "0.20150940312078128"
      ]
     },
     "execution_count": 18,
     "metadata": {},
     "output_type": "execute_result"
    }
   ],
   "source": [
    "# 0.34 is chosen so the unknown vectors have (approximately) same variance as pre-trained ones\n",
    "pad_vec = np.random.uniform(-0.34,0.34, word_embeddings.shape[1])\n",
    "np.std(pad_vec)"
   ]
  },
  {
   "cell_type": "code",
   "execution_count": 19,
   "metadata": {
    "ExecuteTime": {
     "end_time": "2017-09-06T12:29:29.621377Z",
     "start_time": "2017-09-06T12:29:29.177828Z"
    },
    "collapsed": true,
    "hidden": true
   },
   "outputs": [],
   "source": [
    "word_embeddings = np.insert(word_embeddings, 0, pad_vec, axis=0)"
   ]
  },
  {
   "cell_type": "code",
   "execution_count": 20,
   "metadata": {
    "ExecuteTime": {
     "end_time": "2017-09-06T12:29:36.303189Z",
     "start_time": "2017-09-06T12:29:29.623782Z"
    },
    "collapsed": true,
    "hidden": true
   },
   "outputs": [],
   "source": [
    "np.save(join(DATA_FOLDER, 'word_embeddings_%s.npy' % word_embeddings.shape[1]), word_embeddings)"
   ]
  },
  {
   "cell_type": "markdown",
   "metadata": {},
   "source": [
    "# Load input data"
   ]
  },
  {
   "cell_type": "code",
   "execution_count": 2,
   "metadata": {
    "ExecuteTime": {
     "end_time": "2017-09-15T11:27:38.390721Z",
     "start_time": "2017-09-15T11:27:35.154943Z"
    }
   },
   "outputs": [],
   "source": [
    "word_embeddings = np.load(join(DATA_FOLDER, 'word_embeddings_300.npy'))\n",
    "with open(join(DATA_FOLDER, \"dictionary.pickle\"), \"rb\") as input_file:\n",
    "    index2word = pickle.load(input_file)"
   ]
  },
  {
   "cell_type": "code",
   "execution_count": 3,
   "metadata": {
    "ExecuteTime": {
     "end_time": "2017-09-15T11:27:41.750676Z",
     "start_time": "2017-09-15T11:27:38.392451Z"
    },
    "collapsed": true,
    "scrolled": true
   },
   "outputs": [],
   "source": [
    "ids = glob('../data/corpus/**.txt')\n",
    "with open(join(DATA_FOLDER, 'sims.json'), 'r') as f:\n",
    "    sims = json.load(f)"
   ]
  },
  {
   "cell_type": "code",
   "execution_count": 4,
   "metadata": {
    "ExecuteTime": {
     "end_time": "2017-09-15T11:27:51.467740Z",
     "start_time": "2017-09-15T11:27:41.752712Z"
    }
   },
   "outputs": [
    {
     "name": "stderr",
     "output_type": "stream",
     "text": [
      "100%|██████████| 368458/368458 [00:07<00:00, 49032.49it/s]\n"
     ]
    },
    {
     "name": "stdout",
     "output_type": "stream",
     "text": [
      "(619669, 68853, 76503)\n"
     ]
    }
   ],
   "source": [
    "triples_all = list(data_flow.random_triples(sims, ids, num_epochs=1, seed=1))\n",
    "_triples, triples_test = train_test_split(triples_all, test_size=0.1, random_state=0)\n",
    "triples_train, triples_val = train_test_split(_triples, test_size=0.1, random_state=0)\n",
    "\n",
    "print(len(triples_train), len(triples_val), len(triples_test))"
   ]
  },
  {
   "cell_type": "code",
   "execution_count": 5,
   "metadata": {
    "ExecuteTime": {
     "end_time": "2017-09-15T11:27:51.471785Z",
     "start_time": "2017-09-15T11:27:51.469658Z"
    },
    "collapsed": true
   },
   "outputs": [],
   "source": [
    "# triples_all = pd.read_csv(join(DATA_FOLDER, 'mpk_flow.csv.gz'), sep=' ', header=None)\n",
    "# triples_all = triples_all[triples_all[2] != '59a969f1782b1b893a912539']"
   ]
  },
  {
   "cell_type": "code",
   "execution_count": 6,
   "metadata": {
    "ExecuteTime": {
     "end_time": "2017-09-15T11:27:51.476534Z",
     "start_time": "2017-09-15T11:27:51.473838Z"
    },
    "collapsed": true
   },
   "outputs": [],
   "source": [
    "def add_fname(_id):\n",
    "    return join(DATA_FOLDER, 'corpus', _id + '.txt')"
   ]
  },
  {
   "cell_type": "code",
   "execution_count": 7,
   "metadata": {
    "ExecuteTime": {
     "end_time": "2017-09-15T11:27:51.495680Z",
     "start_time": "2017-09-15T11:27:51.478417Z"
    },
    "collapsed": true
   },
   "outputs": [],
   "source": [
    "# triples_train, triples_val, triples_test = [], [], []\n",
    "# for epoch_data in np.array_split(triples_all, 3)[:1]:\n",
    "#     _triples, _test = train_test_split(epoch_data, test_size=0.1, random_state=0, shuffle=False)\n",
    "#     _train, _val = train_test_split(_triples, test_size=0.1, random_state=0, shuffle=False)\n",
    "\n",
    "#     triples_train += [[add_fname(a), add_fname(b), add_fname(c)] for a,b,c in _train.values]\n",
    "#     triples_val += [[add_fname(a), add_fname(b), add_fname(c)] for a,b,c in _val.values]\n",
    "#     triples_test += [[add_fname(a), add_fname(b), add_fname(c)] for a,b,c in _test.values]\n",
    "    \n",
    "# logging.info('train %s val %s test %s' % (len(triples_train), len(triples_val), len(triples_test)))"
   ]
  },
  {
   "cell_type": "code",
   "execution_count": 8,
   "metadata": {
    "ExecuteTime": {
     "end_time": "2017-09-15T11:27:51.504418Z",
     "start_time": "2017-09-15T11:27:51.497363Z"
    }
   },
   "outputs": [],
   "source": [
    "vocab_size, embedding_size = word_embeddings.shape\n",
    "n_sents, n_words = 123, 40\n",
    "batch_size = 64\n",
    "num_epochs = 1\n",
    "learning_rate = 0.001\n",
    "\n",
    "sent_filter_sizes = [1, 2, 3, 4, 5]\n",
    "sent_nb_filter = 10\n",
    "sent_embed_size = 128\n",
    "sent_kmax = 4\n",
    "\n",
    "doc_filter_sizes = [1, 2, 3, 4, 5]\n",
    "doc_nb_filter = 10\n",
    "doc_embed_size = 200\n",
    "doc_kmax = 4"
   ]
  },
  {
   "cell_type": "markdown",
   "metadata": {
    "heading_collapsed": true
   },
   "source": [
    "# Train"
   ]
  },
  {
   "cell_type": "code",
   "execution_count": 10,
   "metadata": {
    "ExecuteTime": {
     "end_time": "2017-09-14T14:05:34.046098Z",
     "start_time": "2017-09-14T14:04:31.129748Z"
    },
    "hidden": true,
    "scrolled": true
   },
   "outputs": [
    {
     "name": "stderr",
     "output_type": "stream",
     "text": [
      "2017-09-14 17:04:31,165 [MainThread  ] [INFO ]  start training ...\n",
      "2017-09-14 17:04:31,537 [MainThread  ] [INFO ]  sent_out_size 200, doc_out_size 200\n",
      "2017-09-14 17:04:31,538 [MainThread  ] [INFO ]  sent_embed_size 128, doc_embed_size 200\n",
      "2017-09-14 17:04:54,435 [MainThread  ] [INFO ]  step 1, loss 0.493278\n",
      "2017-09-14 17:05:13,541 [MainThread  ] [INFO ]  step 2, loss 0.453561\n",
      "2017-09-14 17:05:31,858 [MainThread  ] [INFO ]  step 3, loss 0.391074\n",
      "2017-09-14 17:05:31,861 [MainThread  ] [INFO ]  Done training -- epoch limit reached\n",
      "2017-09-14 17:05:34,042 [MainThread  ] [INFO ]  --- 62.8675031662 seconds ---\n"
     ]
    }
   ],
   "source": [
    "reload(cnn)\n",
    "\n",
    "logging.info('start training ...')\n",
    "start_time = time.time()\n",
    "\n",
    "finished = False\n",
    "try:\n",
    "    tf.reset_default_graph()\n",
    "    tf.set_random_seed(0)\n",
    "    session_conf = tf.ConfigProto(\n",
    "        allow_soft_placement=True, log_device_placement=False)\n",
    "    sess = tf.Session(config=session_conf)\n",
    "    with sess.as_default():\n",
    "        X, fnames_batch = data_flow.input_pipeline(\n",
    "            triples_train[:batch_size*3], [n_sents, n_words], \n",
    "            batch_size=batch_size, num_epochs=num_epochs)\n",
    "\n",
    "        model = cnn.TextCNN(\n",
    "            n_sents,\n",
    "            n_words,\n",
    "            vocab_size,\n",
    "            embedding_size,\n",
    "            batch_size,\n",
    "            sent_filter_sizes=sent_filter_sizes,\n",
    "            sent_nb_filter=sent_nb_filter,\n",
    "            sent_embed_size=sent_embed_size,\n",
    "            doc_filter_sizes=doc_filter_sizes,\n",
    "            doc_nb_filter=doc_nb_filter,\n",
    "            doc_embed_size=doc_embed_size,\n",
    "            sent_kmax=sent_kmax,\n",
    "            doc_kmax=doc_kmax,\n",
    "            learning_rate=learning_rate)\n",
    "        train_op = model.optimize(X)\n",
    "\n",
    "        init_local = tf.local_variables_initializer()\n",
    "        init_global = tf.global_variables_initializer()\n",
    "        sess.run([init_global, init_local])\n",
    "\n",
    "        model.init_summary()\n",
    "        #!!!! index is shifted by 1\n",
    "        model.init_lookup_table(word_embeddings)\n",
    "\n",
    "#         pprint([n.name for n in tf.get_default_graph().as_graph_def().node])\n",
    "\n",
    "        coord = tf.train.Coordinator()\n",
    "        threads = tf.train.start_queue_runners(sess=sess, coord=coord)\n",
    "\n",
    "        try:\n",
    "            while not coord.should_stop():\n",
    "                _, step, loss, summary = sess.run([\n",
    "                    train_op, model.global_step, model.loss_op,\n",
    "                    model.merged_summary_op\n",
    "                ], feed_dict = {model.phase: 1})\n",
    "                model.add_summary(summary, step)\n",
    "                logging.info('step %s, loss %s' % (step, loss))\n",
    "        except tf.errors.OutOfRangeError:\n",
    "            logging.info('Done training -- epoch limit reached')\n",
    "        finally:\n",
    "            # When done, ask the threads to stop.\n",
    "            coord.request_stop()\n",
    "\n",
    "        # Wait for threads to finish.\n",
    "        coord.join(threads)\n",
    "        model.save(step)\n",
    "        finished = True\n",
    "\n",
    "except Exception as e:\n",
    "    logging.exception(\"train error\")\n",
    "    send_email('notebook_url', subject='train error', body=e)\n",
    "finally:\n",
    "    if finished:\n",
    "#     send_email('notebook_url', subject='finished training')\n",
    "        pass\n",
    "        \n",
    "logging.info(\"--- %s seconds ---\" % (time.time() - start_time))"
   ]
  },
  {
   "cell_type": "markdown",
   "metadata": {},
   "source": [
    "# Test"
   ]
  },
  {
   "cell_type": "code",
   "execution_count": 9,
   "metadata": {
    "ExecuteTime": {
     "end_time": "2017-09-15T11:27:51.795497Z",
     "start_time": "2017-09-15T11:27:51.506687Z"
    },
    "scrolled": true
   },
   "outputs": [
    {
     "name": "stdout",
     "output_type": "stream",
     "text": [
      "../data/models/2017-09-12 06:48:30.232017-3000.meta\r\n",
      "../data/models/2017-09-13 03:45:02.521079-9682.meta\r\n",
      "../data/models/2017-09-13 15:57:25.781316-3.meta\r\n",
      "../data/models/2017-09-13 19:15:36.168251-3.meta\r\n",
      "../data/models/2017-09-14 17:05:31.877463-3.meta\r\n",
      "../data/models/2017-09-15 02:18:39.674838-9682.meta\r\n"
     ]
    }
   ],
   "source": [
    "model_dir = join(DATA_FOLDER, 'models')\n",
    "!ls {model_dir+'/*.meta'}"
   ]
  },
  {
   "cell_type": "code",
   "execution_count": 10,
   "metadata": {
    "ExecuteTime": {
     "end_time": "2017-09-15T11:27:51.825897Z",
     "start_time": "2017-09-15T11:27:51.807625Z"
    },
    "collapsed": true
   },
   "outputs": [],
   "source": [
    "def last_model(model_dir):\n",
    "    fnames = glob(join(model_dir, '*.meta'))\n",
    "    return max(fnames)"
   ]
  },
  {
   "cell_type": "code",
   "execution_count": 11,
   "metadata": {
    "ExecuteTime": {
     "end_time": "2017-09-15T11:27:53.026042Z",
     "start_time": "2017-09-15T11:27:51.829454Z"
    }
   },
   "outputs": [
    {
     "name": "stderr",
     "output_type": "stream",
     "text": [
      "2017-09-15 14:27:53,023 [MainThread  ] [INFO ]  len(chunked) = 422394\n"
     ]
    },
    {
     "name": "stdout",
     "output_type": "stream",
     "text": [
      "['../data/corpus/5984b84fb6b1132eeb638535.txt']\n"
     ]
    }
   ],
   "source": [
    "def chunks(l, n):\n",
    "    \"\"\"Yield successive n-sized chunks from l.\"\"\"\n",
    "    for i in range(0, len(l), n):\n",
    "        yield l[i:i + n]\n",
    "\n",
    "chunked = list(chunks(ids, 3))\n",
    "print(chunked.pop())\n",
    "logging.info('len(chunked) = %s' % len(chunked))"
   ]
  },
  {
   "cell_type": "markdown",
   "metadata": {},
   "source": [
    "https://github.com/aymericdamien/TensorFlow-Examples/blob/master/examples/4_Utils/save_restore_model.py"
   ]
  },
  {
   "cell_type": "code",
   "execution_count": 12,
   "metadata": {
    "ExecuteTime": {
     "end_time": "2017-09-15T11:27:53.030059Z",
     "start_time": "2017-09-15T11:27:53.027750Z"
    },
    "collapsed": true
   },
   "outputs": [],
   "source": [
    "doc_embeds, fnames = [], []"
   ]
  },
  {
   "cell_type": "code",
   "execution_count": 10,
   "metadata": {
    "ExecuteTime": {
     "end_time": "2017-09-13T12:55:52.548506Z",
     "start_time": "2017-09-13T12:55:52.533873Z"
    },
    "scrolled": true
   },
   "outputs": [
    {
     "ename": "SyntaxError",
     "evalue": "invalid syntax (<ipython-input-10-3fb362e3db47>, line 3)",
     "output_type": "error",
     "traceback": [
      "\u001b[0;36m  File \u001b[0;32m\"<ipython-input-10-3fb362e3db47>\"\u001b[0;36m, line \u001b[0;32m3\u001b[0m\n\u001b[0;31m    res = evaluate(best, gold)from matplotlib import pyplot as plt\u001b[0m\n\u001b[0m                                 ^\u001b[0m\n\u001b[0;31mSyntaxError\u001b[0m\u001b[0;31m:\u001b[0m invalid syntax\n"
     ]
    }
   ],
   "source": [
    "finished = False\n",
    "try:\n",
    "    tf.reset_default_graph()\n",
    "    tf.set_random_seed(0)\n",
    "    session_conf = tf.ConfigProto(\n",
    "        allow_soft_placement=True, log_device_placement=False)\n",
    "    sess = tf.Session(config=session_conf)    \n",
    "    with sess.as_default():\n",
    "        X, fnames_batch = data_flow.input_pipeline(\n",
    "            chunked[:batch_size*100], [n_sents, n_words], batch_size=batch_size, \n",
    "            num_epochs=1, shuffle=False)\n",
    "\n",
    "        init_local = tf.local_variables_initializer()\n",
    "        init_global = tf.global_variables_initializer()\n",
    "        sess.run([init_global, init_local])\n",
    "\n",
    "        # do not restore before global initialization, otherwise all weights are set to default !!!\n",
    "        saver = tf.train.import_meta_graph(last_model(model_dir), input_map={'X':X})\n",
    "        saver.restore(sess, tf.train.latest_checkpoint(model_dir))\n",
    "        graph = tf.get_default_graph()\n",
    "\n",
    "        op_name = 'optimize/loss/doc_embed_normalized'\n",
    "        doc_embed_normalized = graph.get_operation_by_name(op_name).outputs[0]\n",
    "\n",
    "        anchor, positive, negative = tf.unstack(\n",
    "            tf.reshape(doc_embed_normalized, [-1, 3, doc_kmax * doc_nb_filter * len(doc_filter_sizes)]),\n",
    "            3, 1)\n",
    "        _loss = cnn.triplet_loss(anchor, positive, negative)\n",
    "\n",
    "#         pprint([n.name for n in tf.get_default_graph().as_graph_def().node])\n",
    "\n",
    "        coord = tf.train.Coordinator()\n",
    "        threads = tf.train.start_queue_runners(sess=sess, coord=coord)\n",
    "\n",
    "        step = 0\n",
    "        try:\n",
    "            while not coord.should_stop():\n",
    "                [batch_embeds, loss, _names] = sess.run([doc_embed_normalized, \n",
    "                                                         _loss, fnames_batch])\n",
    "                doc_embeds.append(batch_embeds)\n",
    "                fnames += list(_names)\n",
    "                logging.info('step %s, loss %s' % (step, loss))\n",
    "                step+=1\n",
    "        except tf.errors.OutOfRangeError:\n",
    "            logging.info('Done testing -- epoch limit reached')\n",
    "        finally:\n",
    "            # When done, ask the threads to stop.\n",
    "            coord.request_stop()\n",
    "\n",
    "        # Wait for threads to finish.\n",
    "        coord.join(threads)\n",
    "        finished = True\n",
    "        \n",
    "except Exception as e:\n",
    "    logging.exception(\"test error\")\n",
    "#     send_email('notebook_url', subject='test error', body=e)\n",
    "finally:\n",
    "    if finished:\n",
    "#         send_email('notebook_url', subject='finished testing')\n",
    "        pass"
   ]
  },
  {
   "cell_type": "code",
   "execution_count": 55,
   "metadata": {
    "ExecuteTime": {
     "end_time": "2017-09-12T15:31:09.982339Z",
     "start_time": "2017-09-12T15:31:09.962783Z"
    },
    "collapsed": true
   },
   "outputs": [],
   "source": [
    "fnames = np.concatenate(fnames)\n",
    "doc_embeds_reshaped = np.reshape(np.concatenate(doc_embeds), [-1, doc_embed_size])"
   ]
  },
  {
   "cell_type": "code",
   "execution_count": 28,
   "metadata": {
    "ExecuteTime": {
     "end_time": "2017-09-15T11:30:03.885901Z",
     "start_time": "2017-09-15T11:30:03.883498Z"
    },
    "collapsed": true
   },
   "outputs": [],
   "source": [
    "margin = 0.5"
   ]
  },
  {
   "cell_type": "code",
   "execution_count": 14,
   "metadata": {
    "ExecuteTime": {
     "end_time": "2017-09-15T11:27:53.058377Z",
     "start_time": "2017-09-15T11:27:53.042098Z"
    }
   },
   "outputs": [],
   "source": [
    "# np.save('../data/doc_embeds_reshaped_1ep.npy', doc_embeds_reshaped)\n",
    "# np.save('../data/fnames_1ep.npy', fnames)"
   ]
  },
  {
   "cell_type": "code",
   "execution_count": 29,
   "metadata": {
    "ExecuteTime": {
     "end_time": "2017-09-15T11:30:05.516420Z",
     "start_time": "2017-09-15T11:30:04.798763Z"
    }
   },
   "outputs": [],
   "source": [
    "doc_embeds_reshaped = np.load('../data/saved/doc_embeds_reshaped_1ep_%s.npy' % margin)\n",
    "fnames = np.load('../data/saved/fnames_1ep_%s.npy' % margin)"
   ]
  },
  {
   "cell_type": "code",
   "execution_count": 30,
   "metadata": {
    "ExecuteTime": {
     "end_time": "2017-09-15T11:30:06.057676Z",
     "start_time": "2017-09-15T11:30:06.048803Z"
    }
   },
   "outputs": [
    {
     "data": {
      "text/plain": [
       "1267008"
      ]
     },
     "execution_count": 30,
     "metadata": {},
     "output_type": "execute_result"
    }
   ],
   "source": [
    "len(fnames)"
   ]
  },
  {
   "cell_type": "markdown",
   "metadata": {
    "heading_collapsed": true
   },
   "source": [
    "# Manualy evaluate"
   ]
  },
  {
   "cell_type": "code",
   "execution_count": 87,
   "metadata": {
    "ExecuteTime": {
     "end_time": "2017-09-15T08:33:54.988568Z",
     "start_time": "2017-09-15T08:33:54.828296Z"
    },
    "collapsed": true,
    "hidden": true,
    "scrolled": false
   },
   "outputs": [],
   "source": [
    "ix0 = 12\n",
    "triples_test[ix0]\n",
    "ix = list(fnames).index(triples_test[ix0][0])"
   ]
  },
  {
   "cell_type": "code",
   "execution_count": 40,
   "metadata": {
    "ExecuteTime": {
     "end_time": "2017-09-15T11:34:39.346749Z",
     "start_time": "2017-09-15T11:34:39.322552Z"
    },
    "collapsed": true,
    "hidden": true
   },
   "outputs": [],
   "source": [
    "ix = np.where(fnames == '../data/corpus/59a7bc58782b1b893a56a747.txt')[0][0]"
   ]
  },
  {
   "cell_type": "code",
   "execution_count": 41,
   "metadata": {
    "ExecuteTime": {
     "end_time": "2017-09-15T11:34:40.929410Z",
     "start_time": "2017-09-15T11:34:40.923332Z"
    },
    "collapsed": true,
    "hidden": true
   },
   "outputs": [],
   "source": [
    "test_fn = fnames[ix]\n",
    "test_vec = doc_embeds_reshaped[ix]"
   ]
  },
  {
   "cell_type": "code",
   "execution_count": 42,
   "metadata": {
    "ExecuteTime": {
     "end_time": "2017-09-15T11:34:40.935138Z",
     "start_time": "2017-09-15T11:34:40.931618Z"
    },
    "hidden": true,
    "scrolled": true
   },
   "outputs": [
    {
     "data": {
      "text/plain": [
       "'../data/corpus/59a7bc58782b1b893a56a747.txt'"
      ]
     },
     "execution_count": 42,
     "metadata": {},
     "output_type": "execute_result"
    }
   ],
   "source": [
    "test_fn"
   ]
  },
  {
   "cell_type": "code",
   "execution_count": 43,
   "metadata": {
    "ExecuteTime": {
     "end_time": "2017-09-15T11:34:41.628519Z",
     "start_time": "2017-09-15T11:34:40.936769Z"
    },
    "collapsed": true,
    "hidden": true
   },
   "outputs": [],
   "source": [
    "dists = np.sum(np.square(doc_embeds_reshaped - test_vec), 1)"
   ]
  },
  {
   "cell_type": "code",
   "execution_count": 44,
   "metadata": {
    "ExecuteTime": {
     "end_time": "2017-09-15T11:34:42.014397Z",
     "start_time": "2017-09-15T11:34:41.630167Z"
    },
    "hidden": true,
    "scrolled": true
   },
   "outputs": [
    {
     "data": {
      "text/plain": [
       "array(['../data/corpus/59a7bc58782b1b893a56a747.txt',\n",
       "       '../data/corpus/5984c8fab6b11375b563853b.txt',\n",
       "       '../data/corpus/5984c00ab6b1130ebd638546.txt',\n",
       "       '../data/corpus/5984caeeb6b1130a976384f3.txt',\n",
       "       '../data/corpus/5984b99eb6b113414f63851c.txt',\n",
       "       '../data/corpus/5984c8d8b6b11372df638533.txt',\n",
       "       '../data/corpus/5984c8ebb6b11374c2638500.txt',\n",
       "       '../data/corpus/5984cd13b6b1131edb638551.txt',\n",
       "       '../data/corpus/5984c85db6b1136d83638518.txt',\n",
       "       '../data/corpus/5984dc1fb6b11325ff63851b.txt',\n",
       "       '../data/corpus/5984d238b6b1134e48638544.txt',\n",
       "       '../data/corpus/5984c4ebb6b1134aa0638516.txt',\n",
       "       '../data/corpus/5984c501b6b1134c7d638543.txt',\n",
       "       '../data/corpus/5984cae7b6b1130967638549.txt',\n",
       "       '../data/corpus/5984c88bb6b1136eef6384f7.txt',\n",
       "       '../data/corpus/5984c64fb6b113584a638502.txt',\n",
       "       '../data/corpus/5984d203b6b1134a9b6384f0.txt',\n",
       "       '../data/corpus/5984dc43b6b113280f63853d.txt',\n",
       "       '../data/corpus/5984bf1eb6b1130550638527.txt',\n",
       "       '../data/corpus/5984b8c6b6b1133842638517.txt',\n",
       "       '../data/corpus/5984c9f3b6b1130198638517.txt',\n",
       "       '../data/corpus/5984be22b6b11377e6638550.txt',\n",
       "       '../data/corpus/5984d4e3b6b113693e63850f.txt',\n",
       "       '../data/corpus/5984c6d0b6b1135f5c6384f7.txt',\n",
       "       '../data/corpus/5984bde1b6b113759763852b.txt',\n",
       "       '../data/corpus/5984c6a5b6b1135b9d638511.txt',\n",
       "       '../data/corpus/5984caedb6b1130a936384f6.txt',\n",
       "       '../data/corpus/5984bc24b6b1135fda638541.txt',\n",
       "       '../data/corpus/5984c17bb6b1132211638536.txt',\n",
       "       '../data/corpus/5984b99cb6b113414b638512.txt',\n",
       "       '../data/corpus/5984c876b6b1136d7f63852b.txt',\n",
       "       '../data/corpus/5984b7d7b6b113295f638531.txt',\n",
       "       '../data/corpus/5984c65bb6b1135856638546.txt',\n",
       "       '../data/corpus/5984b7edb6b1132a75638522.txt',\n",
       "       '../data/corpus/5984c85cb6b1136d83638513.txt',\n",
       "       '../data/corpus/5984cd1eb6b113201f638504.txt',\n",
       "       '../data/corpus/5984cf95b6b11336946384ff.txt',\n",
       "       '../data/corpus/5984b9a0b6b113414d638530.txt',\n",
       "       '../data/corpus/5984b9a3b6b113415163854a.txt',\n",
       "       '../data/corpus/5984cd1eb6b1132025638503.txt',\n",
       "       '../data/corpus/5984ccffb6b1131ee2638532.txt',\n",
       "       '../data/corpus/5984c90cb6b113777e638530.txt',\n",
       "       '../data/corpus/5984bcecb6b1136a3a638514.txt',\n",
       "       '../data/corpus/5984c4b6b6b11347a663851b.txt',\n",
       "       '../data/corpus/5984b960b6b1133ef163851c.txt',\n",
       "       '../data/corpus/5984bc32b6b11361a7638545.txt',\n",
       "       '../data/corpus/5984c105b6b1131e5c6384f5.txt',\n",
       "       '../data/corpus/5984c17db6b113221c638543.txt',\n",
       "       '../data/corpus/5984caf2b6b1130a82638515.txt',\n",
       "       '../data/corpus/5984dc26b6b1132600638548.txt',\n",
       "       '../data/corpus/5984bcbab6b11367d5638538.txt',\n",
       "       '../data/corpus/5984bbe3b6b1135d7b638521.txt',\n",
       "       '../data/corpus/5984cd1eb6b113201f638503.txt',\n",
       "       '../data/corpus/5984d7d8b6b11306aa638543.txt',\n",
       "       '../data/corpus/5984bae0b6b11351ea6384f3.txt',\n",
       "       '../data/corpus/5984bef6b6b11303ff63853d.txt',\n",
       "       '../data/corpus/5984b58eb6b113049263851f.txt',\n",
       "       '../data/corpus/5984bcedb6b1136a3b63851d.txt',\n",
       "       '../data/corpus/5984b64fb6b11310d1638543.txt',\n",
       "       '../data/corpus/5984dbd9b6b1132380638537.txt',\n",
       "       '../data/corpus/5984bf1db6b1130565638533.txt',\n",
       "       '../data/corpus/5984d240b6b1134f3263850b.txt',\n",
       "       '../data/corpus/5984c321b6b113355463852d.txt',\n",
       "       '../data/corpus/5984d25fb6b1135040638539.txt',\n",
       "       '../data/corpus/5984c8c7b6b1137205638509.txt',\n",
       "       '../data/corpus/5984c4b4b6b1134796638508.txt',\n",
       "       '../data/corpus/5984c85db6b1136d83638517.txt',\n",
       "       '../data/corpus/5984bfdfb6b1130ca0638527.txt',\n",
       "       '../data/corpus/5984c10bb6b1131e6b638505.txt',\n",
       "       '../data/corpus/5984b849b6b1132ee3638500.txt',\n",
       "       '../data/corpus/5984b850b6b1132edd63853a.txt',\n",
       "       '../data/corpus/5984dc1bb6b11326066384f4.txt',\n",
       "       '../data/corpus/5984caedb6b1130a7e6384f6.txt',\n",
       "       '../data/corpus/5984cd00b6b1131ee563852f.txt',\n",
       "       '../data/corpus/5984d2d4b6b1135999638547.txt',\n",
       "       '../data/corpus/5984b9a0b6b113414d638531.txt',\n",
       "       '../data/corpus/5984caeeb6b1130a976384f4.txt',\n",
       "       '../data/corpus/5984d26cb6b113513263850f.txt',\n",
       "       '../data/corpus/5984d435b6b113638a638537.txt',\n",
       "       '../data/corpus/5984c655b6b113584c638535.txt',\n",
       "       '../data/corpus/5984c377b6b1133c05638532.txt',\n",
       "       '../data/corpus/5984c68eb6b1135ab16384fe.txt',\n",
       "       '../data/corpus/5984bb76b6b11359c763853a.txt',\n",
       "       '../data/corpus/5984b5b0b6b11306656384fd.txt',\n",
       "       '../data/corpus/5984c498b6b113466e63853b.txt',\n",
       "       '../data/corpus/5984c89eb6b1136fe06384fb.txt',\n",
       "       '../data/corpus/5984df2cb6b1133e8f638524.txt',\n",
       "       '../data/corpus/5984be00b6b11376eb63852d.txt',\n",
       "       '../data/corpus/5984b918b6b1133b82638548.txt',\n",
       "       '../data/corpus/5984c8adb6b1136fd8638541.txt',\n",
       "       '../data/corpus/5984bef4b6b11303fe638527.txt',\n",
       "       '../data/corpus/5984c90eb6b1137789638520.txt',\n",
       "       '../data/corpus/5984c0a2b6b1131ae76384ee.txt',\n",
       "       '../data/corpus/5984c4b9b6b113479063852b.txt',\n",
       "       '../data/corpus/5984def3b6b1133d2a6384fa.txt',\n",
       "       '../data/corpus/5984c6c8b6b1135e6e638537.txt',\n",
       "       '../data/corpus/5984c8a7b6b1136fea638530.txt',\n",
       "       '../data/corpus/5984b730b6b1131dd863854a.txt',\n",
       "       '../data/corpus/5984c4edb6b1134aaa638546.txt',\n",
       "       '../data/corpus/5984d25eb6b1135040638536.txt',\n",
       "       '../data/corpus/5984cafbb6b1130a8963854e.txt',\n",
       "       '../data/corpus/5984bb66b6b11359c3638502.txt',\n",
       "       '../data/corpus/5984d248b6b1134f25638542.txt',\n",
       "       '../data/corpus/5984d26bb6b113513263850c.txt',\n",
       "       '../data/corpus/5984cf99b6b113368363851d.txt',\n",
       "       '../data/corpus/5984cd1fb6b113201663850b.txt',\n",
       "       '../data/corpus/5984bd19b6b1136b6463854d.txt',\n",
       "       '../data/corpus/5984c8c2b6b11370f0638541.txt',\n",
       "       '../data/corpus/5984d280b6b1135253638529.txt',\n",
       "       '../data/corpus/5984c4b8b6b11347ae638524.txt',\n",
       "       '../data/corpus/5984d17bb6b113459a638510.txt',\n",
       "       '../data/corpus/5984bd48b6b11370cd6384ee.txt',\n",
       "       '../data/corpus/5984d26bb6b1135136638506.txt',\n",
       "       '../data/corpus/5984cd13b6b1131edb63854f.txt',\n",
       "       '../data/corpus/5984cd47b6b113222d6384f9.txt',\n",
       "       '../data/corpus/5984cb03b6b1130b8b6384f5.txt',\n",
       "       '../data/corpus/5984c892b6b1136ed863852f.txt',\n",
       "       '../data/corpus/5984d1f9b6b11349b46384ee.txt',\n",
       "       '../data/corpus/5984b818b6b1132cb06384f6.txt',\n",
       "       '../data/corpus/5984c5b6b6b11354236384f6.txt',\n",
       "       '../data/corpus/5984bed2b6b113029d63851c.txt',\n",
       "       '../data/corpus/5984d7e2b6b11307a3638507.txt',\n",
       "       '../data/corpus/5984c164b6b113211c63850c.txt',\n",
       "       '../data/corpus/5984b6f5b6b11319c5638542.txt',\n",
       "       '../data/corpus/5984cb43b6b113103f638538.txt',\n",
       "       '../data/corpus/5984b99ab6b1134149638504.txt',\n",
       "       '../data/corpus/5984c167b6b113210b63853d.txt',\n",
       "       '../data/corpus/5984b702b6b1131adb638515.txt',\n",
       "       '../data/corpus/5984d4d5b6b1136837638532.txt',\n",
       "       '../data/corpus/5984b849b6b1132eea638500.txt',\n",
       "       '../data/corpus/5984b643b6b1130f29638521.txt',\n",
       "       '../data/corpus/5984cf94b6b11336a16384fb.txt',\n",
       "       '../data/corpus/5984b97cb6b1134030638509.txt',\n",
       "       '../data/corpus/5984be22b6b11377e663854f.txt',\n",
       "       '../data/corpus/5984c6b8b6b1135d9a6384ee.txt',\n",
       "       '../data/corpus/5984b787b6b113254a63850e.txt',\n",
       "       '../data/corpus/5984b83bb6b1132dc1638535.txt',\n",
       "       '../data/corpus/5984b8c3b6b1133828638504.txt',\n",
       "       '../data/corpus/5984c52fb6b1134f5d6384fc.txt',\n",
       "       '../data/corpus/5984c174b6b1132210638506.txt',\n",
       "       '../data/corpus/5984cf9bb6b1133687638527.txt',\n",
       "       '../data/corpus/5984c1a3b6b11325c86384fe.txt',\n",
       "       '../data/corpus/5984d4ebb6b113693e63853d.txt',\n",
       "       '../data/corpus/5984d3e9b6b11361e963852f.txt',\n",
       "       '../data/corpus/5984db59b6b1132081638516.txt',\n",
       "       '../data/corpus/5984b9c2b6b113441863852f.txt',\n",
       "       '../data/corpus/5984c8f7b6b11375ac638514.txt',\n",
       "       '../data/corpus/5984cec7b6b1132cfd63850b.txt',\n",
       "       '../data/corpus/5984c16cb6b1132108638546.txt',\n",
       "       '../data/corpus/5984cf99b6b113368363851c.txt',\n",
       "       '../data/corpus/5984cad8b6b11309876384ee.txt',\n",
       "       '../data/corpus/5984c1a3b6b11325ce6384f5.txt',\n",
       "       '../data/corpus/5984d26bb6b113513263850e.txt',\n",
       "       '../data/corpus/5984b92bb6b1133ca7638537.txt',\n",
       "       '../data/corpus/5984dc35b6b1132705638521.txt',\n",
       "       '../data/corpus/5984dbc4b6b113237a6384f5.txt',\n",
       "       '../data/corpus/5984cb04b6b1130b8b6384f9.txt',\n",
       "       '../data/corpus/5984bf47b6b11307896384f4.txt',\n",
       "       '../data/corpus/5984d2afb6b113560863854e.txt',\n",
       "       '../data/corpus/5984be3bb6b1137ace6384f3.txt',\n",
       "       '../data/corpus/5984c179b6b11321ff63853e.txt',\n",
       "       '../data/corpus/5984ba89b6b1134d71638538.txt',\n",
       "       '../data/corpus/5984d240b6b1134f32638509.txt',\n",
       "       '../data/corpus/5984bc32b6b11361bc638530.txt',\n",
       "       '../data/corpus/5984dc28b6b113261963854c.txt',\n",
       "       '../data/corpus/5984c892b6b1136ee3638521.txt',\n",
       "       '../data/corpus/5984cd4cb6b113223163851d.txt',\n",
       "       '../data/corpus/5984cc67b6b1131a5563854e.txt',\n",
       "       '../data/corpus/5984d510b6b1136b44638517.txt',\n",
       "       '../data/corpus/5984b681b6b1131497638519.txt',\n",
       "       '../data/corpus/5984d4d4b6b113683463852f.txt',\n",
       "       '../data/corpus/5984caf3b6b1130a8763851a.txt',\n",
       "       '../data/corpus/5984c876b6b1136d7f638530.txt',\n",
       "       '../data/corpus/5984b8c6b6b1133842638518.txt',\n",
       "       '../data/corpus/5984b918b6b1133b82638547.txt',\n",
       "       '../data/corpus/5984d4e9b6b113694863852f.txt',\n",
       "       '../data/corpus/5984cf14b6b1132e74638517.txt',\n",
       "       '../data/corpus/5984b89fb6b113362f638540.txt',\n",
       "       '../data/corpus/5984bf1eb6b113056063852f.txt',\n",
       "       '../data/corpus/5984d240b6b1134f3263850a.txt',\n",
       "       '../data/corpus/5984cae7b6b113096d638546.txt',\n",
       "       '../data/corpus/5984df2ab6b1133e9b638512.txt',\n",
       "       '../data/corpus/5984c67ab6b11359a7638501.txt',\n",
       "       '../data/corpus/5984d1b4b6b1134733638548.txt',\n",
       "       '../data/corpus/5984d4eab6b1136948638531.txt',\n",
       "       '../data/corpus/5984d7bcb6b11305a2638526.txt',\n",
       "       '../data/corpus/5984c4bcb6b1134791638547.txt',\n",
       "       '../data/corpus/5984bb11b6b11357346384ef.txt',\n",
       "       '../data/corpus/5984c8bfb6b11370f3638535.txt',\n",
       "       '../data/corpus/5984cfc0b6b11338a6638502.txt',\n",
       "       '../data/corpus/5984ccfeb6b1131eeb638536.txt',\n",
       "       '../data/corpus/5984d785b6b11303ee638549.txt',\n",
       "       '../data/corpus/5984b5b4b6b113065c638516.txt',\n",
       "       '../data/corpus/5984be18b6b11377e0638539.txt',\n",
       "       '../data/corpus/5984bef2b6b113040163850e.txt',\n",
       "       '../data/corpus/5984bcb2b6b11367d6638503.txt',\n",
       "       '../data/corpus/5984d50eb6b1136b4f638505.txt',\n",
       "       '../data/corpus/5984b5dab6b1130832638502.txt',\n",
       "       '../data/corpus/5984b9fdb6b11348ca638522.txt',\n",
       "       '../data/corpus/5984d7beb6b113058a63853d.txt',\n",
       "       '../data/corpus/5984d829b6b1130b08638542.txt'], dtype=object)"
      ]
     },
     "execution_count": 44,
     "metadata": {},
     "output_type": "execute_result"
    }
   ],
   "source": [
    "ixs = dists.argsort()\n",
    "fnames[ixs][:201]"
   ]
  },
  {
   "cell_type": "code",
   "execution_count": 93,
   "metadata": {
    "ExecuteTime": {
     "end_time": "2017-09-15T08:33:55.759635Z",
     "start_time": "2017-09-15T08:33:55.743465Z"
    },
    "hidden": true,
    "scrolled": true
   },
   "outputs": [
    {
     "data": {
      "text/plain": [
       "array([ 0.        ,  0.02066471,  0.02163484, ...,  1.88739419,\n",
       "        1.88992715,  1.90557218], dtype=float32)"
      ]
     },
     "execution_count": 93,
     "metadata": {},
     "output_type": "execute_result"
    }
   ],
   "source": [
    "dists[ixs]"
   ]
  },
  {
   "cell_type": "code",
   "execution_count": 94,
   "metadata": {
    "ExecuteTime": {
     "end_time": "2017-09-15T08:33:55.908765Z",
     "start_time": "2017-09-15T08:33:55.762021Z"
    },
    "hidden": true
   },
   "outputs": [
    {
     "data": {
      "text/plain": [
       "['../data/corpus/5984c280b6b113301e638537.txt']"
      ]
     },
     "execution_count": 94,
     "metadata": {},
     "output_type": "execute_result"
    }
   ],
   "source": [
    "[fn for fn in fnames if '5984c280b6b113301e638537' in fn]"
   ]
  },
  {
   "cell_type": "code",
   "execution_count": 95,
   "metadata": {
    "ExecuteTime": {
     "end_time": "2017-09-15T08:33:56.125581Z",
     "start_time": "2017-09-15T08:33:55.910409Z"
    },
    "hidden": true
   },
   "outputs": [
    {
     "data": {
      "text/plain": [
       "(array([364]),)"
      ]
     },
     "execution_count": 95,
     "metadata": {},
     "output_type": "execute_result"
    }
   ],
   "source": [
    "np.where(fnames[ixs] == '../data/corpus/5984bcbab6b11367d5638538.txt')"
   ]
  },
  {
   "cell_type": "markdown",
   "metadata": {},
   "source": [
    "# Get statistics"
   ]
  },
  {
   "cell_type": "code",
   "execution_count": 31,
   "metadata": {
    "ExecuteTime": {
     "end_time": "2017-09-15T11:30:08.077347Z",
     "start_time": "2017-09-15T11:30:08.074106Z"
    },
    "collapsed": true
   },
   "outputs": [],
   "source": [
    "with open(join(DATA_FOLDER, 'gold_mongo.json'), 'r') as f:\n",
    "    gold = json.load(f)"
   ]
  },
  {
   "cell_type": "code",
   "execution_count": 32,
   "metadata": {
    "ExecuteTime": {
     "end_time": "2017-09-15T11:30:08.353146Z",
     "start_time": "2017-09-15T11:30:08.079914Z"
    },
    "collapsed": true
   },
   "outputs": [],
   "source": [
    "names = pd.Series(range(len(fnames)), index = fnames)"
   ]
  },
  {
   "cell_type": "code",
   "execution_count": 33,
   "metadata": {
    "ExecuteTime": {
     "end_time": "2017-09-15T11:30:36.995046Z",
     "start_time": "2017-09-15T11:30:08.355282Z"
    }
   },
   "outputs": [],
   "source": [
    "test_vecs = []\n",
    "for k in gold.keys():\n",
    "    ix = names[add_fname(k)]\n",
    "    tvec = doc_embeds_reshaped[ix]\n",
    "    test_vecs.append(tvec)\n",
    "    \n",
    "dists = euclidean_distances(test_vecs, doc_embeds_reshaped)\n",
    "sorted_ixs = np.argsort(dists, axis=1)\n",
    "preds = {}\n",
    "for k, _ixs in zip(gold.keys(), sorted_ixs):\n",
    "    preds[k] = [basename(n).split('.')[0] for n in fnames[_ixs[1:201]]]"
   ]
  },
  {
   "cell_type": "code",
   "execution_count": 34,
   "metadata": {
    "ExecuteTime": {
     "end_time": "2017-09-15T11:30:37.455768Z",
     "start_time": "2017-09-15T11:30:36.996653Z"
    },
    "scrolled": true
   },
   "outputs": [
    {
     "name": "stdout",
     "output_type": "stream",
     "text": [
      "median\n",
      "acc10     0.0\n",
      "acc20     0.0\n",
      "acc200    0.0\n",
      "dtype: float64\n",
      "mean\n",
      "acc10     0.077899\n",
      "acc20     0.125000\n",
      "acc200    0.309511\n",
      "dtype: float64\n"
     ]
    },
    {
     "data": {
      "image/png": "[encoded data removed]",
      "text/plain": [
       "<matplotlib.figure.Figure at 0x7ff78042a190>"
      ]
     },
     "metadata": {},
     "output_type": "display_data"
    },
    {
     "data": {
      "image/png": "[encoded data removed]",
      "text/plain": [
       "<matplotlib.figure.Figure at 0x7ff78041b390>"
      ]
     },
     "metadata": {},
     "output_type": "display_data"
    },
    {
     "data": {
      "image/png": "[encoded data removed]",
      "text/plain": [
       "<matplotlib.figure.Figure at 0x7ff7b7df18d0>"
      ]
     },
     "metadata": {},
     "output_type": "display_data"
    }
   ],
   "source": [
    "result = evaluate(preds, gold)\n",
    "\n",
    "ax = result['acc10'].hist()\n",
    "ax.set_xlabel(\"acc10\")\n",
    "plt.show()\n",
    "\n",
    "ax = result['acc20'].hist()\n",
    "ax.set_xlabel(\"acc20\")\n",
    "plt.show()\n",
    "\n",
    "ax = result['acc200'].hist()\n",
    "ax.set_xlabel(\"acc200\")\n",
    "plt.show()"
   ]
  },
  {
   "cell_type": "code",
   "execution_count": 39,
   "metadata": {
    "ExecuteTime": {
     "end_time": "2017-09-15T11:32:01.916858Z",
     "start_time": "2017-09-15T11:32:01.908105Z"
    }
   },
   "outputs": [
    {
     "name": "stdout",
     "output_type": "stream",
     "text": [
      "59a7bc58782b1b893a56a747\n"
     ]
    },
    {
     "data": {
      "text/plain": [
       "['5984c8fab6b11375b563853b',\n",
       " '5984c00ab6b1130ebd638546',\n",
       " '5984caeeb6b1130a976384f3',\n",
       " '5984b99eb6b113414f63851c',\n",
       " '5984c8d8b6b11372df638533',\n",
       " '5984c8ebb6b11374c2638500',\n",
       " '5984cd13b6b1131edb638551',\n",
       " '5984c85db6b1136d83638518',\n",
       " '5984dc1fb6b11325ff63851b',\n",
       " '5984d238b6b1134e48638544',\n",
       " '5984c4ebb6b1134aa0638516',\n",
       " '5984c501b6b1134c7d638543',\n",
       " '5984cae7b6b1130967638549',\n",
       " '5984c88bb6b1136eef6384f7',\n",
       " '5984c64fb6b113584a638502',\n",
       " '5984d203b6b1134a9b6384f0',\n",
       " '5984dc43b6b113280f63853d',\n",
       " '5984bf1eb6b1130550638527',\n",
       " '5984b8c6b6b1133842638517',\n",
       " '5984c9f3b6b1130198638517',\n",
       " '5984be22b6b11377e6638550',\n",
       " '5984d4e3b6b113693e63850f',\n",
       " '5984c6d0b6b1135f5c6384f7',\n",
       " '5984bde1b6b113759763852b',\n",
       " '5984c6a5b6b1135b9d638511',\n",
       " '5984caedb6b1130a936384f6',\n",
       " '5984bc24b6b1135fda638541',\n",
       " '5984c17bb6b1132211638536',\n",
       " '5984b99cb6b113414b638512',\n",
       " '5984c876b6b1136d7f63852b',\n",
       " '5984b7d7b6b113295f638531',\n",
       " '5984c65bb6b1135856638546',\n",
       " '5984b7edb6b1132a75638522',\n",
       " '5984c85cb6b1136d83638513',\n",
       " '5984cd1eb6b113201f638504',\n",
       " '5984cf95b6b11336946384ff',\n",
       " '5984b9a0b6b113414d638530',\n",
       " '5984b9a3b6b113415163854a',\n",
       " '5984cd1eb6b1132025638503',\n",
       " '5984ccffb6b1131ee2638532',\n",
       " '5984c90cb6b113777e638530',\n",
       " '5984bcecb6b1136a3a638514',\n",
       " '5984c4b6b6b11347a663851b',\n",
       " '5984b960b6b1133ef163851c',\n",
       " '5984bc32b6b11361a7638545',\n",
       " '5984c105b6b1131e5c6384f5',\n",
       " '5984c17db6b113221c638543',\n",
       " '5984caf2b6b1130a82638515',\n",
       " '5984dc26b6b1132600638548',\n",
       " '5984bcbab6b11367d5638538',\n",
       " '5984bbe3b6b1135d7b638521',\n",
       " '5984cd1eb6b113201f638503',\n",
       " '5984d7d8b6b11306aa638543',\n",
       " '5984bae0b6b11351ea6384f3',\n",
       " '5984bef6b6b11303ff63853d',\n",
       " '5984b58eb6b113049263851f',\n",
       " '5984bcedb6b1136a3b63851d',\n",
       " '5984b64fb6b11310d1638543',\n",
       " '5984dbd9b6b1132380638537',\n",
       " '5984bf1db6b1130565638533',\n",
       " '5984d240b6b1134f3263850b',\n",
       " '5984c321b6b113355463852d',\n",
       " '5984d25fb6b1135040638539',\n",
       " '5984c8c7b6b1137205638509',\n",
       " '5984c4b4b6b1134796638508',\n",
       " '5984c85db6b1136d83638517',\n",
       " '5984bfdfb6b1130ca0638527',\n",
       " '5984c10bb6b1131e6b638505',\n",
       " '5984b849b6b1132ee3638500',\n",
       " '5984b850b6b1132edd63853a',\n",
       " '5984dc1bb6b11326066384f4',\n",
       " '5984caedb6b1130a7e6384f6',\n",
       " '5984cd00b6b1131ee563852f',\n",
       " '5984d2d4b6b1135999638547',\n",
       " '5984b9a0b6b113414d638531',\n",
       " '5984caeeb6b1130a976384f4',\n",
       " '5984d26cb6b113513263850f',\n",
       " '5984d435b6b113638a638537',\n",
       " '5984c655b6b113584c638535',\n",
       " '5984c377b6b1133c05638532',\n",
       " '5984c68eb6b1135ab16384fe',\n",
       " '5984bb76b6b11359c763853a',\n",
       " '5984b5b0b6b11306656384fd',\n",
       " '5984c498b6b113466e63853b',\n",
       " '5984c89eb6b1136fe06384fb',\n",
       " '5984df2cb6b1133e8f638524',\n",
       " '5984be00b6b11376eb63852d',\n",
       " '5984b918b6b1133b82638548',\n",
       " '5984c8adb6b1136fd8638541',\n",
       " '5984bef4b6b11303fe638527',\n",
       " '5984c90eb6b1137789638520',\n",
       " '5984c0a2b6b1131ae76384ee',\n",
       " '5984c4b9b6b113479063852b',\n",
       " '5984def3b6b1133d2a6384fa',\n",
       " '5984c6c8b6b1135e6e638537',\n",
       " '5984c8a7b6b1136fea638530',\n",
       " '5984b730b6b1131dd863854a',\n",
       " '5984c4edb6b1134aaa638546',\n",
       " '5984d25eb6b1135040638536',\n",
       " '5984cafbb6b1130a8963854e',\n",
       " '5984bb66b6b11359c3638502',\n",
       " '5984d248b6b1134f25638542',\n",
       " '5984d26bb6b113513263850c',\n",
       " '5984cf99b6b113368363851d',\n",
       " '5984cd1fb6b113201663850b',\n",
       " '5984bd19b6b1136b6463854d',\n",
       " '5984c8c2b6b11370f0638541',\n",
       " '5984d280b6b1135253638529',\n",
       " '5984c4b8b6b11347ae638524',\n",
       " '5984d17bb6b113459a638510',\n",
       " '5984bd48b6b11370cd6384ee',\n",
       " '5984d26bb6b1135136638506',\n",
       " '5984cd13b6b1131edb63854f',\n",
       " '5984cd47b6b113222d6384f9',\n",
       " '5984cb03b6b1130b8b6384f5',\n",
       " '5984c892b6b1136ed863852f',\n",
       " '5984d1f9b6b11349b46384ee',\n",
       " '5984b818b6b1132cb06384f6',\n",
       " '5984c5b6b6b11354236384f6',\n",
       " '5984bed2b6b113029d63851c',\n",
       " '5984d7e2b6b11307a3638507',\n",
       " '5984c164b6b113211c63850c',\n",
       " '5984b6f5b6b11319c5638542',\n",
       " '5984cb43b6b113103f638538',\n",
       " '5984b99ab6b1134149638504',\n",
       " '5984c167b6b113210b63853d',\n",
       " '5984b702b6b1131adb638515',\n",
       " '5984d4d5b6b1136837638532',\n",
       " '5984b849b6b1132eea638500',\n",
       " '5984b643b6b1130f29638521',\n",
       " '5984cf94b6b11336a16384fb',\n",
       " '5984b97cb6b1134030638509',\n",
       " '5984be22b6b11377e663854f',\n",
       " '5984c6b8b6b1135d9a6384ee',\n",
       " '5984b787b6b113254a63850e',\n",
       " '5984b83bb6b1132dc1638535',\n",
       " '5984b8c3b6b1133828638504',\n",
       " '5984c52fb6b1134f5d6384fc',\n",
       " '5984c174b6b1132210638506',\n",
       " '5984cf9bb6b1133687638527',\n",
       " '5984c1a3b6b11325c86384fe',\n",
       " '5984d4ebb6b113693e63853d',\n",
       " '5984d3e9b6b11361e963852f',\n",
       " '5984db59b6b1132081638516',\n",
       " '5984b9c2b6b113441863852f',\n",
       " '5984c8f7b6b11375ac638514',\n",
       " '5984cec7b6b1132cfd63850b',\n",
       " '5984c16cb6b1132108638546',\n",
       " '5984cf99b6b113368363851c',\n",
       " '5984cad8b6b11309876384ee',\n",
       " '5984c1a3b6b11325ce6384f5',\n",
       " '5984d26bb6b113513263850e',\n",
       " '5984b92bb6b1133ca7638537',\n",
       " '5984dc35b6b1132705638521',\n",
       " '5984dbc4b6b113237a6384f5',\n",
       " '5984cb04b6b1130b8b6384f9',\n",
       " '5984bf47b6b11307896384f4',\n",
       " '5984d2afb6b113560863854e',\n",
       " '5984be3bb6b1137ace6384f3',\n",
       " '5984c179b6b11321ff63853e',\n",
       " '5984ba89b6b1134d71638538',\n",
       " '5984d240b6b1134f32638509',\n",
       " '5984bc32b6b11361bc638530',\n",
       " '5984dc28b6b113261963854c',\n",
       " '5984c892b6b1136ee3638521',\n",
       " '5984cd4cb6b113223163851d',\n",
       " '5984cc67b6b1131a5563854e',\n",
       " '5984d510b6b1136b44638517',\n",
       " '5984b681b6b1131497638519',\n",
       " '5984d4d4b6b113683463852f',\n",
       " '5984caf3b6b1130a8763851a',\n",
       " '5984c876b6b1136d7f638530',\n",
       " '5984b8c6b6b1133842638518',\n",
       " '5984b918b6b1133b82638547',\n",
       " '5984d4e9b6b113694863852f',\n",
       " '5984cf14b6b1132e74638517',\n",
       " '5984b89fb6b113362f638540',\n",
       " '5984bf1eb6b113056063852f',\n",
       " '5984d240b6b1134f3263850a',\n",
       " '5984cae7b6b113096d638546',\n",
       " '5984df2ab6b1133e9b638512',\n",
       " '5984c67ab6b11359a7638501',\n",
       " '5984d1b4b6b1134733638548',\n",
       " '5984d4eab6b1136948638531',\n",
       " '5984d7bcb6b11305a2638526',\n",
       " '5984c4bcb6b1134791638547',\n",
       " '5984bb11b6b11357346384ef',\n",
       " '5984c8bfb6b11370f3638535',\n",
       " '5984cfc0b6b11338a6638502',\n",
       " '5984ccfeb6b1131eeb638536',\n",
       " '5984d785b6b11303ee638549',\n",
       " '5984b5b4b6b113065c638516',\n",
       " '5984be18b6b11377e0638539',\n",
       " '5984bef2b6b113040163850e',\n",
       " '5984bcb2b6b11367d6638503',\n",
       " '5984d50eb6b1136b4f638505',\n",
       " '5984b5dab6b1130832638502',\n",
       " '5984b9fdb6b11348ca638522',\n",
       " '5984d7beb6b113058a63853d',\n",
       " '5984d829b6b1130b08638542']"
      ]
     },
     "execution_count": 39,
     "metadata": {},
     "output_type": "execute_result"
    }
   ],
   "source": [
    "k = preds.keys()[0]\n",
    "print(k)\n",
    "preds[k]"
   ]
  },
  {
   "cell_type": "markdown",
   "metadata": {
    "heading_collapsed": true
   },
   "source": [
    "# Develop"
   ]
  },
  {
   "cell_type": "code",
   "execution_count": 59,
   "metadata": {
    "ExecuteTime": {
     "end_time": "2017-09-08T14:25:11.326800Z",
     "start_time": "2017-09-08T14:25:11.199178Z"
    },
    "hidden": true,
    "scrolled": true
   },
   "outputs": [
    {
     "name": "stdout",
     "output_type": "stream",
     "text": [
      "[ 0  1  2  3  4  5  6  7  8  9 10 11 12 13 14 15 16 17 18 19 20 21 22 23 24\n",
      " 25 26 27 28 29 30 31 32 33 34 35 36 37 38 39 40 41 42 43 44 45 46 47 48 49\n",
      " 50 51 52 53 54 55 56 57 58 59 60 61 62 63 64 65 66 67 68 69 70 71 72 73 74\n",
      " 75 76 77 78 79 80 81 82 83 84 85 86 87 88 89 90 91 92 93 94 95 96 97 98]\n"
     ]
    }
   ],
   "source": [
    "g = tf.Graph()\n",
    "with g.as_default():\n",
    "    tf.set_random_seed(0)\n",
    "    sess = tf.Session()\n",
    "    with sess.as_default():\n",
    "        \n",
    "        r = list(range(100))\n",
    "        ziped = zip(r[:-1], r[1:])\n",
    "        t = tf.convert_to_tensor(ziped)\n",
    "        \n",
    "        def f(el):\n",
    "            return el[0]\n",
    "        \n",
    "#         elems = np.array([1, 2, 3, 4, 5, 6])\n",
    "#         squares = tf.map_fn(lambda x: x * x, elems)\n",
    "\n",
    "        \n",
    "        m = tf.map_fn(f, t)\n",
    "            \n",
    "        sess.run(tf.global_variables_initializer())\n",
    "        \n",
    "        [res] = sess.run([m])\n",
    "        print(res)\n"
   ]
  }
 ],
 "metadata": {
  "kernelspec": {
   "display_name": "Python 2",
   "language": "python",
   "name": "python2"
  },
  "language_info": {
   "codemirror_mode": {
    "name": "ipython",
    "version": 2
   },
   "file_extension": ".py",
   "mimetype": "text/x-python",
   "name": "python",
   "nbconvert_exporter": "python",
   "pygments_lexer": "ipython2",
   "version": "2.7.12"
  }
 },
 "nbformat": 4,
 "nbformat_minor": 2
}
