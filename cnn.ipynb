{
 "cells": [
  {
   "cell_type": "code",
   "execution_count": 1,
   "metadata": {
    "ExecuteTime": {
     "end_time": "2017-09-26T11:43:39.819318Z",
     "start_time": "2017-09-26T11:43:36.635673Z"
    }
   },
   "outputs": [],
   "source": [
    "import numpy as np\n",
    "from common import *\n",
    "\n",
    "import os, time\n",
    "import tflearn\n",
    "from io import StringIO\n",
    "import copy\n",
    "import pickle\n",
    "from functools import partial\n",
    "import train\n",
    "import data_flow\n",
    "from data_flow import nameit\n",
    "\n",
    "from __future__ import division\n",
    "from matplotlib import pyplot as plt\n",
    "\n",
    "from sklearn.model_selection import train_test_split\n",
    "from sklearn.metrics.pairwise import euclidean_distances"
   ]
  },
  {
   "cell_type": "markdown",
   "metadata": {
    "heading_collapsed": true
   },
   "source": [
    "# Prepare word vectors"
   ]
  },
  {
   "cell_type": "code",
   "execution_count": 2,
   "metadata": {
    "ExecuteTime": {
     "end_time": "2017-09-08T16:14:46.853741Z",
     "start_time": "2017-09-08T16:14:42.297088Z"
    },
    "hidden": true,
    "scrolled": false
   },
   "outputs": [
    {
     "name": "stderr",
     "output_type": "stream",
     "text": [
      "2017-09-08 19:14:42,298 [MainThread  ] [INFO ]  loading Word2Vec object from ../data/vectors/w2v_model_300_w10\n",
      "2017-09-08 19:14:44,446 [MainThread  ] [INFO ]  loading wv recursively from ../data/vectors/w2v_model_300_w10.wv.* with mmap=None\n",
      "2017-09-08 19:14:44,447 [MainThread  ] [INFO ]  loading syn0 from ../data/vectors/w2v_model_300_w10.wv.syn0.npy with mmap=None\n",
      "2017-09-08 19:14:44,594 [MainThread  ] [INFO ]  setting ignored attribute syn0norm to None\n",
      "2017-09-08 19:14:44,595 [MainThread  ] [INFO ]  loading syn1neg from ../data/vectors/w2v_model_300_w10.syn1neg.npy with mmap=None\n",
      "2017-09-08 19:14:44,736 [MainThread  ] [INFO ]  setting ignored attribute cum_table to None\n",
      "2017-09-08 19:14:44,737 [MainThread  ] [INFO ]  loaded ../data/vectors/w2v_model_300_w10\n"
     ]
    }
   ],
   "source": [
    "w2v_model = Word2Vec.load(join(DATA_FOLDER, 'vectors/w2v_model_300_w10'))"
   ]
  },
  {
   "cell_type": "code",
   "execution_count": 21,
   "metadata": {
    "ExecuteTime": {
     "end_time": "2017-09-08T10:58:55.126588Z",
     "start_time": "2017-09-08T10:58:53.880286Z"
    },
    "collapsed": true,
    "hidden": true
   },
   "outputs": [],
   "source": [
    "word_embeddings = w2v_model.wv.syn0.copy()\n",
    "index2word = copy.deepcopy(w2v_model.wv.index2word)\n",
    "del w2v_model"
   ]
  },
  {
   "cell_type": "code",
   "execution_count": 22,
   "metadata": {
    "ExecuteTime": {
     "end_time": "2017-09-08T10:58:57.877549Z",
     "start_time": "2017-09-08T10:58:55.128389Z"
    },
    "collapsed": true,
    "hidden": true
   },
   "outputs": [],
   "source": [
    "index2word.insert(0, 'PAD')\n",
    "with open(join(DATA_FOLDER, \"dictionary.pickle\"), \"wb\") as output_file:\n",
    "    pickle.dump(index2word, output_file)"
   ]
  },
  {
   "cell_type": "code",
   "execution_count": 17,
   "metadata": {
    "ExecuteTime": {
     "end_time": "2017-09-06T12:29:29.157151Z",
     "start_time": "2017-09-06T12:28:38.836197Z"
    },
    "hidden": true
   },
   "outputs": [
    {
     "data": {
      "text/plain": [
       "count    680760.000000\n",
       "mean          0.193705\n",
       "std           0.070574\n",
       "min           0.000910\n",
       "25%           0.137368\n",
       "50%           0.178099\n",
       "75%           0.244486\n",
       "max           0.744395\n",
       "dtype: float64"
      ]
     },
     "execution_count": 17,
     "metadata": {},
     "output_type": "execute_result"
    }
   ],
   "source": [
    "stds = np.apply_along_axis(np.std, 1, word_embeddings)\n",
    "pd.Series(stds).describe()"
   ]
  },
  {
   "cell_type": "code",
   "execution_count": 18,
   "metadata": {
    "ExecuteTime": {
     "end_time": "2017-09-06T12:29:29.175545Z",
     "start_time": "2017-09-06T12:29:29.159459Z"
    },
    "hidden": true
   },
   "outputs": [
    {
     "data": {
      "text/plain": [
       "0.20150940312078128"
      ]
     },
     "execution_count": 18,
     "metadata": {},
     "output_type": "execute_result"
    }
   ],
   "source": [
    "# 0.34 is chosen so the unknown vectors have (approximately) same variance as pre-trained ones\n",
    "pad_vec = np.random.uniform(-0.34,0.34, word_embeddings.shape[1])\n",
    "np.std(pad_vec)"
   ]
  },
  {
   "cell_type": "code",
   "execution_count": 19,
   "metadata": {
    "ExecuteTime": {
     "end_time": "2017-09-06T12:29:29.621377Z",
     "start_time": "2017-09-06T12:29:29.177828Z"
    },
    "collapsed": true,
    "hidden": true
   },
   "outputs": [],
   "source": [
    "word_embeddings = np.insert(word_embeddings, 0, pad_vec, axis=0)"
   ]
  },
  {
   "cell_type": "code",
   "execution_count": 20,
   "metadata": {
    "ExecuteTime": {
     "end_time": "2017-09-06T12:29:36.303189Z",
     "start_time": "2017-09-06T12:29:29.623782Z"
    },
    "collapsed": true,
    "hidden": true
   },
   "outputs": [],
   "source": [
    "np.save(join(DATA_FOLDER, 'word_embeddings_%s.npy' % word_embeddings.shape[1]), word_embeddings)"
   ]
  },
  {
   "cell_type": "markdown",
   "metadata": {},
   "source": [
    "# Load input data"
   ]
  },
  {
   "cell_type": "code",
   "execution_count": 2,
   "metadata": {
    "ExecuteTime": {
     "end_time": "2017-09-26T11:43:42.464793Z",
     "start_time": "2017-09-26T11:43:39.822181Z"
    },
    "collapsed": true
   },
   "outputs": [],
   "source": [
    "word_embeddings = np.load(join(DATA_FOLDER, 'word_embeddings_300.npy'))\n",
    "with open(join(DATA_FOLDER, \"dictionary.pickle\"), \"rb\") as input_file:\n",
    "    index2word = pickle.load(input_file)"
   ]
  },
  {
   "cell_type": "code",
   "execution_count": 3,
   "metadata": {
    "ExecuteTime": {
     "end_time": "2017-09-26T11:43:45.757235Z",
     "start_time": "2017-09-26T11:43:42.466354Z"
    },
    "collapsed": true,
    "scrolled": true
   },
   "outputs": [],
   "source": [
    "ids = glob('../data/corpus/**.txt')\n",
    "with open(join(DATA_FOLDER, 'sims.json'), 'r') as f:\n",
    "    sims = json.load(f)"
   ]
  },
  {
   "cell_type": "code",
   "execution_count": 4,
   "metadata": {
    "ExecuteTime": {
     "end_time": "2017-09-26T11:43:56.200305Z",
     "start_time": "2017-09-26T11:43:45.758803Z"
    },
    "scrolled": true
   },
   "outputs": [
    {
     "name": "stderr",
     "output_type": "stream",
     "text": [
      "100%|██████████| 368458/368458 [00:07<00:00, 47924.28it/s]\n"
     ]
    },
    {
     "name": "stdout",
     "output_type": "stream",
     "text": [
      "(619669, 68853, 76503)\n"
     ]
    }
   ],
   "source": [
    "triples_all = list(data_flow.random_triples(sims, ids, num_epochs=1, seed=1))\n",
    "_triples, triples_test = train_test_split(triples_all, test_size=0.1, random_state=0)\n",
    "triples_train, triples_val = train_test_split(_triples, test_size=0.1, random_state=0)\n",
    "\n",
    "print(len(triples_train), len(triples_val), len(triples_test))"
   ]
  },
  {
   "cell_type": "code",
   "execution_count": 5,
   "metadata": {
    "ExecuteTime": {
     "end_time": "2017-09-15T14:24:57.555197Z",
     "start_time": "2017-09-15T14:24:57.552375Z"
    },
    "collapsed": true
   },
   "outputs": [],
   "source": [
    "# triples_all = pd.read_csv(join(DATA_FOLDER, 'mpk_flow.csv.gz'), sep=' ', header=None)\n",
    "# triples_all = triples_all[triples_all[2] != '59a969f1782b1b893a912539']"
   ]
  },
  {
   "cell_type": "code",
   "execution_count": 7,
   "metadata": {
    "ExecuteTime": {
     "end_time": "2017-09-15T14:24:57.566703Z",
     "start_time": "2017-09-15T14:24:57.562626Z"
    },
    "collapsed": true
   },
   "outputs": [],
   "source": [
    "# triples_train, triples_val, triples_test = [], [], []\n",
    "# for epoch_data in np.array_split(triples_all, 3)[:1]:\n",
    "#     _triples, _test = train_test_split(epoch_data, test_size=0.1, random_state=0, shuffle=False)\n",
    "#     _train, _val = train_test_split(_triples, test_size=0.1, random_state=0, shuffle=False)\n",
    "\n",
    "#     triples_train += [[nameit(a), nameit(b), nameit(c)] for a,b,c in _train.values]\n",
    "#     triples_val += [[nameit(a), nameit(b), nameit(c)] for a,b,c in _val.values]\n",
    "#     triples_test += [[nameit(a), nameit(b), nameit(c)] for a,b,c in _test.values]\n",
    "    \n",
    "# logging.info('train %s val %s test %s' % (len(triples_train), len(triples_val), len(triples_test)))"
   ]
  },
  {
   "cell_type": "code",
   "execution_count": 5,
   "metadata": {
    "ExecuteTime": {
     "end_time": "2017-09-26T11:43:58.747837Z",
     "start_time": "2017-09-26T11:43:58.741739Z"
    },
    "collapsed": true
   },
   "outputs": [],
   "source": [
    "vocab_size, embedding_size = word_embeddings.shape\n",
    "n_sents, n_words = 123, 40\n",
    "batch_size = 64\n",
    "num_epochs = 1\n",
    "learning_rate = 0.001\n",
    "\n",
    "sent_filter_sizes = [1, 2, 3, 4, 5]\n",
    "sent_nb_filter = 10\n",
    "sent_embed_size = 128\n",
    "sent_kmax = 4\n",
    "\n",
    "doc_filter_sizes = [1, 2, 3, 4, 5]\n",
    "doc_nb_filter = 10\n",
    "doc_embed_size = 200\n",
    "doc_kmax = 4"
   ]
  },
  {
   "cell_type": "markdown",
   "metadata": {
    "heading_collapsed": true
   },
   "source": [
    "# Train"
   ]
  },
  {
   "cell_type": "code",
   "execution_count": null,
   "metadata": {
    "ExecuteTime": {
     "end_time": "2017-09-26T11:42:07.910620Z",
     "start_time": "2017-09-26T11:42:05.629Z"
    },
    "hidden": true,
    "scrolled": false
   },
   "outputs": [],
   "source": [
    "reload(train)\n",
    "\n",
    "logging.info('start training ...')\n",
    "start_time = time.time()\n",
    "\n",
    "finished = False\n",
    "try:\n",
    "    tf.reset_default_graph()\n",
    "    tf.set_random_seed(0)\n",
    "    session_conf = tf.ConfigProto(\n",
    "        allow_soft_placement=True, log_device_placement=False)\n",
    "    sess = tf.Session(config=session_conf)\n",
    "    with sess.as_default():\n",
    "        X, fnames_batch = data_flow.input_pipeline(\n",
    "            triples_train[:batch_size*3], [n_sents, n_words], \n",
    "            batch_size=batch_size, num_epochs=num_epochs)\n",
    "\n",
    "        model = train.TextCNN(\n",
    "            n_sents,\n",
    "            n_words,\n",
    "            vocab_size,\n",
    "            embedding_size,\n",
    "            batch_size,\n",
    "            sent_filter_sizes=sent_filter_sizes,\n",
    "            sent_nb_filter=sent_nb_filter,\n",
    "            sent_embed_size=sent_embed_size,\n",
    "            doc_filter_sizes=doc_filter_sizes,\n",
    "            doc_nb_filter=doc_nb_filter,\n",
    "            doc_embed_size=doc_embed_size,\n",
    "            sent_kmax=sent_kmax,\n",
    "            doc_kmax=doc_kmax,\n",
    "            learning_rate=learning_rate)\n",
    "        train_op = model.optimize(X)\n",
    "\n",
    "        init_local = tf.local_variables_initializer()\n",
    "        init_global = tf.global_variables_initializer()\n",
    "        sess.run([init_global, init_local])\n",
    "\n",
    "        model.init_summary()\n",
    "        #!!!! index is shifted by 1\n",
    "        model.init_lookup_table(word_embeddings)\n",
    "\n",
    "#         pprint([n.name for n in tf.get_default_graph().as_graph_def().node])\n",
    "\n",
    "        coord = tf.train.Coordinator()\n",
    "        threads = tf.train.start_queue_runners(sess=sess, coord=coord)\n",
    "\n",
    "        try:\n",
    "            while not coord.should_stop():\n",
    "                _, step, loss, summary, _emb = sess.run([\n",
    "                    train_op, model.global_step, model.loss_op,\n",
    "                    model.merged_summary_op, model.doc_embed_normalized\n",
    "                ], feed_dict = {model.phase: 1})\n",
    "                model.add_summary(summary, step)\n",
    "                logging.info('step %s, loss %s' % (step, loss))\n",
    "        except tf.errors.OutOfRangeError:\n",
    "            logging.info('Done training -- epoch limit reached')\n",
    "        finally:\n",
    "            # When done, ask the threads to stop.\n",
    "            coord.request_stop()\n",
    "\n",
    "        # Wait for threads to finish.\n",
    "        coord.join(threads)\n",
    "        model.save(step)\n",
    "        finished = True\n",
    "\n",
    "except Exception as e:\n",
    "    logging.exception(\"train error\")\n",
    "    send_email('notebook_url', subject='train error', body=e)\n",
    "finally:\n",
    "    if finished:\n",
    "#         send_email('notebook_url', subject='finished training')\n",
    "        pass\n",
    "        \n",
    "logging.info(\"--- %s seconds ---\" % (time.time() - start_time))"
   ]
  },
  {
   "cell_type": "markdown",
   "metadata": {},
   "source": [
    "# Test"
   ]
  },
  {
   "cell_type": "code",
   "execution_count": 6,
   "metadata": {
    "ExecuteTime": {
     "end_time": "2017-09-26T11:44:04.222755Z",
     "start_time": "2017-09-26T11:44:03.931723Z"
    },
    "scrolled": true
   },
   "outputs": [
    {
     "name": "stdout",
     "output_type": "stream",
     "text": [
      "../data/models/2017-09-26 11:15:09.052459-59.meta\r\n",
      "../data/models/2017-09-26 11:15:29.820761-99.meta\r\n",
      "../data/models/2017-09-26 11:15:56.925237-119.meta\r\n",
      "../data/models/2017-09-26 11:16:17.511134-129.meta\r\n",
      "../data/models/2017-09-26 11:16:31.954300-139.meta\r\n",
      "../data/models/2017-09-26 11:16:46.771881-149.meta\r\n",
      "../data/models/2017-09-26 11:16:59.498404-159.meta\r\n",
      "../data/models/2017-09-26 11:17:36.095400-160.meta\r\n",
      "../data/models/2017-09-26 11:17:56.311153-161.meta\r\n",
      "../data/models/2017-09-26 11:18:11.756090-162.meta\r\n",
      "../data/models/2017-09-26 11:21:17.669527-162.meta\r\n",
      "../data/models/2017-09-26 11:22:00.079404-199.meta\r\n",
      "../data/models/2017-09-26 11:22:14.470317-199.meta\r\n",
      "../data/models/2017-09-26 11:22:44.619330-160.meta\r\n",
      "../data/models/2017-09-26 11:23:07.798019-160.meta\r\n",
      "../data/models/2017-09-26 11:23:21.365907-161.meta\r\n",
      "../data/models/2017-09-26 12:09:13.085158-161.meta\r\n",
      "../data/models/2017-09-26 12:30:52.304624-999.meta\r\n",
      "../data/models/2017-09-26 12:46:51.576442-999.meta\r\n",
      "../data/models/2017-09-26 12:51:10.804202-9681.meta\r\n",
      "../data/models/2017-09-26 13:33:15.526297-9681.meta\r\n",
      "../data/models/2017-09-26 13:41:55.699852-9681.meta\r\n",
      "../data/models/2017-09-26 13:49:07.076817-9681.meta\r\n",
      "../data/models/2017-09-26 13:56:34.416809-9681.meta\r\n",
      "../data/models/2017-09-26 14:33:07.082921-9681.meta\r\n"
     ]
    }
   ],
   "source": [
    "model_dir = join(DATA_FOLDER, 'models')\n",
    "!ls {model_dir+'/*.meta'}"
   ]
  },
  {
   "cell_type": "code",
   "execution_count": 7,
   "metadata": {
    "ExecuteTime": {
     "end_time": "2017-09-26T11:44:04.236914Z",
     "start_time": "2017-09-26T11:44:04.228020Z"
    },
    "collapsed": true
   },
   "outputs": [],
   "source": [
    "def last_model(model_dir):\n",
    "    fnames = glob(join(model_dir, '*.meta'))\n",
    "    return max(fnames)"
   ]
  },
  {
   "cell_type": "code",
   "execution_count": 9,
   "metadata": {
    "ExecuteTime": {
     "end_time": "2017-09-18T11:31:14.115247Z",
     "start_time": "2017-09-18T11:31:12.870179Z"
    }
   },
   "outputs": [
    {
     "name": "stderr",
     "output_type": "stream",
     "text": [
      "2017-09-18 14:31:14,113 [MainThread  ] [INFO ]  len(chunked) = 422394\n"
     ]
    },
    {
     "name": "stdout",
     "output_type": "stream",
     "text": [
      "['../data/corpus/5984b84fb6b1132eeb638535.txt']\n"
     ]
    }
   ],
   "source": [
    "def chunks(l, n):\n",
    "    \"\"\"Yield successive n-sized chunks from l.\"\"\"\n",
    "    for i in range(0, len(l), n):\n",
    "        yield l[i:i + n]\n",
    "\n",
    "chunked = list(chunks(ids, 3))\n",
    "print(chunked.pop())\n",
    "logging.info('len(chunked) = %s' % len(chunked))"
   ]
  },
  {
   "cell_type": "markdown",
   "metadata": {},
   "source": [
    "https://github.com/aymericdamien/TensorFlow-Examples/blob/master/examples/4_Utils/save_restore_model.py"
   ]
  },
  {
   "cell_type": "code",
   "execution_count": 10,
   "metadata": {
    "ExecuteTime": {
     "end_time": "2017-09-18T11:31:14.118755Z",
     "start_time": "2017-09-18T11:31:14.116811Z"
    },
    "collapsed": true
   },
   "outputs": [],
   "source": [
    "doc_embeds, fnames = [], []"
   ]
  },
  {
   "cell_type": "code",
   "execution_count": 10,
   "metadata": {
    "ExecuteTime": {
     "end_time": "2017-09-13T12:55:52.548506Z",
     "start_time": "2017-09-13T12:55:52.533873Z"
    },
    "scrolled": true
   },
   "outputs": [
    {
     "ename": "SyntaxError",
     "evalue": "invalid syntax (<ipython-input-10-3fb362e3db47>, line 3)",
     "output_type": "error",
     "traceback": [
      "\u001b[0;36m  File \u001b[0;32m\"<ipython-input-10-3fb362e3db47>\"\u001b[0;36m, line \u001b[0;32m3\u001b[0m\n\u001b[0;31m    res = evaluate(best, gold)from matplotlib import pyplot as plt\u001b[0m\n\u001b[0m                                 ^\u001b[0m\n\u001b[0;31mSyntaxError\u001b[0m\u001b[0;31m:\u001b[0m invalid syntax\n"
     ]
    }
   ],
   "source": [
    "finished = False\n",
    "try:\n",
    "    tf.reset_default_graph()\n",
    "    tf.set_random_seed(0)\n",
    "    session_conf = tf.ConfigProto(\n",
    "        allow_soft_placement=True, log_device_placement=False)\n",
    "    sess = tf.Session(config=session_conf)    \n",
    "    with sess.as_default():\n",
    "        X, fnames_batch = data_flow.input_pipeline(\n",
    "            chunked[:batch_size*100], [n_sents, n_words], batch_size=batch_size, \n",
    "            num_epochs=1, shuffle=False)\n",
    "\n",
    "        init_local = tf.local_variables_initializer()\n",
    "        init_global = tf.global_variables_initializer()\n",
    "        sess.run([init_global, init_local])\n",
    "\n",
    "        # do not restore before global initialization, otherwise all weights are set to default !!!\n",
    "        saver = tf.train.import_meta_graph(last_model(model_dir), input_map={'X':X})\n",
    "        saver.restore(sess, tf.train.latest_checkpoint(model_dir))\n",
    "        graph = tf.get_default_graph()\n",
    "\n",
    "        op_name = 'optimize/loss/doc_embed_normalized'\n",
    "        doc_embed_normalized = graph.get_operation_by_name(op_name).outputs[0]\n",
    "\n",
    "        anchor, positive, negative = tf.unstack(\n",
    "            tf.reshape(doc_embed_normalized, [-1, 3, doc_kmax * doc_nb_filter * len(doc_filter_sizes)]),\n",
    "            3, 1)\n",
    "        _loss = cnn.triplet_loss(anchor, positive, negative)\n",
    "\n",
    "#         pprint([n.name for n in tf.get_default_graph().as_graph_def().node])\n",
    "\n",
    "        coord = tf.train.Coordinator()\n",
    "        threads = tf.train.start_queue_runners(sess=sess, coord=coord)\n",
    "\n",
    "        step = 0\n",
    "        try:\n",
    "            while not coord.should_stop():\n",
    "                [batch_embeds, loss, _names] = sess.run([doc_embed_normalized, \n",
    "                                                         _loss, fnames_batch])\n",
    "                doc_embeds.append(batch_embeds)\n",
    "                fnames += list(_names)\n",
    "                logging.info('step %s, loss %s' % (step, loss))\n",
    "                step+=1\n",
    "        except tf.errors.OutOfRangeError:\n",
    "            logging.info('Done testing -- epoch limit reached')\n",
    "        finally:\n",
    "            # When done, ask the threads to stop.\n",
    "            coord.request_stop()\n",
    "\n",
    "        # Wait for threads to finish.\n",
    "        coord.join(threads)\n",
    "        finished = True\n",
    "        \n",
    "except Exception as e:\n",
    "    logging.exception(\"test error\")\n",
    "#     send_email('notebook_url', subject='test error', body=e)\n",
    "finally:\n",
    "    if finished:\n",
    "#         send_email('notebook_url', subject='finished testing')\n",
    "        pass"
   ]
  },
  {
   "cell_type": "code",
   "execution_count": 12,
   "metadata": {
    "ExecuteTime": {
     "end_time": "2017-09-18T11:31:20.431382Z",
     "start_time": "2017-09-18T11:31:20.409772Z"
    },
    "scrolled": true
   },
   "outputs": [
    {
     "ename": "ValueError",
     "evalue": "need at least one array to concatenate",
     "output_type": "error",
     "traceback": [
      "\u001b[0;31m\u001b[0m",
      "\u001b[0;31mValueError\u001b[0mTraceback (most recent call last)",
      "\u001b[0;32m<ipython-input-12-fa5358712820>\u001b[0m in \u001b[0;36m<module>\u001b[0;34m()\u001b[0m\n\u001b[0;32m----> 1\u001b[0;31m \u001b[0mfnames\u001b[0m \u001b[0;34m=\u001b[0m \u001b[0mnp\u001b[0m\u001b[0;34m.\u001b[0m\u001b[0mconcatenate\u001b[0m\u001b[0;34m(\u001b[0m\u001b[0mfnames\u001b[0m\u001b[0;34m)\u001b[0m\u001b[0;34m\u001b[0m\u001b[0m\n\u001b[0m\u001b[1;32m      2\u001b[0m \u001b[0mdoc_embeds_reshaped\u001b[0m \u001b[0;34m=\u001b[0m \u001b[0mnp\u001b[0m\u001b[0;34m.\u001b[0m\u001b[0mreshape\u001b[0m\u001b[0;34m(\u001b[0m\u001b[0mnp\u001b[0m\u001b[0;34m.\u001b[0m\u001b[0mconcatenate\u001b[0m\u001b[0;34m(\u001b[0m\u001b[0mdoc_embeds\u001b[0m\u001b[0;34m)\u001b[0m\u001b[0;34m,\u001b[0m \u001b[0;34m[\u001b[0m\u001b[0;34m-\u001b[0m\u001b[0;36m1\u001b[0m\u001b[0;34m,\u001b[0m \u001b[0mdoc_embed_size\u001b[0m\u001b[0;34m]\u001b[0m\u001b[0;34m)\u001b[0m\u001b[0;34m\u001b[0m\u001b[0m\n",
      "\u001b[0;31mValueError\u001b[0m: need at least one array to concatenate"
     ]
    }
   ],
   "source": [
    "fnames = np.concatenate(fnames)\n",
    "doc_embeds_reshaped = np.reshape(np.concatenate(doc_embeds), [-1, doc_embed_size])"
   ]
  },
  {
   "cell_type": "code",
   "execution_count": 8,
   "metadata": {
    "ExecuteTime": {
     "end_time": "2017-09-26T11:44:13.602262Z",
     "start_time": "2017-09-26T11:44:13.597021Z"
    },
    "collapsed": true
   },
   "outputs": [],
   "source": [
    "margin = 0.5"
   ]
  },
  {
   "cell_type": "code",
   "execution_count": 14,
   "metadata": {
    "ExecuteTime": {
     "end_time": "2017-09-15T14:24:59.396349Z",
     "start_time": "2017-09-15T14:24:59.393456Z"
    },
    "collapsed": true
   },
   "outputs": [],
   "source": [
    "# np.save('../data/doc_embeds_reshaped_1ep.npy', doc_embeds_reshaped)\n",
    "# np.save('../data/fnames_1ep.npy', fnames)"
   ]
  },
  {
   "cell_type": "code",
   "execution_count": 9,
   "metadata": {
    "ExecuteTime": {
     "end_time": "2017-09-26T11:44:19.098012Z",
     "start_time": "2017-09-26T11:44:16.145587Z"
    },
    "collapsed": true
   },
   "outputs": [],
   "source": [
    "doc_embeds_reshaped = np.load('../data/saved/doc_embeds_reshaped_1ep_%s.npy' % margin)\n",
    "fnames = np.load('../data/saved/fnames_1ep_%s.npy' % margin)"
   ]
  },
  {
   "cell_type": "code",
   "execution_count": 10,
   "metadata": {
    "ExecuteTime": {
     "end_time": "2017-09-19T17:40:52.875336Z",
     "start_time": "2017-09-19T17:40:52.067537Z"
    },
    "collapsed": true
   },
   "outputs": [],
   "source": [
    "np.save('../data/saved/fnames_1ep_%s.npy' % margin, [basename(n).split('.')[0] for n in fnames])"
   ]
  },
  {
   "cell_type": "code",
   "execution_count": 10,
   "metadata": {
    "ExecuteTime": {
     "end_time": "2017-09-26T11:44:19.746679Z",
     "start_time": "2017-09-26T11:44:19.719959Z"
    }
   },
   "outputs": [
    {
     "data": {
      "text/plain": [
       "1267008"
      ]
     },
     "execution_count": 10,
     "metadata": {},
     "output_type": "execute_result"
    }
   ],
   "source": [
    "len(fnames)"
   ]
  },
  {
   "cell_type": "markdown",
   "metadata": {},
   "source": [
    "# Get statistics"
   ]
  },
  {
   "cell_type": "code",
   "execution_count": 11,
   "metadata": {
    "ExecuteTime": {
     "end_time": "2017-09-26T11:44:27.326914Z",
     "start_time": "2017-09-26T11:44:27.298853Z"
    },
    "collapsed": true
   },
   "outputs": [],
   "source": [
    "def predict(keys, lim=200):\n",
    "    names = pd.Series(range(len(fnames)), index = fnames)\n",
    "    test_vecs = []\n",
    "    for k in keys:\n",
    "        ix = names[k]\n",
    "        if isinstance(ix, pd.Series):\n",
    "            ix = ix[0]\n",
    "        tvec = doc_embeds_reshaped[ix]\n",
    "        test_vecs.append(tvec)\n",
    "\n",
    "    dists = euclidean_distances(test_vecs, doc_embeds_reshaped)\n",
    "    sorted_ixs = np.argsort(dists, axis=1)\n",
    "    preds = {}\n",
    "    for k, _ixs in zip(keys, sorted_ixs):\n",
    "        preds[k] = [n for n in fnames[_ixs[1:lim+1]]]\n",
    "        \n",
    "    return preds"
   ]
  },
  {
   "cell_type": "code",
   "execution_count": 12,
   "metadata": {
    "ExecuteTime": {
     "end_time": "2017-09-26T11:44:27.345434Z",
     "start_time": "2017-09-26T11:44:27.329942Z"
    },
    "collapsed": true
   },
   "outputs": [],
   "source": [
    "with open(join(DATA_FOLDER, 'gold_mongo.json'), 'r') as f:\n",
    "    gold = json.load(f)"
   ]
  },
  {
   "cell_type": "code",
   "execution_count": 13,
   "metadata": {
    "ExecuteTime": {
     "end_time": "2017-09-26T11:45:04.701970Z",
     "start_time": "2017-09-26T11:44:27.346931Z"
    },
    "collapsed": true
   },
   "outputs": [],
   "source": [
    "preds = predict(gold.keys(), lim=200)"
   ]
  },
  {
   "cell_type": "code",
   "execution_count": 14,
   "metadata": {
    "ExecuteTime": {
     "end_time": "2017-09-26T11:45:05.417693Z",
     "start_time": "2017-09-26T11:45:04.723439Z"
    },
    "scrolled": true
   },
   "outputs": [
    {
     "name": "stderr",
     "output_type": "stream",
     "text": [
      "100%|██████████| 184/184 [00:00<00:00, 24341.65it/s]\n"
     ]
    },
    {
     "name": "stdout",
     "output_type": "stream",
     "text": [
      "median\n",
      "acc10     0.0\n",
      "acc20     0.0\n",
      "acc200    0.0\n",
      "dtype: float64\n",
      "mean\n",
      "acc10     0.077899\n",
      "acc20     0.125000\n",
      "acc200    0.309511\n",
      "dtype: float64\n"
     ]
    },
    {
     "data": {
      "image/png": "[encoded data removed]",
      "text/plain": [
       "<matplotlib.figure.Figure at 0x7fd1913a0910>"
      ]
     },
     "metadata": {},
     "output_type": "display_data"
    },
    {
     "data": {
      "image/png": "[encoded data removed]",
      "text/plain": [
       "<matplotlib.figure.Figure at 0x7fd200e78b90>"
      ]
     },
     "metadata": {},
     "output_type": "display_data"
    },
    {
     "data": {
      "image/png": "[encoded data removed]",
      "text/plain": [
       "<matplotlib.figure.Figure at 0x7fd200cfd910>"
      ]
     },
     "metadata": {},
     "output_type": "display_data"
    }
   ],
   "source": [
    "result = evaluate(preds, gold)\n",
    "\n",
    "ax = result['acc10'].hist()\n",
    "ax.set_xlabel(\"acc10\")\n",
    "plt.show()\n",
    "\n",
    "ax = result['acc20'].hist()\n",
    "ax.set_xlabel(\"acc20\")\n",
    "plt.show()\n",
    "\n",
    "ax = result['acc200'].hist()\n",
    "ax.set_xlabel(\"acc200\")\n",
    "plt.show()"
   ]
  },
  {
   "cell_type": "code",
   "execution_count": 30,
   "metadata": {
    "ExecuteTime": {
     "end_time": "2017-09-18T12:36:08.893419Z",
     "start_time": "2017-09-18T12:36:08.887631Z"
    },
    "scrolled": true
   },
   "outputs": [
    {
     "data": {
      "text/plain": [
       "279"
      ]
     },
     "execution_count": 30,
     "metadata": {},
     "output_type": "execute_result"
    }
   ],
   "source": [
    "sum([len(v) for v in gold.values()])"
   ]
  },
  {
   "cell_type": "code",
   "execution_count": 31,
   "metadata": {
    "ExecuteTime": {
     "end_time": "2017-09-18T12:36:27.994284Z",
     "start_time": "2017-09-18T12:36:27.986645Z"
    }
   },
   "outputs": [
    {
     "data": {
      "text/plain": [
       "184"
      ]
     },
     "execution_count": 31,
     "metadata": {},
     "output_type": "execute_result"
    }
   ],
   "source": [
    "len(gold)"
   ]
  },
  {
   "cell_type": "code",
   "execution_count": 15,
   "metadata": {
    "ExecuteTime": {
     "end_time": "2017-09-26T11:45:15.477339Z",
     "start_time": "2017-09-26T11:45:15.464024Z"
    }
   },
   "outputs": [
    {
     "name": "stdout",
     "output_type": "stream",
     "text": [
      "59a7bc6a782b1b893a56a87e\n"
     ]
    },
    {
     "data": {
      "text/plain": [
       "['5984cf94b6b11336826384f7',\n",
       " '5984dd6ab6b11333bc63853a',\n",
       " '5984cafdb6b1130a92638524',\n",
       " '5984cfa1b6b113368d63854e',\n",
       " '5984d036b6b1133d176384ff',\n",
       " '5984c5b8b6b11354246384f7',\n",
       " '5984de4bb6b1133908638508',\n",
       " '5984ba5db6b1134c2f638526',\n",
       " '5984d412b6b11363a16384fe',\n",
       " '5984c686b6b11359ab63854f',\n",
       " '5984dae5b6b1131d4e63852d',\n",
       " '5984de60b6b113390b638536',\n",
       " '5984d331b6b1135ce0638549',\n",
       " '5984befcb6b11303e8638521',\n",
       " '5984c4bcb6b11347a4638533',\n",
       " '5984c719b6b113634663851b',\n",
       " '5984dc09b6b113250363851b',\n",
       " '5984dde8b6b113372d6384f3',\n",
       " '5984c4ceb6b113489d638543',\n",
       " '5984da9bb6b1131bfd638500',\n",
       " '5984d8a5b6b11311d363852c',\n",
       " '5984c009b6b1130eba638543',\n",
       " '5984bfe2b6b1130cac638551',\n",
       " '5984db69b6b1132078638542',\n",
       " '5984caf5b6b1130a8a638525',\n",
       " '5984d37fb6b11360626384f4',\n",
       " '5984b9a3b6b1134137638519',\n",
       " '5984c53ab6b1134f69638539',\n",
       " '5984db70b6b11321a16384f3',\n",
       " '5984c17ab6b113220b638540',\n",
       " '5984cfe3b6b11339b1638539',\n",
       " '5984d267b6b113514b6384f1',\n",
       " '5984c9acb6b1137de063854c',\n",
       " '5984c729b6b11364506384fe',\n",
       " '5984d80fb6b1130900638516',\n",
       " '5984c962b6b1137abd63854c',\n",
       " '5984d345b6b1135e1a638517',\n",
       " '5984bf16b6b11305566384f9',\n",
       " '5984be01b6b11376d8638546',\n",
       " '5984be82b6b1137ec86384f3',\n",
       " '5984cbaeb6b1131574638532',\n",
       " '5984dc22b6b113260563851a',\n",
       " '5984d782b6b11303f0638542',\n",
       " '5984c765b6b11366b2638508',\n",
       " '5984d341b6b1135e11638506',\n",
       " '5984dda6b6b1133564638517',\n",
       " '5984d0c0b6b113406f638501',\n",
       " '5984c254b6b1132ecc638541',\n",
       " '5984d782b6b11303f063853f',\n",
       " '5984c652b6b1135861638514',\n",
       " '5984bcd4b6b11368f3638538',\n",
       " '5984c0a6b6b1131ae16384fd',\n",
       " '5984c652b6b1135861638515',\n",
       " '5984d037b6b1133d1b6384f7',\n",
       " '5984cfa1b6b113368c63854b',\n",
       " '5984d345b6b1135e1a638518',\n",
       " '5984d7dfb6b11307b36384fc',\n",
       " '5984be91b6b1137ec163853e',\n",
       " '5984cfb0b6b113379963852a',\n",
       " '5984c242b6b1132ec96384ee',\n",
       " '5984bef6b6b113040363853b',\n",
       " '5984db7fb6b11321a5638526',\n",
       " '5984c561b6b1135085638515',\n",
       " '5984cc47b6b1131a4e638515',\n",
       " '5984d512b6b1136b52638520',\n",
       " '5984c537b6b1134f6f638524',\n",
       " '5984d924b6b113144263851d',\n",
       " '5984c7b4b6b1136925638509',\n",
       " '5984d75cb6b11301f9638542',\n",
       " '5984bbb2b6b1135c2b638503',\n",
       " '5984d7ccb6b11306a2638508',\n",
       " '5984bd8ab6b1137300638540',\n",
       " '5984dcc5b6b1132efe638520',\n",
       " '5984d77bb6b11303e7638512',\n",
       " '5984d75bb6b11301f9638541',\n",
       " '5984dc7ab6b1132c9d638534',\n",
       " '5984d6f3b6b1137f31638510',\n",
       " '5984bef6b6b11303fb63854a',\n",
       " '5984bff5b6b1130dab63853f',\n",
       " '5984ccdcb6b1131d68638537',\n",
       " '5984defab6b1133d2063851b',\n",
       " '5984d707b6b1137f2b638533',\n",
       " '5984c699b6b1135aa9638542',\n",
       " '5984cd94b6b113247863853a',\n",
       " '5984ce68b6b1132a3b638510',\n",
       " '5984d5a5b6b11375ba63853d',\n",
       " '5984d272b6b113513f63853c',\n",
       " '5984de36b6b113373763854d',\n",
       " '5984b985b6b113401463851d',\n",
       " '5984df2cb6b1133e9263851f',\n",
       " '5984c560b6b1135082638536',\n",
       " '5984d94bb6b113143b63854f',\n",
       " '5984c09db6b11319cd63854e',\n",
       " '5984cc59b6b1131a4c63852b',\n",
       " '5984b9a2b6b1134137638515',\n",
       " '5984d459b6b113652363850c',\n",
       " '5984cbbcb6b113168a6384f5',\n",
       " '5984d83bb6b1130cf66384ff',\n",
       " '5984d198b6b11345a5638544',\n",
       " '5984d312b6b1135bc563852c',\n",
       " '5984dc57b6b11329f0638513',\n",
       " '5984d5f6b6b113780e63852e',\n",
       " '5984cd9fb6b11325946384f3',\n",
       " '5984c08cb6b11319d96384fe',\n",
       " '5984c53bb6b1134f6963853d',\n",
       " '5984c72cb6b113645c638506',\n",
       " '5984d024b6b1133c08638532',\n",
       " '5984bed5b6b1130291638524',\n",
       " '5984d275b6b1135146638534',\n",
       " '5984d896b6b11311d1638521',\n",
       " '5984d706b6b1137f32638530',\n",
       " '5984dacab6b1131d4c638506',\n",
       " '5984d97bb6b1131601638543',\n",
       " '5984c08db6b11319c8638502',\n",
       " '5984def7b6b1133d27638518',\n",
       " '5984bd73b6b11371e9638543',\n",
       " '5984bb27b6b1135744638536',\n",
       " '5984d24db6b1134f38638547',\n",
       " '5984b921b6b1133c976384f0',\n",
       " '5984c7cdb6b113691563854c',\n",
       " '5984c788b6b11367cc638508',\n",
       " '5984be91b6b1137ec163853d',\n",
       " '5984dee1b6b1133b57638535',\n",
       " '5984d270b6b1135135638528',\n",
       " '5984d0dbb6b1134057638546',\n",
       " '5984c5a2b6b11352e263854f',\n",
       " '5984cf84b6b11335a2638506',\n",
       " '5984d053b6b1133d25638539',\n",
       " '5984d4e1b6b11369326384fb',\n",
       " '5984d774b6b11303ea6384ee',\n",
       " '5984b5e4b6b113084b638535',\n",
       " '5984de61b6b1133906638529',\n",
       " '5984d9f7b6b1131858638531',\n",
       " '5984d674b6b1137b54638526',\n",
       " '5984bb73b6b11359c2638521',\n",
       " '5984c85bb6b1136d84638520',\n",
       " '5984c65ab6b113584d638548',\n",
       " '5984c57bb6b11351c8638538',\n",
       " '5984c320b6b1133554638525',\n",
       " '5984d504b6b1136a4e638540',\n",
       " '5984c161b6b11321196384f4',\n",
       " '5984d75db6b11301f9638543',\n",
       " '5984cc21b6b11318c7638546',\n",
       " '5984d825b6b1130b076384f1',\n",
       " '5984db57b6b113207e63850b',\n",
       " '5984be10b6b11377f66384ee',\n",
       " '5984c68eb6b1135ab06384f6',\n",
       " '5984da6cb6b1131a3763851a',\n",
       " '5984c975b6b1137bd4638528',\n",
       " '5984c153b6b1131fc263854d',\n",
       " '5984dba0b6b11321a7638542',\n",
       " '5984c89db6b1136fea6384ee',\n",
       " '5984d020b6b1133bf7638537',\n",
       " '5984cd28b6b1132030638549',\n",
       " '5984bfe0b6b1130cb6638528',\n",
       " '5984b5adb6b113066c6384ee',\n",
       " '5984c6e8b6b113613d6384ff',\n",
       " '5984c0a5b6b1131ae16384fa',\n",
       " '5984dba2b6b11321b6638540',\n",
       " '5984dca7b6b1132ddb638544',\n",
       " '5984cd95b6b113247663853e',\n",
       " '5984cb7ab6b113131c638537',\n",
       " '5984d4f9b6b1136a4c638507',\n",
       " '5984bb41b6b113588463850a',\n",
       " '5984cb4cb6b1131121638502',\n",
       " '5984bd74b6b11371fd63853e',\n",
       " '5984dac4b6b1131d4c6384f5',\n",
       " '5984dba4b6b11321b6638546',\n",
       " '5984d50bb6b1136b486384f4',\n",
       " '5984bef6b6b11303fb63854b',\n",
       " '5984c2f8b6b113340c638515',\n",
       " '5984bd6ab6b11371ee63850f',\n",
       " '5984bd65b6b11371fa638505',\n",
       " '5984c712b6b113633963850b',\n",
       " '5984c17cb6b11321fe638551',\n",
       " '5984d74ab6b11301f4638529',\n",
       " '5984c5c3b6b113542f638525',\n",
       " '5984c8a8b6b1136ff763853b',\n",
       " '5984cd28b6b113201f638548',\n",
       " '5984d513b6b1136b4e63852d',\n",
       " '5984b69ab6b113159c638529',\n",
       " '5984cafbb6b1130a8f63852a',\n",
       " '5984cbe5b6b113179263852b',\n",
       " '5984dcc2b6b1132f00638515',\n",
       " '5984d26fb6b113513e638515',\n",
       " '5984c006b6b1130ea8638507',\n",
       " '5984d397b6b113605b63851d',\n",
       " '5984d5b9b6b11376c663850b',\n",
       " '5984c3abb6b1133f00638512',\n",
       " '5984d49db6b11366cd638544',\n",
       " '5984d116b6b11342ed6384fc',\n",
       " '5984c72ab6b113645e638501',\n",
       " '5984d1cab6b1134722638537',\n",
       " '5984de22b6b1133742638537',\n",
       " '5984d6afb6b1137cb7638539',\n",
       " '5984db74b6b11321a06384fc',\n",
       " '5984d254b6b11350306384f9',\n",
       " '5984cf98b6b113369d63850d',\n",
       " '5984c4bcb6b11347a4638532',\n",
       " '5984c99fb6b1137de3638502']"
      ]
     },
     "execution_count": 15,
     "metadata": {},
     "output_type": "execute_result"
    }
   ],
   "source": [
    "# k = preds.keys()[0]\n",
    "k = '59a7bc6a782b1b893a56a87e'\n",
    "print(k)\n",
    "preds[k]"
   ]
  },
  {
   "cell_type": "code",
   "execution_count": 16,
   "metadata": {
    "ExecuteTime": {
     "end_time": "2017-09-26T11:45:19.974309Z",
     "start_time": "2017-09-26T11:45:18.711928Z"
    },
    "scrolled": true
   },
   "outputs": [
    {
     "data": {
      "text/plain": [
       "1304"
      ]
     },
     "execution_count": 16,
     "metadata": {},
     "output_type": "execute_result"
    }
   ],
   "source": [
    "predict([k], lim=10**9)[k].index('5984ccc4b6b1131d6a63850e')"
   ]
  },
  {
   "cell_type": "code",
   "execution_count": 23,
   "metadata": {
    "ExecuteTime": {
     "end_time": "2017-09-15T13:27:24.114576Z",
     "start_time": "2017-09-15T13:27:23.487577Z"
    },
    "collapsed": true
   },
   "outputs": [],
   "source": [
    "test_paths = set(pd.DataFrame(triples_test)[0])\n",
    "diff = test_paths - set(fnames)\n",
    "test_paths -= diff\n",
    "\n",
    "test_keys = set([basename(k).split('.')[0] for k in test_paths])"
   ]
  },
  {
   "cell_type": "code",
   "execution_count": 24,
   "metadata": {
    "ExecuteTime": {
     "end_time": "2017-09-15T13:27:26.244138Z",
     "start_time": "2017-09-15T13:27:26.237487Z"
    }
   },
   "outputs": [
    {
     "data": {
      "text/plain": [
       "140.212"
      ]
     },
     "execution_count": 24,
     "metadata": {},
     "output_type": "execute_result"
    }
   ],
   "source": [
    "len(test_keys)/500"
   ]
  },
  {
   "cell_type": "code",
   "execution_count": 27,
   "metadata": {
    "ExecuteTime": {
     "end_time": "2017-09-15T14:18:13.032065Z",
     "start_time": "2017-09-15T13:29:06.291472Z"
    }
   },
   "outputs": [
    {
     "data": {
      "application/vnd.jupyter.widget-view+json": {
       "model_id": "c13a99bf50ef40fe853739fae60a4e12"
      }
     },
     "metadata": {},
     "output_type": "display_data"
    }
   ],
   "source": [
    "test_preds = {}\n",
    "for part in tqdm_notebook(np.array_split(list(test_keys), 100)):\n",
    "    parallelizer = Parallel(n_jobs=cpu_count)\n",
    "    tasks_iterator = ( delayed(predict)(list_block) for \n",
    "                      list_block in np.array_split(list(part), cpu_count) ) \n",
    "    result = parallelizer( tasks_iterator )\n",
    "    for s in result:\n",
    "        test_preds.update(s)"
   ]
  },
  {
   "cell_type": "code",
   "execution_count": 29,
   "metadata": {
    "ExecuteTime": {
     "end_time": "2017-09-15T14:21:30.453001Z",
     "start_time": "2017-09-15T14:19:28.846113Z"
    },
    "collapsed": true
   },
   "outputs": [],
   "source": [
    "with GzipFile('../data/test_preds_0.5.json.gz', 'wb') as f:\n",
    "    s = json.dumps(test_preds)\n",
    "    f.write(s)"
   ]
  },
  {
   "cell_type": "code",
   "execution_count": 19,
   "metadata": {
    "ExecuteTime": {
     "end_time": "2017-09-15T14:25:23.230899Z",
     "start_time": "2017-09-15T14:25:12.740723Z"
    },
    "collapsed": true
   },
   "outputs": [],
   "source": [
    "with GzipFile('../data/test_preds_0.5.json.gz', 'rb') as f:\n",
    "    s = f.read()\n",
    "    test_preds = json.loads(s)"
   ]
  },
  {
   "cell_type": "code",
   "execution_count": 20,
   "metadata": {
    "ExecuteTime": {
     "end_time": "2017-09-15T14:25:25.812956Z",
     "start_time": "2017-09-15T14:25:23.234898Z"
    },
    "collapsed": true
   },
   "outputs": [],
   "source": [
    "with open('../data/sims.json', 'rb') as f:\n",
    "    sims = json.load(f)"
   ]
  },
  {
   "cell_type": "code",
   "execution_count": 21,
   "metadata": {
    "ExecuteTime": {
     "end_time": "2017-09-15T14:25:31.445196Z",
     "start_time": "2017-09-15T14:25:26.598132Z"
    },
    "scrolled": true
   },
   "outputs": [
    {
     "name": "stderr",
     "output_type": "stream",
     "text": [
      "100%|██████████| 70106/70106 [00:03<00:00, 18491.36it/s]\n"
     ]
    },
    {
     "name": "stdout",
     "output_type": "stream",
     "text": [
      "median\n",
      "acc10     0.0\n",
      "acc20     0.0\n",
      "acc200    0.0\n",
      "dtype: float64\n",
      "mean\n",
      "acc10     0.065981\n",
      "acc20     0.094096\n",
      "acc200    0.255497\n",
      "dtype: float64\n"
     ]
    },
    {
     "data": {
      "image/png": "[encoded data removed]",
      "text/plain": [
       "<matplotlib.figure.Figure at 0x7fca2fd4aed0>"
      ]
     },
     "metadata": {},
     "output_type": "display_data"
    },
    {
     "data": {
      "image/png": "[encoded data removed]",
      "text/plain": [
       "<matplotlib.figure.Figure at 0x7fca2fd53590>"
      ]
     },
     "metadata": {},
     "output_type": "display_data"
    },
    {
     "data": {
      "image/png": "[encoded data removed]",
      "text/plain": [
       "<matplotlib.figure.Figure at 0x7fca22e48f10>"
      ]
     },
     "metadata": {},
     "output_type": "display_data"
    }
   ],
   "source": [
    "result = evaluate(test_preds, sims)\n",
    "\n",
    "ax = result['acc10'].hist()\n",
    "ax.set_xlabel(\"acc10\")\n",
    "plt.show()\n",
    "\n",
    "ax = result['acc20'].hist()\n",
    "ax.set_xlabel(\"acc20\")\n",
    "plt.show()\n",
    "\n",
    "ax = result['acc200'].hist()\n",
    "ax.set_xlabel(\"acc200\")\n",
    "plt.show()"
   ]
  },
  {
   "cell_type": "code",
   "execution_count": 24,
   "metadata": {
    "ExecuteTime": {
     "end_time": "2017-09-15T14:27:41.640787Z",
     "start_time": "2017-09-15T14:27:41.609276Z"
    }
   },
   "outputs": [
    {
     "name": "stdout",
     "output_type": "stream",
     "text": [
      "5984bd8ab6b11372fe638533\n"
     ]
    },
    {
     "data": {
      "text/plain": [
       "[u'5984b83eb6b1132dd6638555',\n",
       " u'5984c0a7b6b1131ae26384fa',\n",
       " u'5984b97eb6b113402263850a',\n",
       " u'5984bf85b6b11308e263853b',\n",
       " u'5984b5b3b6b1130679638512',\n",
       " u'5984b6f2b6b11319d0638511',\n",
       " u'5984db83b6b11321a463851a',\n",
       " u'5984b772b6b1132416638536',\n",
       " u'5984c9bcb6b1137ef0638524',\n",
       " u'5984c0b2b6b1131adb638548',\n",
       " u'5984bf9ab6b1130a4363850e',\n",
       " u'5984cc3eb6b1131a48638504',\n",
       " u'5984d113b6b11343016384f6',\n",
       " u'5984b6dab6b11318b3638524',\n",
       " u'5984b789b6b113255563850b',\n",
       " u'5984c60eb6b113559663851b',\n",
       " u'5984b9fcb6b11348a963851f',\n",
       " u'5984bc9cb6b11366b263854b',\n",
       " u'5984cd6db6b113234363852c',\n",
       " u'5984c084b6b11318c663854f',\n",
       " u'5984cbe6b6b11317a0638538',\n",
       " u'5984c0b0b6b1131ae1638528',\n",
       " u'5984b80ab6b1132b9c63852c',\n",
       " u'5984c155b6b1131fc3638527',\n",
       " u'5984c092b6b11319c2638526',\n",
       " u'5984c129b6b1131e6663853d',\n",
       " u'5984d43fb6b113638f638523',\n",
       " u'5984bcaeb6b11367e3638508',\n",
       " u'5984cbdfb6b11317ab638510',\n",
       " u'5984ccb6b6b1131d536384ef',\n",
       " u'5984b680b6b113148563851a',\n",
       " u'5984bcf6b6b1136a21638515',\n",
       " u'5984bda9b6b1137430638510',\n",
       " u'5984d0ceb6b1134063638514',\n",
       " u'5984b911b6b1133b73638513',\n",
       " u'5984c0cbb6b1131c0163852e',\n",
       " u'5984bc22b6b1135fd5638526',\n",
       " u'5984b71eb6b1131bf2638534',\n",
       " u'5984c288b6b113302463852d',\n",
       " u'5984c814b6b1136aa0638551',\n",
       " u'5984caadb6b1130659638531',\n",
       " u'5984db3ab6b1131ed4638549',\n",
       " u'5984bbd4b6b1135d616384f9',\n",
       " u'5984c3a5b6b1133eef6384f9',\n",
       " u'5984d4f6b6b1136a546384fa',\n",
       " u'5984d3b9b6b1136058638547',\n",
       " u'5984b6ebb6b11319c1638511',\n",
       " u'5984c1efb6b1132b666384f9',\n",
       " u'5984c692b6b1135ab4638514',\n",
       " u'5984b76db6b113241563851b',\n",
       " u'5984c94ab6b113798c638542',\n",
       " u'5984bb90b6b1135ae1638527',\n",
       " u'5984b840b6b1132dba638542',\n",
       " u'5984be77b6b1137dc2638548',\n",
       " u'5984bf75b6b11308db638504',\n",
       " u'5984caadb6b1130659638530',\n",
       " u'5984bb6db6b11359c8638523',\n",
       " u'5984b6f2b6b11319d0638510',\n",
       " u'5984bd95b6b113731a63853a',\n",
       " u'5984b5fcb6b113094c638545',\n",
       " u'5984bdcab6b1137442638549',\n",
       " u'5984becbb6b113028f6384f8',\n",
       " u'5984dac6b6b1131d3e638504',\n",
       " u'5984ba49b6b1134b1e63853b',\n",
       " u'5984b9e5b6b11347bf638528',\n",
       " u'5984c0cfb6b1131bf8638544',\n",
       " u'5984bf87b6b11308e9638521',\n",
       " u'5984c20cb6b1132c9c6384f4',\n",
       " u'5984d2dbb6b11359ac63852b',\n",
       " u'5984b7cfb6b11329636384fc',\n",
       " u'5984dce6b6b113302a638534',\n",
       " u'5984c277b6b113302b63850c',\n",
       " u'5984b754b6b1132302638551',\n",
       " u'5984d1bdb6b113472d63850e',\n",
       " u'5984bdbdb6b113743b638541',\n",
       " u'5984bf98b6b1130a556384fb',\n",
       " u'5984bc9fb6b11366be63850e',\n",
       " u'5984b5b4b6b1130679638513',\n",
       " u'5984b674b6b113138d63853d',\n",
       " u'5984d003b6b1133acb63853e',\n",
       " u'5984be74b6b1137daf638532',\n",
       " u'5984d1d6b6b113472e63853a',\n",
       " u'5984bd82b6b11372fa638511',\n",
       " u'5984bfa5b6b1130a54638529',\n",
       " u'5984b9fcb6b11348ca63851d',\n",
       " u'5984c625b6b11356fb6384f7',\n",
       " u'5984dce2b6b113302f638544',\n",
       " u'5984bad3b6b11350f0638504',\n",
       " u'5984d353b6b1135dff638547',\n",
       " u'5984be5cb6b1137ca2638542',\n",
       " u'5984b830b6b1132dc8638500',\n",
       " u'5984d30ab6b1135bcb63851f',\n",
       " u'5984b5b3b6b1130679638511',\n",
       " u'5984c21bb6b1132c8d638545',\n",
       " u'5984bcd5b6b11368f7638542',\n",
       " u'5984c9d6b6b1137f06638550',\n",
       " u'5984b8a5b6b11337236384ee',\n",
       " u'5984db85b6b11321b9638508',\n",
       " u'5984c3b6b6b1133ee5638550',\n",
       " u'5984b8d4b6b1133837638551',\n",
       " u'5984c08bb6b11319d76384fe',\n",
       " u'5984ba76b6b1134d67638500',\n",
       " u'5984d326b6b1135ce4638517',\n",
       " u'5984ba82b6b1134d6e638530',\n",
       " u'5984ba12b6b11349ef6384f1',\n",
       " u'5984be08b6b11376d2638520',\n",
       " u'5984cb74b6b113132563851d',\n",
       " u'5984c090b6b11319c263851e',\n",
       " u'5984c52db6b1134f5e6384f7',\n",
       " u'5984bb85b6b1135aeb6384f1',\n",
       " u'5984c939b6b11379af6384f8',\n",
       " u'5984b7f0b6b1132a7263850e',\n",
       " u'5984bcb2b6b11367d4638519',\n",
       " u'5984c07cb6b11318b3638528',\n",
       " u'5984bd4cb6b11370ea63850e',\n",
       " u'5984dce8b6b1133032638548',\n",
       " u'5984c232b6b1132dbb638527',\n",
       " u'5984dcddb6b113303663851c',\n",
       " u'5984b66fb6b113138463851f',\n",
       " u'5984be7ab6b1137db363854b',\n",
       " u'5984d003b6b1133acb63853f',\n",
       " u'5984cbdfb6b11317ab63850f',\n",
       " u'5984bb43b6b113587c638516',\n",
       " u'5984c7eab6b1136a926384fc',\n",
       " u'5984b80ab6b1132b9c63852d',\n",
       " u'5984b8f8b6b1133a4e638538',\n",
       " u'5984bb2db6b113572d638547',\n",
       " u'5984d5b1b6b11376be6384f5',\n",
       " u'5984c210b6b1132c98638505',\n",
       " u'5984b819b6b1132cad6384fe',\n",
       " u'5984bbb0b6b1135c38638510',\n",
       " u'5984b5f0b6b113094e638500',\n",
       " u'5984c154b6b1131fc7638517',\n",
       " u'5984b8fcb6b1133a6063853b',\n",
       " u'5984b9f5b6b11348c2638506',\n",
       " u'5984b948b6b1133dc463853f',\n",
       " u'5984baa4b6b1134e9263851a',\n",
       " u'5984d97db6b1131608638536',\n",
       " u'5984b821b6b1132cb2638535',\n",
       " u'5984b76eb6b1132416638527',\n",
       " u'5984bb8eb6b1135aeb63850c',\n",
       " u'5984b6d8b6b11318ac638520',\n",
       " u'5984c0bdb6b1131c0a6384ee',\n",
       " u'5984cffbb6b1133ade638516',\n",
       " u'5984c55db6b113509a638546',\n",
       " u'5984bb11b6b11357376384ef',\n",
       " u'5984b8a6b6b11337296384fa',\n",
       " u'5984b9a7b6b113413a63854f',\n",
       " u'5984d382b6b1136063638503',\n",
       " u'5984d13cb6b1134426638504',\n",
       " u'5984d2ddb6b11359ab63854e',\n",
       " u'5984c9fbb6b113018d638535',\n",
       " u'5984b809b6b1132b9b638528',\n",
       " u'5984c554b6b113508d63850d',\n",
       " u'5984b69db6b113158e638541',\n",
       " u'5984c08cb6b11319d46384fd',\n",
       " u'5984b99fb6b113414b638531',\n",
       " u'5984b5ceb6b1130739638515',\n",
       " u'5984b6f0b6b11319d1638521',\n",
       " u'5984c270b6b11330286384f6',\n",
       " u'5984c239b6b1132dc3638540',\n",
       " u'5984ce40b6b11328fc63852c',\n",
       " u'5984beb1b6b113013f63850e',\n",
       " u'5984cb98b6b113145c638549',\n",
       " u'5984cb8fb6b113145163851a',\n",
       " u'5984b986b6b1134017638535',\n",
       " u'5984b800b6b1132ba66384f0',\n",
       " u'5984b912b6b1133b68638527',\n",
       " u'5984da93b6b1131be36384f1',\n",
       " u'5984ca02b6b11301a5638522',\n",
       " u'5984c749b6b113657c638507',\n",
       " u'5984cbbab6b11316796384f4',\n",
       " u'5984d1c3b6b113472663851b',\n",
       " u'5984c1efb6b1132b816384f9',\n",
       " u'5984b86cb6b11330ca63851e',\n",
       " u'5984ce9cb6b1132b8563853f',\n",
       " u'5984cfe2b6b11339bd638529',\n",
       " u'5984d343b6b1135e16638523',\n",
       " u'5984bcbcb6b11367dc63854d',\n",
       " u'5984b982b6b1134029638515',\n",
       " u'5984bb77b6b11359c963853d',\n",
       " u'5984bebfb6b1137ffd63853a',\n",
       " u'5984bf85b6b11308e163853a',\n",
       " u'5984d328b6b1135cec638542',\n",
       " u'5984cbe1b6b113178f63851a',\n",
       " u'5984b6c1b6b11317af638521',\n",
       " u'5984d609b6b113780b638542',\n",
       " u'5984c108b6b1131e61638501',\n",
       " u'5984b7c0b6b113286863850a',\n",
       " u'5984c232b6b1132dbb638526',\n",
       " u'5984ba7bb6b1134d66638516',\n",
       " u'5984cd4cb6b1132245638510',\n",
       " u'5984b9fab6b11348c263851a',\n",
       " u'5984b5dfb6b113082363851e',\n",
       " u'5984bc10b6b1135eaa638520',\n",
       " u'5984b9e3b6b11347c8638519',\n",
       " u'5984d4a5b6b11366be63851a',\n",
       " u'5984d7bfb6b113059b63853e',\n",
       " u'5984c7ccb6b1136922638537',\n",
       " u'5984b76cb6b113242563850f']"
      ]
     },
     "execution_count": 24,
     "metadata": {},
     "output_type": "execute_result"
    }
   ],
   "source": [
    "k = test_preds.keys()[1]\n",
    "print(k)\n",
    "test_preds[k]"
   ]
  },
  {
   "cell_type": "code",
   "execution_count": null,
   "metadata": {
    "collapsed": true
   },
   "outputs": [],
   "source": [
    "predict([k], lim=10**9)[k].index('5984c081b6b11318b7638546')"
   ]
  },
  {
   "cell_type": "markdown",
   "metadata": {
    "heading_collapsed": true
   },
   "source": [
    "# Develop"
   ]
  },
  {
   "cell_type": "code",
   "execution_count": 59,
   "metadata": {
    "ExecuteTime": {
     "end_time": "2017-09-08T14:25:11.326800Z",
     "start_time": "2017-09-08T14:25:11.199178Z"
    },
    "hidden": true,
    "scrolled": true
   },
   "outputs": [
    {
     "name": "stdout",
     "output_type": "stream",
     "text": [
      "[ 0  1  2  3  4  5  6  7  8  9 10 11 12 13 14 15 16 17 18 19 20 21 22 23 24\n",
      " 25 26 27 28 29 30 31 32 33 34 35 36 37 38 39 40 41 42 43 44 45 46 47 48 49\n",
      " 50 51 52 53 54 55 56 57 58 59 60 61 62 63 64 65 66 67 68 69 70 71 72 73 74\n",
      " 75 76 77 78 79 80 81 82 83 84 85 86 87 88 89 90 91 92 93 94 95 96 97 98]\n"
     ]
    }
   ],
   "source": [
    "g = tf.Graph()\n",
    "with g.as_default():\n",
    "    tf.set_random_seed(0)\n",
    "    sess = tf.Session()\n",
    "    with sess.as_default():\n",
    "        \n",
    "        r = list(range(100))\n",
    "        ziped = zip(r[:-1], r[1:])\n",
    "        t = tf.convert_to_tensor(ziped)\n",
    "        \n",
    "        def f(el):\n",
    "            return el[0]\n",
    "        \n",
    "#         elems = np.array([1, 2, 3, 4, 5, 6])\n",
    "#         squares = tf.map_fn(lambda x: x * x, elems)\n",
    "\n",
    "        \n",
    "        m = tf.map_fn(f, t)\n",
    "            \n",
    "        sess.run(tf.global_variables_initializer())\n",
    "        \n",
    "        [res] = sess.run([m])\n",
    "        print(res)\n"
   ]
  }
 ],
 "metadata": {
  "kernelspec": {
   "display_name": "Python 2",
   "language": "python",
   "name": "python2"
  },
  "language_info": {
   "codemirror_mode": {
    "name": "ipython",
    "version": 2
   },
   "file_extension": ".py",
   "mimetype": "text/x-python",
   "name": "python",
   "nbconvert_exporter": "python",
   "pygments_lexer": "ipython2",
   "version": "2.7.12"
  }
 },
 "nbformat": 4,
 "nbformat_minor": 2
}
