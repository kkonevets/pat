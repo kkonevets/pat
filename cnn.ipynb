{
 "cells": [
  {
   "cell_type": "code",
   "execution_count": 1,
   "metadata": {
    "ExecuteTime": {
     "end_time": "2017-09-15T13:22:49.143586Z",
     "start_time": "2017-09-15T13:22:44.869064Z"
    },
    "collapsed": true
   },
   "outputs": [],
   "source": [
    "import numpy as np\n",
    "from common import *\n",
    "\n",
    "import os, time\n",
    "import tflearn\n",
    "from io import StringIO\n",
    "import copy\n",
    "import pickle\n",
    "from functools import partial\n",
    "import cnn\n",
    "import data_flow\n",
    "\n",
    "from __future__ import division\n",
    "from matplotlib import pyplot as plt\n",
    "\n",
    "from sklearn.model_selection import train_test_split\n",
    "from sklearn.metrics.pairwise import euclidean_distances"
   ]
  },
  {
   "cell_type": "markdown",
   "metadata": {
    "heading_collapsed": true
   },
   "source": [
    "# Prepare word vectors"
   ]
  },
  {
   "cell_type": "code",
   "execution_count": 2,
   "metadata": {
    "ExecuteTime": {
     "end_time": "2017-09-08T16:14:46.853741Z",
     "start_time": "2017-09-08T16:14:42.297088Z"
    },
    "hidden": true,
    "scrolled": false
   },
   "outputs": [
    {
     "name": "stderr",
     "output_type": "stream",
     "text": [
      "2017-09-08 19:14:42,298 [MainThread  ] [INFO ]  loading Word2Vec object from ../data/vectors/w2v_model_300_w10\n",
      "2017-09-08 19:14:44,446 [MainThread  ] [INFO ]  loading wv recursively from ../data/vectors/w2v_model_300_w10.wv.* with mmap=None\n",
      "2017-09-08 19:14:44,447 [MainThread  ] [INFO ]  loading syn0 from ../data/vectors/w2v_model_300_w10.wv.syn0.npy with mmap=None\n",
      "2017-09-08 19:14:44,594 [MainThread  ] [INFO ]  setting ignored attribute syn0norm to None\n",
      "2017-09-08 19:14:44,595 [MainThread  ] [INFO ]  loading syn1neg from ../data/vectors/w2v_model_300_w10.syn1neg.npy with mmap=None\n",
      "2017-09-08 19:14:44,736 [MainThread  ] [INFO ]  setting ignored attribute cum_table to None\n",
      "2017-09-08 19:14:44,737 [MainThread  ] [INFO ]  loaded ../data/vectors/w2v_model_300_w10\n"
     ]
    }
   ],
   "source": [
    "w2v_model = Word2Vec.load(join(DATA_FOLDER, 'vectors/w2v_model_300_w10'))"
   ]
  },
  {
   "cell_type": "code",
   "execution_count": 21,
   "metadata": {
    "ExecuteTime": {
     "end_time": "2017-09-08T10:58:55.126588Z",
     "start_time": "2017-09-08T10:58:53.880286Z"
    },
    "collapsed": true,
    "hidden": true
   },
   "outputs": [],
   "source": [
    "word_embeddings = w2v_model.wv.syn0.copy()\n",
    "index2word = copy.deepcopy(w2v_model.wv.index2word)\n",
    "del w2v_model"
   ]
  },
  {
   "cell_type": "code",
   "execution_count": 22,
   "metadata": {
    "ExecuteTime": {
     "end_time": "2017-09-08T10:58:57.877549Z",
     "start_time": "2017-09-08T10:58:55.128389Z"
    },
    "collapsed": true,
    "hidden": true
   },
   "outputs": [],
   "source": [
    "index2word.insert(0, 'PAD')\n",
    "with open(join(DATA_FOLDER, \"dictionary.pickle\"), \"wb\") as output_file:\n",
    "    pickle.dump(index2word, output_file)"
   ]
  },
  {
   "cell_type": "code",
   "execution_count": 17,
   "metadata": {
    "ExecuteTime": {
     "end_time": "2017-09-06T12:29:29.157151Z",
     "start_time": "2017-09-06T12:28:38.836197Z"
    },
    "hidden": true
   },
   "outputs": [
    {
     "data": {
      "text/plain": [
       "count    680760.000000\n",
       "mean          0.193705\n",
       "std           0.070574\n",
       "min           0.000910\n",
       "25%           0.137368\n",
       "50%           0.178099\n",
       "75%           0.244486\n",
       "max           0.744395\n",
       "dtype: float64"
      ]
     },
     "execution_count": 17,
     "metadata": {},
     "output_type": "execute_result"
    }
   ],
   "source": [
    "stds = np.apply_along_axis(np.std, 1, word_embeddings)\n",
    "pd.Series(stds).describe()"
   ]
  },
  {
   "cell_type": "code",
   "execution_count": 18,
   "metadata": {
    "ExecuteTime": {
     "end_time": "2017-09-06T12:29:29.175545Z",
     "start_time": "2017-09-06T12:29:29.159459Z"
    },
    "hidden": true
   },
   "outputs": [
    {
     "data": {
      "text/plain": [
       "0.20150940312078128"
      ]
     },
     "execution_count": 18,
     "metadata": {},
     "output_type": "execute_result"
    }
   ],
   "source": [
    "# 0.34 is chosen so the unknown vectors have (approximately) same variance as pre-trained ones\n",
    "pad_vec = np.random.uniform(-0.34,0.34, word_embeddings.shape[1])\n",
    "np.std(pad_vec)"
   ]
  },
  {
   "cell_type": "code",
   "execution_count": 19,
   "metadata": {
    "ExecuteTime": {
     "end_time": "2017-09-06T12:29:29.621377Z",
     "start_time": "2017-09-06T12:29:29.177828Z"
    },
    "collapsed": true,
    "hidden": true
   },
   "outputs": [],
   "source": [
    "word_embeddings = np.insert(word_embeddings, 0, pad_vec, axis=0)"
   ]
  },
  {
   "cell_type": "code",
   "execution_count": 20,
   "metadata": {
    "ExecuteTime": {
     "end_time": "2017-09-06T12:29:36.303189Z",
     "start_time": "2017-09-06T12:29:29.623782Z"
    },
    "collapsed": true,
    "hidden": true
   },
   "outputs": [],
   "source": [
    "np.save(join(DATA_FOLDER, 'word_embeddings_%s.npy' % word_embeddings.shape[1]), word_embeddings)"
   ]
  },
  {
   "cell_type": "markdown",
   "metadata": {},
   "source": [
    "# Load input data"
   ]
  },
  {
   "cell_type": "code",
   "execution_count": 2,
   "metadata": {
    "ExecuteTime": {
     "end_time": "2017-09-15T13:22:52.924327Z",
     "start_time": "2017-09-15T13:22:49.146374Z"
    },
    "collapsed": true
   },
   "outputs": [],
   "source": [
    "word_embeddings = np.load(join(DATA_FOLDER, 'word_embeddings_300.npy'))\n",
    "with open(join(DATA_FOLDER, \"dictionary.pickle\"), \"rb\") as input_file:\n",
    "    index2word = pickle.load(input_file)"
   ]
  },
  {
   "cell_type": "code",
   "execution_count": 3,
   "metadata": {
    "ExecuteTime": {
     "end_time": "2017-09-15T13:22:58.142738Z",
     "start_time": "2017-09-15T13:22:52.927472Z"
    },
    "collapsed": true,
    "scrolled": true
   },
   "outputs": [],
   "source": [
    "ids = glob('../data/corpus/**.txt')\n",
    "with open(join(DATA_FOLDER, 'sims.json'), 'r') as f:\n",
    "    sims = json.load(f)"
   ]
  },
  {
   "cell_type": "code",
   "execution_count": 4,
   "metadata": {
    "ExecuteTime": {
     "end_time": "2017-09-15T13:23:12.491732Z",
     "start_time": "2017-09-15T13:22:58.145366Z"
    }
   },
   "outputs": [
    {
     "name": "stderr",
     "output_type": "stream",
     "text": [
      "100%|██████████| 368458/368458 [00:11<00:00, 30929.84it/s]\n"
     ]
    },
    {
     "name": "stdout",
     "output_type": "stream",
     "text": [
      "(619669, 68853, 76503)\n"
     ]
    }
   ],
   "source": [
    "triples_all = list(data_flow.random_triples(sims, ids, num_epochs=1, seed=1))\n",
    "_triples, triples_test = train_test_split(triples_all, test_size=0.1, random_state=0)\n",
    "triples_train, triples_val = train_test_split(_triples, test_size=0.1, random_state=0)\n",
    "\n",
    "print(len(triples_train), len(triples_val), len(triples_test))"
   ]
  },
  {
   "cell_type": "code",
   "execution_count": 5,
   "metadata": {
    "ExecuteTime": {
     "end_time": "2017-09-15T13:23:12.497441Z",
     "start_time": "2017-09-15T13:23:12.494303Z"
    },
    "collapsed": true
   },
   "outputs": [],
   "source": [
    "# triples_all = pd.read_csv(join(DATA_FOLDER, 'mpk_flow.csv.gz'), sep=' ', header=None)\n",
    "# triples_all = triples_all[triples_all[2] != '59a969f1782b1b893a912539']"
   ]
  },
  {
   "cell_type": "code",
   "execution_count": 6,
   "metadata": {
    "ExecuteTime": {
     "end_time": "2017-09-15T13:23:12.503752Z",
     "start_time": "2017-09-15T13:23:12.500146Z"
    },
    "collapsed": true
   },
   "outputs": [],
   "source": [
    "def add_fname(_id):\n",
    "    return join(DATA_FOLDER, 'corpus', _id + '.txt')"
   ]
  },
  {
   "cell_type": "code",
   "execution_count": 7,
   "metadata": {
    "ExecuteTime": {
     "end_time": "2017-09-15T13:23:12.510857Z",
     "start_time": "2017-09-15T13:23:12.506211Z"
    },
    "collapsed": true
   },
   "outputs": [],
   "source": [
    "# triples_train, triples_val, triples_test = [], [], []\n",
    "# for epoch_data in np.array_split(triples_all, 3)[:1]:\n",
    "#     _triples, _test = train_test_split(epoch_data, test_size=0.1, random_state=0, shuffle=False)\n",
    "#     _train, _val = train_test_split(_triples, test_size=0.1, random_state=0, shuffle=False)\n",
    "\n",
    "#     triples_train += [[add_fname(a), add_fname(b), add_fname(c)] for a,b,c in _train.values]\n",
    "#     triples_val += [[add_fname(a), add_fname(b), add_fname(c)] for a,b,c in _val.values]\n",
    "#     triples_test += [[add_fname(a), add_fname(b), add_fname(c)] for a,b,c in _test.values]\n",
    "    \n",
    "# logging.info('train %s val %s test %s' % (len(triples_train), len(triples_val), len(triples_test)))"
   ]
  },
  {
   "cell_type": "code",
   "execution_count": 8,
   "metadata": {
    "ExecuteTime": {
     "end_time": "2017-09-15T13:23:12.523839Z",
     "start_time": "2017-09-15T13:23:12.513173Z"
    },
    "collapsed": true
   },
   "outputs": [],
   "source": [
    "vocab_size, embedding_size = word_embeddings.shape\n",
    "n_sents, n_words = 123, 40\n",
    "batch_size = 64\n",
    "num_epochs = 1\n",
    "learning_rate = 0.001\n",
    "\n",
    "sent_filter_sizes = [1, 2, 3, 4, 5]\n",
    "sent_nb_filter = 10\n",
    "sent_embed_size = 128\n",
    "sent_kmax = 4\n",
    "\n",
    "doc_filter_sizes = [1, 2, 3, 4, 5]\n",
    "doc_nb_filter = 10\n",
    "doc_embed_size = 200\n",
    "doc_kmax = 4"
   ]
  },
  {
   "cell_type": "markdown",
   "metadata": {
    "heading_collapsed": true
   },
   "source": [
    "# Train"
   ]
  },
  {
   "cell_type": "code",
   "execution_count": 10,
   "metadata": {
    "ExecuteTime": {
     "end_time": "2017-09-14T14:05:34.046098Z",
     "start_time": "2017-09-14T14:04:31.129748Z"
    },
    "hidden": true,
    "scrolled": true
   },
   "outputs": [
    {
     "name": "stderr",
     "output_type": "stream",
     "text": [
      "2017-09-14 17:04:31,165 [MainThread  ] [INFO ]  start training ...\n",
      "2017-09-14 17:04:31,537 [MainThread  ] [INFO ]  sent_out_size 200, doc_out_size 200\n",
      "2017-09-14 17:04:31,538 [MainThread  ] [INFO ]  sent_embed_size 128, doc_embed_size 200\n",
      "2017-09-14 17:04:54,435 [MainThread  ] [INFO ]  step 1, loss 0.493278\n",
      "2017-09-14 17:05:13,541 [MainThread  ] [INFO ]  step 2, loss 0.453561\n",
      "2017-09-14 17:05:31,858 [MainThread  ] [INFO ]  step 3, loss 0.391074\n",
      "2017-09-14 17:05:31,861 [MainThread  ] [INFO ]  Done training -- epoch limit reached\n",
      "2017-09-14 17:05:34,042 [MainThread  ] [INFO ]  --- 62.8675031662 seconds ---\n"
     ]
    }
   ],
   "source": [
    "reload(cnn)\n",
    "\n",
    "logging.info('start training ...')\n",
    "start_time = time.time()\n",
    "\n",
    "finished = False\n",
    "try:\n",
    "    tf.reset_default_graph()\n",
    "    tf.set_random_seed(0)\n",
    "    session_conf = tf.ConfigProto(\n",
    "        allow_soft_placement=True, log_device_placement=False)\n",
    "    sess = tf.Session(config=session_conf)\n",
    "    with sess.as_default():\n",
    "        X, fnames_batch = data_flow.input_pipeline(\n",
    "            triples_train[:batch_size*3], [n_sents, n_words], \n",
    "            batch_size=batch_size, num_epochs=num_epochs)\n",
    "\n",
    "        model = cnn.TextCNN(\n",
    "            n_sents,\n",
    "            n_words,\n",
    "            vocab_size,\n",
    "            embedding_size,\n",
    "            batch_size,\n",
    "            sent_filter_sizes=sent_filter_sizes,\n",
    "            sent_nb_filter=sent_nb_filter,\n",
    "            sent_embed_size=sent_embed_size,\n",
    "            doc_filter_sizes=doc_filter_sizes,\n",
    "            doc_nb_filter=doc_nb_filter,\n",
    "            doc_embed_size=doc_embed_size,\n",
    "            sent_kmax=sent_kmax,\n",
    "            doc_kmax=doc_kmax,\n",
    "            learning_rate=learning_rate)\n",
    "        train_op = model.optimize(X)\n",
    "\n",
    "        init_local = tf.local_variables_initializer()\n",
    "        init_global = tf.global_variables_initializer()\n",
    "        sess.run([init_global, init_local])\n",
    "\n",
    "        model.init_summary()\n",
    "        #!!!! index is shifted by 1\n",
    "        model.init_lookup_table(word_embeddings)\n",
    "\n",
    "#         pprint([n.name for n in tf.get_default_graph().as_graph_def().node])\n",
    "\n",
    "        coord = tf.train.Coordinator()\n",
    "        threads = tf.train.start_queue_runners(sess=sess, coord=coord)\n",
    "\n",
    "        try:\n",
    "            while not coord.should_stop():\n",
    "                _, step, loss, summary = sess.run([\n",
    "                    train_op, model.global_step, model.loss_op,\n",
    "                    model.merged_summary_op\n",
    "                ], feed_dict = {model.phase: 1})\n",
    "                model.add_summary(summary, step)\n",
    "                logging.info('step %s, loss %s' % (step, loss))\n",
    "        except tf.errors.OutOfRangeError:\n",
    "            logging.info('Done training -- epoch limit reached')\n",
    "        finally:\n",
    "            # When done, ask the threads to stop.\n",
    "            coord.request_stop()\n",
    "\n",
    "        # Wait for threads to finish.\n",
    "        coord.join(threads)\n",
    "        model.save(step)\n",
    "        finished = True\n",
    "\n",
    "except Exception as e:\n",
    "    logging.exception(\"train error\")\n",
    "    send_email('notebook_url', subject='train error', body=e)\n",
    "finally:\n",
    "    if finished:\n",
    "#     send_email('notebook_url', subject='finished training')\n",
    "        pass\n",
    "        \n",
    "logging.info(\"--- %s seconds ---\" % (time.time() - start_time))"
   ]
  },
  {
   "cell_type": "markdown",
   "metadata": {},
   "source": [
    "# Test"
   ]
  },
  {
   "cell_type": "code",
   "execution_count": 9,
   "metadata": {
    "ExecuteTime": {
     "end_time": "2017-09-15T13:23:12.826409Z",
     "start_time": "2017-09-15T13:23:12.526546Z"
    },
    "scrolled": true
   },
   "outputs": [
    {
     "name": "stdout",
     "output_type": "stream",
     "text": [
      "../data/models/2017-09-06 17:11:29.439266-300.meta\r\n",
      "../data/models/2017-09-07 00:56:14.044885-1000.meta\r\n",
      "../data/models/2017-09-08 10:22:23.612190-3000.meta\r\n",
      "../data/models/2017-09-11 18:15:14.913422-3.meta\r\n",
      "../data/models/2017-09-12 06:48:30.232017-3000.meta\r\n"
     ]
    }
   ],
   "source": [
    "model_dir = join(DATA_FOLDER, 'models')\n",
    "!ls {model_dir+'/*.meta'}"
   ]
  },
  {
   "cell_type": "code",
   "execution_count": 10,
   "metadata": {
    "ExecuteTime": {
     "end_time": "2017-09-15T13:23:12.834000Z",
     "start_time": "2017-09-15T13:23:12.829712Z"
    },
    "collapsed": true
   },
   "outputs": [],
   "source": [
    "def last_model(model_dir):\n",
    "    fnames = glob(join(model_dir, '*.meta'))\n",
    "    return max(fnames)"
   ]
  },
  {
   "cell_type": "code",
   "execution_count": 11,
   "metadata": {
    "ExecuteTime": {
     "end_time": "2017-09-15T13:23:14.250342Z",
     "start_time": "2017-09-15T13:23:12.836614Z"
    }
   },
   "outputs": [
    {
     "name": "stderr",
     "output_type": "stream",
     "text": [
      "2017-09-15 16:23:14,246 [MainThread  ] [INFO ]  len(chunked) = 422394\n"
     ]
    },
    {
     "name": "stdout",
     "output_type": "stream",
     "text": [
      "['../data/corpus/5984ce4eb6b11328de63851a.txt']\n"
     ]
    }
   ],
   "source": [
    "def chunks(l, n):\n",
    "    \"\"\"Yield successive n-sized chunks from l.\"\"\"\n",
    "    for i in range(0, len(l), n):\n",
    "        yield l[i:i + n]\n",
    "\n",
    "chunked = list(chunks(ids, 3))\n",
    "print(chunked.pop())\n",
    "logging.info('len(chunked) = %s' % len(chunked))"
   ]
  },
  {
   "cell_type": "markdown",
   "metadata": {},
   "source": [
    "https://github.com/aymericdamien/TensorFlow-Examples/blob/master/examples/4_Utils/save_restore_model.py"
   ]
  },
  {
   "cell_type": "code",
   "execution_count": 12,
   "metadata": {
    "ExecuteTime": {
     "end_time": "2017-09-15T13:23:14.255798Z",
     "start_time": "2017-09-15T13:23:14.252925Z"
    },
    "collapsed": true
   },
   "outputs": [],
   "source": [
    "doc_embeds, fnames = [], []"
   ]
  },
  {
   "cell_type": "code",
   "execution_count": 10,
   "metadata": {
    "ExecuteTime": {
     "end_time": "2017-09-13T12:55:52.548506Z",
     "start_time": "2017-09-13T12:55:52.533873Z"
    },
    "scrolled": true
   },
   "outputs": [
    {
     "ename": "SyntaxError",
     "evalue": "invalid syntax (<ipython-input-10-3fb362e3db47>, line 3)",
     "output_type": "error",
     "traceback": [
      "\u001b[0;36m  File \u001b[0;32m\"<ipython-input-10-3fb362e3db47>\"\u001b[0;36m, line \u001b[0;32m3\u001b[0m\n\u001b[0;31m    res = evaluate(best, gold)from matplotlib import pyplot as plt\u001b[0m\n\u001b[0m                                 ^\u001b[0m\n\u001b[0;31mSyntaxError\u001b[0m\u001b[0;31m:\u001b[0m invalid syntax\n"
     ]
    }
   ],
   "source": [
    "finished = False\n",
    "try:\n",
    "    tf.reset_default_graph()\n",
    "    tf.set_random_seed(0)\n",
    "    session_conf = tf.ConfigProto(\n",
    "        allow_soft_placement=True, log_device_placement=False)\n",
    "    sess = tf.Session(config=session_conf)    \n",
    "    with sess.as_default():\n",
    "        X, fnames_batch = data_flow.input_pipeline(\n",
    "            chunked[:batch_size*100], [n_sents, n_words], batch_size=batch_size, \n",
    "            num_epochs=1, shuffle=False)\n",
    "\n",
    "        init_local = tf.local_variables_initializer()\n",
    "        init_global = tf.global_variables_initializer()\n",
    "        sess.run([init_global, init_local])\n",
    "\n",
    "        # do not restore before global initialization, otherwise all weights are set to default !!!\n",
    "        saver = tf.train.import_meta_graph(last_model(model_dir), input_map={'X':X})\n",
    "        saver.restore(sess, tf.train.latest_checkpoint(model_dir))\n",
    "        graph = tf.get_default_graph()\n",
    "\n",
    "        op_name = 'optimize/loss/doc_embed_normalized'\n",
    "        doc_embed_normalized = graph.get_operation_by_name(op_name).outputs[0]\n",
    "\n",
    "        anchor, positive, negative = tf.unstack(\n",
    "            tf.reshape(doc_embed_normalized, [-1, 3, doc_kmax * doc_nb_filter * len(doc_filter_sizes)]),\n",
    "            3, 1)\n",
    "        _loss = cnn.triplet_loss(anchor, positive, negative)\n",
    "\n",
    "#         pprint([n.name for n in tf.get_default_graph().as_graph_def().node])\n",
    "\n",
    "        coord = tf.train.Coordinator()\n",
    "        threads = tf.train.start_queue_runners(sess=sess, coord=coord)\n",
    "\n",
    "        step = 0\n",
    "        try:\n",
    "            while not coord.should_stop():\n",
    "                [batch_embeds, loss, _names] = sess.run([doc_embed_normalized, \n",
    "                                                         _loss, fnames_batch])\n",
    "                doc_embeds.append(batch_embeds)\n",
    "                fnames += list(_names)\n",
    "                logging.info('step %s, loss %s' % (step, loss))\n",
    "                step+=1\n",
    "        except tf.errors.OutOfRangeError:\n",
    "            logging.info('Done testing -- epoch limit reached')\n",
    "        finally:\n",
    "            # When done, ask the threads to stop.\n",
    "            coord.request_stop()\n",
    "\n",
    "        # Wait for threads to finish.\n",
    "        coord.join(threads)\n",
    "        finished = True\n",
    "        \n",
    "except Exception as e:\n",
    "    logging.exception(\"test error\")\n",
    "#     send_email('notebook_url', subject='test error', body=e)\n",
    "finally:\n",
    "    if finished:\n",
    "#         send_email('notebook_url', subject='finished testing')\n",
    "        pass"
   ]
  },
  {
   "cell_type": "code",
   "execution_count": 13,
   "metadata": {
    "ExecuteTime": {
     "end_time": "2017-09-15T13:23:14.298075Z",
     "start_time": "2017-09-15T13:23:14.258289Z"
    },
    "scrolled": true
   },
   "outputs": [
    {
     "ename": "ValueError",
     "evalue": "need at least one array to concatenate",
     "output_type": "error",
     "traceback": [
      "\u001b[0;31m\u001b[0m",
      "\u001b[0;31mValueError\u001b[0mTraceback (most recent call last)",
      "\u001b[0;32m<ipython-input-13-fa5358712820>\u001b[0m in \u001b[0;36m<module>\u001b[0;34m()\u001b[0m\n\u001b[0;32m----> 1\u001b[0;31m \u001b[0mfnames\u001b[0m \u001b[0;34m=\u001b[0m \u001b[0mnp\u001b[0m\u001b[0;34m.\u001b[0m\u001b[0mconcatenate\u001b[0m\u001b[0;34m(\u001b[0m\u001b[0mfnames\u001b[0m\u001b[0;34m)\u001b[0m\u001b[0;34m\u001b[0m\u001b[0m\n\u001b[0m\u001b[1;32m      2\u001b[0m \u001b[0mdoc_embeds_reshaped\u001b[0m \u001b[0;34m=\u001b[0m \u001b[0mnp\u001b[0m\u001b[0;34m.\u001b[0m\u001b[0mreshape\u001b[0m\u001b[0;34m(\u001b[0m\u001b[0mnp\u001b[0m\u001b[0;34m.\u001b[0m\u001b[0mconcatenate\u001b[0m\u001b[0;34m(\u001b[0m\u001b[0mdoc_embeds\u001b[0m\u001b[0;34m)\u001b[0m\u001b[0;34m,\u001b[0m \u001b[0;34m[\u001b[0m\u001b[0;34m-\u001b[0m\u001b[0;36m1\u001b[0m\u001b[0;34m,\u001b[0m \u001b[0mdoc_embed_size\u001b[0m\u001b[0;34m]\u001b[0m\u001b[0;34m)\u001b[0m\u001b[0;34m\u001b[0m\u001b[0m\n",
      "\u001b[0;31mValueError\u001b[0m: need at least one array to concatenate"
     ]
    }
   ],
   "source": [
    "fnames = np.concatenate(fnames)\n",
    "doc_embeds_reshaped = np.reshape(np.concatenate(doc_embeds), [-1, doc_embed_size])"
   ]
  },
  {
   "cell_type": "code",
   "execution_count": 17,
   "metadata": {
    "ExecuteTime": {
     "end_time": "2017-09-15T13:24:16.511603Z",
     "start_time": "2017-09-15T13:24:16.507948Z"
    },
    "collapsed": true
   },
   "outputs": [],
   "source": [
    "margin = 0.5"
   ]
  },
  {
   "cell_type": "code",
   "execution_count": null,
   "metadata": {
    "ExecuteTime": {
     "end_time": "2017-09-15T13:23:14.300943Z",
     "start_time": "2017-09-15T13:22:56.812Z"
    },
    "collapsed": true
   },
   "outputs": [],
   "source": [
    "# np.save('../data/doc_embeds_reshaped_1ep.npy', doc_embeds_reshaped)\n",
    "# np.save('../data/fnames_1ep.npy', fnames)"
   ]
  },
  {
   "cell_type": "code",
   "execution_count": 19,
   "metadata": {
    "ExecuteTime": {
     "end_time": "2017-09-15T13:27:16.678798Z",
     "start_time": "2017-09-15T13:27:15.516468Z"
    }
   },
   "outputs": [],
   "source": [
    "doc_embeds_reshaped = np.load('../data/saved/doc_embeds_reshaped_1ep_%s.npy' % margin)\n",
    "fnames = np.load('../data/saved/fnames_1ep_%s.npy' % margin)"
   ]
  },
  {
   "cell_type": "code",
   "execution_count": 20,
   "metadata": {
    "ExecuteTime": {
     "end_time": "2017-09-15T13:27:16.685399Z",
     "start_time": "2017-09-15T13:27:16.681136Z"
    }
   },
   "outputs": [
    {
     "data": {
      "text/plain": [
       "1267008"
      ]
     },
     "execution_count": 20,
     "metadata": {},
     "output_type": "execute_result"
    }
   ],
   "source": [
    "len(fnames)"
   ]
  },
  {
   "cell_type": "markdown",
   "metadata": {},
   "source": [
    "# Get statistics"
   ]
  },
  {
   "cell_type": "code",
   "execution_count": 21,
   "metadata": {
    "ExecuteTime": {
     "end_time": "2017-09-15T13:27:18.247367Z",
     "start_time": "2017-09-15T13:27:18.234350Z"
    },
    "collapsed": true
   },
   "outputs": [],
   "source": [
    "def predict(keys, lim=200):\n",
    "    names = pd.Series(range(len(fnames)), index = fnames)\n",
    "    test_vecs = []\n",
    "    for k in keys:\n",
    "        ix = names[add_fname(k)]\n",
    "        tvec = doc_embeds_reshaped[ix]\n",
    "        test_vecs.append(tvec)\n",
    "\n",
    "    dists = euclidean_distances(test_vecs, doc_embeds_reshaped)\n",
    "    sorted_ixs = np.argsort(dists, axis=1)\n",
    "    preds = {}\n",
    "    for k, _ixs in zip(keys, sorted_ixs):\n",
    "        preds[k] = [basename(n).split('.')[0] for n in fnames[_ixs[1:lim+1]]]\n",
    "        \n",
    "    return preds"
   ]
  },
  {
   "cell_type": "code",
   "execution_count": 22,
   "metadata": {
    "ExecuteTime": {
     "end_time": "2017-09-15T13:27:20.384201Z",
     "start_time": "2017-09-15T13:27:20.379160Z"
    },
    "collapsed": true
   },
   "outputs": [],
   "source": [
    "with open(join(DATA_FOLDER, 'gold_mongo.json'), 'r') as f:\n",
    "    gold = json.load(f)"
   ]
  },
  {
   "cell_type": "code",
   "execution_count": 33,
   "metadata": {
    "ExecuteTime": {
     "end_time": "2017-09-15T11:47:47.910892Z",
     "start_time": "2017-09-15T11:47:19.051507Z"
    },
    "collapsed": true
   },
   "outputs": [],
   "source": [
    "preds = predict(gold.keys())"
   ]
  },
  {
   "cell_type": "code",
   "execution_count": 34,
   "metadata": {
    "ExecuteTime": {
     "end_time": "2017-09-15T11:47:48.327398Z",
     "start_time": "2017-09-15T11:47:47.912710Z"
    },
    "scrolled": true
   },
   "outputs": [
    {
     "name": "stdout",
     "output_type": "stream",
     "text": [
      "median\n",
      "acc10     0.0\n",
      "acc20     0.0\n",
      "acc200    0.0\n",
      "dtype: float64\n",
      "mean\n",
      "acc10     0.077899\n",
      "acc20     0.125000\n",
      "acc200    0.309511\n",
      "dtype: float64\n"
     ]
    },
    {
     "data": {
      "image/png": "[encoded data removed]",
      "text/plain": [
       "<matplotlib.figure.Figure at 0x7ff69b749590>"
      ]
     },
     "metadata": {},
     "output_type": "display_data"
    },
    {
     "data": {
      "image/png": "[encoded data removed]",
      "text/plain": [
       "<matplotlib.figure.Figure at 0x7ff5eb8f24d0>"
      ]
     },
     "metadata": {},
     "output_type": "display_data"
    },
    {
     "data": {
      "image/png": "[encoded data removed]",
      "text/plain": [
       "<matplotlib.figure.Figure at 0x7ff5eefb5810>"
      ]
     },
     "metadata": {},
     "output_type": "display_data"
    }
   ],
   "source": [
    "result = evaluate(preds, gold)\n",
    "\n",
    "ax = result['acc10'].hist()\n",
    "ax.set_xlabel(\"acc10\")\n",
    "plt.show()\n",
    "\n",
    "ax = result['acc20'].hist()\n",
    "ax.set_xlabel(\"acc20\")\n",
    "plt.show()\n",
    "\n",
    "ax = result['acc200'].hist()\n",
    "ax.set_xlabel(\"acc200\")\n",
    "plt.show()"
   ]
  },
  {
   "cell_type": "code",
   "execution_count": 36,
   "metadata": {
    "ExecuteTime": {
     "end_time": "2017-09-15T12:30:16.927217Z",
     "start_time": "2017-09-15T12:30:16.917335Z"
    }
   },
   "outputs": [
    {
     "name": "stdout",
     "output_type": "stream",
     "text": [
      "59a7bc6c782b1b893a56a89b\n"
     ]
    },
    {
     "data": {
      "text/plain": [
       "['5984b604b6b1130a756384f2',\n",
       " '5984c4d0b6b11348a8638543',\n",
       " '5984be4fb6b1137ca16384f6',\n",
       " '5984b604b6b1130a756384f3',\n",
       " '5984ba98b6b1134e8a638512',\n",
       " '5984be4fb6b1137ca16384f7',\n",
       " '5984b861b6b1132fe263851c',\n",
       " '5984c9cdb6b1137efe63852b',\n",
       " '5984b604b6b1130a756384f1',\n",
       " '5984c329b6b1133641638500',\n",
       " '5984b5cbb6b113074d638522',\n",
       " '5984be89b6b1137ed063850c',\n",
       " '5984bdbcb6b113742e63853e',\n",
       " '5984c003b6b1130eb4638505',\n",
       " '5984be6db6b1137dad638507',\n",
       " '5984ba1bb6b11349e563851f',\n",
       " '5984bd58b6b11370dd63854a',\n",
       " '5984b81ab6b1132cb3638503',\n",
       " '5984caf6b6b1130a90638536',\n",
       " '5984bff2b6b1130db263851a',\n",
       " '5984cd25b6b1132031638529',\n",
       " '5984b6aeb6b113169e638533',\n",
       " '5984b725b6b1131ce9638503',\n",
       " '5984c0acb6b1131ae2638514',\n",
       " '5984de9fb6b1133b4d6384ff',\n",
       " '5984b5ccb6b113074d638527',\n",
       " '5984c791b6b11367cd638530',\n",
       " '5984ba2cb6b11349eb63854d',\n",
       " '5984d151b6b1134414638538',\n",
       " '5984b703b6b1131ad8638515',\n",
       " '5984b9f4b6b11348b6638500',\n",
       " '5984c135b6b1131fcb638513',\n",
       " '5984db1fb6b1131ebb63851e',\n",
       " '5984b5a6b6b1130575638541',\n",
       " '5984c22ab6b1132da9638500',\n",
       " '5984bee2b6b113028f63854c',\n",
       " '5984d4d8b6b113683963854b',\n",
       " '5984c493b6b1134678638528',\n",
       " '5984b5a8b6b1130584638548',\n",
       " '5984cfccb6b11338ae638538',\n",
       " '5984d005b6b1133ada63854e',\n",
       " '5984c95cb6b1137ab5638538',\n",
       " '5984b9e6b6b11347c063851d',\n",
       " '5984bd10b6b1136b666384fb',\n",
       " '5984ba9eb6b1134e8a638537',\n",
       " '5984d974b6b11315ea63852c',\n",
       " '5984b5cbb6b113074d638520',\n",
       " '5984d4cfb6b1136832638516',\n",
       " '5984bf79b6b11308d2638520',\n",
       " '5984b9fbb6b11348c663852e',\n",
       " '5984bad0b6b11350e36384f3',\n",
       " '5984d4d9b6b113684063854c',\n",
       " '5984cc03b6b11318d163850d',\n",
       " '5984d4e9b6b113693a638539',\n",
       " '5984bbaab6b1135c2e6384f0',\n",
       " '5984cbbfb6b113166f638503',\n",
       " '5984be6eb6b1137da463850f',\n",
       " '5984dd4db6b11333b7638510',\n",
       " '5984b6d8b6b11318b863851e',\n",
       " '5984bcf0b6b1136a4063852e',\n",
       " '5984c737b6b113645b638543',\n",
       " '5984bdefb6b113759a638546',\n",
       " '5984cc51b6b1131a5463852d',\n",
       " '5984d7b7b6b113059c638502',\n",
       " '5984d116b6b11342ea638500',\n",
       " '5984c2feb6b1133418638549',\n",
       " '5984dc02b6b11325056384f7',\n",
       " '5984b58bb6b11304a763850d',\n",
       " '5984cd36b6b113212d638510',\n",
       " '5984b66cb6b113138963850e',\n",
       " '5984ca36b6b1130336638536',\n",
       " '5984b6d3b6b11318a5638507',\n",
       " '5984cbe2b6b11317b0638523',\n",
       " '5984dea0b6b1133b636384fb',\n",
       " '5984bdf8b6b11376d36384ee',\n",
       " '5984c4b5b6b11347a3638519',\n",
       " '5984ba5bb6b1134c35638530',\n",
       " '5984bef2b6b11303e46384ff',\n",
       " '5984c315b6b11335576384ef',\n",
       " '5984ba7fb6b1134d79638519',\n",
       " '5984d43db6b11363a6638549',\n",
       " '5984c75fb6b11366a66384f3',\n",
       " '5984cad1b6b113086263854d',\n",
       " '5984b969b6b1133f0163854c',\n",
       " '5984d7b2b6b11305836384f6',\n",
       " '5984bf1cb6b113055c638531',\n",
       " '5984d5c3b6b11376d9638545',\n",
       " '5984d846b6b1130de463850c',\n",
       " '5984dd94b6b1133569638508',\n",
       " '5984bef2b6b11303fd638521',\n",
       " '5984c616b6b113559963854b',\n",
       " '5984c652b6b1135862638515',\n",
       " '5984bed8b6b1130296638532',\n",
       " '5984b703b6b1131ad8638516',\n",
       " '5984d62eb6b11379a0638520',\n",
       " '5984b76eb6b113242e638509',\n",
       " '5984b604b6b1130a756384f5',\n",
       " '5984c786b6b11367c963851f',\n",
       " '5984b717b6b1131bed638509',\n",
       " '5984d2aeb6b1135611638524',\n",
       " '5984cc54b6b1131a4f638539',\n",
       " '5984b61eb6b1130b80638509',\n",
       " '5984d241b6b1134f3e638502',\n",
       " '5984cba4b6b113155a63850f',\n",
       " '5984c110b6b1131e65638519',\n",
       " '5984d7bbb6b113058463851f',\n",
       " '5984be87b6b1137ec563850c',\n",
       " '5984cfc9b6b113389d638539',\n",
       " '5984b9a2b6b113415063854b',\n",
       " '5984b943b6b1133da2638516',\n",
       " '5984b848b6b1132edd6384f7',\n",
       " '5984d394b6b113605963852e',\n",
       " '5984cc08b6b11318c163852c',\n",
       " '5984b686b6b113148c638535',\n",
       " '5984b625b6b1130b84638546',\n",
       " '5984bf7ab6b11308db63852a',\n",
       " '5984bab4b6b1134fcd638506',\n",
       " '5984bf5db6b1130796638537',\n",
       " '5984b81db6b1132cbc638510',\n",
       " '5984d83fb6b1130cf063853c',\n",
       " '5984c122b6b1131e5f638545',\n",
       " '5984bbfcb6b1135ebf638502',\n",
       " '5984c4b7b6b11347a563851a',\n",
       " '5984cedfb6b1132ce163852a',\n",
       " '5984b6d3b6b11318a5638506',\n",
       " '5984cb05b6b1130b88638500',\n",
       " '5984c99ab6b1137df86384f8',\n",
       " '5984cb56b6b113122f6384f2',\n",
       " '5984bf29b6b11306706384f6',\n",
       " '5984b58ab6b11304a7638505',\n",
       " '5984b582b6b11303be63852b',\n",
       " '5984cba3b6b113155a63850b',\n",
       " '5984deb1b6b1133b4a63850f',\n",
       " '5984be04b6b11376d0638510',\n",
       " '5984b6adb6b113169e638531',\n",
       " '5984d870b6b113109b638530',\n",
       " '5984d321b6b1135cd86384fc',\n",
       " '5984bad7b6b11350e6638523',\n",
       " '5984ca59b6b11304b063850f',\n",
       " '5984c697b6b1135ab4638533',\n",
       " '5984c2c4b6b11332bb6384f5',\n",
       " '5984bbe5b6b1135d6763854e',\n",
       " '5984bfb0b6b1130a4a638544',\n",
       " '5984ccc5b6b1131d5363851d',\n",
       " '5984c27bb6b113302c638523',\n",
       " '5984c978b6b1137bd563854a',\n",
       " '5984c124b6b1131e5d638530',\n",
       " '5984c145b6b1131fb9638520',\n",
       " '5984bdfab6b11376e6638502',\n",
       " '5984cfc9b6b11338aa638536',\n",
       " '5984cf96b6b113368a63850e',\n",
       " '5984b701b6b1131ad3638508',\n",
       " '5984df40b6b1133f90638523',\n",
       " '5984d7d2b6b113069863852e',\n",
       " '5984b942b6b1133dbe638512',\n",
       " '5984b579b6b11303cf6384f1',\n",
       " '5984b66cb6b113138963850a',\n",
       " '5984b7c1b6b1132862638520',\n",
       " '5984b6f5b6b11319d163854c',\n",
       " '5984c317b6b1133559638503',\n",
       " '5984bad2b6b11350ea6384fb',\n",
       " '5984d4cfb6b1136827638519',\n",
       " '5984c3edb6b1134119638548',\n",
       " '5984d4cdb6b1136831638504',\n",
       " '5984b71fb6b1131bdc63853f',\n",
       " '5984cd56b6b113224163854e',\n",
       " '5984be6fb6b1137dbc638515',\n",
       " '5984b730b6b1131dd563852b',\n",
       " '5984c163b6b113211563850f',\n",
       " '5984c1f0b6b1132b7c6384fa',\n",
       " '5984bcb3b6b11367f163851a',\n",
       " '5984d256b6b113502f63850f',\n",
       " '5984b968b6b1133f0163854b',\n",
       " '5984d3a2b6b113606163852a',\n",
       " '5984b6f3b6b11319d4638544',\n",
       " '5984dc2ab6b113260b63854e',\n",
       " '5984cb0ab6b1130b88638526',\n",
       " '5984be6bb6b1137dad638503',\n",
       " '5984bad7b6b11350ed63852b',\n",
       " '5984c45cb6b11344f96384f8',\n",
       " '5984cd56b6b113224163854d',\n",
       " '5984cfe0b6b11339b9638537',\n",
       " '5984d4eeb6b113694663854a',\n",
       " '5984dda1b6b113356463850e',\n",
       " '5984bfadb6b1130a38638533',\n",
       " '5984d21fb6b1134c6663854b',\n",
       " '5984cda6b6b11325a7638506',\n",
       " '5984b5e4b6b1130838638545',\n",
       " '5984bec1b6b1130131638541',\n",
       " '5984bb01b6b1135561638510',\n",
       " '5984b5ccb6b113074d63852a',\n",
       " '5984c8c0b6b11370e963854a',\n",
       " '5984ccfbb6b1131edc63851a',\n",
       " '5984cff0b6b1133ad46384f2',\n",
       " '5984b6adb6b113169e63852b',\n",
       " '5984bd13b6b1136b7363851a',\n",
       " '5984cd76b6b113234963853a',\n",
       " '5984b6fdb6b1131ad16384ee',\n",
       " '5984cbe4b6b11317ab638524',\n",
       " '5984c171b6b11322146384fe']"
      ]
     },
     "execution_count": 36,
     "metadata": {},
     "output_type": "execute_result"
    }
   ],
   "source": [
    "k = preds.keys()[0]\n",
    "k = '59a7bc6c782b1b893a56a89b'\n",
    "print(k)\n",
    "preds[k]"
   ]
  },
  {
   "cell_type": "code",
   "execution_count": 51,
   "metadata": {
    "ExecuteTime": {
     "end_time": "2017-09-15T12:41:29.628493Z",
     "start_time": "2017-09-15T12:41:27.835978Z"
    },
    "scrolled": true
   },
   "outputs": [
    {
     "data": {
      "text/plain": [
       "157615"
      ]
     },
     "execution_count": 51,
     "metadata": {},
     "output_type": "execute_result"
    }
   ],
   "source": [
    "predict([k], lim=10**9)[k].index('5984b620b6b1130b7b63850a')"
   ]
  },
  {
   "cell_type": "code",
   "execution_count": 23,
   "metadata": {
    "ExecuteTime": {
     "end_time": "2017-09-15T13:27:24.114576Z",
     "start_time": "2017-09-15T13:27:23.487577Z"
    },
    "collapsed": true
   },
   "outputs": [],
   "source": [
    "test_paths = set(pd.DataFrame(triples_test)[0])\n",
    "diff = test_paths - set(fnames)\n",
    "test_paths -= diff\n",
    "\n",
    "test_keys = set([basename(k).split('.')[0] for k in test_paths])"
   ]
  },
  {
   "cell_type": "code",
   "execution_count": 24,
   "metadata": {
    "ExecuteTime": {
     "end_time": "2017-09-15T13:27:26.244138Z",
     "start_time": "2017-09-15T13:27:26.237487Z"
    }
   },
   "outputs": [
    {
     "data": {
      "text/plain": [
       "140.212"
      ]
     },
     "execution_count": 24,
     "metadata": {},
     "output_type": "execute_result"
    }
   ],
   "source": [
    "len(test_keys)/500"
   ]
  },
  {
   "cell_type": "code",
   "execution_count": null,
   "metadata": {
    "ExecuteTime": {
     "start_time": "2017-09-15T13:29:06.286Z"
    }
   },
   "outputs": [
    {
     "data": {
      "application/vnd.jupyter.widget-view+json": {
       "model_id": "c13a99bf50ef40fe853739fae60a4e12"
      }
     },
     "metadata": {},
     "output_type": "display_data"
    }
   ],
   "source": [
    "test_preds = {}\n",
    "for part in tqdm_notebook(np.array_split(list(test_keys), 100)):\n",
    "    parallelizer = Parallel(n_jobs=cpu_count)\n",
    "    tasks_iterator = ( delayed(predict)(list_block) for \n",
    "                      list_block in np.array_split(list(part), cpu_count) ) \n",
    "    result = parallelizer( tasks_iterator )\n",
    "    for s in result:\n",
    "        test_preds.update(s)"
   ]
  },
  {
   "cell_type": "code",
   "execution_count": null,
   "metadata": {
    "collapsed": true
   },
   "outputs": [],
   "source": [
    "with open('../data/test_preds_0.5.json', 'wb') as f:\n",
    "    json.dump(test_preds, f)"
   ]
  },
  {
   "cell_type": "code",
   "execution_count": null,
   "metadata": {
    "collapsed": true
   },
   "outputs": [],
   "source": [
    "with open('../data/test_preds_0.5.json', 'rb') as f:\n",
    "    test_preds = json.load(f)"
   ]
  },
  {
   "cell_type": "code",
   "execution_count": null,
   "metadata": {
    "collapsed": true
   },
   "outputs": [],
   "source": [
    "with open('../data/sims.json', 'rb') as f:\n",
    "    sims = json.load(f)"
   ]
  },
  {
   "cell_type": "code",
   "execution_count": null,
   "metadata": {
    "collapsed": true
   },
   "outputs": [],
   "source": [
    "result = evaluate(test_preds, sims)\n",
    "\n",
    "ax = result['acc10'].hist()\n",
    "ax.set_xlabel(\"acc10\")\n",
    "plt.show()\n",
    "\n",
    "ax = result['acc20'].hist()\n",
    "ax.set_xlabel(\"acc20\")\n",
    "plt.show()\n",
    "\n",
    "ax = result['acc200'].hist()\n",
    "ax.set_xlabel(\"acc200\")\n",
    "plt.show()"
   ]
  },
  {
   "cell_type": "markdown",
   "metadata": {
    "heading_collapsed": true
   },
   "source": [
    "# Develop"
   ]
  },
  {
   "cell_type": "code",
   "execution_count": 59,
   "metadata": {
    "ExecuteTime": {
     "end_time": "2017-09-08T14:25:11.326800Z",
     "start_time": "2017-09-08T14:25:11.199178Z"
    },
    "hidden": true,
    "scrolled": true
   },
   "outputs": [
    {
     "name": "stdout",
     "output_type": "stream",
     "text": [
      "[ 0  1  2  3  4  5  6  7  8  9 10 11 12 13 14 15 16 17 18 19 20 21 22 23 24\n",
      " 25 26 27 28 29 30 31 32 33 34 35 36 37 38 39 40 41 42 43 44 45 46 47 48 49\n",
      " 50 51 52 53 54 55 56 57 58 59 60 61 62 63 64 65 66 67 68 69 70 71 72 73 74\n",
      " 75 76 77 78 79 80 81 82 83 84 85 86 87 88 89 90 91 92 93 94 95 96 97 98]\n"
     ]
    }
   ],
   "source": [
    "g = tf.Graph()\n",
    "with g.as_default():\n",
    "    tf.set_random_seed(0)\n",
    "    sess = tf.Session()\n",
    "    with sess.as_default():\n",
    "        \n",
    "        r = list(range(100))\n",
    "        ziped = zip(r[:-1], r[1:])\n",
    "        t = tf.convert_to_tensor(ziped)\n",
    "        \n",
    "        def f(el):\n",
    "            return el[0]\n",
    "        \n",
    "#         elems = np.array([1, 2, 3, 4, 5, 6])\n",
    "#         squares = tf.map_fn(lambda x: x * x, elems)\n",
    "\n",
    "        \n",
    "        m = tf.map_fn(f, t)\n",
    "            \n",
    "        sess.run(tf.global_variables_initializer())\n",
    "        \n",
    "        [res] = sess.run([m])\n",
    "        print(res)\n"
   ]
  }
 ],
 "metadata": {
  "kernelspec": {
   "display_name": "Python 2",
   "language": "python",
   "name": "python2"
  },
  "language_info": {
   "codemirror_mode": {
    "name": "ipython",
    "version": 2
   },
   "file_extension": ".py",
   "mimetype": "text/x-python",
   "name": "python",
   "nbconvert_exporter": "python",
   "pygments_lexer": "ipython2",
   "version": "2.7.12"
  }
 },
 "nbformat": 4,
 "nbformat_minor": 2
}
