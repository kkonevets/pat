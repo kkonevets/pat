{
 "cells": [
  {
   "cell_type": "code",
   "execution_count": 1,
   "metadata": {
    "ExecuteTime": {
     "end_time": "2017-09-14T14:03:58.736023Z",
     "start_time": "2017-09-14T14:03:56.644201Z"
    },
    "collapsed": true
   },
   "outputs": [],
   "source": [
    "import numpy as np\n",
    "from common import *\n",
    "\n",
    "import os, time\n",
    "import tflearn\n",
    "from io import StringIO\n",
    "import copy\n",
    "import pickle\n",
    "from functools import partial\n",
    "import cnn\n",
    "import data_flow\n",
    "\n",
    "from sklearn.model_selection import train_test_split"
   ]
  },
  {
   "cell_type": "markdown",
   "metadata": {
    "heading_collapsed": true
   },
   "source": [
    "# Prepare word vectors"
   ]
  },
  {
   "cell_type": "code",
   "execution_count": 2,
   "metadata": {
    "ExecuteTime": {
     "end_time": "2017-09-08T16:14:46.853741Z",
     "start_time": "2017-09-08T16:14:42.297088Z"
    },
    "hidden": true,
    "scrolled": false
   },
   "outputs": [
    {
     "name": "stderr",
     "output_type": "stream",
     "text": [
      "2017-09-08 19:14:42,298 [MainThread  ] [INFO ]  loading Word2Vec object from ../data/vectors/w2v_model_300_w10\n",
      "2017-09-08 19:14:44,446 [MainThread  ] [INFO ]  loading wv recursively from ../data/vectors/w2v_model_300_w10.wv.* with mmap=None\n",
      "2017-09-08 19:14:44,447 [MainThread  ] [INFO ]  loading syn0 from ../data/vectors/w2v_model_300_w10.wv.syn0.npy with mmap=None\n",
      "2017-09-08 19:14:44,594 [MainThread  ] [INFO ]  setting ignored attribute syn0norm to None\n",
      "2017-09-08 19:14:44,595 [MainThread  ] [INFO ]  loading syn1neg from ../data/vectors/w2v_model_300_w10.syn1neg.npy with mmap=None\n",
      "2017-09-08 19:14:44,736 [MainThread  ] [INFO ]  setting ignored attribute cum_table to None\n",
      "2017-09-08 19:14:44,737 [MainThread  ] [INFO ]  loaded ../data/vectors/w2v_model_300_w10\n"
     ]
    }
   ],
   "source": [
    "w2v_model = Word2Vec.load(join(DATA_FOLDER, 'vectors/w2v_model_300_w10'))"
   ]
  },
  {
   "cell_type": "code",
   "execution_count": 21,
   "metadata": {
    "ExecuteTime": {
     "end_time": "2017-09-08T10:58:55.126588Z",
     "start_time": "2017-09-08T10:58:53.880286Z"
    },
    "collapsed": true,
    "hidden": true
   },
   "outputs": [],
   "source": [
    "word_embeddings = w2v_model.wv.syn0.copy()\n",
    "index2word = copy.deepcopy(w2v_model.wv.index2word)\n",
    "del w2v_model"
   ]
  },
  {
   "cell_type": "code",
   "execution_count": 22,
   "metadata": {
    "ExecuteTime": {
     "end_time": "2017-09-08T10:58:57.877549Z",
     "start_time": "2017-09-08T10:58:55.128389Z"
    },
    "collapsed": true,
    "hidden": true
   },
   "outputs": [],
   "source": [
    "index2word.insert(0, 'PAD')\n",
    "with open(join(DATA_FOLDER, \"dictionary.pickle\"), \"wb\") as output_file:\n",
    "    pickle.dump(index2word, output_file)"
   ]
  },
  {
   "cell_type": "code",
   "execution_count": 17,
   "metadata": {
    "ExecuteTime": {
     "end_time": "2017-09-06T12:29:29.157151Z",
     "start_time": "2017-09-06T12:28:38.836197Z"
    },
    "hidden": true
   },
   "outputs": [
    {
     "data": {
      "text/plain": [
       "count    680760.000000\n",
       "mean          0.193705\n",
       "std           0.070574\n",
       "min           0.000910\n",
       "25%           0.137368\n",
       "50%           0.178099\n",
       "75%           0.244486\n",
       "max           0.744395\n",
       "dtype: float64"
      ]
     },
     "execution_count": 17,
     "metadata": {},
     "output_type": "execute_result"
    }
   ],
   "source": [
    "stds = np.apply_along_axis(np.std, 1, word_embeddings)\n",
    "pd.Series(stds).describe()"
   ]
  },
  {
   "cell_type": "code",
   "execution_count": 18,
   "metadata": {
    "ExecuteTime": {
     "end_time": "2017-09-06T12:29:29.175545Z",
     "start_time": "2017-09-06T12:29:29.159459Z"
    },
    "hidden": true
   },
   "outputs": [
    {
     "data": {
      "text/plain": [
       "0.20150940312078128"
      ]
     },
     "execution_count": 18,
     "metadata": {},
     "output_type": "execute_result"
    }
   ],
   "source": [
    "# 0.34 is chosen so the unknown vectors have (approximately) same variance as pre-trained ones\n",
    "pad_vec = np.random.uniform(-0.34,0.34, word_embeddings.shape[1])\n",
    "np.std(pad_vec)"
   ]
  },
  {
   "cell_type": "code",
   "execution_count": 19,
   "metadata": {
    "ExecuteTime": {
     "end_time": "2017-09-06T12:29:29.621377Z",
     "start_time": "2017-09-06T12:29:29.177828Z"
    },
    "collapsed": true,
    "hidden": true
   },
   "outputs": [],
   "source": [
    "word_embeddings = np.insert(word_embeddings, 0, pad_vec, axis=0)"
   ]
  },
  {
   "cell_type": "code",
   "execution_count": 20,
   "metadata": {
    "ExecuteTime": {
     "end_time": "2017-09-06T12:29:36.303189Z",
     "start_time": "2017-09-06T12:29:29.623782Z"
    },
    "collapsed": true,
    "hidden": true
   },
   "outputs": [],
   "source": [
    "np.save(join(DATA_FOLDER, 'word_embeddings_%s.npy' % word_embeddings.shape[1]), word_embeddings)"
   ]
  },
  {
   "cell_type": "markdown",
   "metadata": {},
   "source": [
    "# Load input data"
   ]
  },
  {
   "cell_type": "code",
   "execution_count": 2,
   "metadata": {
    "ExecuteTime": {
     "end_time": "2017-09-14T14:04:01.536188Z",
     "start_time": "2017-09-14T14:03:59.687025Z"
    },
    "collapsed": true
   },
   "outputs": [],
   "source": [
    "word_embeddings = np.load(join(DATA_FOLDER, 'word_embeddings_300.npy'))\n",
    "with open(join(DATA_FOLDER, \"dictionary.pickle\"), \"rb\") as input_file:\n",
    "    index2word = pickle.load(input_file)"
   ]
  },
  {
   "cell_type": "code",
   "execution_count": 3,
   "metadata": {
    "ExecuteTime": {
     "end_time": "2017-09-14T14:04:04.805719Z",
     "start_time": "2017-09-14T14:04:01.537705Z"
    },
    "collapsed": true,
    "scrolled": true
   },
   "outputs": [],
   "source": [
    "ids = glob('../data/corpus/**.txt')\n",
    "with open(join(DATA_FOLDER, 'sims.json'), 'r') as f:\n",
    "    sims = json.load(f)"
   ]
  },
  {
   "cell_type": "code",
   "execution_count": 4,
   "metadata": {
    "ExecuteTime": {
     "end_time": "2017-09-14T14:04:14.160239Z",
     "start_time": "2017-09-14T14:04:04.807440Z"
    }
   },
   "outputs": [
    {
     "name": "stderr",
     "output_type": "stream",
     "text": [
      "100%|██████████| 368458/368458 [00:07<00:00, 51165.42it/s]\n"
     ]
    },
    {
     "name": "stdout",
     "output_type": "stream",
     "text": [
      "(619669, 68853, 76503)\n"
     ]
    }
   ],
   "source": [
    "triples_all = list(data_flow.random_triples(sims, ids, num_epochs=1, seed=1))\n",
    "_triples, triples_test = train_test_split(triples_all, test_size=0.1, random_state=0)\n",
    "triples_train, triples_val = train_test_split(_triples, test_size=0.1, random_state=0)\n",
    "\n",
    "print(len(triples_train), len(triples_val), len(triples_test))"
   ]
  },
  {
   "cell_type": "code",
   "execution_count": 5,
   "metadata": {
    "ExecuteTime": {
     "end_time": "2017-09-14T14:04:14.166446Z",
     "start_time": "2017-09-14T14:04:14.162227Z"
    },
    "collapsed": true
   },
   "outputs": [],
   "source": [
    "# triples_all = pd.read_csv(join(DATA_FOLDER, 'mpk_flow.csv.gz'), sep=' ', header=None)\n",
    "# triples_all = triples_all[triples_all[2] != '59a969f1782b1b893a912539']"
   ]
  },
  {
   "cell_type": "code",
   "execution_count": 6,
   "metadata": {
    "ExecuteTime": {
     "end_time": "2017-09-14T14:04:14.171417Z",
     "start_time": "2017-09-14T14:04:14.168458Z"
    },
    "collapsed": true
   },
   "outputs": [],
   "source": [
    "def add_fname(_id):\n",
    "    return join(DATA_FOLDER, 'corpus', _id + '.txt')"
   ]
  },
  {
   "cell_type": "code",
   "execution_count": 7,
   "metadata": {
    "ExecuteTime": {
     "end_time": "2017-09-14T14:04:14.193490Z",
     "start_time": "2017-09-14T14:04:14.173188Z"
    },
    "collapsed": true
   },
   "outputs": [],
   "source": [
    "# triples_train, triples_val, triples_test = [], [], []\n",
    "# for epoch_data in np.array_split(triples_all, 3)[:1]:\n",
    "#     _triples, _test = train_test_split(epoch_data, test_size=0.1, random_state=0, shuffle=False)\n",
    "#     _train, _val = train_test_split(_triples, test_size=0.1, random_state=0, shuffle=False)\n",
    "\n",
    "#     triples_train += [[add_fname(a), add_fname(b), add_fname(c)] for a,b,c in _train.values]\n",
    "#     triples_val += [[add_fname(a), add_fname(b), add_fname(c)] for a,b,c in _val.values]\n",
    "#     triples_test += [[add_fname(a), add_fname(b), add_fname(c)] for a,b,c in _test.values]\n",
    "    \n",
    "# logging.info('train %s val %s test %s' % (len(triples_train), len(triples_val), len(triples_test)))"
   ]
  },
  {
   "cell_type": "code",
   "execution_count": 8,
   "metadata": {
    "ExecuteTime": {
     "end_time": "2017-09-14T14:04:14.207758Z",
     "start_time": "2017-09-14T14:04:14.195912Z"
    },
    "collapsed": true
   },
   "outputs": [],
   "source": [
    "vocab_size, embedding_size = word_embeddings.shape\n",
    "n_sents, n_words = 123, 40\n",
    "batch_size = 64\n",
    "num_epochs = 1\n",
    "learning_rate = 0.001\n",
    "\n",
    "sent_filter_sizes = [1, 2, 3, 4, 5]\n",
    "sent_nb_filter = 10\n",
    "sent_embed_size = 128\n",
    "sent_kmax = 4\n",
    "\n",
    "doc_filter_sizes = [1, 2, 3, 4, 5]\n",
    "doc_nb_filter = 10\n",
    "doc_embed_size = 200\n",
    "doc_kmax = 4"
   ]
  },
  {
   "cell_type": "markdown",
   "metadata": {},
   "source": [
    "# Train"
   ]
  },
  {
   "cell_type": "code",
   "execution_count": 10,
   "metadata": {
    "ExecuteTime": {
     "end_time": "2017-09-14T14:05:34.046098Z",
     "start_time": "2017-09-14T14:04:31.129748Z"
    },
    "scrolled": true
   },
   "outputs": [
    {
     "name": "stderr",
     "output_type": "stream",
     "text": [
      "2017-09-14 17:04:31,165 [MainThread  ] [INFO ]  start training ...\n",
      "2017-09-14 17:04:31,537 [MainThread  ] [INFO ]  sent_out_size 200, doc_out_size 200\n",
      "2017-09-14 17:04:31,538 [MainThread  ] [INFO ]  sent_embed_size 128, doc_embed_size 200\n",
      "2017-09-14 17:04:54,435 [MainThread  ] [INFO ]  step 1, loss 0.493278\n",
      "2017-09-14 17:05:13,541 [MainThread  ] [INFO ]  step 2, loss 0.453561\n",
      "2017-09-14 17:05:31,858 [MainThread  ] [INFO ]  step 3, loss 0.391074\n",
      "2017-09-14 17:05:31,861 [MainThread  ] [INFO ]  Done training -- epoch limit reached\n",
      "2017-09-14 17:05:34,042 [MainThread  ] [INFO ]  --- 62.8675031662 seconds ---\n"
     ]
    }
   ],
   "source": [
    "reload(cnn)\n",
    "\n",
    "logging.info('start training ...')\n",
    "start_time = time.time()\n",
    "\n",
    "finished = False\n",
    "try:\n",
    "    tf.reset_default_graph()\n",
    "    tf.set_random_seed(0)\n",
    "    session_conf = tf.ConfigProto(\n",
    "        allow_soft_placement=True, log_device_placement=False)\n",
    "    sess = tf.Session(config=session_conf)\n",
    "    with sess.as_default():\n",
    "        X, fnames_batch = data_flow.input_pipeline(\n",
    "            triples_train[:batch_size*3], [n_sents, n_words], \n",
    "            batch_size=batch_size, num_epochs=num_epochs)\n",
    "\n",
    "        model = cnn.TextCNN(\n",
    "            n_sents,\n",
    "            n_words,\n",
    "            vocab_size,\n",
    "            embedding_size,\n",
    "            batch_size,\n",
    "            sent_filter_sizes=sent_filter_sizes,\n",
    "            sent_nb_filter=sent_nb_filter,\n",
    "            sent_embed_size=sent_embed_size,\n",
    "            doc_filter_sizes=doc_filter_sizes,\n",
    "            doc_nb_filter=doc_nb_filter,\n",
    "            doc_embed_size=doc_embed_size,\n",
    "            sent_kmax=sent_kmax,\n",
    "            doc_kmax=doc_kmax,\n",
    "            learning_rate=learning_rate)\n",
    "        train_op = model.optimize(X)\n",
    "\n",
    "        init_local = tf.local_variables_initializer()\n",
    "        init_global = tf.global_variables_initializer()\n",
    "        sess.run([init_global, init_local])\n",
    "\n",
    "        model.init_summary()\n",
    "        #!!!! index is shifted by 1\n",
    "        model.init_lookup_table(word_embeddings)\n",
    "\n",
    "#         pprint([n.name for n in tf.get_default_graph().as_graph_def().node])\n",
    "\n",
    "        coord = tf.train.Coordinator()\n",
    "        threads = tf.train.start_queue_runners(sess=sess, coord=coord)\n",
    "\n",
    "        try:\n",
    "            while not coord.should_stop():\n",
    "                _, step, loss, summary = sess.run([\n",
    "                    train_op, model.global_step, model.loss_op,\n",
    "                    model.merged_summary_op\n",
    "                ], feed_dict = {model.phase: 1})\n",
    "                model.add_summary(summary, step)\n",
    "                logging.info('step %s, loss %s' % (step, loss))\n",
    "        except tf.errors.OutOfRangeError:\n",
    "            logging.info('Done training -- epoch limit reached')\n",
    "        finally:\n",
    "            # When done, ask the threads to stop.\n",
    "            coord.request_stop()\n",
    "\n",
    "        # Wait for threads to finish.\n",
    "        coord.join(threads)\n",
    "        model.save(step)\n",
    "        finished = True\n",
    "\n",
    "except Exception as e:\n",
    "    logging.exception(\"train error\")\n",
    "    send_email('notebook_url', subject='train error', body=e)\n",
    "finally:\n",
    "    if finished:\n",
    "#     send_email('notebook_url', subject='finished training')\n",
    "        pass\n",
    "        \n",
    "logging.info(\"--- %s seconds ---\" % (time.time() - start_time))"
   ]
  },
  {
   "cell_type": "markdown",
   "metadata": {},
   "source": [
    "# Test"
   ]
  },
  {
   "cell_type": "code",
   "execution_count": 7,
   "metadata": {
    "ExecuteTime": {
     "end_time": "2017-09-13T12:55:50.538113Z",
     "start_time": "2017-09-13T12:55:50.266007Z"
    },
    "scrolled": true
   },
   "outputs": [
    {
     "name": "stdout",
     "output_type": "stream",
     "text": [
      "../data/models/2017-09-12 06:48:30.232017-3000.meta\r\n",
      "../data/models/2017-09-13 03:45:02.521079-9682.meta\r\n"
     ]
    }
   ],
   "source": [
    "model_dir = join(DATA_FOLDER, 'models')\n",
    "!ls {model_dir+'/*.meta'}"
   ]
  },
  {
   "cell_type": "code",
   "execution_count": 8,
   "metadata": {
    "ExecuteTime": {
     "end_time": "2017-09-13T12:55:50.552334Z",
     "start_time": "2017-09-13T12:55:50.544712Z"
    },
    "collapsed": true
   },
   "outputs": [],
   "source": [
    "def last_model(model_dir):\n",
    "    fnames = glob(join(model_dir, '*.meta'))\n",
    "    return max(fnames)"
   ]
  },
  {
   "cell_type": "code",
   "execution_count": 9,
   "metadata": {
    "ExecuteTime": {
     "end_time": "2017-09-13T12:55:52.532085Z",
     "start_time": "2017-09-13T12:55:50.558264Z"
    }
   },
   "outputs": [
    {
     "name": "stderr",
     "output_type": "stream",
     "text": [
      "2017-09-13 15:55:52,529 [MainThread  ] [INFO ]  len(chunked) = 422394\n"
     ]
    },
    {
     "name": "stdout",
     "output_type": "stream",
     "text": [
      "['../data/corpus/5984b84fb6b1132eeb638535.txt']\n"
     ]
    }
   ],
   "source": [
    "def chunks(l, n):\n",
    "    \"\"\"Yield successive n-sized chunks from l.\"\"\"\n",
    "    for i in range(0, len(l), n):\n",
    "        yield l[i:i + n]\n",
    "\n",
    "chunked = list(chunks(ids, 3))\n",
    "print(chunked.pop())\n",
    "logging.info('len(chunked) = %s' % len(chunked))"
   ]
  },
  {
   "cell_type": "markdown",
   "metadata": {},
   "source": [
    "https://github.com/aymericdamien/TensorFlow-Examples/blob/master/examples/4_Utils/save_restore_model.py"
   ]
  },
  {
   "cell_type": "code",
   "execution_count": 10,
   "metadata": {
    "ExecuteTime": {
     "end_time": "2017-09-13T12:55:52.548506Z",
     "start_time": "2017-09-13T12:55:52.533873Z"
    },
    "scrolled": true
   },
   "outputs": [
    {
     "ename": "SyntaxError",
     "evalue": "invalid syntax (<ipython-input-10-3fb362e3db47>, line 3)",
     "output_type": "error",
     "traceback": [
      "\u001b[0;36m  File \u001b[0;32m\"<ipython-input-10-3fb362e3db47>\"\u001b[0;36m, line \u001b[0;32m3\u001b[0m\n\u001b[0;31m    res = evaluate(best, gold)from matplotlib import pyplot as plt\u001b[0m\n\u001b[0m                                 ^\u001b[0m\n\u001b[0;31mSyntaxError\u001b[0m\u001b[0;31m:\u001b[0m invalid syntax\n"
     ]
    }
   ],
   "source": [
    "finished = False\n",
    "try:\n",
    "    tf.reset_default_graph()\n",
    "    tf.set_random_seed(0)\n",
    "    session_conf = tf.ConfigProto(\n",
    "        allow_soft_placement=True, log_device_placement=False)\n",
    "    sess = tf.Session(config=session_conf)    \n",
    "    with sess.as_default():\n",
    "        X, fnames_batch = data_flow.input_pipeline(\n",
    "            chunked[:batch_size*100], [n_sents, n_words], batch_size=batch_size, \n",
    "            num_epochs=1, shuffle=False)\n",
    "\n",
    "        init_local = tf.local_variables_initializer()\n",
    "        init_global = tf.global_variables_initializer()\n",
    "        sess.run([init_global, init_local])\n",
    "\n",
    "        # do not restore before global initialization, otherwise all weights are set to default !!!\n",
    "        saver = tf.train.import_meta_graph(last_model(model_dir), input_map={'X':X})\n",
    "        saver.restore(sess, tf.train.latest_checkpoint(model_dir))\n",
    "        graph = tf.get_default_graph()\n",
    "\n",
    "        op_name = 'optimize/loss/doc_embed_normalized'\n",
    "        doc_embed_normalized = graph.get_operation_by_name(op_name).outputs[0]\n",
    "\n",
    "        anchor, positive, negative = tf.unstack(\n",
    "            tf.reshape(doc_embed_normalized, [-1, 3, doc_kmax * doc_nb_filter * len(doc_filter_sizes)]),\n",
    "            3, 1)\n",
    "        _loss = cnn.triplet_loss(anchor, positive, negative)\n",
    "\n",
    "#         pprint([n.name for n in tf.get_default_graph().as_graph_def().node])\n",
    "\n",
    "        doc_embeds, fnames = [], []\n",
    "\n",
    "        coord = tf.train.Coordinator()\n",
    "        threads = tf.train.start_queue_runners(sess=sess, coord=coord)\n",
    "\n",
    "        step = 0\n",
    "        try:\n",
    "            while not coord.should_stop():\n",
    "                [batch_embeds, loss, _names] = sess.run([doc_embed_normalized, \n",
    "                                                         _loss, fnames_batch])\n",
    "                doc_embeds.append(batch_embeds)\n",
    "                fnames += list(_names)\n",
    "                logging.info('step %s, loss %s' % (step, loss))\n",
    "                step+=1\n",
    "        except tf.errors.OutOfRangeError:\n",
    "            logging.info('Done testing -- epoch limit reached')\n",
    "        finally:\n",
    "            # When done, ask the threads to stop.\n",
    "            coord.request_stop()\n",
    "\n",
    "        # Wait for threads to finish.\n",
    "        coord.join(threads)\n",
    "        finished = True\n",
    "        \n",
    "except Exception as e:\n",
    "    logging.exception(\"test error\")\n",
    "#     send_email('notebook_url', subject='test error', body=e)\n",
    "finally:\n",
    "    if finished:\n",
    "#         send_email('notebook_url', subject='finished testing')\n",
    "        pass"
   ]
  },
  {
   "cell_type": "code",
   "execution_count": 55,
   "metadata": {
    "ExecuteTime": {
     "end_time": "2017-09-12T15:31:09.982339Z",
     "start_time": "2017-09-12T15:31:09.962783Z"
    },
    "collapsed": true
   },
   "outputs": [],
   "source": [
    "fnames = np.concatenate(fnames)\n",
    "doc_embeds_reshaped = np.reshape(np.concatenate(doc_embeds), [-1, doc_embed_size])"
   ]
  },
  {
   "cell_type": "code",
   "execution_count": 59,
   "metadata": {
    "ExecuteTime": {
     "end_time": "2017-09-12T19:10:28.933730Z",
     "start_time": "2017-09-12T19:10:28.354514Z"
    },
    "collapsed": true
   },
   "outputs": [],
   "source": [
    "np.save('../data/doc_embeds_reshaped_1ep.npy', doc_embeds_reshaped)\n",
    "np.save('../data/fnames_1ep.npy', fnames)"
   ]
  },
  {
   "cell_type": "code",
   "execution_count": 2,
   "metadata": {
    "ExecuteTime": {
     "end_time": "2017-09-14T08:19:21.931749Z",
     "start_time": "2017-09-14T08:19:21.278961Z"
    }
   },
   "outputs": [],
   "source": [
    "doc_embeds_reshaped = np.load('../data/saved/doc_embeds_reshaped_1ep.npy')\n",
    "fnames = np.load('../data/saved/fnames_1ep.npy')"
   ]
  },
  {
   "cell_type": "code",
   "execution_count": 3,
   "metadata": {
    "ExecuteTime": {
     "end_time": "2017-09-14T08:19:22.715348Z",
     "start_time": "2017-09-14T08:19:22.705160Z"
    }
   },
   "outputs": [
    {
     "data": {
      "text/plain": [
       "1267008"
      ]
     },
     "execution_count": 3,
     "metadata": {},
     "output_type": "execute_result"
    }
   ],
   "source": [
    "len(fnames)"
   ]
  },
  {
   "cell_type": "code",
   "execution_count": 10,
   "metadata": {
    "ExecuteTime": {
     "end_time": "2017-09-14T08:20:18.920266Z",
     "start_time": "2017-09-14T08:20:18.759392Z"
    },
    "scrolled": false
   },
   "outputs": [],
   "source": [
    "ix0 = 12\n",
    "triples_test[ix0]\n",
    "ix = list(fnames).index(triples_test[ix0][0])"
   ]
  },
  {
   "cell_type": "code",
   "execution_count": 127,
   "metadata": {
    "ExecuteTime": {
     "end_time": "2017-09-14T12:48:56.710108Z",
     "start_time": "2017-09-14T12:48:56.684185Z"
    },
    "collapsed": true
   },
   "outputs": [],
   "source": [
    "ix = np.where(fnames == '../data/corpus/59a7bc71782b1b893a56a907.txt')[0][0]"
   ]
  },
  {
   "cell_type": "code",
   "execution_count": 128,
   "metadata": {
    "ExecuteTime": {
     "end_time": "2017-09-14T12:48:57.966390Z",
     "start_time": "2017-09-14T12:48:57.961969Z"
    },
    "collapsed": true
   },
   "outputs": [],
   "source": [
    "test_fn = fnames[ix]\n",
    "test_vec = doc_embeds_reshaped[ix]"
   ]
  },
  {
   "cell_type": "code",
   "execution_count": 129,
   "metadata": {
    "ExecuteTime": {
     "end_time": "2017-09-14T12:48:58.522152Z",
     "start_time": "2017-09-14T12:48:58.515811Z"
    },
    "scrolled": true
   },
   "outputs": [
    {
     "data": {
      "text/plain": [
       "'../data/corpus/59a7bc71782b1b893a56a907.txt'"
      ]
     },
     "execution_count": 129,
     "metadata": {},
     "output_type": "execute_result"
    }
   ],
   "source": [
    "test_fn"
   ]
  },
  {
   "cell_type": "code",
   "execution_count": 130,
   "metadata": {
    "ExecuteTime": {
     "end_time": "2017-09-14T12:48:59.765131Z",
     "start_time": "2017-09-14T12:48:59.078302Z"
    },
    "collapsed": true
   },
   "outputs": [],
   "source": [
    "dists = np.sum(np.square(doc_embeds_reshaped - test_vec), 1)\n",
    "# dists = np.dot(test_vec, doc_embeds_reshaped.T)"
   ]
  },
  {
   "cell_type": "code",
   "execution_count": 131,
   "metadata": {
    "ExecuteTime": {
     "end_time": "2017-09-14T12:49:00.954629Z",
     "start_time": "2017-09-14T12:49:00.732987Z"
    },
    "scrolled": true
   },
   "outputs": [
    {
     "data": {
      "text/plain": [
       "array(['../data/corpus/59a7bc71782b1b893a56a907.txt',\n",
       "       '../data/corpus/5984cfbeb6b11338a36384fe.txt',\n",
       "       '../data/corpus/5984d86bb6b113109c638507.txt',\n",
       "       '../data/corpus/5984dce9b6b113302963854b.txt',\n",
       "       '../data/corpus/5984bcf2b6b1136a25638503.txt',\n",
       "       '../data/corpus/5984dd1bb6b113327d638515.txt',\n",
       "       '../data/corpus/5984cd3eb6b113213c638546.txt',\n",
       "       '../data/corpus/5984b8e6b6b1133958638537.txt',\n",
       "       '../data/corpus/5984cdaeb6b1132599638507.txt',\n",
       "       '../data/corpus/5984c642b6b113570e638543.txt',\n",
       "       '../data/corpus/5984ce73b6b1132a4263852a.txt',\n",
       "       '../data/corpus/5984cf9fb6b113369b638542.txt',\n",
       "       '../data/corpus/5984d4f5b6b1136a556384f1.txt',\n",
       "       '../data/corpus/5984c780b6b11367b863850e.txt',\n",
       "       '../data/corpus/5984c9f0b6b11301a363850b.txt',\n",
       "       '../data/corpus/5984cfe5b6b11339ba638540.txt',\n",
       "       '../data/corpus/5984b786b6b1132559638505.txt',\n",
       "       '../data/corpus/5984def2b6b1133d2a6384f4.txt',\n",
       "       '../data/corpus/5984dac4b6b1131d496384f4.txt',\n",
       "       '../data/corpus/5984b7ddb6b113296e63854e.txt',\n",
       "       '../data/corpus/5984cd32b6b11321376384f1.txt',\n",
       "       '../data/corpus/5984d590b6b11374a863853f.txt',\n",
       "       '../data/corpus/5984dcc2b6b1132f00638515.txt',\n",
       "       '../data/corpus/5984bd10b6b1136b616384fb.txt',\n",
       "       '../data/corpus/5984cc54b6b1131a6363851e.txt',\n",
       "       '../data/corpus/5984b9b9b6b113433063851e.txt',\n",
       "       '../data/corpus/5984d238b6b1134e4563853a.txt',\n",
       "       '../data/corpus/5984d808b6b11308f36384f5.txt',\n",
       "       '../data/corpus/5984c42cb6b11343c06384f0.txt',\n",
       "       '../data/corpus/5984dd94b6b11335766384fe.txt',\n",
       "       '../data/corpus/5984d46db6b113652f638520.txt',\n",
       "       '../data/corpus/5984d23db6b1134f2b6384ef.txt',\n",
       "       '../data/corpus/5984ce8bb6b1132b7c6384f5.txt',\n",
       "       '../data/corpus/5984dd40b6b11333bc6384f9.txt',\n",
       "       '../data/corpus/5984c21cb6b1132c8963853e.txt',\n",
       "       '../data/corpus/5984d5a1b6b11375aa63852b.txt',\n",
       "       '../data/corpus/5984ccf8b6b1131ee9638503.txt',\n",
       "       '../data/corpus/5984b825b6b1132cc2638542.txt',\n",
       "       '../data/corpus/5984c609b6b11355a2638542.txt',\n",
       "       '../data/corpus/5984beb0b6b113013963850d.txt',\n",
       "       '../data/corpus/5984bddab6b1137597638518.txt',\n",
       "       '../data/corpus/5984c4cab6b1134898638521.txt',\n",
       "       '../data/corpus/5984c99fb6b1137de3638502.txt',\n",
       "       '../data/corpus/5984d12ab6b11342ff63854b.txt',\n",
       "       '../data/corpus/5984c1f5b6b1132b8063850b.txt',\n",
       "       '../data/corpus/5984b683b6b1131490638527.txt',\n",
       "       '../data/corpus/5984b61db6b1130b7d6384f1.txt',\n",
       "       '../data/corpus/5984b8feb6b1133a44638548.txt',\n",
       "       '../data/corpus/5984b90ab6b1133b66638501.txt',\n",
       "       '../data/corpus/5984c4e1b6b11349a5638535.txt',\n",
       "       '../data/corpus/5984b5a1b6b113058363851a.txt',\n",
       "       '../data/corpus/5984bb8cb6b1135aed63850a.txt',\n",
       "       '../data/corpus/5984ce9fb6b1132b79638550.txt',\n",
       "       '../data/corpus/5984cf99b6b113369663850d.txt',\n",
       "       '../data/corpus/5984ccdeb6b1131d6563852d.txt',\n",
       "       '../data/corpus/5984d6c9b6b1137dea638528.txt',\n",
       "       '../data/corpus/5984c9eab6b11301a9638507.txt',\n",
       "       '../data/corpus/5984d4a1b6b11366b963850f.txt',\n",
       "       '../data/corpus/5984c64db6b11358516384f2.txt',\n",
       "       '../data/corpus/5984cafbb6b1130a8f63852c.txt',\n",
       "       '../data/corpus/5984bef2b6b11303f86384f7.txt',\n",
       "       '../data/corpus/5984c8b6b6b11370f56384f2.txt',\n",
       "       '../data/corpus/5984b9f7b6b11348b86384fa.txt',\n",
       "       '../data/corpus/5984c3d0b6b113400f63854c.txt',\n",
       "       '../data/corpus/5984c8a9b6b1136fe163853c.txt',\n",
       "       '../data/corpus/5984caf4b6b1130a98638517.txt',\n",
       "       '../data/corpus/5984d7d3b6b11306a063852f.txt',\n",
       "       '../data/corpus/5984de28b6b113373863854d.txt',\n",
       "       '../data/corpus/5984c53bb6b1134f6963853d.txt',\n",
       "       '../data/corpus/5984cb03b6b1130b8c6384f3.txt',\n",
       "       '../data/corpus/5984c69ab6b1135aa9638547.txt',\n",
       "       '../data/corpus/5984b622b6b1130b83638527.txt',\n",
       "       '../data/corpus/5984d249b6b1134f28638529.txt',\n",
       "       '../data/corpus/5984cfacb6b11337ab638511.txt',\n",
       "       '../data/corpus/5984d809b6b11308f96384f6.txt',\n",
       "       '../data/corpus/5984bcd8b6b11368fa638532.txt',\n",
       "       '../data/corpus/5984bad8b6b11350dc638534.txt',\n",
       "       '../data/corpus/5984c783b6b11367c0638519.txt',\n",
       "       '../data/corpus/5984d4eab6b113694163852d.txt',\n",
       "       '../data/corpus/5984c942b6b11379a8638524.txt',\n",
       "       '../data/corpus/5984df46b6b1133f8763854e.txt',\n",
       "       '../data/corpus/5984df32b6b1133e94638549.txt',\n",
       "       '../data/corpus/5984c85bb6b1136d726384fb.txt',\n",
       "       '../data/corpus/5984c177b6b1132203638516.txt',\n",
       "       '../data/corpus/5984d36ab6b1135f34638522.txt',\n",
       "       '../data/corpus/5984d24ab6b1134f2c638536.txt',\n",
       "       '../data/corpus/5984d12ab6b11342ff63854d.txt',\n",
       "       '../data/corpus/5984cae1b6b113096e63852b.txt',\n",
       "       '../data/corpus/5984d809b6b11308f96384f7.txt',\n",
       "       '../data/corpus/5984cfb5b6b113379e638549.txt',\n",
       "       '../data/corpus/5984db5cb6b1132076638524.txt',\n",
       "       '../data/corpus/5984c58cb6b11352cd638507.txt',\n",
       "       '../data/corpus/5984cd6ab6b1132348638514.txt',\n",
       "       '../data/corpus/5984cf25b6b1132e8063852d.txt',\n",
       "       '../data/corpus/5984c3a8b6b1133f03638503.txt',\n",
       "       '../data/corpus/5984d271b6b113514263852a.txt',\n",
       "       '../data/corpus/5984d84bb6b1130dcb63854d.txt',\n",
       "       '../data/corpus/5984d490b6b11366c76384ef.txt',\n",
       "       '../data/corpus/5984cd21b6b1132017638517.txt',\n",
       "       '../data/corpus/5984d133b6b11344176384f8.txt',\n",
       "       '../data/corpus/5984c2f3b6b113340c6384ee.txt',\n",
       "       '../data/corpus/5984bb6eb6b11359ba638507.txt',\n",
       "       '../data/corpus/5984de3db6b11339226384f0.txt',\n",
       "       '../data/corpus/5984dbc6b6b113236f638503.txt',\n",
       "       '../data/corpus/59a7bc5c782b1b893a56a7a3.txt',\n",
       "       '../data/corpus/5984be02b6b11376e563854a.txt',\n",
       "       '../data/corpus/5984d11fb6b113430263851c.txt',\n",
       "       '../data/corpus/5984d4cab6b113683d6384ee.txt',\n",
       "       '../data/corpus/5984c40eb6b113425e638515.txt',\n",
       "       '../data/corpus/5984c0b1b6b1131ae4638532.txt',\n",
       "       '../data/corpus/5984d6b0b6b1137cca638547.txt',\n",
       "       '../data/corpus/5984badbb6b11350f0638542.txt',\n",
       "       '../data/corpus/5984cd55b6b113224463852b.txt',\n",
       "       '../data/corpus/5984cfa1b6b113368c63854e.txt',\n",
       "       '../data/corpus/5984c121b6b1131e77638547.txt',\n",
       "       '../data/corpus/5984d7eab6b11307b3638538.txt',\n",
       "       '../data/corpus/5984d59fb6b11375c363851c.txt',\n",
       "       '../data/corpus/5984b6e7b6b11319d46384f1.txt',\n",
       "       '../data/corpus/5984ba43b6b1134b1d638543.txt',\n",
       "       '../data/corpus/5984dd41b6b11333bc6384fc.txt',\n",
       "       '../data/corpus/5984cd23b6b113202863850e.txt',\n",
       "       '../data/corpus/5984d808b6b11308f36384f2.txt',\n",
       "       '../data/corpus/5984c757b6b113658963854e.txt',\n",
       "       '../data/corpus/5984bfdfb6b1130cb6638520.txt',\n",
       "       '../data/corpus/5984bbfdb6b1135eb1638505.txt',\n",
       "       '../data/corpus/5984c105b6b1131e736384f9.txt',\n",
       "       '../data/corpus/5984cb77b6b113131763851f.txt',\n",
       "       '../data/corpus/5984c3e2b6b113412d6384ff.txt',\n",
       "       '../data/corpus/5984c0b7b6b1131aed638542.txt',\n",
       "       '../data/corpus/5984dd2cb6b1133270638539.txt',\n",
       "       '../data/corpus/5984defdb6b1133d3663852d.txt',\n",
       "       '../data/corpus/5984c782b6b11367c5638507.txt',\n",
       "       '../data/corpus/5984d888b6b11311bf6384ee.txt',\n",
       "       '../data/corpus/5984d7bfb6b1130583638539.txt',\n",
       "       '../data/corpus/5984c2f3b6b113340b6384ef.txt',\n",
       "       '../data/corpus/5984c4d1b6b11348ab63854f.txt',\n",
       "       '../data/corpus/5984cfccb6b11338af63854c.txt',\n",
       "       '../data/corpus/5984ca37b6b113033c63853a.txt',\n",
       "       '../data/corpus/5984bd05b6b1136a33638535.txt',\n",
       "       '../data/corpus/5984c38db6b1133de2638502.txt',\n",
       "       '../data/corpus/5984b702b6b1131ac8638517.txt',\n",
       "       '../data/corpus/5984bd0fb6b1136b5f6384f4.txt',\n",
       "       '../data/corpus/5984cacab6b1130862638516.txt',\n",
       "       '../data/corpus/5984dcaeb6b1132dd8638540.txt',\n",
       "       '../data/corpus/5984cf9ab6b113369863851d.txt',\n",
       "       '../data/corpus/5984def7b6b1133d37638516.txt',\n",
       "       '../data/corpus/5984bbb5b6b1135c23638527.txt',\n",
       "       '../data/corpus/5984bb1ab6b1135735638511.txt',\n",
       "       '../data/corpus/5984caeeb6b1130a836384fa.txt',\n",
       "       '../data/corpus/5984d4e1b6b11369326384fb.txt',\n",
       "       '../data/corpus/5984c82ab6b1136c08638511.txt',\n",
       "       '../data/corpus/5984dd52b6b11333ae63853f.txt',\n",
       "       '../data/corpus/5984db32b6b1131ec463854c.txt',\n",
       "       '../data/corpus/5984cd55b6b113224463852d.txt',\n",
       "       '../data/corpus/5984d3cfb6b113620363850d.txt',\n",
       "       '../data/corpus/5984db1bb6b1131ed5638525.txt',\n",
       "       '../data/corpus/5984c299b6b1133152638500.txt',\n",
       "       '../data/corpus/5984c8a9b6b1136fea63853c.txt',\n",
       "       '../data/corpus/5984cbdfb6b11317a1638515.txt',\n",
       "       '../data/corpus/5984b5f5b6b113095f63851b.txt',\n",
       "       '../data/corpus/5984d7e4b6b11307b863850a.txt',\n",
       "       '../data/corpus/5984bcbdb6b11367e6638538.txt',\n",
       "       '../data/corpus/5984d88ab6b11311d56384f9.txt',\n",
       "       '../data/corpus/5984d322b6b1135ce7638503.txt',\n",
       "       '../data/corpus/5984c5efb6b1135591638506.txt',\n",
       "       '../data/corpus/5984dcc6b6b1132f10638529.txt',\n",
       "       '../data/corpus/5984d285b6b1135240638541.txt',\n",
       "       '../data/corpus/5984d5a2b6b11375a563851d.txt',\n",
       "       '../data/corpus/5984d273b6b113513f63853f.txt',\n",
       "       '../data/corpus/5984bc8db6b11366b563850b.txt',\n",
       "       '../data/corpus/5984d24ab6b1134f31638531.txt',\n",
       "       '../data/corpus/5984d23eb6b1134f3d6384f6.txt',\n",
       "       '../data/corpus/5984cadfb6b113096d638520.txt',\n",
       "       '../data/corpus/5984bad4b6b11350e1638506.txt',\n",
       "       '../data/corpus/5984b84bb6b1132ee3638516.txt',\n",
       "       '../data/corpus/5984c5b9b6b11354346384fb.txt',\n",
       "       '../data/corpus/5984d4f0b6b1136947638541.txt',\n",
       "       '../data/corpus/5984b6eab6b11319cf63850d.txt',\n",
       "       '../data/corpus/5984b5afb6b11306706384f9.txt',\n",
       "       '../data/corpus/5984d899b6b11311ce638528.txt',\n",
       "       '../data/corpus/5984d246b6b1134f38638529.txt',\n",
       "       '../data/corpus/5984c38fb6b1133ddc63850b.txt',\n",
       "       '../data/corpus/5984bfadb6b1130a3a63853a.txt',\n",
       "       '../data/corpus/5984c288b6b1133011638540.txt',\n",
       "       '../data/corpus/5984d58ab6b1137499638524.txt',\n",
       "       '../data/corpus/5984c820b6b1136bfc6384f1.txt',\n",
       "       '../data/corpus/5984d62fb6b11379ae638516.txt',\n",
       "       '../data/corpus/5984ca8cb6b1130654638501.txt',\n",
       "       '../data/corpus/5984cb44b6b1131040638518.txt',\n",
       "       '../data/corpus/5984ccf7b6b1131ee86384ff.txt',\n",
       "       '../data/corpus/5984ce31b6b11328e06384ee.txt',\n",
       "       '../data/corpus/5984df27b6b1133e836384f9.txt',\n",
       "       '../data/corpus/5984b61eb6b1130b7f63850c.txt',\n",
       "       '../data/corpus/5984dc49b6b11328fe6384f7.txt',\n",
       "       '../data/corpus/5984d4dfb6b113694e6384f4.txt',\n",
       "       '../data/corpus/5984cba8b6b113155d63851d.txt',\n",
       "       '../data/corpus/5984cfcbb6b11338a7638541.txt',\n",
       "       '../data/corpus/5984c837b6b1136c1563852a.txt',\n",
       "       '../data/corpus/5984ca97b6b113065d638516.txt',\n",
       "       '../data/corpus/5984dc43b6b113280a63851f.txt',\n",
       "       '../data/corpus/5984d50eb6b1136b4963850b.txt'], dtype=object)"
      ]
     },
     "execution_count": 131,
     "metadata": {},
     "output_type": "execute_result"
    }
   ],
   "source": [
    "ixs = dists.argsort()\n",
    "fnames[ixs][:201]"
   ]
  },
  {
   "cell_type": "code",
   "execution_count": 132,
   "metadata": {
    "ExecuteTime": {
     "end_time": "2017-09-14T12:49:13.540433Z",
     "start_time": "2017-09-14T12:49:13.528486Z"
    },
    "scrolled": true
   },
   "outputs": [
    {
     "data": {
      "text/plain": [
       "array([ 0.        ,  0.02907977,  0.03442571, ...,  1.85054684,\n",
       "        1.85697806,  1.85725558], dtype=float32)"
      ]
     },
     "execution_count": 132,
     "metadata": {},
     "output_type": "execute_result"
    }
   ],
   "source": [
    "dists[ixs]"
   ]
  },
  {
   "cell_type": "code",
   "execution_count": 25,
   "metadata": {
    "ExecuteTime": {
     "end_time": "2017-09-14T08:39:48.750198Z",
     "start_time": "2017-09-14T08:39:48.608699Z"
    }
   },
   "outputs": [
    {
     "data": {
      "text/plain": [
       "['../data/corpus/5984c280b6b113301e638537.txt']"
      ]
     },
     "execution_count": 25,
     "metadata": {},
     "output_type": "execute_result"
    }
   ],
   "source": [
    "[fn for fn in fnames if '5984c280b6b113301e638537' in fn]"
   ]
  },
  {
   "cell_type": "code",
   "execution_count": 133,
   "metadata": {
    "ExecuteTime": {
     "end_time": "2017-09-14T12:49:17.993778Z",
     "start_time": "2017-09-14T12:49:17.836897Z"
    }
   },
   "outputs": [
    {
     "data": {
      "text/plain": [
       "(array([24]),)"
      ]
     },
     "execution_count": 133,
     "metadata": {},
     "output_type": "execute_result"
    }
   ],
   "source": [
    "np.where(fnames[ixs] == '../data/corpus/5984cc54b6b1131a6363851e.txt')"
   ]
  },
  {
   "cell_type": "code",
   "execution_count": 21,
   "metadata": {
    "ExecuteTime": {
     "end_time": "2017-09-12T18:26:46.879346Z",
     "start_time": "2017-09-12T18:26:46.871292Z"
    },
    "collapsed": true
   },
   "outputs": [],
   "source": [
    "s = []\n",
    "lnames = list(fnames)\n",
    "for k, v in tqdm_notebook(gold.items()):\n",
    "    ix = lnames.index(add_fname(k))\n",
    "    test_vec = doc_embeds_reshaped[ix]\n",
    "    dists = np.sum(np.square(doc_embeds_reshaped - test_vec), 1)\n",
    "    ixs = dists.argsort()    \n",
    "    for vi in v:\n",
    "        _ix = np.where(fnames[ixs] == add_fname(vi))[0][0]\n",
    "        s.append(_ix)"
   ]
  },
  {
   "cell_type": "code",
   "execution_count": 56,
   "metadata": {
    "ExecuteTime": {
     "end_time": "2017-09-13T08:28:53.602098Z",
     "start_time": "2017-09-13T08:28:53.448346Z"
    },
    "scrolled": true
   },
   "outputs": [
    {
     "name": "stdout",
     "output_type": "stream",
     "text": [
      "count       279.000000\n",
      "mean      16495.856631\n",
      "std       47597.870286\n",
      "min           1.000000\n",
      "25%         176.500000\n",
      "50%        1607.000000\n",
      "75%       13824.500000\n",
      "max      536779.000000\n",
      "dtype: float64\n"
     ]
    },
    {
     "data": {
      "image/png": "[encoded data removed]",
      "text/plain": [
       "<matplotlib.figure.Figure at 0x7f2774772dd0>"
      ]
     },
     "metadata": {},
     "output_type": "display_data"
    }
   ],
   "source": [
    "ss = pd.Series(s)\n",
    "print(ss.describe())\n",
    "ss[:].hist()\n",
    "plt.show()"
   ]
  },
  {
   "cell_type": "code",
   "execution_count": 116,
   "metadata": {
    "ExecuteTime": {
     "end_time": "2017-09-14T10:35:43.684223Z",
     "start_time": "2017-09-14T10:35:43.681046Z"
    }
   },
   "outputs": [],
   "source": [
    "with open(join(DATA_FOLDER, 'gold_mongo.json'), 'r') as f:\n",
    "    gold = json.load(f)"
   ]
  },
  {
   "cell_type": "code",
   "execution_count": 117,
   "metadata": {
    "ExecuteTime": {
     "end_time": "2017-09-14T10:38:35.820211Z",
     "start_time": "2017-09-14T10:35:45.134522Z"
    },
    "scrolled": true
   },
   "outputs": [
    {
     "data": {
      "application/vnd.jupyter.widget-view+json": {
       "model_id": "9856ebf0a65343c8998059bab256d8a3"
      }
     },
     "metadata": {},
     "output_type": "display_data"
    },
    {
     "name": "stdout",
     "output_type": "stream",
     "text": [
      "\n"
     ]
    }
   ],
   "source": [
    "best = {}\n",
    "lnames = list(fnames)\n",
    "for k in tqdm_notebook(gold.keys()):\n",
    "    ix = lnames.index(add_fname(k))\n",
    "    test_vec = doc_embeds_reshaped[ix]\n",
    "    dists = np.sum(np.square(doc_embeds_reshaped - test_vec), 1)\n",
    "#     dists = np.dot(test_vec, doc_embeds_reshaped.T)\n",
    "    ixs = dists.argsort()[1:201]\n",
    "    best[k] = [basename(n).split('.')[0] for n in fnames[ixs]]"
   ]
  },
  {
   "cell_type": "code",
   "execution_count": 18,
   "metadata": {
    "ExecuteTime": {
     "end_time": "2017-09-13T12:46:54.515599Z",
     "start_time": "2017-09-13T12:46:54.494757Z"
    },
    "collapsed": true
   },
   "outputs": [],
   "source": [
    "def evaluate(preds, gold):\n",
    "    result = []\n",
    "    for key, val in preds.items():\n",
    "        true_val = gold[key]\n",
    "        gold_len = len(true_val)\n",
    "\n",
    "        inter10 = set(val[0:10]).intersection(true_val)\n",
    "        inter20 = set(val[0:20]).intersection(true_val)\n",
    "        inter200 = set(val[0:200]).intersection(true_val)\n",
    "\n",
    "        acc10 = len(inter10)/gold_len\n",
    "        acc20 = len(inter20)/gold_len\n",
    "        acc200 = len(inter200)/gold_len\n",
    "\n",
    "        result.append([acc10, acc20, acc200])\n",
    "\n",
    "    result = pd.DataFrame(result, columns=['acc10', 'acc20', 'acc200'])\n",
    "    \n",
    "    print('median')\n",
    "    print(result.median(axis=0))\n",
    "    \n",
    "    print('mean')\n",
    "    print(result.mean(axis=0))\n",
    "    \n",
    "    ax = result['acc10'].hist()\n",
    "    ax.set_xlabel(\"acc10\")\n",
    "    plt.show()\n",
    "    \n",
    "    ax = result['acc20'].hist()\n",
    "    ax.set_xlabel(\"acc20\")\n",
    "    plt.show()\n",
    "    \n",
    "    ax = result['acc200'].hist()\n",
    "    ax.set_xlabel(\"acc200\")\n",
    "    plt.show()\n",
    "    \n",
    "    return result\n"
   ]
  },
  {
   "cell_type": "code",
   "execution_count": 19,
   "metadata": {
    "ExecuteTime": {
     "end_time": "2017-09-13T12:46:56.450964Z",
     "start_time": "2017-09-13T12:46:55.995666Z"
    },
    "scrolled": true
   },
   "outputs": [
    {
     "name": "stdout",
     "output_type": "stream",
     "text": [
      "median\n",
      "acc10     0.0\n",
      "acc20     0.0\n",
      "acc200    0.0\n",
      "dtype: float64\n",
      "mean\n",
      "acc10     0.0\n",
      "acc20     0.0\n",
      "acc200    0.0\n",
      "dtype: float64\n"
     ]
    },
    {
     "data": {
      "image/png": "[encoded data removed]",
      "text/plain": [
       "<matplotlib.figure.Figure at 0x7f65e8655710>"
      ]
     },
     "metadata": {},
     "output_type": "display_data"
    },
    {
     "data": {
      "image/png": "[encoded data removed]",
      "text/plain": [
       "<matplotlib.figure.Figure at 0x7f65e855c5d0>"
      ]
     },
     "metadata": {},
     "output_type": "display_data"
    },
    {
     "data": {
      "image/png": "[encoded data removed]",
      "text/plain": [
       "<matplotlib.figure.Figure at 0x7f65e844a550>"
      ]
     },
     "metadata": {},
     "output_type": "display_data"
    }
   ],
   "source": [
    "from matplotlib import pyplot as plt\n",
    "\n",
    "res = evaluate(best, gold)"
   ]
  },
  {
   "cell_type": "markdown",
   "metadata": {
    "heading_collapsed": true
   },
   "source": [
    "# Develop"
   ]
  },
  {
   "cell_type": "code",
   "execution_count": 26,
   "metadata": {
    "ExecuteTime": {
     "end_time": "2017-09-13T16:53:48.950211Z",
     "start_time": "2017-09-13T16:53:48.913076Z"
    },
    "hidden": true,
    "scrolled": true
   },
   "outputs": [
    {
     "name": "stdout",
     "output_type": "stream",
     "text": [
      "[array([ 0.], dtype=float32), 1.5]\n"
     ]
    }
   ],
   "source": [
    "g = tf.Graph()\n",
    "with g.as_default():\n",
    "    tf.set_random_seed(0)\n",
    "    sess = tf.Session()\n",
    "    with sess.as_default():\n",
    "        \n",
    "        anchor_embed = tf.constant([[1,1]], dtype=tf.float32)\n",
    "        positive_embed = tf.constant([[1,0]], dtype=tf.float32)\n",
    "        negative_embed = tf.constant([[-1,1]], dtype=tf.float32)\n",
    "        l = cosine_triplet_loss(anchor_embed, positive_embed, negative_embed)\n",
    "\n",
    "        d = tf.acos(tf.reduce_sum(tf.multiply(anchor_embed, positive_embed), 1))/m.pi\n",
    "        \n",
    "        sess.run(tf.global_variables_initializer())\n",
    "        \n",
    "        res = sess.run([d, l])\n",
    "        print(res)\n",
    "\n",
    "#         train_writer = tf.summary.FileWriter('../data/summary', sess.graph)"
   ]
  },
  {
   "cell_type": "code",
   "execution_count": 59,
   "metadata": {
    "ExecuteTime": {
     "end_time": "2017-09-08T14:25:11.326800Z",
     "start_time": "2017-09-08T14:25:11.199178Z"
    },
    "hidden": true,
    "scrolled": true
   },
   "outputs": [
    {
     "name": "stdout",
     "output_type": "stream",
     "text": [
      "[ 0  1  2  3  4  5  6  7  8  9 10 11 12 13 14 15 16 17 18 19 20 21 22 23 24\n",
      " 25 26 27 28 29 30 31 32 33 34 35 36 37 38 39 40 41 42 43 44 45 46 47 48 49\n",
      " 50 51 52 53 54 55 56 57 58 59 60 61 62 63 64 65 66 67 68 69 70 71 72 73 74\n",
      " 75 76 77 78 79 80 81 82 83 84 85 86 87 88 89 90 91 92 93 94 95 96 97 98]\n"
     ]
    }
   ],
   "source": [
    "g = tf.Graph()\n",
    "with g.as_default():\n",
    "    tf.set_random_seed(0)\n",
    "    sess = tf.Session()\n",
    "    with sess.as_default():\n",
    "        \n",
    "        r = list(range(100))\n",
    "        ziped = zip(r[:-1], r[1:])\n",
    "        t = tf.convert_to_tensor(ziped)\n",
    "        \n",
    "        def f(el):\n",
    "            return el[0]\n",
    "        \n",
    "#         elems = np.array([1, 2, 3, 4, 5, 6])\n",
    "#         squares = tf.map_fn(lambda x: x * x, elems)\n",
    "\n",
    "        \n",
    "        m = tf.map_fn(f, t)\n",
    "            \n",
    "        sess.run(tf.global_variables_initializer())\n",
    "        \n",
    "        [res] = sess.run([m])\n",
    "        print(res)\n"
   ]
  },
  {
   "cell_type": "code",
   "execution_count": 38,
   "metadata": {
    "ExecuteTime": {
     "end_time": "2017-09-08T14:17:41.840210Z",
     "start_time": "2017-09-08T14:17:41.835072Z"
    },
    "hidden": true
   },
   "outputs": [
    {
     "data": {
      "text/plain": [
       "array([[  0,   1],\n",
       "       [  1,   2],\n",
       "       [  2,   3],\n",
       "       ..., \n",
       "       [996, 997],\n",
       "       [997, 998],\n",
       "       [998, 999]], dtype=int32)"
      ]
     },
     "execution_count": 38,
     "metadata": {},
     "output_type": "execute_result"
    }
   ],
   "source": [
    "tt"
   ]
  }
 ],
 "metadata": {
  "kernelspec": {
   "display_name": "Python 2",
   "language": "python",
   "name": "python2"
  },
  "language_info": {
   "codemirror_mode": {
    "name": "ipython",
    "version": 2
   },
   "file_extension": ".py",
   "mimetype": "text/x-python",
   "name": "python",
   "nbconvert_exporter": "python",
   "pygments_lexer": "ipython2",
   "version": "2.7.12"
  }
 },
 "nbformat": 4,
 "nbformat_minor": 2
}
