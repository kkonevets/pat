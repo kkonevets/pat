{
 "cells": [
  {
   "cell_type": "code",
   "execution_count": 1,
   "metadata": {
    "ExecuteTime": {
     "end_time": "2017-08-02T21:07:09.939616Z",
     "start_time": "2017-08-02T21:06:51.047403Z"
    }
   },
   "outputs": [
    {
     "name": "stderr",
     "output_type": "stream",
     "text": [
      "Using TensorFlow backend.\n"
     ]
    }
   ],
   "source": [
    "from common import *"
   ]
  },
  {
   "cell_type": "code",
   "execution_count": 2,
   "metadata": {
    "ExecuteTime": {
     "end_time": "2017-08-02T21:07:10.197278Z",
     "start_time": "2017-08-02T21:07:09.940935Z"
    },
    "collapsed": true
   },
   "outputs": [],
   "source": [
    "all_docs = get_all_docs(DATA_FOLDER)\n",
    "val_docs = sorted(glob(join(DATA_FOLDER, 'validate/*.txt')))\n",
    "ziped_files = sorted(glob(DATA_FOLDER + '/documents/*.gz'), key=natural_keys)"
   ]
  },
  {
   "cell_type": "code",
   "execution_count": 3,
   "metadata": {
    "ExecuteTime": {
     "end_time": "2017-08-02T21:07:14.382564Z",
     "start_time": "2017-08-02T21:07:10.198713Z"
    },
    "scrolled": false
   },
   "outputs": [
    {
     "name": "stderr",
     "output_type": "stream",
     "text": [
      "2017-08-03 00:07:10,200 : INFO : loading Word2Vec object from ../data/vectors/w2v_model_300_w10\n",
      "2017-08-03 00:07:12,369 : INFO : loading wv recursively from ../data/vectors/w2v_model_300_w10.wv.* with mmap=None\n",
      "2017-08-03 00:07:12,370 : INFO : loading syn0 from ../data/vectors/w2v_model_300_w10.wv.syn0.npy with mmap=None\n",
      "2017-08-03 00:07:12,532 : INFO : setting ignored attribute syn0norm to None\n",
      "2017-08-03 00:07:12,533 : INFO : loading syn1neg from ../data/vectors/w2v_model_300_w10.syn1neg.npy with mmap=None\n",
      "2017-08-03 00:07:12,685 : INFO : setting ignored attribute cum_table to None\n",
      "2017-08-03 00:07:12,686 : INFO : loaded ../data/vectors/w2v_model_300_w10\n"
     ]
    }
   ],
   "source": [
    "w2v_model = gensim.models.Word2Vec.load(join(DATA_FOLDER, 'vectors/w2v_model_300_w10'))\n",
    "wv = w2v_model.wv"
   ]
  },
  {
   "cell_type": "markdown",
   "metadata": {},
   "source": [
    "# Save corpus as single file"
   ]
  },
  {
   "cell_type": "code",
   "execution_count": 4,
   "metadata": {
    "ExecuteTime": {
     "end_time": "2017-08-02T21:07:14.397047Z",
     "start_time": "2017-08-02T21:07:14.383962Z"
    },
    "scrolled": true
   },
   "outputs": [],
   "source": [
    "def save_corpus(fname, ziped_files, wv):\n",
    "    with open(fname, 'w') as f:\n",
    "        for fn in tqdm(ziped_files):\n",
    "            with GzipFile(fn, 'r') as gzf:\n",
    "                text = gzf.read()\n",
    "            docs = json.loads(text)\n",
    "            for doc in docs:\n",
    "                sents = [(' ').join([str(wv.vocab[w].index) for w in sent if w in wv]) for sent in doc]\n",
    "                doc_str = (' . ').join([s for s in sents if s != ''])\n",
    "                f.write(doc_str + '\\n')"
   ]
  },
  {
   "cell_type": "code",
   "execution_count": 5,
   "metadata": {
    "ExecuteTime": {
     "end_time": "2017-08-02T21:07:14.405210Z",
     "start_time": "2017-08-02T21:07:14.398468Z"
    },
    "scrolled": true
   },
   "outputs": [],
   "source": [
    "# corpus_file = join(DATA_FOLDER, \"corpus.txt\")\n",
    "# save_corpus(corpus_file, ziped_files, wv)"
   ]
  },
  {
   "cell_type": "markdown",
   "metadata": {},
   "source": [
    "# Iterate over corpus efficiently"
   ]
  },
  {
   "cell_type": "code",
   "execution_count": 9,
   "metadata": {
    "ExecuteTime": {
     "end_time": "2017-08-02T21:07:32.109938Z",
     "start_time": "2017-08-02T21:07:32.094085Z"
    }
   },
   "outputs": [],
   "source": [
    "def iterate_docs(corpus_file, wv, batch_size=100, chunk_size=10):\n",
    "    \"\"\"\n",
    "    batch_size - number of file lines in one chunk\n",
    "    \"\"\"\n",
    "    with GzipFile(corpus_file, 'r') as f:\n",
    "        while True:\n",
    "            chunk_lines = list(islice(f, batch_size*chunk_size))\n",
    "            if not chunk_lines:\n",
    "                return\n",
    "            \n",
    "            for batch_lines in np.array_split(chunk_lines, batch_size):\n",
    "                for line in batch_lines:\n",
    "                    doc = line.decode('utf-8').split('.')\n",
    "                    vectorized_doc = [wv.syn0[[int(ix) for ix in sent.split()]] for sent in doc]\n",
    "                    yield vectorized_doc"
   ]
  },
  {
   "cell_type": "code",
   "execution_count": 7,
   "metadata": {
    "ExecuteTime": {
     "end_time": "2017-08-02T21:07:14.438439Z",
     "start_time": "2017-08-02T21:07:14.421081Z"
    },
    "collapsed": true
   },
   "outputs": [],
   "source": [
    "def gen_batches(corpus_file, wv, batch_size):\n",
    "    it = iterate_docs(corpus_file, wv, batch_size)\n",
    "    while True:\n",
    "        batch = tuple(islice(it, batch_size))\n",
    "        if not batch:\n",
    "            return\n",
    "        yield batch"
   ]
  },
  {
   "cell_type": "code",
   "execution_count": null,
   "metadata": {
    "ExecuteTime": {
     "start_time": "2017-08-02T21:07:33.086Z"
    },
    "scrolled": true
   },
   "outputs": [
    {
     "name": "stdout",
     "output_type": "stream",
     "text": [
      "3000\n",
      "6000\n",
      "9000\n",
      "12000\n",
      "15000\n",
      "18000\n",
      "21000\n",
      "24000\n",
      "27000\n",
      "30000\n",
      "33000\n",
      "36000\n",
      "39000\n",
      "42000\n",
      "45000\n",
      "48000\n",
      "51000\n",
      "54000\n",
      "57000\n"
     ]
    }
   ],
   "source": [
    "batch_size = 100\n",
    "\n",
    "corpus_file = join(DATA_FOLDER, \"corpus.txt.gz\")\n",
    "\n",
    "gen = gen_batches(corpus_file, wv, batch_size)\n",
    "\n",
    "# islice(gen, len(all_docs) - 10, None)\n",
    "tot = 0\n",
    "for batch in gen:\n",
    "    tot += len(batch)\n",
    "    if tot % 3000 == 0:\n",
    "        print(tot)"
   ]
  },
  {
   "cell_type": "code",
   "execution_count": 9,
   "metadata": {
    "ExecuteTime": {
     "end_time": "2017-08-02T20:09:23.443820Z",
     "start_time": "2017-08-02T20:09:23.087611Z"
    }
   },
   "outputs": [],
   "source": [
    "with GzipFile(ziped_files[-1], 'r') as f:\n",
    "    text = f.read()\n",
    "docs = json.loads(text)\n"
   ]
  },
  {
   "cell_type": "code",
   "execution_count": null,
   "metadata": {
    "collapsed": true
   },
   "outputs": [],
   "source": [
    "last_doc = docs[-1]"
   ]
  },
  {
   "cell_type": "code",
   "execution_count": 37,
   "metadata": {
    "ExecuteTime": {
     "end_time": "2017-08-02T20:39:26.138023Z",
     "start_time": "2017-08-02T20:26:51.551102Z"
    },
    "scrolled": true
   },
   "outputs": [
    {
     "name": "stdout",
     "output_type": "stream",
     "text": [
      "1\n",
      "3001\n",
      "6001\n",
      "9001\n",
      "12001\n",
      "15001\n",
      "18001\n",
      "21001\n",
      "24001\n",
      "27001\n",
      "30001\n",
      "33001\n",
      "36001\n",
      "39001\n",
      "42001\n",
      "45001\n",
      "48001\n",
      "51001\n",
      "54001\n",
      "57001\n",
      "60001\n",
      "63001\n",
      "66001\n",
      "69001\n",
      "72001\n",
      "75001\n",
      "78001\n",
      "81001\n",
      "84001\n",
      "87001\n",
      "90001\n",
      "93001\n",
      "96001\n",
      "99001\n",
      "102001\n",
      "105001\n",
      "108001\n",
      "111001\n",
      "114001\n",
      "117001\n",
      "120001\n",
      "123001\n",
      "126001\n",
      "129001\n",
      "132001\n",
      "135001\n",
      "138001\n",
      "141001\n",
      "144001\n",
      "147001\n",
      "150001\n",
      "153001\n",
      "156001\n",
      "159001\n",
      "162001\n",
      "165001\n",
      "168001\n",
      "171001\n",
      "174001\n",
      "177001\n",
      "180001\n",
      "183001\n",
      "186001\n",
      "189001\n",
      "192001\n",
      "195001\n",
      "198001\n",
      "201001\n",
      "204001\n",
      "207001\n",
      "210001\n",
      "213001\n",
      "216001\n",
      "219001\n",
      "222001\n",
      "225001\n",
      "228001\n",
      "231001\n",
      "234001\n",
      "237001\n",
      "240001\n",
      "243001\n",
      "246001\n",
      "249001\n",
      "252001\n",
      "255001\n",
      "258001\n",
      "261001\n",
      "264001\n",
      "267001\n",
      "270001\n",
      "273001\n",
      "276001\n",
      "279001\n",
      "282001\n",
      "285001\n",
      "288001\n",
      "291001\n",
      "294001\n",
      "297001\n",
      "300001\n",
      "303001\n",
      "306001\n",
      "309001\n",
      "312001\n",
      "315001\n",
      "318001\n",
      "321001\n",
      "324001\n",
      "327001\n",
      "330001\n",
      "333001\n",
      "336001\n",
      "339001\n",
      "342001\n",
      "345001\n",
      "348001\n",
      "351001\n",
      "354001\n",
      "357001\n",
      "360001\n",
      "363001\n",
      "366001\n",
      "369001\n",
      "372001\n",
      "375001\n",
      "378001\n",
      "381001\n",
      "384001\n",
      "387001\n",
      "390001\n",
      "393001\n",
      "396001\n",
      "399001\n",
      "402001\n",
      "405001\n",
      "408001\n",
      "411001\n",
      "414001\n",
      "417001\n",
      "420001\n",
      "423001\n",
      "426001\n",
      "429001\n",
      "432001\n",
      "435001\n",
      "438001\n",
      "441001\n",
      "444001\n",
      "447001\n",
      "450001\n",
      "453001\n",
      "456001\n",
      "459001\n",
      "462001\n",
      "465001\n",
      "468001\n",
      "471001\n",
      "474001\n",
      "477001\n",
      "480001\n",
      "483001\n",
      "486001\n",
      "489001\n",
      "492001\n",
      "495001\n",
      "498001\n",
      "501001\n",
      "504001\n",
      "507001\n",
      "510001\n",
      "513001\n",
      "516001\n",
      "519001\n",
      "522001\n",
      "525001\n",
      "528001\n",
      "531001\n",
      "534001\n",
      "537001\n",
      "540001\n",
      "543001\n",
      "546001\n",
      "549001\n",
      "552001\n",
      "555001\n",
      "558001\n",
      "561001\n",
      "564001\n",
      "567001\n",
      "570001\n",
      "573001\n",
      "576001\n",
      "579001\n",
      "582001\n",
      "585001\n",
      "588001\n",
      "591001\n",
      "594001\n",
      "597001\n",
      "600001\n",
      "603001\n",
      "606001\n",
      "609001\n",
      "612001\n",
      "615001\n",
      "618001\n",
      "621001\n",
      "624001\n",
      "627001\n",
      "630001\n",
      "633001\n",
      "636001\n",
      "639001\n",
      "642001\n",
      "645001\n",
      "648001\n",
      "651001\n",
      "654001\n",
      "657001\n",
      "660001\n",
      "663001\n",
      "666001\n",
      "669001\n",
      "672001\n",
      "675001\n",
      "678001\n",
      "681001\n",
      "684001\n",
      "687001\n",
      "690001\n",
      "693001\n",
      "696001\n",
      "699001\n",
      "702001\n",
      "705001\n",
      "708001\n",
      "711001\n",
      "714001\n",
      "717001\n",
      "720001\n",
      "723001\n",
      "726001\n",
      "729001\n",
      "732001\n",
      "735001\n",
      "738001\n",
      "741001\n",
      "744001\n",
      "747001\n",
      "750001\n",
      "753001\n",
      "756001\n",
      "759001\n",
      "762001\n",
      "765001\n",
      "768001\n",
      "771001\n",
      "774001\n",
      "777001\n",
      "780001\n",
      "783001\n",
      "786001\n",
      "789001\n",
      "792001\n",
      "795001\n",
      "798001\n",
      "801001\n",
      "804001\n",
      "807001\n",
      "810001\n",
      "813001\n",
      "816001\n",
      "819001\n",
      "822001\n",
      "825001\n",
      "828001\n",
      "831001\n",
      "834001\n",
      "837001\n",
      "840001\n",
      "843001\n",
      "846001\n",
      "849001\n",
      "852001\n",
      "855001\n",
      "858001\n",
      "861001\n",
      "864001\n",
      "867001\n",
      "870001\n",
      "873001\n",
      "876001\n",
      "879001\n",
      "882001\n",
      "885001\n",
      "888001\n",
      "891001\n",
      "894001\n",
      "897001\n",
      "900001\n",
      "903001\n",
      "906001\n",
      "909001\n",
      "912001\n",
      "915001\n",
      "918001\n",
      "921001\n",
      "924001\n",
      "927001\n",
      "930001\n",
      "933001\n",
      "936001\n",
      "939001\n",
      "942001\n",
      "945001\n",
      "948001\n",
      "951001\n",
      "954001\n",
      "957001\n",
      "960001\n",
      "963001\n",
      "966001\n",
      "969001\n",
      "972001\n",
      "975001\n",
      "978001\n",
      "981001\n",
      "984001\n",
      "987001\n",
      "990001\n",
      "993001\n",
      "996001\n",
      "999001\n",
      "1002001\n",
      "1005001\n",
      "1008001\n",
      "1011001\n",
      "1014001\n",
      "1017001\n",
      "1020001\n"
     ]
    },
    {
     "ename": "ValueError",
     "evalue": "invalid literal for int() with base 10: ''",
     "output_type": "error",
     "traceback": [
      "\u001b[0;31m---------------------------------------------------------------------------\u001b[0m",
      "\u001b[0;31mValueError\u001b[0m                                Traceback (most recent call last)",
      "\u001b[0;32m<ipython-input-37-a52e4cc79c81>\u001b[0m in \u001b[0;36m<module>\u001b[0;34m()\u001b[0m\n\u001b[1;32m      1\u001b[0m \u001b[0mit\u001b[0m \u001b[0;34m=\u001b[0m \u001b[0miterate_docs\u001b[0m\u001b[0;34m(\u001b[0m\u001b[0mcorpus_file\u001b[0m\u001b[0;34m,\u001b[0m \u001b[0mwv\u001b[0m\u001b[0;34m,\u001b[0m \u001b[0mbatch_size\u001b[0m\u001b[0;34m)\u001b[0m\u001b[0;34m\u001b[0m\u001b[0m\n\u001b[1;32m      2\u001b[0m \u001b[0;34m\u001b[0m\u001b[0m\n\u001b[0;32m----> 3\u001b[0;31m \u001b[0;32mfor\u001b[0m \u001b[0mi\u001b[0m\u001b[0;34m,\u001b[0m \u001b[0mdoc\u001b[0m \u001b[0;32min\u001b[0m \u001b[0menumerate\u001b[0m\u001b[0;34m(\u001b[0m\u001b[0mit\u001b[0m\u001b[0;34m)\u001b[0m\u001b[0;34m:\u001b[0m\u001b[0;34m\u001b[0m\u001b[0m\n\u001b[0m\u001b[1;32m      4\u001b[0m     \u001b[0;32mif\u001b[0m \u001b[0mi\u001b[0m\u001b[0;34m%\u001b[0m\u001b[0;36m3000\u001b[0m \u001b[0;34m==\u001b[0m \u001b[0;36m1\u001b[0m\u001b[0;34m:\u001b[0m\u001b[0;34m\u001b[0m\u001b[0m\n\u001b[1;32m      5\u001b[0m         \u001b[0mprint\u001b[0m\u001b[0;34m(\u001b[0m\u001b[0mi\u001b[0m\u001b[0;34m)\u001b[0m\u001b[0;34m\u001b[0m\u001b[0m\n",
      "\u001b[0;32m<ipython-input-29-dedf3bb7ff2b>\u001b[0m in \u001b[0;36miterate_docs\u001b[0;34m(corpus_file, wv, batch_size, chunk_size)\u001b[0m\n\u001b[1;32m     12\u001b[0m                 \u001b[0;32mfor\u001b[0m \u001b[0mline\u001b[0m \u001b[0;32min\u001b[0m \u001b[0mbatch_lines\u001b[0m\u001b[0;34m:\u001b[0m\u001b[0;34m\u001b[0m\u001b[0m\n\u001b[1;32m     13\u001b[0m                     \u001b[0mdoc\u001b[0m \u001b[0;34m=\u001b[0m \u001b[0mline\u001b[0m\u001b[0;34m.\u001b[0m\u001b[0mdecode\u001b[0m\u001b[0;34m(\u001b[0m\u001b[0;34m'utf-8'\u001b[0m\u001b[0;34m)\u001b[0m\u001b[0;34m.\u001b[0m\u001b[0msplit\u001b[0m\u001b[0;34m(\u001b[0m\u001b[0;34m'.'\u001b[0m\u001b[0;34m)\u001b[0m\u001b[0;34m\u001b[0m\u001b[0m\n\u001b[0;32m---> 14\u001b[0;31m                     \u001b[0mvectorized_doc\u001b[0m \u001b[0;34m=\u001b[0m \u001b[0;34m[\u001b[0m\u001b[0mwv\u001b[0m\u001b[0;34m.\u001b[0m\u001b[0msyn0\u001b[0m\u001b[0;34m[\u001b[0m\u001b[0;34m[\u001b[0m\u001b[0mint\u001b[0m\u001b[0;34m(\u001b[0m\u001b[0mix\u001b[0m\u001b[0;34m)\u001b[0m \u001b[0;32mfor\u001b[0m \u001b[0mix\u001b[0m \u001b[0;32min\u001b[0m \u001b[0msent\u001b[0m\u001b[0;34m.\u001b[0m\u001b[0mstrip\u001b[0m\u001b[0;34m(\u001b[0m\u001b[0;34m)\u001b[0m\u001b[0;34m.\u001b[0m\u001b[0msplit\u001b[0m\u001b[0;34m(\u001b[0m\u001b[0;34m' '\u001b[0m\u001b[0;34m)\u001b[0m\u001b[0;34m]\u001b[0m\u001b[0;34m]\u001b[0m \u001b[0;32mfor\u001b[0m \u001b[0msent\u001b[0m \u001b[0;32min\u001b[0m \u001b[0mdoc\u001b[0m\u001b[0;34m]\u001b[0m\u001b[0;34m\u001b[0m\u001b[0m\n\u001b[0m\u001b[1;32m     15\u001b[0m                     \u001b[0;32myield\u001b[0m \u001b[0mvectorized_doc\u001b[0m\u001b[0;34m\u001b[0m\u001b[0m\n",
      "\u001b[0;32m<ipython-input-29-dedf3bb7ff2b>\u001b[0m in \u001b[0;36m<listcomp>\u001b[0;34m(.0)\u001b[0m\n\u001b[1;32m     12\u001b[0m                 \u001b[0;32mfor\u001b[0m \u001b[0mline\u001b[0m \u001b[0;32min\u001b[0m \u001b[0mbatch_lines\u001b[0m\u001b[0;34m:\u001b[0m\u001b[0;34m\u001b[0m\u001b[0m\n\u001b[1;32m     13\u001b[0m                     \u001b[0mdoc\u001b[0m \u001b[0;34m=\u001b[0m \u001b[0mline\u001b[0m\u001b[0;34m.\u001b[0m\u001b[0mdecode\u001b[0m\u001b[0;34m(\u001b[0m\u001b[0;34m'utf-8'\u001b[0m\u001b[0;34m)\u001b[0m\u001b[0;34m.\u001b[0m\u001b[0msplit\u001b[0m\u001b[0;34m(\u001b[0m\u001b[0;34m'.'\u001b[0m\u001b[0;34m)\u001b[0m\u001b[0;34m\u001b[0m\u001b[0m\n\u001b[0;32m---> 14\u001b[0;31m                     \u001b[0mvectorized_doc\u001b[0m \u001b[0;34m=\u001b[0m \u001b[0;34m[\u001b[0m\u001b[0mwv\u001b[0m\u001b[0;34m.\u001b[0m\u001b[0msyn0\u001b[0m\u001b[0;34m[\u001b[0m\u001b[0;34m[\u001b[0m\u001b[0mint\u001b[0m\u001b[0;34m(\u001b[0m\u001b[0mix\u001b[0m\u001b[0;34m)\u001b[0m \u001b[0;32mfor\u001b[0m \u001b[0mix\u001b[0m \u001b[0;32min\u001b[0m \u001b[0msent\u001b[0m\u001b[0;34m.\u001b[0m\u001b[0mstrip\u001b[0m\u001b[0;34m(\u001b[0m\u001b[0;34m)\u001b[0m\u001b[0;34m.\u001b[0m\u001b[0msplit\u001b[0m\u001b[0;34m(\u001b[0m\u001b[0;34m' '\u001b[0m\u001b[0;34m)\u001b[0m\u001b[0;34m]\u001b[0m\u001b[0;34m]\u001b[0m \u001b[0;32mfor\u001b[0m \u001b[0msent\u001b[0m \u001b[0;32min\u001b[0m \u001b[0mdoc\u001b[0m\u001b[0;34m]\u001b[0m\u001b[0;34m\u001b[0m\u001b[0m\n\u001b[0m\u001b[1;32m     15\u001b[0m                     \u001b[0;32myield\u001b[0m \u001b[0mvectorized_doc\u001b[0m\u001b[0;34m\u001b[0m\u001b[0m\n",
      "\u001b[0;32m<ipython-input-29-dedf3bb7ff2b>\u001b[0m in \u001b[0;36m<listcomp>\u001b[0;34m(.0)\u001b[0m\n\u001b[1;32m     12\u001b[0m                 \u001b[0;32mfor\u001b[0m \u001b[0mline\u001b[0m \u001b[0;32min\u001b[0m \u001b[0mbatch_lines\u001b[0m\u001b[0;34m:\u001b[0m\u001b[0;34m\u001b[0m\u001b[0m\n\u001b[1;32m     13\u001b[0m                     \u001b[0mdoc\u001b[0m \u001b[0;34m=\u001b[0m \u001b[0mline\u001b[0m\u001b[0;34m.\u001b[0m\u001b[0mdecode\u001b[0m\u001b[0;34m(\u001b[0m\u001b[0;34m'utf-8'\u001b[0m\u001b[0;34m)\u001b[0m\u001b[0;34m.\u001b[0m\u001b[0msplit\u001b[0m\u001b[0;34m(\u001b[0m\u001b[0;34m'.'\u001b[0m\u001b[0;34m)\u001b[0m\u001b[0;34m\u001b[0m\u001b[0m\n\u001b[0;32m---> 14\u001b[0;31m                     \u001b[0mvectorized_doc\u001b[0m \u001b[0;34m=\u001b[0m \u001b[0;34m[\u001b[0m\u001b[0mwv\u001b[0m\u001b[0;34m.\u001b[0m\u001b[0msyn0\u001b[0m\u001b[0;34m[\u001b[0m\u001b[0;34m[\u001b[0m\u001b[0mint\u001b[0m\u001b[0;34m(\u001b[0m\u001b[0mix\u001b[0m\u001b[0;34m)\u001b[0m \u001b[0;32mfor\u001b[0m \u001b[0mix\u001b[0m \u001b[0;32min\u001b[0m \u001b[0msent\u001b[0m\u001b[0;34m.\u001b[0m\u001b[0mstrip\u001b[0m\u001b[0;34m(\u001b[0m\u001b[0;34m)\u001b[0m\u001b[0;34m.\u001b[0m\u001b[0msplit\u001b[0m\u001b[0;34m(\u001b[0m\u001b[0;34m' '\u001b[0m\u001b[0;34m)\u001b[0m\u001b[0;34m]\u001b[0m\u001b[0;34m]\u001b[0m \u001b[0;32mfor\u001b[0m \u001b[0msent\u001b[0m \u001b[0;32min\u001b[0m \u001b[0mdoc\u001b[0m\u001b[0;34m]\u001b[0m\u001b[0;34m\u001b[0m\u001b[0m\n\u001b[0m\u001b[1;32m     15\u001b[0m                     \u001b[0;32myield\u001b[0m \u001b[0mvectorized_doc\u001b[0m\u001b[0;34m\u001b[0m\u001b[0m\n",
      "\u001b[0;31mValueError\u001b[0m: invalid literal for int() with base 10: ''"
     ]
    }
   ],
   "source": [
    "it = iterate_docs(corpus_file, wv, batch_size)\n",
    "\n",
    "for i, doc in enumerate(it):\n",
    "    if i%3000 == 1:\n",
    "        print(i)"
   ]
  },
  {
   "cell_type": "code",
   "execution_count": 39,
   "metadata": {
    "ExecuteTime": {
     "end_time": "2017-08-02T20:41:09.597188Z",
     "start_time": "2017-08-02T20:41:09.591707Z"
    }
   },
   "outputs": [
    {
     "data": {
      "text/plain": [
       "1022449"
      ]
     },
     "execution_count": 39,
     "metadata": {},
     "output_type": "execute_result"
    }
   ],
   "source": [
    "i"
   ]
  },
  {
   "cell_type": "code",
   "execution_count": 40,
   "metadata": {
    "ExecuteTime": {
     "end_time": "2017-08-02T20:57:40.764001Z",
     "start_time": "2017-08-02T20:57:40.757026Z"
    }
   },
   "outputs": [
    {
     "data": {
      "text/plain": [
       "False"
      ]
     },
     "execution_count": 40,
     "metadata": {},
     "output_type": "execute_result"
    }
   ],
   "source": [
    "i == len(all_docs)-1"
   ]
  },
  {
   "cell_type": "code",
   "execution_count": 48,
   "metadata": {
    "ExecuteTime": {
     "end_time": "2017-08-02T21:03:56.297291Z",
     "start_time": "2017-08-02T21:03:56.291521Z"
    }
   },
   "outputs": [
    {
     "data": {
      "text/plain": [
       "['df', 'dffd']"
      ]
     },
     "execution_count": 48,
     "metadata": {},
     "output_type": "execute_result"
    }
   ],
   "source": [
    "' df     dffd   '.split()"
   ]
  }
 ],
 "metadata": {
  "kernelspec": {
   "display_name": "Python 3",
   "language": "python",
   "name": "python3"
  },
  "language_info": {
   "codemirror_mode": {
    "name": "ipython",
    "version": 3
   },
   "file_extension": ".py",
   "mimetype": "text/x-python",
   "name": "python",
   "nbconvert_exporter": "python",
   "pygments_lexer": "ipython3",
   "version": "3.6.1"
  }
 },
 "nbformat": 4,
 "nbformat_minor": 2
}
