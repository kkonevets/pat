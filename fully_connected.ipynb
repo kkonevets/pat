{
 "cells": [
  {
   "cell_type": "code",
   "execution_count": 1,
   "metadata": {
    "ExecuteTime": {
     "end_time": "2017-09-25T10:07:56.109655Z",
     "start_time": "2017-09-25T10:07:55.030438Z"
    },
    "collapsed": true
   },
   "outputs": [],
   "source": [
    "from common import *\n",
    "from sklearn.metrics.pairwise import cosine_similarity"
   ]
  },
  {
   "cell_type": "markdown",
   "metadata": {},
   "source": [
    "# Prepare data"
   ]
  },
  {
   "cell_type": "code",
   "execution_count": 2,
   "metadata": {
    "ExecuteTime": {
     "end_time": "2017-09-25T10:07:58.856418Z",
     "start_time": "2017-09-25T10:07:57.064701Z"
    }
   },
   "outputs": [],
   "source": [
    "word_embeddings = np.load(join(DATA_FOLDER, 'word_embeddings_300.npy'))\n",
    "with open(join(DATA_FOLDER, \"dictionary.pickle\"), \"rb\") as input_file:\n",
    "    index2word = pickle.load(input_file)"
   ]
  },
  {
   "cell_type": "code",
   "execution_count": 3,
   "metadata": {
    "ExecuteTime": {
     "end_time": "2017-09-25T10:08:04.526685Z",
     "start_time": "2017-09-25T10:08:02.658857Z"
    },
    "collapsed": true
   },
   "outputs": [],
   "source": [
    "fnames = glob('../data/corpus/**.txt')\n",
    "with open(join(DATA_FOLDER, 'gold_mongo.json'), 'r') as f:\n",
    "    gold = json.load(f)"
   ]
  },
  {
   "cell_type": "code",
   "execution_count": null,
   "metadata": {
    "ExecuteTime": {
     "start_time": "2017-09-25T10:29:49.800Z"
    },
    "scrolled": true
   },
   "outputs": [
    {
     "data": {
      "application/vnd.jupyter.widget-view+json": {
       "model_id": "5dedc83db2ce40a990beae56e20a0fba"
      }
     },
     "metadata": {},
     "output_type": "display_data"
    },
    {
     "name": "stdout",
     "output_type": "stream",
     "text": [
      "../data/corpus/5984b653b6b11311aa638537.txt\n",
      "../data/corpus/5984b69db6b1131591638547.txt\n",
      "../data/corpus/5984b6fdb6b1131ae26384f4.txt\n",
      "../data/corpus/5984b667b6b11313926384f7.txt\n",
      "../data/corpus/5984b690b6b113159263850f.txt\n",
      "../data/corpus/5984b65db6b1131294638541.txt\n",
      "../data/corpus/5984b6bab6b11317b963851c.txt\n",
      "../data/corpus/5984b592b6b113049f638531.txt\n",
      "../data/corpus/5984b6bab6b11317a16384fd.txt\n",
      "../data/corpus/5984b6a3b6b11316a563850e.txt\n",
      "../data/corpus/5984b589b6b11304986384fd.txt\n",
      "../data/corpus/5984b6c1b6b11317b0638527.txt\n",
      "../data/corpus/5984b6bbb6b11317a163852f.txt\n",
      "../data/corpus/5984b6bbb6b11317a1638546.txt\n",
      "../data/corpus/5984b58fb6b1130489638517.txt\n",
      "../data/corpus/5984b68fb6b11315926384f3.txt\n",
      "../data/corpus/5984b68fb6b1131592638508.txt\n"
     ]
    }
   ],
   "source": [
    "docs = []\n",
    "ids = []\n",
    "for fn in tqdm_notebook(fnames[:]):\n",
    "    with open(fn, 'rb') as f:\n",
    "        ixs = [int(_ix) for _ix in f.read().split()]\n",
    "    if len(ixs) == 0:\n",
    "        print(fn)\n",
    "        continue\n",
    "    doc_vec = word_embeddings[ixs].mean(axis=0)\n",
    "    docs.append(doc_vec)\n",
    "    ids.append(basename(fn).split('.')[0])"
   ]
  },
  {
   "cell_type": "code",
   "execution_count": null,
   "metadata": {
    "ExecuteTime": {
     "start_time": "2017-09-25T10:30:10.898Z"
    },
    "collapsed": true
   },
   "outputs": [],
   "source": [
    "np.save('../data/avged_docs.npy', docs)\n",
    "np.save('../data/avged_ids.npy', ids)"
   ]
  },
  {
   "cell_type": "code",
   "execution_count": null,
   "metadata": {
    "collapsed": true
   },
   "outputs": [],
   "source": [
    "docs = np.load('../data/avged_docs.npy')\n",
    "ids = np.load('../data/avged_ids.npy')"
   ]
  },
  {
   "cell_type": "markdown",
   "metadata": {},
   "source": [
    "# try unsupervised"
   ]
  },
  {
   "cell_type": "code",
   "execution_count": null,
   "metadata": {
    "collapsed": true
   },
   "outputs": [],
   "source": [
    "sim_mat = cosine_similarity(val_vecs, train_vecs)"
   ]
  },
  {
   "cell_type": "code",
   "execution_count": null,
   "metadata": {
    "collapsed": true
   },
   "outputs": [],
   "source": [
    "best = {}\n",
    "for i, vec in enumerate(tqdm(sim_mat)):\n",
    "    val_name = val_names[i]\n",
    "    train_ixs = vec.argsort()[-200:][::-1]\n",
    "    top_train = [train_names[i] for i in train_ixs]\n",
    "    best[val_name] = top_train"
   ]
  },
  {
   "cell_type": "code",
   "execution_count": null,
   "metadata": {
    "collapsed": true
   },
   "outputs": [],
   "source": [
    "result = evaluate(preds, gold)\n",
    "\n",
    "ax = result['acc10'].hist()\n",
    "ax.set_xlabel(\"acc10\")\n",
    "plt.show()\n",
    "\n",
    "ax = result['acc20'].hist()\n",
    "ax.set_xlabel(\"acc20\")\n",
    "plt.show()\n",
    "\n",
    "ax = result['acc200'].hist()\n",
    "ax.set_xlabel(\"acc200\")\n",
    "plt.show()"
   ]
  },
  {
   "cell_type": "markdown",
   "metadata": {},
   "source": [
    "# try supervised"
   ]
  },
  {
   "cell_type": "code",
   "execution_count": null,
   "metadata": {
    "collapsed": true
   },
   "outputs": [],
   "source": []
  }
 ],
 "metadata": {
  "kernelspec": {
   "display_name": "Python 2",
   "language": "python",
   "name": "python2"
  },
  "language_info": {
   "codemirror_mode": {
    "name": "ipython",
    "version": 2
   },
   "file_extension": ".py",
   "mimetype": "text/x-python",
   "name": "python",
   "nbconvert_exporter": "python",
   "pygments_lexer": "ipython2",
   "version": "2.7.12"
  }
 },
 "nbformat": 4,
 "nbformat_minor": 2
}
