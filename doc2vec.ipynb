{
 "cells": [
  {
   "cell_type": "code",
   "execution_count": 1,
   "metadata": {
    "ExecuteTime": {
     "end_time": "2017-09-28T17:12:21.826842Z",
     "start_time": "2017-09-28T17:12:20.325106Z"
    },
    "collapsed": true
   },
   "outputs": [],
   "source": [
    "from common import *\n",
    "import smart_open"
   ]
  },
  {
   "cell_type": "code",
   "execution_count": 2,
   "metadata": {
    "ExecuteTime": {
     "end_time": "2017-09-28T17:12:21.833315Z",
     "start_time": "2017-09-28T17:12:21.829170Z"
    },
    "collapsed": true
   },
   "outputs": [],
   "source": [
    "with open(join(DATA_FOLDER, 'gold_mongo.json'), 'r') as f:\n",
    "    gold = json.load(f)"
   ]
  },
  {
   "cell_type": "code",
   "execution_count": null,
   "metadata": {
    "ExecuteTime": {
     "start_time": "2017-09-28T17:12:20.341Z"
    },
    "collapsed": true
   },
   "outputs": [],
   "source": [
    "def iter_docs(fnames):\n",
    "    for i, fn in enumerate(fnames):\n",
    "#         logging.info(\"%s: \" % i + fn)\n",
    "        with GzipFile(fn, 'rb') as f:\n",
    "            docs = ujson.loads(f.read())\n",
    "        for k,doc in docs.items():\n",
    "            if k not in gold.keys():\n",
    "                yield k,doc\n",
    "\n",
    "def read_corpus(fnames, tokens_only=False): \n",
    "    for k, doc in iter_docs(fnames):\n",
    "        unlisted = [w for s in doc for w in s]\n",
    "        if tokens_only:\n",
    "            yield unlisted\n",
    "        else:\n",
    "            # For training data, add tags\n",
    "            yield gensim.models.doc2vec.TaggedDocument(unlisted, [k])"
   ]
  },
  {
   "cell_type": "code",
   "execution_count": null,
   "metadata": {
    "ExecuteTime": {
     "start_time": "2017-09-28T17:12:20.353Z"
    },
    "scrolled": true
   },
   "outputs": [
    {
     "name": "stderr",
     "output_type": "stream",
     "text": [
      "2017-09-28 20:12:21,872 [MainThread  ] [DEBUG]  Fast version of gensim.models.word2vec is being used\n",
      "2017-09-28 20:12:21,874 [MainThread  ] [INFO ]  collecting all words and their counts\n",
      "2017-09-28 20:12:22,117 [MainThread  ] [INFO ]  PROGRESS: at example #0, processed 0 words (0/s), 0 word types, 0 tags\n",
      "2017-09-28 20:12:36,359 [MainThread  ] [INFO ]  PROGRESS: at example #10000, processed 18251055 words (1281669/s), 156491 word types, 10000 tags\n",
      "2017-09-28 20:12:48,688 [MainThread  ] [INFO ]  PROGRESS: at example #20000, processed 32653756 words (1168302/s), 248872 word types, 20000 tags\n",
      "2017-09-28 20:12:56,222 [MainThread  ] [INFO ]  PROGRESS: at example #30000, processed 41525327 words (1177819/s), 298791 word types, 30000 tags\n",
      "2017-09-28 20:13:08,323 [MainThread  ] [INFO ]  PROGRESS: at example #40000, processed 54836204 words (1100095/s), 358164 word types, 40000 tags\n"
     ]
    }
   ],
   "source": [
    "folder = join(DATA_FOLDER, 'documents/')\n",
    "fnames = glob(join(folder, '*.json.gz'))\n",
    "\n",
    "model = Doc2Vec(read_corpus(fnames), size=200, window=8, min_count=5, workers=cpu_count, iter=10)"
   ]
  },
  {
   "cell_type": "code",
   "execution_count": null,
   "metadata": {
    "ExecuteTime": {
     "start_time": "2017-09-28T17:12:22.885Z"
    }
   },
   "outputs": [],
   "source": [
    "model.save('../data/saved/d2v_model_s200_w8_mc5_iter10')"
   ]
  }
 ],
 "metadata": {
  "kernelspec": {
   "display_name": "Python 2",
   "language": "python",
   "name": "python2"
  },
  "language_info": {
   "codemirror_mode": {
    "name": "ipython",
    "version": 2
   },
   "file_extension": ".py",
   "mimetype": "text/x-python",
   "name": "python",
   "nbconvert_exporter": "python",
   "pygments_lexer": "ipython2",
   "version": "2.7.12"
  }
 },
 "nbformat": 4,
 "nbformat_minor": 2
}
