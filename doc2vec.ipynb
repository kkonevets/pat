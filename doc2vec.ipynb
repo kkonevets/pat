{
 "cells": [
  {
   "cell_type": "code",
   "execution_count": 1,
   "metadata": {
    "ExecuteTime": {
     "end_time": "2017-09-29T05:44:02.155573Z",
     "start_time": "2017-09-29T05:43:58.505899Z"
    },
    "collapsed": true
   },
   "outputs": [],
   "source": [
    "from common import *\n",
    "import smart_open"
   ]
  },
  {
   "cell_type": "code",
   "execution_count": 2,
   "metadata": {
    "ExecuteTime": {
     "end_time": "2017-09-29T05:44:02.162301Z",
     "start_time": "2017-09-29T05:44:02.158335Z"
    },
    "collapsed": true
   },
   "outputs": [],
   "source": [
    "with open(join(DATA_FOLDER, 'gold_mongo.json'), 'r') as f:\n",
    "    gold = json.load(f)"
   ]
  },
  {
   "cell_type": "code",
   "execution_count": null,
   "metadata": {
    "ExecuteTime": {
     "start_time": "2017-09-29T05:43:58.581Z"
    },
    "collapsed": true
   },
   "outputs": [],
   "source": [
    "def iter_docs(fnames):\n",
    "    for i, fn in enumerate(fnames):\n",
    "#         logging.info(\"%s: \" % i + fn)\n",
    "        with GzipFile(fn, 'rb') as f:\n",
    "            docs = ujson.loads(f.read())\n",
    "        for k,doc in docs.items():\n",
    "            if k not in gold.keys():\n",
    "                yield k,doc\n",
    "\n",
    "                \n",
    "class Documents(object):\n",
    "    def __init__(self, folder, tokens_only=False):\n",
    "        self.folder = folder\n",
    "        self.tokens_only = tokens_only\n",
    " \n",
    "    def __iter__(self):\n",
    "        fnames = glob(join(self.folder, '*.json.gz'))\n",
    "        for k, doc in iter_docs(fnames):\n",
    "            unlisted = [w for s in doc for w in s]\n",
    "            if self.tokens_only:\n",
    "                yield unlisted\n",
    "            else:\n",
    "                # For training data, add tags\n",
    "                yield gensim.models.doc2vec.TaggedDocument(unlisted, [k])"
   ]
  },
  {
   "cell_type": "code",
   "execution_count": null,
   "metadata": {
    "ExecuteTime": {
     "start_time": "2017-09-29T05:43:58.610Z"
    },
    "scrolled": true
   },
   "outputs": [
    {
     "name": "stderr",
     "output_type": "stream",
     "text": [
      "2017-09-29 08:44:02,187 [MainThread  ] [DEBUG]  Fast version of gensim.models.word2vec is being used\n",
      "2017-09-29 08:44:02,189 [MainThread  ] [INFO ]  collecting all words and their counts\n",
      "2017-09-29 08:44:02,262 [MainThread  ] [INFO ]  PROGRESS: at example #0, processed 0 words (0/s), 0 word types, 0 tags\n"
     ]
    }
   ],
   "source": [
    "folder = join(DATA_FOLDER, 'documents/')\n",
    "\n",
    "model = Doc2Vec(Documents(folder), size=200, window=8, min_count=5, workers=cpu_count-2, iter=10)"
   ]
  },
  {
   "cell_type": "code",
   "execution_count": null,
   "metadata": {
    "ExecuteTime": {
     "start_time": "2017-09-29T05:43:58.611Z"
    },
    "collapsed": true
   },
   "outputs": [],
   "source": [
    "model.save('../data/saved/d2v_model_s200_w8_mc5_iter10')"
   ]
  }
 ],
 "metadata": {
  "kernelspec": {
   "display_name": "Python 2",
   "language": "python",
   "name": "python2"
  },
  "language_info": {
   "codemirror_mode": {
    "name": "ipython",
    "version": 2
   },
   "file_extension": ".py",
   "mimetype": "text/x-python",
   "name": "python",
   "nbconvert_exporter": "python",
   "pygments_lexer": "ipython2",
   "version": "2.7.12"
  }
 },
 "nbformat": 4,
 "nbformat_minor": 2
}
