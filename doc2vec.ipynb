{
 "cells": [
  {
   "cell_type": "code",
   "execution_count": 1,
   "metadata": {
    "ExecuteTime": {
     "end_time": "2017-09-28T17:12:21.826842Z",
     "start_time": "2017-09-28T17:12:20.325106Z"
    },
    "collapsed": true
   },
   "outputs": [],
   "source": [
    "from common import *\n",
    "import smart_open"
   ]
  },
  {
   "cell_type": "code",
   "execution_count": 2,
   "metadata": {
    "ExecuteTime": {
     "end_time": "2017-09-28T17:12:21.833315Z",
     "start_time": "2017-09-28T17:12:21.829170Z"
    },
    "collapsed": true
   },
   "outputs": [],
   "source": [
    "with open(join(DATA_FOLDER, 'gold_mongo.json'), 'r') as f:\n",
    "    gold = json.load(f)"
   ]
  },
  {
   "cell_type": "code",
   "execution_count": 10,
   "metadata": {
    "ExecuteTime": {
     "end_time": "2017-09-28T19:04:30.445218Z",
     "start_time": "2017-09-28T19:04:30.431428Z"
    },
    "collapsed": true
   },
   "outputs": [],
   "source": [
    "def iter_docs(fnames):\n",
    "    for i, fn in enumerate(fnames):\n",
    "#         logging.info(\"%s: \" % i + fn)\n",
    "        with GzipFile(fn, 'rb') as f:\n",
    "            docs = ujson.loads(f.read())\n",
    "        for k,doc in docs.items():\n",
    "            if k not in gold.keys():\n",
    "                yield k,doc\n",
    "\n",
    "                \n",
    "class Documents(object):\n",
    "    def __init__(self, folder, tokens_only=False):\n",
    "        self.folder = folder\n",
    "        self.tokens_only = tokens_only\n",
    " \n",
    "    def __iter__(self):\n",
    "        fnames = glob(join(self.folder, '*.json.gz'))\n",
    "        for k, doc in iter_docs(fnames):\n",
    "            unlisted = [w for s in doc for w in s]\n",
    "            if self.tokens_only:\n",
    "                yield unlisted\n",
    "            else:\n",
    "                # For training data, add tags\n",
    "                yield gensim.models.doc2vec.TaggedDocument(unlisted, [k])"
   ]
  },
  {
   "cell_type": "code",
   "execution_count": null,
   "metadata": {
    "ExecuteTime": {
     "start_time": "2017-09-28T19:04:31.012Z"
    },
    "scrolled": true
   },
   "outputs": [
    {
     "name": "stderr",
     "output_type": "stream",
     "text": [
      "2017-09-28 22:04:31,016 [MainThread  ] [DEBUG]  Fast version of gensim.models.word2vec is being used\n",
      "2017-09-28 22:04:31,017 [MainThread  ] [INFO ]  collecting all words and their counts\n",
      "2017-09-28 22:04:31,318 [MainThread  ] [INFO ]  PROGRESS: at example #0, processed 0 words (0/s), 0 word types, 0 tags\n",
      "2017-09-28 22:04:48,899 [MainThread  ] [INFO ]  PROGRESS: at example #10000, processed 18251055 words (1038695/s), 156491 word types, 10000 tags\n",
      "2017-09-28 22:05:03,626 [MainThread  ] [INFO ]  PROGRESS: at example #20000, processed 32653756 words (978083/s), 248872 word types, 20000 tags\n",
      "2017-09-28 22:05:13,143 [MainThread  ] [INFO ]  PROGRESS: at example #30000, processed 41525327 words (932271/s), 298791 word types, 30000 tags\n",
      "2017-09-28 22:05:27,058 [MainThread  ] [INFO ]  PROGRESS: at example #40000, processed 54836204 words (956715/s), 358164 word types, 40000 tags\n",
      "2017-09-28 22:05:42,074 [MainThread  ] [INFO ]  PROGRESS: at example #50000, processed 69788323 words (995855/s), 432212 word types, 50000 tags\n",
      "2017-09-28 22:05:55,313 [MainThread  ] [INFO ]  PROGRESS: at example #60000, processed 83282436 words (1019349/s), 473138 word types, 60000 tags\n",
      "2017-09-28 22:06:07,136 [MainThread  ] [INFO ]  PROGRESS: at example #70000, processed 93976196 words (904600/s), 516468 word types, 70000 tags\n",
      "2017-09-28 22:06:19,131 [MainThread  ] [INFO ]  PROGRESS: at example #80000, processed 105973066 words (1000337/s), 548361 word types, 80000 tags\n",
      "2017-09-28 22:06:30,314 [MainThread  ] [INFO ]  PROGRESS: at example #90000, processed 115672774 words (867465/s), 569005 word types, 90000 tags\n",
      "2017-09-28 22:06:38,504 [MainThread  ] [INFO ]  PROGRESS: at example #100000, processed 125656318 words (1219167/s), 602937 word types, 100000 tags\n",
      "2017-09-28 22:06:47,457 [MainThread  ] [INFO ]  PROGRESS: at example #110000, processed 134725697 words (1013200/s), 617810 word types, 110000 tags\n",
      "2017-09-28 22:06:58,480 [MainThread  ] [INFO ]  PROGRESS: at example #120000, processed 146105334 words (1032490/s), 668602 word types, 120000 tags\n",
      "2017-09-28 22:07:09,772 [MainThread  ] [INFO ]  PROGRESS: at example #130000, processed 158263712 words (1076859/s), 694879 word types, 130000 tags\n",
      "2017-09-28 22:07:22,938 [MainThread  ] [INFO ]  PROGRESS: at example #140000, processed 171898986 words (1035720/s), 723205 word types, 140000 tags\n",
      "2017-09-28 22:07:35,112 [MainThread  ] [INFO ]  PROGRESS: at example #150000, processed 183558228 words (957967/s), 748831 word types, 150000 tags\n",
      "2017-09-28 22:07:48,071 [MainThread  ] [INFO ]  PROGRESS: at example #160000, processed 198004138 words (1114819/s), 780138 word types, 160000 tags\n",
      "2017-09-28 22:07:55,407 [MainThread  ] [INFO ]  PROGRESS: at example #170000, processed 205479179 words (1019170/s), 793171 word types, 170000 tags\n",
      "2017-09-28 22:08:13,183 [MainThread  ] [INFO ]  PROGRESS: at example #180000, processed 225096207 words (1103671/s), 849610 word types, 180000 tags\n",
      "2017-09-28 22:08:20,152 [MainThread  ] [INFO ]  PROGRESS: at example #190000, processed 231760813 words (956524/s), 861151 word types, 190000 tags\n",
      "2017-09-28 22:08:31,520 [MainThread  ] [INFO ]  PROGRESS: at example #200000, processed 245402003 words (1200133/s), 878698 word types, 200000 tags\n",
      "2017-09-28 22:08:41,286 [MainThread  ] [INFO ]  PROGRESS: at example #210000, processed 255418549 words (1025746/s), 894330 word types, 210000 tags\n",
      "2017-09-28 22:09:00,264 [MainThread  ] [INFO ]  PROGRESS: at example #220000, processed 273995618 words (978934/s), 926785 word types, 220000 tags\n",
      "2017-09-28 22:09:07,471 [MainThread  ] [INFO ]  PROGRESS: at example #230000, processed 282738897 words (1213507/s), 944121 word types, 230000 tags\n",
      "2017-09-28 22:09:20,977 [MainThread  ] [INFO ]  PROGRESS: at example #240000, processed 295760621 words (964259/s), 976582 word types, 240000 tags\n"
     ]
    }
   ],
   "source": [
    "folder = join(DATA_FOLDER, 'documents/')\n",
    "\n",
    "model = Doc2Vec(Documents(folder), size=200, window=8, min_count=5, workers=cpu_count, iter=10)"
   ]
  },
  {
   "cell_type": "code",
   "execution_count": null,
   "metadata": {
    "ExecuteTime": {
     "start_time": "2017-09-28T17:12:22.885Z"
    }
   },
   "outputs": [],
   "source": [
    "model.save('../data/saved/d2v_model_s200_w8_mc5_iter10')"
   ]
  }
 ],
 "metadata": {
  "kernelspec": {
   "display_name": "Python 2",
   "language": "python",
   "name": "python2"
  },
  "language_info": {
   "codemirror_mode": {
    "name": "ipython",
    "version": 2
   },
   "file_extension": ".py",
   "mimetype": "text/x-python",
   "name": "python",
   "nbconvert_exporter": "python",
   "pygments_lexer": "ipython2",
   "version": "2.7.12"
  }
 },
 "nbformat": 4,
 "nbformat_minor": 2
}
