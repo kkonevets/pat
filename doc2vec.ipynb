{
 "cells": [
  {
   "cell_type": "code",
   "execution_count": 1,
   "metadata": {
    "ExecuteTime": {
     "end_time": "2017-10-20T13:36:18.893714Z",
     "start_time": "2017-10-20T13:36:17.721684Z"
    },
    "collapsed": true
   },
   "outputs": [],
   "source": [
    "%matplotlib inline\n",
    "from common import *\n",
    "from matplotlib import pyplot as plt\n",
    "import smart_open"
   ]
  },
  {
   "cell_type": "code",
   "execution_count": 2,
   "metadata": {
    "ExecuteTime": {
     "end_time": "2017-10-20T13:36:18.912424Z",
     "start_time": "2017-10-20T13:36:18.896690Z"
    },
    "collapsed": true
   },
   "outputs": [],
   "source": [
    "import xml.etree.ElementTree as ET\n",
    "\n",
    "tree = ET.parse('../data/TestDocumentsResult.xml')\n",
    "root = tree.getroot()"
   ]
  },
  {
   "cell_type": "code",
   "execution_count": 3,
   "metadata": {
    "ExecuteTime": {
     "end_time": "2017-10-20T13:36:18.919439Z",
     "start_time": "2017-10-20T13:36:18.913864Z"
    },
    "collapsed": true
   },
   "outputs": [],
   "source": [
    "gold = {}\n",
    "for child in root:\n",
    "    sims = []\n",
    "    for similars in child:\n",
    "        for sim in similars:\n",
    "            sims.append(sim.attrib['docId'])\n",
    "    gold[child.attrib['docId']] = sims"
   ]
  },
  {
   "cell_type": "code",
   "execution_count": 4,
   "metadata": {
    "ExecuteTime": {
     "end_time": "2017-10-20T13:36:18.952731Z",
     "start_time": "2017-10-20T13:36:18.920900Z"
    },
    "collapsed": true
   },
   "outputs": [],
   "source": [
    "import ujson\n",
    "\n",
    "def iter_docs():\n",
    "    with GzipFile('../data/lingvo/corpus_json.txt.gz', 'r') as fr:\n",
    "        for line in fr:\n",
    "            _id, sents = ujson.loads(line)\n",
    "            yield _id, sents\n",
    "                                \n",
    "class Documents():\n",
    "    def __iter__(self):\n",
    "        for _id, doc in iter_docs():\n",
    "            unlisted = [w for s in doc for w in s]\n",
    "            yield gensim.models.doc2vec.TaggedDocument(unlisted, [_id])"
   ]
  },
  {
   "cell_type": "code",
   "execution_count": null,
   "metadata": {
    "ExecuteTime": {
     "start_time": "2017-10-20T13:36:17.724Z"
    },
    "collapsed": true,
    "scrolled": true
   },
   "outputs": [],
   "source": [
    "# model = Doc2Vec(size=200, window=15, min_count=5, dm=0, workers=cpu_count, iter=1,\n",
    "#                sample=1e-4, alpha=.01, min_alpha=.0001) # dbow_words=1"
   ]
  },
  {
   "cell_type": "code",
   "execution_count": null,
   "metadata": {
    "ExecuteTime": {
     "start_time": "2017-10-20T13:36:17.729Z"
    },
    "scrolled": true
   },
   "outputs": [
    {
     "name": "stderr",
     "output_type": "stream",
     "text": [
      "2017-10-20 16:36:18,993 [MainThread  ] [INFO ]  collecting all words and their counts\n",
      "2017-10-20 16:36:18,996 [MainThread  ] [INFO ]  PROGRESS: at example #0, processed 0 words (0/s), 0 word types, 0 tags\n",
      "2017-10-20 16:36:23,713 [MainThread  ] [INFO ]  PROGRESS: at example #10000, processed 7999305 words (1696219/s), 261892 word types, 10000 tags\n",
      "2017-10-20 16:36:28,610 [MainThread  ] [INFO ]  PROGRESS: at example #20000, processed 16233872 words (1681884/s), 448056 word types, 20000 tags\n",
      "2017-10-20 16:36:33,221 [MainThread  ] [INFO ]  PROGRESS: at example #30000, processed 24334930 words (1756976/s), 611245 word types, 30000 tags\n",
      "2017-10-20 16:36:37,994 [MainThread  ] [INFO ]  PROGRESS: at example #40000, processed 32757867 words (1765307/s), 766383 word types, 40000 tags\n",
      "2017-10-20 16:36:42,965 [MainThread  ] [INFO ]  PROGRESS: at example #50000, processed 41013631 words (1661017/s), 907126 word types, 50000 tags\n",
      "2017-10-20 16:36:47,779 [MainThread  ] [INFO ]  PROGRESS: at example #60000, processed 49108853 words (1681706/s), 1035066 word types, 60000 tags\n",
      "2017-10-20 16:36:52,953 [MainThread  ] [INFO ]  PROGRESS: at example #70000, processed 57752253 words (1670861/s), 1174319 word types, 70000 tags\n",
      "2017-10-20 16:36:57,924 [MainThread  ] [INFO ]  PROGRESS: at example #80000, processed 65974574 words (1654441/s), 1305476 word types, 80000 tags\n",
      "2017-10-20 16:37:02,530 [MainThread  ] [INFO ]  PROGRESS: at example #90000, processed 73997040 words (1742102/s), 1424564 word types, 90000 tags\n",
      "2017-10-20 16:37:07,308 [MainThread  ] [INFO ]  PROGRESS: at example #100000, processed 82360976 words (1750746/s), 1541489 word types, 100000 tags\n",
      "2017-10-20 16:37:12,030 [MainThread  ] [INFO ]  PROGRESS: at example #110000, processed 90587599 words (1742533/s), 1656084 word types, 110000 tags\n",
      "2017-10-20 16:37:16,991 [MainThread  ] [INFO ]  PROGRESS: at example #120000, processed 98713678 words (1638157/s), 1772217 word types, 120000 tags\n",
      "2017-10-20 16:37:21,729 [MainThread  ] [INFO ]  PROGRESS: at example #130000, processed 106845177 words (1716553/s), 1884986 word types, 130000 tags\n",
      "2017-10-20 16:37:26,583 [MainThread  ] [INFO ]  PROGRESS: at example #140000, processed 115096109 words (1700030/s), 1994983 word types, 140000 tags\n",
      "2017-10-20 16:37:31,639 [MainThread  ] [INFO ]  PROGRESS: at example #150000, processed 123327418 words (1628195/s), 2096408 word types, 150000 tags\n",
      "2017-10-20 16:37:36,715 [MainThread  ] [INFO ]  PROGRESS: at example #160000, processed 131698947 words (1649746/s), 2196794 word types, 160000 tags\n",
      "2017-10-20 16:37:41,847 [MainThread  ] [INFO ]  PROGRESS: at example #170000, processed 139735087 words (1565843/s), 2299736 word types, 170000 tags\n",
      "2017-10-20 16:37:46,571 [MainThread  ] [INFO ]  PROGRESS: at example #180000, processed 147821725 words (1712125/s), 2401053 word types, 180000 tags\n",
      "2017-10-20 16:37:51,557 [MainThread  ] [INFO ]  PROGRESS: at example #190000, processed 156147361 words (1669998/s), 2502143 word types, 190000 tags\n",
      "2017-10-20 16:37:56,589 [MainThread  ] [INFO ]  PROGRESS: at example #200000, processed 164744694 words (1708909/s), 2607353 word types, 200000 tags\n",
      "2017-10-20 16:38:01,338 [MainThread  ] [INFO ]  PROGRESS: at example #210000, processed 172761330 words (1688540/s), 2701494 word types, 210000 tags\n",
      "2017-10-20 16:38:06,596 [MainThread  ] [INFO ]  PROGRESS: at example #220000, processed 181048757 words (1576175/s), 2800646 word types, 220000 tags\n",
      "2017-10-20 16:38:11,580 [MainThread  ] [INFO ]  PROGRESS: at example #230000, processed 189261308 words (1648054/s), 2902682 word types, 230000 tags\n",
      "2017-10-20 16:38:16,309 [MainThread  ] [INFO ]  PROGRESS: at example #240000, processed 197606512 words (1765039/s), 3018339 word types, 240000 tags\n",
      "2017-10-20 16:38:21,044 [MainThread  ] [INFO ]  PROGRESS: at example #250000, processed 205928820 words (1757774/s), 3112357 word types, 250000 tags\n",
      "2017-10-20 16:38:25,764 [MainThread  ] [INFO ]  PROGRESS: at example #260000, processed 214219690 words (1756912/s), 3211329 word types, 260000 tags\n",
      "2017-10-20 16:38:30,694 [MainThread  ] [INFO ]  PROGRESS: at example #270000, processed 222071100 words (1592734/s), 3296832 word types, 270000 tags\n",
      "2017-10-20 16:38:35,422 [MainThread  ] [INFO ]  PROGRESS: at example #280000, processed 230372146 words (1756293/s), 3388334 word types, 280000 tags\n",
      "2017-10-20 16:38:40,301 [MainThread  ] [INFO ]  PROGRESS: at example #290000, processed 238526775 words (1671370/s), 3477905 word types, 290000 tags\n",
      "2017-10-20 16:38:44,884 [MainThread  ] [INFO ]  PROGRESS: at example #300000, processed 246618466 words (1766150/s), 3570040 word types, 300000 tags\n",
      "2017-10-20 16:38:49,629 [MainThread  ] [INFO ]  PROGRESS: at example #310000, processed 254852090 words (1735448/s), 3658013 word types, 310000 tags\n",
      "2017-10-20 16:38:54,268 [MainThread  ] [INFO ]  PROGRESS: at example #320000, processed 262965703 words (1749403/s), 3746813 word types, 320000 tags\n",
      "2017-10-20 16:38:59,692 [MainThread  ] [INFO ]  PROGRESS: at example #330000, processed 271412015 words (1557221/s), 3832756 word types, 330000 tags\n",
      "2017-10-20 16:39:04,617 [MainThread  ] [INFO ]  PROGRESS: at example #340000, processed 279769478 words (1697482/s), 3926289 word types, 340000 tags\n",
      "2017-10-20 16:39:09,453 [MainThread  ] [INFO ]  PROGRESS: at example #350000, processed 288083849 words (1719556/s), 4017389 word types, 350000 tags\n"
     ]
    }
   ],
   "source": [
    "model = Doc2Vec(Documents(), size=200,window=8,min_count=5,dm=1,workers=cpu_count,iter=10)"
   ]
  },
  {
   "cell_type": "code",
   "execution_count": null,
   "metadata": {
    "ExecuteTime": {
     "start_time": "2017-10-20T13:36:18.580Z"
    },
    "collapsed": true
   },
   "outputs": [],
   "source": [
    "model.save(\"../data/lingvo/d2v_size=200,window=8,min_count=5,dm=1,iter=10\")"
   ]
  },
  {
   "cell_type": "code",
   "execution_count": null,
   "metadata": {
    "ExecuteTime": {
     "end_time": "2017-10-20T09:50:53.462180Z",
     "start_time": "2017-10-20T09:50:36.451Z"
    },
    "collapsed": true,
    "scrolled": true
   },
   "outputs": [],
   "source": [
    "# model = Doc2Vec.load('../data/lingvo/d2v_model_s200_w8_mc5_dm1_iter10')"
   ]
  },
  {
   "cell_type": "code",
   "execution_count": 6,
   "metadata": {
    "ExecuteTime": {
     "end_time": "2017-10-20T08:02:28.551422Z",
     "start_time": "2017-10-20T08:02:19.104864Z"
    },
    "scrolled": false
   },
   "outputs": [
    {
     "name": "stderr",
     "output_type": "stream",
     "text": [
      "2017-10-20 11:02:19,134 [MainThread  ] [INFO ]  precomputing L2-norms of word weight vectors\n"
     ]
    },
    {
     "name": "stdout",
     "output_type": "stream",
     "text": [
      "столик 0.689279317856\n",
      "приспособление 0.546329975128\n",
      "подставка 0.546163082123\n",
      "платформа 0.534888625145\n",
      "столешница 0.530596375465\n",
      "держатель 0.494803011417\n",
      "поворотный 0.492959439754\n",
      "каретка 0.492177516222\n",
      "поддон 0.491141527891\n",
      "лоток 0.483728647232\n"
     ]
    }
   ],
   "source": [
    "most = model.most_similar(u'стол')\n",
    "for w, score in most:\n",
    "    print(w + ' %s' % score)"
   ]
  },
  {
   "cell_type": "code",
   "execution_count": null,
   "metadata": {
    "collapsed": true
   },
   "outputs": [],
   "source": [
    "preds = {}\n",
    "for k in gold.keys():\n",
    "    sims = model.docvecs.most_similar(positive=[k], topn=200)\n",
    "    preds[k] = [i for i,score in sims]"
   ]
  },
  {
   "cell_type": "code",
   "execution_count": 10,
   "metadata": {
    "ExecuteTime": {
     "end_time": "2017-10-20T08:03:28.105632Z",
     "start_time": "2017-10-20T08:03:26.814423Z"
    },
    "scrolled": true
   },
   "outputs": [
    {
     "name": "stderr",
     "output_type": "stream",
     "text": [
      "100%|██████████| 184/184 [00:00<00:00, 13022.05it/s]\n"
     ]
    },
    {
     "name": "stdout",
     "output_type": "stream",
     "text": [
      "median\n",
      "acc10     0.0\n",
      "acc20     0.0\n",
      "acc200    0.0\n",
      "dtype: float64\n",
      "mean\n",
      "acc10     0.126812\n",
      "acc20     0.155797\n",
      "acc200    0.228261\n",
      "dtype: float64\n"
     ]
    },
    {
     "data": {
      "image/png": "[encoded data removed]",
      "text/plain": [
       "<matplotlib.figure.Figure at 0x7f71693ca390>"
      ]
     },
     "metadata": {},
     "output_type": "display_data"
    },
    {
     "data": {
      "image/png": "[encoded data removed]",
      "text/plain": [
       "<matplotlib.figure.Figure at 0x7f7168295410>"
      ]
     },
     "metadata": {},
     "output_type": "display_data"
    },
    {
     "data": {
      "image/png": "[encoded data removed]",
      "text/plain": [
       "<matplotlib.figure.Figure at 0x7f7168235590>"
      ]
     },
     "metadata": {},
     "output_type": "display_data"
    }
   ],
   "source": [
    "result = evaluate(preds, gold)\n",
    "\n",
    "ax = result['acc10'].hist()\n",
    "ax.set_xlabel(\"acc10\")\n",
    "plt.show()\n",
    "\n",
    "ax = result['acc20'].hist()\n",
    "ax.set_xlabel(\"acc20\")\n",
    "plt.show()\n",
    "\n",
    "ax = result['acc200'].hist()\n",
    "ax.set_xlabel(\"acc200\")\n",
    "plt.show()"
   ]
  },
  {
   "cell_type": "markdown",
   "metadata": {
    "heading_collapsed": true
   },
   "source": [
    "# Use MPK rules"
   ]
  },
  {
   "cell_type": "code",
   "execution_count": 5,
   "metadata": {
    "ExecuteTime": {
     "end_time": "2017-10-09T04:44:41.529117Z",
     "start_time": "2017-10-09T04:44:41.525482Z"
    },
    "collapsed": true,
    "hidden": true
   },
   "outputs": [],
   "source": [
    "fields = ['section', 'class_']"
   ]
  },
  {
   "cell_type": "code",
   "execution_count": 6,
   "metadata": {
    "ExecuteTime": {
     "end_time": "2017-10-09T04:44:50.626068Z",
     "start_time": "2017-10-09T04:44:41.531480Z"
    },
    "collapsed": true,
    "hidden": true
   },
   "outputs": [],
   "source": [
    "rules = np.load('../data/rules_%s.npy' % '_'.join(fields))\n",
    "with open('../data/%s_index.pkl' % '_'.join(fields), 'rb') as f:\n",
    "    columns, index = pickle.load(f)"
   ]
  },
  {
   "cell_type": "code",
   "execution_count": 7,
   "metadata": {
    "ExecuteTime": {
     "end_time": "2017-10-09T04:45:07.222207Z",
     "start_time": "2017-10-09T04:45:07.115422Z"
    },
    "collapsed": true,
    "hidden": true
   },
   "outputs": [],
   "source": [
    "df = pd.DataFrame(rules, index = index, columns=columns)"
   ]
  },
  {
   "cell_type": "code",
   "execution_count": 44,
   "metadata": {
    "ExecuteTime": {
     "end_time": "2017-10-06T09:23:30.527785Z",
     "start_time": "2017-10-06T09:03:19.236100Z"
    },
    "hidden": true,
    "scrolled": true
   },
   "outputs": [
    {
     "data": {
      "application/vnd.jupyter.widget-view+json": {
       "model_id": "aa1b70f6d50e4b058bfc4ff7c18c3f6a"
      }
     },
     "metadata": {},
     "output_type": "display_data"
    },
    {
     "name": "stdout",
     "output_type": "stream",
     "text": [
      "\n"
     ]
    }
   ],
   "source": [
    "preds = {}\n",
    "for k, doc in tqdm_notebook(test_docs.items()):\n",
    "    inferred_vector = model.infer_vector(doc, steps=5)\n",
    "    sims = model.docvecs.most_similar([inferred_vector], topn=model.docvecs.count)\n",
    "    if k in df:\n",
    "        valid = df.index[df[k]]\n",
    "        preds[k] = [_id for _id,score in sims if _id in valid][:201]\n",
    "    else:\n",
    "        preds[k] = [_id for _id,score in sims[:201]]    "
   ]
  },
  {
   "cell_type": "code",
   "execution_count": 45,
   "metadata": {
    "ExecuteTime": {
     "end_time": "2017-10-06T09:23:31.275033Z",
     "start_time": "2017-10-06T09:23:30.530321Z"
    },
    "hidden": true,
    "scrolled": true
   },
   "outputs": [
    {
     "name": "stderr",
     "output_type": "stream",
     "text": [
      "100%|██████████| 184/184 [00:00<00:00, 22843.03it/s]"
     ]
    },
    {
     "name": "stdout",
     "output_type": "stream",
     "text": [
      "median\n",
      "acc10     0.0\n",
      "acc20     0.0\n",
      "acc200    0.5\n",
      "dtype: float64\n",
      "mean\n",
      "acc10     0.289855\n",
      "acc20     0.344203\n",
      "acc200    0.495652\n",
      "dtype: float64\n"
     ]
    },
    {
     "name": "stderr",
     "output_type": "stream",
     "text": [
      "\n"
     ]
    },
    {
     "data": {
      "image/png": "[encoded data removed]",
      "text/plain": [
       "<matplotlib.figure.Figure at 0x7f8a998a7710>"
      ]
     },
     "metadata": {},
     "output_type": "display_data"
    },
    {
     "data": {
      "image/png": "[encoded data removed]",
      "text/plain": [
       "<matplotlib.figure.Figure at 0x7f8b3004aed0>"
      ]
     },
     "metadata": {},
     "output_type": "display_data"
    },
    {
     "data": {
      "image/png": "[encoded data removed]",
      "text/plain": [
       "<matplotlib.figure.Figure at 0x7f8a901cb750>"
      ]
     },
     "metadata": {},
     "output_type": "display_data"
    }
   ],
   "source": [
    "result = evaluate(preds, gold)\n",
    "\n",
    "ax = result['acc10'].hist()\n",
    "ax.set_xlabel(\"acc10\")\n",
    "plt.show()\n",
    "\n",
    "ax = result['acc20'].hist()\n",
    "ax.set_xlabel(\"acc20\")\n",
    "plt.show()\n",
    "\n",
    "ax = result['acc200'].hist()\n",
    "ax.set_xlabel(\"acc200\")\n",
    "plt.show()"
   ]
  },
  {
   "cell_type": "code",
   "execution_count": 47,
   "metadata": {
    "ExecuteTime": {
     "end_time": "2017-10-06T09:32:41.770423Z",
     "start_time": "2017-10-06T09:32:41.764961Z"
    },
    "collapsed": true,
    "hidden": true
   },
   "outputs": [],
   "source": [
    "# section', 'class_\n",
    "# acc10     0.279891\n",
    "# acc20     0.316123\n",
    "# acc200    0.483152\n",
    "\n",
    "# section\n",
    "# acc10     0.289855\n",
    "# acc20     0.344203\n",
    "# acc200    0.495652"
   ]
  },
  {
   "cell_type": "code",
   "execution_count": null,
   "metadata": {
    "ExecuteTime": {
     "start_time": "2017-10-07T07:52:16.268Z"
    },
    "collapsed": true,
    "hidden": true
   },
   "outputs": [],
   "source": [
    "test_ids = set(gold.keys() + [vi for v in gold.values() for vi in v])"
   ]
  },
  {
   "cell_type": "code",
   "execution_count": null,
   "metadata": {
    "ExecuteTime": {
     "start_time": "2017-10-07T07:52:17.559Z"
    },
    "hidden": true,
    "scrolled": true
   },
   "outputs": [
    {
     "name": "stderr",
     "output_type": "stream",
     "text": [
      "2017-10-07 10:52:19,146 [MainThread  ] [INFO ]  0: ../data/documents/72.json.gz\n",
      "2017-10-07 10:52:19,237 [MainThread  ] [INFO ]  1: ../data/documents/228.json.gz\n",
      "2017-10-07 10:52:20,138 [MainThread  ] [INFO ]  2: ../data/documents/791.json.gz\n",
      "2017-10-07 10:52:20,432 [MainThread  ] [INFO ]  3: ../data/documents/369.json.gz\n",
      "2017-10-07 10:52:21,729 [MainThread  ] [INFO ]  4: ../data/documents/19.json.gz\n",
      "2017-10-07 10:52:22,565 [MainThread  ] [INFO ]  5: ../data/documents/483.json.gz\n",
      "2017-10-07 10:52:22,962 [MainThread  ] [INFO ]  6: ../data/documents/165.json.gz\n",
      "2017-10-07 10:52:23,085 [MainThread  ] [INFO ]  7: ../data/documents/233.json.gz\n",
      "2017-10-07 10:52:23,163 [MainThread  ] [INFO ]  8: ../data/documents/299.json.gz\n",
      "2017-10-07 10:52:23,322 [MainThread  ] [INFO ]  9: ../data/documents/482.json.gz\n",
      "2017-10-07 10:52:23,495 [MainThread  ] [INFO ]  10: ../data/documents/473.json.gz\n",
      "2017-10-07 10:52:25,047 [MainThread  ] [INFO ]  11: ../data/documents/117.json.gz\n",
      "2017-10-07 10:52:25,239 [MainThread  ] [INFO ]  12: ../data/documents/965.json.gz\n",
      "2017-10-07 10:52:25,829 [MainThread  ] [INFO ]  13: ../data/documents/162.json.gz\n",
      "2017-10-07 10:52:26,001 [MainThread  ] [INFO ]  14: ../data/documents/300.json.gz\n",
      "2017-10-07 10:52:26,173 [MainThread  ] [INFO ]  15: ../data/documents/673.json.gz\n",
      "2017-10-07 10:52:28,197 [MainThread  ] [INFO ]  16: ../data/documents/793.json.gz\n",
      "2017-10-07 10:52:28,776 [MainThread  ] [INFO ]  17: ../data/documents/253.json.gz\n",
      "2017-10-07 10:52:31,670 [MainThread  ] [INFO ]  18: ../data/documents/408.json.gz\n",
      "2017-10-07 10:52:32,220 [MainThread  ] [INFO ]  19: ../data/documents/617.json.gz\n",
      "2017-10-07 10:52:34,162 [MainThread  ] [INFO ]  20: ../data/documents/678.json.gz\n",
      "2017-10-07 10:52:37,083 [MainThread  ] [INFO ]  21: ../data/documents/478.json.gz\n",
      "2017-10-07 10:52:38,433 [MainThread  ] [INFO ]  22: ../data/documents/896.json.gz\n",
      "2017-10-07 10:52:39,727 [MainThread  ] [INFO ]  23: ../data/documents/770.json.gz\n",
      "2017-10-07 10:52:41,728 [MainThread  ] [INFO ]  24: ../data/documents/100.json.gz\n",
      "2017-10-07 10:52:43,989 [MainThread  ] [INFO ]  25: ../data/documents/281.json.gz\n",
      "2017-10-07 10:52:47,340 [MainThread  ] [INFO ]  26: ../data/documents/702.json.gz\n",
      "2017-10-07 10:52:48,770 [MainThread  ] [INFO ]  27: ../data/documents/865.json.gz\n",
      "2017-10-07 10:52:52,722 [MainThread  ] [INFO ]  28: ../data/documents/453.json.gz\n",
      "2017-10-07 10:52:55,300 [MainThread  ] [INFO ]  29: ../data/documents/185.json.gz\n",
      "2017-10-07 10:52:57,809 [MainThread  ] [INFO ]  30: ../data/documents/545.json.gz\n",
      "2017-10-07 10:52:59,195 [MainThread  ] [INFO ]  31: ../data/documents/34.json.gz\n",
      "2017-10-07 10:52:59,346 [MainThread  ] [INFO ]  32: ../data/documents/519.json.gz\n",
      "2017-10-07 10:52:59,713 [MainThread  ] [INFO ]  33: ../data/documents/443.json.gz\n",
      "2017-10-07 10:52:59,917 [MainThread  ] [INFO ]  34: ../data/documents/624.json.gz\n",
      "2017-10-07 10:53:00,397 [MainThread  ] [INFO ]  35: ../data/documents/735.json.gz\n",
      "2017-10-07 10:53:04,253 [MainThread  ] [INFO ]  36: ../data/documents/76.json.gz\n",
      "2017-10-07 10:53:04,569 [MainThread  ] [INFO ]  37: ../data/documents/878.json.gz\n",
      "2017-10-07 10:53:07,327 [MainThread  ] [INFO ]  38: ../data/documents/241.json.gz\n",
      "2017-10-07 10:53:07,716 [MainThread  ] [INFO ]  39: ../data/documents/511.json.gz\n",
      "2017-10-07 10:53:11,613 [MainThread  ] [INFO ]  40: ../data/documents/284.json.gz\n",
      "2017-10-07 10:53:16,021 [MainThread  ] [INFO ]  41: ../data/documents/335.json.gz\n",
      "2017-10-07 10:53:18,456 [MainThread  ] [INFO ]  42: ../data/documents/456.json.gz\n",
      "2017-10-07 10:53:20,970 [MainThread  ] [INFO ]  43: ../data/documents/727.json.gz\n",
      "2017-10-07 10:53:24,330 [MainThread  ] [INFO ]  44: ../data/documents/686.json.gz\n",
      "2017-10-07 10:53:29,199 [MainThread  ] [INFO ]  45: ../data/documents/406.json.gz\n",
      "2017-10-07 10:53:30,042 [MainThread  ] [INFO ]  46: ../data/documents/375.json.gz\n",
      "2017-10-07 10:53:33,367 [MainThread  ] [INFO ]  47: ../data/documents/933.json.gz\n",
      "2017-10-07 10:53:39,265 [MainThread  ] [INFO ]  48: ../data/documents/303.json.gz\n",
      "2017-10-07 10:53:40,505 [MainThread  ] [INFO ]  49: ../data/documents/940.json.gz\n",
      "2017-10-07 10:53:44,150 [MainThread  ] [INFO ]  50: ../data/documents/912.json.gz\n",
      "2017-10-07 10:53:44,648 [MainThread  ] [INFO ]  51: ../data/documents/548.json.gz\n",
      "2017-10-07 10:53:46,018 [MainThread  ] [INFO ]  52: ../data/documents/122.json.gz\n",
      "2017-10-07 10:53:46,220 [MainThread  ] [INFO ]  53: ../data/documents/597.json.gz\n",
      "2017-10-07 10:53:47,408 [MainThread  ] [INFO ]  54: ../data/documents/918.json.gz\n",
      "2017-10-07 10:53:55,236 [MainThread  ] [INFO ]  55: ../data/documents/486.json.gz\n",
      "2017-10-07 10:53:56,296 [MainThread  ] [INFO ]  56: ../data/documents/778.json.gz\n",
      "2017-10-07 10:53:57,482 [MainThread  ] [INFO ]  57: ../data/documents/991.json.gz\n",
      "2017-10-07 10:54:08,183 [MainThread  ] [INFO ]  58: ../data/documents/667.json.gz\n",
      "2017-10-07 10:54:11,057 [MainThread  ] [INFO ]  59: ../data/documents/829.json.gz\n",
      "2017-10-07 10:54:13,749 [MainThread  ] [INFO ]  60: ../data/documents/246.json.gz\n",
      "2017-10-07 10:54:17,078 [MainThread  ] [INFO ]  61: ../data/documents/853.json.gz\n",
      "2017-10-07 10:54:17,804 [MainThread  ] [INFO ]  62: ../data/documents/308.json.gz\n",
      "2017-10-07 10:54:21,106 [MainThread  ] [INFO ]  63: ../data/documents/883.json.gz\n",
      "2017-10-07 10:54:24,015 [MainThread  ] [INFO ]  64: ../data/documents/15.json.gz\n",
      "2017-10-07 10:54:25,154 [MainThread  ] [INFO ]  65: ../data/documents/41.json.gz\n",
      "2017-10-07 10:54:25,470 [MainThread  ] [INFO ]  66: ../data/documents/173.json.gz\n",
      "2017-10-07 10:54:25,630 [MainThread  ] [INFO ]  67: ../data/documents/154.json.gz\n",
      "2017-10-07 10:54:26,893 [MainThread  ] [INFO ]  68: ../data/documents/147.json.gz\n",
      "2017-10-07 10:54:28,155 [MainThread  ] [INFO ]  69: ../data/documents/74.json.gz\n",
      "2017-10-07 10:54:28,302 [MainThread  ] [INFO ]  70: ../data/documents/63.json.gz\n",
      "2017-10-07 10:54:29,035 [MainThread  ] [INFO ]  71: ../data/documents/342.json.gz\n",
      "2017-10-07 10:54:29,229 [MainThread  ] [INFO ]  72: ../data/documents/874.json.gz\n",
      "2017-10-07 10:54:30,700 [MainThread  ] [INFO ]  73: ../data/documents/329.json.gz\n",
      "2017-10-07 10:54:34,347 [MainThread  ] [INFO ]  74: ../data/documents/998.json.gz\n",
      "2017-10-07 10:54:36,719 [MainThread  ] [INFO ]  75: ../data/documents/92.json.gz\n",
      "2017-10-07 10:54:37,384 [MainThread  ] [INFO ]  76: ../data/documents/845.json.gz\n",
      "2017-10-07 10:54:37,983 [MainThread  ] [INFO ]  77: ../data/documents/30.json.gz\n",
      "2017-10-07 10:54:38,179 [MainThread  ] [INFO ]  78: ../data/documents/491.json.gz\n",
      "2017-10-07 10:54:39,201 [MainThread  ] [INFO ]  79: ../data/documents/898.json.gz\n",
      "2017-10-07 10:54:39,889 [MainThread  ] [INFO ]  80: ../data/documents/852.json.gz\n",
      "2017-10-07 10:54:40,505 [MainThread  ] [INFO ]  81: ../data/documents/789.json.gz\n",
      "2017-10-07 10:54:41,138 [MainThread  ] [INFO ]  82: ../data/documents/346.json.gz\n",
      "2017-10-07 10:54:41,571 [MainThread  ] [INFO ]  83: ../data/documents/24.json.gz\n",
      "2017-10-07 10:54:41,997 [MainThread  ] [INFO ]  84: ../data/documents/167.json.gz\n",
      "2017-10-07 10:54:42,666 [MainThread  ] [INFO ]  85: ../data/documents/297.json.gz\n",
      "2017-10-07 10:54:43,115 [MainThread  ] [INFO ]  86: ../data/documents/675.json.gz\n",
      "2017-10-07 10:54:46,075 [MainThread  ] [INFO ]  87: ../data/documents/931.json.gz\n",
      "2017-10-07 10:54:51,343 [MainThread  ] [INFO ]  88: ../data/documents/803.json.gz\n",
      "2017-10-07 10:54:55,146 [MainThread  ] [INFO ]  89: ../data/documents/751.json.gz\n",
      "2017-10-07 10:55:01,743 [MainThread  ] [INFO ]  90: ../data/documents/43.json.gz\n",
      "2017-10-07 10:55:02,626 [MainThread  ] [INFO ]  91: ../data/documents/144.json.gz\n",
      "2017-10-07 10:55:03,845 [MainThread  ] [INFO ]  92: ../data/documents/348.json.gz\n",
      "2017-10-07 10:55:04,065 [MainThread  ] [INFO ]  93: ../data/documents/397.json.gz\n",
      "2017-10-07 10:55:04,364 [MainThread  ] [INFO ]  94: ../data/documents/332.json.gz\n",
      "2017-10-07 10:55:05,204 [MainThread  ] [INFO ]  95: ../data/documents/556.json.gz\n",
      "2017-10-07 10:55:08,313 [MainThread  ] [INFO ]  96: ../data/documents/777.json.gz\n",
      "2017-10-07 10:55:08,904 [MainThread  ] [INFO ]  97: ../data/documents/25.json.gz\n",
      "2017-10-07 10:55:09,246 [MainThread  ] [INFO ]  98: ../data/documents/542.json.gz\n",
      "2017-10-07 10:55:10,562 [MainThread  ] [INFO ]  99: ../data/documents/360.json.gz\n",
      "2017-10-07 10:55:10,773 [MainThread  ] [INFO ]  100: ../data/documents/861.json.gz\n"
     ]
    },
    {
     "name": "stderr",
     "output_type": "stream",
     "text": [
      "2017-10-07 10:55:12,330 [MainThread  ] [INFO ]  101: ../data/documents/535.json.gz\n",
      "2017-10-07 10:55:13,495 [MainThread  ] [INFO ]  102: ../data/documents/328.json.gz\n",
      "2017-10-07 10:55:16,879 [MainThread  ] [INFO ]  103: ../data/documents/900.json.gz\n",
      "2017-10-07 10:55:17,676 [MainThread  ] [INFO ]  104: ../data/documents/656.json.gz\n",
      "2017-10-07 10:55:23,949 [MainThread  ] [INFO ]  105: ../data/documents/666.json.gz\n",
      "2017-10-07 10:55:27,023 [MainThread  ] [INFO ]  106: ../data/documents/954.json.gz\n",
      "2017-10-07 10:55:27,984 [MainThread  ] [INFO ]  107: ../data/documents/860.json.gz\n",
      "2017-10-07 10:55:30,468 [MainThread  ] [INFO ]  108: ../data/documents/908.json.gz\n",
      "2017-10-07 10:55:38,063 [MainThread  ] [INFO ]  110: ../data/documents/437.json.gz\n",
      "2017-10-07 10:55:38,999 [MainThread  ] [INFO ]  111: ../data/documents/962.json.gz\n",
      "2017-10-07 10:55:39,641 [MainThread  ] [INFO ]  112: ../data/documents/46.json.gz\n",
      "2017-10-07 10:55:41,585 [MainThread  ] [INFO ]  113: ../data/documents/409.json.gz\n",
      "2017-10-07 10:55:41,978 [MainThread  ] [INFO ]  114: ../data/documents/575.json.gz\n",
      "2017-10-07 10:55:42,245 [MainThread  ] [INFO ]  115: ../data/documents/77.json.gz\n",
      "2017-10-07 10:55:42,345 [MainThread  ] [INFO ]  116: ../data/documents/797.json.gz\n",
      "2017-10-07 10:55:42,621 [MainThread  ] [INFO ]  117: ../data/documents/113.json.gz\n",
      "2017-10-07 10:55:43,475 [MainThread  ] [INFO ]  118: ../data/documents/269.json.gz\n",
      "2017-10-07 10:55:43,710 [MainThread  ] [INFO ]  119: ../data/documents/215.json.gz\n",
      "2017-10-07 10:55:45,359 [MainThread  ] [INFO ]  120: ../data/documents/576.json.gz\n",
      "2017-10-07 10:55:45,908 [MainThread  ] [INFO ]  121: ../data/documents/189.json.gz\n",
      "2017-10-07 10:55:47,377 [MainThread  ] [INFO ]  122: ../data/documents/152.json.gz\n",
      "2017-10-07 10:55:48,651 [MainThread  ] [INFO ]  123: ../data/documents/276.json.gz\n",
      "2017-10-07 10:55:49,793 [MainThread  ] [INFO ]  124: ../data/documents/114.json.gz\n",
      "2017-10-07 10:55:50,522 [MainThread  ] [INFO ]  125: ../data/documents/395.json.gz\n",
      "2017-10-07 10:55:50,795 [MainThread  ] [INFO ]  126: ../data/documents/600.json.gz\n",
      "2017-10-07 10:55:52,230 [MainThread  ] [INFO ]  127: ../data/documents/562.json.gz\n",
      "2017-10-07 10:55:55,227 [MainThread  ] [INFO ]  128: ../data/documents/449.json.gz\n",
      "2017-10-07 10:55:55,867 [MainThread  ] [INFO ]  129: ../data/documents/358.json.gz\n",
      "2017-10-07 10:55:56,231 [MainThread  ] [INFO ]  130: ../data/documents/930.json.gz\n",
      "2017-10-07 10:56:00,085 [MainThread  ] [INFO ]  131: ../data/documents/782.json.gz\n",
      "2017-10-07 10:56:00,992 [MainThread  ] [INFO ]  132: ../data/documents/857.json.gz\n",
      "2017-10-07 10:56:02,579 [MainThread  ] [INFO ]  133: ../data/documents/769.json.gz\n",
      "2017-10-07 10:56:05,104 [MainThread  ] [INFO ]  134: ../data/documents/907.json.gz\n",
      "2017-10-07 10:56:05,894 [MainThread  ] [INFO ]  135: ../data/documents/712.json.gz\n",
      "2017-10-07 10:56:06,508 [MainThread  ] [INFO ]  136: ../data/documents/464.json.gz\n",
      "2017-10-07 10:56:09,840 [MainThread  ] [INFO ]  137: ../data/documents/644.json.gz\n",
      "2017-10-07 10:56:13,125 [MainThread  ] [INFO ]  138: ../data/documents/234.json.gz\n",
      "2017-10-07 10:56:13,527 [MainThread  ] [INFO ]  139: ../data/documents/186.json.gz\n",
      "2017-10-07 10:56:16,383 [MainThread  ] [INFO ]  140: ../data/documents/730.json.gz\n",
      "2017-10-07 10:56:19,790 [MainThread  ] [INFO ]  141: ../data/documents/240.json.gz\n",
      "2017-10-07 10:56:20,420 [MainThread  ] [INFO ]  142: ../data/documents/111.json.gz\n",
      "2017-10-07 10:56:22,218 [MainThread  ] [INFO ]  143: ../data/documents/928.json.gz\n",
      "2017-10-07 10:56:27,481 [MainThread  ] [INFO ]  144: ../data/documents/752.json.gz\n",
      "2017-10-07 10:56:28,062 [MainThread  ] [INFO ]  145: ../data/documents/831.json.gz\n",
      "2017-10-07 10:56:29,055 [MainThread  ] [INFO ]  146: ../data/documents/534.json.gz\n",
      "2017-10-07 10:56:29,389 [MainThread  ] [INFO ]  147: ../data/documents/490.json.gz\n",
      "2017-10-07 10:56:29,743 [MainThread  ] [INFO ]  148: ../data/documents/882.json.gz\n",
      "2017-10-07 10:56:33,541 [MainThread  ] [INFO ]  149: ../data/documents/172.json.gz\n",
      "2017-10-07 10:56:33,910 [MainThread  ] [INFO ]  150: ../data/documents/608.json.gz\n",
      "2017-10-07 10:56:36,531 [MainThread  ] [INFO ]  151: ../data/documents/635.json.gz\n",
      "2017-10-07 10:56:37,528 [MainThread  ] [INFO ]  152: ../data/documents/696.json.gz\n",
      "2017-10-07 10:56:43,735 [MainThread  ] [INFO ]  153: ../data/documents/734.json.gz\n",
      "2017-10-07 10:56:51,550 [MainThread  ] [INFO ]  154: ../data/documents/86.json.gz\n",
      "2017-10-07 10:56:54,559 [MainThread  ] [INFO ]  155: ../data/documents/357.json.gz\n",
      "2017-10-07 10:56:55,132 [MainThread  ] [INFO ]  156: ../data/documents/634.json.gz\n",
      "2017-10-07 10:56:55,814 [MainThread  ] [INFO ]  157: ../data/documents/689.json.gz\n",
      "2017-10-07 10:56:59,034 [MainThread  ] [INFO ]  158: ../data/documents/94.json.gz\n",
      "2017-10-07 10:57:00,238 [MainThread  ] [INFO ]  159: ../data/documents/986.json.gz\n",
      "2017-10-07 10:57:08,237 [MainThread  ] [INFO ]  160: ../data/documents/296.json.gz\n",
      "2017-10-07 10:57:08,801 [MainThread  ] [INFO ]  161: ../data/documents/817.json.gz\n",
      "2017-10-07 10:57:12,339 [MainThread  ] [INFO ]  162: ../data/documents/990.json.gz\n",
      "2017-10-07 10:57:17,048 [MainThread  ] [INFO ]  163: ../data/documents/267.json.gz\n",
      "2017-10-07 10:57:17,535 [MainThread  ] [INFO ]  164: ../data/documents/586.json.gz\n",
      "2017-10-07 10:57:18,163 [MainThread  ] [INFO ]  165: ../data/documents/340.json.gz\n",
      "2017-10-07 10:57:18,557 [MainThread  ] [INFO ]  166: ../data/documents/707.json.gz\n",
      "2017-10-07 10:57:19,224 [MainThread  ] [INFO ]  167: ../data/documents/39.json.gz\n",
      "2017-10-07 10:57:19,441 [MainThread  ] [INFO ]  168: ../data/documents/997.json.gz\n",
      "2017-10-07 10:57:21,456 [MainThread  ] [INFO ]  169: ../data/documents/426.json.gz\n",
      "2017-10-07 10:57:27,417 [MainThread  ] [INFO ]  170: ../data/documents/705.json.gz\n",
      "2017-10-07 10:57:28,517 [MainThread  ] [INFO ]  171: ../data/documents/156.json.gz\n",
      "2017-10-07 10:57:31,353 [MainThread  ] [INFO ]  172: ../data/documents/537.json.gz\n",
      "2017-10-07 10:57:32,249 [MainThread  ] [INFO ]  173: ../data/documents/913.json.gz\n",
      "2017-10-07 10:57:33,068 [MainThread  ] [INFO ]  174: ../data/documents/488.json.gz\n",
      "2017-10-07 10:57:33,605 [MainThread  ] [INFO ]  175: ../data/documents/85.json.gz\n",
      "2017-10-07 10:57:36,329 [MainThread  ] [INFO ]  176: ../data/documents/69.json.gz\n",
      "2017-10-07 10:57:36,732 [MainThread  ] [INFO ]  177: ../data/documents/279.json.gz\n",
      "2017-10-07 10:57:40,278 [MainThread  ] [INFO ]  178: ../data/documents/393.json.gz\n",
      "2017-10-07 10:57:40,984 [MainThread  ] [INFO ]  179: ../data/documents/497.json.gz\n",
      "2017-10-07 10:57:43,876 [MainThread  ] [INFO ]  180: ../data/documents/180.json.gz\n",
      "2017-10-07 10:57:47,414 [MainThread  ] [INFO ]  181: ../data/documents/133.json.gz\n",
      "2017-10-07 10:57:47,728 [MainThread  ] [INFO ]  182: ../data/documents/888.json.gz\n",
      "2017-10-07 10:57:48,846 [MainThread  ] [INFO ]  183: ../data/documents/820.json.gz\n",
      "2017-10-07 10:57:52,446 [MainThread  ] [INFO ]  184: ../data/documents/278.json.gz\n",
      "2017-10-07 10:57:53,789 [MainThread  ] [INFO ]  185: ../data/documents/792.json.gz\n",
      "2017-10-07 10:57:54,099 [MainThread  ] [INFO ]  186: ../data/documents/533.json.gz\n",
      "2017-10-07 10:57:54,519 [MainThread  ] [INFO ]  187: ../data/documents/331.json.gz\n",
      "2017-10-07 10:57:55,957 [MainThread  ] [INFO ]  188: ../data/documents/179.json.gz\n",
      "2017-10-07 10:57:57,858 [MainThread  ] [INFO ]  189: ../data/documents/846.json.gz\n",
      "2017-10-07 10:57:58,499 [MainThread  ] [INFO ]  190: ../data/documents/780.json.gz\n",
      "2017-10-07 10:57:59,027 [MainThread  ] [INFO ]  191: ../data/documents/139.json.gz\n",
      "2017-10-07 10:58:01,222 [MainThread  ] [INFO ]  192: ../data/documents/905.json.gz\n",
      "2017-10-07 10:58:02,040 [MainThread  ] [INFO ]  193: ../data/documents/979.json.gz\n",
      "2017-10-07 10:58:06,342 [MainThread  ] [INFO ]  194: ../data/documents/839.json.gz\n",
      "2017-10-07 10:58:07,271 [MainThread  ] [INFO ]  195: ../data/documents/909.json.gz\n",
      "2017-10-07 10:58:08,425 [MainThread  ] [INFO ]  196: ../data/documents/427.json.gz\n",
      "2017-10-07 10:58:12,948 [MainThread  ] [INFO ]  197: ../data/documents/22.json.gz\n",
      "2017-10-07 10:58:15,167 [MainThread  ] [INFO ]  198: ../data/documents/362.json.gz\n",
      "2017-10-07 10:58:15,620 [MainThread  ] [INFO ]  199: ../data/documents/543.json.gz\n",
      "2017-10-07 10:58:18,697 [MainThread  ] [INFO ]  200: ../data/documents/317.json.gz\n"
     ]
    },
    {
     "name": "stderr",
     "output_type": "stream",
     "text": [
      "2017-10-07 10:58:20,338 [MainThread  ] [INFO ]  201: ../data/documents/828.json.gz\n",
      "2017-10-07 10:58:23,035 [MainThread  ] [INFO ]  202: ../data/documents/649.json.gz\n",
      "2017-10-07 10:58:26,438 [MainThread  ] [INFO ]  203: ../data/documents/603.json.gz\n",
      "2017-10-07 10:58:29,292 [MainThread  ] [INFO ]  204: ../data/documents/255.json.gz\n",
      "2017-10-07 10:58:31,272 [MainThread  ] [INFO ]  205: ../data/documents/700.json.gz\n",
      "2017-10-07 10:58:31,688 [MainThread  ] [INFO ]  206: ../data/documents/471.json.gz\n",
      "2017-10-07 10:58:32,659 [MainThread  ] [INFO ]  207: ../data/documents/798.json.gz\n",
      "2017-10-07 10:58:33,247 [MainThread  ] [INFO ]  208: ../data/documents/394.json.gz\n",
      "2017-10-07 10:58:33,484 [MainThread  ] [INFO ]  209: ../data/documents/58.json.gz\n",
      "2017-10-07 10:58:34,407 [MainThread  ] [INFO ]  210: ../data/documents/948.json.gz\n",
      "2017-10-07 10:58:35,416 [MainThread  ] [INFO ]  211: ../data/documents/140.json.gz\n",
      "2017-10-07 10:58:36,585 [MainThread  ] [INFO ]  212: ../data/documents/493.json.gz\n",
      "2017-10-07 10:58:37,611 [MainThread  ] [INFO ]  213: ../data/documents/796.json.gz\n",
      "2017-10-07 10:58:37,930 [MainThread  ] [INFO ]  214: ../data/documents/23.json.gz\n",
      "2017-10-07 10:58:38,057 [MainThread  ] [INFO ]  215: ../data/documents/361.json.gz\n",
      "2017-10-07 10:58:38,240 [MainThread  ] [INFO ]  216: ../data/documents/418.json.gz\n",
      "2017-10-07 10:58:40,414 [MainThread  ] [INFO ]  217: ../data/documents/116.json.gz\n",
      "2017-10-07 10:58:41,893 [MainThread  ] [INFO ]  218: ../data/documents/856.json.gz\n",
      "2017-10-07 10:58:42,612 [MainThread  ] [INFO ]  219: ../data/documents/814.json.gz\n",
      "2017-10-07 10:58:50,355 [MainThread  ] [INFO ]  220: ../data/documents/112.json.gz\n",
      "2017-10-07 10:58:52,941 [MainThread  ] [INFO ]  221: ../data/documents/211.json.gz\n",
      "2017-10-07 10:58:53,500 [MainThread  ] [INFO ]  222: ../data/documents/887.json.gz\n",
      "2017-10-07 10:58:56,035 [MainThread  ] [INFO ]  223: ../data/documents/352.json.gz\n",
      "2017-10-07 10:58:56,492 [MainThread  ] [INFO ]  224: ../data/documents/988.json.gz\n",
      "2017-10-07 10:59:06,647 [MainThread  ] [INFO ]  225: ../data/documents/16.json.gz\n",
      "2017-10-07 10:59:08,457 [MainThread  ] [INFO ]  226: ../data/documents/631.json.gz\n",
      "2017-10-07 10:59:08,788 [MainThread  ] [INFO ]  227: ../data/documents/155.json.gz\n",
      "2017-10-07 10:59:10,047 [MainThread  ] [INFO ]  228: ../data/documents/985.json.gz\n",
      "2017-10-07 10:59:14,763 [MainThread  ] [INFO ]  229: ../data/documents/773.json.gz\n",
      "2017-10-07 10:59:16,257 [MainThread  ] [INFO ]  230: ../data/documents/146.json.gz\n",
      "2017-10-07 10:59:17,320 [MainThread  ] [INFO ]  231: ../data/documents/890.json.gz\n",
      "2017-10-07 10:59:18,677 [MainThread  ] [INFO ]  232: ../data/documents/323.json.gz\n",
      "2017-10-07 10:59:20,486 [MainThread  ] [INFO ]  233: ../data/documents/131.json.gz\n",
      "2017-10-07 10:59:20,941 [MainThread  ] [INFO ]  234: ../data/documents/652.json.gz\n",
      "2017-10-07 10:59:24,004 [MainThread  ] [INFO ]  235: ../data/documents/983.json.gz\n",
      "2017-10-07 10:59:34,229 [MainThread  ] [INFO ]  236: ../data/documents/750.json.gz\n",
      "2017-10-07 10:59:36,311 [MainThread  ] [INFO ]  237: ../data/documents/355.json.gz\n",
      "2017-10-07 10:59:36,761 [MainThread  ] [INFO ]  238: ../data/documents/106.json.gz\n",
      "2017-10-07 10:59:39,183 [MainThread  ] [INFO ]  239: ../data/documents/611.json.gz\n",
      "2017-10-07 10:59:46,322 [MainThread  ] [INFO ]  240: ../data/documents/595.json.gz\n",
      "2017-10-07 10:59:48,694 [MainThread  ] [INFO ]  241: ../data/documents/591.json.gz\n",
      "2017-10-07 10:59:50,680 [MainThread  ] [INFO ]  242: ../data/documents/840.json.gz\n",
      "2017-10-07 10:59:51,029 [MainThread  ] [INFO ]  243: ../data/documents/175.json.gz\n",
      "2017-10-07 10:59:51,272 [MainThread  ] [INFO ]  244: ../data/documents/805.json.gz\n",
      "2017-10-07 10:59:52,611 [MainThread  ] [INFO ]  245: ../data/documents/941.json.gz\n",
      "2017-10-07 10:59:56,822 [MainThread  ] [INFO ]  246: ../data/documents/260.json.gz\n",
      "2017-10-07 10:59:57,584 [MainThread  ] [INFO ]  247: ../data/documents/192.json.gz\n",
      "2017-10-07 10:59:58,880 [MainThread  ] [INFO ]  248: ../data/documents/54.json.gz\n",
      "2017-10-07 11:00:00,450 [MainThread  ] [INFO ]  249: ../data/documents/964.json.gz\n",
      "2017-10-07 11:00:01,466 [MainThread  ] [INFO ]  250: ../data/documents/929.json.gz\n",
      "2017-10-07 11:00:05,288 [MainThread  ] [INFO ]  251: ../data/documents/68.json.gz\n",
      "2017-10-07 11:00:06,066 [MainThread  ] [INFO ]  252: ../data/documents/613.json.gz\n",
      "2017-10-07 11:00:12,525 [MainThread  ] [INFO ]  253: ../data/documents/950.json.gz\n",
      "2017-10-07 11:00:14,415 [MainThread  ] [INFO ]  254: ../data/documents/616.json.gz\n",
      "2017-10-07 11:00:16,170 [MainThread  ] [INFO ]  255: ../data/documents/925.json.gz\n",
      "2017-10-07 11:00:22,784 [MainThread  ] [INFO ]  256: ../data/documents/197.json.gz\n",
      "2017-10-07 11:00:23,886 [MainThread  ] [INFO ]  257: ../data/documents/463.json.gz\n",
      "2017-10-07 11:00:27,351 [MainThread  ] [INFO ]  258: ../data/documents/295.json.gz\n",
      "2017-10-07 11:00:28,368 [MainThread  ] [INFO ]  259: ../data/documents/654.json.gz\n",
      "2017-10-07 11:00:29,870 [MainThread  ] [INFO ]  260: ../data/documents/5.json.gz\n",
      "2017-10-07 11:00:30,650 [MainThread  ] [INFO ]  261: ../data/documents/838.json.gz\n",
      "2017-10-07 11:00:30,948 [MainThread  ] [INFO ]  262: ../data/documents/141.json.gz\n",
      "2017-10-07 11:00:32,082 [MainThread  ] [INFO ]  263: ../data/documents/646.json.gz\n",
      "2017-10-07 11:00:33,391 [MainThread  ] [INFO ]  264: ../data/documents/217.json.gz\n",
      "2017-10-07 11:00:35,421 [MainThread  ] [INFO ]  265: ../data/documents/787.json.gz\n",
      "2017-10-07 11:00:35,799 [MainThread  ] [INFO ]  266: ../data/documents/102.json.gz\n",
      "2017-10-07 11:00:36,635 [MainThread  ] [INFO ]  267: ../data/documents/333.json.gz\n",
      "2017-10-07 11:00:37,622 [MainThread  ] [INFO ]  268: ../data/documents/869.json.gz\n",
      "2017-10-07 11:00:44,833 [MainThread  ] [INFO ]  269: ../data/documents/659.json.gz\n",
      "2017-10-07 11:00:52,577 [MainThread  ] [INFO ]  270: ../data/documents/554.json.gz\n",
      "2017-10-07 11:00:58,535 [MainThread  ] [INFO ]  271: ../data/documents/367.json.gz\n",
      "2017-10-07 11:01:01,946 [MainThread  ] [INFO ]  272: ../data/documents/70.json.gz\n",
      "2017-10-07 11:01:02,316 [MainThread  ] [INFO ]  273: ../data/documents/149.json.gz\n",
      "2017-10-07 11:01:04,879 [MainThread  ] [INFO ]  274: ../data/documents/272.json.gz\n",
      "2017-10-07 11:01:05,446 [MainThread  ] [INFO ]  275: ../data/documents/614.json.gz\n",
      "2017-10-07 11:01:09,265 [MainThread  ] [INFO ]  276: ../data/documents/823.json.gz\n",
      "2017-10-07 11:01:11,308 [MainThread  ] [INFO ]  277: ../data/documents/489.json.gz\n",
      "2017-10-07 11:01:11,667 [MainThread  ] [INFO ]  278: ../data/documents/95.json.gz\n",
      "2017-10-07 11:01:11,877 [MainThread  ] [INFO ]  279: ../data/documents/326.json.gz\n",
      "2017-10-07 11:01:13,521 [MainThread  ] [INFO ]  280: ../data/documents/761.json.gz\n",
      "2017-10-07 11:01:13,898 [MainThread  ] [INFO ]  281: ../data/documents/923.json.gz\n",
      "2017-10-07 11:01:21,572 [MainThread  ] [INFO ]  282: ../data/documents/291.json.gz\n",
      "2017-10-07 11:01:22,925 [MainThread  ] [INFO ]  283: ../data/documents/743.json.gz\n",
      "2017-10-07 11:01:26,079 [MainThread  ] [INFO ]  284: ../data/documents/343.json.gz\n",
      "2017-10-07 11:01:26,662 [MainThread  ] [INFO ]  285: ../data/documents/250.json.gz\n",
      "2017-10-07 11:01:29,825 [MainThread  ] [INFO ]  286: ../data/documents/645.json.gz\n",
      "2017-10-07 11:01:32,989 [MainThread  ] [INFO ]  287: ../data/documents/401.json.gz\n",
      "2017-10-07 11:01:33,713 [MainThread  ] [INFO ]  288: ../data/documents/127.json.gz\n",
      "2017-10-07 11:01:34,198 [MainThread  ] [INFO ]  289: ../data/documents/699.json.gz\n",
      "2017-10-07 11:01:35,188 [MainThread  ] [INFO ]  290: ../data/documents/552.json.gz\n",
      "2017-10-07 11:01:41,419 [MainThread  ] [INFO ]  291: ../data/documents/107.json.gz\n",
      "2017-10-07 11:01:43,433 [MainThread  ] [INFO ]  292: ../data/documents/559.json.gz\n",
      "2017-10-07 11:01:46,945 [MainThread  ] [INFO ]  293: ../data/documents/754.json.gz\n",
      "2017-10-07 11:01:47,373 [MainThread  ] [INFO ]  294: ../data/documents/756.json.gz\n",
      "2017-10-07 11:01:47,654 [MainThread  ] [INFO ]  295: ../data/documents/747.json.gz\n",
      "2017-10-07 11:01:50,873 [MainThread  ] [INFO ]  296: ../data/documents/723.json.gz\n",
      "2017-10-07 11:01:52,217 [MainThread  ] [INFO ]  297: ../data/documents/717.json.gz\n",
      "2017-10-07 11:01:53,174 [MainThread  ] [INFO ]  298: ../data/documents/529.json.gz\n",
      "2017-10-07 11:01:53,457 [MainThread  ] [INFO ]  299: ../data/documents/88.json.gz\n"
     ]
    },
    {
     "name": "stderr",
     "output_type": "stream",
     "text": [
      "2017-10-07 11:01:54,748 [MainThread  ] [INFO ]  300: ../data/documents/178.json.gz\n",
      "2017-10-07 11:01:56,379 [MainThread  ] [INFO ]  301: ../data/documents/819.json.gz\n",
      "2017-10-07 11:02:04,730 [MainThread  ] [INFO ]  302: ../data/documents/380.json.gz\n",
      "2017-10-07 11:02:08,261 [MainThread  ] [INFO ]  303: ../data/documents/363.json.gz\n",
      "2017-10-07 11:02:09,613 [MainThread  ] [INFO ]  304: ../data/documents/848.json.gz\n",
      "2017-10-07 11:02:10,118 [MainThread  ] [INFO ]  305: ../data/documents/524.json.gz\n",
      "2017-10-07 11:02:10,713 [MainThread  ] [INFO ]  306: ../data/documents/379.json.gz\n",
      "2017-10-07 11:02:14,911 [MainThread  ] [INFO ]  307: ../data/documents/895.json.gz\n",
      "2017-10-07 11:02:17,421 [MainThread  ] [INFO ]  308: ../data/documents/557.json.gz\n",
      "2017-10-07 11:02:23,140 [MainThread  ] [INFO ]  309: ../data/documents/338.json.gz\n",
      "2017-10-07 11:02:24,190 [MainThread  ] [INFO ]  310: ../data/documents/176.json.gz\n",
      "2017-10-07 11:02:25,254 [MainThread  ] [INFO ]  311: ../data/documents/794.json.gz\n",
      "2017-10-07 11:02:25,567 [MainThread  ] [INFO ]  312: ../data/documents/61.json.gz\n",
      "2017-10-07 11:02:26,398 [MainThread  ] [INFO ]  313: ../data/documents/347.json.gz\n",
      "2017-10-07 11:02:26,582 [MainThread  ] [INFO ]  314: ../data/documents/195.json.gz\n",
      "2017-10-07 11:02:27,078 [MainThread  ] [INFO ]  315: ../data/documents/62.json.gz\n",
      "2017-10-07 11:02:28,019 [MainThread  ] [INFO ]  316: ../data/documents/672.json.gz\n",
      "2017-10-07 11:02:29,148 [MainThread  ] [INFO ]  317: ../data/documents/602.json.gz\n",
      "2017-10-07 11:02:30,732 [MainThread  ] [INFO ]  318: ../data/documents/711.json.gz\n",
      "2017-10-07 11:02:31,080 [MainThread  ] [INFO ]  319: ../data/documents/629.json.gz\n",
      "2017-10-07 11:02:31,372 [MainThread  ] [INFO ]  320: ../data/documents/528.json.gz\n",
      "2017-10-07 11:02:31,645 [MainThread  ] [INFO ]  321: ../data/documents/837.json.gz\n",
      "2017-10-07 11:02:32,060 [MainThread  ] [INFO ]  322: ../data/documents/822.json.gz\n",
      "2017-10-07 11:02:36,917 [MainThread  ] [INFO ]  323: ../data/documents/271.json.gz\n",
      "2017-10-07 11:02:37,822 [MainThread  ] [INFO ]  324: ../data/documents/682.json.gz\n",
      "2017-10-07 11:02:44,940 [MainThread  ] [INFO ]  325: ../data/documents/724.json.gz\n",
      "2017-10-07 11:02:48,440 [MainThread  ] [INFO ]  326: ../data/documents/619.json.gz\n",
      "2017-10-07 11:02:50,361 [MainThread  ] [INFO ]  327: ../data/documents/384.json.gz\n",
      "2017-10-07 11:02:52,386 [MainThread  ] [INFO ]  328: ../data/documents/413.json.gz\n",
      "2017-10-07 11:02:55,270 [MainThread  ] [INFO ]  329: ../data/documents/91.json.gz\n",
      "2017-10-07 11:02:56,198 [MainThread  ] [INFO ]  330: ../data/documents/573.json.gz\n",
      "2017-10-07 11:02:56,930 [MainThread  ] [INFO ]  331: ../data/documents/800.json.gz\n",
      "2017-10-07 11:02:59,589 [MainThread  ] [INFO ]  332: ../data/documents/336.json.gz\n",
      "2017-10-07 11:03:01,490 [MainThread  ] [INFO ]  333: ../data/documents/391.json.gz\n",
      "2017-10-07 11:03:01,871 [MainThread  ] [INFO ]  334: ../data/documents/438.json.gz\n",
      "2017-10-07 11:03:02,381 [MainThread  ] [INFO ]  335: ../data/documents/237.json.gz\n",
      "2017-10-07 11:03:02,815 [MainThread  ] [INFO ]  336: ../data/documents/287.json.gz\n",
      "2017-10-07 11:03:03,778 [MainThread  ] [INFO ]  337: ../data/documents/251.json.gz\n",
      "2017-10-07 11:03:05,089 [MainThread  ] [INFO ]  338: ../data/documents/684.json.gz\n",
      "2017-10-07 11:03:08,749 [MainThread  ] [INFO ]  339: ../data/documents/992.json.gz\n",
      "2017-10-07 11:03:11,815 [MainThread  ] [INFO ]  340: ../data/documents/836.json.gz\n",
      "2017-10-07 11:03:12,218 [MainThread  ] [INFO ]  341: ../data/documents/65.json.gz\n",
      "2017-10-07 11:03:12,691 [MainThread  ] [INFO ]  342: ../data/documents/584.json.gz\n",
      "2017-10-07 11:03:13,025 [MainThread  ] [INFO ]  343: ../data/documents/381.json.gz\n",
      "2017-10-07 11:03:17,732 [MainThread  ] [INFO ]  344: ../data/documents/813.json.gz\n",
      "2017-10-07 11:03:27,158 [MainThread  ] [INFO ]  345: ../data/documents/188.json.gz\n",
      "2017-10-07 11:03:30,069 [MainThread  ] [INFO ]  346: ../data/documents/196.json.gz\n",
      "2017-10-07 11:03:31,485 [MainThread  ] [INFO ]  347: ../data/documents/728.json.gz\n",
      "2017-10-07 11:03:34,661 [MainThread  ] [INFO ]  348: ../data/documents/216.json.gz\n",
      "2017-10-07 11:03:38,753 [MainThread  ] [INFO ]  349: ../data/documents/942.json.gz\n",
      "2017-10-07 11:03:41,611 [MainThread  ] [INFO ]  350: ../data/documents/842.json.gz\n",
      "2017-10-07 11:03:41,993 [MainThread  ] [INFO ]  351: ../data/documents/398.json.gz\n",
      "2017-10-07 11:03:42,244 [MainThread  ] [INFO ]  352: ../data/documents/963.json.gz\n",
      "2017-10-07 11:03:42,572 [MainThread  ] [INFO ]  353: ../data/documents/344.json.gz\n",
      "2017-10-07 11:03:42,784 [MainThread  ] [INFO ]  354: ../data/documents/693.json.gz\n",
      "2017-10-07 11:03:45,396 [MainThread  ] [INFO ]  355: ../data/documents/356.json.gz\n",
      "2017-10-07 11:03:45,738 [MainThread  ] [INFO ]  356: ../data/documents/194.json.gz\n",
      "2017-10-07 11:03:47,046 [MainThread  ] [INFO ]  357: ../data/documents/191.json.gz\n",
      "2017-10-07 11:03:48,571 [MainThread  ] [INFO ]  358: ../data/documents/517.json.gz\n",
      "2017-10-07 11:03:49,648 [MainThread  ] [INFO ]  359: ../data/documents/451.json.gz\n",
      "2017-10-07 11:03:49,860 [MainThread  ] [INFO ]  360: ../data/documents/89.json.gz\n",
      "2017-10-07 11:03:51,449 [MainThread  ] [INFO ]  361: ../data/documents/763.json.gz\n",
      "2017-10-07 11:03:52,149 [MainThread  ] [INFO ]  362: ../data/documents/572.json.gz\n",
      "2017-10-07 11:03:52,802 [MainThread  ] [INFO ]  363: ../data/documents/993.json.gz\n",
      "2017-10-07 11:03:55,586 [MainThread  ] [INFO ]  364: ../data/documents/282.json.gz\n",
      "2017-10-07 11:03:59,890 [MainThread  ] [INFO ]  365: ../data/documents/128.json.gz\n",
      "2017-10-07 11:04:00,546 [MainThread  ] [INFO ]  366: ../data/documents/551.json.gz\n",
      "2017-10-07 11:04:04,698 [MainThread  ] [INFO ]  367: ../data/documents/518.json.gz\n",
      "2017-10-07 11:04:07,240 [MainThread  ] [INFO ]  368: ../data/documents/917.json.gz\n",
      "2017-10-07 11:04:12,000 [MainThread  ] [INFO ]  369: ../data/documents/628.json.gz\n",
      "2017-10-07 11:04:12,952 [MainThread  ] [INFO ]  370: ../data/documents/274.json.gz\n",
      "2017-10-07 11:04:15,725 [MainThread  ] [INFO ]  371: ../data/documents/632.json.gz\n",
      "2017-10-07 11:04:16,500 [MainThread  ] [INFO ]  372: ../data/documents/926.json.gz\n",
      "2017-10-07 11:04:21,899 [MainThread  ] [INFO ]  373: ../data/documents/536.json.gz\n",
      "2017-10-07 11:04:22,449 [MainThread  ] [INFO ]  374: ../data/documents/374.json.gz\n",
      "2017-10-07 11:04:23,966 [MainThread  ] [INFO ]  375: ../data/documents/830.json.gz\n",
      "2017-10-07 11:04:25,223 [MainThread  ] [INFO ]  376: ../data/documents/825.json.gz\n",
      "2017-10-07 11:04:27,168 [MainThread  ] [INFO ]  377: ../data/documents/862.json.gz\n",
      "2017-10-07 11:04:28,233 [MainThread  ] [INFO ]  378: ../data/documents/989.json.gz\n",
      "2017-10-07 11:04:39,676 [MainThread  ] [INFO ]  379: ../data/documents/647.json.gz\n",
      "2017-10-07 11:04:42,850 [MainThread  ] [INFO ]  380: ../data/documents/11.json.gz\n",
      "2017-10-07 11:04:44,966 [MainThread  ] [INFO ]  381: ../data/documents/245.json.gz\n",
      "2017-10-07 11:04:48,675 [MainThread  ] [INFO ]  382: ../data/documents/530.json.gz\n",
      "2017-10-07 11:04:49,558 [MainThread  ] [INFO ]  383: ../data/documents/609.json.gz\n",
      "2017-10-07 11:04:55,837 [MainThread  ] [INFO ]  384: ../data/documents/138.json.gz\n",
      "2017-10-07 11:04:57,253 [MainThread  ] [INFO ]  385: ../data/documents/184.json.gz\n",
      "2017-10-07 11:04:58,690 [MainThread  ] [INFO ]  386: ../data/documents/288.json.gz\n",
      "2017-10-07 11:04:59,641 [MainThread  ] [INFO ]  387: ../data/documents/779.json.gz\n",
      "2017-10-07 11:05:00,268 [MainThread  ] [INFO ]  388: ../data/documents/873.json.gz\n",
      "2017-10-07 11:05:02,979 [MainThread  ] [INFO ]  389: ../data/documents/350.json.gz\n",
      "2017-10-07 11:05:03,282 [MainThread  ] [INFO ]  390: ../data/documents/949.json.gz\n",
      "2017-10-07 11:05:03,803 [MainThread  ] [INFO ]  391: ../data/documents/749.json.gz\n",
      "2017-10-07 11:05:05,662 [MainThread  ] [INFO ]  392: ../data/documents/875.json.gz\n",
      "2017-10-07 11:05:08,416 [MainThread  ] [INFO ]  393: ../data/documents/571.json.gz\n",
      "2017-10-07 11:05:09,294 [MainThread  ] [INFO ]  394: ../data/documents/448.json.gz\n",
      "2017-10-07 11:05:09,831 [MainThread  ] [INFO ]  395: ../data/documents/0.json.gz\n",
      "2017-10-07 11:05:10,774 [MainThread  ] [INFO ]  396: ../data/documents/75.json.gz\n",
      "2017-10-07 11:05:11,035 [MainThread  ] [INFO ]  397: ../data/documents/701.json.gz\n",
      "2017-10-07 11:05:11,989 [MainThread  ] [INFO ]  398: ../data/documents/774.json.gz\n"
     ]
    },
    {
     "name": "stderr",
     "output_type": "stream",
     "text": [
      "2017-10-07 11:05:13,793 [MainThread  ] [INFO ]  399: ../data/documents/345.json.gz\n",
      "2017-10-07 11:05:14,187 [MainThread  ] [INFO ]  400: ../data/documents/319.json.gz\n",
      "2017-10-07 11:05:15,938 [MainThread  ] [INFO ]  401: ../data/documents/66.json.gz\n",
      "2017-10-07 11:05:16,369 [MainThread  ] [INFO ]  402: ../data/documents/674.json.gz\n",
      "2017-10-07 11:05:18,977 [MainThread  ] [INFO ]  403: ../data/documents/244.json.gz\n",
      "2017-10-07 11:05:22,505 [MainThread  ] [INFO ]  404: ../data/documents/767.json.gz\n",
      "2017-10-07 11:05:23,992 [MainThread  ] [INFO ]  405: ../data/documents/205.json.gz\n",
      "2017-10-07 11:05:24,448 [MainThread  ] [INFO ]  406: ../data/documents/277.json.gz\n",
      "2017-10-07 11:05:27,132 [MainThread  ] [INFO ]  407: ../data/documents/642.json.gz\n",
      "2017-10-07 11:05:29,081 [MainThread  ] [INFO ]  408: ../data/documents/400.json.gz\n",
      "2017-10-07 11:05:29,756 [MainThread  ] [INFO ]  409: ../data/documents/521.json.gz\n",
      "2017-10-07 11:05:30,898 [MainThread  ] [INFO ]  410: ../data/documents/737.json.gz\n",
      "2017-10-07 11:05:34,426 [MainThread  ] [INFO ]  411: ../data/documents/135.json.gz\n",
      "2017-10-07 11:05:35,944 [MainThread  ] [INFO ]  412: ../data/documents/538.json.gz\n",
      "2017-10-07 11:05:36,790 [MainThread  ] [INFO ]  413: ../data/documents/460.json.gz\n",
      "2017-10-07 11:05:38,160 [MainThread  ] [INFO ]  414: ../data/documents/688.json.gz\n",
      "2017-10-07 11:05:40,076 [MainThread  ] [INFO ]  415: ../data/documents/503.json.gz\n",
      "2017-10-07 11:05:42,579 [MainThread  ] [INFO ]  416: ../data/documents/507.json.gz\n",
      "2017-10-07 11:05:47,006 [MainThread  ] [INFO ]  417: ../data/documents/442.json.gz\n",
      "2017-10-07 11:05:48,183 [MainThread  ] [INFO ]  418: ../data/documents/305.json.gz\n",
      "2017-10-07 11:05:50,948 [MainThread  ] [INFO ]  419: ../data/documents/676.json.gz\n",
      "2017-10-07 11:05:54,272 [MainThread  ] [INFO ]  420: ../data/documents/457.json.gz\n",
      "2017-10-07 11:05:57,388 [MainThread  ] [INFO ]  421: ../data/documents/921.json.gz\n",
      "2017-10-07 11:06:05,337 [MainThread  ] [INFO ]  422: ../data/documents/368.json.gz\n",
      "2017-10-07 11:06:07,994 [MainThread  ] [INFO ]  423: ../data/documents/353.json.gz\n",
      "2017-10-07 11:06:08,549 [MainThread  ] [INFO ]  424: ../data/documents/301.json.gz\n",
      "2017-10-07 11:06:10,346 [MainThread  ] [INFO ]  425: ../data/documents/373.json.gz\n",
      "2017-10-07 11:06:13,621 [MainThread  ] [INFO ]  426: ../data/documents/570.json.gz\n",
      "2017-10-07 11:06:14,150 [MainThread  ] [INFO ]  427: ../data/documents/229.json.gz\n",
      "2017-10-07 11:06:15,115 [MainThread  ] [INFO ]  428: ../data/documents/268.json.gz\n",
      "2017-10-07 11:06:15,355 [MainThread  ] [INFO ]  429: ../data/documents/626.json.gz\n",
      "2017-10-07 11:06:15,655 [MainThread  ] [INFO ]  430: ../data/documents/692.json.gz\n",
      "2017-10-07 11:06:17,193 [MainThread  ] [INFO ]  431: ../data/documents/59.json.gz\n",
      "2017-10-07 11:06:18,210 [MainThread  ] [INFO ]  432: ../data/documents/765.json.gz\n",
      "2017-10-07 11:06:18,552 [MainThread  ] [INFO ]  433: ../data/documents/959.json.gz\n",
      "2017-10-07 11:06:19,042 [MainThread  ] [INFO ]  434: ../data/documents/722.json.gz\n",
      "2017-10-07 11:06:20,029 [MainThread  ] [INFO ]  435: ../data/documents/850.json.gz\n",
      "2017-10-07 11:06:20,363 [MainThread  ] [INFO ]  436: ../data/documents/710.json.gz\n",
      "2017-10-07 11:06:20,794 [MainThread  ] [INFO ]  437: ../data/documents/33.json.gz\n",
      "2017-10-07 11:06:20,889 [MainThread  ] [INFO ]  438: ../data/documents/51.json.gz\n",
      "2017-10-07 11:06:21,673 [MainThread  ] [INFO ]  439: ../data/documents/866.json.gz\n",
      "2017-10-07 11:06:26,944 [MainThread  ] [INFO ]  440: ../data/documents/969.json.gz\n",
      "2017-10-07 11:06:30,054 [MainThread  ] [INFO ]  441: ../data/documents/937.json.gz\n",
      "2017-10-07 11:06:34,662 [MainThread  ] [INFO ]  442: ../data/documents/479.json.gz\n",
      "2017-10-07 11:06:35,514 [MainThread  ] [INFO ]  443: ../data/documents/662.json.gz\n",
      "2017-10-07 11:06:42,336 [MainThread  ] [INFO ]  444: ../data/documents/583.json.gz\n",
      "2017-10-07 11:06:43,321 [MainThread  ] [INFO ]  445: ../data/documents/390.json.gz\n",
      "2017-10-07 11:06:43,616 [MainThread  ] [INFO ]  446: ../data/documents/855.json.gz\n",
      "2017-10-07 11:06:44,236 [MainThread  ] [INFO ]  447: ../data/documents/212.json.gz\n",
      "2017-10-07 11:06:44,810 [MainThread  ] [INFO ]  448: ../data/documents/957.json.gz\n",
      "2017-10-07 11:06:45,781 [MainThread  ] [INFO ]  449: ../data/documents/190.json.gz\n",
      "2017-10-07 11:06:48,864 [MainThread  ] [INFO ]  450: ../data/documents/6.json.gz\n",
      "2017-10-07 11:06:50,430 [MainThread  ] [INFO ]  451: ../data/documents/103.json.gz\n",
      "2017-10-07 11:06:51,946 [MainThread  ] [INFO ]  452: ../data/documents/431.json.gz\n",
      "2017-10-07 11:06:52,930 [MainThread  ] [INFO ]  453: ../data/documents/399.json.gz\n",
      "2017-10-07 11:06:53,293 [MainThread  ] [INFO ]  454: ../data/documents/174.json.gz\n",
      "2017-10-07 11:06:53,506 [MainThread  ] [INFO ]  455: ../data/documents/446.json.gz\n",
      "2017-10-07 11:06:53,700 [MainThread  ] [INFO ]  456: ../data/documents/858.json.gz\n",
      "2017-10-07 11:06:54,935 [MainThread  ] [INFO ]  457: ../data/documents/601.json.gz\n",
      "2017-10-07 11:06:56,384 [MainThread  ] [INFO ]  458: ../data/documents/680.json.gz\n",
      "2017-10-07 11:06:58,014 [MainThread  ] [INFO ]  459: ../data/documents/864.json.gz\n",
      "2017-10-07 11:06:59,582 [MainThread  ] [INFO ]  460: ../data/documents/504.json.gz\n",
      "2017-10-07 11:07:03,058 [MainThread  ] [INFO ]  461: ../data/documents/388.json.gz\n",
      "2017-10-07 11:07:03,841 [MainThread  ] [INFO ]  462: ../data/documents/681.json.gz\n",
      "2017-10-07 11:07:10,051 [MainThread  ] [INFO ]  463: ../data/documents/435.json.gz\n",
      "2017-10-07 11:07:11,233 [MainThread  ] [INFO ]  464: ../data/documents/359.json.gz\n",
      "2017-10-07 11:07:11,672 [MainThread  ] [INFO ]  465: ../data/documents/310.json.gz\n",
      "2017-10-07 11:07:15,579 [MainThread  ] [INFO ]  466: ../data/documents/351.json.gz\n",
      "2017-10-07 11:07:16,205 [MainThread  ] [INFO ]  467: ../data/documents/285.json.gz\n",
      "2017-10-07 11:07:20,111 [MainThread  ] [INFO ]  468: ../data/documents/526.json.gz\n",
      "2017-10-07 11:07:20,883 [MainThread  ] [INFO ]  469: ../data/documents/492.json.gz\n",
      "2017-10-07 11:07:21,929 [MainThread  ] [INFO ]  470: ../data/documents/568.json.gz\n",
      "2017-10-07 11:07:23,328 [MainThread  ] [INFO ]  471: ../data/documents/561.json.gz\n",
      "2017-10-07 11:07:29,512 [MainThread  ] [INFO ]  472: ../data/documents/376.json.gz\n",
      "2017-10-07 11:07:31,172 [MainThread  ] [INFO ]  473: ../data/documents/207.json.gz\n",
      "2017-10-07 11:07:31,438 [MainThread  ] [INFO ]  474: ../data/documents/661.json.gz\n",
      "2017-10-07 11:07:34,599 [MainThread  ] [INFO ]  475: ../data/documents/403.json.gz\n",
      "2017-10-07 11:07:34,984 [MainThread  ] [INFO ]  476: ../data/documents/105.json.gz\n",
      "2017-10-07 11:07:35,879 [MainThread  ] [INFO ]  477: ../data/documents/80.json.gz\n",
      "2017-10-07 11:07:36,006 [MainThread  ] [INFO ]  478: ../data/documents/160.json.gz\n",
      "2017-10-07 11:07:36,173 [MainThread  ] [INFO ]  479: ../data/documents/566.json.gz\n",
      "2017-10-07 11:07:37,203 [MainThread  ] [INFO ]  480: ../data/documents/137.json.gz\n",
      "2017-10-07 11:07:38,181 [MainThread  ] [INFO ]  481: ../data/documents/325.json.gz\n",
      "2017-10-07 11:07:39,968 [MainThread  ] [INFO ]  482: ../data/documents/984.json.gz\n",
      "2017-10-07 11:07:49,659 [MainThread  ] [INFO ]  483: ../data/documents/458.json.gz\n",
      "2017-10-07 11:07:53,446 [MainThread  ] [INFO ]  484: ../data/documents/49.json.gz\n",
      "2017-10-07 11:07:55,127 [MainThread  ] [INFO ]  485: ../data/documents/166.json.gz\n",
      "2017-10-07 11:07:56,063 [MainThread  ] [INFO ]  486: ../data/documents/630.json.gz\n",
      "2017-10-07 11:07:56,678 [MainThread  ] [INFO ]  487: ../data/documents/200.json.gz\n",
      "2017-10-07 11:07:57,019 [MainThread  ] [INFO ]  488: ../data/documents/579.json.gz\n",
      "2017-10-07 11:07:57,752 [MainThread  ] [INFO ]  489: ../data/documents/843.json.gz\n",
      "2017-10-07 11:07:58,322 [MainThread  ] [INFO ]  490: ../data/documents/467.json.gz\n",
      "2017-10-07 11:08:03,576 [MainThread  ] [INFO ]  491: ../data/documents/324.json.gz\n",
      "2017-10-07 11:08:07,284 [MainThread  ] [INFO ]  492: ../data/documents/637.json.gz\n",
      "2017-10-07 11:08:07,721 [MainThread  ] [INFO ]  493: ../data/documents/21.json.gz\n",
      "2017-10-07 11:08:08,443 [MainThread  ] [INFO ]  494: ../data/documents/396.json.gz\n",
      "2017-10-07 11:08:08,773 [MainThread  ] [INFO ]  495: ../data/documents/947.json.gz\n",
      "2017-10-07 11:08:09,882 [MainThread  ] [INFO ]  496: ../data/documents/657.json.gz\n",
      "2017-10-07 11:08:13,155 [MainThread  ] [INFO ]  497: ../data/documents/31.json.gz\n"
     ]
    },
    {
     "name": "stderr",
     "output_type": "stream",
     "text": [
      "2017-10-07 11:08:13,435 [MainThread  ] [INFO ]  498: ../data/documents/496.json.gz\n",
      "2017-10-07 11:08:14,614 [MainThread  ] [INFO ]  499: ../data/documents/170.json.gz\n",
      "2017-10-07 11:08:14,805 [MainThread  ] [INFO ]  500: ../data/documents/159.json.gz\n",
      "2017-10-07 11:08:15,459 [MainThread  ] [INFO ]  501: ../data/documents/902.json.gz\n",
      "2017-10-07 11:08:15,756 [MainThread  ] [INFO ]  502: ../data/documents/762.json.gz\n",
      "2017-10-07 11:08:16,010 [MainThread  ] [INFO ]  503: ../data/documents/668.json.gz\n",
      "2017-10-07 11:08:17,503 [MainThread  ] [INFO ]  504: ../data/documents/404.json.gz\n",
      "2017-10-07 11:08:17,904 [MainThread  ] [INFO ]  505: ../data/documents/939.json.gz\n",
      "2017-10-07 11:08:23,908 [MainThread  ] [INFO ]  506: ../data/documents/411.json.gz\n",
      "2017-10-07 11:08:27,292 [MainThread  ] [INFO ]  507: ../data/documents/658.json.gz\n",
      "2017-10-07 11:08:34,224 [MainThread  ] [INFO ]  508: ../data/documents/924.json.gz\n",
      "2017-10-07 11:08:39,455 [MainThread  ] [INFO ]  509: ../data/documents/247.json.gz\n",
      "2017-10-07 11:08:42,762 [MainThread  ] [INFO ]  510: ../data/documents/867.json.gz\n",
      "2017-10-07 11:08:48,421 [MainThread  ] [INFO ]  511: ../data/documents/206.json.gz\n",
      "2017-10-07 11:08:48,854 [MainThread  ] [INFO ]  512: ../data/documents/901.json.gz\n",
      "2017-10-07 11:08:49,177 [MainThread  ] [INFO ]  513: ../data/documents/525.json.gz\n",
      "2017-10-07 11:08:49,477 [MainThread  ] [INFO ]  514: ../data/documents/880.json.gz\n",
      "2017-10-07 11:08:53,667 [MainThread  ] [INFO ]  515: ../data/documents/177.json.gz\n",
      "2017-10-07 11:08:55,004 [MainThread  ] [INFO ]  516: ../data/documents/182.json.gz\n",
      "2017-10-07 11:08:56,382 [MainThread  ] [INFO ]  517: ../data/documents/225.json.gz\n",
      "2017-10-07 11:09:00,582 [MainThread  ] [INFO ]  518: ../data/documents/716.json.gz\n",
      "2017-10-07 11:09:02,664 [MainThread  ] [INFO ]  519: ../data/documents/844.json.gz\n",
      "2017-10-07 11:09:03,403 [MainThread  ] [INFO ]  520: ../data/documents/994.json.gz\n",
      "2017-10-07 11:09:07,641 [MainThread  ] [INFO ]  521: ../data/documents/98.json.gz\n",
      "2017-10-07 11:09:09,497 [MainThread  ] [INFO ]  522: ../data/documents/414.json.gz\n",
      "2017-10-07 11:09:12,451 [MainThread  ] [INFO ]  523: ../data/documents/382.json.gz\n",
      "2017-10-07 11:09:15,754 [MainThread  ] [INFO ]  524: ../data/documents/835.json.gz\n",
      "2017-10-07 11:09:17,581 [MainThread  ] [INFO ]  525: ../data/documents/976.json.gz\n",
      "2017-10-07 11:09:20,890 [MainThread  ] [INFO ]  526: ../data/documents/487.json.gz\n",
      "2017-10-07 11:09:21,521 [MainThread  ] [INFO ]  527: ../data/documents/884.json.gz\n",
      "2017-10-07 11:09:24,744 [MainThread  ] [INFO ]  528: ../data/documents/604.json.gz\n",
      "2017-10-07 11:09:27,690 [MainThread  ] [INFO ]  529: ../data/documents/47.json.gz\n",
      "2017-10-07 11:09:28,614 [MainThread  ] [INFO ]  530: ../data/documents/532.json.gz\n",
      "2017-10-07 11:09:28,897 [MainThread  ] [INFO ]  531: ../data/documents/405.json.gz\n",
      "2017-10-07 11:09:29,112 [MainThread  ] [INFO ]  532: ../data/documents/109.json.gz\n",
      "2017-10-07 11:09:30,118 [MainThread  ] [INFO ]  533: ../data/documents/386.json.gz\n",
      "2017-10-07 11:09:31,061 [MainThread  ] [INFO ]  534: ../data/documents/679.json.gz\n",
      "2017-10-07 11:09:32,464 [MainThread  ] [INFO ]  535: ../data/documents/214.json.gz\n",
      "2017-10-07 11:09:34,272 [MainThread  ] [INFO ]  536: ../data/documents/10.json.gz\n",
      "2017-10-07 11:09:35,288 [MainThread  ] [INFO ]  537: ../data/documents/275.json.gz\n",
      "2017-10-07 11:09:37,479 [MainThread  ] [INFO ]  538: ../data/documents/549.json.gz\n",
      "2017-10-07 11:09:40,886 [MainThread  ] [INFO ]  539: ../data/documents/527.json.gz\n",
      "2017-10-07 11:09:42,146 [MainThread  ] [INFO ]  540: ../data/documents/889.json.gz\n",
      "2017-10-07 11:09:44,160 [MainThread  ] [INFO ]  541: ../data/documents/892.json.gz\n",
      "2017-10-07 11:09:46,806 [MainThread  ] [INFO ]  542: ../data/documents/142.json.gz\n",
      "2017-10-07 11:09:49,143 [MainThread  ] [INFO ]  543: ../data/documents/459.json.gz\n",
      "2017-10-07 11:09:52,064 [MainThread  ] [INFO ]  544: ../data/documents/465.json.gz\n",
      "2017-10-07 11:09:57,866 [MainThread  ] [INFO ]  545: ../data/documents/618.json.gz\n",
      "2017-10-07 11:10:00,110 [MainThread  ] [INFO ]  546: ../data/documents/910.json.gz\n",
      "2017-10-07 11:10:00,962 [MainThread  ] [INFO ]  547: ../data/documents/181.json.gz\n",
      "2017-10-07 11:10:04,185 [MainThread  ] [INFO ]  548: ../data/documents/104.json.gz\n",
      "2017-10-07 11:10:05,041 [MainThread  ] [INFO ]  549: ../data/documents/293.json.gz\n",
      "2017-10-07 11:10:05,266 [MainThread  ] [INFO ]  550: ../data/documents/980.json.gz\n",
      "2017-10-07 11:10:08,428 [MainThread  ] [INFO ]  551: ../data/documents/337.json.gz\n",
      "2017-10-07 11:10:09,178 [MainThread  ] [INFO ]  552: ../data/documents/220.json.gz\n",
      "2017-10-07 11:10:10,605 [MainThread  ] [INFO ]  553: ../data/documents/42.json.gz\n",
      "2017-10-07 11:10:11,474 [MainThread  ] [INFO ]  554: ../data/documents/610.json.gz\n",
      "2017-10-07 11:10:14,564 [MainThread  ] [INFO ]  555: ../data/documents/110.json.gz\n",
      "2017-10-07 11:10:16,809 [MainThread  ] [INFO ]  556: ../data/documents/590.json.gz\n",
      "2017-10-07 11:10:19,957 [MainThread  ] [INFO ]  557: ../data/documents/725.json.gz\n",
      "2017-10-07 11:10:23,434 [MainThread  ] [INFO ]  558: ../data/documents/198.json.gz\n",
      "2017-10-07 11:10:23,914 [MainThread  ] [INFO ]  559: ../data/documents/87.json.gz\n",
      "2017-10-07 11:10:26,760 [MainThread  ] [INFO ]  560: ../data/documents/60.json.gz\n",
      "2017-10-07 11:10:29,066 [MainThread  ] [INFO ]  561: ../data/documents/13.json.gz\n",
      "2017-10-07 11:10:30,592 [MainThread  ] [INFO ]  562: ../data/documents/320.json.gz\n",
      "2017-10-07 11:10:33,372 [MainThread  ] [INFO ]  563: ../data/documents/704.json.gz\n",
      "2017-10-07 11:10:34,178 [MainThread  ] [INFO ]  564: ../data/documents/79.json.gz\n",
      "2017-10-07 11:10:34,400 [MainThread  ] [INFO ]  565: ../data/documents/971.json.gz\n",
      "2017-10-07 11:10:38,110 [MainThread  ] [INFO ]  566: ../data/documents/259.json.gz\n",
      "2017-10-07 11:10:39,682 [MainThread  ] [INFO ]  567: ../data/documents/472.json.gz\n",
      "2017-10-07 11:10:42,680 [MainThread  ] [INFO ]  568: ../data/documents/263.json.gz\n",
      "2017-10-07 11:10:43,219 [MainThread  ] [INFO ]  569: ../data/documents/729.json.gz\n",
      "2017-10-07 11:10:45,165 [MainThread  ] [INFO ]  570: ../data/documents/760.json.gz\n",
      "2017-10-07 11:10:45,539 [MainThread  ] [INFO ]  571: ../data/documents/444.json.gz\n",
      "2017-10-07 11:10:45,733 [MainThread  ] [INFO ]  572: ../data/documents/808.json.gz\n",
      "2017-10-07 11:10:47,319 [MainThread  ] [INFO ]  573: ../data/documents/677.json.gz\n",
      "2017-10-07 11:10:48,955 [MainThread  ] [INFO ]  574: ../data/documents/607.json.gz\n",
      "2017-10-07 11:10:51,703 [MainThread  ] [INFO ]  575: ../data/documents/204.json.gz\n",
      "2017-10-07 11:10:52,039 [MainThread  ] [INFO ]  576: ../data/documents/920.json.gz\n",
      "2017-10-07 11:10:57,808 [MainThread  ] [INFO ]  577: ../data/documents/987.json.gz\n",
      "2017-10-07 11:11:08,340 [MainThread  ] [INFO ]  578: ../data/documents/14.json.gz\n",
      "2017-10-07 11:11:11,548 [MainThread  ] [INFO ]  579: ../data/documents/428.json.gz\n",
      "2017-10-07 11:11:13,426 [MainThread  ] [INFO ]  580: ../data/documents/972.json.gz\n",
      "2017-10-07 11:11:16,301 [MainThread  ] [INFO ]  581: ../data/documents/392.json.gz\n",
      "2017-10-07 11:11:16,947 [MainThread  ] [INFO ]  582: ../data/documents/385.json.gz\n",
      "2017-10-07 11:11:18,593 [MainThread  ] [INFO ]  583: ../data/documents/283.json.gz\n",
      "2017-10-07 11:11:23,195 [MainThread  ] [INFO ]  584: ../data/documents/996.json.gz\n",
      "2017-10-07 11:11:25,046 [MainThread  ] [INFO ]  585: ../data/documents/130.json.gz\n",
      "2017-10-07 11:11:25,303 [MainThread  ] [INFO ]  586: ../data/documents/664.json.gz\n",
      "2017-10-07 11:11:28,550 [MainThread  ] [INFO ]  587: ../data/documents/512.json.gz\n",
      "2017-10-07 11:11:29,630 [MainThread  ] [INFO ]  588: ../data/documents/257.json.gz\n",
      "2017-10-07 11:11:31,788 [MainThread  ] [INFO ]  589: ../data/documents/96.json.gz\n",
      "2017-10-07 11:11:32,360 [MainThread  ] [INFO ]  590: ../data/documents/776.json.gz\n",
      "2017-10-07 11:11:33,421 [MainThread  ] [INFO ]  591: ../data/documents/416.json.gz\n",
      "2017-10-07 11:11:35,146 [MainThread  ] [INFO ]  592: ../data/documents/703.json.gz\n",
      "2017-10-07 11:11:35,958 [MainThread  ] [INFO ]  593: ../data/documents/951.json.gz\n",
      "2017-10-07 11:11:37,600 [MainThread  ] [INFO ]  594: ../data/documents/316.json.gz\n",
      "2017-10-07 11:11:41,045 [MainThread  ] [INFO ]  595: ../data/documents/502.json.gz\n",
      "2017-10-07 11:11:44,535 [MainThread  ] [INFO ]  596: ../data/documents/199.json.gz\n"
     ]
    },
    {
     "name": "stderr",
     "output_type": "stream",
     "text": [
      "2017-10-07 11:11:45,144 [MainThread  ] [INFO ]  597: ../data/documents/904.json.gz\n",
      "2017-10-07 11:11:45,765 [MainThread  ] [INFO ]  598: ../data/documents/622.json.gz\n",
      "2017-10-07 11:11:47,825 [MainThread  ] [INFO ]  599: ../data/documents/640.json.gz\n",
      "2017-10-07 11:11:48,608 [MainThread  ] [INFO ]  600: ../data/documents/919.json.gz\n",
      "2017-10-07 11:11:55,584 [MainThread  ] [INFO ]  601: ../data/documents/914.json.gz\n",
      "2017-10-07 11:11:57,882 [MainThread  ] [INFO ]  602: ../data/documents/615.json.gz\n",
      "2017-10-07 11:12:00,880 [MainThread  ] [INFO ]  603: ../data/documents/73.json.gz\n",
      "2017-10-07 11:12:01,300 [MainThread  ] [INFO ]  604: ../data/documents/772.json.gz\n",
      "2017-10-07 11:12:03,553 [MainThread  ] [INFO ]  605: ../data/documents/235.json.gz\n",
      "2017-10-07 11:12:03,953 [MainThread  ] [INFO ]  606: ../data/documents/621.json.gz\n",
      "2017-10-07 11:12:05,031 [MainThread  ] [INFO ]  607: ../data/documents/683.json.gz\n",
      "2017-10-07 11:12:08,616 [MainThread  ] [INFO ]  608: ../data/documents/273.json.gz\n",
      "2017-10-07 11:12:09,576 [MainThread  ] [INFO ]  609: ../data/documents/421.json.gz\n",
      "2017-10-07 11:12:11,478 [MainThread  ] [INFO ]  610: ../data/documents/151.json.gz\n",
      "2017-10-07 11:12:12,864 [MainThread  ] [INFO ]  611: ../data/documents/445.json.gz\n",
      "2017-10-07 11:12:13,237 [MainThread  ] [INFO ]  612: ../data/documents/480.json.gz\n",
      "2017-10-07 11:12:14,561 [MainThread  ] [INFO ]  613: ../data/documents/57.json.gz\n",
      "2017-10-07 11:12:16,219 [MainThread  ] [INFO ]  614: ../data/documents/371.json.gz\n",
      "2017-10-07 11:12:19,014 [MainThread  ] [INFO ]  615: ../data/documents/294.json.gz\n",
      "2017-10-07 11:12:20,027 [MainThread  ] [INFO ]  616: ../data/documents/687.json.gz\n",
      "2017-10-07 11:12:23,127 [MainThread  ] [INFO ]  617: ../data/documents/753.json.gz\n",
      "2017-10-07 11:12:23,977 [MainThread  ] [INFO ]  618: ../data/documents/713.json.gz\n",
      "2017-10-07 11:12:24,620 [MainThread  ] [INFO ]  619: ../data/documents/509.json.gz\n",
      "2017-10-07 11:12:28,782 [MainThread  ] [INFO ]  620: ../data/documents/569.json.gz\n",
      "2017-10-07 11:12:31,095 [MainThread  ] [INFO ]  621: ../data/documents/974.json.gz\n",
      "2017-10-07 11:12:34,247 [MainThread  ] [INFO ]  622: ../data/documents/484.json.gz\n",
      "2017-10-07 11:12:34,815 [MainThread  ] [INFO ]  623: ../data/documents/515.json.gz\n",
      "2017-10-07 11:12:37,071 [MainThread  ] [INFO ]  624: ../data/documents/834.json.gz\n",
      "2017-10-07 11:12:38,608 [MainThread  ] [INFO ]  625: ../data/documents/161.json.gz\n",
      "2017-10-07 11:12:39,322 [MainThread  ] [INFO ]  626: ../data/documents/638.json.gz\n",
      "2017-10-07 11:12:40,341 [MainThread  ] [INFO ]  627: ../data/documents/447.json.gz\n",
      "2017-10-07 11:12:41,070 [MainThread  ] [INFO ]  628: ../data/documents/202.json.gz\n",
      "2017-10-07 11:12:41,434 [MainThread  ] [INFO ]  629: ../data/documents/505.json.gz\n",
      "2017-10-07 11:12:44,285 [MainThread  ] [INFO ]  630: ../data/documents/153.json.gz\n",
      "2017-10-07 11:12:45,752 [MainThread  ] [INFO ]  631: ../data/documents/143.json.gz\n",
      "2017-10-07 11:12:46,717 [MainThread  ] [INFO ]  632: ../data/documents/475.json.gz\n",
      "2017-10-07 11:12:47,759 [MainThread  ] [INFO ]  633: ../data/documents/213.json.gz\n",
      "2017-10-07 11:12:48,913 [MainThread  ] [INFO ]  634: ../data/documents/958.json.gz\n",
      "2017-10-07 11:12:49,273 [MainThread  ] [INFO ]  635: ../data/documents/402.json.gz\n",
      "2017-10-07 11:12:49,607 [MainThread  ] [INFO ]  636: ../data/documents/655.json.gz\n",
      "2017-10-07 11:12:51,343 [MainThread  ] [INFO ]  637: ../data/documents/598.json.gz\n",
      "2017-10-07 11:12:53,263 [MainThread  ] [INFO ]  638: ../data/documents/871.json.gz\n",
      "2017-10-07 11:12:58,278 [MainThread  ] [INFO ]  639: ../data/documents/354.json.gz\n",
      "2017-10-07 11:12:58,982 [MainThread  ] [INFO ]  640: ../data/documents/620.json.gz\n",
      "2017-10-07 11:13:00,792 [MainThread  ] [INFO ]  641: ../data/documents/389.json.gz\n",
      "2017-10-07 11:13:02,650 [MainThread  ] [INFO ]  642: ../data/documents/430.json.gz\n",
      "2017-10-07 11:13:05,858 [MainThread  ] [INFO ]  643: ../data/documents/40.json.gz\n",
      "2017-10-07 11:13:06,331 [MainThread  ] [INFO ]  644: ../data/documents/960.json.gz\n",
      "2017-10-07 11:13:07,078 [MainThread  ] [INFO ]  645: ../data/documents/736.json.gz\n",
      "2017-10-07 11:13:13,187 [MainThread  ] [INFO ]  646: ../data/documents/550.json.gz\n",
      "2017-10-07 11:13:17,201 [MainThread  ] [INFO ]  647: ../data/documents/968.json.gz\n",
      "2017-10-07 11:13:20,250 [MainThread  ] [INFO ]  648: ../data/documents/145.json.gz\n",
      "2017-10-07 11:13:21,487 [MainThread  ] [INFO ]  649: ../data/documents/934.json.gz\n",
      "2017-10-07 11:13:25,502 [MainThread  ] [INFO ]  650: ../data/documents/236.json.gz\n",
      "2017-10-07 11:13:25,912 [MainThread  ] [INFO ]  651: ../data/documents/708.json.gz\n",
      "2017-10-07 11:13:26,202 [MainThread  ] [INFO ]  652: ../data/documents/824.json.gz\n",
      "2017-10-07 11:13:29,292 [MainThread  ] [INFO ]  653: ../data/documents/783.json.gz\n",
      "2017-10-07 11:13:29,771 [MainThread  ] [INFO ]  654: ../data/documents/304.json.gz\n",
      "2017-10-07 11:13:31,035 [MainThread  ] [INFO ]  655: ../data/documents/67.json.gz\n",
      "2017-10-07 11:13:32,406 [MainThread  ] [INFO ]  656: ../data/documents/242.json.gz\n",
      "2017-10-07 11:13:32,983 [MainThread  ] [INFO ]  657: ../data/documents/2.json.gz\n",
      "2017-10-07 11:13:34,428 [MainThread  ] [INFO ]  658: ../data/documents/849.json.gz\n",
      "2017-10-07 11:13:35,172 [MainThread  ] [INFO ]  659: ../data/documents/115.json.gz\n",
      "2017-10-07 11:13:36,251 [MainThread  ] [INFO ]  660: ../data/documents/759.json.gz\n",
      "2017-10-07 11:13:36,921 [MainThread  ] [INFO ]  661: ../data/documents/715.json.gz\n",
      "2017-10-07 11:13:38,401 [MainThread  ] [INFO ]  662: ../data/documents/222.json.gz\n",
      "2017-10-07 11:13:42,096 [MainThread  ] [INFO ]  663: ../data/documents/412.json.gz\n",
      "2017-10-07 11:13:45,209 [MainThread  ] [INFO ]  664: ../data/documents/201.json.gz\n",
      "2017-10-07 11:13:45,665 [MainThread  ] [INFO ]  665: ../data/documents/466.json.gz\n",
      "2017-10-07 11:13:49,523 [MainThread  ] [INFO ]  666: ../data/documents/740.json.gz\n",
      "2017-10-07 11:13:52,918 [MainThread  ] [INFO ]  667: ../data/documents/741.json.gz\n",
      "2017-10-07 11:13:56,233 [MainThread  ] [INFO ]  668: ../data/documents/18.json.gz\n",
      "2017-10-07 11:13:58,406 [MainThread  ] [INFO ]  669: ../data/documents/605.json.gz\n",
      "2017-10-07 11:14:01,622 [MainThread  ] [INFO ]  670: ../data/documents/594.json.gz\n",
      "2017-10-07 11:14:02,985 [MainThread  ] [INFO ]  671: ../data/documents/623.json.gz\n",
      "2017-10-07 11:14:03,647 [MainThread  ] [INFO ]  672: ../data/documents/264.json.gz\n",
      "2017-10-07 11:14:03,864 [MainThread  ] [INFO ]  673: ../data/documents/541.json.gz\n",
      "2017-10-07 11:14:05,225 [MainThread  ] [INFO ]  674: ../data/documents/45.json.gz\n",
      "2017-10-07 11:14:06,030 [MainThread  ] [INFO ]  675: ../data/documents/877.json.gz\n",
      "2017-10-07 11:14:07,862 [MainThread  ] [INFO ]  676: ../data/documents/593.json.gz\n",
      "2017-10-07 11:14:09,085 [MainThread  ] [INFO ]  677: ../data/documents/833.json.gz\n",
      "2017-10-07 11:14:09,694 [MainThread  ] [INFO ]  678: ../data/documents/973.json.gz\n",
      "2017-10-07 11:14:12,166 [MainThread  ] [INFO ]  679: ../data/documents/967.json.gz\n",
      "2017-10-07 11:14:15,728 [MainThread  ] [INFO ]  680: ../data/documents/718.json.gz\n",
      "2017-10-07 11:14:17,780 [MainThread  ] [INFO ]  681: ../data/documents/663.json.gz\n",
      "2017-10-07 11:14:25,670 [MainThread  ] [INFO ]  682: ../data/documents/744.json.gz\n",
      "2017-10-07 11:14:31,449 [MainThread  ] [INFO ]  683: ../data/documents/93.json.gz\n",
      "2017-10-07 11:14:32,932 [MainThread  ] [INFO ]  684: ../data/documents/314.json.gz\n",
      "2017-10-07 11:14:34,875 [MainThread  ] [INFO ]  685: ../data/documents/119.json.gz\n",
      "2017-10-07 11:14:35,607 [MainThread  ] [INFO ]  686: ../data/documents/439.json.gz\n",
      "2017-10-07 11:14:36,328 [MainThread  ] [INFO ]  687: ../data/documents/82.json.gz\n",
      "2017-10-07 11:14:36,553 [MainThread  ] [INFO ]  688: ../data/documents/952.json.gz\n",
      "2017-10-07 11:14:37,050 [MainThread  ] [INFO ]  689: ../data/documents/150.json.gz\n",
      "2017-10-07 11:14:38,318 [MainThread  ] [INFO ]  690: ../data/documents/612.json.gz\n",
      "2017-10-07 11:14:41,407 [MainThread  ] [INFO ]  691: ../data/documents/733.json.gz\n",
      "2017-10-07 11:14:45,271 [MainThread  ] [INFO ]  692: ../data/documents/922.json.gz\n",
      "2017-10-07 11:14:48,967 [MainThread  ] [INFO ]  693: ../data/documents/468.json.gz\n",
      "2017-10-07 11:14:53,770 [MainThread  ] [INFO ]  694: ../data/documents/193.json.gz\n",
      "2017-10-07 11:14:56,889 [MainThread  ] [INFO ]  695: ../data/documents/641.json.gz\n"
     ]
    },
    {
     "name": "stderr",
     "output_type": "stream",
     "text": [
      "2017-10-07 11:14:57,922 [MainThread  ] [INFO ]  696: ../data/documents/500.json.gz\n",
      "2017-10-07 11:15:00,702 [MainThread  ] [INFO ]  697: ../data/documents/227.json.gz\n",
      "2017-10-07 11:15:04,831 [MainThread  ] [INFO ]  698: ../data/documents/514.json.gz\n",
      "2017-10-07 11:15:07,636 [MainThread  ] [INFO ]  699: ../data/documents/555.json.gz\n",
      "2017-10-07 11:15:13,869 [MainThread  ] [INFO ]  700: ../data/documents/158.json.gz\n",
      "2017-10-07 11:15:15,542 [MainThread  ] [INFO ]  701: ../data/documents/436.json.gz\n",
      "2017-10-07 11:15:15,837 [MainThread  ] [INFO ]  702: ../data/documents/462.json.gz\n",
      "2017-10-07 11:15:17,419 [MainThread  ] [INFO ]  703: ../data/documents/911.json.gz\n",
      "2017-10-07 11:15:17,974 [MainThread  ] [INFO ]  704: ../data/documents/378.json.gz\n",
      "2017-10-07 11:15:20,064 [MainThread  ] [INFO ]  705: ../data/documents/812.json.gz\n",
      "2017-10-07 11:15:22,420 [MainThread  ] [INFO ]  706: ../data/documents/218.json.gz\n",
      "2017-10-07 11:15:23,667 [MainThread  ] [INFO ]  707: ../data/documents/508.json.gz\n",
      "2017-10-07 11:15:27,376 [MainThread  ] [INFO ]  708: ../data/documents/364.json.gz\n",
      "2017-10-07 11:15:29,290 [MainThread  ] [INFO ]  709: ../data/documents/97.json.gz\n",
      "2017-10-07 11:15:31,386 [MainThread  ] [INFO ]  710: ../data/documents/764.json.gz\n",
      "2017-10-07 11:15:32,092 [MainThread  ] [INFO ]  711: ../data/documents/4.json.gz\n",
      "2017-10-07 11:15:33,577 [MainThread  ] [INFO ]  712: ../data/documents/961.json.gz\n",
      "2017-10-07 11:15:34,371 [MainThread  ] [INFO ]  713: ../data/documents/709.json.gz\n",
      "2017-10-07 11:15:34,940 [MainThread  ] [INFO ]  714: ../data/documents/821.json.gz\n",
      "2017-10-07 11:15:43,206 [MainThread  ] [INFO ]  715: ../data/documents/567.json.gz\n",
      "2017-10-07 11:15:45,104 [MainThread  ] [INFO ]  716: ../data/documents/886.json.gz\n",
      "2017-10-07 11:15:48,232 [MainThread  ] [INFO ]  717: ../data/documents/599.json.gz\n",
      "2017-10-07 11:15:51,526 [MainThread  ] [INFO ]  718: ../data/documents/433.json.gz\n",
      "2017-10-07 11:15:52,157 [MainThread  ] [INFO ]  719: ../data/documents/643.json.gz\n",
      "2017-10-07 11:15:54,329 [MainThread  ] [INFO ]  720: ../data/documents/588.json.gz\n",
      "2017-10-07 11:15:55,900 [MainThread  ] [INFO ]  721: ../data/documents/651.json.gz\n",
      "2017-10-07 11:15:57,375 [MainThread  ] [INFO ]  722: ../data/documents/978.json.gz\n",
      "2017-10-07 11:15:59,368 [MainThread  ] [INFO ]  723: ../data/documents/7.json.gz\n",
      "2017-10-07 11:16:00,380 [MainThread  ] [INFO ]  724: ../data/documents/370.json.gz\n",
      "2017-10-07 11:16:01,693 [MainThread  ] [INFO ]  725: ../data/documents/520.json.gz\n",
      "2017-10-07 11:16:02,097 [MainThread  ] [INFO ]  726: ../data/documents/419.json.gz\n",
      "2017-10-07 11:16:03,665 [MainThread  ] [INFO ]  727: ../data/documents/231.json.gz\n",
      "2017-10-07 11:16:04,090 [MainThread  ] [INFO ]  728: ../data/documents/52.json.gz\n",
      "2017-10-07 11:16:05,392 [MainThread  ] [INFO ]  729: ../data/documents/83.json.gz\n",
      "2017-10-07 11:16:05,843 [MainThread  ] [INFO ]  730: ../data/documents/258.json.gz\n",
      "2017-10-07 11:16:07,888 [MainThread  ] [INFO ]  731: ../data/documents/298.json.gz\n",
      "2017-10-07 11:16:08,472 [MainThread  ] [INFO ]  732: ../data/documents/32.json.gz\n",
      "2017-10-07 11:16:08,678 [MainThread  ] [INFO ]  733: ../data/documents/956.json.gz\n",
      "2017-10-07 11:16:09,702 [MainThread  ] [INFO ]  734: ../data/documents/531.json.gz\n",
      "2017-10-07 11:16:10,375 [MainThread  ] [INFO ]  735: ../data/documents/876.json.gz\n",
      "2017-10-07 11:16:13,892 [MainThread  ] [INFO ]  736: ../data/documents/262.json.gz\n",
      "2017-10-07 11:16:14,303 [MainThread  ] [INFO ]  737: ../data/documents/169.json.gz\n",
      "2017-10-07 11:16:14,598 [MainThread  ] [INFO ]  738: ../data/documents/578.json.gz\n",
      "2017-10-07 11:16:15,236 [MainThread  ] [INFO ]  739: ../data/documents/564.json.gz\n",
      "2017-10-07 11:16:17,295 [MainThread  ] [INFO ]  740: ../data/documents/891.json.gz\n",
      "2017-10-07 11:16:19,799 [MainThread  ] [INFO ]  741: ../data/documents/781.json.gz\n",
      "2017-10-07 11:16:20,553 [MainThread  ] [INFO ]  742: ../data/documents/28.json.gz\n",
      "2017-10-07 11:16:20,792 [MainThread  ] [INFO ]  743: ../data/documents/786.json.gz\n",
      "2017-10-07 11:16:21,374 [MainThread  ] [INFO ]  744: ../data/documents/982.json.gz\n",
      "2017-10-07 11:16:30,999 [MainThread  ] [INFO ]  745: ../data/documents/943.json.gz\n",
      "2017-10-07 11:16:35,607 [MainThread  ] [INFO ]  746: ../data/documents/691.json.gz\n",
      "2017-10-07 11:16:37,214 [MainThread  ] [INFO ]  747: ../data/documents/265.json.gz\n",
      "2017-10-07 11:16:37,497 [MainThread  ] [INFO ]  748: ../data/documents/936.json.gz\n",
      "2017-10-07 11:16:41,056 [MainThread  ] [INFO ]  749: ../data/documents/799.json.gz\n",
      "2017-10-07 11:16:42,649 [MainThread  ] [INFO ]  750: ../data/documents/219.json.gz\n",
      "2017-10-07 11:16:44,380 [MainThread  ] [INFO ]  751: ../data/documents/953.json.gz\n",
      "2017-10-07 11:16:45,846 [MainThread  ] [INFO ]  752: ../data/documents/9.json.gz\n",
      "2017-10-07 11:16:47,465 [MainThread  ] [INFO ]  753: ../data/documents/995.json.gz\n",
      "2017-10-07 11:16:49,955 [MainThread  ] [INFO ]  754: ../data/documents/938.json.gz\n",
      "2017-10-07 11:16:53,883 [MainThread  ] [INFO ]  755: ../data/documents/732.json.gz\n",
      "2017-10-07 11:17:01,016 [MainThread  ] [INFO ]  756: ../data/documents/771.json.gz\n",
      "2017-10-07 11:17:04,454 [MainThread  ] [INFO ]  757: ../data/documents/841.json.gz\n",
      "2017-10-07 11:17:05,207 [MainThread  ] [INFO ]  758: ../data/documents/775.json.gz\n",
      "2017-10-07 11:17:07,097 [MainThread  ] [INFO ]  759: ../data/documents/101.json.gz\n",
      "2017-10-07 11:17:09,572 [MainThread  ] [INFO ]  760: ../data/documents/53.json.gz\n",
      "2017-10-07 11:17:11,357 [MainThread  ] [INFO ]  761: ../data/documents/863.json.gz\n",
      "2017-10-07 11:17:12,733 [MainThread  ] [INFO ]  762: ../data/documents/56.json.gz\n",
      "2017-10-07 11:17:13,751 [MainThread  ] [INFO ]  763: ../data/documents/582.json.gz\n",
      "2017-10-07 11:17:14,061 [MainThread  ] [INFO ]  764: ../data/documents/523.json.gz\n",
      "2017-10-07 11:17:14,338 [MainThread  ] [INFO ]  765: ../data/documents/20.json.gz\n",
      "2017-10-07 11:17:15,202 [MainThread  ] [INFO ]  766: ../data/documents/12.json.gz\n",
      "2017-10-07 11:17:16,005 [MainThread  ] [INFO ]  767: ../data/documents/970.json.gz\n",
      "2017-10-07 11:17:17,527 [MainThread  ] [INFO ]  768: ../data/documents/977.json.gz\n",
      "2017-10-07 11:17:19,724 [MainThread  ] [INFO ]  769: ../data/documents/221.json.gz\n",
      "2017-10-07 11:17:21,235 [MainThread  ] [INFO ]  770: ../data/documents/339.json.gz\n",
      "2017-10-07 11:17:21,733 [MainThread  ] [INFO ]  771: ../data/documents/495.json.gz\n",
      "2017-10-07 11:17:24,828 [MainThread  ] [INFO ]  772: ../data/documents/485.json.gz\n",
      "2017-10-07 11:17:25,407 [MainThread  ] [INFO ]  773: ../data/documents/226.json.gz\n",
      "2017-10-07 11:17:28,778 [MainThread  ] [INFO ]  774: ../data/documents/71.json.gz\n",
      "2017-10-07 11:17:29,170 [MainThread  ] [INFO ]  775: ../data/documents/322.json.gz\n",
      "2017-10-07 11:17:32,444 [MainThread  ] [INFO ]  776: ../data/documents/885.json.gz\n",
      "2017-10-07 11:17:39,200 [MainThread  ] [INFO ]  777: ../data/documents/755.json.gz\n",
      "2017-10-07 11:17:40,284 [MainThread  ] [INFO ]  778: ../data/documents/1000.json.gz\n",
      "2017-10-07 11:17:40,737 [MainThread  ] [INFO ]  779: ../data/documents/311.json.gz\n",
      "2017-10-07 11:17:44,406 [MainThread  ] [INFO ]  780: ../data/documents/915.json.gz\n",
      "2017-10-07 11:17:46,979 [MainThread  ] [INFO ]  781: ../data/documents/120.json.gz\n",
      "2017-10-07 11:17:47,381 [MainThread  ] [INFO ]  782: ../data/documents/90.json.gz\n",
      "2017-10-07 11:17:49,678 [MainThread  ] [INFO ]  783: ../data/documents/1.json.gz\n",
      "2017-10-07 11:17:50,420 [MainThread  ] [INFO ]  784: ../data/documents/815.json.gz\n",
      "2017-10-07 11:17:53,690 [MainThread  ] [INFO ]  785: ../data/documents/720.json.gz\n",
      "2017-10-07 11:17:55,076 [MainThread  ] [INFO ]  786: ../data/documents/539.json.gz\n",
      "2017-10-07 11:17:56,233 [MainThread  ] [INFO ]  787: ../data/documents/123.json.gz\n",
      "2017-10-07 11:17:56,589 [MainThread  ] [INFO ]  788: ../data/documents/818.json.gz\n",
      "2017-10-07 11:18:01,564 [MainThread  ] [INFO ]  789: ../data/documents/726.json.gz\n",
      "2017-10-07 11:18:05,485 [MainThread  ] [INFO ]  790: ../data/documents/784.json.gz\n",
      "2017-10-07 11:18:06,285 [MainThread  ] [INFO ]  791: ../data/documents/366.json.gz\n",
      "2017-10-07 11:18:08,907 [MainThread  ] [INFO ]  792: ../data/documents/132.json.gz\n",
      "2017-10-07 11:18:09,436 [MainThread  ] [INFO ]  793: ../data/documents/494.json.gz\n",
      "2017-10-07 11:18:12,333 [MainThread  ] [INFO ]  794: ../data/documents/334.json.gz\n"
     ]
    },
    {
     "name": "stderr",
     "output_type": "stream",
     "text": [
      "2017-10-07 11:18:13,954 [MainThread  ] [INFO ]  795: ../data/documents/415.json.gz\n",
      "2017-10-07 11:18:16,840 [MainThread  ] [INFO ]  796: ../data/documents/238.json.gz\n",
      "2017-10-07 11:18:18,030 [MainThread  ] [INFO ]  797: ../data/documents/8.json.gz\n",
      "2017-10-07 11:18:19,474 [MainThread  ] [INFO ]  798: ../data/documents/832.json.gz\n",
      "2017-10-07 11:18:22,047 [MainThread  ] [INFO ]  799: ../data/documents/313.json.gz\n",
      "2017-10-07 11:18:25,963 [MainThread  ] [INFO ]  800: ../data/documents/596.json.gz\n",
      "2017-10-07 11:18:27,538 [MainThread  ] [INFO ]  801: ../data/documents/318.json.gz\n",
      "2017-10-07 11:18:28,394 [MainThread  ] [INFO ]  802: ../data/documents/625.json.gz\n",
      "2017-10-07 11:18:28,867 [MainThread  ] [INFO ]  803: ../data/documents/804.json.gz\n",
      "2017-10-07 11:18:30,361 [MainThread  ] [INFO ]  804: ../data/documents/124.json.gz\n",
      "2017-10-07 11:18:30,590 [MainThread  ] [INFO ]  805: ../data/documents/879.json.gz\n",
      "2017-10-07 11:18:34,113 [MainThread  ] [INFO ]  806: ../data/documents/455.json.gz\n",
      "2017-10-07 11:18:35,519 [MainThread  ] [INFO ]  807: ../data/documents/29.json.gz\n",
      "2017-10-07 11:18:35,685 [MainThread  ] [INFO ]  808: ../data/documents/553.json.gz\n",
      "2017-10-07 11:18:40,599 [MainThread  ] [INFO ]  809: ../data/documents/955.json.gz\n",
      "2017-10-07 11:18:42,375 [MainThread  ] [INFO ]  810: ../data/documents/38.json.gz\n",
      "2017-10-07 11:18:42,649 [MainThread  ] [INFO ]  811: ../data/documents/312.json.gz\n",
      "2017-10-07 11:18:46,153 [MainThread  ] [INFO ]  812: ../data/documents/697.json.gz\n",
      "2017-10-07 11:18:53,854 [MainThread  ] [INFO ]  813: ../data/documents/903.json.gz\n",
      "2017-10-07 11:18:55,028 [MainThread  ] [INFO ]  814: ../data/documents/851.json.gz\n",
      "2017-10-07 11:18:55,587 [MainThread  ] [INFO ]  815: ../data/documents/932.json.gz\n",
      "2017-10-07 11:19:01,196 [MainThread  ] [INFO ]  816: ../data/documents/254.json.gz\n",
      "2017-10-07 11:19:04,766 [MainThread  ] [INFO ]  817: ../data/documents/44.json.gz\n",
      "2017-10-07 11:19:05,744 [MainThread  ] [INFO ]  818: ../data/documents/897.json.gz\n",
      "2017-10-07 11:19:06,032 [MainThread  ] [INFO ]  819: ../data/documents/209.json.gz\n",
      "2017-10-07 11:19:06,245 [MainThread  ] [INFO ]  820: ../data/documents/558.json.gz\n",
      "2017-10-07 11:19:09,306 [MainThread  ] [INFO ]  821: ../data/documents/975.json.gz\n",
      "2017-10-07 11:19:10,992 [MainThread  ] [INFO ]  822: ../data/documents/470.json.gz\n",
      "2017-10-07 11:19:13,713 [MainThread  ] [INFO ]  823: ../data/documents/801.json.gz\n",
      "2017-10-07 11:19:15,179 [MainThread  ] [INFO ]  824: ../data/documents/474.json.gz\n",
      "2017-10-07 11:19:17,485 [MainThread  ] [INFO ]  825: ../data/documents/477.json.gz\n",
      "2017-10-07 11:19:19,929 [MainThread  ] [INFO ]  826: ../data/documents/481.json.gz\n",
      "2017-10-07 11:19:20,405 [MainThread  ] [INFO ]  827: ../data/documents/37.json.gz\n",
      "2017-10-07 11:19:20,592 [MainThread  ] [INFO ]  828: ../data/documents/187.json.gz\n",
      "2017-10-07 11:19:23,597 [MainThread  ] [INFO ]  829: ../data/documents/84.json.gz\n",
      "2017-10-07 11:19:24,982 [MainThread  ] [INFO ]  830: ../data/documents/506.json.gz\n",
      "2017-10-07 11:19:31,024 [MainThread  ] [INFO ]  831: ../data/documents/927.json.gz\n",
      "2017-10-07 11:19:39,738 [MainThread  ] [INFO ]  832: ../data/documents/807.json.gz\n",
      "2017-10-07 11:19:43,815 [MainThread  ] [INFO ]  833: ../data/documents/589.json.gz\n",
      "2017-10-07 11:19:45,824 [MainThread  ] [INFO ]  834: ../data/documents/425.json.gz\n",
      "2017-10-07 11:19:47,942 [MainThread  ] [INFO ]  835: ../data/documents/224.json.gz\n",
      "2017-10-07 11:19:49,702 [MainThread  ] [INFO ]  836: ../data/documents/577.json.gz\n",
      "2017-10-07 11:19:50,101 [MainThread  ] [INFO ]  837: ../data/documents/108.json.gz\n",
      "2017-10-07 11:19:50,983 [MainThread  ] [INFO ]  838: ../data/documents/935.json.gz\n",
      "2017-10-07 11:19:55,626 [MainThread  ] [INFO ]  839: ../data/documents/372.json.gz\n",
      "2017-10-07 11:19:59,704 [MainThread  ] [INFO ]  840: ../data/documents/148.json.gz\n",
      "2017-10-07 11:20:01,930 [MainThread  ] [INFO ]  841: ../data/documents/55.json.gz\n",
      "2017-10-07 11:20:04,249 [MainThread  ] [INFO ]  842: ../data/documents/650.json.gz\n",
      "2017-10-07 11:20:07,626 [MainThread  ] [INFO ]  843: ../data/documents/695.json.gz\n",
      "2017-10-07 11:20:15,475 [MainThread  ] [INFO ]  844: ../data/documents/243.json.gz\n",
      "2017-10-07 11:20:18,521 [MainThread  ] [INFO ]  845: ../data/documents/565.json.gz\n",
      "2017-10-07 11:20:20,579 [MainThread  ] [INFO ]  846: ../data/documents/981.json.gz\n",
      "2017-10-07 11:20:26,233 [MainThread  ] [INFO ]  847: ../data/documents/847.json.gz\n",
      "2017-10-07 11:20:26,789 [MainThread  ] [INFO ]  848: ../data/documents/476.json.gz\n",
      "2017-10-07 11:20:27,625 [MainThread  ] [INFO ]  849: ../data/documents/758.json.gz\n",
      "2017-10-07 11:20:28,127 [MainThread  ] [INFO ]  850: ../data/documents/816.json.gz\n",
      "2017-10-07 11:20:31,531 [MainThread  ] [INFO ]  851: ../data/documents/671.json.gz\n",
      "2017-10-07 11:20:32,686 [MainThread  ] [INFO ]  852: ../data/documents/349.json.gz\n",
      "2017-10-07 11:20:33,093 [MainThread  ] [INFO ]  853: ../data/documents/365.json.gz\n",
      "2017-10-07 11:20:34,350 [MainThread  ] [INFO ]  854: ../data/documents/469.json.gz\n",
      "2017-10-07 11:20:40,158 [MainThread  ] [INFO ]  855: ../data/documents/387.json.gz\n",
      "2017-10-07 11:20:41,433 [MainThread  ] [INFO ]  856: ../data/documents/859.json.gz\n",
      "2017-10-07 11:20:44,446 [MainThread  ] [INFO ]  857: ../data/documents/454.json.gz\n",
      "2017-10-07 11:20:47,761 [MainThread  ] [INFO ]  858: ../data/documents/129.json.gz\n",
      "2017-10-07 11:20:48,418 [MainThread  ] [INFO ]  859: ../data/documents/26.json.gz\n",
      "2017-10-07 11:20:48,616 [MainThread  ] [INFO ]  860: ../data/documents/510.json.gz\n",
      "2017-10-07 11:20:53,594 [MainThread  ] [INFO ]  861: ../data/documents/738.json.gz\n",
      "2017-10-07 11:20:58,454 [MainThread  ] [INFO ]  862: ../data/documents/292.json.gz\n",
      "2017-10-07 11:20:59,144 [MainThread  ] [INFO ]  863: ../data/documents/810.json.gz\n",
      "2017-10-07 11:21:01,674 [MainThread  ] [INFO ]  864: ../data/documents/893.json.gz\n",
      "2017-10-07 11:21:04,030 [MainThread  ] [INFO ]  865: ../data/documents/410.json.gz\n",
      "2017-10-07 11:21:05,340 [MainThread  ] [INFO ]  866: ../data/documents/424.json.gz\n",
      "2017-10-07 11:21:07,377 [MainThread  ] [INFO ]  867: ../data/documents/223.json.gz\n",
      "2017-10-07 11:21:08,941 [MainThread  ] [INFO ]  868: ../data/documents/802.json.gz\n",
      "2017-10-07 11:21:10,409 [MainThread  ] [INFO ]  869: ../data/documents/698.json.gz\n",
      "2017-10-07 11:21:13,452 [MainThread  ] [INFO ]  870: ../data/documents/870.json.gz\n",
      "2017-10-07 11:21:22,070 [MainThread  ] [INFO ]  871: ../data/documents/420.json.gz\n",
      "2017-10-07 11:21:27,221 [MainThread  ] [INFO ]  872: ../data/documents/450.json.gz\n",
      "2017-10-07 11:21:28,070 [MainThread  ] [INFO ]  873: ../data/documents/163.json.gz\n",
      "2017-10-07 11:21:28,384 [MainThread  ] [INFO ]  874: ../data/documents/270.json.gz\n",
      "2017-10-07 11:21:28,844 [MainThread  ] [INFO ]  875: ../data/documents/563.json.gz\n",
      "2017-10-07 11:21:30,934 [MainThread  ] [INFO ]  876: ../data/documents/669.json.gz\n",
      "2017-10-07 11:21:33,504 [MainThread  ] [INFO ]  877: ../data/documents/134.json.gz\n",
      "2017-10-07 11:21:34,909 [MainThread  ] [INFO ]  878: ../data/documents/422.json.gz\n",
      "2017-10-07 11:21:39,661 [MainThread  ] [INFO ]  879: ../data/documents/126.json.gz\n",
      "2017-10-07 11:21:40,447 [MainThread  ] [INFO ]  880: ../data/documents/574.json.gz\n",
      "2017-10-07 11:21:41,118 [MainThread  ] [INFO ]  881: ../data/documents/881.json.gz\n",
      "2017-10-07 11:21:45,542 [MainThread  ] [INFO ]  882: ../data/documents/946.json.gz\n",
      "2017-10-07 11:21:46,957 [MainThread  ] [INFO ]  883: ../data/documents/811.json.gz\n",
      "2017-10-07 11:21:47,958 [MainThread  ] [INFO ]  884: ../data/documents/252.json.gz\n",
      "2017-10-07 11:21:49,110 [MainThread  ] [INFO ]  885: ../data/documents/461.json.gz\n",
      "2017-10-07 11:21:50,457 [MainThread  ] [INFO ]  886: ../data/documents/64.json.gz\n",
      "2017-10-07 11:21:51,031 [MainThread  ] [INFO ]  887: ../data/documents/731.json.gz\n",
      "2017-10-07 11:21:53,460 [MainThread  ] [INFO ]  888: ../data/documents/806.json.gz\n",
      "2017-10-07 11:21:56,834 [MainThread  ] [INFO ]  889: ../data/documents/136.json.gz\n",
      "2017-10-07 11:21:59,519 [MainThread  ] [INFO ]  890: ../data/documents/742.json.gz\n",
      "2017-10-07 11:22:02,521 [MainThread  ] [INFO ]  891: ../data/documents/785.json.gz\n",
      "2017-10-07 11:22:03,212 [MainThread  ] [INFO ]  892: ../data/documents/827.json.gz\n",
      "2017-10-07 11:22:05,120 [MainThread  ] [INFO ]  893: ../data/documents/498.json.gz\n"
     ]
    },
    {
     "name": "stderr",
     "output_type": "stream",
     "text": [
      "2017-10-07 11:22:08,408 [MainThread  ] [INFO ]  894: ../data/documents/580.json.gz\n",
      "2017-10-07 11:22:09,695 [MainThread  ] [INFO ]  895: ../data/documents/48.json.gz\n",
      "2017-10-07 11:22:11,129 [MainThread  ] [INFO ]  896: ../data/documents/826.json.gz\n",
      "2017-10-07 11:22:13,565 [MainThread  ] [INFO ]  897: ../data/documents/513.json.gz\n",
      "2017-10-07 11:22:16,620 [MainThread  ] [INFO ]  898: ../data/documents/544.json.gz\n",
      "2017-10-07 11:22:19,648 [MainThread  ] [INFO ]  899: ../data/documents/286.json.gz\n",
      "2017-10-07 11:22:22,180 [MainThread  ] [INFO ]  900: ../data/documents/581.json.gz\n",
      "2017-10-07 11:22:22,960 [MainThread  ] [INFO ]  901: ../data/documents/183.json.gz\n",
      "2017-10-07 11:22:24,478 [MainThread  ] [INFO ]  902: ../data/documents/639.json.gz\n",
      "2017-10-07 11:22:24,842 [MainThread  ] [INFO ]  903: ../data/documents/208.json.gz\n",
      "2017-10-07 11:22:25,052 [MainThread  ] [INFO ]  904: ../data/documents/27.json.gz\n",
      "2017-10-07 11:22:25,143 [MainThread  ] [INFO ]  905: ../data/documents/280.json.gz\n",
      "2017-10-07 11:22:26,607 [MainThread  ] [INFO ]  906: ../data/documents/522.json.gz\n",
      "2017-10-07 11:22:27,004 [MainThread  ] [INFO ]  907: ../data/documents/660.json.gz\n",
      "2017-10-07 11:22:30,670 [MainThread  ] [INFO ]  908: ../data/documents/944.json.gz\n",
      "2017-10-07 11:22:33,202 [MainThread  ] [INFO ]  909: ../data/documents/203.json.gz\n",
      "2017-10-07 11:22:33,567 [MainThread  ] [INFO ]  910: ../data/documents/434.json.gz\n",
      "2017-10-07 11:22:34,105 [MainThread  ] [INFO ]  911: ../data/documents/383.json.gz\n",
      "2017-10-07 11:22:34,919 [MainThread  ] [INFO ]  912: ../data/documents/540.json.gz\n",
      "2017-10-07 11:22:36,783 [MainThread  ] [INFO ]  913: ../data/documents/648.json.gz\n",
      "2017-10-07 11:22:40,069 [MainThread  ] [INFO ]  914: ../data/documents/441.json.gz\n",
      "2017-10-07 11:22:40,638 [MainThread  ] [INFO ]  915: ../data/documents/164.json.gz\n",
      "2017-10-07 11:22:40,952 [MainThread  ] [INFO ]  916: ../data/documents/899.json.gz\n",
      "2017-10-07 11:22:41,583 [MainThread  ] [INFO ]  917: ../data/documents/653.json.gz\n",
      "2017-10-07 11:22:44,600 [MainThread  ] [INFO ]  918: ../data/documents/945.json.gz\n",
      "2017-10-07 11:22:47,511 [MainThread  ] [INFO ]  919: ../data/documents/17.json.gz\n",
      "2017-10-07 11:22:49,750 [MainThread  ] [INFO ]  920: ../data/documents/746.json.gz\n",
      "2017-10-07 11:22:56,897 [MainThread  ] [INFO ]  921: ../data/documents/906.json.gz\n",
      "2017-10-07 11:22:57,984 [MainThread  ] [INFO ]  922: ../data/documents/81.json.gz\n",
      "2017-10-07 11:22:58,193 [MainThread  ] [INFO ]  923: ../data/documents/795.json.gz\n",
      "2017-10-07 11:22:58,648 [MainThread  ] [INFO ]  924: ../data/documents/35.json.gz\n",
      "2017-10-07 11:22:58,856 [MainThread  ] [INFO ]  925: ../data/documents/627.json.gz\n",
      "2017-10-07 11:22:59,481 [MainThread  ] [INFO ]  926: ../data/documents/50.json.gz\n",
      "2017-10-07 11:23:01,189 [MainThread  ] [INFO ]  927: ../data/documents/606.json.gz\n",
      "2017-10-07 11:23:05,340 [MainThread  ] [INFO ]  928: ../data/documents/516.json.gz\n",
      "2017-10-07 11:23:06,341 [MainThread  ] [INFO ]  929: ../data/documents/432.json.gz\n",
      "2017-10-07 11:23:07,303 [MainThread  ] [INFO ]  930: ../data/documents/966.json.gz\n",
      "2017-10-07 11:23:09,123 [MainThread  ] [INFO ]  931: ../data/documents/309.json.gz\n",
      "2017-10-07 11:23:11,020 [MainThread  ] [INFO ]  932: ../data/documents/118.json.gz\n",
      "2017-10-07 11:23:11,377 [MainThread  ] [INFO ]  933: ../data/documents/788.json.gz\n",
      "2017-10-07 11:23:11,660 [MainThread  ] [INFO ]  934: ../data/documents/585.json.gz\n",
      "2017-10-07 11:23:11,916 [MainThread  ] [INFO ]  935: ../data/documents/230.json.gz\n",
      "2017-10-07 11:23:12,729 [MainThread  ] [INFO ]  936: ../data/documents/766.json.gz\n",
      "2017-10-07 11:23:13,043 [MainThread  ] [INFO ]  937: ../data/documents/501.json.gz\n",
      "2017-10-07 11:23:14,392 [MainThread  ] [INFO ]  938: ../data/documents/706.json.gz\n",
      "2017-10-07 11:23:14,752 [MainThread  ] [INFO ]  939: ../data/documents/499.json.gz\n",
      "2017-10-07 11:23:17,384 [MainThread  ] [INFO ]  940: ../data/documents/685.json.gz\n",
      "2017-10-07 11:23:26,576 [MainThread  ] [INFO ]  941: ../data/documents/78.json.gz\n",
      "2017-10-07 11:23:27,392 [MainThread  ] [INFO ]  942: ../data/documents/560.json.gz\n",
      "2017-10-07 11:23:30,278 [MainThread  ] [INFO ]  943: ../data/documents/790.json.gz\n",
      "2017-10-07 11:23:31,656 [MainThread  ] [INFO ]  944: ../data/documents/916.json.gz\n",
      "2017-10-07 11:23:35,996 [MainThread  ] [INFO ]  945: ../data/documents/868.json.gz\n",
      "2017-10-07 11:23:43,205 [MainThread  ] [INFO ]  946: ../data/documents/168.json.gz\n",
      "2017-10-07 11:23:43,606 [MainThread  ] [INFO ]  947: ../data/documents/719.json.gz\n",
      "2017-10-07 11:23:44,574 [MainThread  ] [INFO ]  948: ../data/documents/894.json.gz\n",
      "2017-10-07 11:23:45,089 [MainThread  ] [INFO ]  949: ../data/documents/417.json.gz\n",
      "2017-10-07 11:23:46,402 [MainThread  ] [INFO ]  950: ../data/documents/261.json.gz\n",
      "2017-10-07 11:23:46,555 [MainThread  ] [INFO ]  951: ../data/documents/306.json.gz\n",
      "2017-10-07 11:23:47,882 [MainThread  ] [INFO ]  952: ../data/documents/429.json.gz\n",
      "2017-10-07 11:23:49,024 [MainThread  ] [INFO ]  953: ../data/documents/157.json.gz\n",
      "2017-10-07 11:23:49,838 [MainThread  ] [INFO ]  954: ../data/documents/3.json.gz\n",
      "2017-10-07 11:23:50,366 [MainThread  ] [INFO ]  955: ../data/documents/633.json.gz\n",
      "2017-10-07 11:23:50,643 [MainThread  ] [INFO ]  956: ../data/documents/547.json.gz\n",
      "2017-10-07 11:23:51,880 [MainThread  ] [INFO ]  957: ../data/documents/210.json.gz\n",
      "2017-10-07 11:23:52,137 [MainThread  ] [INFO ]  958: ../data/documents/125.json.gz\n",
      "2017-10-07 11:23:52,305 [MainThread  ] [INFO ]  959: ../data/documents/440.json.gz\n",
      "2017-10-07 11:23:52,765 [MainThread  ] [INFO ]  960: ../data/documents/721.json.gz\n",
      "2017-10-07 11:23:53,696 [MainThread  ] [INFO ]  961: ../data/documents/239.json.gz\n",
      "2017-10-07 11:23:54,129 [MainThread  ] [INFO ]  962: ../data/documents/690.json.gz\n",
      "2017-10-07 11:23:56,130 [MainThread  ] [INFO ]  963: ../data/documents/248.json.gz\n",
      "2017-10-07 11:23:59,244 [MainThread  ] [INFO ]  964: ../data/documents/315.json.gz\n",
      "2017-10-07 11:24:02,939 [MainThread  ] [INFO ]  965: ../data/documents/739.json.gz\n",
      "2017-10-07 11:24:07,128 [MainThread  ] [INFO ]  966: ../data/documents/256.json.gz\n",
      "2017-10-07 11:24:10,070 [MainThread  ] [INFO ]  967: ../data/documents/546.json.gz\n",
      "2017-10-07 11:24:13,205 [MainThread  ] [INFO ]  968: ../data/documents/694.json.gz\n",
      "2017-10-07 11:24:20,692 [MainThread  ] [INFO ]  969: ../data/documents/809.json.gz\n",
      "2017-10-07 11:24:23,906 [MainThread  ] [INFO ]  970: ../data/documents/423.json.gz\n",
      "2017-10-07 11:24:25,583 [MainThread  ] [INFO ]  971: ../data/documents/592.json.gz\n",
      "2017-10-07 11:24:26,903 [MainThread  ] [INFO ]  972: ../data/documents/302.json.gz\n",
      "2017-10-07 11:24:28,267 [MainThread  ] [INFO ]  973: ../data/documents/232.json.gz\n",
      "2017-10-07 11:24:29,016 [MainThread  ] [INFO ]  974: ../data/documents/999.json.gz\n",
      "2017-10-07 11:24:30,137 [MainThread  ] [INFO ]  975: ../data/documents/665.json.gz\n",
      "2017-10-07 11:24:33,277 [MainThread  ] [INFO ]  976: ../data/documents/341.json.gz\n",
      "2017-10-07 11:24:33,682 [MainThread  ] [INFO ]  977: ../data/documents/289.json.gz\n",
      "2017-10-07 11:24:34,297 [MainThread  ] [INFO ]  978: ../data/documents/99.json.gz\n",
      "2017-10-07 11:24:35,756 [MainThread  ] [INFO ]  979: ../data/documents/854.json.gz\n",
      "2017-10-07 11:24:36,980 [MainThread  ] [INFO ]  980: ../data/documents/36.json.gz\n",
      "2017-10-07 11:24:37,175 [MainThread  ] [INFO ]  981: ../data/documents/768.json.gz\n",
      "2017-10-07 11:24:38,061 [MainThread  ] [INFO ]  982: ../data/documents/290.json.gz\n",
      "2017-10-07 11:24:39,342 [MainThread  ] [INFO ]  983: ../data/documents/748.json.gz\n",
      "2017-10-07 11:24:47,620 [MainThread  ] [INFO ]  984: ../data/documents/327.json.gz\n",
      "2017-10-07 11:24:51,566 [MainThread  ] [INFO ]  985: ../data/documents/121.json.gz\n",
      "2017-10-07 11:24:52,083 [MainThread  ] [INFO ]  986: ../data/documents/266.json.gz\n",
      "2017-10-07 11:24:52,471 [MainThread  ] [INFO ]  987: ../data/documents/407.json.gz\n",
      "2017-10-07 11:24:53,252 [MainThread  ] [INFO ]  988: ../data/documents/670.json.gz\n",
      "2017-10-07 11:24:55,583 [MainThread  ] [INFO ]  989: ../data/documents/330.json.gz\n",
      "2017-10-07 11:24:58,993 [MainThread  ] [INFO ]  990: ../data/documents/321.json.gz\n",
      "2017-10-07 11:25:02,864 [MainThread  ] [INFO ]  991: ../data/documents/745.json.gz\n",
      "2017-10-07 11:25:06,112 [MainThread  ] [INFO ]  992: ../data/documents/636.json.gz\n"
     ]
    },
    {
     "name": "stderr",
     "output_type": "stream",
     "text": [
      "2017-10-07 11:25:06,600 [MainThread  ] [INFO ]  993: ../data/documents/307.json.gz\n",
      "2017-10-07 11:25:08,155 [MainThread  ] [INFO ]  994: ../data/documents/171.json.gz\n",
      "2017-10-07 11:25:08,412 [MainThread  ] [INFO ]  995: ../data/documents/714.json.gz\n",
      "2017-10-07 11:25:08,705 [MainThread  ] [INFO ]  996: ../data/documents/377.json.gz\n",
      "2017-10-07 11:25:10,655 [MainThread  ] [INFO ]  997: ../data/documents/452.json.gz\n",
      "2017-10-07 11:25:10,935 [MainThread  ] [INFO ]  998: ../data/documents/587.json.gz\n",
      "2017-10-07 11:25:11,648 [MainThread  ] [INFO ]  999: ../data/documents/757.json.gz\n",
      "2017-10-07 11:25:12,097 [MainThread  ] [INFO ]  1000: ../data/documents/249.json.gz\n"
     ]
    }
   ],
   "source": [
    "folder = join(DATA_FOLDER, 'documents/')\n",
    "\n",
    "test_docs = {}\n",
    "fnames = glob(join(folder, '*.json.gz'))\n",
    "for k,doc in iter_docs(fnames):\n",
    "    if k in test_ids:\n",
    "        unlisted = [w for s in doc for w in s]\n",
    "        test_docs[k] = unlisted"
   ]
  },
  {
   "cell_type": "code",
   "execution_count": 9,
   "metadata": {
    "ExecuteTime": {
     "end_time": "2017-10-07T08:25:27.699846Z",
     "start_time": "2017-10-07T08:25:26.064139Z"
    },
    "collapsed": true,
    "hidden": true
   },
   "outputs": [],
   "source": [
    "with open('../data/test_docs.json', 'w') as f:\n",
    "    json.dump(test_docs, f)"
   ]
  },
  {
   "cell_type": "code",
   "execution_count": 8,
   "metadata": {
    "ExecuteTime": {
     "end_time": "2017-10-09T04:45:18.935401Z",
     "start_time": "2017-10-09T04:45:17.774597Z"
    },
    "collapsed": true,
    "hidden": true
   },
   "outputs": [],
   "source": [
    "with open('../data/test_docs.json', 'r') as f:\n",
    "    test_docs = json.load(f)"
   ]
  },
  {
   "cell_type": "code",
   "execution_count": 9,
   "metadata": {
    "ExecuteTime": {
     "end_time": "2017-10-09T04:45:35.869784Z",
     "start_time": "2017-10-09T04:45:23.223183Z"
    },
    "hidden": true
   },
   "outputs": [
    {
     "data": {
      "application/vnd.jupyter.widget-view+json": {
       "model_id": "312959ac22be441ca8323a0f5dd86d7d"
      }
     },
     "metadata": {},
     "output_type": "display_data"
    },
    {
     "name": "stdout",
     "output_type": "stream",
     "text": [
      "\n"
     ]
    }
   ],
   "source": [
    "from sklearn.metrics.pairwise import cosine_similarity\n",
    "\n",
    "stat = []\n",
    "for k,v in tqdm_notebook(gold.items()):\n",
    "    q_vector = model.infer_vector(test_docs[k], steps=5)\n",
    "    ex_vecs = []\n",
    "    matched = []\n",
    "    for vi in v:\n",
    "        doc_vec = model.infer_vector(test_docs[vi], steps=5)\n",
    "        ex_vecs.append(doc_vec)\n",
    "        if k in df:\n",
    "            matched.append(int(df.loc[vi,k]))\n",
    "        else:\n",
    "            matched.append(0)\n",
    "    sim_mat = cosine_similarity([q_vector], ex_vecs)\n",
    "    stat += list(zip(sim_mat[0], matched))\n",
    "#     if np.max(sim_mat)>0.8:\n",
    "#         break"
   ]
  },
  {
   "cell_type": "code",
   "execution_count": 12,
   "metadata": {
    "ExecuteTime": {
     "end_time": "2017-10-09T04:45:40.501708Z",
     "start_time": "2017-10-09T04:45:40.495976Z"
    },
    "collapsed": true,
    "hidden": true
   },
   "outputs": [],
   "source": [
    "df1 = pd.DataFrame(stat, columns=['cos', 'matched'])"
   ]
  },
  {
   "cell_type": "code",
   "execution_count": 13,
   "metadata": {
    "ExecuteTime": {
     "end_time": "2017-10-09T04:45:42.020559Z",
     "start_time": "2017-10-09T04:45:41.820428Z"
    },
    "hidden": true
   },
   "outputs": [
    {
     "data": {
      "image/png": "[encoded data removed]",
      "text/plain": [
       "<matplotlib.figure.Figure at 0x7f338eab2b50>"
      ]
     },
     "metadata": {},
     "output_type": "display_data"
    }
   ],
   "source": [
    "#section, class\n",
    "df1.plot(kind='scatter', x='cos', y='matched', alpha=0.2)\n",
    "plt.show()"
   ]
  },
  {
   "cell_type": "code",
   "execution_count": 12,
   "metadata": {
    "ExecuteTime": {
     "end_time": "2017-10-07T09:42:04.781066Z",
     "start_time": "2017-10-07T09:42:03.831391Z"
    },
    "hidden": true,
    "scrolled": true
   },
   "outputs": [
    {
     "data": {
      "image/png": "[encoded data removed]",
      "text/plain": [
       "<matplotlib.figure.Figure at 0x7fea0d283dd0>"
      ]
     },
     "metadata": {},
     "output_type": "display_data"
    }
   ],
   "source": [
    "#section\n",
    "df1.plot(kind='scatter', x='cos', y='matched', alpha=0.2)\n",
    "plt.show()"
   ]
  }
 ],
 "metadata": {
  "kernelspec": {
   "display_name": "Python 2",
   "language": "python",
   "name": "python2"
  },
  "language_info": {
   "codemirror_mode": {
    "name": "ipython",
    "version": 2
   },
   "file_extension": ".py",
   "mimetype": "text/x-python",
   "name": "python",
   "nbconvert_exporter": "python",
   "pygments_lexer": "ipython2",
   "version": "2.7.12"
  }
 },
 "nbformat": 4,
 "nbformat_minor": 2
}
