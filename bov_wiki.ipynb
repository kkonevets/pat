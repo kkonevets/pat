{
 "cells": [
  {
   "cell_type": "markdown",
   "metadata": {
    "heading_collapsed": true
   },
   "source": [
    "# Import"
   ]
  },
  {
   "cell_type": "code",
   "execution_count": null,
   "metadata": {
    "ExecuteTime": {
     "start_time": "2017-07-28T12:22:11.498Z"
    },
    "hidden": true,
    "scrolled": true
   },
   "outputs": [
    {
     "name": "stderr",
     "output_type": "stream",
     "text": [
      "Using TensorFlow backend.\n"
     ]
    }
   ],
   "source": [
    "import sys\n",
    "sys.path.append(\"..\")\n",
    "\n",
    "import pandas as pd\n",
    "import numpy as np\n",
    "from common import *\n",
    "from glob import glob\n",
    "from os import rename, path\n",
    "from gensim import corpora\n",
    "from os.path import basename\n",
    "from gensim.models import Word2Vec\n",
    "from itertools import islice\n",
    "from operator import itemgetter\n",
    "from tqdm import tqdm\n",
    "from nltk.tokenize import sent_tokenize\n",
    "\n",
    "from joblib import Parallel, delayed\n",
    "import pickle, json\n",
    "from numba import jit\n",
    "\n",
    "from matplotlib import pyplot as plt\n",
    "\n",
    "import gensim\n",
    "from gensim import corpora, models, similarities\n",
    "from sklearn.metrics.pairwise import cosine_similarity\n",
    "\n",
    "import multiprocessing\n",
    "import copy, logging\n",
    "\n",
    "cpu_count = multiprocessing.cpu_count() -1\n",
    "\n",
    "DATA_FOLDER = '../data/'\n",
    "logging.basicConfig(format='%(asctime)s : %(levelname)s : %(message)s', level=logging.INFO)"
   ]
  },
  {
   "cell_type": "markdown",
   "metadata": {},
   "source": [
    "# Prepare data"
   ]
  },
  {
   "cell_type": "code",
   "execution_count": 3,
   "metadata": {
    "ExecuteTime": {
     "end_time": "2017-07-26T05:55:18.666952Z",
     "start_time": "2017-07-26T05:55:18.251528Z"
    },
    "collapsed": true
   },
   "outputs": [],
   "source": [
    "all_docs = get_all_docs(DATA_FOLDER)"
   ]
  },
  {
   "cell_type": "code",
   "execution_count": 4,
   "metadata": {
    "ExecuteTime": {
     "end_time": "2017-07-26T05:55:18.863910Z",
     "start_time": "2017-07-26T05:55:18.668426Z"
    },
    "scrolled": false
   },
   "outputs": [
    {
     "name": "stderr",
     "output_type": "stream",
     "text": [
      "2017-07-26 08:55:18,670 : INFO : loading Dictionary object from ../data/fltrd_nbelow100_nabove0.5_keepnNone.dict\n",
      "2017-07-26 08:55:18,715 : INFO : loaded ../data/fltrd_nbelow100_nabove0.5_keepnNone.dict\n",
      "2017-07-26 08:55:18,856 : INFO : loaded corpus index from ../data/fltrd_nbelow100_nabove0.5_keepnNone_corpus.mm.index\n",
      "2017-07-26 08:55:18,857 : INFO : initializing corpus reader from ../data/fltrd_nbelow100_nabove0.5_keepnNone_corpus.mm\n",
      "2017-07-26 08:55:18,858 : INFO : accepted corpus with 1194429 documents, 73924 features, 182653768 non-zero entries\n"
     ]
    }
   ],
   "source": [
    "dictionary = corpora.Dictionary.load(join(DATA_FOLDER, 'fltrd_nbelow100_nabove0.5_keepnNone.dict'))\n",
    "corpus = corpora.MmCorpus(join(DATA_FOLDER, 'fltrd_nbelow100_nabove0.5_keepnNone_corpus.mm'))"
   ]
  },
  {
   "cell_type": "code",
   "execution_count": 5,
   "metadata": {
    "ExecuteTime": {
     "end_time": "2017-07-26T05:55:18.869571Z",
     "start_time": "2017-07-26T05:55:18.866826Z"
    }
   },
   "outputs": [
    {
     "name": "stdout",
     "output_type": "stream",
     "text": [
      "MmCorpus(1194429 documents, 73924 features, 182653768 non-zero entries)\n"
     ]
    }
   ],
   "source": [
    "print(corpus)"
   ]
  },
  {
   "cell_type": "code",
   "execution_count": 6,
   "metadata": {
    "ExecuteTime": {
     "end_time": "2017-07-26T05:55:18.912640Z",
     "start_time": "2017-07-26T05:55:18.871550Z"
    },
    "code_folding": []
   },
   "outputs": [
    {
     "name": "stderr",
     "output_type": "stream",
     "text": [
      "2017-07-26 08:55:18,881 : INFO : loading TfidfModel object from ../data/fltrd_nbelow100_nabove0.5_keepnNone.model\n",
      "2017-07-26 08:55:18,910 : INFO : loaded ../data/fltrd_nbelow100_nabove0.5_keepnNone.model\n"
     ]
    }
   ],
   "source": [
    "fmodel = join(DATA_FOLDER, 'fltrd_nbelow100_nabove0.5_keepnNone.model')\n",
    "if not path.exists(fmodel):    \n",
    "    tfidf = models.TfidfModel(corpus)\n",
    "    tfidf.save(fmodel)\n",
    "else:\n",
    "    tfidf = models.TfidfModel.load(fmodel)"
   ]
  },
  {
   "cell_type": "code",
   "execution_count": 27,
   "metadata": {
    "ExecuteTime": {
     "end_time": "2017-07-26T06:56:38.403143Z",
     "start_time": "2017-07-26T06:56:08.747834Z"
    },
    "scrolled": true
   },
   "outputs": [
    {
     "name": "stderr",
     "output_type": "stream",
     "text": [
      "2017-07-26 09:56:08,760 : INFO : loading projection weights from ../data/vectors/ruwikiruscorpora_rusvectores2.bin.gz\n",
      "2017-07-26 09:56:38,354 : INFO : loaded (604043, 500) matrix from ../data/vectors/ruwikiruscorpora_rusvectores2.bin.gz\n"
     ]
    }
   ],
   "source": [
    "model = gensim.models.Word2Vec.load(join(DATA_FOLDER, 'vectors/w2v_model_500'))\n",
    "wv = model.wv"
   ]
  },
  {
   "cell_type": "code",
   "execution_count": 7,
   "metadata": {
    "ExecuteTime": {
     "end_time": "2017-07-25T14:50:15.359829Z",
     "start_time": "2017-07-25T14:50:15.356990Z"
    },
    "collapsed": true,
    "scrolled": false
   },
   "outputs": [],
   "source": [
    "# wv.most_similar(positive=['стена'], topn=10)"
   ]
  },
  {
   "cell_type": "code",
   "execution_count": 13,
   "metadata": {
    "ExecuteTime": {
     "end_time": "2017-07-25T16:07:19.342907Z",
     "start_time": "2017-07-25T16:07:19.339693Z"
    },
    "collapsed": true
   },
   "outputs": [],
   "source": [
    "with open(join(DATA_FOLDER, 'gold.json'), 'r') as f:\n",
    "    gold = json.load(f)"
   ]
  },
  {
   "cell_type": "code",
   "execution_count": 9,
   "metadata": {
    "ExecuteTime": {
     "end_time": "2017-07-25T14:56:17.042845Z",
     "start_time": "2017-07-25T14:56:17.023227Z"
    },
    "collapsed": true
   },
   "outputs": [],
   "source": [
    "# with open(join(DATA_FOLDER, 'saved/gold.txt'), 'r') as f:\n",
    "#     gold_txt = f.read()\n",
    "# lines = gold_txt.splitlines()\n",
    "# gold = {line.split()[0]:line.split()[1:] for line in lines}\n"
   ]
  },
  {
   "cell_type": "code",
   "execution_count": 14,
   "metadata": {
    "ExecuteTime": {
     "end_time": "2017-07-25T16:07:19.358193Z",
     "start_time": "2017-07-25T16:07:19.344350Z"
    },
    "collapsed": true
   },
   "outputs": [],
   "source": [
    "val_docs = glob(join(DATA_FOLDER, 'validate/*.txt'))"
   ]
  },
  {
   "cell_type": "code",
   "execution_count": 9,
   "metadata": {
    "ExecuteTime": {
     "end_time": "2017-07-25T15:16:36.558411Z",
     "start_time": "2017-07-25T15:16:36.551203Z"
    },
    "collapsed": true
   },
   "outputs": [],
   "source": [
    "# val_docs = glob(join(DATA_FOLDER, 'saved/docs/*.txt'))"
   ]
  },
  {
   "cell_type": "markdown",
   "metadata": {},
   "source": [
    "# Main functions"
   ]
  },
  {
   "cell_type": "code",
   "execution_count": 15,
   "metadata": {
    "ExecuteTime": {
     "end_time": "2017-07-25T16:07:20.028095Z",
     "start_time": "2017-07-25T16:07:20.018114Z"
    },
    "collapsed": true
   },
   "outputs": [],
   "source": [
    "NWORDS = 15"
   ]
  },
  {
   "cell_type": "code",
   "execution_count": 16,
   "metadata": {
    "ExecuteTime": {
     "end_time": "2017-07-25T16:07:20.215928Z",
     "start_time": "2017-07-25T16:07:20.029248Z"
    },
    "collapsed": true
   },
   "outputs": [],
   "source": [
    "@jit\n",
    "def word_score(doc_tfidf, wv, dictionary):\n",
    "    sorted_tfidf = sorted(doc_tfidf, key=itemgetter(1), reverse=True)\n",
    "    for k,score in sorted_tfidf:\n",
    "        word = dictionary.get(k)\n",
    "        if word in wv:\n",
    "            yield (word, score)"
   ]
  },
  {
   "cell_type": "code",
   "execution_count": 17,
   "metadata": {
    "ExecuteTime": {
     "end_time": "2017-07-25T16:07:20.234091Z",
     "start_time": "2017-07-25T16:07:20.219858Z"
    },
    "collapsed": true
   },
   "outputs": [],
   "source": [
    "def softmax(w, t = 1.0):\n",
    "    e = np.exp(np.array(w).astype(float) / t)\n",
    "    dist = e / np.sum(e)\n",
    "    return dist"
   ]
  },
  {
   "cell_type": "code",
   "execution_count": 18,
   "metadata": {
    "ExecuteTime": {
     "end_time": "2017-07-25T16:07:20.257083Z",
     "start_time": "2017-07-25T16:07:20.237152Z"
    },
    "collapsed": true
   },
   "outputs": [],
   "source": [
    "def doc_vec(doc_tfidf, wv, nwords=10):\n",
    "    # take top 10 most meaningfull\n",
    "    scored = word_score(doc_tfidf, wv, dictionary)    \n",
    "    ws = list(zip(*islice(scored, nwords)))\n",
    "        \n",
    "    if ws is None or len(ws) == 0:\n",
    "        return np.zeros(wv.syn0.shape[1])\n",
    "    \n",
    "    words, scores = ws\n",
    "    vecs = wv[words]    \n",
    "    docvec = np.mean(vecs.T * softmax(scores), axis=1) # \n",
    "\n",
    "    return docvec"
   ]
  },
  {
   "cell_type": "code",
   "execution_count": 19,
   "metadata": {
    "ExecuteTime": {
     "end_time": "2017-07-25T16:07:20.902766Z",
     "start_time": "2017-07-25T16:07:20.258336Z"
    },
    "scrolled": false
   },
   "outputs": [
    {
     "name": "stderr",
     "output_type": "stream",
     "text": [
      "100%|██████████| 130/130 [00:00<00:00, 210.23it/s]\n"
     ]
    }
   ],
   "source": [
    "val_vecs = []\n",
    "val_names = []\n",
    "for fname in tqdm(val_docs):\n",
    "    with open(fname, 'r') as f:\n",
    "        doc_text = f.read()\n",
    "    doc_bow = dictionary.doc2bow(tokenize(doc_text))\n",
    "    docvec = doc_vec(tfidf[doc_bow], wv, NWORDS)\n",
    "    name = path.splitext(basename(fname))[0]\n",
    "    val_names.append(name)\n",
    "    val_vecs.append(docvec)\n",
    "\n",
    "# test_vecs = pd.DataFrame.from_dict(test_vecs, orient='index')"
   ]
  },
  {
   "cell_type": "code",
   "execution_count": 20,
   "metadata": {
    "ExecuteTime": {
     "end_time": "2017-07-25T16:07:20.910424Z",
     "start_time": "2017-07-25T16:07:20.904262Z"
    },
    "scrolled": true
   },
   "outputs": [
    {
     "data": {
      "text/plain": [
       "130"
      ]
     },
     "execution_count": 20,
     "metadata": {},
     "output_type": "execute_result"
    }
   ],
   "source": [
    "len(val_vecs)"
   ]
  },
  {
   "cell_type": "code",
   "execution_count": 21,
   "metadata": {
    "ExecuteTime": {
     "end_time": "2017-07-25T16:24:43.813690Z",
     "start_time": "2017-07-25T16:07:20.911908Z"
    },
    "scrolled": true
   },
   "outputs": [
    {
     "name": "stderr",
     "output_type": "stream",
     "text": [
      "100%|██████████| 1194429/1194429 [17:22<00:00, 1145.32it/s]\n"
     ]
    }
   ],
   "source": [
    "train_vecs = []\n",
    "train_names = []\n",
    "for key, doc_tfidf in enumerate(tqdm(tfidf[corpus])):\n",
    "    docvec = doc_vec(doc_tfidf, wv, NWORDS)\n",
    "    fname = all_docs[key]\n",
    "    name = path.splitext(basename(fname))[0]\n",
    "    train_names.append(name)\n",
    "    train_vecs.append(docvec)"
   ]
  },
  {
   "cell_type": "code",
   "execution_count": 22,
   "metadata": {
    "ExecuteTime": {
     "end_time": "2017-07-25T16:24:43.818989Z",
     "start_time": "2017-07-25T16:24:43.815939Z"
    }
   },
   "outputs": [
    {
     "name": "stdout",
     "output_type": "stream",
     "text": [
      "NameError: name 'wv, model, corpus' is not defined\n"
     ]
    }
   ],
   "source": [
    "%xdel wv, model, corpus"
   ]
  },
  {
   "cell_type": "code",
   "execution_count": 23,
   "metadata": {
    "ExecuteTime": {
     "end_time": "2017-07-25T16:24:44.037232Z",
     "start_time": "2017-07-25T16:24:43.820256Z"
    },
    "collapsed": true
   },
   "outputs": [],
   "source": [
    "del dictionary, model, wv, corpus"
   ]
  },
  {
   "cell_type": "code",
   "execution_count": 24,
   "metadata": {
    "ExecuteTime": {
     "end_time": "2017-07-25T16:24:44.043090Z",
     "start_time": "2017-07-25T16:24:44.038370Z"
    }
   },
   "outputs": [
    {
     "data": {
      "text/plain": [
       "1194429"
      ]
     },
     "execution_count": 24,
     "metadata": {},
     "output_type": "execute_result"
    }
   ],
   "source": [
    "len(train_vecs)"
   ]
  },
  {
   "cell_type": "code",
   "execution_count": 25,
   "metadata": {
    "ExecuteTime": {
     "end_time": "2017-07-25T16:24:44.321467Z",
     "start_time": "2017-07-25T16:24:44.044346Z"
    },
    "collapsed": true
   },
   "outputs": [],
   "source": [
    "! mkdir -p {join(DATA_FOLDER, 'saved/')}"
   ]
  },
  {
   "cell_type": "markdown",
   "metadata": {},
   "source": [
    "### write"
   ]
  },
  {
   "cell_type": "code",
   "execution_count": 26,
   "metadata": {
    "ExecuteTime": {
     "end_time": "2017-07-25T16:25:03.449414Z",
     "start_time": "2017-07-25T16:24:44.323620Z"
    },
    "collapsed": true
   },
   "outputs": [],
   "source": [
    "np.save(join(DATA_FOLDER, 'saved/train.npy'), train_vecs)\n",
    "np.save(join(DATA_FOLDER, 'saved/val.npy'), val_vecs)"
   ]
  },
  {
   "cell_type": "code",
   "execution_count": 27,
   "metadata": {
    "ExecuteTime": {
     "end_time": "2017-07-25T16:25:03.824538Z",
     "start_time": "2017-07-25T16:25:03.453129Z"
    },
    "collapsed": true
   },
   "outputs": [],
   "source": [
    "with open(join(DATA_FOLDER, 'saved/names.pkl'), 'wb') as f:\n",
    "    pickle.dump([train_names, val_names], f)"
   ]
  },
  {
   "cell_type": "markdown",
   "metadata": {
    "heading_collapsed": true
   },
   "source": [
    "### read"
   ]
  },
  {
   "cell_type": "code",
   "execution_count": 7,
   "metadata": {
    "ExecuteTime": {
     "end_time": "2017-07-25T14:51:52.507199Z",
     "start_time": "2017-07-25T14:51:34.761893Z"
    },
    "collapsed": true,
    "hidden": true
   },
   "outputs": [],
   "source": [
    "train_vecs = np.load(join(DATA_FOLDER, 'saved/train.npy'))\n",
    "val_vecs = np.load(join(DATA_FOLDER, 'saved/val.npy'))"
   ]
  },
  {
   "cell_type": "code",
   "execution_count": 9,
   "metadata": {
    "ExecuteTime": {
     "end_time": "2017-07-25T14:51:52.758880Z",
     "start_time": "2017-07-25T14:51:52.529968Z"
    },
    "collapsed": true,
    "hidden": true
   },
   "outputs": [],
   "source": [
    "with open(join(DATA_FOLDER, 'saved/names.pkl'), 'rb') as f:\n",
    "    train_names, val_names = pickle.load(f)"
   ]
  },
  {
   "cell_type": "markdown",
   "metadata": {
    "ExecuteTime": {
     "end_time": "2017-07-13T08:09:52.543899Z",
     "start_time": "2017-07-13T08:09:52.541671Z"
    }
   },
   "source": [
    "# Similarity"
   ]
  },
  {
   "cell_type": "code",
   "execution_count": 28,
   "metadata": {
    "ExecuteTime": {
     "end_time": "2017-07-25T16:25:36.000855Z",
     "start_time": "2017-07-25T16:25:03.826171Z"
    },
    "collapsed": true
   },
   "outputs": [],
   "source": [
    "sim_mat = cosine_similarity(val_vecs, train_vecs)"
   ]
  },
  {
   "cell_type": "code",
   "execution_count": 29,
   "metadata": {
    "ExecuteTime": {
     "end_time": "2017-07-25T16:25:59.289837Z",
     "start_time": "2017-07-25T16:25:36.018601Z"
    }
   },
   "outputs": [
    {
     "name": "stderr",
     "output_type": "stream",
     "text": [
      "100%|██████████| 130/130 [00:23<00:00,  5.81it/s]\n"
     ]
    }
   ],
   "source": [
    "best = {}\n",
    "for i, vec in enumerate(tqdm(sim_mat)):\n",
    "    val_name = val_names[i]\n",
    "    train_ixs = vec.argsort()[-200:][::-1]\n",
    "    top_train = [train_names[i] for i in train_ixs]\n",
    "    best[val_name] = top_train"
   ]
  },
  {
   "cell_type": "code",
   "execution_count": 30,
   "metadata": {
    "ExecuteTime": {
     "end_time": "2017-07-25T16:25:59.419046Z",
     "start_time": "2017-07-25T16:25:59.295425Z"
    },
    "collapsed": true
   },
   "outputs": [],
   "source": [
    "with open(join(DATA_FOLDER, 'best.json'), 'w') as f:\n",
    "    json.dump(best, f)"
   ]
  },
  {
   "cell_type": "code",
   "execution_count": 31,
   "metadata": {
    "ExecuteTime": {
     "end_time": "2017-07-25T16:26:02.760835Z",
     "start_time": "2017-07-25T16:25:59.434728Z"
    },
    "scrolled": true
   },
   "outputs": [
    {
     "name": "stdout",
     "output_type": "stream",
     "text": [
      "median\n",
      "acc10     0.000000\n",
      "acc20     0.000000\n",
      "acc200    0.666667\n",
      "dtype: float64\n",
      "mean\n",
      "acc10     0.303846\n",
      "acc20     0.371026\n",
      "acc200    0.579615\n",
      "dtype: float64\n"
     ]
    },
    {
     "data": {
      "image/png": "[encoded data removed]",
      "text/plain": [
       "<matplotlib.figure.Figure at 0x7f10a3eca0b8>"
      ]
     },
     "metadata": {},
     "output_type": "display_data"
    },
    {
     "data": {
      "image/png": "[encoded data removed]",
      "text/plain": [
       "<matplotlib.figure.Figure at 0x7f10c2fcbef0>"
      ]
     },
     "metadata": {},
     "output_type": "display_data"
    },
    {
     "data": {
      "image/png": "[encoded data removed]",
      "text/plain": [
       "<matplotlib.figure.Figure at 0x7f10af96eeb8>"
      ]
     },
     "metadata": {},
     "output_type": "display_data"
    }
   ],
   "source": [
    "res = evaluate(best, gold)"
   ]
  },
  {
   "cell_type": "code",
   "execution_count": 34,
   "metadata": {
    "ExecuteTime": {
     "end_time": "2017-07-24T14:50:48.086790Z",
     "start_time": "2017-07-24T14:50:48.079895Z"
    },
    "scrolled": true
   },
   "outputs": [
    {
     "data": {
      "text/plain": [
       "['20663753-bc6f-2aab-7318-67c1390426bb',\n",
       " '16536620-6eef-2119-be5d-df3d3ef7fe8d',\n",
       " '88bd5668-afc4-c40c-9a6a-ed1d96ae096f',\n",
       " 'f833f071-f137-52a0-27f8-a2f1d12b23ea',\n",
       " 'e07ac9c5-e04c-7466-a087-eddd918b2eae',\n",
       " 'a9646d43-d330-4222-81d6-4dc918c83941',\n",
       " 'e2281097-4aef-cd0e-b7d2-524454d2949f',\n",
       " '4a3457dc-2c84-092a-2d02-e8f2d16eeef6',\n",
       " 'fdd49250-dffd-fcfc-ce6c-a864c1e0c573',\n",
       " 'dbce075e-61c7-f693-aed0-32550c5617c8',\n",
       " 'b6d6db51-b34e-4607-5d30-373744395224',\n",
       " '575627ff-a290-81c6-7694-24cf6f215293',\n",
       " 'f52a3043-60cd-f012-0b05-9e67564fbca0',\n",
       " '94698b18-02d7-12ed-2936-6571e801c349',\n",
       " 'a01a58cb-0153-3d96-3205-ebb2dcd14e0e',\n",
       " 'afefe03f-9afc-9514-d773-558d653bc062',\n",
       " '1bbbd906-b52b-0973-04e0-36c77a43ee00',\n",
       " '7cc03787-782d-d9e4-6b38-990bea881c07',\n",
       " 'da2dc768-aef1-c283-456a-7fcfad19a80b',\n",
       " '92c0a3cc-4743-447f-28fe-69a343000764',\n",
       " 'ddb78a31-a35f-f376-9003-a742f1bc65d2',\n",
       " 'b9949738-8ccb-da5f-63d4-91f3283e8a64',\n",
       " '096425b7-09a8-cb75-ad0f-d115a09f5c07',\n",
       " '4c94d1e3-fe6e-825a-f76e-872e87046069',\n",
       " '999bff23-ecbe-408e-fcf2-236baefa6a57',\n",
       " '4ee5921c-519b-4d0b-a998-3ca9311977cb',\n",
       " '47cf7051-3cef-d452-7949-289cab6b4740',\n",
       " '2e73490d-065a-91f8-ecdd-72c5cc2cd915',\n",
       " '94ca8bdd-f690-4629-be0d-be7f5a1d531a',\n",
       " '8b99b811-be77-0202-43c5-990ba8ac0731',\n",
       " 'ac7c68f6-0a6d-1098-3bbd-7594177d5797',\n",
       " 'ae0d5cb4-9ee4-08fc-a13e-13efb7ed17f3',\n",
       " 'dcbf66e0-7ca9-ef07-7696-5adc22c71463',\n",
       " '9ad87af5-c6dc-303a-8c2f-c94d6fbb6629',\n",
       " '2ccad394-9d38-e360-f93a-3472178d907e',\n",
       " 'abe81efc-9887-ece3-9055-48e31161c2ea',\n",
       " 'e75ccbdd-8a37-5f11-f826-5773ef1e65a1',\n",
       " '30e81468-e4d5-c3bd-ae77-81a96907dc11',\n",
       " '1018c28b-888d-6029-f093-16145029a95d',\n",
       " 'db724ba4-c6e2-5a4c-6e75-5282d78b73f6',\n",
       " '6c3592ce-7571-797a-83cc-aa03df83bf63',\n",
       " '0fb1a445-36a0-d860-5a0d-1dfbd488c9fc',\n",
       " '_6a_e6_2012108138A10010101RU',\n",
       " '4a7e3010-7922-91c4-268e-178c3007af18',\n",
       " '99f3a55f-8a07-298b-ae58-99a4bd4ad892',\n",
       " 'bdbbcddc-ebe7-84fc-9f9e-a2f4499d0afb',\n",
       " '9ee4295a-519f-f8cc-e13e-6e30d581dc5c',\n",
       " 'fae84af0-208f-4a7b-6c7e-0975c412f02e',\n",
       " '2b0536bc-20ff-41f5-1eb1-28df3920ed5d',\n",
       " '3bdc4ca3-cca4-66f6-93dc-f0fc7f623c99',\n",
       " 'b6690989-ab04-98ba-c3ed-a21b7e58c355',\n",
       " '3290d346-4508-8bc2-76ce-d42335aadf8a',\n",
       " 'b19437f0-9427-d003-7883-c2dec63b1659',\n",
       " '3be93ff6-963e-542e-19af-43376cbc7ba5',\n",
       " 'be3ae1c6-7618-d515-9b62-4844396a381c',\n",
       " 'e4b93c6d-65df-f38e-e0e8-faeef1a3731b',\n",
       " 'faf5d7c5-c5d4-e897-46c8-586dd5a8df7a',\n",
       " 'b0162818-951b-13fa-81f2-7521454c38a1',\n",
       " '83c20874-3b8e-028d-31a0-f1c8acaabb0c',\n",
       " 'abf61674-ad94-441c-acbf-c18948548daf',\n",
       " 'b27ab101-b3d4-b905-cd25-021a6da1465d',\n",
       " '00417e56-bdd2-1ff7-4226-4e7f9f35683f',\n",
       " '7f8e1894-2bc9-3547-4125-ca087f8ad60f',\n",
       " 'f2cb7139-fe02-2227-dacb-7921f9e2e9aa',\n",
       " 'c3a09d42-ef92-7e9b-7566-3214e10ea153',\n",
       " '491ffb37-6c52-e2e9-2386-5045f65ed4a4',\n",
       " '731fa374-286a-7c7f-9ad2-efda1a57978a',\n",
       " 'b72352a8-e078-649e-1e34-afde16ecf5e2',\n",
       " '9ed16b10-d803-ef02-7435-f23d5c9e270a',\n",
       " '70f505d9-23f3-c59b-11d1-4791f0fa7df1',\n",
       " 'af8ceeb3-7b9e-2041-622c-a6814d414851',\n",
       " '43c817e0-567c-7505-b6ae-9f5a573ce18b',\n",
       " '09e52e92-5102-db37-533f-97dfd8c9b72b',\n",
       " '836eaf85-9986-1b6f-b6b4-e8ac2548425b',\n",
       " '2336b147-bd9e-905b-8398-8dbffc624066',\n",
       " '68c23315-3f3e-9cb8-916d-a2d90b07b136',\n",
       " '08bccefa-3929-ca96-2bed-5e37486c6fdd',\n",
       " '4f9611d5-ecd8-d717-5411-59c5ef62a2a3',\n",
       " '511d094e-6ba5-5f4c-c01e-482a55af881c',\n",
       " '_59_e5_0000772523A119801023SU',\n",
       " '94cf5865-b360-978a-2ddc-b173fab91747',\n",
       " '8546a129-cee8-4846-1537-45ab2a033e8c',\n",
       " 'b2c304f4-2fce-9a0a-2406-0048925887e0',\n",
       " 'b2aee3a3-5b1f-2081-dbde-8c06a4ef8843',\n",
       " '7de0f86c-d1e4-242b-c437-62a7df2cca73',\n",
       " '5f4fcb8e-45da-3bd6-574d-84115855c55f',\n",
       " '_d5_a9_0001779686A119921207SU',\n",
       " '09e56a1d-6289-abd8-e77a-4f1fc09f5c0a',\n",
       " 'e6a29b70-6168-bdd2-ed33-9235fe3c156c',\n",
       " '25b11b8e-f4b5-8ffa-c3c5-f35fc603faa1',\n",
       " '0c7e6d6b-7ddc-016e-d346-01da4ad252ec',\n",
       " '3f2050d7-5f42-5f18-e93e-a20211f249c0',\n",
       " 'cd2e9b89-bfd3-1067-0a17-2471d1cf5e7e',\n",
       " 'bd8e7975-dd4e-609f-51a4-291b0f58b102',\n",
       " 'bfdfcf41-b1e6-f047-75c7-f178d0295f00',\n",
       " '43d865b1-0d93-025f-6985-8da5e798fc07',\n",
       " 'a85798b9-3a23-80c3-fb4f-3b22a195fd25',\n",
       " '9edc91b0-bef3-0f23-306d-a53d1c6fc76f',\n",
       " '02b48283-4b33-d70b-787b-7d20f8efa285',\n",
       " 'b7019c93-0c23-9ea8-59d7-9d996ae4219f',\n",
       " '62f41296-f4a0-2fa2-4ced-390bf420dd70',\n",
       " '97ef4700-f25f-90a2-eb41-70cfe9ece057',\n",
       " '71317f1f-503b-6b6b-f536-7ff5d90e0ada',\n",
       " 'd9cc0be2-d088-21cc-f759-aca749c18e75',\n",
       " 'd5383605-2bdd-2bde-a4fe-c2bd4488f8c0',\n",
       " '969ded6c-7e4f-ecf5-7018-4a03949a2ce0',\n",
       " '65aeacff-41b4-dcdd-73b0-dbeaffaab24f',\n",
       " '71741230-2de0-c12d-bcb6-c55455717d63',\n",
       " 'd6ca12d4-2984-cc47-970e-35f6dd959a34',\n",
       " '43243d78-1c3a-797d-cac9-ead2a4f293e3',\n",
       " 'cebad077-faa4-b98d-9925-0fa74180c6d4',\n",
       " '128979ad-1652-4c96-5ad2-32a58f8c1d4a',\n",
       " '94dd3e13-6073-a848-8ec8-73f3df359cb8',\n",
       " 'ee55866d-f467-37c1-2fb7-b1f91c895a74',\n",
       " '5eae0d79-ba7b-0a58-0963-e9812155cc9d',\n",
       " 'f327ab78-3487-57cc-f419-66936a674b34',\n",
       " 'ea41a120-5061-e906-1656-77d09e83ca90',\n",
       " '14ac74f4-0940-9abf-d101-a57729c48762',\n",
       " '5c42d7e2-b6bb-976a-f6e4-41e879c39231',\n",
       " '_52_b3_0001637750A119910330SU',\n",
       " 'e3537a4c-6fad-6c4f-14a4-2e16af5d7902',\n",
       " '8c4b135f-8165-d8f5-f2ef-d976b4a14d39',\n",
       " '7cd7a59e-42ea-c3b5-868e-50f6b2ef5a47',\n",
       " '6cd7bc67-d74b-6a8a-c7bb-cbf267e1791e',\n",
       " '04f8936a-23f1-cbb3-8ca0-3339ee99ef79',\n",
       " '7515d738-0049-53f7-bdb3-63534a459a85',\n",
       " '059b30fe-23b8-e7c9-cb3a-50b497363859',\n",
       " 'cd69fb5f-93d4-2d8e-e16a-d2e1088e8dbc',\n",
       " '2a2a8194-9d9a-cf59-2881-99ef968fe3b4',\n",
       " '0302c080-80e8-f515-76e1-b18fb5d5ed61',\n",
       " 'f4f59504-f808-f51f-644b-d736605fb1ec',\n",
       " '572f0b6f-2aa8-a732-1dc1-5e3a4c1b4529',\n",
       " 'efecf22c-e4b1-b807-566e-e681ad8cf0af',\n",
       " '516e97ce-cb75-c9c1-f835-f4791ee21260',\n",
       " '11822db7-a4ee-e645-94bc-51da20778040',\n",
       " '285936ee-2fac-2fd6-cf2e-84eb88efc08f',\n",
       " 'bc7f0a5c-910b-d18b-662a-ac02dd32ab9c',\n",
       " '5652394f-91c9-d231-ed59-88cd64ca48ad',\n",
       " 'b4f25b3a-aca6-7e0d-32aa-9e6fcb68f748',\n",
       " 'b4004382-be93-c922-1341-381291cc8586',\n",
       " '5a1880d2-d748-6571-cc49-9696cde620e3',\n",
       " '9f0a8a44-d182-bae9-af40-ae1e9695b645',\n",
       " '2d54ae18-5342-dd09-8b1d-fbc83a73fb5f',\n",
       " 'dfd03e32-ec74-91a8-009f-6e55217f59b8',\n",
       " 'a53028be-6788-3ee6-2f69-23f28a3f1330',\n",
       " '72caf8cb-1146-6d8b-0311-ee449d945717',\n",
       " '322a02f1-a536-ea84-4c1e-af70fe0d3073',\n",
       " '94480aa1-60ce-e91b-774b-dc2dd7a714f0',\n",
       " '96be7244-6078-2200-11b9-102819dfaad1',\n",
       " '8b7b893c-8192-0086-a0f0-52d6c2e6c98a',\n",
       " '_20_49_0001671633A119910823SU',\n",
       " '7dda16ef-8753-5f82-4a06-8ff7a51fc63b',\n",
       " '8f01b16c-c2a9-8251-bec9-8da36fa0df2d',\n",
       " '5d7a043c-4b10-06c9-3be8-f398b64ff90b',\n",
       " '5bc379e2-2879-7308-7b42-81734a6a2525',\n",
       " '28f0946a-5df9-2304-7ab1-ee4f8034c598',\n",
       " 'f78a2929-898c-b602-5c69-1b9da2183993',\n",
       " '_e5_3e_0001518373A119891030SU',\n",
       " '304b9431-dd79-a81d-4ae8-9e7aa058d85f',\n",
       " '97b91980-afe2-44e9-42e7-c0a85139cbd8',\n",
       " '2988ee0d-82c5-55b2-42c5-9541ad1efebd',\n",
       " 'cee007be-09ca-0f97-5124-8059ae895b47',\n",
       " 'df610f5f-9a3b-e515-c4cf-25445b1db1b3',\n",
       " '3cb57ce8-e64c-653d-7280-5d7dd4fc60dd',\n",
       " 'd9232ac0-50a9-07a8-9779-c1516c9c2c36',\n",
       " '47efc6bd-aa53-f8a7-5829-dceb4c58e918',\n",
       " 'b5712dc2-79dc-566c-84de-78c7f7beaf2c',\n",
       " 'd3a180ad-29e3-88cb-51cb-d91de62ddc91',\n",
       " '220da016-cdb6-328b-6afc-cff5fd041dc6',\n",
       " '868ae115-e912-224b-bd66-97821982aae8',\n",
       " '4c8d9965-c49b-3adf-5156-9dfb59be27ea',\n",
       " 'eb7388d5-2525-a5e0-c5de-41b9e4738af4',\n",
       " '6941324b-d762-55bb-79e3-380051269982',\n",
       " 'efb0fff8-e02d-cf41-ddc3-2521ffade5e9',\n",
       " 'fcbcd8aa-3329-ea0c-95c9-621509780b91',\n",
       " 'fb6771f4-12ba-98f2-0794-8265943ba1b4',\n",
       " 'ac1af22b-8e09-903d-c513-5b98ca4c3e84',\n",
       " '7ce8631d-3f74-3ed0-5a91-5d451d912037',\n",
       " 'a832c536-adbb-272d-538a-dc56bb4f675e',\n",
       " '2cb4543b-af6c-936e-bfae-547d84680267',\n",
       " '94d9dc69-33ee-99eb-1632-601f95886baf',\n",
       " '473da0d8-2e4b-a4bf-4b61-59f418df2802',\n",
       " 'd7b02fe4-3cd8-1742-965d-ba1ecf0fad5f',\n",
       " '8bccaeb2-83c5-4a7b-e674-f25ea6362aeb',\n",
       " '0c74bc79-897c-0a08-e226-1e2ed64e0f01',\n",
       " 'f05354e9-9200-d1c5-cc22-d6bdcb57c7e5',\n",
       " '7efb8912-042d-5b83-ea94-69b594173917',\n",
       " '76f28c0b-f89f-cd93-8887-29e3cd90f034',\n",
       " '8ff86206-874b-348b-62c1-2074f92b84b6',\n",
       " '54f84191-3ca9-8f9c-18ff-f14cefec0eea',\n",
       " '04a6ee41-038b-eee2-8d61-ae477dde1799',\n",
       " 'a02cb5ed-a3b0-f6fa-aa63-93fdd3626b78',\n",
       " 'f4875909-ef7b-dcb0-be2d-0a1469afd33f',\n",
       " 'a6864350-8c36-7481-2e5b-c67a238c667c',\n",
       " 'dbb54273-4f8c-4b16-5c85-25b71d77b1a0',\n",
       " '0491e495-aabf-53f7-0ed3-da4ad9bd1e2c',\n",
       " '56a655e2-cf34-d112-505e-680409e0ec89',\n",
       " 'd6a16705-7613-e651-bf49-5fb30faa3d25',\n",
       " 'dbf098d9-e281-224c-cfb7-b79fb62d7637',\n",
       " '8f3cc4a4-ead9-7948-17c1-8f8cf6c38bb4']"
      ]
     },
     "execution_count": 34,
     "metadata": {},
     "output_type": "execute_result"
    }
   ],
   "source": [
    "best['235293c6-8f9a-cc52-25ee-63169c2a052f']"
   ]
  },
  {
   "cell_type": "code",
   "execution_count": 32,
   "metadata": {
    "ExecuteTime": {
     "end_time": "2017-07-24T14:49:50.839874Z",
     "start_time": "2017-07-24T14:49:50.836317Z"
    }
   },
   "outputs": [
    {
     "data": {
      "text/plain": [
       "['575627ff-a290-81c6-7694-24cf6f215293']"
      ]
     },
     "execution_count": 32,
     "metadata": {},
     "output_type": "execute_result"
    }
   ],
   "source": [
    "gold['235293c6-8f9a-cc52-25ee-63169c2a052f']"
   ]
  },
  {
   "cell_type": "code",
   "execution_count": 56,
   "metadata": {
    "ExecuteTime": {
     "end_time": "2017-07-24T15:15:05.254988Z",
     "start_time": "2017-07-24T15:15:05.126725Z"
    },
    "collapsed": true
   },
   "outputs": [],
   "source": [
    "fn = [fn for fn in all_docs if '20663753-bc6f-2aab-7318-67c1390426bb' in fn][0]"
   ]
  },
  {
   "cell_type": "code",
   "execution_count": 57,
   "metadata": {
    "ExecuteTime": {
     "end_time": "2017-07-24T15:15:05.283155Z",
     "start_time": "2017-07-24T15:15:05.257000Z"
    }
   },
   "outputs": [
    {
     "data": {
      "text/plain": [
       "1194602"
      ]
     },
     "execution_count": 57,
     "metadata": {},
     "output_type": "execute_result"
    }
   ],
   "source": [
    "all_docs.index(fn)"
   ]
  },
  {
   "cell_type": "code",
   "execution_count": 58,
   "metadata": {
    "ExecuteTime": {
     "end_time": "2017-07-24T15:15:07.723797Z",
     "start_time": "2017-07-24T15:15:07.692374Z"
    }
   },
   "outputs": [
    {
     "data": {
      "text/plain": [
       "[(3, 6.0),\n",
       " (4, 39.0),\n",
       " (5, 17.0),\n",
       " (6, 1.0),\n",
       " (15, 2.0),\n",
       " (18, 3.0),\n",
       " (19, 9.0),\n",
       " (26, 1.0),\n",
       " (27, 15.0),\n",
       " (35, 2.0),\n",
       " (48, 9.0),\n",
       " (54, 1.0),\n",
       " (58, 1.0),\n",
       " (60, 2.0),\n",
       " (61, 3.0),\n",
       " (63, 1.0),\n",
       " (64, 2.0),\n",
       " (67, 1.0),\n",
       " (68, 1.0),\n",
       " (69, 43.0),\n",
       " (72, 14.0),\n",
       " (79, 43.0),\n",
       " (83, 49.0),\n",
       " (95, 3.0),\n",
       " (118, 3.0),\n",
       " (121, 18.0),\n",
       " (122, 5.0),\n",
       " (133, 11.0),\n",
       " (135, 5.0),\n",
       " (137, 1.0),\n",
       " (144, 1.0),\n",
       " (148, 2.0),\n",
       " (157, 5.0),\n",
       " (160, 10.0),\n",
       " (196, 2.0),\n",
       " (197, 1.0),\n",
       " (209, 1.0),\n",
       " (213, 1.0),\n",
       " (218, 1.0),\n",
       " (227, 2.0),\n",
       " (250, 1.0),\n",
       " (260, 3.0),\n",
       " (272, 1.0),\n",
       " (276, 9.0),\n",
       " (314, 5.0),\n",
       " (315, 1.0),\n",
       " (319, 3.0),\n",
       " (326, 1.0),\n",
       " (342, 11.0),\n",
       " (350, 2.0),\n",
       " (367, 1.0),\n",
       " (376, 1.0),\n",
       " (382, 1.0),\n",
       " (397, 3.0),\n",
       " (402, 2.0),\n",
       " (404, 1.0),\n",
       " (410, 1.0),\n",
       " (428, 5.0),\n",
       " (436, 1.0),\n",
       " (456, 1.0),\n",
       " (458, 2.0),\n",
       " (469, 2.0),\n",
       " (474, 9.0),\n",
       " (476, 1.0),\n",
       " (477, 1.0),\n",
       " (495, 1.0),\n",
       " (499, 2.0),\n",
       " (500, 2.0),\n",
       " (508, 1.0),\n",
       " (524, 4.0),\n",
       " (561, 13.0),\n",
       " (593, 3.0),\n",
       " (679, 10.0),\n",
       " (684, 1.0),\n",
       " (688, 3.0),\n",
       " (710, 2.0),\n",
       " (721, 1.0),\n",
       " (728, 1.0),\n",
       " (730, 24.0),\n",
       " (735, 3.0),\n",
       " (770, 2.0),\n",
       " (771, 1.0),\n",
       " (814, 5.0),\n",
       " (829, 1.0),\n",
       " (832, 4.0),\n",
       " (843, 4.0),\n",
       " (854, 1.0),\n",
       " (869, 1.0),\n",
       " (870, 1.0),\n",
       " (877, 1.0),\n",
       " (892, 1.0),\n",
       " (901, 17.0),\n",
       " (911, 2.0),\n",
       " (913, 1.0),\n",
       " (916, 1.0),\n",
       " (940, 1.0),\n",
       " (948, 1.0),\n",
       " (952, 4.0),\n",
       " (959, 1.0),\n",
       " (963, 1.0),\n",
       " (965, 41.0),\n",
       " (966, 1.0),\n",
       " (976, 2.0),\n",
       " (996, 36.0),\n",
       " (1002, 1.0),\n",
       " (1005, 3.0),\n",
       " (1010, 1.0),\n",
       " (1027, 1.0),\n",
       " (1032, 1.0),\n",
       " (1040, 4.0),\n",
       " (1056, 3.0),\n",
       " (1072, 1.0),\n",
       " (1091, 3.0),\n",
       " (1092, 1.0),\n",
       " (1100, 2.0),\n",
       " (1101, 7.0),\n",
       " (1125, 3.0),\n",
       " (1128, 1.0),\n",
       " (1136, 1.0),\n",
       " (1139, 5.0),\n",
       " (1161, 1.0),\n",
       " (1167, 1.0),\n",
       " (1183, 4.0),\n",
       " (1184, 1.0),\n",
       " (1191, 30.0),\n",
       " (1200, 2.0),\n",
       " (1202, 1.0),\n",
       " (1230, 1.0),\n",
       " (1231, 1.0),\n",
       " (1243, 1.0),\n",
       " (1368, 1.0),\n",
       " (1397, 2.0),\n",
       " (1401, 1.0),\n",
       " (1414, 3.0),\n",
       " (1425, 4.0),\n",
       " (1460, 1.0),\n",
       " (1522, 3.0),\n",
       " (1525, 2.0),\n",
       " (1539, 2.0),\n",
       " (1542, 4.0),\n",
       " (1575, 11.0),\n",
       " (1589, 1.0),\n",
       " (1619, 1.0),\n",
       " (1633, 12.0),\n",
       " (1634, 10.0),\n",
       " (1637, 23.0),\n",
       " (1644, 1.0),\n",
       " (1646, 6.0),\n",
       " (1653, 3.0),\n",
       " (1669, 1.0),\n",
       " (1673, 5.0),\n",
       " (1806, 3.0),\n",
       " (1857, 1.0),\n",
       " (1913, 3.0),\n",
       " (1930, 20.0),\n",
       " (1936, 1.0),\n",
       " (1953, 1.0),\n",
       " (1959, 2.0),\n",
       " (1972, 1.0),\n",
       " (1976, 1.0),\n",
       " (1991, 1.0),\n",
       " (2023, 1.0),\n",
       " (2057, 1.0),\n",
       " (2065, 1.0),\n",
       " (2074, 2.0),\n",
       " (2143, 1.0),\n",
       " (2159, 1.0),\n",
       " (2161, 1.0),\n",
       " (2163, 1.0),\n",
       " (2172, 1.0),\n",
       " (2177, 4.0),\n",
       " (2246, 6.0),\n",
       " (2252, 2.0),\n",
       " (2315, 3.0),\n",
       " (2353, 1.0),\n",
       " (2369, 3.0),\n",
       " (2395, 10.0),\n",
       " (2446, 7.0),\n",
       " (2453, 3.0),\n",
       " (2456, 1.0),\n",
       " (2488, 1.0),\n",
       " (2541, 1.0),\n",
       " (2574, 4.0),\n",
       " (2670, 1.0),\n",
       " (2682, 2.0),\n",
       " (2710, 3.0),\n",
       " (2858, 1.0),\n",
       " (2939, 61.0),\n",
       " (2940, 31.0),\n",
       " (3067, 5.0),\n",
       " (3081, 1.0),\n",
       " (3083, 2.0),\n",
       " (3085, 1.0),\n",
       " (3177, 1.0),\n",
       " (3239, 2.0),\n",
       " (3339, 1.0),\n",
       " (3341, 2.0),\n",
       " (3416, 1.0),\n",
       " (3448, 1.0),\n",
       " (3455, 1.0),\n",
       " (3511, 3.0),\n",
       " (3572, 1.0),\n",
       " (3632, 1.0),\n",
       " (3687, 1.0),\n",
       " (3783, 1.0),\n",
       " (3804, 1.0),\n",
       " (3840, 2.0),\n",
       " (3984, 1.0),\n",
       " (4011, 1.0),\n",
       " (4063, 1.0),\n",
       " (4080, 1.0),\n",
       " (4112, 1.0),\n",
       " (4136, 1.0),\n",
       " (4195, 1.0),\n",
       " (4380, 6.0),\n",
       " (4385, 1.0),\n",
       " (4401, 2.0),\n",
       " (4402, 1.0),\n",
       " (4418, 1.0),\n",
       " (4458, 1.0),\n",
       " (4516, 1.0),\n",
       " (4544, 2.0),\n",
       " (4558, 3.0),\n",
       " (4607, 2.0),\n",
       " (4658, 1.0),\n",
       " (4681, 1.0),\n",
       " (4718, 1.0),\n",
       " (4728, 5.0),\n",
       " (4752, 3.0),\n",
       " (4798, 3.0),\n",
       " (4982, 2.0),\n",
       " (5015, 1.0),\n",
       " (5078, 2.0),\n",
       " (5158, 1.0),\n",
       " (5173, 2.0),\n",
       " (5213, 8.0),\n",
       " (5246, 1.0),\n",
       " (5265, 1.0),\n",
       " (5288, 1.0),\n",
       " (5302, 1.0),\n",
       " (5421, 2.0),\n",
       " (5556, 1.0),\n",
       " (5710, 2.0),\n",
       " (5792, 1.0),\n",
       " (5821, 2.0),\n",
       " (5844, 4.0),\n",
       " (5997, 1.0),\n",
       " (5998, 2.0),\n",
       " (6046, 1.0),\n",
       " (6060, 2.0),\n",
       " (6171, 1.0),\n",
       " (6221, 1.0),\n",
       " (6228, 6.0),\n",
       " (6384, 2.0),\n",
       " (6390, 1.0),\n",
       " (6542, 1.0),\n",
       " (6583, 1.0),\n",
       " (6587, 19.0),\n",
       " (6737, 1.0),\n",
       " (6799, 3.0),\n",
       " (7042, 1.0),\n",
       " (7044, 7.0),\n",
       " (7049, 7.0),\n",
       " (7134, 3.0),\n",
       " (7250, 1.0),\n",
       " (7315, 4.0),\n",
       " (7328, 3.0),\n",
       " (7486, 1.0),\n",
       " (7575, 1.0),\n",
       " (7576, 4.0),\n",
       " (7609, 2.0),\n",
       " (7700, 1.0),\n",
       " (7711, 1.0),\n",
       " (7754, 1.0),\n",
       " (7789, 1.0),\n",
       " (8121, 1.0),\n",
       " (8206, 4.0),\n",
       " (8390, 3.0),\n",
       " (8860, 1.0),\n",
       " (9198, 7.0),\n",
       " (9391, 1.0),\n",
       " (9428, 1.0),\n",
       " (9439, 1.0),\n",
       " (9580, 1.0),\n",
       " (9678, 1.0),\n",
       " (9767, 4.0),\n",
       " (9837, 1.0),\n",
       " (9846, 5.0),\n",
       " (9889, 1.0),\n",
       " (9902, 1.0),\n",
       " (9903, 1.0),\n",
       " (9965, 1.0),\n",
       " (10220, 2.0),\n",
       " (10294, 1.0),\n",
       " (10318, 7.0),\n",
       " (10385, 3.0),\n",
       " (10437, 1.0),\n",
       " (10678, 1.0),\n",
       " (10756, 1.0),\n",
       " (10973, 1.0),\n",
       " (10993, 1.0),\n",
       " (11069, 1.0),\n",
       " (11140, 1.0),\n",
       " (11351, 1.0),\n",
       " (11361, 1.0),\n",
       " (11875, 1.0),\n",
       " (12059, 1.0),\n",
       " (12201, 1.0),\n",
       " (12260, 2.0),\n",
       " (12296, 1.0),\n",
       " (12453, 1.0),\n",
       " (13055, 1.0),\n",
       " (13072, 1.0),\n",
       " (13873, 1.0),\n",
       " (14132, 1.0),\n",
       " (14293, 1.0),\n",
       " (14506, 1.0),\n",
       " (14689, 4.0),\n",
       " (14969, 2.0),\n",
       " (15188, 1.0),\n",
       " (15410, 1.0),\n",
       " (16368, 1.0),\n",
       " (16633, 1.0),\n",
       " (16662, 1.0),\n",
       " (17016, 1.0),\n",
       " (17239, 1.0),\n",
       " (17283, 1.0),\n",
       " (17465, 7.0),\n",
       " (17627, 1.0),\n",
       " (17644, 1.0),\n",
       " (17819, 9.0),\n",
       " (17922, 2.0),\n",
       " (18177, 1.0),\n",
       " (19683, 1.0),\n",
       " (20376, 1.0),\n",
       " (20751, 2.0),\n",
       " (20874, 1.0),\n",
       " (21031, 1.0),\n",
       " (21607, 1.0),\n",
       " (22364, 1.0),\n",
       " (22477, 1.0),\n",
       " (23827, 1.0),\n",
       " (25186, 1.0),\n",
       " (27312, 3.0),\n",
       " (28450, 1.0),\n",
       " (29575, 2.0),\n",
       " (30195, 1.0),\n",
       " (31708, 4.0),\n",
       " (32056, 1.0),\n",
       " (32837, 5.0),\n",
       " (33650, 1.0),\n",
       " (36212, 1.0),\n",
       " (36840, 1.0),\n",
       " (37927, 1.0),\n",
       " (38052, 1.0),\n",
       " (39104, 1.0),\n",
       " (39564, 1.0),\n",
       " (41028, 1.0),\n",
       " (41050, 1.0),\n",
       " (41304, 4.0),\n",
       " (41805, 1.0),\n",
       " (42591, 1.0),\n",
       " (44180, 1.0),\n",
       " (49359, 1.0),\n",
       " (49664, 2.0),\n",
       " (50823, 1.0),\n",
       " (51115, 3.0),\n",
       " (51410, 2.0),\n",
       " (51414, 2.0),\n",
       " (51415, 1.0),\n",
       " (53121, 1.0),\n",
       " (54475, 1.0),\n",
       " (56614, 1.0),\n",
       " (56677, 1.0),\n",
       " (65526, 1.0),\n",
       " (68214, 1.0),\n",
       " (70623, 1.0),\n",
       " (71012, 2.0),\n",
       " (72117, 1.0),\n",
       " (72541, 1.0),\n",
       " (73227, 10.0),\n",
       " (73931, 2.0),\n",
       " (77191, 10.0),\n",
       " (79116, 1.0),\n",
       " (79923, 1.0),\n",
       " (82542, 1.0),\n",
       " (84149, 1.0),\n",
       " (84701, 1.0),\n",
       " (106238, 4.0),\n",
       " (108192, 1.0),\n",
       " (114610, 1.0),\n",
       " (115097, 3.0),\n",
       " (116898, 1.0),\n",
       " (118881, 1.0),\n",
       " (120629, 6.0),\n",
       " (122434, 1.0),\n",
       " (126593, 1.0),\n",
       " (126707, 1.0),\n",
       " (128767, 1.0),\n",
       " (133448, 30.0),\n",
       " (138351, 1.0),\n",
       " (140329, 18.0),\n",
       " (142625, 2.0),\n",
       " (158962, 9.0),\n",
       " (162982, 11.0),\n",
       " (163156, 1.0),\n",
       " (163158, 3.0),\n",
       " (164197, 19.0),\n",
       " (170405, 1.0),\n",
       " (179415, 1.0),\n",
       " (187492, 1.0),\n",
       " (190204, 1.0),\n",
       " (192445, 1.0),\n",
       " (219023, 1.0),\n",
       " (219602, 2.0),\n",
       " (223850, 6.0),\n",
       " (226668, 1.0),\n",
       " (232685, 1.0),\n",
       " (238162, 1.0),\n",
       " (253704, 1.0),\n",
       " (285817, 7.0),\n",
       " (286528, 14.0),\n",
       " (293967, 1.0),\n",
       " (294337, 1.0),\n",
       " (301770, 2.0),\n",
       " (310291, 1.0),\n",
       " (311579, 1.0),\n",
       " (314434, 3.0),\n",
       " (317710, 1.0),\n",
       " (326122, 3.0),\n",
       " (359381, 1.0),\n",
       " (366452, 6.0),\n",
       " (378160, 3.0),\n",
       " (379835, 2.0),\n",
       " (380920, 1.0),\n",
       " (401193, 3.0),\n",
       " (416065, 2.0),\n",
       " (428114, 14.0),\n",
       " (430133, 4.0),\n",
       " (430229, 2.0),\n",
       " (432133, 2.0),\n",
       " (444339, 3.0),\n",
       " (460895, 4.0),\n",
       " (476769, 1.0),\n",
       " (478800, 24.0),\n",
       " (509416, 2.0),\n",
       " (511315, 1.0),\n",
       " (532543, 6.0),\n",
       " (596579, 1.0),\n",
       " (598637, 4.0),\n",
       " (617248, 1.0),\n",
       " (618344, 3.0),\n",
       " (618360, 1.0),\n",
       " (631746, 11.0),\n",
       " (632621, 2.0),\n",
       " (655306, 1.0),\n",
       " (663064, 2.0),\n",
       " (663842, 1.0),\n",
       " (668892, 13.0),\n",
       " (669507, 22.0),\n",
       " (669508, 3.0),\n",
       " (669510, 1.0),\n",
       " (669514, 21.0),\n",
       " (669518, 6.0),\n",
       " (669520, 2.0),\n",
       " (669521, 4.0),\n",
       " (669523, 15.0),\n",
       " (669526, 2.0),\n",
       " (669527, 1.0),\n",
       " (669528, 3.0),\n",
       " (669529, 4.0),\n",
       " (669531, 3.0),\n",
       " (669532, 2.0),\n",
       " (669534, 2.0),\n",
       " (669536, 7.0),\n",
       " (669537, 1.0),\n",
       " (669538, 9.0),\n",
       " (669540, 7.0),\n",
       " (669541, 5.0),\n",
       " (669542, 1.0),\n",
       " (669544, 1.0),\n",
       " (669545, 3.0),\n",
       " (669547, 1.0),\n",
       " (669548, 2.0),\n",
       " (669549, 15.0),\n",
       " (669551, 19.0),\n",
       " (669553, 1.0),\n",
       " (669554, 25.0),\n",
       " (669555, 1.0),\n",
       " (669556, 4.0),\n",
       " (669561, 10.0),\n",
       " (669563, 1.0),\n",
       " (669564, 2.0),\n",
       " (669565, 7.0),\n",
       " (669566, 1.0),\n",
       " (669570, 1.0),\n",
       " (669573, 3.0),\n",
       " (669575, 20.0),\n",
       " (669576, 1.0),\n",
       " (669578, 1.0),\n",
       " (669580, 3.0),\n",
       " (669581, 5.0),\n",
       " (669583, 3.0),\n",
       " (669589, 2.0),\n",
       " (669599, 9.0),\n",
       " (669603, 4.0),\n",
       " (669604, 1.0),\n",
       " (669605, 1.0),\n",
       " (669608, 1.0),\n",
       " (669610, 3.0),\n",
       " (669611, 1.0),\n",
       " (669613, 2.0),\n",
       " (669616, 2.0),\n",
       " (669619, 7.0),\n",
       " (669620, 11.0),\n",
       " (669623, 1.0),\n",
       " (669624, 7.0),\n",
       " (669625, 1.0),\n",
       " (669626, 5.0),\n",
       " (669628, 10.0),\n",
       " (669629, 5.0),\n",
       " (669630, 2.0),\n",
       " (669631, 1.0),\n",
       " (669637, 1.0),\n",
       " (669638, 2.0),\n",
       " (669641, 1.0),\n",
       " (669642, 1.0),\n",
       " (669644, 3.0),\n",
       " (669646, 1.0),\n",
       " (669654, 2.0),\n",
       " (669672, 1.0),\n",
       " (669689, 2.0),\n",
       " (671531, 1.0),\n",
       " (679628, 1.0),\n",
       " (680815, 3.0),\n",
       " (709918, 6.0),\n",
       " (726322, 1.0),\n",
       " (752490, 3.0),\n",
       " (756684, 2.0),\n",
       " (812907, 1.0),\n",
       " (841088, 1.0),\n",
       " (852034, 1.0),\n",
       " (852035, 2.0),\n",
       " (901519, 1.0),\n",
       " (903962, 3.0),\n",
       " (965815, 1.0),\n",
       " (993945, 1.0),\n",
       " (1014678, 1.0),\n",
       " (1022073, 1.0),\n",
       " (1105256, 1.0),\n",
       " (1128841, 3.0),\n",
       " (1170431, 1.0),\n",
       " (1177168, 1.0),\n",
       " (1202930, 1.0),\n",
       " (1218028, 1.0),\n",
       " (1281595, 1.0),\n",
       " (1390747, 1.0),\n",
       " (1391986, 1.0),\n",
       " (1566861, 5.0),\n",
       " (1582744, 2.0),\n",
       " (1658384, 1.0),\n",
       " (1834925, 1.0),\n",
       " (1835697, 1.0),\n",
       " (1837246, 1.0),\n",
       " (1844101, 1.0),\n",
       " (1941118, 1.0),\n",
       " (2268500, 10.0),\n",
       " (2275609, 2.0),\n",
       " (2306753, 1.0),\n",
       " (2391989, 1.0),\n",
       " (2438723, 3.0),\n",
       " (2831980, 10.0),\n",
       " (2920519, 1.0),\n",
       " (2921590, 2.0),\n",
       " (3077760, 1.0),\n",
       " (3077761, 2.0),\n",
       " (3077762, 1.0),\n",
       " (3077763, 1.0),\n",
       " (3077764, 1.0),\n",
       " (3077765, 1.0),\n",
       " (3077766, 1.0),\n",
       " (3077767, 1.0),\n",
       " (3077768, 1.0),\n",
       " (3077769, 1.0),\n",
       " (3077770, 1.0),\n",
       " (3077771, 1.0),\n",
       " (3077772, 1.0),\n",
       " (3496751, 1.0),\n",
       " (3496752, 1.0),\n",
       " (3496759, 2.0),\n",
       " (3496760, 3.0),\n",
       " (3496761, 1.0),\n",
       " (3496768, 5.0),\n",
       " (3496770, 1.0),\n",
       " (3496784, 1.0),\n",
       " (3496785, 3.0),\n",
       " (3496788, 2.0),\n",
       " (3496791, 1.0),\n",
       " (3496795, 2.0),\n",
       " (3496806, 1.0),\n",
       " (3496807, 2.0),\n",
       " (3496842, 3.0),\n",
       " (3496850, 1.0),\n",
       " (3496873, 1.0),\n",
       " (3496874, 2.0),\n",
       " (3496889, 1.0),\n",
       " (3496891, 2.0)]"
      ]
     },
     "execution_count": 58,
     "metadata": {},
     "output_type": "execute_result"
    }
   ],
   "source": [
    "corpus[1194602]"
   ]
  },
  {
   "cell_type": "code",
   "execution_count": 69,
   "metadata": {
    "ExecuteTime": {
     "end_time": "2017-07-24T15:29:39.888110Z",
     "start_time": "2017-07-24T15:29:39.852328Z"
    }
   },
   "outputs": [
    {
     "data": {
      "text/plain": [
       "[(2939, 0.29383130826101217),\n",
       " (133448, 0.2665696358967095),\n",
       " (669554, 0.23861024784386),\n",
       " (669514, 0.20229593245384989),\n",
       " (669507, 0.20103984949142126),\n",
       " (669575, 0.1957831597397695),\n",
       " (669551, 0.18253372249260405),\n",
       " (478800, 0.18011610097036398),\n",
       " (140329, 0.17281097514939275),\n",
       " (164197, 0.16882743606791603),\n",
       " (669549, 0.16379654372992744),\n",
       " (79, 0.1555998357813814),\n",
       " (669523, 0.1405576061663671),\n",
       " (286528, 0.13898186261567494),\n",
       " (428114, 0.13886103086599338),\n",
       " (2940, 0.13119904229741577),\n",
       " (668892, 0.12480792649678366),\n",
       " (965, 0.1228665972233407),\n",
       " (1191, 0.12117724664793474),\n",
       " (669628, 0.1150979877319),\n",
       " (669620, 0.1087327275450038),\n",
       " (2268500, 0.10856654763638028),\n",
       " (162982, 0.10718764084624197),\n",
       " (83, 0.1061997233570332),\n",
       " (669561, 0.105709001385754),\n",
       " (2831980, 0.10555314767578823),\n",
       " (631746, 0.10371977855436332),\n",
       " (4, 0.10240839383470149),\n",
       " (77191, 0.10116129317356312),\n",
       " (6587, 0.09920293866287001),\n",
       " (73227, 0.09729791645619998),\n",
       " (669599, 0.09310510661883355),\n",
       " (669538, 0.08783161331977113),\n",
       " (158962, 0.08496060720308844),\n",
       " (69, 0.08370684073256007),\n",
       " (996, 0.077893183623213),\n",
       " (669536, 0.07444910129534371),\n",
       " (285817, 0.0714137860171937),\n",
       " (669619, 0.07005749660619284),\n",
       " (669540, 0.06961322673612763),\n",
       " (1930, 0.0687173366414694),\n",
       " (669624, 0.06810854151933998),\n",
       " (669565, 0.0667683922421844),\n",
       " (1637, 0.06342042526030073),\n",
       " (532543, 0.06177121439944233),\n",
       " (709918, 0.06057414985900809),\n",
       " (17465, 0.059761865431331204),\n",
       " (223850, 0.05804106417579836),\n",
       " (366452, 0.05768102819664933),\n",
       " (669518, 0.05715783877727529),\n",
       " (120629, 0.055516575210551575),\n",
       " (669626, 0.05428327381819014),\n",
       " (1566861, 0.05254930316396945),\n",
       " (17819, 0.05221898950530012),\n",
       " (730, 0.05206113092590399),\n",
       " (669541, 0.05058064658678156),\n",
       " (3496768, 0.05042807810386686),\n",
       " (669629, 0.0499027851606036),\n",
       " (669581, 0.04728387353593229),\n",
       " (32837, 0.0467753489566636),\n",
       " (27, 0.04586297188492422),\n",
       " (669603, 0.041808312620511434),\n",
       " (7049, 0.040716363169675945),\n",
       " (5, 0.039941017933665446),\n",
       " (669521, 0.03964032980514207),\n",
       " (10318, 0.03916762242732654),\n",
       " (1575, 0.0387474357786396),\n",
       " (669529, 0.038694042783865575),\n",
       " (7044, 0.03833659049478351),\n",
       " (460895, 0.037987162459650746),\n",
       " (598637, 0.03778243185183862),\n",
       " (669556, 0.03744076458593386),\n",
       " (1634, 0.036173213425172546),\n",
       " (3496842, 0.035578246453153474),\n",
       " (160, 0.03553921379840707),\n",
       " (5213, 0.03463285759734376),\n",
       " (121, 0.03462327269909885),\n",
       " (1128841, 0.03431268311232152),\n",
       " (1101, 0.03425723013369114),\n",
       " (133, 0.03417995053834773),\n",
       " (276, 0.033376935721589375),\n",
       " (3496785, 0.03275930874598549),\n",
       " (669545, 0.0322214706060755),\n",
       " (2438723, 0.03216685597948657),\n",
       " (669531, 0.03206030565386355),\n",
       " (3496760, 0.03166594430273647),\n",
       " (669580, 0.03148537041652395),\n",
       " (903962, 0.03123203487169614),\n",
       " (9198, 0.031049721182069806),\n",
       " (314434, 0.031035035539611185),\n",
       " (378160, 0.030997029331038633),\n",
       " (1633, 0.03093264170838645),\n",
       " (444339, 0.030506931287527527),\n",
       " (618344, 0.030506931287527527),\n",
       " (326122, 0.030197221450174637),\n",
       " (752490, 0.030138670428447117),\n",
       " (669573, 0.029996748580838003),\n",
       " (680815, 0.029941671096362157),\n",
       " (163158, 0.029887511612821743),\n",
       " (669583, 0.029887511612821743),\n",
       " (669610, 0.02986076665699292),\n",
       " (9846, 0.029433165284126327),\n",
       " (2395, 0.02939041334337885),\n",
       " (901, 0.029282611459585738),\n",
       " (669528, 0.029255023508819915),\n",
       " (41304, 0.02925417125501815),\n",
       " (3077761, 0.028812683832103045),\n",
       " (115097, 0.02870708505198654),\n",
       " (669644, 0.02870708505198654),\n",
       " (669508, 0.02814276660660071),\n",
       " (430133, 0.02809790391734062),\n",
       " (4380, 0.028059682432736724),\n",
       " (14689, 0.027634051394600387),\n",
       " (5844, 0.02757677674100887),\n",
       " (72, 0.027182950974703666),\n",
       " (3496874, 0.026827696470351988),\n",
       " (3496891, 0.026827696470351988),\n",
       " (2275609, 0.02643272795935271),\n",
       " (401193, 0.025562179843586733),\n",
       " (7328, 0.025436916179446236),\n",
       " (2246, 0.02534508530338712),\n",
       " (3496795, 0.024757744132726),\n",
       " (6228, 0.024714340881613527),\n",
       " (219602, 0.024597201869214002),\n",
       " (1646, 0.023705588765114274),\n",
       " (561, 0.022806660990405948),\n",
       " (3496807, 0.022806343942881807),\n",
       " (3496759, 0.02237778825997566),\n",
       " (301770, 0.022217245996463676),\n",
       " (2921590, 0.022116468328534138),\n",
       " (106238, 0.021768230742108038),\n",
       " (430229, 0.021555688814028875),\n",
       " (669630, 0.021373537102575703),\n",
       " (509416, 0.021304758970576498),\n",
       " (3496788, 0.021304758970576498),\n",
       " (416065, 0.021271171798669636),\n",
       " (756684, 0.021271171798669636),\n",
       " (669616, 0.020904156310255717),\n",
       " (669564, 0.02082135658113076),\n",
       " (669520, 0.02079444531340703),\n",
       " (669654, 0.02079444531340703),\n",
       " (9767, 0.020706414654665),\n",
       " (663064, 0.020690023693074124),\n",
       " (1582744, 0.020614883356228828),\n",
       " (669548, 0.02029505518207484),\n",
       " (669589, 0.020232258634712622),\n",
       " (669534, 0.02021172455497075),\n",
       " (632621, 0.020171231241546742),\n",
       " (51414, 0.020151264932530964),\n",
       " (852035, 0.020131480966783088),\n",
       " (49664, 0.019871952130270393),\n",
       " (669638, 0.019854551802239277),\n",
       " (669689, 0.019786315320247397),\n",
       " (8390, 0.01968825098280565),\n",
       " (8206, 0.01968599514437086),\n",
       " (669613, 0.01957831597397695),\n",
       " (2446, 0.01946118875897819),\n",
       " (432133, 0.019459583291239996),\n",
       " (342, 0.01928772138550637),\n",
       " (27312, 0.019261332218763062),\n",
       " (669532, 0.019188438720768815),\n",
       " (122, 0.01907650930277619),\n",
       " (669526, 0.019052612925758432),\n",
       " (4752, 0.018838924527856824),\n",
       " (3067, 0.01833210624445283),\n",
       " (7315, 0.018189135018088984),\n",
       " (10385, 0.01764310909727445),\n",
       " (4558, 0.017507061081806215),\n",
       " (2574, 0.01745194190677688),\n",
       " (31708, 0.016952797090695537),\n",
       " (379835, 0.016912904468351392),\n",
       " (4728, 0.016506621844486636),\n",
       " (51410, 0.016470903896932204),\n",
       " (73931, 0.015907575159735718),\n",
       " (428, 0.015835338239341804),\n",
       " (51115, 0.01580529379215227),\n",
       " (71012, 0.015631655128655827),\n",
       " (832, 0.015598477023947923),\n",
       " (1425, 0.015497181989484354),\n",
       " (7576, 0.015146435546797432),\n",
       " (314, 0.014699104792386867),\n",
       " (3077760, 0.014406341916051522),\n",
       " (3077762, 0.014406341916051522),\n",
       " (3077764, 0.014406341916051522),\n",
       " (3077765, 0.014406341916051522),\n",
       " (3077766, 0.014406341916051522),\n",
       " (3077767, 0.014406341916051522),\n",
       " (3077768, 0.014406341916051522),\n",
       " (3077769, 0.014406341916051522),\n",
       " (3077770, 0.014406341916051522),\n",
       " (3077771, 0.014406341916051522),\n",
       " (3077772, 0.014406341916051522),\n",
       " (1414, 0.014089965361350298),\n",
       " (1837246, 0.01396715646582901),\n",
       " (1844101, 0.01396715646582901),\n",
       " (2306753, 0.01396715646582901),\n",
       " (3077763, 0.01396715646582901),\n",
       " (3496770, 0.01396715646582901),\n",
       " (1183, 0.013869882440299163),\n",
       " (29575, 0.013778926107104935),\n",
       " (2369, 0.01372733539758961),\n",
       " (14969, 0.013671482805630306),\n",
       " (1391986, 0.013655549429898868),\n",
       " (1834925, 0.013655549429898868),\n",
       " (1941118, 0.013655549429898868),\n",
       " (2391989, 0.013655549429898868),\n",
       " (2920519, 0.013655549429898868),\n",
       " (3496850, 0.013655549429898868),\n",
       " (253704, 0.013413848235175994),\n",
       " (3496889, 0.013413848235175994),\n",
       " (814, 0.013237042836834143),\n",
       " (3496873, 0.013216363979676356),\n",
       " (1673, 0.013185635210121002),\n",
       " (663842, 0.013049393420759656),\n",
       " (1202930, 0.012904756943746213),\n",
       " (1218028, 0.012904756943746213),\n",
       " (68214, 0.012777178529453845),\n",
       " (596579, 0.012777178529453845),\n",
       " (993945, 0.012663055749023341),\n",
       " (1022073, 0.01255981913657238),\n",
       " (6384, 0.012493961611723862),\n",
       " (952, 0.012444495410072058),\n",
       " (19, 0.012268137692707626),\n",
       " (294337, 0.012026386043301193),\n",
       " (901519, 0.011912263262870686),\n",
       " (12260, 0.011905222555329033),\n",
       " (1014678, 0.011859415484384492),\n",
       " (3496791, 0.011859415484384492),\n",
       " (3511, 0.011851854935895198),\n",
       " (1091, 0.011762909583962833),\n",
       " (3496784, 0.011760878074950567),\n",
       " (679, 0.011690346818496563),\n",
       " (843, 0.01168279349355042),\n",
       " (1390747, 0.011670562068147818),\n",
       " (4798, 0.011483799091607957),\n",
       " (726322, 0.011473077812648176),\n",
       " (3496806, 0.011473077812648176),\n",
       " (812907, 0.011437561037440506),\n",
       " (6799, 0.011408175718007604),\n",
       " (669576, 0.011161470776718035),\n",
       " (841088, 0.011161470776718035),\n",
       " (3496751, 0.011134724612964827),\n",
       " (1658384, 0.011108622998231838),\n",
       " (669544, 0.011083135596498865),\n",
       " (669537, 0.011058234164267069),\n",
       " (669578, 0.011058234164267069),\n",
       " (474, 0.011014549808440799),\n",
       " (669563, 0.010986790828697303),\n",
       " (1281595, 0.010986790828697303),\n",
       " (1542, 0.010924870459198809),\n",
       " (965815, 0.010919769581995163),\n",
       " (2453, 0.010862415287722877),\n",
       " (669623, 0.010816532969544197),\n",
       " (669625, 0.010816532969544197),\n",
       " (226668, 0.010797015962301692),\n",
       " (1835697, 0.010797015962301692),\n",
       " (669641, 0.010777844407014438),\n",
       " (669631, 0.010759006287037345),\n",
       " (1177168, 0.010759006287037345),\n",
       " (669527, 0.010740490202025166),\n",
       " (669566, 0.010722285326495523),\n",
       " (852034, 0.010722285326495523),\n",
       " (32056, 0.010704381371816962),\n",
       " (1105256, 0.010686768551287851),\n",
       " (1653, 0.010683837024858898),\n",
       " (1170431, 0.010652379485288249),\n",
       " (618360, 0.01049512347217465),\n",
       " (4982, 0.010485794865764076),\n",
       " (669542, 0.010480584131772653),\n",
       " (3496752, 0.010466237371084295),\n",
       " (1806, 0.01040869815480718),\n",
       " (7134, 0.01036712737327629),\n",
       " (511315, 0.010357830512079183),\n",
       " (359381, 0.01033234311034621),\n",
       " (114610, 0.010259293102645258),\n",
       " (1125, 0.010251375916379023),\n",
       " (669547, 0.010247583101065341),\n",
       " (3496761, 0.010247583101065341),\n",
       " (122434, 0.010235998342544649),\n",
       " (126593, 0.010235998342544649),\n",
       " (669604, 0.010235998342544649),\n",
       " (219023, 0.010224536176361423),\n",
       " (669642, 0.01020196943102767),\n",
       " (655306, 0.010190859953162481),\n",
       " (669672, 0.010168977095842508),\n",
       " (669646, 0.01014752759103742),\n",
       " (669553, 0.010136960047739254),\n",
       " (669637, 0.010136960047739254),\n",
       " (1522, 0.01011737586091933),\n",
       " (669570, 0.010105862277485375),\n",
       " (108192, 0.010085615620773371),\n",
       " (126707, 0.010075632466265482),\n",
       " (10220, 0.01006755189688117),\n",
       " (51415, 0.010055938021952138),\n",
       " (118881, 0.010055938021952138),\n",
       " (163156, 0.010046223476149039),\n",
       " (21031, 0.010017591907922386),\n",
       " (116898, 0.009944746676589662),\n",
       " (669510, 0.009944746676589662),\n",
       " (41805, 0.009927275901119638),\n",
       " (1040, 0.009910307093691641),\n",
       " (669611, 0.009910082451285518),\n",
       " (310291, 0.009893157660123698),\n",
       " (669608, 0.009884793413182163),\n",
       " (1100, 0.009857196329772559),\n",
       " (17922, 0.009845044658747415),\n",
       " (4401, 0.009837888302852415),\n",
       " (179415, 0.009835920555107278),\n",
       " (669555, 0.009835920555107278),\n",
       " (36212, 0.0097815568007312),\n",
       " (669605, 0.009774008584843227),\n",
       " (317710, 0.009722594512187143),\n",
       " (82542, 0.009646430170550861),\n",
       " (524, 0.009585636918847043),\n",
       " (617248, 0.0095444099137544),\n",
       " (135, 0.009540995213412133),\n",
       " (20751, 0.009539745373923691),\n",
       " (4544, 0.00951776996338609),\n",
       " (238162, 0.009490982747933441),\n",
       " (72541, 0.009456774707186456),\n",
       " (190204, 0.00937570212175238),\n",
       " (128767, 0.009344899157015361),\n",
       " (1139, 0.009310887004075322),\n",
       " (679628, 0.009281020605436731),\n",
       " (293967, 0.009266799421769731),\n",
       " (192445, 0.009248123707460013),\n",
       " (5173, 0.009224135873860468),\n",
       " (1913, 0.009220257854104508),\n",
       " (142625, 0.009182760000316707),\n",
       " (54475, 0.009121574428253624),\n",
       " (138351, 0.00911746374173925),\n",
       " (170405, 0.00908911762998981),\n",
       " (187492, 0.009026983631520307),\n",
       " (3239, 0.00899640293230924),\n",
       " (118, 0.008829576311718162),\n",
       " (319, 0.008765847912140894),\n",
       " (79116, 0.00874309030259351),\n",
       " (16368, 0.008737297964744472),\n",
       " (671531, 0.008661989795148822),\n",
       " (2315, 0.008620793093189999),\n",
       " (397, 0.008478166053669755),\n",
       " (2252, 0.008462740509327975),\n",
       " (39104, 0.008393673880711073),\n",
       " (39564, 0.008389475563065506),\n",
       " (21607, 0.00835038275921868),\n",
       " (232685, 0.008334335582801968),\n",
       " (5710, 0.008305982081527821),\n",
       " (72117, 0.008221009539881835),\n",
       " (38052, 0.008178802982297784),\n",
       " (16662, 0.008123330144431609),\n",
       " (5421, 0.008122419886321789),\n",
       " (2710, 0.00810422568350872),\n",
       " (22364, 0.008011339739908177),\n",
       " (37927, 0.007985062221087802),\n",
       " (5821, 0.007983345195578338),\n",
       " (70623, 0.007903144003522681),\n",
       " (65526, 0.00787802984941453),\n",
       " (50823, 0.007842049544056751),\n",
       " (53121, 0.007835748394253524),\n",
       " (5998, 0.007823267551455475),\n",
       " (18, 0.007752582089465994),\n",
       " (3083, 0.00773953171614102),\n",
       " (380920, 0.0077293179495915125),\n",
       " (61, 0.007638440942746397),\n",
       " (44180, 0.00758254799819025),\n",
       " (499, 0.007553394664845704),\n",
       " (64, 0.007430044834773733),\n",
       " (10973, 0.007400759635048083),\n",
       " (911, 0.0073855548923749985),\n",
       " (2177, 0.007309493591709382),\n",
       " (20874, 0.0072912720729580785),\n",
       " (688, 0.007277557728008212),\n",
       " (56614, 0.007265731641208866),\n",
       " (33650, 0.007211435380031333),\n",
       " (5078, 0.0070436297560828275),\n",
       " (4681, 0.007040035517335954),\n",
       " (3840, 0.007027300095337292),\n",
       " (23827, 0.006955424588662467),\n",
       " (14506, 0.006942127260375398),\n",
       " (7609, 0.006916181934299462),\n",
       " (19683, 0.00686457354263431),\n",
       " (41050, 0.006851326773811732),\n",
       " (148, 0.006747734287537339),\n",
       " (976, 0.006738805834123204),\n",
       " (10678, 0.006735230877197046),\n",
       " (84701, 0.006703845601309126),\n",
       " (1539, 0.00664797447784535),\n",
       " (95, 0.006646489722439454),\n",
       " (17627, 0.0066143961191561275),\n",
       " (735, 0.006560913614965185),\n",
       " (22477, 0.006550022948950088),\n",
       " (1056, 0.006469875581415722),\n",
       " (2074, 0.0064498380412977025),\n",
       " (11351, 0.0064018933928797),\n",
       " (5302, 0.006397221696065666),\n",
       " (17239, 0.006371556206572796),\n",
       " (5158, 0.00635670040678787),\n",
       " (196, 0.006345845394721301),\n",
       " (476769, 0.006341729212404744),\n",
       " (1397, 0.006284847224293695),\n",
       " (9837, 0.006216684517622113),\n",
       " (9903, 0.006125895099711954),\n",
       " (311579, 0.006121755941690998),\n",
       " (5792, 0.006106373464045515),\n",
       " (469, 0.00601887718504328),\n",
       " (9889, 0.005988312129924533),\n",
       " (7789, 0.005951286845549421),\n",
       " (7700, 0.005902543762182233),\n",
       " (1959, 0.005902170656254505),\n",
       " (7042, 0.005883313009485672),\n",
       " (6221, 0.005874235005444488),\n",
       " (10756, 0.0058611649874784275),\n",
       " (20376, 0.005846847607590187),\n",
       " (12296, 0.005840456059063099),\n",
       " (6542, 0.0057532512209380994),\n",
       " (30195, 0.005753067493586881),\n",
       " (3341, 0.005748199571343432),\n",
       " (12201, 0.00569965997626179),\n",
       " (1200, 0.005643308671825144),\n",
       " (18177, 0.00560206577201364),\n",
       " (1230, 0.005511954336118686),\n",
       " (3416, 0.005473670879658206),\n",
       " (17016, 0.0054615320823909195),\n",
       " (13072, 0.0054563511417303825),\n",
       " (3177, 0.00545147295541425),\n",
       " (6060, 0.005449517870658585),\n",
       " (260, 0.005409794805826248),\n",
       " (17283, 0.005402001063489955),\n",
       " (1005, 0.0053572526534755435),\n",
       " (84149, 0.005331041200877583),\n",
       " (350, 0.005305812636935372),\n",
       " (42591, 0.005229446047382553),\n",
       " (157, 0.005218388244774514),\n",
       " (9965, 0.005212138421634286),\n",
       " (9580, 0.005197630300013316),\n",
       " (5265, 0.005176927399039969),\n",
       " (11069, 0.005163519734204332),\n",
       " (15188, 0.005128075174440268),\n",
       " (9391, 0.005105006530299676),\n",
       " (2682, 0.0050738034755198665),\n",
       " (9902, 0.0050606805226505),\n",
       " (14293, 0.005038704602290786),\n",
       " (4385, 0.005038229717546229),\n",
       " (13055, 0.005017631428538957),\n",
       " (8121, 0.0050057711673256785),\n",
       " (2456, 0.004972378962590974),\n",
       " (5246, 0.004909206823501168),\n",
       " (5556, 0.004880180982562626),\n",
       " (25186, 0.0048768215677545265),\n",
       " (11875, 0.0048645381681905984),\n",
       " (15, 0.00485528363711886),\n",
       " (7754, 0.004826704228315677),\n",
       " (10437, 0.004770539957003728),\n",
       " (1589, 0.0047540533392283505),\n",
       " (326, 0.004738605716484054),\n",
       " (36840, 0.0047322157699311185),\n",
       " (4136, 0.0047273588417428986),\n",
       " (3081, 0.004717286118682782),\n",
       " (913, 0.004677021838485274),\n",
       " (12059, 0.004665181637863324),\n",
       " (6583, 0.004660146620291103),\n",
       " (770, 0.004635477705841346),\n",
       " (3632, 0.004606125771461301),\n",
       " (10993, 0.004602245850674722),\n",
       " (1010, 0.004581680607666719),\n",
       " (227, 0.004570077730018515),\n",
       " (2541, 0.004558689424160687),\n",
       " (16633, 0.004541985918010752),\n",
       " (1184, 0.004529090949091015),\n",
       " (60, 0.0045157461369648225),\n",
       " (28450, 0.004515409681272377),\n",
       " (5015, 0.004504332493749886),\n",
       " (6171, 0.004481148810618549),\n",
       " (9428, 0.004469908988489543),\n",
       " (4458, 0.004428728285067543),\n",
       " (9439, 0.004426944674890074),\n",
       " (1002, 0.004388326225497833),\n",
       " (1128, 0.004364004110894002),\n",
       " (500, 0.004325568681019271),\n",
       " (2057, 0.004292672449881284),\n",
       " (4063, 0.004275961071765514),\n",
       " (1032, 0.0042692640083703695),\n",
       " (11140, 0.0042592260288231015),\n",
       " (79923, 0.004255531739442129),\n",
       " (436, 0.0042446607845553295),\n",
       " (495, 0.004236069065654853),\n",
       " (1460, 0.004225928899888252),\n",
       " (1368, 0.0042103858235624705),\n",
       " (7575, 0.004192623955772459),\n",
       " (56677, 0.004139943971519347),\n",
       " (1953, 0.004137047475857586),\n",
       " (376, 0.004131729853130464),\n",
       " (9678, 0.0041171482961340055),\n",
       " (6046, 0.004090697054440496),\n",
       " (1092, 0.004052346120496178),\n",
       " (4080, 0.004043857535117191),\n",
       " (728, 0.004038184919349255),\n",
       " (10294, 0.004023871411081492),\n",
       " (1231, 0.004004503307794474),\n",
       " (854, 0.0039999060448835284),\n",
       " (5997, 0.003979992513348501),\n",
       " (870, 0.003970454795268075),\n",
       " (1936, 0.003933533070450851),\n",
       " (3572, 0.003919887204129813),\n",
       " (218, 0.003893430578171565),\n",
       " (4402, 0.0038855721134499416),\n",
       " (41028, 0.0038805711484800123),\n",
       " (4607, 0.0038651272794846584),\n",
       " (4112, 0.0038618842852683874),\n",
       " (35, 0.003848476365380581),\n",
       " (11361, 0.003802876996197274),\n",
       " (54, 0.003785323905167008),\n",
       " (7711, 0.0037362771380120294),\n",
       " (940, 0.0037311514744334962),\n",
       " (4718, 0.0037261347806939677),\n",
       " (458, 0.003721503263750874),\n",
       " (7250, 0.003710860101342031),\n",
       " (1669, 0.0036814575837133077),\n",
       " (4195, 0.0036754773450359086),\n",
       " (477, 0.003646981181286784),\n",
       " (1857, 0.0036353472100506563),\n",
       " (3085, 0.0036346973086736484),\n",
       " (6390, 0.0036144097452912726),\n",
       " (14132, 0.0036029924169528127),\n",
       " (7486, 0.0035811060262359072),\n",
       " (959, 0.0035709388592705736),\n",
       " (144, 0.0034982814979576593),\n",
       " (137, 0.003498121119076198),\n",
       " (402, 0.0034947750222975808),\n",
       " (1619, 0.0034705929595820195),\n",
       " (410, 0.003465045854412632),\n",
       " (1161, 0.0034382053927728227),\n",
       " (6737, 0.0034354991847839857),\n",
       " (1972, 0.0033767306581639267),\n",
       " (508, 0.0033677970389371947),\n",
       " (15410, 0.0033616193736115936),\n",
       " (3984, 0.003359601555225309),\n",
       " (877, 0.00335286912221786),\n",
       " (2143, 0.0033518278295193277),\n",
       " (2161, 0.003338104617574939),\n",
       " (3804, 0.0033331947125778516),\n",
       " (4418, 0.0033186747839017033),\n",
       " (1072, 0.0033037532259311787),\n",
       " (4516, 0.0033005223217695977),\n",
       " (17644, 0.0032401937985282086),\n",
       " (593, 0.003223201451119081),\n",
       " (213, 0.00321238774368073),\n",
       " (4011, 0.0032114554746719213),\n",
       " (3448, 0.003188474624843239),\n",
       " (250, 0.0031830488318020907),\n",
       " (8860, 0.0031797312218619323),\n",
       " (315, 0.003142011270183595),\n",
       " (1167, 0.0031380936151374763),\n",
       " (3339, 0.003114108972644632),\n",
       " (5288, 0.0030959094541843125),\n",
       " (3783, 0.0030789593043854435),\n",
       " (710, 0.003024728538145614),\n",
       " (963, 0.0030152320256611547),\n",
       " (476, 0.002996126354544978),\n",
       " (4658, 0.0029905773287221744),\n",
       " (948, 0.0029586465962091963),\n",
       " (3455, 0.002947165964652428),\n",
       " (1401, 0.002936201140639036),\n",
       " (49359, 0.0029240913440210024),\n",
       " (2163, 0.002910050174473292),\n",
       " (1202, 0.002901167923125328),\n",
       " (1243, 0.00289205675210435),\n",
       " (2858, 0.0028847627747215013),\n",
       " (1136, 0.00281009803000789),\n",
       " (1027, 0.002801706705877189),\n",
       " (869, 0.0027757863478104134),\n",
       " (26, 0.0027696066355537377),\n",
       " (721, 0.0027203701573545094),\n",
       " (1525, 0.002679845154258491),\n",
       " (829, 0.0026356691394285423),\n",
       " (2065, 0.0026189257878443182),\n",
       " (2172, 0.0025993653590755976),\n",
       " (382, 0.002568629913839497),\n",
       " (684, 0.0025078289930165294),\n",
       " (2159, 0.0025030188904751785),\n",
       " (2023, 0.002502360881739621),\n",
       " (892, 0.002495975240957638),\n",
       " (2670, 0.0024683119083669294),\n",
       " (1644, 0.002448563786012904),\n",
       " (367, 0.0024478163983271003),\n",
       " (2488, 0.002362143926107205),\n",
       " (456, 0.0023489560865427696),\n",
       " (6, 0.002268687220432827),\n",
       " (48, 0.002229069768191932),\n",
       " (3, 0.002223195130295938),\n",
       " (67, 0.002204774674680469),\n",
       " (13873, 0.0021766957264162732),\n",
       " (1991, 0.002170040326609635),\n",
       " (3687, 0.0021635926199923346),\n",
       " (197, 0.0021305231048122284),\n",
       " (63, 0.0021135774623459586),\n",
       " (68, 0.0020690843912317316),\n",
       " (771, 0.0020397405267526245),\n",
       " (404, 0.0019808879399118655),\n",
       " (916, 0.0019437701912775403),\n",
       " (209, 0.0019187392088279836),\n",
       " (58, 0.0018942006718102975),\n",
       " (1976, 0.0018680976922781538),\n",
       " (2353, 0.0018636709079282),\n",
       " (966, 0.0018476340130228392),\n",
       " (12453, 0.0018227924837108975),\n",
       " (272, 0.0014782556823501347)]"
      ]
     },
     "execution_count": 69,
     "metadata": {},
     "output_type": "execute_result"
    }
   ],
   "source": [
    "sorted(tfidf[corpus[1194602]], key=itemgetter(1), reverse=True)"
   ]
  },
  {
   "cell_type": "code",
   "execution_count": 81,
   "metadata": {
    "ExecuteTime": {
     "end_time": "2017-07-24T15:32:25.855406Z",
     "start_time": "2017-07-24T15:32:25.852186Z"
    }
   },
   "outputs": [
    {
     "data": {
      "text/plain": [
       "'устройство'"
      ]
     },
     "execution_count": 81,
     "metadata": {},
     "output_type": "execute_result"
    }
   ],
   "source": [
    "dictionary[133448]"
   ]
  },
  {
   "cell_type": "code",
   "execution_count": 63,
   "metadata": {
    "ExecuteTime": {
     "end_time": "2017-07-24T15:17:38.587717Z",
     "start_time": "2017-07-24T15:17:38.584903Z"
    },
    "collapsed": true
   },
   "outputs": [],
   "source": [
    "test_fn = [fn for fn in val_docs if '235293c6-8f9a-cc52-25ee-63169c2a052f' in fn][0]"
   ]
  },
  {
   "cell_type": "code",
   "execution_count": 71,
   "metadata": {
    "ExecuteTime": {
     "end_time": "2017-07-24T15:30:26.619478Z",
     "start_time": "2017-07-24T15:30:26.606075Z"
    },
    "scrolled": true
   },
   "outputs": [
    {
     "data": {
      "text/plain": [
       "[(133448, 0.5682621760252103),\n",
       " (162982, 0.39656712431357266),\n",
       " (3059, 0.29192801479528985),\n",
       " (669629, 0.23210335216318181),\n",
       " (669575, 0.17073919644384494),\n",
       " (669624, 0.16970374871335192),\n",
       " (4303, 0.15689056723710146),\n",
       " (17465, 0.1489066182825238),\n",
       " (3496779, 0.13076498554502808),\n",
       " (669563, 0.1277519367230395),\n",
       " (669631, 0.12510330922058255),\n",
       " (416065, 0.12366820466585464),\n",
       " (208467, 0.11902189028103584),\n",
       " (884879, 0.11902189028103584),\n",
       " (428114, 0.11533177759340704),\n",
       " (669555, 0.11436987560433039),\n",
       " (669523, 0.10895815219615393),\n",
       " (11561, 0.09417128426420321),\n",
       " (17737, 0.08357684545690183),\n",
       " (6150, 0.07500998448004349),\n",
       " (22348, 0.07050444061839982),\n",
       " (669546, 0.06555503500007692),\n",
       " (1566860, 0.06555503500007692),\n",
       " (2296687, 0.06374338667813824),\n",
       " (11721, 0.06352833862410387),\n",
       " (1177168, 0.06255165461029127),\n",
       " (669594, 0.06173795699432399),\n",
       " (92836, 0.061549961023167024),\n",
       " (1293114, 0.06145802658231623),\n",
       " (2831980, 0.061367414985153614),\n",
       " (669591, 0.06101746955151221),\n",
       " (140975, 0.060294682529578904),\n",
       " (122434, 0.05951094514051792),\n",
       " (669729, 0.05924851561245825),\n",
       " (669606, 0.05912129113684712),\n",
       " (669627, 0.05899658612410388),\n",
       " (669541, 0.05881404008609045),\n",
       " (669570, 0.05875434866898898),\n",
       " (696026, 0.058407615373827985),\n",
       " (534449, 0.058186631389289444),\n",
       " (669510, 0.05781764065426271),\n",
       " (669689, 0.057517707904567096),\n",
       " (669528, 0.056695140713395105),\n",
       " (221806, 0.056443211225040736),\n",
       " (669511, 0.05620097376992583),\n",
       " (669514, 0.05600599233232403),\n",
       " (668892, 0.05581686708700386),\n",
       " (120629, 0.053794522546513734),\n",
       " (37328, 0.04812782677228082),\n",
       " (23070, 0.04353613753319218),\n",
       " (224, 0.040750713047063694),\n",
       " (10382, 0.0384743102269442),\n",
       " (11932, 0.037508309522190274),\n",
       " (16498, 0.0372257248549677),\n",
       " (15365, 0.034045545232656606),\n",
       " (58, 0.03303801011671855),\n",
       " (1658, 0.03293198272493373),\n",
       " (4823, 0.02614031285838385),\n",
       " (3678, 0.024722450246700722),\n",
       " (10261, 0.024235886123805183),\n",
       " (8870, 0.023946080035336683),\n",
       " (1666, 0.02346856919915176),\n",
       " (1478, 0.022526981446673044),\n",
       " (5989, 0.022205343882895173),\n",
       " (54, 0.022007448196155494),\n",
       " (3051, 0.021157156964054225),\n",
       " (3835, 0.01991492208984363),\n",
       " (1211, 0.01972006519903747),\n",
       " (1212, 0.0188986661956803),\n",
       " (3448, 0.018537433490225456),\n",
       " (3138, 0.017760025376569094),\n",
       " (1734, 0.017249259312958728),\n",
       " (2163, 0.01691870499523572),\n",
       " (228, 0.015558934901963287),\n",
       " (1028, 0.015553262497218116),\n",
       " (2023, 0.014548445219654454),\n",
       " (1040, 0.014404353196479534),\n",
       " (524, 0.013932454210241129),\n",
       " (32, 0.01333982810426387),\n",
       " (121, 0.011183101123594818),\n",
       " (2177, 0.010624143771428295),\n",
       " (157, 0.006067824674529935),\n",
       " (48, 0.004319853789538602),\n",
       " (3, 0.0021542344805749796)]"
      ]
     },
     "execution_count": 71,
     "metadata": {},
     "output_type": "execute_result"
    }
   ],
   "source": [
    "with open(test_fn, 'r') as f:\n",
    "    doc_text = f.read()\n",
    "doc_bow = dictionary.doc2bow(tokenize(doc_text))\n",
    "sorted(tfidf[doc_bow], key=itemgetter(1), reverse=True)\n"
   ]
  },
  {
   "cell_type": "code",
   "execution_count": 82,
   "metadata": {
    "ExecuteTime": {
     "end_time": "2017-07-24T15:34:27.065535Z",
     "start_time": "2017-07-24T15:34:27.057066Z"
    }
   },
   "outputs": [
    {
     "data": {
      "text/plain": [
       "'устройство'"
      ]
     },
     "execution_count": 82,
     "metadata": {},
     "output_type": "execute_result"
    }
   ],
   "source": [
    "dictionary[133448]"
   ]
  },
  {
   "cell_type": "markdown",
   "metadata": {},
   "source": [
    "# Experiments"
   ]
  },
  {
   "cell_type": "raw",
   "metadata": {},
   "source": [
    "different vectors\n",
    "1. nword15, 300, 3\n",
    "median\n",
    "acc10     0.0\n",
    "acc20     0.0\n",
    "acc200    0.5\n",
    "dtype: float64\n",
    "mean\n",
    "acc10     0.297436\n",
    "acc20     0.384872\n",
    "acc200    0.548846\n",
    "\n",
    "2. \n",
    "\n",
    "\n",
    "1. nword = 10\n",
    "median\n",
    "acc10     0.0\n",
    "acc20     0.2\n",
    "acc200    0.5\n",
    "mean\n",
    "acc10     0.360327\n",
    "acc20     0.420654\n",
    "acc200    0.510225\n",
    "\n",
    "2.nword = 10, softmax\n",
    "median\n",
    "acc10     0.000000\n",
    "acc20     0.333333\n",
    "acc200    0.500000\n",
    "mean\n",
    "acc10     0.385890\n",
    "acc20     0.442331\n",
    "acc200    0.549080\n",
    "\n",
    "3. nword=100, softmax\n",
    "median\n",
    "acc10     0.0\n",
    "acc20     0.0\n",
    "acc200    0.5\n",
    "mean\n",
    "acc10     0.329243\n",
    "acc20     0.387526\n",
    "acc200    0.540389\n",
    "\n",
    "4. nword=10, dim=300, average simple\n",
    "median\n",
    "acc10     0.5\n",
    "acc20     1.0\n",
    "acc200    1.0\n",
    "dtype: float64\n",
    "mean\n",
    "acc10     0.519632\n",
    "acc20     0.610123\n",
    "acc200    0.832720\n",
    "dtype: float64\n",
    "\n",
    "5. nword=10, dim=300, tfidf weights\n",
    "median\n",
    "acc10     0.5\n",
    "acc20     1.0\n",
    "acc200    1.0\n",
    "dtype: float64\n",
    "mean\n",
    "acc10     0.528834\n",
    "acc20     0.625869\n",
    "acc200    0.838855\n",
    "6.nword=20, dim=300, tfidf weights\n",
    "median\n",
    "acc10     1.0\n",
    "acc20     1.0\n",
    "acc200    1.0\n",
    "dtype: float64\n",
    "mean\n",
    "acc10     0.640286\n",
    "acc20     0.689571\n",
    "acc200    0.871166\n",
    "dtype: float64\n",
    "7.nword=100, dim=300, tfidf weights\n",
    "median\n",
    "acc10     0.5\n",
    "acc20     1.0\n",
    "acc200    1.0\n",
    "dtype: float64\n",
    "mean\n",
    "acc10     0.523926\n",
    "acc20     0.580164\n",
    "acc200    0.729857\n",
    "dtype: float64\n",
    "8.nword=30, dim=300, tfidf weights\n",
    "median\n",
    "acc10     1.0\n",
    "acc20     1.0\n",
    "acc200    1.0\n",
    "dtype: float64\n",
    "mean\n",
    "acc10     0.602863\n",
    "acc20     0.663599\n",
    "acc200    0.832106\n",
    "9.nword=15, dim=300, tfidf weights\n",
    "median\n",
    "acc10     1.0\n",
    "acc20     1.0\n",
    "acc200    1.0\n",
    "dtype: float64\n",
    "mean\n",
    "acc10     0.633742\n",
    "acc20     0.728221\n",
    "acc200    0.884458\n",
    "10.nword=5, dim=300, tfidf weights\n",
    "median\n",
    "acc10     0.0\n",
    "acc20     0.0\n",
    "acc200    1.0\n",
    "dtype: float64\n",
    "mean\n",
    "acc10     0.321166\n",
    "acc20     0.369427\n",
    "acc200    0.612577\n",
    "11.nword=13, dim=300, tfidf weights\n",
    "median\n",
    "acc10     1.0\n",
    "acc20     1.0\n",
    "acc200    1.0\n",
    "dtype: float64\n",
    "mean\n",
    "acc10     0.605930\n",
    "acc20     0.676687\n",
    "acc200    0.840286"
   ]
  },
  {
   "cell_type": "markdown",
   "metadata": {
    "heading_collapsed": true
   },
   "source": [
    "# Save"
   ]
  },
  {
   "cell_type": "code",
   "execution_count": 19,
   "metadata": {
    "ExecuteTime": {
     "end_time": "2017-07-05T22:51:59.061906Z",
     "start_time": "2017-07-05T22:51:59.058839Z"
    },
    "collapsed": true,
    "hidden": true
   },
   "outputs": [],
   "source": [
    "test_vecs = np.array(test_vecs)\n",
    "train_vecs = np.array(train_vecs)"
   ]
  },
  {
   "cell_type": "code",
   "execution_count": 20,
   "metadata": {
    "ExecuteTime": {
     "end_time": "2017-07-05T22:51:59.086742Z",
     "start_time": "2017-07-05T22:51:59.063058Z"
    },
    "collapsed": true,
    "hidden": true
   },
   "outputs": [],
   "source": [
    "# np.save(join(DATA_FOLDER, 'bov_test_vecs.npy'), test_vecs)\n",
    "# np.save(join(DATA_FOLDER, 'bov_train_vecs.npy'), train_vecs)"
   ]
  },
  {
   "cell_type": "markdown",
   "metadata": {
    "heading_collapsed": true
   },
   "source": [
    "# Tensorboard visualization"
   ]
  },
  {
   "cell_type": "code",
   "execution_count": 88,
   "metadata": {
    "ExecuteTime": {
     "end_time": "2017-07-09T10:10:53.611780Z",
     "start_time": "2017-07-09T10:10:53.593138Z"
    },
    "collapsed": true,
    "hidden": true
   },
   "outputs": [],
   "source": [
    "import tensorflow as tf\n",
    "from tensorflow.contrib.tensorboard.plugins import projector\n",
    "\n",
    "from operator import itemgetter \n",
    "from random import sample"
   ]
  },
  {
   "cell_type": "code",
   "execution_count": 89,
   "metadata": {
    "ExecuteTime": {
     "end_time": "2017-07-09T10:10:54.784746Z",
     "start_time": "2017-07-09T10:10:53.658264Z"
    },
    "collapsed": true,
    "hidden": true
   },
   "outputs": [],
   "source": [
    "# subsample to managebale size\n",
    "samp_ixs = sample(range(len(train_vecs)), 99800)\n",
    "samp = list(itemgetter(*samp_ixs)(train_vecs)) + test_vecs\n",
    "samp_names = list(itemgetter(*samp_ixs)(train_names)) + test_names"
   ]
  },
  {
   "cell_type": "code",
   "execution_count": 90,
   "metadata": {
    "ExecuteTime": {
     "end_time": "2017-07-09T10:10:54.841719Z",
     "start_time": "2017-07-09T10:10:54.786909Z"
    },
    "collapsed": true,
    "hidden": true
   },
   "outputs": [],
   "source": [
    "vocab_size = len(samp)\n",
    "embedding_dim = model.vector_size\n",
    "\n",
    "W = tf.Variable(tf.constant(0.0, shape=[vocab_size, embedding_dim]),\n",
    "                trainable=False, name=\"W\")\n",
    "embedding_placeholder = tf.placeholder(tf.float32, [vocab_size, embedding_dim])\n",
    "embedding_init = W.assign(embedding_placeholder)"
   ]
  },
  {
   "cell_type": "code",
   "execution_count": 91,
   "metadata": {
    "ExecuteTime": {
     "end_time": "2017-07-09T10:10:56.484505Z",
     "start_time": "2017-07-09T10:10:54.843816Z"
    },
    "collapsed": true,
    "hidden": true
   },
   "outputs": [],
   "source": [
    "import csv\n",
    "\n",
    "vocab = dict(enumerate(samp_names))\n",
    "vdf = pd.DataFrame.from_dict(vocab, orient='index')\n",
    "vdf.to_csv('../data/processed_docs/vocab.tsv', header=False, sep='\\t', index=False)\n"
   ]
  },
  {
   "cell_type": "code",
   "execution_count": 92,
   "metadata": {
    "ExecuteTime": {
     "end_time": "2017-07-09T10:14:25.908441Z",
     "start_time": "2017-07-09T10:10:56.486617Z"
    },
    "collapsed": true,
    "hidden": true
   },
   "outputs": [],
   "source": [
    "with tf.Session() as sess:\n",
    "    final_embed_matrix = sess.run(embedding_init, feed_dict={embedding_placeholder: samp})\n",
    "    \n",
    "#     final_embed_matrix = sess.run(weights)\n",
    "\n",
    "    # it has to variable. constants don't work here. you can't reuse model.embed_matrix\n",
    "    embedding_var = tf.Variable(final_embed_matrix, name='documents')\n",
    "    sess.run(embedding_var.initializer)\n",
    "\n",
    "    config = projector.ProjectorConfig()\n",
    "    summary_writer = tf.summary.FileWriter('../data/processed_docs')\n",
    "\n",
    "    # add embedding to the config file\n",
    "    embedding = config.embeddings.add()\n",
    "    embedding.tensor_name = embedding_var.name\n",
    "\n",
    "    # link this tensor to its metadata file, in this case the first 500 words of vocab\n",
    "    embedding.metadata_path = 'vocab.tsv'\n",
    "\n",
    "    # saves a configuration file that TensorBoard will read during startup.\n",
    "    projector.visualize_embeddings(summary_writer, config)\n",
    "    saver_embed = tf.train.Saver([embedding_var])\n",
    "    saver_embed.save(sess, '../data/processed_docs/model3.ckpt', 1)\n"
   ]
  }
 ],
 "metadata": {
  "kernelspec": {
   "display_name": "Python 2",
   "language": "python",
   "name": "python2"
  },
  "language_info": {
   "codemirror_mode": {
    "name": "ipython",
    "version": 2
   },
   "file_extension": ".py",
   "mimetype": "text/x-python",
   "name": "python",
   "nbconvert_exporter": "python",
   "pygments_lexer": "ipython2",
   "version": "2.7.12"
  }
 },
 "nbformat": 4,
 "nbformat_minor": 2
}
