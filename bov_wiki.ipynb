{
 "cells": [
  {
   "cell_type": "markdown",
   "metadata": {},
   "source": [
    "# Import"
   ]
  },
  {
   "cell_type": "code",
   "execution_count": 1,
   "metadata": {
    "ExecuteTime": {
     "end_time": "2017-07-18T07:24:15.692945Z",
     "start_time": "2017-07-18T07:23:56.941258Z"
    },
    "scrolled": true
   },
   "outputs": [
    {
     "name": "stderr",
     "output_type": "stream",
     "text": [
      "Using TensorFlow backend.\n"
     ]
    }
   ],
   "source": [
    "import sys\n",
    "sys.path.append(\"..\")\n",
    "\n",
    "import pandas as pd\n",
    "import numpy as np\n",
    "from common import *\n",
    "from glob import glob\n",
    "from os import rename, path\n",
    "from gensim import corpora\n",
    "from os.path import basename\n",
    "from gensim.models import Word2Vec\n",
    "from itertools import islice\n",
    "from operator import itemgetter\n",
    "from tqdm import tqdm\n",
    "\n",
    "from joblib import Parallel, delayed\n",
    "import pickle\n",
    "from numba import jit\n",
    "\n",
    "from matplotlib import pyplot as plt\n",
    "\n",
    "import gensim\n",
    "from gensim import corpora, models, similarities\n",
    "from sklearn.metrics.pairwise import cosine_similarity\n",
    "\n",
    "import multiprocessing\n",
    "import copy, logging\n",
    "\n",
    "cpu_count = multiprocessing.cpu_count() -1\n",
    "\n",
    "DATA_FOLDER = '../data/'\n",
    "logging.basicConfig(format='%(asctime)s : %(levelname)s : %(message)s', level=logging.INFO)"
   ]
  },
  {
   "cell_type": "markdown",
   "metadata": {},
   "source": [
    "# Prepare data"
   ]
  },
  {
   "cell_type": "code",
   "execution_count": 2,
   "metadata": {
    "ExecuteTime": {
     "end_time": "2017-07-18T07:24:17.974154Z",
     "start_time": "2017-07-18T07:24:15.694313Z"
    },
    "scrolled": true
   },
   "outputs": [
    {
     "name": "stderr",
     "output_type": "stream",
     "text": [
      "2017-07-18 10:24:15,702 : INFO : loading Dictionary object from ../data/pure.dict\n",
      "2017-07-18 10:24:17,836 : INFO : loaded ../data/pure.dict\n",
      "2017-07-18 10:24:17,970 : INFO : loaded corpus index from ../data/pure_corpus.mm.index\n",
      "2017-07-18 10:24:17,971 : INFO : initializing corpus reader from ../data/pure_corpus.mm\n",
      "2017-07-18 10:24:17,972 : INFO : accepted corpus with 1194670 documents, 3497084 features, 273792587 non-zero entries\n"
     ]
    }
   ],
   "source": [
    "dictionary = corpora.Dictionary.load(join(DATA_FOLDER, 'pure.dict'))\n",
    "corpus = corpora.MmCorpus(join(DATA_FOLDER, 'pure_corpus.mm'))"
   ]
  },
  {
   "cell_type": "code",
   "execution_count": 3,
   "metadata": {
    "ExecuteTime": {
     "end_time": "2017-07-18T07:24:17.978515Z",
     "start_time": "2017-07-18T07:24:17.975651Z"
    }
   },
   "outputs": [
    {
     "name": "stdout",
     "output_type": "stream",
     "text": [
      "MmCorpus(1194670 documents, 3497084 features, 273792587 non-zero entries)\n"
     ]
    }
   ],
   "source": [
    "print(corpus)"
   ]
  },
  {
   "cell_type": "code",
   "execution_count": 4,
   "metadata": {
    "ExecuteTime": {
     "end_time": "2017-07-18T07:37:08.499385Z",
     "start_time": "2017-07-18T07:24:17.979789Z"
    },
    "scrolled": true
   },
   "outputs": [
    {
     "name": "stderr",
     "output_type": "stream",
     "text": [
      "2017-07-18 10:24:17,983 : INFO : collecting document frequencies\n",
      "2017-07-18 10:24:17,986 : INFO : PROGRESS: processing document #0\n",
      "2017-07-18 10:24:28,791 : INFO : PROGRESS: processing document #10000\n",
      "2017-07-18 10:24:39,649 : INFO : PROGRESS: processing document #20000\n",
      "2017-07-18 10:24:50,631 : INFO : PROGRESS: processing document #30000\n",
      "2017-07-18 10:25:01,361 : INFO : PROGRESS: processing document #40000\n",
      "2017-07-18 10:25:12,500 : INFO : PROGRESS: processing document #50000\n",
      "2017-07-18 10:25:23,841 : INFO : PROGRESS: processing document #60000\n",
      "2017-07-18 10:25:34,928 : INFO : PROGRESS: processing document #70000\n",
      "2017-07-18 10:25:46,271 : INFO : PROGRESS: processing document #80000\n",
      "2017-07-18 10:25:57,315 : INFO : PROGRESS: processing document #90000\n",
      "2017-07-18 10:26:08,586 : INFO : PROGRESS: processing document #100000\n",
      "2017-07-18 10:26:19,662 : INFO : PROGRESS: processing document #110000\n",
      "2017-07-18 10:26:30,898 : INFO : PROGRESS: processing document #120000\n",
      "2017-07-18 10:26:41,969 : INFO : PROGRESS: processing document #130000\n",
      "2017-07-18 10:26:53,213 : INFO : PROGRESS: processing document #140000\n",
      "2017-07-18 10:27:04,235 : INFO : PROGRESS: processing document #150000\n",
      "2017-07-18 10:27:15,330 : INFO : PROGRESS: processing document #160000\n",
      "2017-07-18 10:27:26,563 : INFO : PROGRESS: processing document #170000\n",
      "2017-07-18 10:27:37,631 : INFO : PROGRESS: processing document #180000\n",
      "2017-07-18 10:27:48,814 : INFO : PROGRESS: processing document #190000\n",
      "2017-07-18 10:27:59,969 : INFO : PROGRESS: processing document #200000\n",
      "2017-07-18 10:28:10,907 : INFO : PROGRESS: processing document #210000\n",
      "2017-07-18 10:28:22,359 : INFO : PROGRESS: processing document #220000\n",
      "2017-07-18 10:28:33,570 : INFO : PROGRESS: processing document #230000\n",
      "2017-07-18 10:28:44,708 : INFO : PROGRESS: processing document #240000\n",
      "2017-07-18 10:28:56,043 : INFO : PROGRESS: processing document #250000\n",
      "2017-07-18 10:29:07,478 : INFO : PROGRESS: processing document #260000\n",
      "2017-07-18 10:29:18,613 : INFO : PROGRESS: processing document #270000\n",
      "2017-07-18 10:29:29,857 : INFO : PROGRESS: processing document #280000\n",
      "2017-07-18 10:29:41,185 : INFO : PROGRESS: processing document #290000\n",
      "2017-07-18 10:29:52,565 : INFO : PROGRESS: processing document #300000\n",
      "2017-07-18 10:30:04,074 : INFO : PROGRESS: processing document #310000\n",
      "2017-07-18 10:30:15,536 : INFO : PROGRESS: processing document #320000\n",
      "2017-07-18 10:30:26,874 : INFO : PROGRESS: processing document #330000\n",
      "2017-07-18 10:30:38,141 : INFO : PROGRESS: processing document #340000\n",
      "2017-07-18 10:30:49,619 : INFO : PROGRESS: processing document #350000\n",
      "2017-07-18 10:31:01,103 : INFO : PROGRESS: processing document #360000\n",
      "2017-07-18 10:31:12,684 : INFO : PROGRESS: processing document #370000\n",
      "2017-07-18 10:31:24,136 : INFO : PROGRESS: processing document #380000\n",
      "2017-07-18 10:31:35,751 : INFO : PROGRESS: processing document #390000\n",
      "2017-07-18 10:31:47,890 : INFO : PROGRESS: processing document #400000\n",
      "2017-07-18 10:31:59,335 : INFO : PROGRESS: processing document #410000\n",
      "2017-07-18 10:32:10,443 : INFO : PROGRESS: processing document #420000\n",
      "2017-07-18 10:32:21,518 : INFO : PROGRESS: processing document #430000\n",
      "2017-07-18 10:32:32,628 : INFO : PROGRESS: processing document #440000\n",
      "2017-07-18 10:32:43,932 : INFO : PROGRESS: processing document #450000\n",
      "2017-07-18 10:32:54,977 : INFO : PROGRESS: processing document #460000\n",
      "2017-07-18 10:33:06,283 : INFO : PROGRESS: processing document #470000\n",
      "2017-07-18 10:33:17,681 : INFO : PROGRESS: processing document #480000\n",
      "2017-07-18 10:33:28,701 : INFO : PROGRESS: processing document #490000\n",
      "2017-07-18 10:33:39,701 : INFO : PROGRESS: processing document #500000\n",
      "2017-07-18 10:33:50,647 : INFO : PROGRESS: processing document #510000\n",
      "2017-07-18 10:34:01,649 : INFO : PROGRESS: processing document #520000\n",
      "2017-07-18 10:34:12,848 : INFO : PROGRESS: processing document #530000\n",
      "2017-07-18 10:34:24,026 : INFO : PROGRESS: processing document #540000\n",
      "2017-07-18 10:34:35,117 : INFO : PROGRESS: processing document #550000\n",
      "2017-07-18 10:34:46,084 : INFO : PROGRESS: processing document #560000\n",
      "2017-07-18 10:34:48,219 : INFO : PROGRESS: processing document #570000\n",
      "2017-07-18 10:34:50,327 : INFO : PROGRESS: processing document #580000\n",
      "2017-07-18 10:34:52,473 : INFO : PROGRESS: processing document #590000\n",
      "2017-07-18 10:34:54,592 : INFO : PROGRESS: processing document #600000\n",
      "2017-07-18 10:34:56,717 : INFO : PROGRESS: processing document #610000\n",
      "2017-07-18 10:34:58,855 : INFO : PROGRESS: processing document #620000\n",
      "2017-07-18 10:35:00,964 : INFO : PROGRESS: processing document #630000\n",
      "2017-07-18 10:35:03,135 : INFO : PROGRESS: processing document #640000\n",
      "2017-07-18 10:35:05,279 : INFO : PROGRESS: processing document #650000\n",
      "2017-07-18 10:35:07,425 : INFO : PROGRESS: processing document #660000\n",
      "2017-07-18 10:35:09,549 : INFO : PROGRESS: processing document #670000\n",
      "2017-07-18 10:35:11,741 : INFO : PROGRESS: processing document #680000\n",
      "2017-07-18 10:35:14,005 : INFO : PROGRESS: processing document #690000\n",
      "2017-07-18 10:35:16,203 : INFO : PROGRESS: processing document #700000\n",
      "2017-07-18 10:35:18,440 : INFO : PROGRESS: processing document #710000\n",
      "2017-07-18 10:35:20,655 : INFO : PROGRESS: processing document #720000\n",
      "2017-07-18 10:35:22,806 : INFO : PROGRESS: processing document #730000\n",
      "2017-07-18 10:35:24,948 : INFO : PROGRESS: processing document #740000\n",
      "2017-07-18 10:35:27,165 : INFO : PROGRESS: processing document #750000\n",
      "2017-07-18 10:35:29,350 : INFO : PROGRESS: processing document #760000\n",
      "2017-07-18 10:35:31,498 : INFO : PROGRESS: processing document #770000\n",
      "2017-07-18 10:35:33,611 : INFO : PROGRESS: processing document #780000\n",
      "2017-07-18 10:35:35,802 : INFO : PROGRESS: processing document #790000\n",
      "2017-07-18 10:35:37,948 : INFO : PROGRESS: processing document #800000\n",
      "2017-07-18 10:35:40,104 : INFO : PROGRESS: processing document #810000\n",
      "2017-07-18 10:35:42,236 : INFO : PROGRESS: processing document #820000\n",
      "2017-07-18 10:35:44,421 : INFO : PROGRESS: processing document #830000\n",
      "2017-07-18 10:35:46,537 : INFO : PROGRESS: processing document #840000\n",
      "2017-07-18 10:35:48,675 : INFO : PROGRESS: processing document #850000\n",
      "2017-07-18 10:35:50,791 : INFO : PROGRESS: processing document #860000\n",
      "2017-07-18 10:35:52,917 : INFO : PROGRESS: processing document #870000\n",
      "2017-07-18 10:35:55,031 : INFO : PROGRESS: processing document #880000\n",
      "2017-07-18 10:35:57,134 : INFO : PROGRESS: processing document #890000\n",
      "2017-07-18 10:35:59,246 : INFO : PROGRESS: processing document #900000\n",
      "2017-07-18 10:36:01,344 : INFO : PROGRESS: processing document #910000\n",
      "2017-07-18 10:36:03,406 : INFO : PROGRESS: processing document #920000\n",
      "2017-07-18 10:36:05,527 : INFO : PROGRESS: processing document #930000\n",
      "2017-07-18 10:36:07,649 : INFO : PROGRESS: processing document #940000\n",
      "2017-07-18 10:36:09,768 : INFO : PROGRESS: processing document #950000\n",
      "2017-07-18 10:36:11,883 : INFO : PROGRESS: processing document #960000\n",
      "2017-07-18 10:36:13,998 : INFO : PROGRESS: processing document #970000\n",
      "2017-07-18 10:36:16,108 : INFO : PROGRESS: processing document #980000\n",
      "2017-07-18 10:36:18,203 : INFO : PROGRESS: processing document #990000\n",
      "2017-07-18 10:36:20,275 : INFO : PROGRESS: processing document #1000000\n",
      "2017-07-18 10:36:22,377 : INFO : PROGRESS: processing document #1010000\n",
      "2017-07-18 10:36:24,526 : INFO : PROGRESS: processing document #1020000\n",
      "2017-07-18 10:36:26,733 : INFO : PROGRESS: processing document #1030000\n",
      "2017-07-18 10:36:31,484 : INFO : PROGRESS: processing document #1040000\n",
      "2017-07-18 10:36:39,628 : INFO : PROGRESS: processing document #1050000\n",
      "2017-07-18 10:36:43,937 : INFO : PROGRESS: processing document #1060000\n",
      "2017-07-18 10:36:45,375 : INFO : PROGRESS: processing document #1070000\n",
      "2017-07-18 10:36:46,818 : INFO : PROGRESS: processing document #1080000\n",
      "2017-07-18 10:36:48,254 : INFO : PROGRESS: processing document #1090000\n",
      "2017-07-18 10:36:49,697 : INFO : PROGRESS: processing document #1100000\n",
      "2017-07-18 10:36:51,125 : INFO : PROGRESS: processing document #1110000\n",
      "2017-07-18 10:36:52,571 : INFO : PROGRESS: processing document #1120000\n",
      "2017-07-18 10:36:54,024 : INFO : PROGRESS: processing document #1130000\n",
      "2017-07-18 10:36:55,461 : INFO : PROGRESS: processing document #1140000\n"
     ]
    },
    {
     "name": "stderr",
     "output_type": "stream",
     "text": [
      "2017-07-18 10:36:56,908 : INFO : PROGRESS: processing document #1150000\n",
      "2017-07-18 10:36:58,373 : INFO : PROGRESS: processing document #1160000\n",
      "2017-07-18 10:36:59,809 : INFO : PROGRESS: processing document #1170000\n",
      "2017-07-18 10:37:01,264 : INFO : PROGRESS: processing document #1180000\n",
      "2017-07-18 10:37:02,713 : INFO : PROGRESS: processing document #1190000\n",
      "2017-07-18 10:37:06,124 : INFO : calculating IDF weights for 1194670 documents and 3497083 features (273792587 matrix non-zeros)\n",
      "2017-07-18 10:37:08,043 : INFO : saving TfidfModel object under ../data/tfidf_pure.model, separately None\n",
      "2017-07-18 10:37:08,497 : INFO : saved ../data/tfidf_pure.model\n"
     ]
    }
   ],
   "source": [
    "fmodel = join(DATA_FOLDER, 'tfidf_pure.model')\n",
    "if not path.exists(fmodel):    \n",
    "    tfidf = models.TfidfModel(corpus)\n",
    "    tfidf.save(fmodel)\n",
    "else:\n",
    "    tfidf = models.TfidfModel.load(fmodel)"
   ]
  },
  {
   "cell_type": "code",
   "execution_count": 5,
   "metadata": {
    "ExecuteTime": {
     "end_time": "2017-07-18T07:40:42.538693Z",
     "start_time": "2017-07-18T07:40:36.970035Z"
    },
    "scrolled": true
   },
   "outputs": [
    {
     "name": "stderr",
     "output_type": "stream",
     "text": [
      "2017-07-18 10:40:36,971 : INFO : loading Word2Vec object from ../data/vectors/w2v_model_300\n",
      "2017-07-18 10:40:38,427 : INFO : loading wv recursively from ../data/vectors/w2v_model_300.wv.* with mmap=None\n",
      "2017-07-18 10:40:38,428 : INFO : loading syn0 from ../data/vectors/w2v_model_300.wv.syn0.npy with mmap=None\n",
      "2017-07-18 10:40:39,766 : INFO : setting ignored attribute syn0norm to None\n",
      "2017-07-18 10:40:39,767 : INFO : loading syn1neg from ../data/vectors/w2v_model_300.syn1neg.npy with mmap=None\n",
      "2017-07-18 10:40:41,154 : INFO : setting ignored attribute cum_table to None\n",
      "2017-07-18 10:40:41,155 : INFO : loaded ../data/vectors/w2v_model_300\n"
     ]
    }
   ],
   "source": [
    "model = gensim.models.Word2Vec.load(join(DATA_FOLDER, 'vectors/w2v_model_300'))\n",
    "wv = model.wv"
   ]
  },
  {
   "cell_type": "code",
   "execution_count": 6,
   "metadata": {
    "ExecuteTime": {
     "end_time": "2017-07-17T23:38:36.967384Z",
     "start_time": "2017-07-17T23:38:36.965313Z"
    },
    "collapsed": true,
    "scrolled": false
   },
   "outputs": [],
   "source": [
    "# wv.most_similar(positive=['стена'], topn=10)"
   ]
  },
  {
   "cell_type": "code",
   "execution_count": 6,
   "metadata": {
    "ExecuteTime": {
     "end_time": "2017-07-18T07:40:42.961570Z",
     "start_time": "2017-07-18T07:40:42.540019Z"
    },
    "collapsed": true
   },
   "outputs": [],
   "source": [
    "all_docs = get_all_docs(DATA_FOLDER)"
   ]
  },
  {
   "cell_type": "code",
   "execution_count": 7,
   "metadata": {
    "ExecuteTime": {
     "end_time": "2017-07-18T07:40:42.971252Z",
     "start_time": "2017-07-18T07:40:42.963027Z"
    },
    "collapsed": true
   },
   "outputs": [],
   "source": [
    "def get_gold(data_folder, fname='gold.txt'):\n",
    "    with open(join(data_folder, fname), 'r') as f:\n",
    "        gold_txt = f.read()\n",
    "    if gold_txt is None:\n",
    "        return {}\n",
    "    lines = gold_txt.splitlines()\n",
    "    gold = {line.split()[0]:line.split()[1:] for line in lines}\n",
    "    \n",
    "    return gold"
   ]
  },
  {
   "cell_type": "code",
   "execution_count": 8,
   "metadata": {
    "ExecuteTime": {
     "end_time": "2017-07-18T07:40:42.982849Z",
     "start_time": "2017-07-18T07:40:42.972708Z"
    },
    "collapsed": true
   },
   "outputs": [],
   "source": [
    "test_docs = glob(join(DATA_FOLDER, 'docs/*.txt'))\n",
    "gold = get_gold(DATA_FOLDER)"
   ]
  },
  {
   "cell_type": "code",
   "execution_count": 28,
   "metadata": {
    "ExecuteTime": {
     "end_time": "2017-07-18T02:55:45.646916Z",
     "start_time": "2017-07-18T02:55:45.579179Z"
    },
    "collapsed": true
   },
   "outputs": [],
   "source": [
    "test_docs = glob(join(DATA_FOLDER, 'test/*.txt'))\n",
    "\n",
    "gold = {'_0d_82_2010144827A10010101RU': ['0093007933A19950910RU'],\n",
    " '_0d_d0_2012149322A10010101RU': ['0002024730C119941215RU'],\n",
    " '_0f_59_2010112753A10010101RU': ['_52_b3_0001637750A119910330SU',\n",
    "  '_59_e5_0000772523A119801023SU'],\n",
    " '_0f_9f_2013108475A10010101RU': ['0002196677C220030120RU'],\n",
    " '_1a_23_2009122339A10010101RU': ['_20_49_0001671633A119910823SU'],\n",
    " '_1b_a9_2012129077A10010101RU': ['2008100400A20090720RU'],\n",
    " '_25_36_2012142795A10010101RU': ['0000070043U120080110RU'],\n",
    " '_4d_8f_2012132571A10010101RU': ['2010131811A20120210RU'],\n",
    " '_4d_d9_2011149879A10010101RU': ['0002420635C120110610RU'],\n",
    " '_52_47_2012138509A10010101RU': ['0000105309U120110610RU'],\n",
    " '_52_5b_2010147473A10010101RU': ['0002415377C120110327RU'],\n",
    " '_57_a3_2012144705A10010101RU': ['0002348814C120090310RU'],\n",
    " '_65_e6_2010111087A10010101RU': ['0002360636C120090710RU',\n",
    "  '0002308247C120071020RU'],\n",
    " '_72_c5_2010120453A10010101RU': ['0002205672C220030610RU'],\n",
    " '_7c_a7_2012143021A10010101RU': ['_6a_e6_2012108138A10010101RU'],\n",
    " '_7e_d0_2011112909A10010101RU': ['0000088970U120091127RU'],\n",
    " '_84_13_2011104963A10010101RU': ['0002392667C220100620RU'],\n",
    " '_ac_9f_2011109623A10010101RU': ['0002254546C120050620RU'],\n",
    " '_b0_47_2010131397A10010101RU': ['_d5_a9_0001779686A119921207SU'],\n",
    " '_b6_2f_2012104769A10010101RU': ['2008102793A20090727RU'],\n",
    " '_b8_11_2009110549A10010101RU': ['2005105374A20060810RU'],\n",
    " '_bf_69_2009138371A10010101RU': ['_e5_3e_0001518373A119891030SU'],\n",
    " '_d4_35_2012153580A10010101RU': ['2010124363A20111220RU'],\n",
    " '_d7_3e_2009105226A10010101RU': ['0002174709C120011010RU',\n",
    "  '0000071180U120080227RU'],\n",
    " '_d9_f0_2012101404A10010101RU': ['2006134748A20080410RU'],\n",
    " '_db_65_2011101596A10010101RU': ['0002119191C119980920RU'],\n",
    " '_f1_14_2010105546A10010101RU': ['0002029895C119950227RU'],\n",
    " '_f4_fc_2011105501A10010101RU': ['0000014331U120000710RU'],\n",
    " '_f8_6d_2014106177A10010101RU': ['0000119430U120120820RU'],\n",
    " '_f8_b6_2012100893A10010101RU': ['0002185507C120020720RU']}\n"
   ]
  },
  {
   "cell_type": "markdown",
   "metadata": {},
   "source": [
    "# Extract tfidf"
   ]
  },
  {
   "cell_type": "code",
   "execution_count": 9,
   "metadata": {
    "ExecuteTime": {
     "end_time": "2017-07-18T07:40:44.312262Z",
     "start_time": "2017-07-18T07:40:44.309845Z"
    },
    "collapsed": true
   },
   "outputs": [],
   "source": [
    "fname = join(DATA_FOLDER, 'tfidf_weights_20.pkl')"
   ]
  },
  {
   "cell_type": "code",
   "execution_count": 10,
   "metadata": {
    "ExecuteTime": {
     "end_time": "2017-07-18T07:58:25.250315Z",
     "start_time": "2017-07-18T07:40:46.213484Z"
    }
   },
   "outputs": [
    {
     "name": "stderr",
     "output_type": "stream",
     "text": [
      "100%|██████████| 1194670/1194670 [17:28<00:00, 1139.89it/s]\n"
     ]
    }
   ],
   "source": [
    "tfidf_weights = []\n",
    "for doc_tfidf in tqdm(tfidf[corpus]):\n",
    "    sorted_tfidf = sorted(doc_tfidf, key=itemgetter(1), reverse=True)\n",
    "    tfidf_weights.append(sorted_tfidf[:20])\n",
    "    \n",
    "with open(fname, 'wb') as f:\n",
    "    pickle.dump(tfidf_weights, f)"
   ]
  },
  {
   "cell_type": "code",
   "execution_count": 11,
   "metadata": {
    "ExecuteTime": {
     "end_time": "2017-07-17T23:32:07.374426Z",
     "start_time": "2017-07-17T23:32:00.739485Z"
    },
    "collapsed": true
   },
   "outputs": [],
   "source": [
    "with open(fname, 'rb') as f:\n",
    "    tfidf_weights = pickle.load(f)"
   ]
  },
  {
   "cell_type": "markdown",
   "metadata": {},
   "source": [
    "# Main functions"
   ]
  },
  {
   "cell_type": "code",
   "execution_count": 24,
   "metadata": {
    "ExecuteTime": {
     "end_time": "2017-07-18T08:04:47.152424Z",
     "start_time": "2017-07-18T08:04:47.149684Z"
    },
    "collapsed": true
   },
   "outputs": [],
   "source": [
    "NWORDS = 15"
   ]
  },
  {
   "cell_type": "code",
   "execution_count": 12,
   "metadata": {
    "ExecuteTime": {
     "end_time": "2017-07-18T07:58:25.268184Z",
     "start_time": "2017-07-18T07:58:25.256286Z"
    },
    "collapsed": true
   },
   "outputs": [],
   "source": [
    "def like(wv, what):\n",
    "    \"\"\"\n",
    "    get first in the list with given pos tag\n",
    "    \"\"\"\n",
    "    pos = ('_NOUN', '_VERB', '_ADJ', '_ADV')\n",
    "    pos = ('_S', '_V', '_A', '_ADV')\n",
    "    return next((wv[what + p] for p in pos if what + p in wv), None)\n",
    "\n",
    "\n",
    "def like2(wv, what):\n",
    "    try:\n",
    "        return wv[what]\n",
    "    except: \n",
    "        return None"
   ]
  },
  {
   "cell_type": "code",
   "execution_count": 13,
   "metadata": {
    "ExecuteTime": {
     "end_time": "2017-07-18T07:58:25.406414Z",
     "start_time": "2017-07-18T07:58:25.269595Z"
    },
    "collapsed": true
   },
   "outputs": [],
   "source": [
    "@jit\n",
    "def tovec(doc_tfidf, wv, dictionary):\n",
    "    sorted_tfidf = sorted(doc_tfidf, key=itemgetter(1), reverse=True)\n",
    "    for k,v in sorted_tfidf:\n",
    "        pair = (like2(wv, dictionary.get(k)), v)\n",
    "        if pair[0] is not None:\n",
    "            yield pair"
   ]
  },
  {
   "cell_type": "code",
   "execution_count": 14,
   "metadata": {
    "ExecuteTime": {
     "end_time": "2017-07-18T07:58:25.417405Z",
     "start_time": "2017-07-18T07:58:25.408196Z"
    },
    "collapsed": true
   },
   "outputs": [],
   "source": [
    "def doc_vec(doc_tfidf, wv, nwords=10):\n",
    "    # take top 10 most meaningfull\n",
    "    valid_tokens = tovec(doc_tfidf, wv, dictionary)\n",
    "    vec_score = np.array([x for x in islice(valid_tokens, nwords)])\n",
    "    if len(vec_score) == 0:\n",
    "        return np.zeros(wv.syn0.shape[1])\n",
    "    docvec = np.mean(vec_score[:, 0] * softmax(vec_score[:, 1]), axis=0) \n",
    "\n",
    "    return docvec"
   ]
  },
  {
   "cell_type": "code",
   "execution_count": 15,
   "metadata": {
    "ExecuteTime": {
     "end_time": "2017-07-18T07:58:26.650390Z",
     "start_time": "2017-07-18T07:58:25.418907Z"
    },
    "scrolled": false
   },
   "outputs": [
    {
     "name": "stderr",
     "output_type": "stream",
     "text": [
      "100%|██████████| 163/163 [00:01<00:00, 133.85it/s]\n"
     ]
    }
   ],
   "source": [
    "test_vecs = []\n",
    "test_names = []\n",
    "for fname in tqdm(test_docs):\n",
    "    with open(fname, 'r') as f:\n",
    "        doc_text = f.read()\n",
    "    doc_bow = dictionary.doc2bow(tokenize(doc_text))\n",
    "    docvec = doc_vec(tfidf[doc_bow], wv, NWORDS)\n",
    "    name = path.splitext(basename(fname))[0]\n",
    "    test_names.append(name)\n",
    "    test_vecs.append(docvec)\n",
    "\n",
    "# test_vecs = pd.DataFrame.from_dict(test_vecs, orient='index')"
   ]
  },
  {
   "cell_type": "code",
   "execution_count": 16,
   "metadata": {
    "ExecuteTime": {
     "end_time": "2017-07-18T07:58:26.657643Z",
     "start_time": "2017-07-18T07:58:26.652081Z"
    }
   },
   "outputs": [
    {
     "data": {
      "text/plain": [
       "163"
      ]
     },
     "execution_count": 16,
     "metadata": {},
     "output_type": "execute_result"
    }
   ],
   "source": [
    "len(test_vecs)"
   ]
  },
  {
   "cell_type": "code",
   "execution_count": 17,
   "metadata": {
    "ExecuteTime": {
     "end_time": "2017-07-18T08:02:29.377823Z",
     "start_time": "2017-07-18T07:58:26.658848Z"
    },
    "scrolled": true
   },
   "outputs": [
    {
     "name": "stderr",
     "output_type": "stream",
     "text": [
      "100%|██████████| 1194670/1194670 [04:02<00:00, 4922.23it/s]\n"
     ]
    }
   ],
   "source": [
    "train_vecs = []\n",
    "train_names = []\n",
    "for key, doc_tfidf in enumerate(tqdm(tfidf_weights)):\n",
    "    docvec = doc_vec(doc_tfidf, wv, NWORDS)\n",
    "    fname = all_docs[key]\n",
    "    name = path.splitext(basename(fname))[0]\n",
    "    train_names.append(name)\n",
    "    train_vecs.append(docvec)"
   ]
  },
  {
   "cell_type": "code",
   "execution_count": 18,
   "metadata": {
    "ExecuteTime": {
     "end_time": "2017-07-18T08:02:29.383500Z",
     "start_time": "2017-07-18T08:02:29.379540Z"
    }
   },
   "outputs": [
    {
     "data": {
      "text/plain": [
       "1194670"
      ]
     },
     "execution_count": 18,
     "metadata": {},
     "output_type": "execute_result"
    }
   ],
   "source": [
    "len(train_vecs)"
   ]
  },
  {
   "cell_type": "markdown",
   "metadata": {},
   "source": [
    "### write"
   ]
  },
  {
   "cell_type": "code",
   "execution_count": 19,
   "metadata": {
    "ExecuteTime": {
     "end_time": "2017-07-18T08:02:42.158864Z",
     "start_time": "2017-07-18T08:02:29.385021Z"
    },
    "collapsed": true
   },
   "outputs": [],
   "source": [
    "with open(join(DATA_FOLDER, 'train.pkl'), 'wb') as f:\n",
    "    pickle.dump([train_vecs, train_names], f)"
   ]
  },
  {
   "cell_type": "code",
   "execution_count": 20,
   "metadata": {
    "ExecuteTime": {
     "end_time": "2017-07-18T08:02:42.164731Z",
     "start_time": "2017-07-18T08:02:42.160494Z"
    },
    "collapsed": true
   },
   "outputs": [],
   "source": [
    "with open(join(DATA_FOLDER, 'test.pkl'), 'wb') as f:\n",
    "    pickle.dump([test_vecs, test_names], f)"
   ]
  },
  {
   "cell_type": "markdown",
   "metadata": {
    "heading_collapsed": true
   },
   "source": [
    "### read"
   ]
  },
  {
   "cell_type": "code",
   "execution_count": 16,
   "metadata": {
    "ExecuteTime": {
     "end_time": "2017-07-17T23:38:46.953123Z",
     "start_time": "2017-07-17T23:38:42.859954Z"
    },
    "collapsed": true,
    "hidden": true
   },
   "outputs": [],
   "source": [
    "with open(join(DATA_FOLDER, 'train.pkl'), 'rb') as f:\n",
    "    train_vecs, train_names = pickle.load(f)"
   ]
  },
  {
   "cell_type": "code",
   "execution_count": 6,
   "metadata": {
    "ExecuteTime": {
     "end_time": "2017-07-17T23:28:03.096152Z",
     "start_time": "2017-07-17T23:28:03.091757Z"
    },
    "collapsed": true,
    "hidden": true
   },
   "outputs": [],
   "source": [
    "with open(join(DATA_FOLDER, 'test.pkl'), 'rb') as f:\n",
    "    test_vecs, test_names = pickle.load(f)"
   ]
  },
  {
   "cell_type": "markdown",
   "metadata": {
    "ExecuteTime": {
     "end_time": "2017-07-13T08:09:52.543899Z",
     "start_time": "2017-07-13T08:09:52.541671Z"
    }
   },
   "source": [
    "# Similarity"
   ]
  },
  {
   "cell_type": "code",
   "execution_count": 21,
   "metadata": {
    "ExecuteTime": {
     "end_time": "2017-07-18T08:03:14.936268Z",
     "start_time": "2017-07-18T08:02:56.239657Z"
    },
    "collapsed": true
   },
   "outputs": [],
   "source": [
    "sim_mat = cosine_similarity(test_vecs, train_vecs)"
   ]
  },
  {
   "cell_type": "code",
   "execution_count": 22,
   "metadata": {
    "ExecuteTime": {
     "end_time": "2017-07-18T08:03:46.060945Z",
     "start_time": "2017-07-18T08:03:18.682553Z"
    }
   },
   "outputs": [
    {
     "name": "stderr",
     "output_type": "stream",
     "text": [
      "100%|██████████| 163/163 [00:27<00:00,  6.15it/s]\n"
     ]
    }
   ],
   "source": [
    "best = {}\n",
    "for i, vec in enumerate(tqdm(sim_mat)):\n",
    "    test_name = test_names[i]\n",
    "    train_ixs = vec.argsort()[-200:][::-1]\n",
    "    top_train = [train_names[i] for i in train_ixs]\n",
    "    best[test_name] = top_train"
   ]
  },
  {
   "cell_type": "code",
   "execution_count": 23,
   "metadata": {
    "ExecuteTime": {
     "end_time": "2017-07-18T08:03:48.742194Z",
     "start_time": "2017-07-18T08:03:47.655979Z"
    },
    "scrolled": true
   },
   "outputs": [
    {
     "name": "stdout",
     "output_type": "stream",
     "text": [
      "median\n",
      "acc10     0.0\n",
      "acc20     0.0\n",
      "acc200    0.5\n",
      "dtype: float64\n",
      "mean\n",
      "acc10     0.184049\n",
      "acc20     0.257669\n",
      "acc200    0.481084\n",
      "dtype: float64\n"
     ]
    },
    {
     "data": {
      "image/png": "[encoded data removed]",
      "text/plain": [
       "<matplotlib.figure.Figure at 0x7f7d901dd7b8>"
      ]
     },
     "metadata": {},
     "output_type": "display_data"
    },
    {
     "data": {
      "image/png": "[encoded data removed]",
      "text/plain": [
       "<matplotlib.figure.Figure at 0x7f7d8554fc18>"
      ]
     },
     "metadata": {},
     "output_type": "display_data"
    },
    {
     "data": {
      "image/png": "[encoded data removed]",
      "text/plain": [
       "<matplotlib.figure.Figure at 0x7f7d93fffa58>"
      ]
     },
     "metadata": {},
     "output_type": "display_data"
    }
   ],
   "source": [
    "res = evaluate(best, gold)"
   ]
  },
  {
   "cell_type": "raw",
   "metadata": {},
   "source": [
    "1.nword=5, dim=300, tfidf weights\n",
    "median\n",
    "acc10     0.000000\n",
    "acc20     0.000000\n",
    "acc200    0.333333\n",
    "dtype: float64\n",
    "mean\n",
    "acc10     0.169734\n",
    "acc20     0.222904\n",
    "acc200    0.419121\n",
    "2. nword=10, dim=300, tfidf weights\n",
    "median\n",
    "acc10     0.0\n",
    "acc20     0.0\n",
    "acc200    0.5\n",
    "dtype: float64\n",
    "mean\n",
    "acc10     0.208589\n",
    "acc20     0.275051\n",
    "acc200    0.510123\n",
    "3.nword=15, dim=300, tfidf weights \n",
    "median\n",
    "acc10     0.0\n",
    "acc20     0.0\n",
    "acc200    0.5\n",
    "dtype: float64\n",
    "mean\n",
    "acc10     0.179959\n",
    "acc20     0.266871\n",
    "acc200    0.493763\n",
    "4.nword=20, dim=300, tfidf weights \n",
    "median\n",
    "acc10     0.0\n",
    "acc20     0.0\n",
    "acc200    0.5\n",
    "dtype: float64\n",
    "mean\n",
    "acc10     0.155419\n",
    "acc20     0.249489\n",
    "acc200    0.473824\n",
    "5.nword=15, dim=300, averaging top best\n",
    "median\n",
    "acc10     0.0\n",
    "acc20     0.0\n",
    "acc200    0.5\n",
    "dtype: float64\n",
    "mean\n",
    "acc10     0.179959\n",
    "acc20     0.246421\n",
    "acc200    0.463088\n",
    "\n",
    "\n",
    "\n",
    "\n",
    "test2\n",
    "median\n",
    "acc10     0.25\n",
    "acc20     1.00\n",
    "acc200    1.00\n",
    "dtype: float64\n",
    "mean\n",
    "acc10     0.483333\n",
    "acc20     0.533333\n",
    "acc200    0.750000"
   ]
  },
  {
   "cell_type": "markdown",
   "metadata": {
    "heading_collapsed": true
   },
   "source": [
    "# Trash"
   ]
  },
  {
   "cell_type": "code",
   "execution_count": 30,
   "metadata": {
    "ExecuteTime": {
     "end_time": "2017-07-13T02:32:54.836175Z",
     "start_time": "2017-07-13T02:32:54.828032Z"
    },
    "hidden": true
   },
   "outputs": [
    {
     "data": {
      "text/plain": [
       "['0002024730C119941215RU',\n",
       " '2012149322A20140527RU',\n",
       " '2011114246A20121020RU',\n",
       " '0002192919C220021120RU',\n",
       " '0002192921C120021120RU',\n",
       " '0000037769U120040510RU',\n",
       " '0002456042C120120720RU',\n",
       " '0002089730C119970910RU',\n",
       " '0002139791C119991020RU',\n",
       " '0098100144A19991110RU',\n",
       " '0002101176C119980110RU',\n",
       " '0002404832C120101127RU',\n",
       " '0002058169C119960420RU',\n",
       " '0002505328C120140127RU',\n",
       " '0002450837C120120520RU',\n",
       " '0002508143C120140227RU',\n",
       " '2000129691A20021027RU',\n",
       " '2003118658A20041220RU',\n",
       " '0002401677C120101020RU',\n",
       " '0000037385U120040420RU',\n",
       " '0002451560C120120527RU',\n",
       " '0002530410C120141010RU',\n",
       " '2001135914A20030827RU',\n",
       " '0002451559C120120527RU',\n",
       " '0002478409C120130410RU',\n",
       " '0094009206A119951210RU',\n",
       " '0002552860C120150610RU',\n",
       " '0002081994C119970620RU',\n",
       " '0000117298U120120627RU',\n",
       " '0002021534C119941015RU',\n",
       " '0002450840C120120520RU',\n",
       " '0002505329C120140127RU',\n",
       " '0002007584C119940215RU',\n",
       " '0000102513U120110310RU',\n",
       " '0000152607U120150610RU',\n",
       " '0002198020C220030210RU',\n",
       " '2002133035A20040610RU',\n",
       " '0000047976U120050910RU',\n",
       " '0000026007U120021110RU',\n",
       " '0002243092C220041227RU',\n",
       " '0002297978C120070427RU',\n",
       " '0000155086U120150920RU',\n",
       " '0002151634C120000627RU',\n",
       " '0002448750C120120427RU',\n",
       " '0002516164C120140520RU',\n",
       " '0002271434C220060310RU',\n",
       " '0000130522U120130727RU',\n",
       " '0000082769U120090510RU',\n",
       " '0000033976U120031120RU',\n",
       " '0002513174C120140420RU',\n",
       " '0002297260C120070420RU',\n",
       " '0002404835C120101127RU',\n",
       " '0002199362C220030227RU',\n",
       " '2003137385A20050610RU',\n",
       " '0000037638U120040510RU',\n",
       " '2010132371A20120210RU',\n",
       " '0002456419C120120720RU',\n",
       " '0002192546C120021110RU',\n",
       " '0000017435U120010410RU',\n",
       " '0000118580U120120727RU',\n",
       " '0000146893U120141020RU',\n",
       " '0000012381U120000110RU',\n",
       " '0000141070U120140527RU',\n",
       " '0002552725C120150610RU',\n",
       " '0002145680C120000220RU',\n",
       " '0000133743U120131027RU',\n",
       " '0000017061U120010310RU',\n",
       " '0000019763U120011010RU',\n",
       " '0000122895U120121220RU',\n",
       " '2011114837A20121020RU',\n",
       " '0002211141C120030827RU',\n",
       " '0002214915C220031027RU',\n",
       " '0096107803A19980720RU',\n",
       " '0002429035C120110920RU',\n",
       " '2003113823A20050110RU',\n",
       " '0002293222C120070210RU',\n",
       " '0000020459U120011110RU',\n",
       " '0000021145U120011227RU',\n",
       " '0093025629A19950709RU',\n",
       " '0000137877U120140227RU',\n",
       " '0000009794U119990516RU',\n",
       " '0099100890A20001120RU',\n",
       " '0002536400C120141220RU',\n",
       " '0002471627C220130110RU',\n",
       " '0002401680C120101020RU',\n",
       " '0002196232C120030110RU',\n",
       " '0000091293U120100210RU',\n",
       " '0002227063C220040420RU',\n",
       " '0002452542C120120610RU',\n",
       " '0002061882C119960610RU',\n",
       " '0000129821U120130710RU',\n",
       " '0002270174C220060220RU',\n",
       " '0002133829C119990727RU',\n",
       " '0002404833C120101127RU',\n",
       " '0002457878C120120810RU',\n",
       " '0002308996C220071027RU',\n",
       " '0002246000C220050210RU',\n",
       " '0000073819U120080610RU',\n",
       " '2012120066A20131127RU',\n",
       " '0002530059C120141010RU',\n",
       " '0002208158C120030710RU',\n",
       " '0002552563C120150610RU',\n",
       " '0000104936U120110527RU',\n",
       " '0000020460U120011110RU',\n",
       " '0000156254U120151110RU',\n",
       " '0099107928A20010220RU',\n",
       " '0002430760C120111010RU',\n",
       " '2012152891A20140620RU',\n",
       " '0000067893U120071110RU',\n",
       " '0002321748C220080410RU',\n",
       " '0002134637C119990820RU',\n",
       " '0002340375C220081210RU',\n",
       " '2001104703A20030120RU',\n",
       " '0002283676C120060920RU',\n",
       " '0002219989C120031227RU',\n",
       " '0002310102C220071110RU',\n",
       " '2001123159A20020120RU',\n",
       " '0000017568U120010410RU',\n",
       " '0002179157C120020210RU',\n",
       " '0002430761C120111010RU',\n",
       " '0002479333C120130420RU',\n",
       " '0000005553U119971216RU',\n",
       " '0002564820C120151010RU',\n",
       " '0002479332C120130420RU',\n",
       " '0002553956C120150620RU',\n",
       " '0002443444C120120227RU',\n",
       " '0000109125U120111010RU',\n",
       " '2002134016A20040620RU',\n",
       " '0002094390C119971027RU',\n",
       " '0002272875C220060327RU',\n",
       " '0002465426C220121027RU',\n",
       " '2003113787A20041120RU',\n",
       " '0093028843A19951210RU',\n",
       " '0002273508C120060410RU',\n",
       " '0000040194U120040910RU',\n",
       " '0002257927C120050810RU',\n",
       " '0000079944U120090120RU',\n",
       " '0002312069C220071210RU',\n",
       " '0002268985C220060127RU',\n",
       " '0002450838C120120520RU',\n",
       " '0002054312C119960220RU',\n",
       " '0002277957C120060620RU',\n",
       " '0000138822U120140327RU',\n",
       " '2014118485A20151120RU',\n",
       " '0000026750U120021220RU',\n",
       " '0002037457C119950619RU',\n",
       " '2000101039A20011027RU',\n",
       " '0000136350U120140110RU',\n",
       " '0002421593C120110620RU',\n",
       " '0002445446C120120320RU',\n",
       " '0093010794A19950527RU',\n",
       " '0002137534C119990920RU',\n",
       " '0000094466U120100527RU',\n",
       " '0000152782U120150620RU',\n",
       " '0000023461U120020620RU',\n",
       " '0002061880C119960610RU',\n",
       " '0002118719C119980910RU',\n",
       " '0002031670C119950327RU',\n",
       " '0002155938C220000910RU',\n",
       " '2002103522A20030927RU',\n",
       " '0000154235U120150820RU',\n",
       " '0002247077C120050227RU',\n",
       " '2010124364A20111227RU',\n",
       " '0002121869C119981120RU',\n",
       " '0002305796C120070910RU',\n",
       " '0000093684U120100510RU',\n",
       " '0002456037C220120720RU',\n",
       " '0002173211C120010910RU',\n",
       " '0002215136C220031027RU',\n",
       " '0000061567U120070310RU',\n",
       " '0000036176U120040310RU',\n",
       " '0000146038U120140927RU',\n",
       " '0000045994U120050610RU',\n",
       " '0002038834C119950709RU',\n",
       " '0002116520C119980727RU',\n",
       " '0002201902C220030410RU',\n",
       " '0002456038C120120720RU',\n",
       " '2000118005A20020820RU',\n",
       " '0000129003U120130620RU',\n",
       " '0002018800C119940830RU',\n",
       " '0000035110U120031227RU',\n",
       " '0002452695C220120610RU',\n",
       " '0002235955C220040910RU',\n",
       " '0000137757U120140227RU',\n",
       " '0000139982U120140427RU',\n",
       " '0000035074U120031227RU',\n",
       " '2003114946A20041127RU',\n",
       " '0002275227C120060427RU',\n",
       " '0002461458C120120920RU',\n",
       " '0002419474C120110527RU',\n",
       " '0002552080C220150610RU',\n",
       " '0002091568C119970927RU',\n",
       " '0002373049C120091120RU',\n",
       " '0000152109U120150510RU',\n",
       " '0002448747C120120427RU',\n",
       " '0000033111U120031010RU',\n",
       " '0000029483U120030520RU',\n",
       " '0002199436C220030227RU',\n",
       " '2005141032A20070710RU',\n",
       " '0000036175U120040310RU']"
      ]
     },
     "execution_count": 30,
     "metadata": {},
     "output_type": "execute_result"
    }
   ],
   "source": [
    "best['_0d_d0_2012149322A10010101RU']"
   ]
  },
  {
   "cell_type": "raw",
   "metadata": {
    "hidden": true
   },
   "source": [
    "Эксперимент. Нужно вычислить косинусный угол мужду _0d_d0_2012149322A10010101RU и \n",
    "(0002024730C119941215RU, 9ed16b10-d803-ef02-7435-f23d5c9e270a)"
   ]
  },
  {
   "cell_type": "code",
   "execution_count": 111,
   "metadata": {
    "ExecuteTime": {
     "end_time": "2017-07-12T16:50:01.946481Z",
     "start_time": "2017-07-12T16:50:01.939471Z"
    },
    "collapsed": true,
    "hidden": true
   },
   "outputs": [],
   "source": [
    "def _get_vec(fn):\n",
    "    with open(fn, 'r') as f:\n",
    "        doc_text = f.read()\n",
    "    doc_bow = dictionary.doc2bow(tokenize(doc_text))\n",
    "    docvec = doc_vec(tfidf[doc_bow], wv, NWORDS)\n",
    "    return docvec\n"
   ]
  },
  {
   "cell_type": "code",
   "execution_count": 25,
   "metadata": {
    "ExecuteTime": {
     "end_time": "2017-07-18T08:07:36.190585Z",
     "start_time": "2017-07-18T08:07:33.748866Z"
    },
    "hidden": true
   },
   "outputs": [],
   "source": [
    "# fn0 = [s for i,s in enumerate(test_docs) if '_0d_d0_2012149322A10010101RU' in s][0]\n",
    "fn1 = [s for i,s in enumerate(all_docs) if '0002024730C119941215RU' in s][0]\n",
    "fn2 = [s for i,s in enumerate(all_docs) if '88bd5668-afc4-c40c-9a6a-ed1d96ae096f' in s][0]\n",
    "\n",
    "# v0 = _get_vec(fn0)\n",
    "# v1 = _get_vec(fn1)\n",
    "# v2 = _get_vec(fn2)"
   ]
  },
  {
   "cell_type": "code",
   "execution_count": 26,
   "metadata": {
    "ExecuteTime": {
     "end_time": "2017-07-18T08:07:37.384093Z",
     "start_time": "2017-07-18T08:07:37.379862Z"
    },
    "collapsed": true,
    "hidden": true
   },
   "outputs": [],
   "source": [
    "fn = all_docs[0]"
   ]
  },
  {
   "cell_type": "code",
   "execution_count": 55,
   "metadata": {
    "ExecuteTime": {
     "end_time": "2017-07-17T19:52:14.889092Z",
     "start_time": "2017-07-17T19:52:14.885842Z"
    },
    "hidden": true,
    "scrolled": true
   },
   "outputs": [
    {
     "data": {
      "text/plain": [
       "0"
      ]
     },
     "execution_count": 55,
     "metadata": {},
     "output_type": "execute_result"
    }
   ],
   "source": [
    "all_docs.index(fn)"
   ]
  },
  {
   "cell_type": "code",
   "execution_count": 27,
   "metadata": {
    "ExecuteTime": {
     "end_time": "2017-07-18T08:07:41.459038Z",
     "start_time": "2017-07-18T08:07:41.430855Z"
    },
    "hidden": true
   },
   "outputs": [
    {
     "data": {
      "text/plain": [
       "584"
      ]
     },
     "execution_count": 27,
     "metadata": {},
     "output_type": "execute_result"
    }
   ],
   "source": [
    "len(corpus[0])"
   ]
  },
  {
   "cell_type": "code",
   "execution_count": 4,
   "metadata": {
    "ExecuteTime": {
     "end_time": "2017-07-17T19:55:15.912547Z",
     "start_time": "2017-07-17T19:55:15.874638Z"
    },
    "hidden": true,
    "scrolled": true
   },
   "outputs": [
    {
     "name": "stdout",
     "output_type": "stream",
     "text": [
      "(0, 2.0)\n",
      "(1, 2.0)\n",
      "(2, 2.0)\n",
      "(3, 2.0)\n",
      "(4, 1.0)\n",
      "(5, 5.0)\n",
      "(6, 10.0)\n",
      "(7, 2.0)\n",
      "(8, 1.0)\n",
      "(9, 4.0)\n",
      "(10, 1.0)\n",
      "(11, 4.0)\n",
      "(12, 4.0)\n",
      "(13, 8.0)\n",
      "(14, 5.0)\n",
      "(15, 4.0)\n",
      "(16, 1.0)\n",
      "(17, 8.0)\n",
      "(18, 2.0)\n",
      "(19, 2.0)\n",
      "(20, 1.0)\n",
      "(21, 2.0)\n",
      "(22, 6.0)\n",
      "(23, 4.0)\n",
      "(24, 5.0)\n",
      "(25, 2.0)\n",
      "(26, 1.0)\n",
      "(27, 1.0)\n",
      "(28, 5.0)\n",
      "(29, 1.0)\n",
      "(30, 3.0)\n",
      "(31, 1.0)\n",
      "(32, 1.0)\n",
      "(33, 1.0)\n",
      "(34, 1.0)\n",
      "(35, 1.0)\n",
      "(36, 1.0)\n",
      "(37, 1.0)\n",
      "(38, 2.0)\n",
      "(39, 1.0)\n",
      "(40, 1.0)\n",
      "(41, 1.0)\n",
      "(42, 1.0)\n",
      "(43, 2.0)\n",
      "(44, 1.0)\n",
      "(45, 2.0)\n",
      "(46, 1.0)\n",
      "(47, 1.0)\n",
      "(48, 1.0)\n",
      "(49, 1.0)\n",
      "(50, 1.0)\n",
      "(51, 3.0)\n",
      "(52, 3.0)\n",
      "(53, 3.0)\n",
      "(54, 5.0)\n",
      "(55, 2.0)\n",
      "(56, 4.0)\n",
      "(57, 1.0)\n",
      "(58, 2.0)\n",
      "(59, 1.0)\n",
      "(60, 1.0)\n",
      "(61, 1.0)\n",
      "(62, 1.0)\n",
      "(63, 1.0)\n",
      "(64, 1.0)\n",
      "(65, 1.0)\n",
      "(66, 1.0)\n",
      "(67, 1.0)\n",
      "(68, 1.0)\n",
      "(69, 2.0)\n",
      "(70, 2.0)\n",
      "(71, 1.0)\n",
      "(72, 1.0)\n",
      "(73, 1.0)\n",
      "(74, 1.0)\n",
      "(75, 1.0)\n",
      "(76, 1.0)\n",
      "(77, 1.0)\n",
      "(78, 1.0)\n",
      "(79, 1.0)\n",
      "(80, 1.0)\n",
      "(81, 1.0)\n",
      "(82, 1.0)\n",
      "(83, 1.0)\n",
      "(84, 1.0)\n"
     ]
    },
    {
     "data": {
      "text/plain": [
       "[(0, 2.0),\n",
       " (1, 2.0),\n",
       " (2, 2.0),\n",
       " (3, 2.0),\n",
       " (4, 1.0),\n",
       " (5, 5.0),\n",
       " (6, 10.0),\n",
       " (7, 2.0),\n",
       " (8, 1.0),\n",
       " (9, 4.0),\n",
       " (10, 1.0),\n",
       " (11, 4.0),\n",
       " (12, 4.0),\n",
       " (13, 8.0),\n",
       " (14, 5.0),\n",
       " (15, 4.0),\n",
       " (16, 1.0),\n",
       " (17, 8.0),\n",
       " (18, 2.0),\n",
       " (19, 2.0),\n",
       " (20, 1.0),\n",
       " (21, 2.0),\n",
       " (22, 6.0),\n",
       " (23, 4.0),\n",
       " (24, 5.0),\n",
       " (25, 2.0),\n",
       " (26, 1.0),\n",
       " (27, 1.0),\n",
       " (28, 5.0),\n",
       " (29, 1.0),\n",
       " (30, 3.0),\n",
       " (31, 1.0),\n",
       " (32, 1.0),\n",
       " (33, 1.0),\n",
       " (34, 1.0),\n",
       " (35, 1.0),\n",
       " (36, 1.0),\n",
       " (37, 1.0),\n",
       " (38, 2.0),\n",
       " (39, 1.0),\n",
       " (40, 1.0),\n",
       " (41, 1.0),\n",
       " (42, 1.0),\n",
       " (43, 2.0),\n",
       " (44, 1.0),\n",
       " (45, 2.0),\n",
       " (46, 1.0),\n",
       " (47, 1.0),\n",
       " (48, 1.0),\n",
       " (49, 1.0),\n",
       " (50, 1.0),\n",
       " (51, 3.0),\n",
       " (52, 3.0),\n",
       " (53, 3.0),\n",
       " (54, 5.0),\n",
       " (55, 2.0),\n",
       " (56, 4.0),\n",
       " (57, 1.0),\n",
       " (58, 2.0),\n",
       " (59, 1.0),\n",
       " (60, 1.0),\n",
       " (61, 1.0),\n",
       " (62, 1.0),\n",
       " (63, 1.0),\n",
       " (64, 1.0),\n",
       " (65, 1.0),\n",
       " (66, 1.0),\n",
       " (67, 1.0),\n",
       " (68, 1.0),\n",
       " (69, 2.0),\n",
       " (70, 2.0),\n",
       " (71, 1.0),\n",
       " (72, 1.0),\n",
       " (73, 1.0),\n",
       " (74, 1.0),\n",
       " (75, 1.0),\n",
       " (76, 1.0),\n",
       " (77, 1.0),\n",
       " (78, 1.0),\n",
       " (79, 1.0),\n",
       " (80, 1.0),\n",
       " (81, 1.0),\n",
       " (82, 1.0),\n",
       " (83, 1.0),\n",
       " (84, 1.0)]"
      ]
     },
     "execution_count": 4,
     "metadata": {},
     "output_type": "execute_result"
    }
   ],
   "source": [
    "corpus[0]"
   ]
  },
  {
   "cell_type": "code",
   "execution_count": 28,
   "metadata": {
    "ExecuteTime": {
     "end_time": "2017-07-18T08:07:59.292205Z",
     "start_time": "2017-07-18T08:07:59.140118Z"
    },
    "collapsed": true,
    "hidden": true
   },
   "outputs": [],
   "source": [
    "with open(fn, 'r') as f:\n",
    "    doc_text = f.read()\n",
    "doc_bow = dictionary.doc2bow(tokenize(doc_text))\n"
   ]
  },
  {
   "cell_type": "code",
   "execution_count": 29,
   "metadata": {
    "ExecuteTime": {
     "end_time": "2017-07-18T08:08:00.759670Z",
     "start_time": "2017-07-18T08:08:00.755812Z"
    },
    "hidden": true
   },
   "outputs": [
    {
     "data": {
      "text/plain": [
       "'../data/FIPS/sims/ea41a120-5061-e906-1656-77d09e83ca90.txt'"
      ]
     },
     "execution_count": 29,
     "metadata": {},
     "output_type": "execute_result"
    }
   ],
   "source": [
    "fn"
   ]
  },
  {
   "cell_type": "code",
   "execution_count": 30,
   "metadata": {
    "ExecuteTime": {
     "end_time": "2017-07-18T08:08:02.743037Z",
     "start_time": "2017-07-18T08:08:02.694544Z"
    },
    "hidden": true
   },
   "outputs": [
    {
     "data": {
      "text/plain": [
       "584"
      ]
     },
     "execution_count": 30,
     "metadata": {},
     "output_type": "execute_result"
    }
   ],
   "source": [
    "len(dictionary.doc2bow(tokenize(doc_text)))"
   ]
  },
  {
   "cell_type": "code",
   "execution_count": 40,
   "metadata": {
    "ExecuteTime": {
     "end_time": "2017-07-17T18:53:28.115864Z",
     "start_time": "2017-07-17T18:53:28.102453Z"
    },
    "hidden": true
   },
   "outputs": [
    {
     "data": {
      "text/plain": [
       "[(0, 2),\n",
       " (1, 2),\n",
       " (2, 2),\n",
       " (3, 2),\n",
       " (4, 1),\n",
       " (5, 5),\n",
       " (6, 10),\n",
       " (7, 2),\n",
       " (8, 1),\n",
       " (9, 4),\n",
       " (10, 1),\n",
       " (11, 4),\n",
       " (12, 4),\n",
       " (13, 8),\n",
       " (14, 5),\n",
       " (15, 4),\n",
       " (16, 1),\n",
       " (17, 8),\n",
       " (18, 2),\n",
       " (19, 2),\n",
       " (20, 1),\n",
       " (21, 2),\n",
       " (22, 6),\n",
       " (23, 4),\n",
       " (24, 5),\n",
       " (25, 2),\n",
       " (26, 1),\n",
       " (27, 1),\n",
       " (28, 5),\n",
       " (29, 1),\n",
       " (30, 3),\n",
       " (31, 1),\n",
       " (32, 1),\n",
       " (33, 1),\n",
       " (34, 1),\n",
       " (35, 1),\n",
       " (36, 1),\n",
       " (37, 1),\n",
       " (38, 2),\n",
       " (39, 1),\n",
       " (40, 1),\n",
       " (41, 1),\n",
       " (42, 1),\n",
       " (43, 2),\n",
       " (44, 1),\n",
       " (45, 2),\n",
       " (46, 1),\n",
       " (47, 1),\n",
       " (48, 1),\n",
       " (49, 1),\n",
       " (50, 1),\n",
       " (51, 3),\n",
       " (52, 3),\n",
       " (53, 3),\n",
       " (54, 5),\n",
       " (55, 2),\n",
       " (56, 4),\n",
       " (57, 1),\n",
       " (58, 2),\n",
       " (59, 1),\n",
       " (60, 1),\n",
       " (61, 1),\n",
       " (62, 1),\n",
       " (63, 1),\n",
       " (64, 1),\n",
       " (65, 1),\n",
       " (66, 1),\n",
       " (67, 1),\n",
       " (68, 1),\n",
       " (69, 2),\n",
       " (70, 2),\n",
       " (71, 1),\n",
       " (72, 1),\n",
       " (73, 1),\n",
       " (74, 1),\n",
       " (75, 1),\n",
       " (76, 1),\n",
       " (77, 1),\n",
       " (78, 1),\n",
       " (79, 1),\n",
       " (80, 1),\n",
       " (81, 1),\n",
       " (82, 1),\n",
       " (83, 1),\n",
       " (84, 1),\n",
       " (77191, 1),\n",
       " (140329, 4),\n",
       " (152061, 2),\n",
       " (158962, 2),\n",
       " (162982, 4),\n",
       " (164197, 5),\n",
       " (190204, 1),\n",
       " (204873, 1),\n",
       " (208467, 3),\n",
       " (253659, 6),\n",
       " (432133, 2),\n",
       " (663064, 1),\n",
       " (669514, 4),\n",
       " (669521, 1),\n",
       " (669539, 7),\n",
       " (669540, 2),\n",
       " (669551, 2),\n",
       " (669553, 5),\n",
       " (669563, 1),\n",
       " (669565, 3),\n",
       " (669610, 2),\n",
       " (669614, 1),\n",
       " (669620, 3),\n",
       " (669622, 1),\n",
       " (669627, 3),\n",
       " (669726, 1),\n",
       " (669729, 2),\n",
       " (696026, 1),\n",
       " (884879, 4),\n",
       " (998715, 1),\n",
       " (1105256, 4),\n",
       " (2921590, 1),\n",
       " (3111483, 1),\n",
       " (3496752, 2),\n",
       " (3496761, 1),\n",
       " (3496766, 1),\n",
       " (3496843, 2)]"
      ]
     },
     "execution_count": 40,
     "metadata": {},
     "output_type": "execute_result"
    }
   ],
   "source": [
    "dictionary.doc2bow(tokenize(doc_text))"
   ]
  },
  {
   "cell_type": "code",
   "execution_count": 37,
   "metadata": {
    "ExecuteTime": {
     "end_time": "2017-07-17T18:52:50.370441Z",
     "start_time": "2017-07-17T18:52:48.212822Z"
    },
    "collapsed": true,
    "hidden": true
   },
   "outputs": [],
   "source": [
    "dictionary.compactify()"
   ]
  },
  {
   "cell_type": "code",
   "execution_count": 29,
   "metadata": {
    "ExecuteTime": {
     "end_time": "2017-07-17T18:44:34.720850Z",
     "start_time": "2017-07-17T18:44:34.716537Z"
    },
    "hidden": true
   },
   "outputs": [
    {
     "data": {
      "text/plain": [
       "'ось'"
      ]
     },
     "execution_count": 29,
     "metadata": {},
     "output_type": "execute_result"
    }
   ],
   "source": [
    "dictionary[77191]"
   ]
  },
  {
   "cell_type": "code",
   "execution_count": 36,
   "metadata": {
    "ExecuteTime": {
     "end_time": "2017-07-17T18:50:44.394036Z",
     "start_time": "2017-07-17T18:50:44.390859Z"
    },
    "hidden": true
   },
   "outputs": [
    {
     "data": {
      "text/plain": [
       "'../data/FIPS/Inventions applications_txt_output/fc/fc/2006108155A20070920RU.txt'"
      ]
     },
     "execution_count": 36,
     "metadata": {},
     "output_type": "execute_result"
    }
   ],
   "source": [
    "fn"
   ]
  },
  {
   "cell_type": "code",
   "execution_count": 174,
   "metadata": {
    "ExecuteTime": {
     "end_time": "2017-07-12T17:29:40.883424Z",
     "start_time": "2017-07-12T17:29:40.877044Z"
    },
    "hidden": true
   },
   "outputs": [
    {
     "data": {
      "text/plain": [
       "array([[ 0.92320651,  0.85087204]], dtype=float32)"
      ]
     },
     "execution_count": 174,
     "metadata": {},
     "output_type": "execute_result"
    }
   ],
   "source": [
    "cosine_similarity([v0], [v1,v2])"
   ]
  },
  {
   "cell_type": "code",
   "execution_count": 92,
   "metadata": {
    "ExecuteTime": {
     "end_time": "2017-07-12T16:29:14.790288Z",
     "start_time": "2017-07-12T16:29:09.704902Z"
    },
    "hidden": true,
    "scrolled": true
   },
   "outputs": [
    {
     "name": "stdout",
     "output_type": "stream",
     "text": [
      "_0d_82_2010144827A10010101RU\n",
      "0.0\n",
      "_0d_d0_2012149322A10010101RU\n",
      "0.0\n",
      "_0f_9f_2013108475A10010101RU\n",
      "0.0\n",
      "_25_36_2012142795A10010101RU\n",
      "0.0\n",
      "_4d_d9_2011149879A10010101RU\n",
      "0.0\n",
      "_52_47_2012138509A10010101RU\n",
      "0.0\n",
      "_57_a3_2012144705A10010101RU\n",
      "0.0\n",
      "_72_c5_2010120453A10010101RU\n",
      "0.0\n",
      "_7e_d0_2011112909A10010101RU\n",
      "0.0\n",
      "_84_13_2011104963A10010101RU\n",
      "0.0\n",
      "_ac_9f_2011109623A10010101RU\n",
      "0.0\n",
      "_b8_11_2009110549A10010101RU\n",
      "0.0\n",
      "_d4_35_2012153580A10010101RU\n",
      "0.0\n",
      "_d7_3e_2009105226A10010101RU\n",
      "0.0\n",
      "_d9_f0_2012101404A10010101RU\n",
      "0.0\n",
      "_db_65_2011101596A10010101RU\n",
      "0.0\n",
      "_f1_14_2010105546A10010101RU\n",
      "0.0\n",
      "_f4_fc_2011105501A10010101RU\n",
      "0.0\n",
      "_f8_6d_2014106177A10010101RU\n",
      "0.0\n"
     ]
    },
    {
     "data": {
      "image/png": "[encoded data removed]",
      "text/plain": [
       "<matplotlib.figure.Figure at 0x7f5c31dcd668>"
      ]
     },
     "metadata": {},
     "output_type": "display_data"
    },
    {
     "name": "stdout",
     "output_type": "stream",
     "text": [
      "0.36666666666666664\n"
     ]
    }
   ],
   "source": [
    "l = []\n",
    "lens = []\n",
    "for k,v in gold.items():\n",
    "    b = best[k]\n",
    "    f = 0\n",
    "    tlen_list = []\n",
    "    for vi in v:\n",
    "        f += int(vi in b[:20])\n",
    "        fn = [s for s in all_docs if vi in s][0]\n",
    "        with open(fn, 'r') as fil:\n",
    "            text = fil.read()\n",
    "        tlen = len(tokenize(text))\n",
    "        tlen_list.append(tlen)\n",
    "#         print(tlen)\n",
    "        \n",
    "    li = f/len(v)\n",
    "    if li==0:\n",
    "        print(k)\n",
    "        print(li)\n",
    "    l.append(li)\n",
    "    lens.append(tlen_list)\n",
    "\n",
    "ax = pd.Series(l).hist()\n",
    "plt.show()\n",
    "print(pd.Series(l).mean())"
   ]
  },
  {
   "cell_type": "code",
   "execution_count": 86,
   "metadata": {
    "ExecuteTime": {
     "end_time": "2017-07-12T16:07:59.456366Z",
     "start_time": "2017-07-12T16:07:59.398758Z"
    },
    "hidden": true,
    "scrolled": true
   },
   "outputs": [
    {
     "data": {
      "text/html": [
       "<div>\n",
       "<style>\n",
       "    .dataframe thead tr:only-child th {\n",
       "        text-align: right;\n",
       "    }\n",
       "\n",
       "    .dataframe thead th {\n",
       "        text-align: left;\n",
       "    }\n",
       "\n",
       "    .dataframe tbody tr th {\n",
       "        vertical-align: top;\n",
       "    }\n",
       "</style>\n",
       "<table border=\"1\" class=\"dataframe\">\n",
       "  <thead>\n",
       "    <tr style=\"text-align: right;\">\n",
       "      <th></th>\n",
       "      <th>l</th>\n",
       "      <th>lens</th>\n",
       "    </tr>\n",
       "  </thead>\n",
       "  <tbody>\n",
       "    <tr>\n",
       "      <th>0</th>\n",
       "      <td>0.0</td>\n",
       "      <td>[51]</td>\n",
       "    </tr>\n",
       "    <tr>\n",
       "      <th>1</th>\n",
       "      <td>0.0</td>\n",
       "      <td>[773]</td>\n",
       "    </tr>\n",
       "    <tr>\n",
       "      <th>2</th>\n",
       "      <td>1.0</td>\n",
       "      <td>[425, 182]</td>\n",
       "    </tr>\n",
       "    <tr>\n",
       "      <th>3</th>\n",
       "      <td>0.0</td>\n",
       "      <td>[1028]</td>\n",
       "    </tr>\n",
       "    <tr>\n",
       "      <th>4</th>\n",
       "      <td>1.0</td>\n",
       "      <td>[284]</td>\n",
       "    </tr>\n",
       "    <tr>\n",
       "      <th>5</th>\n",
       "      <td>1.0</td>\n",
       "      <td>[179]</td>\n",
       "    </tr>\n",
       "    <tr>\n",
       "      <th>6</th>\n",
       "      <td>0.0</td>\n",
       "      <td>[74]</td>\n",
       "    </tr>\n",
       "    <tr>\n",
       "      <th>7</th>\n",
       "      <td>1.0</td>\n",
       "      <td>[44]</td>\n",
       "    </tr>\n",
       "    <tr>\n",
       "      <th>8</th>\n",
       "      <td>0.0</td>\n",
       "      <td>[1223]</td>\n",
       "    </tr>\n",
       "    <tr>\n",
       "      <th>9</th>\n",
       "      <td>0.0</td>\n",
       "      <td>[45]</td>\n",
       "    </tr>\n",
       "    <tr>\n",
       "      <th>10</th>\n",
       "      <td>1.0</td>\n",
       "      <td>[1175]</td>\n",
       "    </tr>\n",
       "    <tr>\n",
       "      <th>11</th>\n",
       "      <td>0.0</td>\n",
       "      <td>[578]</td>\n",
       "    </tr>\n",
       "    <tr>\n",
       "      <th>12</th>\n",
       "      <td>1.0</td>\n",
       "      <td>[914, 498]</td>\n",
       "    </tr>\n",
       "    <tr>\n",
       "      <th>13</th>\n",
       "      <td>0.0</td>\n",
       "      <td>[1590]</td>\n",
       "    </tr>\n",
       "    <tr>\n",
       "      <th>14</th>\n",
       "      <td>1.0</td>\n",
       "      <td>[1255]</td>\n",
       "    </tr>\n",
       "    <tr>\n",
       "      <th>15</th>\n",
       "      <td>0.0</td>\n",
       "      <td>[128]</td>\n",
       "    </tr>\n",
       "    <tr>\n",
       "      <th>16</th>\n",
       "      <td>0.0</td>\n",
       "      <td>[3471]</td>\n",
       "    </tr>\n",
       "    <tr>\n",
       "      <th>17</th>\n",
       "      <td>0.0</td>\n",
       "      <td>[1729]</td>\n",
       "    </tr>\n",
       "    <tr>\n",
       "      <th>18</th>\n",
       "      <td>1.0</td>\n",
       "      <td>[313]</td>\n",
       "    </tr>\n",
       "    <tr>\n",
       "      <th>19</th>\n",
       "      <td>1.0</td>\n",
       "      <td>[46]</td>\n",
       "    </tr>\n",
       "    <tr>\n",
       "      <th>20</th>\n",
       "      <td>0.0</td>\n",
       "      <td>[89]</td>\n",
       "    </tr>\n",
       "    <tr>\n",
       "      <th>21</th>\n",
       "      <td>1.0</td>\n",
       "      <td>[952]</td>\n",
       "    </tr>\n",
       "    <tr>\n",
       "      <th>22</th>\n",
       "      <td>0.0</td>\n",
       "      <td>[165]</td>\n",
       "    </tr>\n",
       "    <tr>\n",
       "      <th>23</th>\n",
       "      <td>0.0</td>\n",
       "      <td>[6214, 254]</td>\n",
       "    </tr>\n",
       "    <tr>\n",
       "      <th>24</th>\n",
       "      <td>0.0</td>\n",
       "      <td>[63]</td>\n",
       "    </tr>\n",
       "    <tr>\n",
       "      <th>25</th>\n",
       "      <td>0.0</td>\n",
       "      <td>[1219]</td>\n",
       "    </tr>\n",
       "    <tr>\n",
       "      <th>26</th>\n",
       "      <td>0.0</td>\n",
       "      <td>[518]</td>\n",
       "    </tr>\n",
       "    <tr>\n",
       "      <th>27</th>\n",
       "      <td>0.0</td>\n",
       "      <td>[88]</td>\n",
       "    </tr>\n",
       "    <tr>\n",
       "      <th>28</th>\n",
       "      <td>0.0</td>\n",
       "      <td>[50]</td>\n",
       "    </tr>\n",
       "    <tr>\n",
       "      <th>29</th>\n",
       "      <td>1.0</td>\n",
       "      <td>[3097]</td>\n",
       "    </tr>\n",
       "  </tbody>\n",
       "</table>\n",
       "</div>"
      ],
      "text/plain": [
       "      l         lens\n",
       "0   0.0         [51]\n",
       "1   0.0        [773]\n",
       "2   1.0   [425, 182]\n",
       "3   0.0       [1028]\n",
       "4   1.0        [284]\n",
       "5   1.0        [179]\n",
       "6   0.0         [74]\n",
       "7   1.0         [44]\n",
       "8   0.0       [1223]\n",
       "9   0.0         [45]\n",
       "10  1.0       [1175]\n",
       "11  0.0        [578]\n",
       "12  1.0   [914, 498]\n",
       "13  0.0       [1590]\n",
       "14  1.0       [1255]\n",
       "15  0.0        [128]\n",
       "16  0.0       [3471]\n",
       "17  0.0       [1729]\n",
       "18  1.0        [313]\n",
       "19  1.0         [46]\n",
       "20  0.0         [89]\n",
       "21  1.0        [952]\n",
       "22  0.0        [165]\n",
       "23  0.0  [6214, 254]\n",
       "24  0.0         [63]\n",
       "25  0.0       [1219]\n",
       "26  0.0        [518]\n",
       "27  0.0         [88]\n",
       "28  0.0         [50]\n",
       "29  1.0       [3097]"
      ]
     },
     "execution_count": 86,
     "metadata": {},
     "output_type": "execute_result"
    }
   ],
   "source": [
    "df = pd.DataFrame()\n",
    "df['l'] = l\n",
    "df['lens'] = lens\n",
    "df"
   ]
  },
  {
   "cell_type": "markdown",
   "metadata": {
    "heading_collapsed": true
   },
   "source": [
    "# Experiments"
   ]
  },
  {
   "cell_type": "raw",
   "metadata": {
    "hidden": true
   },
   "source": [
    "1. nword = 10\n",
    "median\n",
    "acc10     0.0\n",
    "acc20     0.2\n",
    "acc200    0.5\n",
    "mean\n",
    "acc10     0.360327\n",
    "acc20     0.420654\n",
    "acc200    0.510225\n",
    "\n",
    "2.nword = 10, softmax\n",
    "median\n",
    "acc10     0.000000\n",
    "acc20     0.333333\n",
    "acc200    0.500000\n",
    "mean\n",
    "acc10     0.385890\n",
    "acc20     0.442331\n",
    "acc200    0.549080\n",
    "\n",
    "3. nword=100, softmax\n",
    "median\n",
    "acc10     0.0\n",
    "acc20     0.0\n",
    "acc200    0.5\n",
    "mean\n",
    "acc10     0.329243\n",
    "acc20     0.387526\n",
    "acc200    0.540389\n",
    "\n",
    "4. nword=10, dim=300, average simple\n",
    "median\n",
    "acc10     0.5\n",
    "acc20     1.0\n",
    "acc200    1.0\n",
    "dtype: float64\n",
    "mean\n",
    "acc10     0.519632\n",
    "acc20     0.610123\n",
    "acc200    0.832720\n",
    "dtype: float64\n",
    "\n",
    "5. nword=10, dim=300, tfidf weights\n",
    "median\n",
    "acc10     0.5\n",
    "acc20     1.0\n",
    "acc200    1.0\n",
    "dtype: float64\n",
    "mean\n",
    "acc10     0.528834\n",
    "acc20     0.625869\n",
    "acc200    0.838855\n",
    "6.nword=20, dim=300, tfidf weights\n",
    "median\n",
    "acc10     1.0\n",
    "acc20     1.0\n",
    "acc200    1.0\n",
    "dtype: float64\n",
    "mean\n",
    "acc10     0.640286\n",
    "acc20     0.689571\n",
    "acc200    0.871166\n",
    "dtype: float64\n",
    "7.nword=100, dim=300, tfidf weights\n",
    "median\n",
    "acc10     0.5\n",
    "acc20     1.0\n",
    "acc200    1.0\n",
    "dtype: float64\n",
    "mean\n",
    "acc10     0.523926\n",
    "acc20     0.580164\n",
    "acc200    0.729857\n",
    "dtype: float64\n",
    "8.nword=30, dim=300, tfidf weights\n",
    "median\n",
    "acc10     1.0\n",
    "acc20     1.0\n",
    "acc200    1.0\n",
    "dtype: float64\n",
    "mean\n",
    "acc10     0.602863\n",
    "acc20     0.663599\n",
    "acc200    0.832106\n",
    "9.nword=15, dim=300, tfidf weights\n",
    "median\n",
    "acc10     1.0\n",
    "acc20     1.0\n",
    "acc200    1.0\n",
    "dtype: float64\n",
    "mean\n",
    "acc10     0.633742\n",
    "acc20     0.728221\n",
    "acc200    0.884458\n",
    "10.nword=5, dim=300, tfidf weights\n",
    "median\n",
    "acc10     0.0\n",
    "acc20     0.0\n",
    "acc200    1.0\n",
    "dtype: float64\n",
    "mean\n",
    "acc10     0.321166\n",
    "acc20     0.369427\n",
    "acc200    0.612577\n",
    "11.nword=13, dim=300, tfidf weights\n",
    "median\n",
    "acc10     1.0\n",
    "acc20     1.0\n",
    "acc200    1.0\n",
    "dtype: float64\n",
    "mean\n",
    "acc10     0.605930\n",
    "acc20     0.676687\n",
    "acc200    0.840286"
   ]
  },
  {
   "cell_type": "markdown",
   "metadata": {
    "heading_collapsed": true
   },
   "source": [
    "# Save"
   ]
  },
  {
   "cell_type": "code",
   "execution_count": 19,
   "metadata": {
    "ExecuteTime": {
     "end_time": "2017-07-05T22:51:59.061906Z",
     "start_time": "2017-07-05T22:51:59.058839Z"
    },
    "collapsed": true,
    "hidden": true
   },
   "outputs": [],
   "source": [
    "test_vecs = np.array(test_vecs)\n",
    "train_vecs = np.array(train_vecs)"
   ]
  },
  {
   "cell_type": "code",
   "execution_count": 20,
   "metadata": {
    "ExecuteTime": {
     "end_time": "2017-07-05T22:51:59.086742Z",
     "start_time": "2017-07-05T22:51:59.063058Z"
    },
    "collapsed": true,
    "hidden": true
   },
   "outputs": [],
   "source": [
    "# np.save(join(DATA_FOLDER, 'bov_test_vecs.npy'), test_vecs)\n",
    "# np.save(join(DATA_FOLDER, 'bov_train_vecs.npy'), train_vecs)"
   ]
  },
  {
   "cell_type": "markdown",
   "metadata": {
    "heading_collapsed": true
   },
   "source": [
    "# Tensorboard visualization"
   ]
  },
  {
   "cell_type": "code",
   "execution_count": 88,
   "metadata": {
    "ExecuteTime": {
     "end_time": "2017-07-09T10:10:53.611780Z",
     "start_time": "2017-07-09T10:10:53.593138Z"
    },
    "collapsed": true,
    "hidden": true
   },
   "outputs": [],
   "source": [
    "import tensorflow as tf\n",
    "from tensorflow.contrib.tensorboard.plugins import projector\n",
    "\n",
    "from operator import itemgetter \n",
    "from random import sample"
   ]
  },
  {
   "cell_type": "code",
   "execution_count": 89,
   "metadata": {
    "ExecuteTime": {
     "end_time": "2017-07-09T10:10:54.784746Z",
     "start_time": "2017-07-09T10:10:53.658264Z"
    },
    "collapsed": true,
    "hidden": true
   },
   "outputs": [],
   "source": [
    "# subsample to managebale size\n",
    "samp_ixs = sample(range(len(train_vecs)), 99800)\n",
    "samp = list(itemgetter(*samp_ixs)(train_vecs)) + test_vecs\n",
    "samp_names = list(itemgetter(*samp_ixs)(train_names)) + test_names"
   ]
  },
  {
   "cell_type": "code",
   "execution_count": 90,
   "metadata": {
    "ExecuteTime": {
     "end_time": "2017-07-09T10:10:54.841719Z",
     "start_time": "2017-07-09T10:10:54.786909Z"
    },
    "collapsed": true,
    "hidden": true
   },
   "outputs": [],
   "source": [
    "vocab_size = len(samp)\n",
    "embedding_dim = model.vector_size\n",
    "\n",
    "W = tf.Variable(tf.constant(0.0, shape=[vocab_size, embedding_dim]),\n",
    "                trainable=False, name=\"W\")\n",
    "embedding_placeholder = tf.placeholder(tf.float32, [vocab_size, embedding_dim])\n",
    "embedding_init = W.assign(embedding_placeholder)"
   ]
  },
  {
   "cell_type": "code",
   "execution_count": 91,
   "metadata": {
    "ExecuteTime": {
     "end_time": "2017-07-09T10:10:56.484505Z",
     "start_time": "2017-07-09T10:10:54.843816Z"
    },
    "collapsed": true,
    "hidden": true
   },
   "outputs": [],
   "source": [
    "import csv\n",
    "\n",
    "vocab = dict(enumerate(samp_names))\n",
    "vdf = pd.DataFrame.from_dict(vocab, orient='index')\n",
    "vdf.to_csv('../data/processed_docs/vocab.tsv', header=False, sep='\\t', index=False)\n"
   ]
  },
  {
   "cell_type": "code",
   "execution_count": 92,
   "metadata": {
    "ExecuteTime": {
     "end_time": "2017-07-09T10:14:25.908441Z",
     "start_time": "2017-07-09T10:10:56.486617Z"
    },
    "collapsed": true,
    "hidden": true
   },
   "outputs": [],
   "source": [
    "with tf.Session() as sess:\n",
    "    final_embed_matrix = sess.run(embedding_init, feed_dict={embedding_placeholder: samp})\n",
    "    \n",
    "#     final_embed_matrix = sess.run(weights)\n",
    "\n",
    "    # it has to variable. constants don't work here. you can't reuse model.embed_matrix\n",
    "    embedding_var = tf.Variable(final_embed_matrix, name='documents')\n",
    "    sess.run(embedding_var.initializer)\n",
    "\n",
    "    config = projector.ProjectorConfig()\n",
    "    summary_writer = tf.summary.FileWriter('../data/processed_docs')\n",
    "\n",
    "    # add embedding to the config file\n",
    "    embedding = config.embeddings.add()\n",
    "    embedding.tensor_name = embedding_var.name\n",
    "\n",
    "    # link this tensor to its metadata file, in this case the first 500 words of vocab\n",
    "    embedding.metadata_path = 'vocab.tsv'\n",
    "\n",
    "    # saves a configuration file that TensorBoard will read during startup.\n",
    "    projector.visualize_embeddings(summary_writer, config)\n",
    "    saver_embed = tf.train.Saver([embedding_var])\n",
    "    saver_embed.save(sess, '../data/processed_docs/model3.ckpt', 1)\n"
   ]
  }
 ],
 "metadata": {
  "kernelspec": {
   "display_name": "Python 3",
   "language": "python",
   "name": "python3"
  },
  "language_info": {
   "codemirror_mode": {
    "name": "ipython",
    "version": 3
   },
   "file_extension": ".py",
   "mimetype": "text/x-python",
   "name": "python",
   "nbconvert_exporter": "python",
   "pygments_lexer": "ipython3",
   "version": "3.6.1"
  }
 },
 "nbformat": 4,
 "nbformat_minor": 2
}
